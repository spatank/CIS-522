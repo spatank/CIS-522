{
  "nbformat": 4,
  "nbformat_minor": 0,
  "metadata": {
    "colab": {
      "name": "HW_9_SPP.ipynb",
      "provenance": [],
      "collapsed_sections": [],
      "toc_visible": true,
      "include_colab_link": true
    },
    "kernelspec": {
      "name": "python3",
      "display_name": "Python 3"
    }
  },
  "cells": [
    {
      "cell_type": "markdown",
      "metadata": {
        "id": "view-in-github",
        "colab_type": "text"
      },
      "source": [
        "<a href=\"https://colab.research.google.com/github/spatank/CIS-522/blob/main/Homework/HW_9_SPP.ipynb\" target=\"_parent\"><img src=\"https://colab.research.google.com/assets/colab-badge.svg\" alt=\"Open In Colab\"/></a>"
      ]
    },
    {
      "cell_type": "markdown",
      "metadata": {
        "id": "KKgzsidLGINz"
      },
      "source": [
        "# Week 9 Homework"
      ]
    },
    {
      "cell_type": "code",
      "metadata": {
        "id": "d1GTaygz4aqK",
        "cellView": "form"
      },
      "source": [
        "#@markdown What is your Pennkey and pod? (text, not numbers, e.g. bfranklin)\n",
        "my_pennkey = 'spatank' #@param {type:\"string\"}\n",
        "my_pod = 'sublime-newt' #@param ['Select', 'euclidean-wombat', 'sublime-newt', 'buoyant-unicorn', 'lackadaisical-manatee','indelible-stingray','superfluous-lyrebird','discreet-reindeer','quizzical-goldfish','astute-jellyfish','ubiquitous-cheetah','nonchalant-crocodile','fashionable-lemur','spiffy-eagle','electric-emu','quotidian-lion']\n"
      ],
      "execution_count": 1,
      "outputs": []
    },
    {
      "cell_type": "markdown",
      "metadata": {
        "id": "ajtPqks9C1Qp"
      },
      "source": [
        "## Section 1: Role of social media platforms in mitigating hate speech"
      ]
    },
    {
      "cell_type": "markdown",
      "metadata": {
        "id": "zzCVG642DFed"
      },
      "source": [
        "Social media platforms have instituted not just user policies for online conduct, but also technological mechanisms to identify and remove hate speech.  As an example, review Facebook’s discussion of how its employing AI to identify hate speech.  As you read this article, pay particular attention to the specific challenges they enumerate in identifying hate speech. \n",
        "\n",
        "\"AI advances to better detect hate speech\" \n",
        "\n",
        "https://ai.facebook.com/blog/ai-advances-to-better-detect-hate-speech/\n",
        "\n",
        "*Facebook, 2020* [10-minute read]\n",
        "\n",
        "The Facebook article emphasizes that the challenges to identifying hate speech are both social and technological.  The social considerations include the importance of cultural context as well as the nuances of languages. How does that resonate with the \"Excavating AI: The Politics of Images in Machine Learning Training Sets\" article you read in Week 6?  What do you think of Facebook’s approach? (200-300 words)"
      ]
    },
    {
      "cell_type": "code",
      "metadata": {
        "id": "MOLhvJ8E4pYD",
        "cellView": "form"
      },
      "source": [
        "section1_ans = \"One of the key takeaways of the Excavating AI article was how devoid of context as well as error-prone training data can be. The authors discuss examples from the ImageNet data set that are at best misclassified and at worst problematic. A child dressed in tattered clothes clutching a doll is labelled a \\\"toy\\\", while a pregnant woman with her hand on her stomach is labelled a \\\"snob\\\". Facebook attempts to go around this problem by employing a self-supervised pre-training approach. Instead of relying on human (mis-)labelled data, Facebook AI uses multi-modal training data to generate embeddings that are then fine-tuned downstream to fit a specific task. Additionally, Facebook AI's approach is a step in the right direction as far as contextually better-rounded systems go. They want to incorporate multiple data modalities when determining whether an instance is hate speech or not. This would mean that images are accompanied by text as well as other information such as their captions and counter-speech in associated comments. A training image with an incorrect label is automatically down-weighted in importance when its associated text reveals more context-specific information. Facebook AI also uncovers pre-trained embeddings that are shared across different languages. As a result, hate speech in English and German ends up living closer together in the embedding space than other forms of speech. This allows transfer learning to take place between languages. For a language for which there is little to no training data available, the shared embedding space is likely the only tool available to detect hate speech.\" #@param {type:\"string\"}"
      ],
      "execution_count": 2,
      "outputs": []
    },
    {
      "cell_type": "markdown",
      "metadata": {
        "id": "fIgRA_GXRkLh"
      },
      "source": [
        "## Section 2: Broader societal considerations of addressing hate speech on social media\n"
      ]
    },
    {
      "cell_type": "markdown",
      "metadata": {
        "id": "0_J--GOXC4Bj"
      },
      "source": [
        "Next, read this Medium article about the unintended consequences of technological interventions to address hate speech on social media.\n",
        "\n",
        "\"How Automated Tools Discriminate Against Black Language\"    \n",
        "https://medium.com/@annawchung/how-automated-tools-discriminate-against-black-language-2ac8eab8d6db.  \n",
        "*Medium, 2019* [14-minute read]\n",
        "\n",
        "\"Challenges in Automated Debiasing for Toxic Language Detection\"    \n",
        "https://arxiv.org/pdf/2102.00086.pdf.  \n",
        "*Optional – this is much longer and more technical!!!*\n",
        "\n",
        "How does this example illustrate the complexity of identifying hate speech?  What solutions does the author suggest? Why is it important that AI practitioners have a robust understanding of the societal context and consequence of their work? (1-2 paragraphs)"
      ]
    },
    {
      "cell_type": "code",
      "metadata": {
        "cellView": "form",
        "id": "0HhP9MqW41tY"
      },
      "source": [
        "section2_ans = 'This example focusses on the difficulties introduced by dialects of languages used by minorities. If the training data does not contain a diverse enough representation of dialects, it is likely that an ML model trained on this data will be biased towards the way a majority uses a language. The author suggests that it is important for developers in such instances to document the biases in their technologies and be transparent about them to end-users. On a more systemic level, the author suggests increasing diversity in the training data. Finally, the author recommends institutional changes to reduce barriers to entry in tech fields for minorities. This last measure has the most significant knock-on effect on deployed technology since diversity amongst developers translates into diversity in outcomes. People who use minority dialects are more likely to notice that biased algorithms mislabel instances from these dialects, and then act to fix the technology.' #@param {type:\"string\"}"
      ],
      "execution_count": 3,
      "outputs": []
    },
    {
      "cell_type": "markdown",
      "metadata": {
        "id": "d3A3u4yjC6B-"
      },
      "source": [
        "## Section 3: Ablation Study on LSTMs"
      ]
    },
    {
      "cell_type": "markdown",
      "metadata": {
        "id": "HujG0E6VUXzx"
      },
      "source": [
        "In the tutorials we learnt about the different gates in LSTMs. We also learnt about GRUs that have fewer components than LSTMs but work reasonably well. In this section of the homework you will conduct an ablation study for LSTMs. You will be working on text generation task. The model will be trained on H. G. Wells’ *The Time Machine*.\n",
        "\n",
        "In order to have a baseline, first intialize the weights and implement the gates of a LSTM. \n",
        "\n",
        "For the ablation study change different components listed below (these are suggestions, you are free to use your own ideas as well) and observe the effects on performance. \n",
        "- Initialization\n",
        "- Number of gates\n",
        "- Replacing sigmoid, tanh with other functions\n",
        "- Changing the inputs used for each recurrent unit\n",
        "\n",
        "You will make changes in the `get_lstm_params` and `lstm` functions. We have provided code for forward and backward propagation, training and a sample code to see the text generation results. \n",
        "(Please remember to to return tensors with the same shape as the LSTM you will implement to ensure end to end training.)"
      ]
    },
    {
      "cell_type": "code",
      "metadata": {
        "id": "C8F7j01s3eu_",
        "cellView": "form",
        "colab": {
          "base_uri": "https://localhost:8080/"
        },
        "outputId": "8a4c5a0d-ccc4-4a04-e9d1-bc8ad05aa4b3"
      },
      "source": [
        "#@title Imports\n",
        "!pip install d2l\n",
        "\n",
        "import torch\n",
        "from torch import nn\n",
        "from d2l import torch as d2l\n",
        "from torch.nn import functional as F\n",
        "import math"
      ],
      "execution_count": 4,
      "outputs": [
        {
          "output_type": "stream",
          "text": [
            "Collecting d2l\n",
            "\u001b[?25l  Downloading https://files.pythonhosted.org/packages/d0/1f/13de7e8cafaba15739caee0596032412aaf51a22726649b317bdb53c4f9a/d2l-0.16.2-py3-none-any.whl (77kB)\n",
            "\r\u001b[K     |████▎                           | 10kB 15.2MB/s eta 0:00:01\r\u001b[K     |████████▌                       | 20kB 11.0MB/s eta 0:00:01\r\u001b[K     |████████████▊                   | 30kB 6.4MB/s eta 0:00:01\r\u001b[K     |█████████████████               | 40kB 7.8MB/s eta 0:00:01\r\u001b[K     |█████████████████████▏          | 51kB 4.6MB/s eta 0:00:01\r\u001b[K     |█████████████████████████▌      | 61kB 5.1MB/s eta 0:00:01\r\u001b[K     |█████████████████████████████▊  | 71kB 5.2MB/s eta 0:00:01\r\u001b[K     |████████████████████████████████| 81kB 3.5MB/s \n",
            "\u001b[?25hRequirement already satisfied: pandas in /usr/local/lib/python3.7/dist-packages (from d2l) (1.1.5)\n",
            "Requirement already satisfied: jupyter in /usr/local/lib/python3.7/dist-packages (from d2l) (1.0.0)\n",
            "Requirement already satisfied: requests in /usr/local/lib/python3.7/dist-packages (from d2l) (2.23.0)\n",
            "Requirement already satisfied: matplotlib in /usr/local/lib/python3.7/dist-packages (from d2l) (3.2.2)\n",
            "Requirement already satisfied: numpy in /usr/local/lib/python3.7/dist-packages (from d2l) (1.19.5)\n",
            "Requirement already satisfied: pytz>=2017.2 in /usr/local/lib/python3.7/dist-packages (from pandas->d2l) (2018.9)\n",
            "Requirement already satisfied: python-dateutil>=2.7.3 in /usr/local/lib/python3.7/dist-packages (from pandas->d2l) (2.8.1)\n",
            "Requirement already satisfied: notebook in /usr/local/lib/python3.7/dist-packages (from jupyter->d2l) (5.3.1)\n",
            "Requirement already satisfied: ipywidgets in /usr/local/lib/python3.7/dist-packages (from jupyter->d2l) (7.6.3)\n",
            "Requirement already satisfied: qtconsole in /usr/local/lib/python3.7/dist-packages (from jupyter->d2l) (5.0.3)\n",
            "Requirement already satisfied: ipykernel in /usr/local/lib/python3.7/dist-packages (from jupyter->d2l) (4.10.1)\n",
            "Requirement already satisfied: jupyter-console in /usr/local/lib/python3.7/dist-packages (from jupyter->d2l) (5.2.0)\n",
            "Requirement already satisfied: nbconvert in /usr/local/lib/python3.7/dist-packages (from jupyter->d2l) (5.6.1)\n",
            "Requirement already satisfied: urllib3!=1.25.0,!=1.25.1,<1.26,>=1.21.1 in /usr/local/lib/python3.7/dist-packages (from requests->d2l) (1.24.3)\n",
            "Requirement already satisfied: certifi>=2017.4.17 in /usr/local/lib/python3.7/dist-packages (from requests->d2l) (2020.12.5)\n",
            "Requirement already satisfied: chardet<4,>=3.0.2 in /usr/local/lib/python3.7/dist-packages (from requests->d2l) (3.0.4)\n",
            "Requirement already satisfied: idna<3,>=2.5 in /usr/local/lib/python3.7/dist-packages (from requests->d2l) (2.10)\n",
            "Requirement already satisfied: kiwisolver>=1.0.1 in /usr/local/lib/python3.7/dist-packages (from matplotlib->d2l) (1.3.1)\n",
            "Requirement already satisfied: pyparsing!=2.0.4,!=2.1.2,!=2.1.6,>=2.0.1 in /usr/local/lib/python3.7/dist-packages (from matplotlib->d2l) (2.4.7)\n",
            "Requirement already satisfied: cycler>=0.10 in /usr/local/lib/python3.7/dist-packages (from matplotlib->d2l) (0.10.0)\n",
            "Requirement already satisfied: six>=1.5 in /usr/local/lib/python3.7/dist-packages (from python-dateutil>=2.7.3->pandas->d2l) (1.15.0)\n",
            "Requirement already satisfied: jupyter-client>=5.2.0 in /usr/local/lib/python3.7/dist-packages (from notebook->jupyter->d2l) (5.3.5)\n",
            "Requirement already satisfied: nbformat in /usr/local/lib/python3.7/dist-packages (from notebook->jupyter->d2l) (5.1.2)\n",
            "Requirement already satisfied: terminado>=0.8.1 in /usr/local/lib/python3.7/dist-packages (from notebook->jupyter->d2l) (0.9.3)\n",
            "Requirement already satisfied: traitlets>=4.2.1 in /usr/local/lib/python3.7/dist-packages (from notebook->jupyter->d2l) (5.0.5)\n",
            "Requirement already satisfied: ipython-genutils in /usr/local/lib/python3.7/dist-packages (from notebook->jupyter->d2l) (0.2.0)\n",
            "Requirement already satisfied: Send2Trash in /usr/local/lib/python3.7/dist-packages (from notebook->jupyter->d2l) (1.5.0)\n",
            "Requirement already satisfied: jupyter-core>=4.4.0 in /usr/local/lib/python3.7/dist-packages (from notebook->jupyter->d2l) (4.7.1)\n",
            "Requirement already satisfied: tornado>=4 in /usr/local/lib/python3.7/dist-packages (from notebook->jupyter->d2l) (5.1.1)\n",
            "Requirement already satisfied: jinja2 in /usr/local/lib/python3.7/dist-packages (from notebook->jupyter->d2l) (2.11.3)\n",
            "Requirement already satisfied: ipython>=4.0.0; python_version >= \"3.3\" in /usr/local/lib/python3.7/dist-packages (from ipywidgets->jupyter->d2l) (5.5.0)\n",
            "Requirement already satisfied: jupyterlab-widgets>=1.0.0; python_version >= \"3.6\" in /usr/local/lib/python3.7/dist-packages (from ipywidgets->jupyter->d2l) (1.0.0)\n",
            "Requirement already satisfied: widgetsnbextension~=3.5.0 in /usr/local/lib/python3.7/dist-packages (from ipywidgets->jupyter->d2l) (3.5.1)\n",
            "Requirement already satisfied: qtpy in /usr/local/lib/python3.7/dist-packages (from qtconsole->jupyter->d2l) (1.9.0)\n",
            "Requirement already satisfied: pygments in /usr/local/lib/python3.7/dist-packages (from qtconsole->jupyter->d2l) (2.6.1)\n",
            "Requirement already satisfied: pyzmq>=17.1 in /usr/local/lib/python3.7/dist-packages (from qtconsole->jupyter->d2l) (22.0.3)\n",
            "Requirement already satisfied: prompt-toolkit<2.0.0,>=1.0.0 in /usr/local/lib/python3.7/dist-packages (from jupyter-console->jupyter->d2l) (1.0.18)\n",
            "Requirement already satisfied: bleach in /usr/local/lib/python3.7/dist-packages (from nbconvert->jupyter->d2l) (3.3.0)\n",
            "Requirement already satisfied: mistune<2,>=0.8.1 in /usr/local/lib/python3.7/dist-packages (from nbconvert->jupyter->d2l) (0.8.4)\n",
            "Requirement already satisfied: testpath in /usr/local/lib/python3.7/dist-packages (from nbconvert->jupyter->d2l) (0.4.4)\n",
            "Requirement already satisfied: pandocfilters>=1.4.1 in /usr/local/lib/python3.7/dist-packages (from nbconvert->jupyter->d2l) (1.4.3)\n",
            "Requirement already satisfied: defusedxml in /usr/local/lib/python3.7/dist-packages (from nbconvert->jupyter->d2l) (0.7.1)\n",
            "Requirement already satisfied: entrypoints>=0.2.2 in /usr/local/lib/python3.7/dist-packages (from nbconvert->jupyter->d2l) (0.3)\n",
            "Requirement already satisfied: jsonschema!=2.5.0,>=2.4 in /usr/local/lib/python3.7/dist-packages (from nbformat->notebook->jupyter->d2l) (2.6.0)\n",
            "Requirement already satisfied: ptyprocess; os_name != \"nt\" in /usr/local/lib/python3.7/dist-packages (from terminado>=0.8.1->notebook->jupyter->d2l) (0.7.0)\n",
            "Requirement already satisfied: MarkupSafe>=0.23 in /usr/local/lib/python3.7/dist-packages (from jinja2->notebook->jupyter->d2l) (1.1.1)\n",
            "Requirement already satisfied: decorator in /usr/local/lib/python3.7/dist-packages (from ipython>=4.0.0; python_version >= \"3.3\"->ipywidgets->jupyter->d2l) (4.4.2)\n",
            "Requirement already satisfied: simplegeneric>0.8 in /usr/local/lib/python3.7/dist-packages (from ipython>=4.0.0; python_version >= \"3.3\"->ipywidgets->jupyter->d2l) (0.8.1)\n",
            "Requirement already satisfied: pickleshare in /usr/local/lib/python3.7/dist-packages (from ipython>=4.0.0; python_version >= \"3.3\"->ipywidgets->jupyter->d2l) (0.7.5)\n",
            "Requirement already satisfied: pexpect; sys_platform != \"win32\" in /usr/local/lib/python3.7/dist-packages (from ipython>=4.0.0; python_version >= \"3.3\"->ipywidgets->jupyter->d2l) (4.8.0)\n",
            "Requirement already satisfied: setuptools>=18.5 in /usr/local/lib/python3.7/dist-packages (from ipython>=4.0.0; python_version >= \"3.3\"->ipywidgets->jupyter->d2l) (54.2.0)\n",
            "Requirement already satisfied: wcwidth in /usr/local/lib/python3.7/dist-packages (from prompt-toolkit<2.0.0,>=1.0.0->jupyter-console->jupyter->d2l) (0.2.5)\n",
            "Requirement already satisfied: webencodings in /usr/local/lib/python3.7/dist-packages (from bleach->nbconvert->jupyter->d2l) (0.5.1)\n",
            "Requirement already satisfied: packaging in /usr/local/lib/python3.7/dist-packages (from bleach->nbconvert->jupyter->d2l) (20.9)\n",
            "Installing collected packages: d2l\n",
            "Successfully installed d2l-0.16.2\n"
          ],
          "name": "stdout"
        }
      ]
    },
    {
      "cell_type": "code",
      "metadata": {
        "id": "MiJvAbGP3pup"
      },
      "source": [
        "# def get_lstm_params(vocab_size, num_hiddens):\n",
        "#   num_inputs = num_outputs = vocab_size\n",
        "#   # Input gate parameters\n",
        "#   W_xi = torch.randn(num_inputs, num_hiddens) * 0.01\n",
        "#   W_hi = torch.randn(num_hiddens, num_hiddens) * 0.01\n",
        "#   b_i = torch.zeros(num_hiddens)\n",
        "#   # Forget gate parameters\n",
        "#   W_xf = torch.randn(num_inputs, num_hiddens) * 0.01\n",
        "#   W_hf = torch.randn(num_hiddens, num_hiddens) * 0.01\n",
        "#   b_f = torch.zeros(num_hiddens)\n",
        "#   # Output gate parameters\n",
        "#   W_xo = torch.randn(num_inputs, num_hiddens) * 0.01\n",
        "#   W_ho = torch.randn(num_hiddens, num_hiddens) * 0.01\n",
        "#   b_o = torch.zeros(num_hiddens)\n",
        "#   # Candidate memory cell parameters\n",
        "#   W_xc = torch.randn(num_inputs, num_hiddens) * 0.01\n",
        "#   W_hc = torch.randn(num_hiddens, num_hiddens) * 0.01\n",
        "#   b_c = torch.zeros(num_hiddens)\n",
        "#   # Output layer parameters\n",
        "#   W_hq = torch.randn(num_hiddens, num_outputs) * 0.01\n",
        "#   b_q = torch.zeros(num_outputs)\n",
        "#   # List all the parameters and attach gradients\n",
        "#   params = [W_xi, W_hi, b_i, \n",
        "#             W_xf, W_hf, b_f, \n",
        "#             W_xo, W_ho, b_o, \n",
        "#             W_xc, W_hc, b_c,\n",
        "#             W_hq, b_q]\n",
        "#   for param in params:\n",
        "#       param.requires_grad_(True)\n",
        "#   return params\n",
        "\n",
        "# def get_lstm_params_input_augmented(vocab_size, num_hiddens):\n",
        "#   num_inputs = num_outputs = vocab_size\n",
        "#   # Input gate parameters\n",
        "#   W_xi = torch.randn(num_inputs + num_hiddens, num_hiddens) * 0.01\n",
        "#   W_hi = torch.randn(num_hiddens, num_hiddens) * 0.01\n",
        "#   b_i = torch.zeros(num_hiddens)\n",
        "#   # Forget gate parameters\n",
        "#   W_xf = torch.randn(num_inputs + num_hiddens, num_hiddens) * 0.01\n",
        "#   W_hf = torch.randn(num_hiddens, num_hiddens) * 0.01\n",
        "#   b_f = torch.zeros(num_hiddens)\n",
        "#   # Output gate parameters\n",
        "#   W_xo = torch.randn(num_inputs + num_hiddens, num_hiddens) * 0.01\n",
        "#   W_ho = torch.randn(num_hiddens, num_hiddens) * 0.01\n",
        "#   b_o = torch.zeros(num_hiddens)\n",
        "#   # Candidate memory cell parameters\n",
        "#   W_xc = torch.randn(num_inputs + num_hiddens, num_hiddens) * 0.01\n",
        "#   W_hc = torch.randn(num_hiddens, num_hiddens) * 0.01\n",
        "#   b_c = torch.zeros(num_hiddens)\n",
        "#   # Output layer parameters\n",
        "#   W_hq = torch.randn(num_hiddens, num_outputs) * 0.01\n",
        "#   b_q = torch.zeros(num_outputs)\n",
        "#   # List all the parameters and attach gradients\n",
        "#   params = [W_xi, W_hi, b_i, \n",
        "#             W_xf, W_hf, b_f, \n",
        "#             W_xo, W_ho, b_o, \n",
        "#             W_xc, W_hc, b_c,\n",
        "#             W_hq, b_q]\n",
        "#   for param in params:\n",
        "#       param.requires_grad_(True)\n",
        "#   return params\n",
        "\n",
        "# def get_lstm_params_minus_forget(vocab_size, num_hiddens):\n",
        "#   num_inputs = num_outputs = vocab_size\n",
        "#   # Input gate parameters\n",
        "#   W_xi = torch.randn(num_inputs, num_hiddens) * 0.01\n",
        "#   W_hi = torch.randn(num_hiddens, num_hiddens) * 0.01\n",
        "#   b_i = torch.zeros(num_hiddens)\n",
        "#   # Output gate parameters\n",
        "#   W_xo = torch.randn(num_inputs, num_hiddens) * 0.01\n",
        "#   W_ho = torch.randn(num_hiddens, num_hiddens) * 0.01\n",
        "#   b_o = torch.zeros(num_hiddens)\n",
        "#   # Candidate memory cell parameters\n",
        "#   W_xc = torch.randn(num_inputs, num_hiddens) * 0.01\n",
        "#   W_hc = torch.randn(num_hiddens, num_hiddens) * 0.01\n",
        "#   b_c = torch.zeros(num_hiddens)\n",
        "#   # Output layer parameters\n",
        "#   W_hq = torch.randn(num_hiddens, num_outputs) * 0.01\n",
        "#   b_q = torch.zeros(num_outputs)\n",
        "#   # List all the parameters and attach gradients\n",
        "#   params = [W_xi, W_hi, b_i, \n",
        "#             W_xo, W_ho, b_o, \n",
        "#             W_xc, W_hc, b_c,\n",
        "#             W_hq, b_q]\n",
        "#   for param in params:\n",
        "#       param.requires_grad_(True)\n",
        "#   return params\n",
        "\n",
        "# def get_lstm_params_Xavier_init(vocab_size, num_hiddens):\n",
        "#   num_inputs = num_outputs = vocab_size\n",
        "#   # Input gate parameters\n",
        "#   W_xi = torch.Tensor(num_inputs, num_hiddens) \n",
        "#   W_hi = torch.Tensor(num_hiddens, num_hiddens) \n",
        "#   b_i = torch.Tensor(num_hiddens)\n",
        "#   # Forget gate parameters\n",
        "#   W_xf = torch.Tensor(num_inputs, num_hiddens) \n",
        "#   W_hf = torch.Tensor(num_hiddens, num_hiddens) \n",
        "#   b_f = torch.Tensor(num_hiddens)\n",
        "#   # Output gate parameters\n",
        "#   W_xo = torch.Tensor(num_inputs, num_hiddens) \n",
        "#   W_ho = torch.Tensor(num_hiddens, num_hiddens) \n",
        "#   b_o = torch.Tensor(num_hiddens)\n",
        "#   # Candidate memory cell parameters\n",
        "#   W_xc = torch.Tensor(num_inputs, num_hiddens) \n",
        "#   W_hc = torch.Tensor(num_hiddens, num_hiddens) \n",
        "#   b_c = torch.Tensor(num_hiddens)\n",
        "#   # Output layer parameters\n",
        "#   W_hq = torch.Tensor(num_hiddens, num_outputs) \n",
        "#   b_q = torch.Tensor(num_outputs)\n",
        "#   sigma = 1.0/math.sqrt(num_hiddens) # for initialization\n",
        "#   # List all the parameters and attach gradients\n",
        "#   params = [W_xi, W_hi, b_i, \n",
        "#             W_xf, W_hf, b_f, \n",
        "#             W_xo, W_ho, b_o, \n",
        "#             W_xc, W_hc, b_c,\n",
        "#             W_hq, b_q]\n",
        "#   for param in params:\n",
        "#     # Xavier initialization\n",
        "#     param.data.uniform_(-sigma, sigma)\n",
        "#     param.requires_grad_(True)\n",
        "#   return params\n",
        "\n",
        "def get_lstm_params_choice(vocab_size, num_hiddens):\n",
        "  num_inputs = num_outputs = vocab_size\n",
        "  # Input gate parameters\n",
        "  W_xi = torch.Tensor(num_inputs + num_hiddens, num_hiddens) \n",
        "  W_hi = torch.Tensor(num_hiddens, num_hiddens) \n",
        "  b_i = torch.Tensor(num_hiddens)\n",
        "  # Forget gate parameters\n",
        "  W_xf = torch.Tensor(num_inputs + num_hiddens, num_hiddens) \n",
        "  W_hf = torch.Tensor(num_hiddens, num_hiddens) \n",
        "  b_f = torch.Tensor(num_hiddens)\n",
        "  # Output gate parameters\n",
        "  W_xo = torch.Tensor(num_inputs + num_hiddens, num_hiddens) \n",
        "  W_ho = torch.Tensor(num_hiddens, num_hiddens) \n",
        "  b_o = torch.Tensor(num_hiddens)\n",
        "  # Candidate memory cell parameters\n",
        "  W_xc = torch.Tensor(num_inputs + num_hiddens, num_hiddens) \n",
        "  W_hc = torch.Tensor(num_hiddens, num_hiddens) \n",
        "  b_c = torch.Tensor(num_hiddens)\n",
        "  # Output layer parameters\n",
        "  W_hq = torch.Tensor(num_hiddens, num_outputs) \n",
        "  b_q = torch.Tensor(num_outputs)\n",
        "  sigma = 1.0/math.sqrt(num_hiddens) # for initialization\n",
        "  # List all the parameters and attach gradients\n",
        "  params = [W_xi, W_hi, b_i, \n",
        "            W_xf, W_hf, b_f, \n",
        "            W_xo, W_ho, b_o, \n",
        "            W_xc, W_hc, b_c,\n",
        "            W_hq, b_q]\n",
        "  for param in params:\n",
        "    # Xavier initialization\n",
        "    param.data.uniform_(-sigma, sigma)\n",
        "    param.requires_grad_(True)\n",
        "  return params"
      ],
      "execution_count": 5,
      "outputs": []
    },
    {
      "cell_type": "code",
      "metadata": {
        "id": "5pcMcEav3t24"
      },
      "source": [
        "# def lstm(inputs, state, params):\n",
        "#   # Get the model parameters\n",
        "#   [W_xi, W_hi, b_i, W_xf, W_hf, b_f, W_xo, W_ho, b_o, W_xc, W_hc, b_c, \n",
        "#    W_hq, b_q] = params\n",
        "#   # Get the hidden and cell state\n",
        "#   (H, C) = state\n",
        "#   # Store outputs for each input from a batch\n",
        "#   outputs = []\n",
        "#   # For each of the inputs in a batch, perform the LSTM operations\n",
        "#   for X in inputs:\n",
        "#     I = torch.sigmoid((X @ W_xi) + (H @ W_hi) + b_i)\n",
        "#     F = torch.sigmoid((X @ W_xf) + (H @ W_hf) + b_f)\n",
        "#     O = torch.sigmoid((X @ W_xo) + (H @ W_ho) + b_o)\n",
        "#     C_tilda = torch.tanh((X @ W_xc) + (H @ W_hc) + b_c)\n",
        "#     C = F * C + I * C_tilda\n",
        "#     H = O * torch.tanh(C)\n",
        "#     Y = (H @ W_hq) + b_q\n",
        "#     outputs.append(Y)\n",
        "#   return torch.cat(outputs, dim = 0), (H, C)\n",
        "\n",
        "# # Input augmentation entails concatenating the input with the previous hidden state\n",
        "# def lstm_input_augmented(inputs, state, params):\n",
        "#   # Get the model parameters\n",
        "#   [W_xi, W_hi, b_i, W_xf, W_hf, b_f, W_xo, W_ho, b_o, W_xc, W_hc, b_c, \n",
        "#    W_hq, b_q] = params\n",
        "#   # Get the hidden and cell state\n",
        "#   (H, C) = state\n",
        "#   # Store outputs for each input from a batch\n",
        "#   outputs = []\n",
        "#   # For each of the inputs in a batch, perform the LSTM operations\n",
        "#   for X in inputs:\n",
        "#     X_and_H = torch.cat((X, H), 1) # input and hidden state concatenated\n",
        "#     I = torch.sigmoid((X_and_H @ W_xi) + (H @ W_hi) + b_i)\n",
        "#     F = torch.sigmoid((X_and_H @ W_xf) + (H @ W_hf) + b_f)\n",
        "#     O = torch.sigmoid((X_and_H @ W_xo) + (H @ W_ho) + b_o)\n",
        "#     C_tilda = torch.tanh((X_and_H @ W_xc) + (H @ W_hc) + b_c)\n",
        "#     C = F * C + I * C_tilda\n",
        "#     H = O * torch.tanh(C)\n",
        "#     Y = (H @ W_hq) + b_q\n",
        "#     outputs.append(Y)\n",
        "#   return torch.cat(outputs, dim = 0), (H, C)\n",
        "\n",
        "# def lstm_minus_forget(inputs, state, params):\n",
        "#   # Get the model parameters\n",
        "#   [W_xi, W_hi, b_i, W_xo, W_ho, b_o, W_xc, W_hc, b_c, W_hq, b_q] = params\n",
        "#   # Get the hidden and cell state\n",
        "#   (H, C) = state\n",
        "#   # Store outputs for each input from a batch\n",
        "#   outputs = []\n",
        "#   # For each of the inputs in a batch, perform the LSTM operations\n",
        "#   for X in inputs:\n",
        "#     I = torch.sigmoid((X @ W_xi) + (H @ W_hi) + b_i)\n",
        "#     O = torch.sigmoid((X @ W_xo) + (H @ W_ho) + b_o)\n",
        "#     C_tilda = torch.tanh((X @ W_xc) + (H @ W_hc) + b_c)\n",
        "#     C = I * C_tilda\n",
        "#     H = O * torch.tanh(C)\n",
        "#     Y = (H @ W_hq) + b_q\n",
        "#     outputs.append(Y)\n",
        "#   return torch.cat(outputs, dim = 0), (H, C)\n",
        "\n",
        "# def lstm_Xavier_init(inputs, state, params):\n",
        "#   # Get the model parameters\n",
        "#   [W_xi, W_hi, b_i, W_xf, W_hf, b_f, W_xo, W_ho, b_o, W_xc, W_hc, b_c, \n",
        "#    W_hq, b_q] = params\n",
        "#   # Get the hidden and cell state\n",
        "#   (H, C) = state\n",
        "#   # Store outputs for each input from a batch\n",
        "#   outputs = []\n",
        "#   # For each of the inputs in a batch, perform the LSTM operations\n",
        "#   for X in inputs:\n",
        "#     I = torch.sigmoid((X @ W_xi) + (H @ W_hi) + b_i)\n",
        "#     F = torch.sigmoid((X @ W_xf) + (H @ W_hf) + b_f)\n",
        "#     O = torch.sigmoid((X @ W_xo) + (H @ W_ho) + b_o)\n",
        "#     C_tilda = torch.tanh((X @ W_xc) + (H @ W_hc) + b_c)\n",
        "#     C = F * C + I * C_tilda\n",
        "#     H = O * torch.tanh(C)\n",
        "#     Y = (H @ W_hq) + b_q\n",
        "#     outputs.append(Y)\n",
        "#   return torch.cat(outputs, dim = 0), (H, C)\n",
        "\n",
        "def lstm_choice(inputs, state, params):\n",
        "  # Get the model parameters\n",
        "  [W_xi, W_hi, b_i, W_xf, W_hf, b_f, W_xo, W_ho, b_o, W_xc, W_hc, b_c, \n",
        "   W_hq, b_q] = params\n",
        "  # Get the hidden and cell state\n",
        "  (H, C) = state\n",
        "  # Store outputs for each input from a batch\n",
        "  outputs = []\n",
        "  # For each of the inputs in a batch, perform the LSTM operations\n",
        "  for X in inputs:\n",
        "    X_and_H = torch.cat((X, H), 1) # input and hidden state concatenated\n",
        "    I = torch.sigmoid((X_and_H @ W_xi) + (H @ W_hi) + b_i)\n",
        "    F = torch.sigmoid((X_and_H @ W_xf) + (H @ W_hf) + b_f)\n",
        "    O = torch.sigmoid((X_and_H @ W_xo) + (H @ W_ho) + b_o)\n",
        "    C_tilda = torch.tanh((X_and_H @ W_xc) + (H @ W_hc) + b_c)\n",
        "    C = F * C + I * C_tilda\n",
        "    H = O * torch.tanh(C)\n",
        "    Y = (H @ W_hq) + b_q\n",
        "    outputs.append(Y)\n",
        "  return torch.cat(outputs, dim = 0), (H, C)"
      ],
      "execution_count": 6,
      "outputs": []
    },
    {
      "cell_type": "code",
      "metadata": {
        "id": "8PzTeciC3-e9"
      },
      "source": [
        "# Build the LSTM model from scratch\n",
        "class LSTMScratch:  \n",
        "    \n",
        "    \"\"\"An LSTM Model implemented from scratch.\"\"\"\n",
        "    \n",
        "    def __init__(self, vocab_size, num_hiddens, get_params, forward_fn):\n",
        "\n",
        "        self.vocab_size, self.num_hiddens, self.forward_fn = vocab_size, num_hiddens, forward_fn\n",
        "        # Function to initialize all the parameters in the LSTM (defined by you!)\n",
        "        self.params = get_params(vocab_size, num_hiddens)\n",
        "\n",
        "    def __call__(self, X, state):\n",
        "        # Calls the forward function \n",
        "        \n",
        "        # Convert X to a one-hot vector for each character instead of an Embedding\n",
        "        X = F.one_hot(X.T, self.vocab_size).type(torch.float32)\n",
        "        \n",
        "        # Function to pass inputs to the model (defined by you!)\n",
        "        return self.forward_fn(X, state, self.params)\n",
        "\n",
        "    def begin_state(self, batch_size):\n",
        "        # Initialize the hidden state and cell state with zeros\n",
        "        return (torch.zeros((batch_size, num_hiddens), device=device),\n",
        "            torch.zeros((batch_size, num_hiddens), device=device))"
      ],
      "execution_count": 7,
      "outputs": []
    },
    {
      "cell_type": "code",
      "metadata": {
        "id": "PYx7nc3u4XJz",
        "cellView": "form"
      },
      "source": [
        "#@title Training Functions (Run Me!)\n",
        "# Clip the gradients\n",
        "def grad_clipping(net, theta):\n",
        "    \"\"\"Clip the gradient.\"\"\"\n",
        "    params = net.params\n",
        "    norm = torch.sqrt(sum(torch.sum((p.grad**2)) for p in params))\n",
        "    if norm > theta:\n",
        "        for param in params:\n",
        "            param.grad[:] *= theta / norm\n",
        "\n",
        "# Optimization Minibatch SGD\n",
        "def sgd(params, lr, batch_size):\n",
        "    \"\"\"Minibatch stochastic gradient descent.\"\"\"\n",
        "    with torch.no_grad():\n",
        "        for param in params:\n",
        "            param -= lr * param.grad / batch_size\n",
        "            param.grad.zero_()\n",
        "\n",
        "# Training in each epoch\n",
        "def train_epoch(net, train_iter, loss, optimizer):\n",
        "    \"\"\"Train a net within one epoch (defined in Chapter 8).\"\"\"\n",
        "\n",
        "    state, timer = None, d2l.Timer()\n",
        "    metric = d2l.Accumulator(2)  # Sum of training loss, no. of tokens\n",
        "    \n",
        "    # For every barch in dataloader\n",
        "    for X, Y in train_iter:\n",
        "        if state is None:\n",
        "            # Initialize `state` when either it is the first iteration or\n",
        "            # using random sampling\n",
        "            state = net.begin_state(batch_size=X.shape[0])\n",
        "        else:\n",
        "            # `state` is a tuple of tensors for our custom scratch implementation\n",
        "            for s in state:\n",
        "                s.detach_()\n",
        "\n",
        "        # Pass input and state to the model\n",
        "        y = Y.T.reshape(-1)\n",
        "        X, y = X.to(device), y.to(device)\n",
        "        y_hat, state = net(X, state)\n",
        "\n",
        "        # Compute loss, backpropagate and clip the gradient\n",
        "        l = loss(y_hat, y.long()).mean()\n",
        "        l.backward()\n",
        "        grad_clipping(net, 1)\n",
        "\n",
        "        # Step the optimizer\n",
        "        optimizer(batch_size=1)\n",
        "\n",
        "        # Loss metric append    \n",
        "        metric.add(l * y.numel(), y.numel())\n",
        "    return math.exp(metric[0] / metric[1]), metric[1] / timer.stop()\n",
        "\n",
        "# Predict function\n",
        "def predict(prefix, num_preds, net, vocab):  \n",
        "    \"\"\"Generate new characters following the `prefix`.\"\"\"    \n",
        "    # Initialize and tensorize input\n",
        "    state = net.begin_state(batch_size=1)\n",
        "    outputs = [vocab[prefix[0]]]\n",
        "    get_input = lambda: torch.tensor([outputs[-1]], device=device).reshape(\n",
        "        (1, 1))\n",
        "    \n",
        "    for y in prefix[1:]:  # Warm-up period\n",
        "        _, state = net(get_input(), state)\n",
        "        outputs.append(vocab[y])\n",
        "    \n",
        "    for _ in range(num_preds):  # Predict `num_preds` steps\n",
        "        y, state = net(get_input(), state)\n",
        "        outputs.append(int(y.argmax(dim=1).reshape(1)))\n",
        "    \n",
        "    return ''.join([vocab.idx_to_token[i] for i in outputs])\n",
        "\n",
        "# Train function\n",
        "def train(net, train_iter, vocab, lr, num_epochs):\n",
        "    \"\"\"Train a model.\"\"\"\n",
        "\n",
        "    # Loss function and loss visualization tool \n",
        "    loss = nn.CrossEntropyLoss()\n",
        "    animator = d2l.Animator(xlabel='epoch', ylabel='perplexity', legend=['train'], xlim=[10, num_epochs])\n",
        "    \n",
        "    # Optimizer\n",
        "    optimizer = lambda batch_size: sgd(net.params, lr, batch_size)\n",
        "\n",
        "    # Train and predict over each epoch\n",
        "    for epoch in range(num_epochs):\n",
        "        ppl, speed = train_epoch(net, train_iter, loss, optimizer)\n",
        "        \n",
        "        # Plot every 10 epochs\n",
        "        if (epoch + 1) % 10 == 0:\n",
        "            print(predict('time traveller', 50, net, vocab))\n",
        "            animator.add(epoch + 1, [ppl])\n",
        "    \n",
        "    # Final predictions\n",
        "    print(f'perplexity {ppl:.1f}, {speed:.1f} tokens/sec on {str(device)}')\n",
        "    print(predict('time traveller', 50, net, vocab))\n",
        "    print(predict('traveller', 50, net, vocab))"
      ],
      "execution_count": 8,
      "outputs": []
    },
    {
      "cell_type": "code",
      "metadata": {
        "id": "MegqMA8pGTXe",
        "colab": {
          "base_uri": "https://localhost:8080/"
        },
        "outputId": "9ed5999e-7f94-4519-c5df-74745aceebbe"
      },
      "source": [
        "batch_size, num_steps = 32, 50\n",
        "\n",
        "train_iter, vocab = d2l.load_data_time_machine(batch_size, num_steps)"
      ],
      "execution_count": 9,
      "outputs": [
        {
          "output_type": "stream",
          "text": [
            "Downloading ../data/timemachine.txt from http://d2l-data.s3-accelerate.amazonaws.com/timemachine.txt...\n"
          ],
          "name": "stdout"
        }
      ]
    },
    {
      "cell_type": "code",
      "metadata": {
        "id": "LcOy5DAR3wLD",
        "colab": {
          "base_uri": "https://localhost:8080/",
          "height": 313
        },
        "outputId": "075e71cb-d01f-4f01-bc79-5e97fa7afd36"
      },
      "source": [
        "vocab_size, num_hiddens, device = len(vocab), 256, torch.device('cuda' if torch.cuda.is_available() else 'cpu')\n",
        "num_epochs, lr = 500, 1\n",
        "\n",
        "# model = LSTMScratch(len(vocab), num_hiddens, get_lstm_params, lstm)\n",
        "# model = LSTMScratch(len(vocab), num_hiddens, get_lstm_params_input_augmented, lstm_input_augmented)\n",
        "# model = LSTMScratch(len(vocab), num_hiddens, get_lstm_params_minus_forget, lstm_minus_forget)\n",
        "# model = LSTMScratch(len(vocab), num_hiddens, get_lstm_params_Xavier_init, lstm_Xavier_init)\n",
        "model = LSTMScratch(len(vocab), num_hiddens, get_lstm_params_choice, lstm_choice)\n",
        "train(model, train_iter, vocab, lr, num_epochs)"
      ],
      "execution_count": 10,
      "outputs": [
        {
          "output_type": "stream",
          "text": [
            "perplexity 1.1, 8760.7 tokens/sec on cpu\n",
            "time traveller for so it will be convenient to speak of himwas e\n",
            "traveller fileding a ling as ure yo aiclane they thichou ab\n"
          ],
          "name": "stdout"
        },
        {
          "output_type": "display_data",
          "data": {
            "text/plain": [
              "<Figure size 252x180 with 1 Axes>"
            ],
            "image/svg+xml": "<?xml version=\"1.0\" encoding=\"utf-8\" standalone=\"no\"?>\n<!DOCTYPE svg PUBLIC \"-//W3C//DTD SVG 1.1//EN\"\n  \"http://www.w3.org/Graphics/SVG/1.1/DTD/svg11.dtd\">\n<!-- Created with matplotlib (https://matplotlib.org/) -->\n<svg height=\"180.65625pt\" version=\"1.1\" viewBox=\"0 0 252.646875 180.65625\" width=\"252.646875pt\" xmlns=\"http://www.w3.org/2000/svg\" xmlns:xlink=\"http://www.w3.org/1999/xlink\">\n <defs>\n  <style type=\"text/css\">\n*{stroke-linecap:butt;stroke-linejoin:round;}\n  </style>\n </defs>\n <g id=\"figure_1\">\n  <g id=\"patch_1\">\n   <path d=\"M 0 180.65625 \nL 252.646875 180.65625 \nL 252.646875 0 \nL 0 0 \nz\n\" style=\"fill:none;\"/>\n  </g>\n  <g id=\"axes_1\">\n   <g id=\"patch_2\">\n    <path d=\"M 40.603125 143.1 \nL 235.903125 143.1 \nL 235.903125 7.2 \nL 40.603125 7.2 \nz\n\" style=\"fill:#ffffff;\"/>\n   </g>\n   <g id=\"matplotlib.axis_1\">\n    <g id=\"xtick_1\">\n     <g id=\"line2d_1\">\n      <path clip-path=\"url(#pb780a44dea)\" d=\"M 76.474554 143.1 \nL 76.474554 7.2 \n\" style=\"fill:none;stroke:#b0b0b0;stroke-linecap:square;stroke-width:0.8;\"/>\n     </g>\n     <g id=\"line2d_2\">\n      <defs>\n       <path d=\"M 0 0 \nL 0 3.5 \n\" id=\"m28e03b3f8b\" style=\"stroke:#000000;stroke-width:0.8;\"/>\n      </defs>\n      <g>\n       <use style=\"stroke:#000000;stroke-width:0.8;\" x=\"76.474554\" xlink:href=\"#m28e03b3f8b\" y=\"143.1\"/>\n      </g>\n     </g>\n     <g id=\"text_1\">\n      <!-- 100 -->\n      <defs>\n       <path d=\"M 12.40625 8.296875 \nL 28.515625 8.296875 \nL 28.515625 63.921875 \nL 10.984375 60.40625 \nL 10.984375 69.390625 \nL 28.421875 72.90625 \nL 38.28125 72.90625 \nL 38.28125 8.296875 \nL 54.390625 8.296875 \nL 54.390625 0 \nL 12.40625 0 \nz\n\" id=\"DejaVuSans-49\"/>\n       <path d=\"M 31.78125 66.40625 \nQ 24.171875 66.40625 20.328125 58.90625 \nQ 16.5 51.421875 16.5 36.375 \nQ 16.5 21.390625 20.328125 13.890625 \nQ 24.171875 6.390625 31.78125 6.390625 \nQ 39.453125 6.390625 43.28125 13.890625 \nQ 47.125 21.390625 47.125 36.375 \nQ 47.125 51.421875 43.28125 58.90625 \nQ 39.453125 66.40625 31.78125 66.40625 \nz\nM 31.78125 74.21875 \nQ 44.046875 74.21875 50.515625 64.515625 \nQ 56.984375 54.828125 56.984375 36.375 \nQ 56.984375 17.96875 50.515625 8.265625 \nQ 44.046875 -1.421875 31.78125 -1.421875 \nQ 19.53125 -1.421875 13.0625 8.265625 \nQ 6.59375 17.96875 6.59375 36.375 \nQ 6.59375 54.828125 13.0625 64.515625 \nQ 19.53125 74.21875 31.78125 74.21875 \nz\n\" id=\"DejaVuSans-48\"/>\n      </defs>\n      <g transform=\"translate(66.930804 157.698438)scale(0.1 -0.1)\">\n       <use xlink:href=\"#DejaVuSans-49\"/>\n       <use x=\"63.623047\" xlink:href=\"#DejaVuSans-48\"/>\n       <use x=\"127.246094\" xlink:href=\"#DejaVuSans-48\"/>\n      </g>\n     </g>\n    </g>\n    <g id=\"xtick_2\">\n     <g id=\"line2d_3\">\n      <path clip-path=\"url(#pb780a44dea)\" d=\"M 116.331696 143.1 \nL 116.331696 7.2 \n\" style=\"fill:none;stroke:#b0b0b0;stroke-linecap:square;stroke-width:0.8;\"/>\n     </g>\n     <g id=\"line2d_4\">\n      <g>\n       <use style=\"stroke:#000000;stroke-width:0.8;\" x=\"116.331696\" xlink:href=\"#m28e03b3f8b\" y=\"143.1\"/>\n      </g>\n     </g>\n     <g id=\"text_2\">\n      <!-- 200 -->\n      <defs>\n       <path d=\"M 19.1875 8.296875 \nL 53.609375 8.296875 \nL 53.609375 0 \nL 7.328125 0 \nL 7.328125 8.296875 \nQ 12.9375 14.109375 22.625 23.890625 \nQ 32.328125 33.6875 34.8125 36.53125 \nQ 39.546875 41.84375 41.421875 45.53125 \nQ 43.3125 49.21875 43.3125 52.78125 \nQ 43.3125 58.59375 39.234375 62.25 \nQ 35.15625 65.921875 28.609375 65.921875 \nQ 23.96875 65.921875 18.8125 64.3125 \nQ 13.671875 62.703125 7.8125 59.421875 \nL 7.8125 69.390625 \nQ 13.765625 71.78125 18.9375 73 \nQ 24.125 74.21875 28.421875 74.21875 \nQ 39.75 74.21875 46.484375 68.546875 \nQ 53.21875 62.890625 53.21875 53.421875 \nQ 53.21875 48.921875 51.53125 44.890625 \nQ 49.859375 40.875 45.40625 35.40625 \nQ 44.1875 33.984375 37.640625 27.21875 \nQ 31.109375 20.453125 19.1875 8.296875 \nz\n\" id=\"DejaVuSans-50\"/>\n      </defs>\n      <g transform=\"translate(106.787946 157.698438)scale(0.1 -0.1)\">\n       <use xlink:href=\"#DejaVuSans-50\"/>\n       <use x=\"63.623047\" xlink:href=\"#DejaVuSans-48\"/>\n       <use x=\"127.246094\" xlink:href=\"#DejaVuSans-48\"/>\n      </g>\n     </g>\n    </g>\n    <g id=\"xtick_3\">\n     <g id=\"line2d_5\">\n      <path clip-path=\"url(#pb780a44dea)\" d=\"M 156.188839 143.1 \nL 156.188839 7.2 \n\" style=\"fill:none;stroke:#b0b0b0;stroke-linecap:square;stroke-width:0.8;\"/>\n     </g>\n     <g id=\"line2d_6\">\n      <g>\n       <use style=\"stroke:#000000;stroke-width:0.8;\" x=\"156.188839\" xlink:href=\"#m28e03b3f8b\" y=\"143.1\"/>\n      </g>\n     </g>\n     <g id=\"text_3\">\n      <!-- 300 -->\n      <defs>\n       <path d=\"M 40.578125 39.3125 \nQ 47.65625 37.796875 51.625 33 \nQ 55.609375 28.21875 55.609375 21.1875 \nQ 55.609375 10.40625 48.1875 4.484375 \nQ 40.765625 -1.421875 27.09375 -1.421875 \nQ 22.515625 -1.421875 17.65625 -0.515625 \nQ 12.796875 0.390625 7.625 2.203125 \nL 7.625 11.71875 \nQ 11.71875 9.328125 16.59375 8.109375 \nQ 21.484375 6.890625 26.8125 6.890625 \nQ 36.078125 6.890625 40.9375 10.546875 \nQ 45.796875 14.203125 45.796875 21.1875 \nQ 45.796875 27.640625 41.28125 31.265625 \nQ 36.765625 34.90625 28.71875 34.90625 \nL 20.21875 34.90625 \nL 20.21875 43.015625 \nL 29.109375 43.015625 \nQ 36.375 43.015625 40.234375 45.921875 \nQ 44.09375 48.828125 44.09375 54.296875 \nQ 44.09375 59.90625 40.109375 62.90625 \nQ 36.140625 65.921875 28.71875 65.921875 \nQ 24.65625 65.921875 20.015625 65.03125 \nQ 15.375 64.15625 9.8125 62.3125 \nL 9.8125 71.09375 \nQ 15.4375 72.65625 20.34375 73.4375 \nQ 25.25 74.21875 29.59375 74.21875 \nQ 40.828125 74.21875 47.359375 69.109375 \nQ 53.90625 64.015625 53.90625 55.328125 \nQ 53.90625 49.265625 50.4375 45.09375 \nQ 46.96875 40.921875 40.578125 39.3125 \nz\n\" id=\"DejaVuSans-51\"/>\n      </defs>\n      <g transform=\"translate(146.645089 157.698438)scale(0.1 -0.1)\">\n       <use xlink:href=\"#DejaVuSans-51\"/>\n       <use x=\"63.623047\" xlink:href=\"#DejaVuSans-48\"/>\n       <use x=\"127.246094\" xlink:href=\"#DejaVuSans-48\"/>\n      </g>\n     </g>\n    </g>\n    <g id=\"xtick_4\">\n     <g id=\"line2d_7\">\n      <path clip-path=\"url(#pb780a44dea)\" d=\"M 196.045982 143.1 \nL 196.045982 7.2 \n\" style=\"fill:none;stroke:#b0b0b0;stroke-linecap:square;stroke-width:0.8;\"/>\n     </g>\n     <g id=\"line2d_8\">\n      <g>\n       <use style=\"stroke:#000000;stroke-width:0.8;\" x=\"196.045982\" xlink:href=\"#m28e03b3f8b\" y=\"143.1\"/>\n      </g>\n     </g>\n     <g id=\"text_4\">\n      <!-- 400 -->\n      <defs>\n       <path d=\"M 37.796875 64.3125 \nL 12.890625 25.390625 \nL 37.796875 25.390625 \nz\nM 35.203125 72.90625 \nL 47.609375 72.90625 \nL 47.609375 25.390625 \nL 58.015625 25.390625 \nL 58.015625 17.1875 \nL 47.609375 17.1875 \nL 47.609375 0 \nL 37.796875 0 \nL 37.796875 17.1875 \nL 4.890625 17.1875 \nL 4.890625 26.703125 \nz\n\" id=\"DejaVuSans-52\"/>\n      </defs>\n      <g transform=\"translate(186.502232 157.698438)scale(0.1 -0.1)\">\n       <use xlink:href=\"#DejaVuSans-52\"/>\n       <use x=\"63.623047\" xlink:href=\"#DejaVuSans-48\"/>\n       <use x=\"127.246094\" xlink:href=\"#DejaVuSans-48\"/>\n      </g>\n     </g>\n    </g>\n    <g id=\"xtick_5\">\n     <g id=\"line2d_9\">\n      <path clip-path=\"url(#pb780a44dea)\" d=\"M 235.903125 143.1 \nL 235.903125 7.2 \n\" style=\"fill:none;stroke:#b0b0b0;stroke-linecap:square;stroke-width:0.8;\"/>\n     </g>\n     <g id=\"line2d_10\">\n      <g>\n       <use style=\"stroke:#000000;stroke-width:0.8;\" x=\"235.903125\" xlink:href=\"#m28e03b3f8b\" y=\"143.1\"/>\n      </g>\n     </g>\n     <g id=\"text_5\">\n      <!-- 500 -->\n      <defs>\n       <path d=\"M 10.796875 72.90625 \nL 49.515625 72.90625 \nL 49.515625 64.59375 \nL 19.828125 64.59375 \nL 19.828125 46.734375 \nQ 21.96875 47.46875 24.109375 47.828125 \nQ 26.265625 48.1875 28.421875 48.1875 \nQ 40.625 48.1875 47.75 41.5 \nQ 54.890625 34.8125 54.890625 23.390625 \nQ 54.890625 11.625 47.5625 5.09375 \nQ 40.234375 -1.421875 26.90625 -1.421875 \nQ 22.3125 -1.421875 17.546875 -0.640625 \nQ 12.796875 0.140625 7.71875 1.703125 \nL 7.71875 11.625 \nQ 12.109375 9.234375 16.796875 8.0625 \nQ 21.484375 6.890625 26.703125 6.890625 \nQ 35.15625 6.890625 40.078125 11.328125 \nQ 45.015625 15.765625 45.015625 23.390625 \nQ 45.015625 31 40.078125 35.4375 \nQ 35.15625 39.890625 26.703125 39.890625 \nQ 22.75 39.890625 18.8125 39.015625 \nQ 14.890625 38.140625 10.796875 36.28125 \nz\n\" id=\"DejaVuSans-53\"/>\n      </defs>\n      <g transform=\"translate(226.359375 157.698438)scale(0.1 -0.1)\">\n       <use xlink:href=\"#DejaVuSans-53\"/>\n       <use x=\"63.623047\" xlink:href=\"#DejaVuSans-48\"/>\n       <use x=\"127.246094\" xlink:href=\"#DejaVuSans-48\"/>\n      </g>\n     </g>\n    </g>\n    <g id=\"text_6\">\n     <!-- epoch -->\n     <defs>\n      <path d=\"M 56.203125 29.59375 \nL 56.203125 25.203125 \nL 14.890625 25.203125 \nQ 15.484375 15.921875 20.484375 11.0625 \nQ 25.484375 6.203125 34.421875 6.203125 \nQ 39.59375 6.203125 44.453125 7.46875 \nQ 49.3125 8.734375 54.109375 11.28125 \nL 54.109375 2.78125 \nQ 49.265625 0.734375 44.1875 -0.34375 \nQ 39.109375 -1.421875 33.890625 -1.421875 \nQ 20.796875 -1.421875 13.15625 6.1875 \nQ 5.515625 13.8125 5.515625 26.8125 \nQ 5.515625 40.234375 12.765625 48.109375 \nQ 20.015625 56 32.328125 56 \nQ 43.359375 56 49.78125 48.890625 \nQ 56.203125 41.796875 56.203125 29.59375 \nz\nM 47.21875 32.234375 \nQ 47.125 39.59375 43.09375 43.984375 \nQ 39.0625 48.390625 32.421875 48.390625 \nQ 24.90625 48.390625 20.390625 44.140625 \nQ 15.875 39.890625 15.1875 32.171875 \nz\n\" id=\"DejaVuSans-101\"/>\n      <path d=\"M 18.109375 8.203125 \nL 18.109375 -20.796875 \nL 9.078125 -20.796875 \nL 9.078125 54.6875 \nL 18.109375 54.6875 \nL 18.109375 46.390625 \nQ 20.953125 51.265625 25.265625 53.625 \nQ 29.59375 56 35.59375 56 \nQ 45.5625 56 51.78125 48.09375 \nQ 58.015625 40.1875 58.015625 27.296875 \nQ 58.015625 14.40625 51.78125 6.484375 \nQ 45.5625 -1.421875 35.59375 -1.421875 \nQ 29.59375 -1.421875 25.265625 0.953125 \nQ 20.953125 3.328125 18.109375 8.203125 \nz\nM 48.6875 27.296875 \nQ 48.6875 37.203125 44.609375 42.84375 \nQ 40.53125 48.484375 33.40625 48.484375 \nQ 26.265625 48.484375 22.1875 42.84375 \nQ 18.109375 37.203125 18.109375 27.296875 \nQ 18.109375 17.390625 22.1875 11.75 \nQ 26.265625 6.109375 33.40625 6.109375 \nQ 40.53125 6.109375 44.609375 11.75 \nQ 48.6875 17.390625 48.6875 27.296875 \nz\n\" id=\"DejaVuSans-112\"/>\n      <path d=\"M 30.609375 48.390625 \nQ 23.390625 48.390625 19.1875 42.75 \nQ 14.984375 37.109375 14.984375 27.296875 \nQ 14.984375 17.484375 19.15625 11.84375 \nQ 23.34375 6.203125 30.609375 6.203125 \nQ 37.796875 6.203125 41.984375 11.859375 \nQ 46.1875 17.53125 46.1875 27.296875 \nQ 46.1875 37.015625 41.984375 42.703125 \nQ 37.796875 48.390625 30.609375 48.390625 \nz\nM 30.609375 56 \nQ 42.328125 56 49.015625 48.375 \nQ 55.71875 40.765625 55.71875 27.296875 \nQ 55.71875 13.875 49.015625 6.21875 \nQ 42.328125 -1.421875 30.609375 -1.421875 \nQ 18.84375 -1.421875 12.171875 6.21875 \nQ 5.515625 13.875 5.515625 27.296875 \nQ 5.515625 40.765625 12.171875 48.375 \nQ 18.84375 56 30.609375 56 \nz\n\" id=\"DejaVuSans-111\"/>\n      <path d=\"M 48.78125 52.59375 \nL 48.78125 44.1875 \nQ 44.96875 46.296875 41.140625 47.34375 \nQ 37.3125 48.390625 33.40625 48.390625 \nQ 24.65625 48.390625 19.8125 42.84375 \nQ 14.984375 37.3125 14.984375 27.296875 \nQ 14.984375 17.28125 19.8125 11.734375 \nQ 24.65625 6.203125 33.40625 6.203125 \nQ 37.3125 6.203125 41.140625 7.25 \nQ 44.96875 8.296875 48.78125 10.40625 \nL 48.78125 2.09375 \nQ 45.015625 0.34375 40.984375 -0.53125 \nQ 36.96875 -1.421875 32.421875 -1.421875 \nQ 20.0625 -1.421875 12.78125 6.34375 \nQ 5.515625 14.109375 5.515625 27.296875 \nQ 5.515625 40.671875 12.859375 48.328125 \nQ 20.21875 56 33.015625 56 \nQ 37.15625 56 41.109375 55.140625 \nQ 45.0625 54.296875 48.78125 52.59375 \nz\n\" id=\"DejaVuSans-99\"/>\n      <path d=\"M 54.890625 33.015625 \nL 54.890625 0 \nL 45.90625 0 \nL 45.90625 32.71875 \nQ 45.90625 40.484375 42.875 44.328125 \nQ 39.84375 48.1875 33.796875 48.1875 \nQ 26.515625 48.1875 22.3125 43.546875 \nQ 18.109375 38.921875 18.109375 30.90625 \nL 18.109375 0 \nL 9.078125 0 \nL 9.078125 75.984375 \nL 18.109375 75.984375 \nL 18.109375 46.1875 \nQ 21.34375 51.125 25.703125 53.5625 \nQ 30.078125 56 35.796875 56 \nQ 45.21875 56 50.046875 50.171875 \nQ 54.890625 44.34375 54.890625 33.015625 \nz\n\" id=\"DejaVuSans-104\"/>\n     </defs>\n     <g transform=\"translate(123.025 171.376563)scale(0.1 -0.1)\">\n      <use xlink:href=\"#DejaVuSans-101\"/>\n      <use x=\"61.523438\" xlink:href=\"#DejaVuSans-112\"/>\n      <use x=\"125\" xlink:href=\"#DejaVuSans-111\"/>\n      <use x=\"186.181641\" xlink:href=\"#DejaVuSans-99\"/>\n      <use x=\"241.162109\" xlink:href=\"#DejaVuSans-104\"/>\n     </g>\n    </g>\n   </g>\n   <g id=\"matplotlib.axis_2\">\n    <g id=\"ytick_1\">\n     <g id=\"line2d_11\">\n      <path clip-path=\"url(#pb780a44dea)\" d=\"M 40.603125 107.135538 \nL 235.903125 107.135538 \n\" style=\"fill:none;stroke:#b0b0b0;stroke-linecap:square;stroke-width:0.8;\"/>\n     </g>\n     <g id=\"line2d_12\">\n      <defs>\n       <path d=\"M 0 0 \nL -3.5 0 \n\" id=\"m876f04d583\" style=\"stroke:#000000;stroke-width:0.8;\"/>\n      </defs>\n      <g>\n       <use style=\"stroke:#000000;stroke-width:0.8;\" x=\"40.603125\" xlink:href=\"#m876f04d583\" y=\"107.135538\"/>\n      </g>\n     </g>\n     <g id=\"text_7\">\n      <!-- 5 -->\n      <g transform=\"translate(27.240625 110.934756)scale(0.1 -0.1)\">\n       <use xlink:href=\"#DejaVuSans-53\"/>\n      </g>\n     </g>\n    </g>\n    <g id=\"ytick_2\">\n     <g id=\"line2d_13\">\n      <path clip-path=\"url(#pb780a44dea)\" d=\"M 40.603125 69.444054 \nL 235.903125 69.444054 \n\" style=\"fill:none;stroke:#b0b0b0;stroke-linecap:square;stroke-width:0.8;\"/>\n     </g>\n     <g id=\"line2d_14\">\n      <g>\n       <use style=\"stroke:#000000;stroke-width:0.8;\" x=\"40.603125\" xlink:href=\"#m876f04d583\" y=\"69.444054\"/>\n      </g>\n     </g>\n     <g id=\"text_8\">\n      <!-- 10 -->\n      <g transform=\"translate(20.878125 73.243273)scale(0.1 -0.1)\">\n       <use xlink:href=\"#DejaVuSans-49\"/>\n       <use x=\"63.623047\" xlink:href=\"#DejaVuSans-48\"/>\n      </g>\n     </g>\n    </g>\n    <g id=\"ytick_3\">\n     <g id=\"line2d_15\">\n      <path clip-path=\"url(#pb780a44dea)\" d=\"M 40.603125 31.752571 \nL 235.903125 31.752571 \n\" style=\"fill:none;stroke:#b0b0b0;stroke-linecap:square;stroke-width:0.8;\"/>\n     </g>\n     <g id=\"line2d_16\">\n      <g>\n       <use style=\"stroke:#000000;stroke-width:0.8;\" x=\"40.603125\" xlink:href=\"#m876f04d583\" y=\"31.752571\"/>\n      </g>\n     </g>\n     <g id=\"text_9\">\n      <!-- 15 -->\n      <g transform=\"translate(20.878125 35.55179)scale(0.1 -0.1)\">\n       <use xlink:href=\"#DejaVuSans-49\"/>\n       <use x=\"63.623047\" xlink:href=\"#DejaVuSans-53\"/>\n      </g>\n     </g>\n    </g>\n    <g id=\"text_10\">\n     <!-- perplexity -->\n     <defs>\n      <path d=\"M 41.109375 46.296875 \nQ 39.59375 47.171875 37.8125 47.578125 \nQ 36.03125 48 33.890625 48 \nQ 26.265625 48 22.1875 43.046875 \nQ 18.109375 38.09375 18.109375 28.8125 \nL 18.109375 0 \nL 9.078125 0 \nL 9.078125 54.6875 \nL 18.109375 54.6875 \nL 18.109375 46.1875 \nQ 20.953125 51.171875 25.484375 53.578125 \nQ 30.03125 56 36.53125 56 \nQ 37.453125 56 38.578125 55.875 \nQ 39.703125 55.765625 41.0625 55.515625 \nz\n\" id=\"DejaVuSans-114\"/>\n      <path d=\"M 9.421875 75.984375 \nL 18.40625 75.984375 \nL 18.40625 0 \nL 9.421875 0 \nz\n\" id=\"DejaVuSans-108\"/>\n      <path d=\"M 54.890625 54.6875 \nL 35.109375 28.078125 \nL 55.90625 0 \nL 45.3125 0 \nL 29.390625 21.484375 \nL 13.484375 0 \nL 2.875 0 \nL 24.125 28.609375 \nL 4.6875 54.6875 \nL 15.28125 54.6875 \nL 29.78125 35.203125 \nL 44.28125 54.6875 \nz\n\" id=\"DejaVuSans-120\"/>\n      <path d=\"M 9.421875 54.6875 \nL 18.40625 54.6875 \nL 18.40625 0 \nL 9.421875 0 \nz\nM 9.421875 75.984375 \nL 18.40625 75.984375 \nL 18.40625 64.59375 \nL 9.421875 64.59375 \nz\n\" id=\"DejaVuSans-105\"/>\n      <path d=\"M 18.3125 70.21875 \nL 18.3125 54.6875 \nL 36.8125 54.6875 \nL 36.8125 47.703125 \nL 18.3125 47.703125 \nL 18.3125 18.015625 \nQ 18.3125 11.328125 20.140625 9.421875 \nQ 21.96875 7.515625 27.59375 7.515625 \nL 36.8125 7.515625 \nL 36.8125 0 \nL 27.59375 0 \nQ 17.1875 0 13.234375 3.875 \nQ 9.28125 7.765625 9.28125 18.015625 \nL 9.28125 47.703125 \nL 2.6875 47.703125 \nL 2.6875 54.6875 \nL 9.28125 54.6875 \nL 9.28125 70.21875 \nz\n\" id=\"DejaVuSans-116\"/>\n      <path d=\"M 32.171875 -5.078125 \nQ 28.375 -14.84375 24.75 -17.8125 \nQ 21.140625 -20.796875 15.09375 -20.796875 \nL 7.90625 -20.796875 \nL 7.90625 -13.28125 \nL 13.1875 -13.28125 \nQ 16.890625 -13.28125 18.9375 -11.515625 \nQ 21 -9.765625 23.484375 -3.21875 \nL 25.09375 0.875 \nL 2.984375 54.6875 \nL 12.5 54.6875 \nL 29.59375 11.921875 \nL 46.6875 54.6875 \nL 56.203125 54.6875 \nz\n\" id=\"DejaVuSans-121\"/>\n     </defs>\n     <g transform=\"translate(14.798437 100.276562)rotate(-90)scale(0.1 -0.1)\">\n      <use xlink:href=\"#DejaVuSans-112\"/>\n      <use x=\"63.476562\" xlink:href=\"#DejaVuSans-101\"/>\n      <use x=\"125\" xlink:href=\"#DejaVuSans-114\"/>\n      <use x=\"166.113281\" xlink:href=\"#DejaVuSans-112\"/>\n      <use x=\"229.589844\" xlink:href=\"#DejaVuSans-108\"/>\n      <use x=\"257.373047\" xlink:href=\"#DejaVuSans-101\"/>\n      <use x=\"317.146484\" xlink:href=\"#DejaVuSans-120\"/>\n      <use x=\"376.326172\" xlink:href=\"#DejaVuSans-105\"/>\n      <use x=\"404.109375\" xlink:href=\"#DejaVuSans-116\"/>\n      <use x=\"443.318359\" xlink:href=\"#DejaVuSans-121\"/>\n     </g>\n    </g>\n   </g>\n   <g id=\"line2d_17\">\n    <path clip-path=\"url(#pb780a44dea)\" d=\"M 40.603125 13.377273 \nL 44.588839 17.617308 \nL 48.574554 26.36467 \nL 52.560268 42.498791 \nL 56.545982 53.791545 \nL 60.531696 62.342967 \nL 64.517411 67.596679 \nL 68.503125 70.546881 \nL 72.488839 74.070815 \nL 76.474554 79.651558 \nL 80.460268 81.03349 \nL 84.445982 85.800849 \nL 88.431696 89.272725 \nL 92.417411 93.326387 \nL 96.403125 96.319237 \nL 100.388839 99.440297 \nL 104.374554 102.289767 \nL 108.360268 107.876962 \nL 112.345982 110.879954 \nL 116.331696 115.070379 \nL 120.317411 118.605817 \nL 124.303125 120.5753 \nL 128.288839 123.660889 \nL 132.274554 126.411577 \nL 136.260268 128.944496 \nL 140.245982 131.163352 \nL 144.231696 131.992232 \nL 148.217411 132.707086 \nL 152.203125 134.246434 \nL 156.188839 135.011517 \nL 160.174554 135.210404 \nL 164.160268 135.523382 \nL 168.145982 136.029508 \nL 172.131696 135.924538 \nL 176.117411 136.210657 \nL 180.103125 136.667853 \nL 184.088839 136.503429 \nL 188.074554 136.591142 \nL 192.060268 136.70801 \nL 196.045982 136.781567 \nL 200.031696 136.760343 \nL 204.017411 136.858326 \nL 208.003125 136.866086 \nL 211.988839 136.802 \nL 215.974554 136.774541 \nL 219.960268 135.480894 \nL 223.945982 136.856287 \nL 227.931696 136.919401 \nL 231.917411 136.922727 \nL 235.903125 136.763868 \n\" style=\"fill:none;stroke:#1f77b4;stroke-linecap:square;stroke-width:1.5;\"/>\n   </g>\n   <g id=\"patch_3\">\n    <path d=\"M 40.603125 143.1 \nL 40.603125 7.2 \n\" style=\"fill:none;stroke:#000000;stroke-linecap:square;stroke-linejoin:miter;stroke-width:0.8;\"/>\n   </g>\n   <g id=\"patch_4\">\n    <path d=\"M 235.903125 143.1 \nL 235.903125 7.2 \n\" style=\"fill:none;stroke:#000000;stroke-linecap:square;stroke-linejoin:miter;stroke-width:0.8;\"/>\n   </g>\n   <g id=\"patch_5\">\n    <path d=\"M 40.603125 143.1 \nL 235.903125 143.1 \n\" style=\"fill:none;stroke:#000000;stroke-linecap:square;stroke-linejoin:miter;stroke-width:0.8;\"/>\n   </g>\n   <g id=\"patch_6\">\n    <path d=\"M 40.603125 7.2 \nL 235.903125 7.2 \n\" style=\"fill:none;stroke:#000000;stroke-linecap:square;stroke-linejoin:miter;stroke-width:0.8;\"/>\n   </g>\n   <g id=\"legend_1\">\n    <g id=\"patch_7\">\n     <path d=\"M 173.628125 29.878125 \nL 228.903125 29.878125 \nQ 230.903125 29.878125 230.903125 27.878125 \nL 230.903125 14.2 \nQ 230.903125 12.2 228.903125 12.2 \nL 173.628125 12.2 \nQ 171.628125 12.2 171.628125 14.2 \nL 171.628125 27.878125 \nQ 171.628125 29.878125 173.628125 29.878125 \nz\n\" style=\"fill:#ffffff;opacity:0.8;stroke:#cccccc;stroke-linejoin:miter;\"/>\n    </g>\n    <g id=\"line2d_18\">\n     <path d=\"M 175.628125 20.298437 \nL 195.628125 20.298437 \n\" style=\"fill:none;stroke:#1f77b4;stroke-linecap:square;stroke-width:1.5;\"/>\n    </g>\n    <g id=\"line2d_19\"/>\n    <g id=\"text_11\">\n     <!-- train -->\n     <defs>\n      <path d=\"M 34.28125 27.484375 \nQ 23.390625 27.484375 19.1875 25 \nQ 14.984375 22.515625 14.984375 16.5 \nQ 14.984375 11.71875 18.140625 8.90625 \nQ 21.296875 6.109375 26.703125 6.109375 \nQ 34.1875 6.109375 38.703125 11.40625 \nQ 43.21875 16.703125 43.21875 25.484375 \nL 43.21875 27.484375 \nz\nM 52.203125 31.203125 \nL 52.203125 0 \nL 43.21875 0 \nL 43.21875 8.296875 \nQ 40.140625 3.328125 35.546875 0.953125 \nQ 30.953125 -1.421875 24.3125 -1.421875 \nQ 15.921875 -1.421875 10.953125 3.296875 \nQ 6 8.015625 6 15.921875 \nQ 6 25.140625 12.171875 29.828125 \nQ 18.359375 34.515625 30.609375 34.515625 \nL 43.21875 34.515625 \nL 43.21875 35.40625 \nQ 43.21875 41.609375 39.140625 45 \nQ 35.0625 48.390625 27.6875 48.390625 \nQ 23 48.390625 18.546875 47.265625 \nQ 14.109375 46.140625 10.015625 43.890625 \nL 10.015625 52.203125 \nQ 14.9375 54.109375 19.578125 55.046875 \nQ 24.21875 56 28.609375 56 \nQ 40.484375 56 46.34375 49.84375 \nQ 52.203125 43.703125 52.203125 31.203125 \nz\n\" id=\"DejaVuSans-97\"/>\n      <path d=\"M 54.890625 33.015625 \nL 54.890625 0 \nL 45.90625 0 \nL 45.90625 32.71875 \nQ 45.90625 40.484375 42.875 44.328125 \nQ 39.84375 48.1875 33.796875 48.1875 \nQ 26.515625 48.1875 22.3125 43.546875 \nQ 18.109375 38.921875 18.109375 30.90625 \nL 18.109375 0 \nL 9.078125 0 \nL 9.078125 54.6875 \nL 18.109375 54.6875 \nL 18.109375 46.1875 \nQ 21.34375 51.125 25.703125 53.5625 \nQ 30.078125 56 35.796875 56 \nQ 45.21875 56 50.046875 50.171875 \nQ 54.890625 44.34375 54.890625 33.015625 \nz\n\" id=\"DejaVuSans-110\"/>\n     </defs>\n     <g transform=\"translate(203.628125 23.798437)scale(0.1 -0.1)\">\n      <use xlink:href=\"#DejaVuSans-116\"/>\n      <use x=\"39.208984\" xlink:href=\"#DejaVuSans-114\"/>\n      <use x=\"80.322266\" xlink:href=\"#DejaVuSans-97\"/>\n      <use x=\"141.601562\" xlink:href=\"#DejaVuSans-105\"/>\n      <use x=\"169.384766\" xlink:href=\"#DejaVuSans-110\"/>\n     </g>\n    </g>\n   </g>\n  </g>\n </g>\n <defs>\n  <clipPath id=\"pb780a44dea\">\n   <rect height=\"135.9\" width=\"195.3\" x=\"40.603125\" y=\"7.2\"/>\n  </clipPath>\n </defs>\n</svg>\n"
          },
          "metadata": {
            "tags": [],
            "needs_background": "light"
          }
        }
      ]
    },
    {
      "cell_type": "code",
      "metadata": {
        "id": "fykfRPEwHiai",
        "colab": {
          "base_uri": "https://localhost:8080/"
        },
        "outputId": "08bc7903-a891-43fd-ec5d-235c84db4458"
      },
      "source": [
        "# Add your initial primer strings to this list for testing\n",
        "sentences = ['time traveller',\n",
        "             'traveller',\n",
        "             'machine']\n",
        "\n",
        "for sentence in sentences:\n",
        "    print(predict(sentence, 50, model, vocab))"
      ],
      "execution_count": 11,
      "outputs": [
        {
          "output_type": "stream",
          "text": [
            "time traveller for so it will be convenient to speak of himwas e\n",
            "traveller fileding a ling as ure yo aiclane they thichou ab\n",
            "machine in a ais ofes mory be sandithe meyocaulint ffuche\n"
          ],
          "name": "stdout"
        }
      ]
    },
    {
      "cell_type": "markdown",
      "metadata": {
        "id": "APi-IM5EVh7K"
      },
      "source": [
        "Summarize the results of your ablation study. What changes did you make? How was the performance affacted? Provide reasoning for your observations. (200-400 words)"
      ]
    },
    {
      "cell_type": "code",
      "metadata": {
        "cellView": "form",
        "id": "5CmtmN-j5Pk9"
      },
      "source": [
        "section3_ans = 'In the vanilla set-up I used a random normal initialization with sigmoidal activation functions and a single memory cell. This approach leads to a final model perplexity of 2.6.  Next, I augmented the input to the LSTM with the hidden state from the previous time step holding all other parameters such as the activations and parameter initialization constant. This model leads to a perplexity of 1.2. Removing the forget gate with the vanilla settings gives a final perplexity of 4.8. Changing the activation function from a sigmoid to tanh produces a model with a final perplexity of 17.4, the worst so far. Finally, modifying the initialization of parameters from random normal to Xavier gives a perplexity of 1.1. To summarize, a model with a forget gate and augmented inputs, sigmoidal activations, and Xavier initialization leads to a perplexity of 1.1, which while not the outright best is identical to the best so far. (https://colab.research.google.com/drive/1gluclpXm3l0rhuN2mqGw80VW-e8Op_UC?usp=sharing)' #@param {type:\"string\"}"
      ],
      "execution_count": 15,
      "outputs": []
    },
    {
      "cell_type": "markdown",
      "metadata": {
        "id": "le-1JMKWRVxy"
      },
      "source": [
        "## Section 4: Know-Your-Pod Better"
      ]
    },
    {
      "cell_type": "markdown",
      "metadata": {
        "id": "_u3z3BIcRZkG"
      },
      "source": [
        "Discuss with two other members of your pod. What is their favorite movie scene (not just the whole movie, but describe the scene!) of all time? Describe the scene and why they like it so much. (~100 words each)"
      ]
    },
    {
      "cell_type": "code",
      "metadata": {
        "cellView": "form",
        "id": "AbIh2_ca44DK"
      },
      "source": [
        "section4_ans = \"Anni's favorite movie is Farewell My Concubine and Jake's is Whiplash. I forgot to write down their favorite scenes unfortunately. Vishnu likes Shawshank Redemption. His favorite scene is when the lead helps the prison guards do their taxes.\" #@param {type:\"string\"}"
      ],
      "execution_count": 16,
      "outputs": []
    },
    {
      "cell_type": "markdown",
      "metadata": {
        "id": "gbgTqgB5rH_W"
      },
      "source": [
        "---\n",
        "# Submission\n",
        "Once you're done, click on 'Share' and add the link to the box below.\n"
      ]
    },
    {
      "cell_type": "code",
      "metadata": {
        "id": "oeC-YYf85J2P",
        "colab": {
          "base_uri": "https://localhost:8080/",
          "height": 198
        },
        "outputId": "dc34861a-ee42-413d-fd84-5aa4bf053143"
      },
      "source": [
        "import time\n",
        "import numpy as np\n",
        "import urllib.parse\n",
        "from IPython.display import IFrame\n",
        "\n",
        "t7 = time.time()\n",
        "\n",
        "#@markdown #Run Cell to Show Airtable Form\n",
        "#@markdown ##**Confirm your answers and then click \"Submit\"**\n",
        "\n",
        "\n",
        "def prefill_form(src, fields: dict):\n",
        "  '''\n",
        "  src: the original src url to embed the form\n",
        "  fields: a dictionary of field:value pairs,\n",
        "  e.g. {\"pennkey\": my_pennkey, \"location\": my_location}\n",
        "  '''\n",
        "  prefill_fields = {}\n",
        "  for key in fields:\n",
        "      new_key = 'prefill_' + key\n",
        "      prefill_fields[new_key] = fields[key]\n",
        "  prefills = urllib.parse.urlencode(prefill_fields)\n",
        "  src = src + prefills\n",
        "  return src\n",
        "\n",
        "\n",
        "\n",
        "#autofill fields if they are not present\n",
        "#a missing pennkey and pod will result in an Airtable warning\n",
        "#which is easily fixed user-side.\n",
        "try: my_pennkey;\n",
        "except NameError: my_pennkey = \"\"\n",
        "\n",
        "try: my_pod;\n",
        "except NameError: my_pod = \"Select\"\n",
        "\n",
        "try: section1_ans;\n",
        "except NameError: section1_ans = \"\"\n",
        "\n",
        "try: section2_ans;\n",
        "except NameError: section2_ans = \"\"\n",
        "\n",
        "try: section3_ans;\n",
        "except NameError: section3_ans = \"\"\n",
        "\n",
        "try: section4_ans;\n",
        "except NameError: section4_ans = \"\"\n",
        "\n",
        "\n",
        "fields = {\"pennkey\": my_pennkey,\n",
        "          \"pod\": my_pod,\n",
        "          \"section1_ans\": section1_ans,\n",
        "          \"section2_ans\": section2_ans,\n",
        "          \"section3_ans\": section3_ans,\n",
        "          \"section4_ans\": section4_ans}\n",
        "\n",
        "src = \"https://airtable.com/shrZdjQjhvUSHVgW5?\"\n",
        "\n",
        "\n",
        "#now instead of the original source url, we do: src = prefill_form(src, fields)\n",
        "display.display(IFrame(src = prefill_form(src, fields), width = 800, height = 400))"
      ],
      "execution_count": 17,
      "outputs": [
        {
          "output_type": "error",
          "ename": "AttributeError",
          "evalue": "ignored",
          "traceback": [
            "\u001b[0;31m---------------------------------------------------------------------------\u001b[0m",
            "\u001b[0;31mAttributeError\u001b[0m                            Traceback (most recent call last)",
            "\u001b[0;32m<ipython-input-17-e5b64c467fcb>\u001b[0m in \u001b[0;36m<module>\u001b[0;34m()\u001b[0m\n\u001b[1;32m     59\u001b[0m \u001b[0;34m\u001b[0m\u001b[0m\n\u001b[1;32m     60\u001b[0m \u001b[0;31m#now instead of the original source url, we do: src = prefill_form(src, fields)\u001b[0m\u001b[0;34m\u001b[0m\u001b[0;34m\u001b[0m\u001b[0;34m\u001b[0m\u001b[0m\n\u001b[0;32m---> 61\u001b[0;31m \u001b[0mdisplay\u001b[0m\u001b[0;34m.\u001b[0m\u001b[0mdisplay\u001b[0m\u001b[0;34m(\u001b[0m\u001b[0mIFrame\u001b[0m\u001b[0;34m(\u001b[0m\u001b[0msrc\u001b[0m \u001b[0;34m=\u001b[0m \u001b[0mprefill_form\u001b[0m\u001b[0;34m(\u001b[0m\u001b[0msrc\u001b[0m\u001b[0;34m,\u001b[0m \u001b[0mfields\u001b[0m\u001b[0;34m)\u001b[0m\u001b[0;34m,\u001b[0m \u001b[0mwidth\u001b[0m \u001b[0;34m=\u001b[0m \u001b[0;36m800\u001b[0m\u001b[0;34m,\u001b[0m \u001b[0mheight\u001b[0m \u001b[0;34m=\u001b[0m \u001b[0;36m400\u001b[0m\u001b[0;34m)\u001b[0m\u001b[0;34m)\u001b[0m\u001b[0;34m\u001b[0m\u001b[0;34m\u001b[0m\u001b[0m\n\u001b[0m",
            "\u001b[0;31mAttributeError\u001b[0m: 'function' object has no attribute 'display'"
          ]
        }
      ]
    }
  ]
}