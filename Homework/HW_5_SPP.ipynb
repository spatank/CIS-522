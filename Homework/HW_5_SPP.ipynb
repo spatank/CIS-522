{
  "nbformat": 4,
  "nbformat_minor": 0,
  "metadata": {
    "colab": {
      "name": "HW_5_SPP",
      "provenance": [],
      "collapsed_sections": [],
      "toc_visible": true,
      "include_colab_link": true
    },
    "kernelspec": {
      "name": "python3",
      "display_name": "Python 3"
    },
    "accelerator": "GPU",
    "widgets": {
      "application/vnd.jupyter.widget-state+json": {
        "571039d99dcb4185a3723b7c4f7b15eb": {
          "model_module": "@jupyter-widgets/controls",
          "model_name": "HBoxModel",
          "state": {
            "_view_name": "HBoxView",
            "_dom_classes": [],
            "_model_name": "HBoxModel",
            "_view_module": "@jupyter-widgets/controls",
            "_model_module_version": "1.5.0",
            "_view_count": null,
            "_view_module_version": "1.5.0",
            "box_style": "",
            "layout": "IPY_MODEL_68ec9967c64a46119768d335a2dcf321",
            "_model_module": "@jupyter-widgets/controls",
            "children": [
              "IPY_MODEL_46e0c6e26efb4b8899bd28853f1721eb",
              "IPY_MODEL_27f8dd7d63664da6b9e3d17c547168f0"
            ]
          }
        },
        "68ec9967c64a46119768d335a2dcf321": {
          "model_module": "@jupyter-widgets/base",
          "model_name": "LayoutModel",
          "state": {
            "_view_name": "LayoutView",
            "grid_template_rows": null,
            "right": null,
            "justify_content": null,
            "_view_module": "@jupyter-widgets/base",
            "overflow": null,
            "_model_module_version": "1.2.0",
            "_view_count": null,
            "flex_flow": null,
            "width": null,
            "min_width": null,
            "border": null,
            "align_items": null,
            "bottom": null,
            "_model_module": "@jupyter-widgets/base",
            "top": null,
            "grid_column": null,
            "overflow_y": null,
            "overflow_x": null,
            "grid_auto_flow": null,
            "grid_area": null,
            "grid_template_columns": null,
            "flex": null,
            "_model_name": "LayoutModel",
            "justify_items": null,
            "grid_row": null,
            "max_height": null,
            "align_content": null,
            "visibility": null,
            "align_self": null,
            "height": null,
            "min_height": null,
            "padding": null,
            "grid_auto_rows": null,
            "grid_gap": null,
            "max_width": null,
            "order": null,
            "_view_module_version": "1.2.0",
            "grid_template_areas": null,
            "object_position": null,
            "object_fit": null,
            "grid_auto_columns": null,
            "margin": null,
            "display": null,
            "left": null
          }
        },
        "46e0c6e26efb4b8899bd28853f1721eb": {
          "model_module": "@jupyter-widgets/controls",
          "model_name": "FloatProgressModel",
          "state": {
            "_view_name": "ProgressView",
            "style": "IPY_MODEL_ac2312860c3b4f81bf2a318a2c71cd6f",
            "_dom_classes": [],
            "description": "",
            "_model_name": "FloatProgressModel",
            "bar_style": "success",
            "max": 1,
            "_view_module": "@jupyter-widgets/controls",
            "_model_module_version": "1.5.0",
            "value": 1,
            "_view_count": null,
            "_view_module_version": "1.5.0",
            "orientation": "horizontal",
            "min": 0,
            "description_tooltip": null,
            "_model_module": "@jupyter-widgets/controls",
            "layout": "IPY_MODEL_bfd13ab5607a422e9ff649b73dccc6b0"
          }
        },
        "27f8dd7d63664da6b9e3d17c547168f0": {
          "model_module": "@jupyter-widgets/controls",
          "model_name": "HTMLModel",
          "state": {
            "_view_name": "HTMLView",
            "style": "IPY_MODEL_fcb2f8b8fa234e259ec44e71088f54b4",
            "_dom_classes": [],
            "description": "",
            "_model_name": "HTMLModel",
            "placeholder": "​",
            "_view_module": "@jupyter-widgets/controls",
            "_model_module_version": "1.5.0",
            "value": " 9920512/? [00:01&lt;00:00, 7580687.49it/s]",
            "_view_count": null,
            "_view_module_version": "1.5.0",
            "description_tooltip": null,
            "_model_module": "@jupyter-widgets/controls",
            "layout": "IPY_MODEL_e62cfccf4b8240f39a7894a956405bd1"
          }
        },
        "ac2312860c3b4f81bf2a318a2c71cd6f": {
          "model_module": "@jupyter-widgets/controls",
          "model_name": "ProgressStyleModel",
          "state": {
            "_view_name": "StyleView",
            "_model_name": "ProgressStyleModel",
            "description_width": "initial",
            "_view_module": "@jupyter-widgets/base",
            "_model_module_version": "1.5.0",
            "_view_count": null,
            "_view_module_version": "1.2.0",
            "bar_color": null,
            "_model_module": "@jupyter-widgets/controls"
          }
        },
        "bfd13ab5607a422e9ff649b73dccc6b0": {
          "model_module": "@jupyter-widgets/base",
          "model_name": "LayoutModel",
          "state": {
            "_view_name": "LayoutView",
            "grid_template_rows": null,
            "right": null,
            "justify_content": null,
            "_view_module": "@jupyter-widgets/base",
            "overflow": null,
            "_model_module_version": "1.2.0",
            "_view_count": null,
            "flex_flow": null,
            "width": null,
            "min_width": null,
            "border": null,
            "align_items": null,
            "bottom": null,
            "_model_module": "@jupyter-widgets/base",
            "top": null,
            "grid_column": null,
            "overflow_y": null,
            "overflow_x": null,
            "grid_auto_flow": null,
            "grid_area": null,
            "grid_template_columns": null,
            "flex": null,
            "_model_name": "LayoutModel",
            "justify_items": null,
            "grid_row": null,
            "max_height": null,
            "align_content": null,
            "visibility": null,
            "align_self": null,
            "height": null,
            "min_height": null,
            "padding": null,
            "grid_auto_rows": null,
            "grid_gap": null,
            "max_width": null,
            "order": null,
            "_view_module_version": "1.2.0",
            "grid_template_areas": null,
            "object_position": null,
            "object_fit": null,
            "grid_auto_columns": null,
            "margin": null,
            "display": null,
            "left": null
          }
        },
        "fcb2f8b8fa234e259ec44e71088f54b4": {
          "model_module": "@jupyter-widgets/controls",
          "model_name": "DescriptionStyleModel",
          "state": {
            "_view_name": "StyleView",
            "_model_name": "DescriptionStyleModel",
            "description_width": "",
            "_view_module": "@jupyter-widgets/base",
            "_model_module_version": "1.5.0",
            "_view_count": null,
            "_view_module_version": "1.2.0",
            "_model_module": "@jupyter-widgets/controls"
          }
        },
        "e62cfccf4b8240f39a7894a956405bd1": {
          "model_module": "@jupyter-widgets/base",
          "model_name": "LayoutModel",
          "state": {
            "_view_name": "LayoutView",
            "grid_template_rows": null,
            "right": null,
            "justify_content": null,
            "_view_module": "@jupyter-widgets/base",
            "overflow": null,
            "_model_module_version": "1.2.0",
            "_view_count": null,
            "flex_flow": null,
            "width": null,
            "min_width": null,
            "border": null,
            "align_items": null,
            "bottom": null,
            "_model_module": "@jupyter-widgets/base",
            "top": null,
            "grid_column": null,
            "overflow_y": null,
            "overflow_x": null,
            "grid_auto_flow": null,
            "grid_area": null,
            "grid_template_columns": null,
            "flex": null,
            "_model_name": "LayoutModel",
            "justify_items": null,
            "grid_row": null,
            "max_height": null,
            "align_content": null,
            "visibility": null,
            "align_self": null,
            "height": null,
            "min_height": null,
            "padding": null,
            "grid_auto_rows": null,
            "grid_gap": null,
            "max_width": null,
            "order": null,
            "_view_module_version": "1.2.0",
            "grid_template_areas": null,
            "object_position": null,
            "object_fit": null,
            "grid_auto_columns": null,
            "margin": null,
            "display": null,
            "left": null
          }
        },
        "eb26b294e2c14831b4b6e1ead7f34706": {
          "model_module": "@jupyter-widgets/controls",
          "model_name": "HBoxModel",
          "state": {
            "_view_name": "HBoxView",
            "_dom_classes": [],
            "_model_name": "HBoxModel",
            "_view_module": "@jupyter-widgets/controls",
            "_model_module_version": "1.5.0",
            "_view_count": null,
            "_view_module_version": "1.5.0",
            "box_style": "",
            "layout": "IPY_MODEL_1d0335f4683c4ea58b801f314a187db5",
            "_model_module": "@jupyter-widgets/controls",
            "children": [
              "IPY_MODEL_aa1144100af546d4adea28598fb7db28",
              "IPY_MODEL_ae87fa89287641e2b75acbc351ee96a5"
            ]
          }
        },
        "1d0335f4683c4ea58b801f314a187db5": {
          "model_module": "@jupyter-widgets/base",
          "model_name": "LayoutModel",
          "state": {
            "_view_name": "LayoutView",
            "grid_template_rows": null,
            "right": null,
            "justify_content": null,
            "_view_module": "@jupyter-widgets/base",
            "overflow": null,
            "_model_module_version": "1.2.0",
            "_view_count": null,
            "flex_flow": null,
            "width": null,
            "min_width": null,
            "border": null,
            "align_items": null,
            "bottom": null,
            "_model_module": "@jupyter-widgets/base",
            "top": null,
            "grid_column": null,
            "overflow_y": null,
            "overflow_x": null,
            "grid_auto_flow": null,
            "grid_area": null,
            "grid_template_columns": null,
            "flex": null,
            "_model_name": "LayoutModel",
            "justify_items": null,
            "grid_row": null,
            "max_height": null,
            "align_content": null,
            "visibility": null,
            "align_self": null,
            "height": null,
            "min_height": null,
            "padding": null,
            "grid_auto_rows": null,
            "grid_gap": null,
            "max_width": null,
            "order": null,
            "_view_module_version": "1.2.0",
            "grid_template_areas": null,
            "object_position": null,
            "object_fit": null,
            "grid_auto_columns": null,
            "margin": null,
            "display": null,
            "left": null
          }
        },
        "aa1144100af546d4adea28598fb7db28": {
          "model_module": "@jupyter-widgets/controls",
          "model_name": "FloatProgressModel",
          "state": {
            "_view_name": "ProgressView",
            "style": "IPY_MODEL_a70204c8e74948b695683accd7a32b44",
            "_dom_classes": [],
            "description": "",
            "_model_name": "FloatProgressModel",
            "bar_style": "success",
            "max": 1,
            "_view_module": "@jupyter-widgets/controls",
            "_model_module_version": "1.5.0",
            "value": 1,
            "_view_count": null,
            "_view_module_version": "1.5.0",
            "orientation": "horizontal",
            "min": 0,
            "description_tooltip": null,
            "_model_module": "@jupyter-widgets/controls",
            "layout": "IPY_MODEL_f0afc54e3ede4c8caa4194442b9bd811"
          }
        },
        "ae87fa89287641e2b75acbc351ee96a5": {
          "model_module": "@jupyter-widgets/controls",
          "model_name": "HTMLModel",
          "state": {
            "_view_name": "HTMLView",
            "style": "IPY_MODEL_4494ee506f4340f9b3aaaccf0e8336c1",
            "_dom_classes": [],
            "description": "",
            "_model_name": "HTMLModel",
            "placeholder": "​",
            "_view_module": "@jupyter-widgets/controls",
            "_model_module_version": "1.5.0",
            "value": " 32768/? [00:00&lt;00:00, 106170.23it/s]",
            "_view_count": null,
            "_view_module_version": "1.5.0",
            "description_tooltip": null,
            "_model_module": "@jupyter-widgets/controls",
            "layout": "IPY_MODEL_cbb5b1db2fc5443c8b98e05be2f8bc22"
          }
        },
        "a70204c8e74948b695683accd7a32b44": {
          "model_module": "@jupyter-widgets/controls",
          "model_name": "ProgressStyleModel",
          "state": {
            "_view_name": "StyleView",
            "_model_name": "ProgressStyleModel",
            "description_width": "initial",
            "_view_module": "@jupyter-widgets/base",
            "_model_module_version": "1.5.0",
            "_view_count": null,
            "_view_module_version": "1.2.0",
            "bar_color": null,
            "_model_module": "@jupyter-widgets/controls"
          }
        },
        "f0afc54e3ede4c8caa4194442b9bd811": {
          "model_module": "@jupyter-widgets/base",
          "model_name": "LayoutModel",
          "state": {
            "_view_name": "LayoutView",
            "grid_template_rows": null,
            "right": null,
            "justify_content": null,
            "_view_module": "@jupyter-widgets/base",
            "overflow": null,
            "_model_module_version": "1.2.0",
            "_view_count": null,
            "flex_flow": null,
            "width": null,
            "min_width": null,
            "border": null,
            "align_items": null,
            "bottom": null,
            "_model_module": "@jupyter-widgets/base",
            "top": null,
            "grid_column": null,
            "overflow_y": null,
            "overflow_x": null,
            "grid_auto_flow": null,
            "grid_area": null,
            "grid_template_columns": null,
            "flex": null,
            "_model_name": "LayoutModel",
            "justify_items": null,
            "grid_row": null,
            "max_height": null,
            "align_content": null,
            "visibility": null,
            "align_self": null,
            "height": null,
            "min_height": null,
            "padding": null,
            "grid_auto_rows": null,
            "grid_gap": null,
            "max_width": null,
            "order": null,
            "_view_module_version": "1.2.0",
            "grid_template_areas": null,
            "object_position": null,
            "object_fit": null,
            "grid_auto_columns": null,
            "margin": null,
            "display": null,
            "left": null
          }
        },
        "4494ee506f4340f9b3aaaccf0e8336c1": {
          "model_module": "@jupyter-widgets/controls",
          "model_name": "DescriptionStyleModel",
          "state": {
            "_view_name": "StyleView",
            "_model_name": "DescriptionStyleModel",
            "description_width": "",
            "_view_module": "@jupyter-widgets/base",
            "_model_module_version": "1.5.0",
            "_view_count": null,
            "_view_module_version": "1.2.0",
            "_model_module": "@jupyter-widgets/controls"
          }
        },
        "cbb5b1db2fc5443c8b98e05be2f8bc22": {
          "model_module": "@jupyter-widgets/base",
          "model_name": "LayoutModel",
          "state": {
            "_view_name": "LayoutView",
            "grid_template_rows": null,
            "right": null,
            "justify_content": null,
            "_view_module": "@jupyter-widgets/base",
            "overflow": null,
            "_model_module_version": "1.2.0",
            "_view_count": null,
            "flex_flow": null,
            "width": null,
            "min_width": null,
            "border": null,
            "align_items": null,
            "bottom": null,
            "_model_module": "@jupyter-widgets/base",
            "top": null,
            "grid_column": null,
            "overflow_y": null,
            "overflow_x": null,
            "grid_auto_flow": null,
            "grid_area": null,
            "grid_template_columns": null,
            "flex": null,
            "_model_name": "LayoutModel",
            "justify_items": null,
            "grid_row": null,
            "max_height": null,
            "align_content": null,
            "visibility": null,
            "align_self": null,
            "height": null,
            "min_height": null,
            "padding": null,
            "grid_auto_rows": null,
            "grid_gap": null,
            "max_width": null,
            "order": null,
            "_view_module_version": "1.2.0",
            "grid_template_areas": null,
            "object_position": null,
            "object_fit": null,
            "grid_auto_columns": null,
            "margin": null,
            "display": null,
            "left": null
          }
        },
        "d920580229374e96a1afbfbf4707d0db": {
          "model_module": "@jupyter-widgets/controls",
          "model_name": "HBoxModel",
          "state": {
            "_view_name": "HBoxView",
            "_dom_classes": [],
            "_model_name": "HBoxModel",
            "_view_module": "@jupyter-widgets/controls",
            "_model_module_version": "1.5.0",
            "_view_count": null,
            "_view_module_version": "1.5.0",
            "box_style": "",
            "layout": "IPY_MODEL_57ae3814517d4001b5e35f0c2e38d64d",
            "_model_module": "@jupyter-widgets/controls",
            "children": [
              "IPY_MODEL_a3568adfd8a94b2e8f8f4cb48aa5f9dc",
              "IPY_MODEL_a7b655b83b1946408cfb88c51f1bdcf2"
            ]
          }
        },
        "57ae3814517d4001b5e35f0c2e38d64d": {
          "model_module": "@jupyter-widgets/base",
          "model_name": "LayoutModel",
          "state": {
            "_view_name": "LayoutView",
            "grid_template_rows": null,
            "right": null,
            "justify_content": null,
            "_view_module": "@jupyter-widgets/base",
            "overflow": null,
            "_model_module_version": "1.2.0",
            "_view_count": null,
            "flex_flow": null,
            "width": null,
            "min_width": null,
            "border": null,
            "align_items": null,
            "bottom": null,
            "_model_module": "@jupyter-widgets/base",
            "top": null,
            "grid_column": null,
            "overflow_y": null,
            "overflow_x": null,
            "grid_auto_flow": null,
            "grid_area": null,
            "grid_template_columns": null,
            "flex": null,
            "_model_name": "LayoutModel",
            "justify_items": null,
            "grid_row": null,
            "max_height": null,
            "align_content": null,
            "visibility": null,
            "align_self": null,
            "height": null,
            "min_height": null,
            "padding": null,
            "grid_auto_rows": null,
            "grid_gap": null,
            "max_width": null,
            "order": null,
            "_view_module_version": "1.2.0",
            "grid_template_areas": null,
            "object_position": null,
            "object_fit": null,
            "grid_auto_columns": null,
            "margin": null,
            "display": null,
            "left": null
          }
        },
        "a3568adfd8a94b2e8f8f4cb48aa5f9dc": {
          "model_module": "@jupyter-widgets/controls",
          "model_name": "FloatProgressModel",
          "state": {
            "_view_name": "ProgressView",
            "style": "IPY_MODEL_7f2e079caacc4a99b130bc6cb76d105f",
            "_dom_classes": [],
            "description": "",
            "_model_name": "FloatProgressModel",
            "bar_style": "success",
            "max": 1,
            "_view_module": "@jupyter-widgets/controls",
            "_model_module_version": "1.5.0",
            "value": 1,
            "_view_count": null,
            "_view_module_version": "1.5.0",
            "orientation": "horizontal",
            "min": 0,
            "description_tooltip": null,
            "_model_module": "@jupyter-widgets/controls",
            "layout": "IPY_MODEL_48de9cb5bfc54264abc911555d9e780c"
          }
        },
        "a7b655b83b1946408cfb88c51f1bdcf2": {
          "model_module": "@jupyter-widgets/controls",
          "model_name": "HTMLModel",
          "state": {
            "_view_name": "HTMLView",
            "style": "IPY_MODEL_c9968f7656cc42b482e05dcf90282659",
            "_dom_classes": [],
            "description": "",
            "_model_name": "HTMLModel",
            "placeholder": "​",
            "_view_module": "@jupyter-widgets/controls",
            "_model_module_version": "1.5.0",
            "value": " 1654784/? [00:00&lt;00:00, 7106329.91it/s]",
            "_view_count": null,
            "_view_module_version": "1.5.0",
            "description_tooltip": null,
            "_model_module": "@jupyter-widgets/controls",
            "layout": "IPY_MODEL_715c25006d9143e6a0321c01b399a2fd"
          }
        },
        "7f2e079caacc4a99b130bc6cb76d105f": {
          "model_module": "@jupyter-widgets/controls",
          "model_name": "ProgressStyleModel",
          "state": {
            "_view_name": "StyleView",
            "_model_name": "ProgressStyleModel",
            "description_width": "initial",
            "_view_module": "@jupyter-widgets/base",
            "_model_module_version": "1.5.0",
            "_view_count": null,
            "_view_module_version": "1.2.0",
            "bar_color": null,
            "_model_module": "@jupyter-widgets/controls"
          }
        },
        "48de9cb5bfc54264abc911555d9e780c": {
          "model_module": "@jupyter-widgets/base",
          "model_name": "LayoutModel",
          "state": {
            "_view_name": "LayoutView",
            "grid_template_rows": null,
            "right": null,
            "justify_content": null,
            "_view_module": "@jupyter-widgets/base",
            "overflow": null,
            "_model_module_version": "1.2.0",
            "_view_count": null,
            "flex_flow": null,
            "width": null,
            "min_width": null,
            "border": null,
            "align_items": null,
            "bottom": null,
            "_model_module": "@jupyter-widgets/base",
            "top": null,
            "grid_column": null,
            "overflow_y": null,
            "overflow_x": null,
            "grid_auto_flow": null,
            "grid_area": null,
            "grid_template_columns": null,
            "flex": null,
            "_model_name": "LayoutModel",
            "justify_items": null,
            "grid_row": null,
            "max_height": null,
            "align_content": null,
            "visibility": null,
            "align_self": null,
            "height": null,
            "min_height": null,
            "padding": null,
            "grid_auto_rows": null,
            "grid_gap": null,
            "max_width": null,
            "order": null,
            "_view_module_version": "1.2.0",
            "grid_template_areas": null,
            "object_position": null,
            "object_fit": null,
            "grid_auto_columns": null,
            "margin": null,
            "display": null,
            "left": null
          }
        },
        "c9968f7656cc42b482e05dcf90282659": {
          "model_module": "@jupyter-widgets/controls",
          "model_name": "DescriptionStyleModel",
          "state": {
            "_view_name": "StyleView",
            "_model_name": "DescriptionStyleModel",
            "description_width": "",
            "_view_module": "@jupyter-widgets/base",
            "_model_module_version": "1.5.0",
            "_view_count": null,
            "_view_module_version": "1.2.0",
            "_model_module": "@jupyter-widgets/controls"
          }
        },
        "715c25006d9143e6a0321c01b399a2fd": {
          "model_module": "@jupyter-widgets/base",
          "model_name": "LayoutModel",
          "state": {
            "_view_name": "LayoutView",
            "grid_template_rows": null,
            "right": null,
            "justify_content": null,
            "_view_module": "@jupyter-widgets/base",
            "overflow": null,
            "_model_module_version": "1.2.0",
            "_view_count": null,
            "flex_flow": null,
            "width": null,
            "min_width": null,
            "border": null,
            "align_items": null,
            "bottom": null,
            "_model_module": "@jupyter-widgets/base",
            "top": null,
            "grid_column": null,
            "overflow_y": null,
            "overflow_x": null,
            "grid_auto_flow": null,
            "grid_area": null,
            "grid_template_columns": null,
            "flex": null,
            "_model_name": "LayoutModel",
            "justify_items": null,
            "grid_row": null,
            "max_height": null,
            "align_content": null,
            "visibility": null,
            "align_self": null,
            "height": null,
            "min_height": null,
            "padding": null,
            "grid_auto_rows": null,
            "grid_gap": null,
            "max_width": null,
            "order": null,
            "_view_module_version": "1.2.0",
            "grid_template_areas": null,
            "object_position": null,
            "object_fit": null,
            "grid_auto_columns": null,
            "margin": null,
            "display": null,
            "left": null
          }
        },
        "3e9dbd606f1a4b7397c03c1ceb997742": {
          "model_module": "@jupyter-widgets/controls",
          "model_name": "HBoxModel",
          "state": {
            "_view_name": "HBoxView",
            "_dom_classes": [],
            "_model_name": "HBoxModel",
            "_view_module": "@jupyter-widgets/controls",
            "_model_module_version": "1.5.0",
            "_view_count": null,
            "_view_module_version": "1.5.0",
            "box_style": "",
            "layout": "IPY_MODEL_cde79035d95c47f59c214821e38d4da1",
            "_model_module": "@jupyter-widgets/controls",
            "children": [
              "IPY_MODEL_7a6e60884197449a91d0fcfd1e4be7c0",
              "IPY_MODEL_1cd82f7299724a52ac723c4bdfe1558a"
            ]
          }
        },
        "cde79035d95c47f59c214821e38d4da1": {
          "model_module": "@jupyter-widgets/base",
          "model_name": "LayoutModel",
          "state": {
            "_view_name": "LayoutView",
            "grid_template_rows": null,
            "right": null,
            "justify_content": null,
            "_view_module": "@jupyter-widgets/base",
            "overflow": null,
            "_model_module_version": "1.2.0",
            "_view_count": null,
            "flex_flow": null,
            "width": null,
            "min_width": null,
            "border": null,
            "align_items": null,
            "bottom": null,
            "_model_module": "@jupyter-widgets/base",
            "top": null,
            "grid_column": null,
            "overflow_y": null,
            "overflow_x": null,
            "grid_auto_flow": null,
            "grid_area": null,
            "grid_template_columns": null,
            "flex": null,
            "_model_name": "LayoutModel",
            "justify_items": null,
            "grid_row": null,
            "max_height": null,
            "align_content": null,
            "visibility": null,
            "align_self": null,
            "height": null,
            "min_height": null,
            "padding": null,
            "grid_auto_rows": null,
            "grid_gap": null,
            "max_width": null,
            "order": null,
            "_view_module_version": "1.2.0",
            "grid_template_areas": null,
            "object_position": null,
            "object_fit": null,
            "grid_auto_columns": null,
            "margin": null,
            "display": null,
            "left": null
          }
        },
        "7a6e60884197449a91d0fcfd1e4be7c0": {
          "model_module": "@jupyter-widgets/controls",
          "model_name": "FloatProgressModel",
          "state": {
            "_view_name": "ProgressView",
            "style": "IPY_MODEL_ef09e8779dfd4e4b88f005137bdff8d9",
            "_dom_classes": [],
            "description": "",
            "_model_name": "FloatProgressModel",
            "bar_style": "success",
            "max": 1,
            "_view_module": "@jupyter-widgets/controls",
            "_model_module_version": "1.5.0",
            "value": 1,
            "_view_count": null,
            "_view_module_version": "1.5.0",
            "orientation": "horizontal",
            "min": 0,
            "description_tooltip": null,
            "_model_module": "@jupyter-widgets/controls",
            "layout": "IPY_MODEL_02f94da21ad044369f6382c9fd6ed0b6"
          }
        },
        "1cd82f7299724a52ac723c4bdfe1558a": {
          "model_module": "@jupyter-widgets/controls",
          "model_name": "HTMLModel",
          "state": {
            "_view_name": "HTMLView",
            "style": "IPY_MODEL_d7bea9e632074243a5f778012d984390",
            "_dom_classes": [],
            "description": "",
            "_model_name": "HTMLModel",
            "placeholder": "​",
            "_view_module": "@jupyter-widgets/controls",
            "_model_module_version": "1.5.0",
            "value": " 8192/? [00:00&lt;00:00, 20557.83it/s]",
            "_view_count": null,
            "_view_module_version": "1.5.0",
            "description_tooltip": null,
            "_model_module": "@jupyter-widgets/controls",
            "layout": "IPY_MODEL_436cf96908974be9a32e2700f25cdeb7"
          }
        },
        "ef09e8779dfd4e4b88f005137bdff8d9": {
          "model_module": "@jupyter-widgets/controls",
          "model_name": "ProgressStyleModel",
          "state": {
            "_view_name": "StyleView",
            "_model_name": "ProgressStyleModel",
            "description_width": "initial",
            "_view_module": "@jupyter-widgets/base",
            "_model_module_version": "1.5.0",
            "_view_count": null,
            "_view_module_version": "1.2.0",
            "bar_color": null,
            "_model_module": "@jupyter-widgets/controls"
          }
        },
        "02f94da21ad044369f6382c9fd6ed0b6": {
          "model_module": "@jupyter-widgets/base",
          "model_name": "LayoutModel",
          "state": {
            "_view_name": "LayoutView",
            "grid_template_rows": null,
            "right": null,
            "justify_content": null,
            "_view_module": "@jupyter-widgets/base",
            "overflow": null,
            "_model_module_version": "1.2.0",
            "_view_count": null,
            "flex_flow": null,
            "width": null,
            "min_width": null,
            "border": null,
            "align_items": null,
            "bottom": null,
            "_model_module": "@jupyter-widgets/base",
            "top": null,
            "grid_column": null,
            "overflow_y": null,
            "overflow_x": null,
            "grid_auto_flow": null,
            "grid_area": null,
            "grid_template_columns": null,
            "flex": null,
            "_model_name": "LayoutModel",
            "justify_items": null,
            "grid_row": null,
            "max_height": null,
            "align_content": null,
            "visibility": null,
            "align_self": null,
            "height": null,
            "min_height": null,
            "padding": null,
            "grid_auto_rows": null,
            "grid_gap": null,
            "max_width": null,
            "order": null,
            "_view_module_version": "1.2.0",
            "grid_template_areas": null,
            "object_position": null,
            "object_fit": null,
            "grid_auto_columns": null,
            "margin": null,
            "display": null,
            "left": null
          }
        },
        "d7bea9e632074243a5f778012d984390": {
          "model_module": "@jupyter-widgets/controls",
          "model_name": "DescriptionStyleModel",
          "state": {
            "_view_name": "StyleView",
            "_model_name": "DescriptionStyleModel",
            "description_width": "",
            "_view_module": "@jupyter-widgets/base",
            "_model_module_version": "1.5.0",
            "_view_count": null,
            "_view_module_version": "1.2.0",
            "_model_module": "@jupyter-widgets/controls"
          }
        },
        "436cf96908974be9a32e2700f25cdeb7": {
          "model_module": "@jupyter-widgets/base",
          "model_name": "LayoutModel",
          "state": {
            "_view_name": "LayoutView",
            "grid_template_rows": null,
            "right": null,
            "justify_content": null,
            "_view_module": "@jupyter-widgets/base",
            "overflow": null,
            "_model_module_version": "1.2.0",
            "_view_count": null,
            "flex_flow": null,
            "width": null,
            "min_width": null,
            "border": null,
            "align_items": null,
            "bottom": null,
            "_model_module": "@jupyter-widgets/base",
            "top": null,
            "grid_column": null,
            "overflow_y": null,
            "overflow_x": null,
            "grid_auto_flow": null,
            "grid_area": null,
            "grid_template_columns": null,
            "flex": null,
            "_model_name": "LayoutModel",
            "justify_items": null,
            "grid_row": null,
            "max_height": null,
            "align_content": null,
            "visibility": null,
            "align_self": null,
            "height": null,
            "min_height": null,
            "padding": null,
            "grid_auto_rows": null,
            "grid_gap": null,
            "max_width": null,
            "order": null,
            "_view_module_version": "1.2.0",
            "grid_template_areas": null,
            "object_position": null,
            "object_fit": null,
            "grid_auto_columns": null,
            "margin": null,
            "display": null,
            "left": null
          }
        }
      }
    }
  },
  "cells": [
    {
      "cell_type": "markdown",
      "metadata": {
        "id": "view-in-github",
        "colab_type": "text"
      },
      "source": [
        "<a href=\"https://colab.research.google.com/github/spatank/CIS-522/blob/main/Homework/HW_5_SPP.ipynb\" target=\"_parent\"><img src=\"https://colab.research.google.com/assets/colab-badge.svg\" alt=\"Open In Colab\"/></a>"
      ]
    },
    {
      "cell_type": "markdown",
      "metadata": {
        "id": "ZhzzdfoH8O34"
      },
      "source": [
        "# CIS-522 Week 5 Homework\n",
        "\n",
        "\n",
        "**Instructor:** Lyle Ungar\n",
        "\n",
        "**Content Creators:** Jordan Lei\n"
      ]
    },
    {
      "cell_type": "code",
      "metadata": {
        "id": "R_VqTwG09NEn",
        "cellView": "form"
      },
      "source": [
        "#@markdown What is your Pennkey and pod? (text, not numbers, e.g. bfranklin)\n",
        "my_pennkey = 'spatank' #@param {type:\"string\"}\n",
        "my_pod = 'sublime-newt' #@param ['Select', 'euclidean-wombat', 'sublime-newt', 'buoyant-unicorn', 'lackadaisical-manatee','indelible-stingray','superfluous-lyrebird','discreet-reindeer','quizzical-goldfish','ubiquitous-cheetah','nonchalant-crocodile','fashionable-lemur','spiffy-eagle','electric-emu','quotidian-lion','astute-jellyfish', 'quantum-herring']\n",
        "\n",
        "# start timing\n",
        "import time\n",
        "try:t0;\n",
        "except NameError: t0 = time.time()\n"
      ],
      "execution_count": 1,
      "outputs": []
    },
    {
      "cell_type": "code",
      "metadata": {
        "id": "MPBNHacqXkrC",
        "colab": {
          "base_uri": "https://localhost:8080/"
        },
        "cellView": "form",
        "outputId": "67e01219-028f-41a5-a7c6-739fe542319e"
      },
      "source": [
        "#@markdown Run this cell for imports. It should print \"cuda\"\n",
        "#@markdown \n",
        "from __future__ import print_function\n",
        "import torch\n",
        "import pathlib\n",
        "import torch.nn as nn\n",
        "import torch.nn.functional as F\n",
        "import torch.optim as optim\n",
        "from torchvision import datasets, transforms\n",
        "from torchvision.datasets import ImageFolder\n",
        "from torch.utils.data import DataLoader, TensorDataset\n",
        "import time\n",
        "import numpy as np\n",
        "import matplotlib.pyplot as plt\n",
        "import copy\n",
        "\n",
        "torch.manual_seed(2021)\n",
        "device = torch.device(\"cuda\" if torch.cuda.is_available() else \"cpu\")\n",
        "print(device)"
      ],
      "execution_count": 2,
      "outputs": [
        {
          "output_type": "stream",
          "text": [
            "cuda\n"
          ],
          "name": "stdout"
        }
      ]
    },
    {
      "cell_type": "markdown",
      "metadata": {
        "id": "0qzHTBpz9hy4"
      },
      "source": [
        "# Part 1. Attack!\n",
        "In this homework, you will implement a simple adversarial attack on a neural network trained on MNIST handwritten digits. It might sound complicated, but we'll guide you through it step by step. First, let's download and familiarize ourselves with the dataset. \n",
        "\n",
        "**Run the cell below. Do not modify.**\n"
      ]
    },
    {
      "cell_type": "code",
      "metadata": {
        "id": "EQAEcBpEXsAf",
        "colab": {
          "base_uri": "https://localhost:8080/",
          "height": 702,
          "referenced_widgets": [
            "571039d99dcb4185a3723b7c4f7b15eb",
            "68ec9967c64a46119768d335a2dcf321",
            "46e0c6e26efb4b8899bd28853f1721eb",
            "27f8dd7d63664da6b9e3d17c547168f0",
            "ac2312860c3b4f81bf2a318a2c71cd6f",
            "bfd13ab5607a422e9ff649b73dccc6b0",
            "fcb2f8b8fa234e259ec44e71088f54b4",
            "e62cfccf4b8240f39a7894a956405bd1",
            "eb26b294e2c14831b4b6e1ead7f34706",
            "1d0335f4683c4ea58b801f314a187db5",
            "aa1144100af546d4adea28598fb7db28",
            "ae87fa89287641e2b75acbc351ee96a5",
            "a70204c8e74948b695683accd7a32b44",
            "f0afc54e3ede4c8caa4194442b9bd811",
            "4494ee506f4340f9b3aaaccf0e8336c1",
            "cbb5b1db2fc5443c8b98e05be2f8bc22",
            "d920580229374e96a1afbfbf4707d0db",
            "57ae3814517d4001b5e35f0c2e38d64d",
            "a3568adfd8a94b2e8f8f4cb48aa5f9dc",
            "a7b655b83b1946408cfb88c51f1bdcf2",
            "7f2e079caacc4a99b130bc6cb76d105f",
            "48de9cb5bfc54264abc911555d9e780c",
            "c9968f7656cc42b482e05dcf90282659",
            "715c25006d9143e6a0321c01b399a2fd",
            "3e9dbd606f1a4b7397c03c1ceb997742",
            "cde79035d95c47f59c214821e38d4da1",
            "7a6e60884197449a91d0fcfd1e4be7c0",
            "1cd82f7299724a52ac723c4bdfe1558a",
            "ef09e8779dfd4e4b88f005137bdff8d9",
            "02f94da21ad044369f6382c9fd6ed0b6",
            "d7bea9e632074243a5f778012d984390",
            "436cf96908974be9a32e2700f25cdeb7"
          ]
        },
        "outputId": "84bc6701-7b22-475d-a405-066f97f5850a"
      },
      "source": [
        "dataset = datasets.MNIST(\"/content/\", download = True, train = True, transform = transforms.ToTensor())\n",
        "\n",
        "len_train = int(0.8 * len(dataset))\n",
        "len_val = len(dataset) - len_train\n",
        "train_dataset, val_dataset = torch.utils.data.random_split(dataset, [len_train, len_val])\n",
        "\n",
        "# train_loader is the data loader containing the training samples\n",
        "train_loader = DataLoader(train_dataset, batch_size = 64, shuffle = True)\n",
        "# val_loader is the data loader containing the validation samples\n",
        "val_loader = DataLoader(val_dataset, batch_size = 64, shuffle = True)\n",
        "\n",
        "# visualize one of the elements\n",
        "base_image = dataset[0][0].reshape(1, 784)\n",
        "plt.imshow(base_image.reshape(28, 28).numpy())\n",
        "plt.show()\n",
        "print(\"Above, I have an image with the corresponding label:\", dataset[0][1])"
      ],
      "execution_count": 3,
      "outputs": [
        {
          "output_type": "stream",
          "text": [
            "Downloading http://yann.lecun.com/exdb/mnist/train-images-idx3-ubyte.gz to /content/MNIST/raw/train-images-idx3-ubyte.gz\n"
          ],
          "name": "stdout"
        },
        {
          "output_type": "display_data",
          "data": {
            "application/vnd.jupyter.widget-view+json": {
              "model_id": "571039d99dcb4185a3723b7c4f7b15eb",
              "version_minor": 0,
              "version_major": 2
            },
            "text/plain": [
              "HBox(children=(FloatProgress(value=1.0, bar_style='info', max=1.0), HTML(value='')))"
            ]
          },
          "metadata": {
            "tags": []
          }
        },
        {
          "output_type": "stream",
          "text": [
            "Extracting /content/MNIST/raw/train-images-idx3-ubyte.gz to /content/MNIST/raw\n",
            "Downloading http://yann.lecun.com/exdb/mnist/train-labels-idx1-ubyte.gz to /content/MNIST/raw/train-labels-idx1-ubyte.gz\n"
          ],
          "name": "stdout"
        },
        {
          "output_type": "display_data",
          "data": {
            "application/vnd.jupyter.widget-view+json": {
              "model_id": "eb26b294e2c14831b4b6e1ead7f34706",
              "version_minor": 0,
              "version_major": 2
            },
            "text/plain": [
              "HBox(children=(FloatProgress(value=1.0, bar_style='info', max=1.0), HTML(value='')))"
            ]
          },
          "metadata": {
            "tags": []
          }
        },
        {
          "output_type": "stream",
          "text": [
            "Extracting /content/MNIST/raw/train-labels-idx1-ubyte.gz to /content/MNIST/raw\n",
            "Downloading http://yann.lecun.com/exdb/mnist/t10k-images-idx3-ubyte.gz to /content/MNIST/raw/t10k-images-idx3-ubyte.gz\n"
          ],
          "name": "stdout"
        },
        {
          "output_type": "display_data",
          "data": {
            "application/vnd.jupyter.widget-view+json": {
              "model_id": "d920580229374e96a1afbfbf4707d0db",
              "version_minor": 0,
              "version_major": 2
            },
            "text/plain": [
              "HBox(children=(FloatProgress(value=1.0, bar_style='info', max=1.0), HTML(value='')))"
            ]
          },
          "metadata": {
            "tags": []
          }
        },
        {
          "output_type": "stream",
          "text": [
            "Extracting /content/MNIST/raw/t10k-images-idx3-ubyte.gz to /content/MNIST/raw\n",
            "Downloading http://yann.lecun.com/exdb/mnist/t10k-labels-idx1-ubyte.gz to /content/MNIST/raw/t10k-labels-idx1-ubyte.gz\n",
            "\n",
            "\n"
          ],
          "name": "stdout"
        },
        {
          "output_type": "display_data",
          "data": {
            "application/vnd.jupyter.widget-view+json": {
              "model_id": "3e9dbd606f1a4b7397c03c1ceb997742",
              "version_minor": 0,
              "version_major": 2
            },
            "text/plain": [
              "HBox(children=(FloatProgress(value=1.0, bar_style='info', max=1.0), HTML(value='')))"
            ]
          },
          "metadata": {
            "tags": []
          }
        },
        {
          "output_type": "stream",
          "text": [
            "Extracting /content/MNIST/raw/t10k-labels-idx1-ubyte.gz to /content/MNIST/raw\n",
            "Processing...\n",
            "Done!\n"
          ],
          "name": "stdout"
        },
        {
          "output_type": "stream",
          "text": [
            "/usr/local/lib/python3.7/dist-packages/torchvision/datasets/mnist.py:480: UserWarning: The given NumPy array is not writeable, and PyTorch does not support non-writeable tensors. This means you can write to the underlying (supposedly non-writeable) NumPy array using the tensor. You may want to copy the array to protect its data or make it writeable before converting it to a tensor. This type of warning will be suppressed for the rest of this program. (Triggered internally at  /pytorch/torch/csrc/utils/tensor_numpy.cpp:141.)\n",
            "  return torch.from_numpy(parsed.astype(m[2], copy=False)).view(*s)\n"
          ],
          "name": "stderr"
        },
        {
          "output_type": "stream",
          "text": [
            "\n",
            "\n"
          ],
          "name": "stdout"
        },
        {
          "output_type": "display_data",
          "data": {
            "image/png": "[encoded data removed]",
            "text/plain": [
              "<Figure size 432x288 with 1 Axes>"
            ]
          },
          "metadata": {
            "tags": [],
            "needs_background": "light"
          }
        },
        {
          "output_type": "stream",
          "text": [
            "Above, I have an image with the corresponding label: 5\n"
          ],
          "name": "stdout"
        }
      ]
    },
    {
      "cell_type": "markdown",
      "metadata": {
        "id": "o6FxzcrN_gvi"
      },
      "source": [
        "## 1.1 Network\n",
        "MNIST digits come in images of size 28 x 28, and have an output of size 10. Let's construct a simple feedforward network with a *single hidden layer of size 64*. That is, our network should be shape *input --> 64 --> output*, with ReLU activations after each layer.\n",
        "\n",
        "**Your turn. Fill in the missing parts of the network definition**"
      ]
    },
    {
      "cell_type": "code",
      "metadata": {
        "id": "9ujcd6N4cXNU"
      },
      "source": [
        "class Net1(nn.Module): \n",
        "  def __init__(self):\n",
        "    super(Net1, self).__init__()\n",
        "    self.l1 = nn.Linear(28 * 28, 64) # add the first linear module from input size to hidden size\n",
        "    self.l2 = nn.Linear(64, 10) # add the second linear module from hidden size to output size\n",
        "  def forward(self, x): \n",
        "    x = self.l1(x) # pass x through the first linear module, then through relu\n",
        "    x = F.relu(x)\n",
        "    x = self.l2(x) # pass x through the second linear module, then through relu\n",
        "    x = F.relu(x)\n",
        "    return x"
      ],
      "execution_count": 4,
      "outputs": []
    },
    {
      "cell_type": "markdown",
      "metadata": {
        "id": "8I07IF7uBoyn"
      },
      "source": [
        "## 1.2 Define Functions\n",
        "Now we want to define `train` and `test` functions to train and test our network, respectively. Fill in the \"TODO\" sections below for the train and test functions. \n",
        "\n",
        "**Your turn. Fill in the missing parts of the `train` and `test` functions**\n"
      ]
    },
    {
      "cell_type": "code",
      "metadata": {
        "id": "9flZGP5jdtKX"
      },
      "source": [
        "def train(train_loader, net, optimizer, criterion, epochs = 10):\n",
        "  for epoch in range(epochs): \n",
        "    c = 0\n",
        "    total_loss = 0\n",
        "    total_correct = 0\n",
        "    for i, (image, label) in enumerate(train_loader):\n",
        "      # As a safety precaution, we zero out the gradients in the beginning\n",
        "      optimizer.zero_grad()\n",
        "\n",
        "      # MNIST images are [batch_size, 1, 28, 28] by default, so we need to\n",
        "      # reshape them to [batch_size, 784] for our network. We also need\n",
        "      # to send our images and labels to our GPU\n",
        "      image = image.view(-1, 784).to(device)\n",
        "      label = label.to(device)\n",
        "\n",
        "      # use your network to make a prediction\n",
        "      prediction = net(image) # define prediction\n",
        "\n",
        "      # calculate the loss using the criterion, prediction, and label\n",
        "      loss = criterion(prediction, label) # calculate the loss\n",
        "      \n",
        "      # make the backward pass on your loss\n",
        "      loss.backward() # backward pass\n",
        "\n",
        "      # make a step with your optimizer\n",
        "      optimizer.step() # step with your optimizer\n",
        "\n",
        "      predicted_class = torch.argmax(prediction, 1)\n",
        "      correct = torch.sum((predicted_class == label))\n",
        "\n",
        "      total_loss += loss\n",
        "      total_correct += correct\n",
        "      c += len(label)\n",
        "\n",
        "      if i%500 == 0:\n",
        "        print(\"[Epoch %s]\\tAcc:%.4f\\tLoss:%.4f\"%(epoch, (total_correct/c).item(), (total_loss/c).item()))\n",
        "\n",
        "\n",
        "def test(test_loader, net, criterion): \n",
        "  c = 0\n",
        "  total_loss = 0\n",
        "  total_correct = 0\n",
        "  for i, (image, label) in enumerate(test_loader): \n",
        "    image = image.view(-1, 784).to(device)\n",
        "    label = label.to(device)\n",
        "    # use your network to make a prediction\n",
        "    prediction = net(image)\n",
        "\n",
        "    # calculate the loss using the criterion, prediction, and label\n",
        "    loss = criterion(prediction, label) # define loss\n",
        "\n",
        "    predicted_class = torch.argmax(prediction, 1)\n",
        "    total_loss += loss.item()\n",
        "    total_correct += torch.sum((predicted_class == label)).item()\n",
        "    c += len(label)\n",
        "\n",
        "  return total_loss/c, total_correct/c"
      ],
      "execution_count": 5,
      "outputs": []
    },
    {
      "cell_type": "markdown",
      "metadata": {
        "id": "xnSgXRsZC2tE"
      },
      "source": [
        "## 1.3 Train the Network\n",
        "Now let's train the network. Define the following: \n",
        "* `net`: initialize the network with the `Net1` class. Make sure you send the network to cuda!\n",
        "* `optimizer`: use an Adam optimizer with learning rate 0.01, and initialize it with your network parameters.\n",
        "* `criterion`: choose a good criterion for this task. Consider looking at: https://pytorch.org/docs/stable/nn.html#loss-function. \n",
        "\n",
        "**Your turn. Define the net, optimizer, and criterion.**"
      ]
    },
    {
      "cell_type": "code",
      "metadata": {
        "id": "H-NzkD3reJBU",
        "colab": {
          "base_uri": "https://localhost:8080/"
        },
        "outputId": "031cd524-2758-4a0b-a62b-4878faa00bff"
      },
      "source": [
        "net = Net1().to(device) # define net, send it to device\n",
        "optimizer = optim.Adam(net.parameters(), lr = 0.01) # define optimizer\n",
        "criterion = nn.CrossEntropyLoss() # choose a good criterion\n",
        "\n",
        "train(train_loader, net, optimizer, criterion)\n",
        "loss, accuracy = test(val_loader, net, criterion)\n",
        "print(\"Evaluation\\n\\tTest Loss: %.4f\\tTest Accuracy: %.2f%%\"%(loss, accuracy*100))"
      ],
      "execution_count": 6,
      "outputs": [
        {
          "output_type": "stream",
          "text": [
            "[Epoch 0]\tAcc:0.1562\tLoss:0.0359\n",
            "[Epoch 0]\tAcc:0.8276\tLoss:0.0082\n",
            "[Epoch 1]\tAcc:0.8906\tLoss:0.0043\n",
            "[Epoch 1]\tAcc:0.8680\tLoss:0.0057\n",
            "[Epoch 2]\tAcc:0.7656\tLoss:0.0086\n",
            "[Epoch 2]\tAcc:0.8728\tLoss:0.0054\n",
            "[Epoch 3]\tAcc:0.8281\tLoss:0.0066\n",
            "[Epoch 3]\tAcc:0.8769\tLoss:0.0051\n",
            "[Epoch 4]\tAcc:0.8438\tLoss:0.0063\n",
            "[Epoch 4]\tAcc:0.8785\tLoss:0.0049\n",
            "[Epoch 5]\tAcc:0.8594\tLoss:0.0058\n",
            "[Epoch 5]\tAcc:0.8829\tLoss:0.0048\n",
            "[Epoch 6]\tAcc:0.9062\tLoss:0.0036\n",
            "[Epoch 6]\tAcc:0.8830\tLoss:0.0048\n",
            "[Epoch 7]\tAcc:0.8281\tLoss:0.0066\n",
            "[Epoch 7]\tAcc:0.8844\tLoss:0.0046\n",
            "[Epoch 8]\tAcc:0.9062\tLoss:0.0034\n",
            "[Epoch 8]\tAcc:0.8828\tLoss:0.0047\n",
            "[Epoch 9]\tAcc:0.9844\tLoss:0.0013\n",
            "[Epoch 9]\tAcc:0.9760\tLoss:0.0015\n",
            "Evaluation\n",
            "\tTest Loss: 0.0027\tTest Accuracy: 96.53%\n"
          ],
          "name": "stdout"
        }
      ]
    },
    {
      "cell_type": "markdown",
      "metadata": {
        "id": "Mvd1KRvsD0kR"
      },
      "source": [
        "## 1.4 How Did We Do? \n",
        "Confirm that your test loss above is exactly `0.0027` and your Test Accuracy is exactly `96.53%`. Don't move on until you confirm this is the case; if you get stuck, feel free to phone a friend or your friendly neighborhood pod leader.\n",
        "\n",
        "Now let's see how our network performs on the image we showed above! Run the cell below. \n",
        "**Run the cell below. Do not modify**"
      ]
    },
    {
      "cell_type": "code",
      "metadata": {
        "id": "hPdKnz0jqwv3",
        "colab": {
          "base_uri": "https://localhost:8080/",
          "height": 282
        },
        "outputId": "ec8f60d6-88d8-41b7-a808-dd7d98f14fb9"
      },
      "source": [
        "base_image = dataset[0][0].reshape(1, 784)\n",
        "plt.imshow(base_image.reshape(28, 28).numpy())\n",
        "plt.show()\n",
        "net_prediction = torch.argmax(net(base_image.to(device))).item()\n",
        "print(\"My Network Predicts That This Number Is... %s\"%(net_prediction))"
      ],
      "execution_count": 7,
      "outputs": [
        {
          "output_type": "display_data",
          "data": {
            "image/png": "[encoded data removed]",
            "text/plain": [
              "<Figure size 432x288 with 1 Axes>"
            ]
          },
          "metadata": {
            "tags": [],
            "needs_background": "light"
          }
        },
        {
          "output_type": "stream",
          "text": [
            "My Network Predicts That This Number Is... 5\n"
          ],
          "name": "stdout"
        }
      ]
    },
    {
      "cell_type": "markdown",
      "metadata": {
        "id": "Pgl5l7zgEniR"
      },
      "source": [
        "## 1.5 Adversarial Attack\n",
        "Now for the fun part. Let's attack our network by creating an image that looks almost exactly like the one above, but makes it mistake the digit for a 3! How do we do that? \n",
        "\n",
        "Here's one way of doing it: instead of updating the **weights of our network**, what if we updated the **pixels of our image** using gradient descent? Take a moment to read that again. We're going to require gradients on our **image**, and then update it until the network is properly fooled!\n",
        "\n",
        "Our problem is complex though. We have two goals: \n",
        "\n",
        "\n",
        "1.   `criterion_1`: We want to fool the network into thinking that the image is a 3, not a 5. \n",
        "2.   `criterion_2`: We want to make sure the modified image `mod_image` looks as much like the original `base_image` as possible.\n",
        "\n",
        "Our loss will be a weighted sum between the losses evaluated on these two criteria, i.e. `loss = weight_1 * loss_1 + weight_2 * loss_2`. For our code below, let `weight_1 = 0.001` and `weight_2 = 1`.\n",
        "\n",
        "**Your turn. Define `criterion_1`, `criterion_2`, `loss_1`, `loss_2`, and `loss`. Run the code; if your attack is successful it will print \"ATTACK SUCCESSFUL\"**\n",
        "\n",
        "\n"
      ]
    },
    {
      "cell_type": "code",
      "metadata": {
        "id": "TfMq1XOmrWja",
        "colab": {
          "base_uri": "https://localhost:8080/"
        },
        "outputId": "546e43db-9a67-434f-8f09-24f8d2a559eb"
      },
      "source": [
        "# Create a copy of base_image which we can modify\n",
        "mod_image = base_image.clone() \n",
        "# Our target class is 3. We send this to the device\n",
        "target = torch.LongTensor([3]).to(device)\n",
        "optimizer = optim.SGD([mod_image.requires_grad_(True)], lr = 0.01)\n",
        "\n",
        "# Choose a good criterion to compare our prediction with the target\n",
        "criterion1 = nn.CrossEntropyLoss() # choose criterion1\n",
        "\n",
        "# Choose a good criterion which describes how \"far off\" our mod_image\n",
        "# differs from base_image\n",
        "criterion2 = nn.MSELoss() # choose criterion2\n",
        "\n",
        "\n",
        "for i in range(10000):\n",
        "  prediction = net(mod_image.to(device))\n",
        "\n",
        "  # loss_1 is the result of evaluating criterion_1 on the prediction of the net\n",
        "  # compared to the target class.\n",
        "  loss_1 = criterion1(prediction, target) # define loss_1\n",
        "\n",
        "  # loss_2 is the result of evaluating criterion_2 on the current image\n",
        "  # (mod_image) compared to the original image (base_image).\n",
        "  loss_2 = criterion2(mod_image, base_image) # define loss_2\n",
        "\n",
        "  # the final loss is a weighted sum of the losses, where weight_1 = 0.001 and weight_2 = 1\n",
        "  weight_1 = 0.001\n",
        "  weight_2 = 1\n",
        "  loss = weight_1 * loss_1 + weight_2 * loss_2 # define loss\n",
        "  loss.backward()\n",
        "  optimizer.step()\n",
        "\n",
        "  predicted_class = torch.argmax(prediction)\n",
        "\n",
        "  if predicted_class == target:\n",
        "    print(\"Predicted Class: %s, Loss: %s, ATTACK SUCCESSFUL!\"%(predicted_class.item(), loss.item()))\n",
        "    break\n",
        "  else:\n",
        "    if i%10 == 0: \n",
        "      print(\"Predicted Class: %s, Loss: %s\"%(predicted_class.item(), loss.item()))"
      ],
      "execution_count": 8,
      "outputs": [
        {
          "output_type": "stream",
          "text": [
            "Predicted Class: 5, Loss: 0.018248263746500015\n",
            "Predicted Class: 5, Loss: 0.017672933638095856\n",
            "Predicted Class: 5, Loss: 0.0160573348402977\n",
            "Predicted Class: 5, Loss: 0.013454924337565899\n",
            "Predicted Class: 5, Loss: 0.012017172761261463\n",
            "Predicted Class: 5, Loss: 0.010207005776464939\n",
            "Predicted Class: 5, Loss: 0.008043240755796432\n",
            "Predicted Class: 5, Loss: 0.0055536916479468346\n",
            "Predicted Class: 5, Loss: 0.002889001974835992\n",
            "Predicted Class: 3, Loss: 0.0017334166914224625, ATTACK SUCCESSFUL!\n"
          ],
          "name": "stdout"
        }
      ]
    },
    {
      "cell_type": "markdown",
      "metadata": {
        "id": "RXk8bNKbSK6A"
      },
      "source": [
        "So what does our image look like now? Run the cell below to compare the original input to the modified image, and how our network classifies each. Did we succeed?\n",
        "\n",
        "**Take a screenshot of the output of this cell and save it for later.**"
      ]
    },
    {
      "cell_type": "code",
      "metadata": {
        "cellView": "form",
        "id": "-K_6lmVTub3z",
        "colab": {
          "base_uri": "https://localhost:8080/",
          "height": 547
        },
        "outputId": "5da3b023-0abf-4bd5-ee79-4fc39caa08db"
      },
      "source": [
        "#@markdown Run this cell to display your adversarial attack!\n",
        "net.eval()\n",
        "plt.imshow(base_image.reshape(28, 28).detach().numpy())\n",
        "plt.show()\n",
        "net_prediction = torch.argmax(net(base_image.to(device))).item()\n",
        "print(\"My Network Predicts That This Number Is... %s\"%(net_prediction))\n",
        "plt.imshow(mod_image.reshape(28, 28).detach().numpy())\n",
        "plt.show()\n",
        "net_prediction = torch.argmax(net(mod_image.to(device))).item()\n",
        "print(\"My Network Predicts That This Number Is... %s\"%(net_prediction))"
      ],
      "execution_count": 9,
      "outputs": [
        {
          "output_type": "display_data",
          "data": {
            "image/png": "[encoded data removed]",
            "text/plain": [
              "<Figure size 432x288 with 1 Axes>"
            ]
          },
          "metadata": {
            "tags": [],
            "needs_background": "light"
          }
        },
        {
          "output_type": "stream",
          "text": [
            "My Network Predicts That This Number Is... 5\n"
          ],
          "name": "stdout"
        },
        {
          "output_type": "display_data",
          "data": {
            "image/png": "[encoded data removed]",
            "text/plain": [
              "<Figure size 432x288 with 1 Axes>"
            ]
          },
          "metadata": {
            "tags": [],
            "needs_background": "light"
          }
        },
        {
          "output_type": "stream",
          "text": [
            "My Network Predicts That This Number Is... 3\n"
          ],
          "name": "stdout"
        }
      ]
    },
    {
      "cell_type": "markdown",
      "metadata": {
        "id": "TVjcgCYTS0Oc"
      },
      "source": [
        "# Part 2. Defend!\n",
        "In this next part of the homework, we will ask you to use **regularization** to defend against the adversarial image you constructed in part 1. Try each of the following regularization techniques: \n",
        "* Early stopping\n",
        "* Dropout (https://pytorch.org/docs/stable/generated/torch.nn.Dropout.html)\n",
        "* L2 regularization (hint: see the `weight_decay` parameter in optim.Adam: https://pytorch.org/docs/stable/optim.html)\n",
        "\n"
      ]
    },
    {
      "cell_type": "markdown",
      "metadata": {
        "id": "DBsKM_pJe1gN"
      },
      "source": [
        "## 2.1 Train your Defense\n",
        "In this section, you'll train a network which will be able to detect that the adversarial image is a 5, not a 3. Feel free to copy + paste code from the above sections as needed. \n",
        "**Make sure your network is exactly the same architecture as you had (with the exception of adding dropout layers)!**\n",
        "\n",
        "**Your turn. Train your network on each regularization technique below. We recommend that you try each technique individually, and then combine them if necessary. Once your net completes training, you may test it on the adversarial image in the following section.**"
      ]
    },
    {
      "cell_type": "code",
      "metadata": {
        "id": "RLtb_EYauifN",
        "colab": {
          "base_uri": "https://localhost:8080/"
        },
        "outputId": "65cc20b1-cd2b-4ca0-d5b4-6fad86bc3a6d"
      },
      "source": [
        "# Net2 should be the same architecture as Net1 with the exception of dropout layers\n",
        "\n",
        "class Net2_Dropout(nn.Module): \n",
        "  def __init__(self):\n",
        "    super(Net2_Dropout, self).__init__()\n",
        "    self.l1 = nn.Linear(28 * 28, 64) # add the first linear module from input size to hidden size\n",
        "    self.dropout1 = nn.Dropout(0.5)\n",
        "    self.l2 = nn.Linear(64, 10) # add the second linear module from hidden size to output size\n",
        "    self.dropout2 = nn.Dropout(0.25)\n",
        "\n",
        "  def forward(self, x): \n",
        "    x = self.l1(x) # pass x through the first linear module, then through relu\n",
        "    x = self.dropout1(x)\n",
        "    x = F.relu(x)\n",
        "    x = self.l2(x) # pass x through the second linear module, then through relu\n",
        "    x = self.dropout2(x)\n",
        "    x = F.relu(x)\n",
        "    return x\n",
        "\n",
        "# DROPOUT EXPERIMENT\n",
        "\n",
        "net_D = Net2_Dropout().to(device) # define net, send it to device\n",
        "optimizer = optim.Adam(net_D.parameters(), lr = 0.01) # define optimizer\n",
        "criterion = nn.CrossEntropyLoss() # choose a good criterion\n",
        "\n",
        "train(train_loader, net_D, optimizer, criterion) \n",
        "loss, accuracy = test(val_loader, net_D, criterion)\n",
        "print(\"Evaluation\\n\\tTest Loss: %.4f\\tTest Accuracy: %.2f%%\"%(loss, accuracy*100))"
      ],
      "execution_count": 10,
      "outputs": [
        {
          "output_type": "stream",
          "text": [
            "[Epoch 0]\tAcc:0.0625\tLoss:0.0361\n",
            "[Epoch 0]\tAcc:0.6258\tLoss:0.0181\n",
            "[Epoch 1]\tAcc:0.4844\tLoss:0.0220\n",
            "[Epoch 1]\tAcc:0.6747\tLoss:0.0155\n",
            "[Epoch 2]\tAcc:0.6250\tLoss:0.0156\n",
            "[Epoch 2]\tAcc:0.6847\tLoss:0.0151\n",
            "[Epoch 3]\tAcc:0.6562\tLoss:0.0156\n",
            "[Epoch 3]\tAcc:0.6836\tLoss:0.0151\n",
            "[Epoch 4]\tAcc:0.7812\tLoss:0.0130\n",
            "[Epoch 4]\tAcc:0.6854\tLoss:0.0150\n",
            "[Epoch 5]\tAcc:0.6562\tLoss:0.0160\n",
            "[Epoch 5]\tAcc:0.6880\tLoss:0.0149\n",
            "[Epoch 6]\tAcc:0.7031\tLoss:0.0151\n",
            "[Epoch 6]\tAcc:0.6890\tLoss:0.0148\n",
            "[Epoch 7]\tAcc:0.7969\tLoss:0.0100\n",
            "[Epoch 7]\tAcc:0.6913\tLoss:0.0147\n",
            "[Epoch 8]\tAcc:0.7031\tLoss:0.0142\n",
            "[Epoch 8]\tAcc:0.6963\tLoss:0.0145\n",
            "[Epoch 9]\tAcc:0.6719\tLoss:0.0145\n",
            "[Epoch 9]\tAcc:0.6884\tLoss:0.0148\n",
            "Evaluation\n",
            "\tTest Loss: 0.0148\tTest Accuracy: 68.73%\n"
          ],
          "name": "stdout"
        }
      ]
    },
    {
      "cell_type": "code",
      "metadata": {
        "colab": {
          "base_uri": "https://localhost:8080/",
          "height": 564
        },
        "cellView": "form",
        "id": "EChvWXRIIctR",
        "outputId": "e86774c8-2ef2-41d9-b943-c20bbdb83950"
      },
      "source": [
        "#@markdown Run this cell to test your defense!\n",
        "net_D.eval()\n",
        "\n",
        "plt.imshow(base_image.reshape(28, 28).detach().numpy())\n",
        "plt.show()\n",
        "prediction_orig = net(mod_image.to(device))\n",
        "net_predicted_class_orig = torch.argmax(prediction_orig).item()\n",
        "print(\"My unregularized network predicts that this number is... %s\"%(net_predicted_class_orig))\n",
        "plt.imshow(mod_image.reshape(28, 28).detach().numpy())\n",
        "plt.show()\n",
        "\n",
        "prediction = net_D(mod_image.to(device))\n",
        "net_predicted_class = torch.argmax(prediction).item()\n",
        "print(\"My regularized network predicts that this number is... %s\"%(net_predicted_class))\n",
        "if net_predicted_class_orig == 5 and net_predicted_class == 5: \n",
        "  print(\"DEFENSE SUCCESSFUL!\")\n",
        "  saved_prediction = prediction\n",
        "else: \n",
        "  print(\"AW, SNAP! FOOLED AGAIN! GO BACK AND TRY A DIFFERENT REGULARIZATION COMBO\")"
      ],
      "execution_count": 11,
      "outputs": [
        {
          "output_type": "display_data",
          "data": {
            "image/png": "[encoded data removed]",
            "text/plain": [
              "<Figure size 432x288 with 1 Axes>"
            ]
          },
          "metadata": {
            "tags": [],
            "needs_background": "light"
          }
        },
        {
          "output_type": "stream",
          "text": [
            "My unregularized network predicts that this number is... 3\n"
          ],
          "name": "stdout"
        },
        {
          "output_type": "display_data",
          "data": {
            "image/png": "[encoded data removed]",
            "text/plain": [
              "<Figure size 432x288 with 1 Axes>"
            ]
          },
          "metadata": {
            "tags": [],
            "needs_background": "light"
          }
        },
        {
          "output_type": "stream",
          "text": [
            "My regularized network predicts that this number is... 3\n",
            "AW, SNAP! FOOLED AGAIN! GO BACK AND TRY A DIFFERENT REGULARIZATION COMBO\n"
          ],
          "name": "stdout"
        }
      ]
    },
    {
      "cell_type": "code",
      "metadata": {
        "colab": {
          "base_uri": "https://localhost:8080/"
        },
        "id": "s_9hw6EFwMM-",
        "outputId": "6b0be171-8509-4007-8267-7416fe2e5f61"
      },
      "source": [
        "def train_early_stop(train_loader, net, optimizer, criterion, epochs = 30):\n",
        "\n",
        "  patience = 4\n",
        "  wait = 0\n",
        "\n",
        "  best_acc = 0\n",
        "\n",
        "  for epoch in range(epochs): \n",
        "    c = 0\n",
        "    total_loss = 0\n",
        "    total_correct = 0\n",
        "    for i, (image, label) in enumerate(train_loader):\n",
        "      # As a safety precaution, we zero out the gradients in the beginning\n",
        "      optimizer.zero_grad()\n",
        "\n",
        "      # MNIST images are [batch_size, 1, 28, 28] by default, so we need to\n",
        "      # reshape them to [batch_size, 784] for our network. We also need\n",
        "      # to send our images and labels to our GPU\n",
        "      image = image.view(-1, 784).to(device)\n",
        "      label = label.to(device)\n",
        "\n",
        "      # use your network to make a prediction\n",
        "      prediction = net(image) # define prediction\n",
        "\n",
        "      # calculate the loss using the criterion, prediction, and label\n",
        "      loss = criterion(prediction, label) # calculate the loss\n",
        "      \n",
        "      # make the backward pass on your loss\n",
        "      loss.backward() # backward pass\n",
        "\n",
        "      # make a step with your optimizer\n",
        "      optimizer.step() # step with your optimizer\n",
        "\n",
        "      predicted_class = torch.argmax(prediction, 1)\n",
        "      correct = torch.sum((predicted_class == label))\n",
        "\n",
        "      total_loss += loss\n",
        "      total_correct += correct\n",
        "      c += len(label)\n",
        "\n",
        "      if i%500 == 0:\n",
        "        print(\"[Epoch %s]\\tAcc:%.4f\\tLoss:%.4f\"%(epoch, (total_correct/c).item(), (total_loss/c).item()))\n",
        "\n",
        "    train_loss = (total_loss/c).item()\n",
        "    train_acc = (total_correct/c).item()\n",
        "    val_loss, val_acc = test(val_loader, net, criterion)\n",
        "    if val_acc > best_acc:\n",
        "      best_acc = val_acc\n",
        "      wait = 1\n",
        "    else:\n",
        "      wait += 1\n",
        "      if wait > patience:\n",
        "        print('Early stopped on epoch:', epoch)\n",
        "        break\n",
        "\n",
        "# EARLY STOPPING EXPERIMENT\n",
        "\n",
        "net_ES = Net1().to(device) # define net, send it to device\n",
        "optimizer = optim.Adam(net_ES.parameters(), lr = 0.01) # define optimizer\n",
        "criterion = nn.CrossEntropyLoss() # choose a good criterion\n",
        "\n",
        "train_early_stop(train_loader, net_ES, optimizer, criterion)\n",
        "loss, accuracy = test(val_loader, net_ES, criterion)\n",
        "print(\"Evaluation\\n\\tTest Loss: %.4f\\tTest Accuracy: %.2f%%\"%(loss, accuracy*100))"
      ],
      "execution_count": 25,
      "outputs": [
        {
          "output_type": "stream",
          "text": [
            "[Epoch 0]\tAcc:0.0625\tLoss:0.0361\n",
            "[Epoch 0]\tAcc:0.8159\tLoss:0.0084\n",
            "[Epoch 1]\tAcc:0.7969\tLoss:0.0076\n",
            "[Epoch 1]\tAcc:0.8568\tLoss:0.0060\n",
            "[Epoch 2]\tAcc:0.9062\tLoss:0.0035\n",
            "[Epoch 2]\tAcc:0.8629\tLoss:0.0057\n",
            "[Epoch 3]\tAcc:0.8438\tLoss:0.0066\n",
            "[Epoch 3]\tAcc:0.8683\tLoss:0.0053\n",
            "[Epoch 4]\tAcc:0.8594\tLoss:0.0047\n",
            "[Epoch 4]\tAcc:0.8693\tLoss:0.0053\n",
            "[Epoch 5]\tAcc:0.7969\tLoss:0.0091\n",
            "[Epoch 5]\tAcc:0.8719\tLoss:0.0052\n",
            "[Epoch 6]\tAcc:0.9062\tLoss:0.0034\n",
            "[Epoch 6]\tAcc:0.8726\tLoss:0.0050\n",
            "Early stopped on epoch: 6\n",
            "Evaluation\n",
            "\tTest Loss: 0.0062\tTest Accuracy: 86.17%\n"
          ],
          "name": "stdout"
        }
      ]
    },
    {
      "cell_type": "code",
      "metadata": {
        "colab": {
          "base_uri": "https://localhost:8080/",
          "height": 564
        },
        "cellView": "form",
        "id": "-u4Q2QTGIf9F",
        "outputId": "22f621da-2a73-4e8a-91f0-cd4b534fae10"
      },
      "source": [
        "#@markdown Run this cell to test your defense!\n",
        "net_ES.eval()\n",
        "\n",
        "plt.imshow(base_image.reshape(28, 28).detach().numpy())\n",
        "plt.show()\n",
        "prediction_orig = net(mod_image.to(device))\n",
        "net_predicted_class_orig = torch.argmax(prediction_orig).item()\n",
        "print(\"My unregularized network predicts that this number is... %s\"%(net_predicted_class_orig))\n",
        "plt.imshow(mod_image.reshape(28, 28).detach().numpy())\n",
        "plt.show()\n",
        "\n",
        "prediction = net_ES(mod_image.to(device))\n",
        "net_predicted_class = torch.argmax(prediction).item()\n",
        "print(\"My regularized network predicts that this number is... %s\"%(net_predicted_class))\n",
        "if net_predicted_class_orig == 5 and net_predicted_class == 5: \n",
        "  print(\"DEFENSE SUCCESSFUL!\")\n",
        "  saved_prediction = prediction\n",
        "else: \n",
        "  print(\"AW, SNAP! FOOLED AGAIN! GO BACK AND TRY A DIFFERENT REGULARIZATION COMBO\")"
      ],
      "execution_count": 26,
      "outputs": [
        {
          "output_type": "display_data",
          "data": {
            "image/png": "[encoded data removed]",
            "text/plain": [
              "<Figure size 432x288 with 1 Axes>"
            ]
          },
          "metadata": {
            "tags": [],
            "needs_background": "light"
          }
        },
        {
          "output_type": "stream",
          "text": [
            "My unregularized network predicts that this number is... 3\n"
          ],
          "name": "stdout"
        },
        {
          "output_type": "display_data",
          "data": {
            "image/png": "[encoded data removed]",
            "text/plain": [
              "<Figure size 432x288 with 1 Axes>"
            ]
          },
          "metadata": {
            "tags": [],
            "needs_background": "light"
          }
        },
        {
          "output_type": "stream",
          "text": [
            "My regularized network predicts that this number is... 3\n",
            "AW, SNAP! FOOLED AGAIN! GO BACK AND TRY A DIFFERENT REGULARIZATION COMBO\n"
          ],
          "name": "stdout"
        }
      ]
    },
    {
      "cell_type": "code",
      "metadata": {
        "id": "CUlHTpWKTDA8",
        "colab": {
          "base_uri": "https://localhost:8080/"
        },
        "outputId": "bb363adc-6b9e-4b4a-d171-d45cacf0fd64"
      },
      "source": [
        "# L2 EXPERIMENT\n",
        "net_L2 = Net1().to(device) # define net, send it to device\n",
        "optimizer = optim.Adam(net_L2.parameters(), lr = 0.01, weight_decay = 0.02) # define optimizer\n",
        "criterion = nn.CrossEntropyLoss() # choose a good criterion\n",
        "\n",
        "train(train_loader, net_L2, optimizer, criterion) \n",
        "loss, accuracy = test(val_loader, net_L2, criterion)\n",
        "print(\"Evaluation\\n\\tTest Loss: %.4f\\tTest Accuracy: %.2f%%\"%(loss, accuracy*100))"
      ],
      "execution_count": 14,
      "outputs": [
        {
          "output_type": "stream",
          "text": [
            "[Epoch 0]\tAcc:0.0469\tLoss:0.0362\n",
            "[Epoch 0]\tAcc:0.7801\tLoss:0.0116\n",
            "[Epoch 1]\tAcc:0.8281\tLoss:0.0098\n",
            "[Epoch 1]\tAcc:0.8710\tLoss:0.0073\n",
            "[Epoch 2]\tAcc:0.8906\tLoss:0.0065\n",
            "[Epoch 2]\tAcc:0.8801\tLoss:0.0070\n",
            "[Epoch 3]\tAcc:0.8750\tLoss:0.0071\n",
            "[Epoch 3]\tAcc:0.8807\tLoss:0.0070\n",
            "[Epoch 4]\tAcc:0.8125\tLoss:0.0087\n",
            "[Epoch 4]\tAcc:0.8790\tLoss:0.0070\n",
            "[Epoch 5]\tAcc:0.9062\tLoss:0.0056\n",
            "[Epoch 5]\tAcc:0.8826\tLoss:0.0069\n",
            "[Epoch 6]\tAcc:0.9062\tLoss:0.0059\n",
            "[Epoch 6]\tAcc:0.8859\tLoss:0.0068\n",
            "[Epoch 7]\tAcc:0.9219\tLoss:0.0054\n",
            "[Epoch 7]\tAcc:0.8875\tLoss:0.0067\n",
            "[Epoch 8]\tAcc:0.8906\tLoss:0.0072\n",
            "[Epoch 8]\tAcc:0.8846\tLoss:0.0068\n",
            "[Epoch 9]\tAcc:0.9844\tLoss:0.0042\n",
            "[Epoch 9]\tAcc:0.8842\tLoss:0.0068\n",
            "Evaluation\n",
            "\tTest Loss: 0.0067\tTest Accuracy: 89.25%\n"
          ],
          "name": "stdout"
        }
      ]
    },
    {
      "cell_type": "markdown",
      "metadata": {
        "id": "IarN6lE2dvcC"
      },
      "source": [
        "## 2.2 How Did We Do?\n",
        "Run the code below to test if your regularization worked. If successful, it will print \"DEFENSE SUCCESSFUL\". \n",
        "\n",
        "**Run the code below. Do not modify. If successful, take a screenshot and write down what regularization parameters led to your success**"
      ]
    },
    {
      "cell_type": "code",
      "metadata": {
        "id": "MMtdWWryTbB-",
        "colab": {
          "base_uri": "https://localhost:8080/",
          "height": 564
        },
        "cellView": "form",
        "outputId": "38169970-cbec-4c02-a062-d448bafb0048"
      },
      "source": [
        "#@markdown Run this cell to test your defense!\n",
        "net_L2.eval()\n",
        "\n",
        "plt.imshow(base_image.reshape(28, 28).detach().numpy())\n",
        "plt.show()\n",
        "prediction_orig = net(mod_image.to(device))\n",
        "net_predicted_class_orig = torch.argmax(prediction_orig).item()\n",
        "print(\"My unegularized network predicts that this number is... %s\"%(net_predicted_class_orig))\n",
        "plt.imshow(mod_image.reshape(28, 28).detach().numpy())\n",
        "plt.show()\n",
        "\n",
        "prediction = net_L2(mod_image.to(device))\n",
        "net_predicted_class = torch.argmax(prediction).item()\n",
        "print(\"My regularized network predicts that this number is... %s\"%(net_predicted_class))\n",
        "if net_predicted_class_orig == 5 and net_predicted_class == 5: \n",
        "  print(\"DEFENSE SUCCESSFUL!\")\n",
        "  saved_prediction = prediction\n",
        "else: \n",
        "  print(\"AW, SNAP! FOOLED AGAIN! GO BACK AND TRY A DIFFERENT REGULARIZATION COMBO\")"
      ],
      "execution_count": 15,
      "outputs": [
        {
          "output_type": "display_data",
          "data": {
            "image/png": "[encoded data removed]",
            "text/plain": [
              "<Figure size 432x288 with 1 Axes>"
            ]
          },
          "metadata": {
            "tags": [],
            "needs_background": "light"
          }
        },
        {
          "output_type": "stream",
          "text": [
            "My unegularized network predicts that this number is... 3\n"
          ],
          "name": "stdout"
        },
        {
          "output_type": "display_data",
          "data": {
            "image/png": "[encoded data removed]",
            "text/plain": [
              "<Figure size 432x288 with 1 Axes>"
            ]
          },
          "metadata": {
            "tags": [],
            "needs_background": "light"
          }
        },
        {
          "output_type": "stream",
          "text": [
            "My regularized network predicts that this number is... 3\n",
            "AW, SNAP! FOOLED AGAIN! GO BACK AND TRY A DIFFERENT REGULARIZATION COMBO\n"
          ],
          "name": "stdout"
        }
      ]
    },
    {
      "cell_type": "markdown",
      "metadata": {
        "id": "_e1Vj4cufg93"
      },
      "source": [
        "**Write answers to the following questions below**\n",
        "1. How did your regularized models compare to your original model, in terms of overall accuracy? How did they compare to one another?\n",
        "2. Did your regularized models successfully defend against the adversarial task? If so, what parameters contributed to your success? \n",
        "3. You might have noticed that your adversarial image successfully fooled your network under a lot of different regularization conditions. You can verify this yourself, but it turns out that this adversarial image is capable of fooling networks with different architectures, and even possibly other learning models (decision trees, K-means, etc.) trained on MNIST. *In short, attacking one network can create an effective attack on a wide variety of learning algorithms.* Given this information, describe what implications this has for machine learning for security, and why it is hard to defend against these attacks."
      ]
    },
    {
      "cell_type": "code",
      "metadata": {
        "id": "CwEIFfWFeoFP"
      },
      "source": [
        "#Remove starter text and write your answer.\n",
        "q_2_2 = '''\n",
        "The regularized models performed worse than the original model in terms of overall accuracy.\n",
        "Dropout (68.73%) had a significant impact in lowering validation performance, more so than the L2 penalty (89.25%) or early stopping (86.17%).\n",
        "None of the regularization schemes I tried helped defend against the adversarial attack despite spending a significant amount of time trying.\n",
        "It is hard to defend against these attacks because it is hard for learning algorithms to generalize well. \n",
        "Adversarial examples are chosen after carefully studying the algorithm being attacked. As such, they are always one step ahead.\n",
        "'''"
      ],
      "execution_count": 16,
      "outputs": []
    },
    {
      "cell_type": "markdown",
      "metadata": {
        "id": "d1KoSvRJHvor"
      },
      "source": [
        "# Part 3. Deep Learning, Deeper Thinking\n"
      ]
    },
    {
      "cell_type": "markdown",
      "metadata": {
        "id": "29bQF6U__uxX"
      },
      "source": [
        "Now that you've gotten familiar with adversarial attacks and regularization, it's time to think about some of the implications of these attacks. First, read the following:\r\n",
        "\r\n",
        "* https://openai.com/blog/adversarial-example-research/\r\n",
        "* https://www.sciencedirect.com/science/article/pii/S0743731518309183\r\n",
        "(accessible through Penn Libraries)\r\n",
        "\r\n"
      ]
    },
    {
      "cell_type": "markdown",
      "metadata": {
        "id": "RA9V9UtVQF2C"
      },
      "source": [
        "## Part 3.1 Reflect\n",
        "**Short answer: what type of adversarial attack did we conduct in section 1.5 (choose the most similar one based on the descriptions in the second paper)?**\n"
      ]
    },
    {
      "cell_type": "code",
      "metadata": {
        "id": "hQPHV_3UQVjd"
      },
      "source": [
        "q_3_1 = '''\n",
        "L-BFGS and FGSM are similar to the attack in section 1.5. \n",
        "Both methods attack during testing, and do so by exploiting gradient information to generate adversarial samples.\n",
        "'''"
      ],
      "execution_count": 17,
      "outputs": []
    },
    {
      "cell_type": "markdown",
      "metadata": {
        "id": "Z_u3T9h6QAMo"
      },
      "source": [
        "## Part 3.1 Discuss\n",
        "**In 200-300 words, please answer the following questions, and also post these to Slack**\n",
        "* As engineers, how can we safeguard against adversarial attacks? Give a real-world example of what an adversarial attack might look like (aside from the one you just deployed), and what consequences it might have.\n",
        "* How might adversarial attacks on machine learning algorithms impact public trust of these algorithms? How might we communicate these risks to the public? \n",
        "* In your own words, why doesn't \"gradient masking\" work?\n"
      ]
    },
    {
      "cell_type": "code",
      "metadata": {
        "id": "HqkX0d-eP1tx"
      },
      "source": [
        "q_3_2 = '''\n",
        "We can generate adversarial samples and use them to train our models. \n",
        "Many devices can now be logged into using facial recognition. \n",
        "Based on the openai blog, it is possible to generate an adversarial face, and use its picture to log into a locked device.\n",
        "It is more important than ever to convey the message that AI is an assistant and not a replacement. \n",
        "For instance, when driving self-driving cars, it is important to always have control over the vehicle.\n",
        "Gradient masking tries to deny access to gradient information to an adversary. \n",
        "This is done by outputting a label for a multi-class classification problem instead of a probability distribution over labels.\n",
        "However, an adversary can still obtain useful gradient information by training their own model that observes the targetted model's outputs.\n",
        "The adversary's model then has the required gradient information that can be then used to generate adversarial inputs.\n",
        "'''"
      ],
      "execution_count": 18,
      "outputs": []
    },
    {
      "cell_type": "markdown",
      "metadata": {
        "id": "u7wWXWiLBhrD"
      },
      "source": [
        "# Part 4. Rethinking Generalization\r\n"
      ]
    },
    {
      "cell_type": "markdown",
      "metadata": {
        "id": "uLAtJonqBrb0"
      },
      "source": [
        "Read the first three pages of this article on \"Understanding Deep Learning Requires Rethinking Generalization\" [https://arxiv.org/pdf/1611.03530.pdf] and Answer the following questions:"
      ]
    },
    {
      "cell_type": "markdown",
      "metadata": {
        "id": "vt2nFHMfCzWu"
      },
      "source": [
        "1. Why is it important that neural nets can learn to get zero training error on \r\n",
        "images with randomized labels, or even with images that are pure random noise?"
      ]
    },
    {
      "cell_type": "code",
      "metadata": {
        "id": "wqagv9ofClzt"
      },
      "source": [
        "q_4_1 = \"\"\"\r\n",
        "This implies that neural networks can successfully memorize training data, and that the underlying optimization problem does not change regardless of the labels.\r\n",
        "\"\"\""
      ],
      "execution_count": 19,
      "outputs": []
    },
    {
      "cell_type": "markdown",
      "metadata": {
        "id": "MrARQcJrDHXy"
      },
      "source": [
        "2. How many weights are needed in a 2-layer ReLU to fit n observations each of dimension d?\r\n"
      ]
    },
    {
      "cell_type": "code",
      "metadata": {
        "id": "vovWW2c-DYDv"
      },
      "source": [
        "q_4_2 = \"\"\"\r\n",
        "2n + d parameters with each parameter taking a weight.\r\n",
        "\"\"\""
      ],
      "execution_count": 20,
      "outputs": []
    },
    {
      "cell_type": "markdown",
      "metadata": {
        "id": "jrdJkZ-zDc-3"
      },
      "source": [
        "3. Are standard regularization methods (e.g. L1, L2, early stopping) required to prevent overfitting?"
      ]
    },
    {
      "cell_type": "code",
      "metadata": {
        "id": "pj8CI_26Dk1T"
      },
      "source": [
        "q_4_3 = \"\"\"\r\n",
        "No, standard explicit regularization methods are not strictly required to reduce generalization error.\r\n",
        "\"\"\""
      ],
      "execution_count": 21,
      "outputs": []
    },
    {
      "cell_type": "markdown",
      "metadata": {
        "id": "SH8mN2tyDsM7"
      },
      "source": [
        "4. The authors argue that “implicit regularization” is more important than explicit regularization. What do they mean by “implicit regularization” and how does it work?"
      ]
    },
    {
      "cell_type": "code",
      "metadata": {
        "id": "YhQ4RUpfDthi"
      },
      "source": [
        "q_4_4 = \"\"\"\r\n",
        "Implicit regularization refers to methods such as early stopping and vanilla SGD on linear networks.\r\n",
        "These methods are implicit because they take advantage of the learning algorithm and/or its architecture itself.\r\n",
        "\"\"\""
      ],
      "execution_count": 22,
      "outputs": []
    },
    {
      "cell_type": "markdown",
      "metadata": {
        "id": "jU_EUAJyQnBm"
      },
      "source": [
        "# Part 5. Better-Know-A-Pod\n"
      ]
    },
    {
      "cell_type": "markdown",
      "metadata": {
        "id": "4WGPXvcdXpbX"
      },
      "source": [
        "*This section is designed to let you better know your pod mates. You are encouraged to discuss these with your pod mates during pod sessions or during pod social events, but NOT over Slack. The idea is to get to know your pod mates face-to-face.*\n",
        "\n",
        "**List 2 other members of your pod - not the same two that you listed last homework. What are they most excited about doing after the pandemic is over, and why? (around 100 words each).**\n",
        "\n",
        "\n",
        "\n"
      ]
    },
    {
      "cell_type": "code",
      "metadata": {
        "id": "nEjrRXJ6Yjwy"
      },
      "source": [
        "better_know_a_pod = '''\n",
        "Vishnu is a first-year PhD student in the Department of Bioengineering. He works on medical imaging problems in Christos Davatzikos' lab. He went to Penn State for college majoring in computational mathematics. He enjoys cooking and day-trading in his free time.\n",
        "Anna is a math and computer science major at Penn. She is submatriculating into the data science program. Last summer she was a machine learning intern at LinkedIn. In her free time, she enjoys watching Netflix and recommends Peaky Blinders and Narcos. \n",
        "'''"
      ],
      "execution_count": 23,
      "outputs": []
    },
    {
      "cell_type": "markdown",
      "metadata": {
        "id": "JzdZmL_7gtjq"
      },
      "source": [
        "# Submission\n",
        "**Load the airtable below. Remember to attach the screenshots you took from section 1.5 and section 2.2!**"
      ]
    },
    {
      "cell_type": "code",
      "metadata": {
        "id": "bRwrR_5VesBi",
        "cellView": "form",
        "colab": {
          "base_uri": "https://localhost:8080/",
          "height": 421
        },
        "outputId": "c8f39317-b11c-43da-95c9-6c92cb92ca41"
      },
      "source": [
        "#@markdown #Run Cell to Show Airtable Form\n",
        "#@markdown ##**Confirm your answers and then click \"Submit\"**\n",
        "import time\n",
        "import numpy as np\n",
        "import urllib.parse\n",
        "from IPython.display import IFrame\n",
        "def prefill_form(src, fields: dict):\n",
        "  '''\n",
        "  src: the original src url to embed the form\n",
        "  fields: a dictionary of field:value pairs,\n",
        "  e.g. {\"pennkey\": my_pennkey, \"location\": my_location}\n",
        "  '''\n",
        "  prefill_fields = {}\n",
        "  for key in fields:\n",
        "      new_key = 'prefill_' + key\n",
        "      prefill_fields[new_key] = fields[key]\n",
        "  prefills = urllib.parse.urlencode(prefill_fields)\n",
        "  src = src + prefills\n",
        "  return src\n",
        "\n",
        "#autofill fields if they are not present\n",
        "#a missing pennkey and pod will result in an Airtable warning\n",
        "#which is easily fixed user-side.\n",
        "try: my_pennkey;\n",
        "except NameError: my_pennkey = \"\"\n",
        "try: my_pod;\n",
        "except NameError: my_pod = \"Select\"\n",
        "try: q_2_2;\n",
        "except NameError: q_2_2 = \"\"\n",
        "try: q_3_1;\n",
        "except NameError: q_3_1 = \"\"\n",
        "try: q_3_2;\n",
        "except NameError: q_3_2 = \"\"\n",
        "try: q_4_1;\n",
        "except NameError: q_4_1 = \"\"\n",
        "try: q_4_2;\n",
        "except NameError: q_4_2 = \"\"\n",
        "try: q_4_3;\n",
        "except NameError: q_4_3 = \"\"\n",
        "try: q_4_4;\n",
        "except NameError: q_4_4 = \"\"\n",
        "\n",
        "#autofill time if it is not present\n",
        "try: t0;\n",
        "except NameError: t0 = time.time()\n",
        "try: t1;\n",
        "except NameError: t1 = time.time()\n",
        "times = np.array([t1])-t0\n",
        "\n",
        "fields = {\"pennkey\": my_pennkey,\n",
        "          \"pod\": my_pod,\n",
        "          \"q_2_2\":q_2_2,\n",
        "          \"q_3_1\":q_3_1,\n",
        "          \"q_3_2\":q_3_2,\n",
        "          \"q_4_1\":q_4_1,\n",
        "          \"q_4_2\":q_4_2,\n",
        "          \"q_4_3\":q_4_3,\n",
        "          \"q_4_4\":q_4_4,\n",
        "          \"better_know_a_pod\":better_know_a_pod,\n",
        "          \"cumulative_times\": times}\n",
        "\n",
        "src = \"https://airtable.com/embed/shrgO2VsoOSFLqCNz?\"\n",
        "\n",
        "#now instead of the original source url, we do: src = prefill_form(src, fields)\n",
        "display(IFrame(src = prefill_form(src, fields), width = 800, height = 400))"
      ],
      "execution_count": 24,
      "outputs": [
        {
          "output_type": "display_data",
          "data": {
            "text/html": [
              "\n",
              "        <iframe\n",
              "            width=\"800\"\n",
              "            height=\"400\"\n",
              "            src=\"https://airtable.com/embed/shrgO2VsoOSFLqCNz?prefill_pennkey=spatank&prefill_pod=sublime-newt&prefill_q_2_2=%0AThe+regularized+models+performed+worse+than+the+original+model+in+terms+of+overall+accuracy.%0ADropout+%2868.73%25%29+had+a+significant+impact+in+lowering+validation+performance%2C+more+so+than+the+L2+penalty+%2889.25%25%29+or+early+stopping+%2886.17%25%29.%0ANone+of+the+regularization+schemes+I+tried+helped+defend+against+the+adversarial+attack+despite+spending+a+significant+amount+of+time+trying.%0AIt+is+hard+to+defend+against+these+attacks+because+it+is+hard+for+learning+algorithms+to+generalize+well.+%0AAdversarial+examples+are+chosen+after+carefully+studying+the+algorithm+being+attacked.+As+such%2C+they+are+always+one+step+ahead.%0A&prefill_q_3_1=%0AL-BFGS+and+FGSM+are+similar+to+the+attack+in+section+1.5.+%0ABoth+methods+attack+during+testing%2C+and+do+so+by+exploiting+gradient+information+to+generate+adversarial+samples.%0A&prefill_q_3_2=%0AWe+can+generate+adversarial+samples+and+use+them+to+train+our+models.+%0AMany+devices+can+now+be+logged+into+using+facial+recognition.+%0ABased+on+the+openai+blog%2C+it+is+possible+to+generate+an+adversarial+face%2C+and+use+its+picture+to+log+into+a+locked+device.%0AIt+is+more+important+than+ever+to+convey+the+message+that+AI+is+an+assistant+and+not+a+replacement.+%0AFor+instance%2C+when+driving+self-driving+cars%2C+it+is+important+to+always+have+control+over+the+vehicle.%0AGradient+masking+tries+to+deny+access+to+gradient+information+to+an+adversary.+%0AThis+is+done+by+outputting+a+label+for+a+multi-class+classification+problem+instead+of+a+probability+distribution+over+labels.%0AHowever%2C+an+adversary+can+still+obtain+useful+gradient+information+by+training+their+own+model+that+observes+the+targetted+model%27s+outputs.%0AThe+adversary%27s+model+then+has+the+required+gradient+information+that+can+be+then+used+to+generate+adversarial+inputs.%0A&prefill_q_4_1=%0AThis+implies+that+neural+networks+can+successfully+memorize+training+data%2C+and+that+the+underlying+optimization+problem+does+not+change+regardless+of+the+labels.%0A&prefill_q_4_2=%0A2n+%2B+d+parameters+with+each+parameter+taking+a+weight.%0A&prefill_q_4_3=%0ANo%2C+standard+explicit+regularization+methods+are+not+strictly+required+to+reduce+generalization+error.%0A&prefill_q_4_4=%0AImplicit+regularization+refers+to+methods+such+as+early+stopping+and+vanilla+SGD+on+linear+networks.%0AThese+methods+are+implicit+because+they+take+advantage+of+the+learning+algorithm+and%2For+its+architecture+itself.%0A&prefill_better_know_a_pod=%0AVishnu+is+a+first-year+PhD+student+in+the+Department+of+Bioengineering.+He+works+on+medical+imaging+problems+in+Christos+Davatzikos%27+lab.+He+went+to+Penn+State+for+college+majoring+in+computational+mathematics.+He+enjoys+cooking+and+day-trading+in+his+free+time.%0AAnna+is+a+math+and+computer+science+major+at+Penn.+She+is+submatriculating+into+the+data+science+program.+Last+summer+she+was+a+machine+learning+intern+at+LinkedIn.+In+her+free+time%2C+she+enjoys+watching+Netflix+and+recommends+Peaky+Blinders+and+Narcos.+%0A&prefill_cumulative_times=%5B185.33153892%5D\"\n",
              "            frameborder=\"0\"\n",
              "            allowfullscreen\n",
              "        ></iframe>\n",
              "        "
            ],
            "text/plain": [
              "<IPython.lib.display.IFrame at 0x7f0c88def190>"
            ]
          },
          "metadata": {
            "tags": []
          }
        }
      ]
    }
  ]
}