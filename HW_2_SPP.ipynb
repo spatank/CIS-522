{
  "nbformat": 4,
  "nbformat_minor": 0,
  "metadata": {
    "colab": {
      "name": "HW_2_SPP.ipynb",
      "provenance": [],
      "collapsed_sections": [],
      "toc_visible": true,
      "include_colab_link": true
    },
    "kernelspec": {
      "name": "python3",
      "display_name": "Python 3"
    },
    "accelerator": "GPU",
    "widgets": {
      "application/vnd.jupyter.widget-state+json": {
        "e1521f215d0b49d99e7eae1965e2fb02": {
          "model_module": "@jupyter-widgets/controls",
          "model_name": "HBoxModel",
          "state": {
            "_view_name": "HBoxView",
            "_dom_classes": [],
            "_model_name": "HBoxModel",
            "_view_module": "@jupyter-widgets/controls",
            "_model_module_version": "1.5.0",
            "_view_count": null,
            "_view_module_version": "1.5.0",
            "box_style": "",
            "layout": "IPY_MODEL_b2ebaac0d0924358b36d72512dcd8b6c",
            "_model_module": "@jupyter-widgets/controls",
            "children": [
              "IPY_MODEL_6f941f396fb8478e90bc1a890789c7f7",
              "IPY_MODEL_d0dd975825e244f9b2c2140089255837"
            ]
          }
        },
        "b2ebaac0d0924358b36d72512dcd8b6c": {
          "model_module": "@jupyter-widgets/base",
          "model_name": "LayoutModel",
          "state": {
            "_view_name": "LayoutView",
            "grid_template_rows": null,
            "right": null,
            "justify_content": null,
            "_view_module": "@jupyter-widgets/base",
            "overflow": null,
            "_model_module_version": "1.2.0",
            "_view_count": null,
            "flex_flow": null,
            "width": null,
            "min_width": null,
            "border": null,
            "align_items": null,
            "bottom": null,
            "_model_module": "@jupyter-widgets/base",
            "top": null,
            "grid_column": null,
            "overflow_y": null,
            "overflow_x": null,
            "grid_auto_flow": null,
            "grid_area": null,
            "grid_template_columns": null,
            "flex": null,
            "_model_name": "LayoutModel",
            "justify_items": null,
            "grid_row": null,
            "max_height": null,
            "align_content": null,
            "visibility": null,
            "align_self": null,
            "height": null,
            "min_height": null,
            "padding": null,
            "grid_auto_rows": null,
            "grid_gap": null,
            "max_width": null,
            "order": null,
            "_view_module_version": "1.2.0",
            "grid_template_areas": null,
            "object_position": null,
            "object_fit": null,
            "grid_auto_columns": null,
            "margin": null,
            "display": null,
            "left": null
          }
        },
        "6f941f396fb8478e90bc1a890789c7f7": {
          "model_module": "@jupyter-widgets/controls",
          "model_name": "FloatProgressModel",
          "state": {
            "_view_name": "ProgressView",
            "style": "IPY_MODEL_6099b268f38a42d0872a05eb89779df3",
            "_dom_classes": [],
            "description": "loss: 0.866178: 100%",
            "_model_name": "FloatProgressModel",
            "bar_style": "success",
            "max": 100,
            "_view_module": "@jupyter-widgets/controls",
            "_model_module_version": "1.5.0",
            "value": 100,
            "_view_count": null,
            "_view_module_version": "1.5.0",
            "orientation": "horizontal",
            "min": 0,
            "description_tooltip": null,
            "_model_module": "@jupyter-widgets/controls",
            "layout": "IPY_MODEL_38a4003c31144c02ac029982b71f5490"
          }
        },
        "d0dd975825e244f9b2c2140089255837": {
          "model_module": "@jupyter-widgets/controls",
          "model_name": "HTMLModel",
          "state": {
            "_view_name": "HTMLView",
            "style": "IPY_MODEL_8fd785097b4c4ba7a82f5b2557def41c",
            "_dom_classes": [],
            "description": "",
            "_model_name": "HTMLModel",
            "placeholder": "​",
            "_view_module": "@jupyter-widgets/controls",
            "_model_module_version": "1.5.0",
            "value": " 100/100 [00:01&lt;00:00, 64.32it/s]",
            "_view_count": null,
            "_view_module_version": "1.5.0",
            "description_tooltip": null,
            "_model_module": "@jupyter-widgets/controls",
            "layout": "IPY_MODEL_823fc6ea53604da38fae1b1c0ecfb499"
          }
        },
        "6099b268f38a42d0872a05eb89779df3": {
          "model_module": "@jupyter-widgets/controls",
          "model_name": "ProgressStyleModel",
          "state": {
            "_view_name": "StyleView",
            "_model_name": "ProgressStyleModel",
            "description_width": "initial",
            "_view_module": "@jupyter-widgets/base",
            "_model_module_version": "1.5.0",
            "_view_count": null,
            "_view_module_version": "1.2.0",
            "bar_color": null,
            "_model_module": "@jupyter-widgets/controls"
          }
        },
        "38a4003c31144c02ac029982b71f5490": {
          "model_module": "@jupyter-widgets/base",
          "model_name": "LayoutModel",
          "state": {
            "_view_name": "LayoutView",
            "grid_template_rows": null,
            "right": null,
            "justify_content": null,
            "_view_module": "@jupyter-widgets/base",
            "overflow": null,
            "_model_module_version": "1.2.0",
            "_view_count": null,
            "flex_flow": null,
            "width": null,
            "min_width": null,
            "border": null,
            "align_items": null,
            "bottom": null,
            "_model_module": "@jupyter-widgets/base",
            "top": null,
            "grid_column": null,
            "overflow_y": null,
            "overflow_x": null,
            "grid_auto_flow": null,
            "grid_area": null,
            "grid_template_columns": null,
            "flex": null,
            "_model_name": "LayoutModel",
            "justify_items": null,
            "grid_row": null,
            "max_height": null,
            "align_content": null,
            "visibility": null,
            "align_self": null,
            "height": null,
            "min_height": null,
            "padding": null,
            "grid_auto_rows": null,
            "grid_gap": null,
            "max_width": null,
            "order": null,
            "_view_module_version": "1.2.0",
            "grid_template_areas": null,
            "object_position": null,
            "object_fit": null,
            "grid_auto_columns": null,
            "margin": null,
            "display": null,
            "left": null
          }
        },
        "8fd785097b4c4ba7a82f5b2557def41c": {
          "model_module": "@jupyter-widgets/controls",
          "model_name": "DescriptionStyleModel",
          "state": {
            "_view_name": "StyleView",
            "_model_name": "DescriptionStyleModel",
            "description_width": "",
            "_view_module": "@jupyter-widgets/base",
            "_model_module_version": "1.5.0",
            "_view_count": null,
            "_view_module_version": "1.2.0",
            "_model_module": "@jupyter-widgets/controls"
          }
        },
        "823fc6ea53604da38fae1b1c0ecfb499": {
          "model_module": "@jupyter-widgets/base",
          "model_name": "LayoutModel",
          "state": {
            "_view_name": "LayoutView",
            "grid_template_rows": null,
            "right": null,
            "justify_content": null,
            "_view_module": "@jupyter-widgets/base",
            "overflow": null,
            "_model_module_version": "1.2.0",
            "_view_count": null,
            "flex_flow": null,
            "width": null,
            "min_width": null,
            "border": null,
            "align_items": null,
            "bottom": null,
            "_model_module": "@jupyter-widgets/base",
            "top": null,
            "grid_column": null,
            "overflow_y": null,
            "overflow_x": null,
            "grid_auto_flow": null,
            "grid_area": null,
            "grid_template_columns": null,
            "flex": null,
            "_model_name": "LayoutModel",
            "justify_items": null,
            "grid_row": null,
            "max_height": null,
            "align_content": null,
            "visibility": null,
            "align_self": null,
            "height": null,
            "min_height": null,
            "padding": null,
            "grid_auto_rows": null,
            "grid_gap": null,
            "max_width": null,
            "order": null,
            "_view_module_version": "1.2.0",
            "grid_template_areas": null,
            "object_position": null,
            "object_fit": null,
            "grid_auto_columns": null,
            "margin": null,
            "display": null,
            "left": null
          }
        },
        "fa458e9f32e94055bf999f3fb657e4c2": {
          "model_module": "@jupyter-widgets/controls",
          "model_name": "HBoxModel",
          "state": {
            "_view_name": "HBoxView",
            "_dom_classes": [],
            "_model_name": "HBoxModel",
            "_view_module": "@jupyter-widgets/controls",
            "_model_module_version": "1.5.0",
            "_view_count": null,
            "_view_module_version": "1.5.0",
            "box_style": "",
            "layout": "IPY_MODEL_04e6acf1089249a0ba164b476c495114",
            "_model_module": "@jupyter-widgets/controls",
            "children": [
              "IPY_MODEL_4af40ca5b43849a2b54abacb4842aa6f",
              "IPY_MODEL_1d003fa3749940b0a1f90d282f803196"
            ]
          }
        },
        "04e6acf1089249a0ba164b476c495114": {
          "model_module": "@jupyter-widgets/base",
          "model_name": "LayoutModel",
          "state": {
            "_view_name": "LayoutView",
            "grid_template_rows": null,
            "right": null,
            "justify_content": null,
            "_view_module": "@jupyter-widgets/base",
            "overflow": null,
            "_model_module_version": "1.2.0",
            "_view_count": null,
            "flex_flow": null,
            "width": null,
            "min_width": null,
            "border": null,
            "align_items": null,
            "bottom": null,
            "_model_module": "@jupyter-widgets/base",
            "top": null,
            "grid_column": null,
            "overflow_y": null,
            "overflow_x": null,
            "grid_auto_flow": null,
            "grid_area": null,
            "grid_template_columns": null,
            "flex": null,
            "_model_name": "LayoutModel",
            "justify_items": null,
            "grid_row": null,
            "max_height": null,
            "align_content": null,
            "visibility": null,
            "align_self": null,
            "height": null,
            "min_height": null,
            "padding": null,
            "grid_auto_rows": null,
            "grid_gap": null,
            "max_width": null,
            "order": null,
            "_view_module_version": "1.2.0",
            "grid_template_areas": null,
            "object_position": null,
            "object_fit": null,
            "grid_auto_columns": null,
            "margin": null,
            "display": null,
            "left": null
          }
        },
        "4af40ca5b43849a2b54abacb4842aa6f": {
          "model_module": "@jupyter-widgets/controls",
          "model_name": "FloatProgressModel",
          "state": {
            "_view_name": "ProgressView",
            "style": "IPY_MODEL_e477150abe4445dd927ea36aa4be72d1",
            "_dom_classes": [],
            "description": "loss: 0.928952: 100%",
            "_model_name": "FloatProgressModel",
            "bar_style": "success",
            "max": 100,
            "_view_module": "@jupyter-widgets/controls",
            "_model_module_version": "1.5.0",
            "value": 100,
            "_view_count": null,
            "_view_module_version": "1.5.0",
            "orientation": "horizontal",
            "min": 0,
            "description_tooltip": null,
            "_model_module": "@jupyter-widgets/controls",
            "layout": "IPY_MODEL_09a029611f6f40cea10ff22a584eb8a7"
          }
        },
        "1d003fa3749940b0a1f90d282f803196": {
          "model_module": "@jupyter-widgets/controls",
          "model_name": "HTMLModel",
          "state": {
            "_view_name": "HTMLView",
            "style": "IPY_MODEL_33672cc44f534854b08c903ea938cc1d",
            "_dom_classes": [],
            "description": "",
            "_model_name": "HTMLModel",
            "placeholder": "​",
            "_view_module": "@jupyter-widgets/controls",
            "_model_module_version": "1.5.0",
            "value": " 100/100 [00:01&lt;00:00, 71.29it/s]",
            "_view_count": null,
            "_view_module_version": "1.5.0",
            "description_tooltip": null,
            "_model_module": "@jupyter-widgets/controls",
            "layout": "IPY_MODEL_a1b074dd75734f4a95cda4b4d2e380ee"
          }
        },
        "e477150abe4445dd927ea36aa4be72d1": {
          "model_module": "@jupyter-widgets/controls",
          "model_name": "ProgressStyleModel",
          "state": {
            "_view_name": "StyleView",
            "_model_name": "ProgressStyleModel",
            "description_width": "initial",
            "_view_module": "@jupyter-widgets/base",
            "_model_module_version": "1.5.0",
            "_view_count": null,
            "_view_module_version": "1.2.0",
            "bar_color": null,
            "_model_module": "@jupyter-widgets/controls"
          }
        },
        "09a029611f6f40cea10ff22a584eb8a7": {
          "model_module": "@jupyter-widgets/base",
          "model_name": "LayoutModel",
          "state": {
            "_view_name": "LayoutView",
            "grid_template_rows": null,
            "right": null,
            "justify_content": null,
            "_view_module": "@jupyter-widgets/base",
            "overflow": null,
            "_model_module_version": "1.2.0",
            "_view_count": null,
            "flex_flow": null,
            "width": null,
            "min_width": null,
            "border": null,
            "align_items": null,
            "bottom": null,
            "_model_module": "@jupyter-widgets/base",
            "top": null,
            "grid_column": null,
            "overflow_y": null,
            "overflow_x": null,
            "grid_auto_flow": null,
            "grid_area": null,
            "grid_template_columns": null,
            "flex": null,
            "_model_name": "LayoutModel",
            "justify_items": null,
            "grid_row": null,
            "max_height": null,
            "align_content": null,
            "visibility": null,
            "align_self": null,
            "height": null,
            "min_height": null,
            "padding": null,
            "grid_auto_rows": null,
            "grid_gap": null,
            "max_width": null,
            "order": null,
            "_view_module_version": "1.2.0",
            "grid_template_areas": null,
            "object_position": null,
            "object_fit": null,
            "grid_auto_columns": null,
            "margin": null,
            "display": null,
            "left": null
          }
        },
        "33672cc44f534854b08c903ea938cc1d": {
          "model_module": "@jupyter-widgets/controls",
          "model_name": "DescriptionStyleModel",
          "state": {
            "_view_name": "StyleView",
            "_model_name": "DescriptionStyleModel",
            "description_width": "",
            "_view_module": "@jupyter-widgets/base",
            "_model_module_version": "1.5.0",
            "_view_count": null,
            "_view_module_version": "1.2.0",
            "_model_module": "@jupyter-widgets/controls"
          }
        },
        "a1b074dd75734f4a95cda4b4d2e380ee": {
          "model_module": "@jupyter-widgets/base",
          "model_name": "LayoutModel",
          "state": {
            "_view_name": "LayoutView",
            "grid_template_rows": null,
            "right": null,
            "justify_content": null,
            "_view_module": "@jupyter-widgets/base",
            "overflow": null,
            "_model_module_version": "1.2.0",
            "_view_count": null,
            "flex_flow": null,
            "width": null,
            "min_width": null,
            "border": null,
            "align_items": null,
            "bottom": null,
            "_model_module": "@jupyter-widgets/base",
            "top": null,
            "grid_column": null,
            "overflow_y": null,
            "overflow_x": null,
            "grid_auto_flow": null,
            "grid_area": null,
            "grid_template_columns": null,
            "flex": null,
            "_model_name": "LayoutModel",
            "justify_items": null,
            "grid_row": null,
            "max_height": null,
            "align_content": null,
            "visibility": null,
            "align_self": null,
            "height": null,
            "min_height": null,
            "padding": null,
            "grid_auto_rows": null,
            "grid_gap": null,
            "max_width": null,
            "order": null,
            "_view_module_version": "1.2.0",
            "grid_template_areas": null,
            "object_position": null,
            "object_fit": null,
            "grid_auto_columns": null,
            "margin": null,
            "display": null,
            "left": null
          }
        },
        "c39e42e020d64c2f88d26ff6aa5abc44": {
          "model_module": "@jupyter-widgets/controls",
          "model_name": "HBoxModel",
          "state": {
            "_view_name": "HBoxView",
            "_dom_classes": [],
            "_model_name": "HBoxModel",
            "_view_module": "@jupyter-widgets/controls",
            "_model_module_version": "1.5.0",
            "_view_count": null,
            "_view_module_version": "1.5.0",
            "box_style": "",
            "layout": "IPY_MODEL_19301c50d7c543d5b78f35e655ee43b6",
            "_model_module": "@jupyter-widgets/controls",
            "children": [
              "IPY_MODEL_8adcfb2f54b64ed2a9daa0ced254031b",
              "IPY_MODEL_cb4d17932bc2403d91bf896c35acd6f7"
            ]
          }
        },
        "19301c50d7c543d5b78f35e655ee43b6": {
          "model_module": "@jupyter-widgets/base",
          "model_name": "LayoutModel",
          "state": {
            "_view_name": "LayoutView",
            "grid_template_rows": null,
            "right": null,
            "justify_content": null,
            "_view_module": "@jupyter-widgets/base",
            "overflow": null,
            "_model_module_version": "1.2.0",
            "_view_count": null,
            "flex_flow": null,
            "width": null,
            "min_width": null,
            "border": null,
            "align_items": null,
            "bottom": null,
            "_model_module": "@jupyter-widgets/base",
            "top": null,
            "grid_column": null,
            "overflow_y": null,
            "overflow_x": null,
            "grid_auto_flow": null,
            "grid_area": null,
            "grid_template_columns": null,
            "flex": null,
            "_model_name": "LayoutModel",
            "justify_items": null,
            "grid_row": null,
            "max_height": null,
            "align_content": null,
            "visibility": null,
            "align_self": null,
            "height": null,
            "min_height": null,
            "padding": null,
            "grid_auto_rows": null,
            "grid_gap": null,
            "max_width": null,
            "order": null,
            "_view_module_version": "1.2.0",
            "grid_template_areas": null,
            "object_position": null,
            "object_fit": null,
            "grid_auto_columns": null,
            "margin": null,
            "display": null,
            "left": null
          }
        },
        "8adcfb2f54b64ed2a9daa0ced254031b": {
          "model_module": "@jupyter-widgets/controls",
          "model_name": "FloatProgressModel",
          "state": {
            "_view_name": "ProgressView",
            "style": "IPY_MODEL_789114e3ad174dd686b817ff04fea767",
            "_dom_classes": [],
            "description": "loss: 1.205660: 100%",
            "_model_name": "FloatProgressModel",
            "bar_style": "success",
            "max": 100,
            "_view_module": "@jupyter-widgets/controls",
            "_model_module_version": "1.5.0",
            "value": 100,
            "_view_count": null,
            "_view_module_version": "1.5.0",
            "orientation": "horizontal",
            "min": 0,
            "description_tooltip": null,
            "_model_module": "@jupyter-widgets/controls",
            "layout": "IPY_MODEL_39e27a72e7a44a73b5b68e38ff61a7d7"
          }
        },
        "cb4d17932bc2403d91bf896c35acd6f7": {
          "model_module": "@jupyter-widgets/controls",
          "model_name": "HTMLModel",
          "state": {
            "_view_name": "HTMLView",
            "style": "IPY_MODEL_a6ac4fa116604d0bb22d5a972a90955f",
            "_dom_classes": [],
            "description": "",
            "_model_name": "HTMLModel",
            "placeholder": "​",
            "_view_module": "@jupyter-widgets/controls",
            "_model_module_version": "1.5.0",
            "value": " 100/100 [00:08&lt;00:00, 11.28it/s]",
            "_view_count": null,
            "_view_module_version": "1.5.0",
            "description_tooltip": null,
            "_model_module": "@jupyter-widgets/controls",
            "layout": "IPY_MODEL_635e52be2b3d497692a5116679b96a31"
          }
        },
        "789114e3ad174dd686b817ff04fea767": {
          "model_module": "@jupyter-widgets/controls",
          "model_name": "ProgressStyleModel",
          "state": {
            "_view_name": "StyleView",
            "_model_name": "ProgressStyleModel",
            "description_width": "initial",
            "_view_module": "@jupyter-widgets/base",
            "_model_module_version": "1.5.0",
            "_view_count": null,
            "_view_module_version": "1.2.0",
            "bar_color": null,
            "_model_module": "@jupyter-widgets/controls"
          }
        },
        "39e27a72e7a44a73b5b68e38ff61a7d7": {
          "model_module": "@jupyter-widgets/base",
          "model_name": "LayoutModel",
          "state": {
            "_view_name": "LayoutView",
            "grid_template_rows": null,
            "right": null,
            "justify_content": null,
            "_view_module": "@jupyter-widgets/base",
            "overflow": null,
            "_model_module_version": "1.2.0",
            "_view_count": null,
            "flex_flow": null,
            "width": null,
            "min_width": null,
            "border": null,
            "align_items": null,
            "bottom": null,
            "_model_module": "@jupyter-widgets/base",
            "top": null,
            "grid_column": null,
            "overflow_y": null,
            "overflow_x": null,
            "grid_auto_flow": null,
            "grid_area": null,
            "grid_template_columns": null,
            "flex": null,
            "_model_name": "LayoutModel",
            "justify_items": null,
            "grid_row": null,
            "max_height": null,
            "align_content": null,
            "visibility": null,
            "align_self": null,
            "height": null,
            "min_height": null,
            "padding": null,
            "grid_auto_rows": null,
            "grid_gap": null,
            "max_width": null,
            "order": null,
            "_view_module_version": "1.2.0",
            "grid_template_areas": null,
            "object_position": null,
            "object_fit": null,
            "grid_auto_columns": null,
            "margin": null,
            "display": null,
            "left": null
          }
        },
        "a6ac4fa116604d0bb22d5a972a90955f": {
          "model_module": "@jupyter-widgets/controls",
          "model_name": "DescriptionStyleModel",
          "state": {
            "_view_name": "StyleView",
            "_model_name": "DescriptionStyleModel",
            "description_width": "",
            "_view_module": "@jupyter-widgets/base",
            "_model_module_version": "1.5.0",
            "_view_count": null,
            "_view_module_version": "1.2.0",
            "_model_module": "@jupyter-widgets/controls"
          }
        },
        "635e52be2b3d497692a5116679b96a31": {
          "model_module": "@jupyter-widgets/base",
          "model_name": "LayoutModel",
          "state": {
            "_view_name": "LayoutView",
            "grid_template_rows": null,
            "right": null,
            "justify_content": null,
            "_view_module": "@jupyter-widgets/base",
            "overflow": null,
            "_model_module_version": "1.2.0",
            "_view_count": null,
            "flex_flow": null,
            "width": null,
            "min_width": null,
            "border": null,
            "align_items": null,
            "bottom": null,
            "_model_module": "@jupyter-widgets/base",
            "top": null,
            "grid_column": null,
            "overflow_y": null,
            "overflow_x": null,
            "grid_auto_flow": null,
            "grid_area": null,
            "grid_template_columns": null,
            "flex": null,
            "_model_name": "LayoutModel",
            "justify_items": null,
            "grid_row": null,
            "max_height": null,
            "align_content": null,
            "visibility": null,
            "align_self": null,
            "height": null,
            "min_height": null,
            "padding": null,
            "grid_auto_rows": null,
            "grid_gap": null,
            "max_width": null,
            "order": null,
            "_view_module_version": "1.2.0",
            "grid_template_areas": null,
            "object_position": null,
            "object_fit": null,
            "grid_auto_columns": null,
            "margin": null,
            "display": null,
            "left": null
          }
        },
        "d6133a009e26422e9612ca738ac48874": {
          "model_module": "@jupyter-widgets/controls",
          "model_name": "HBoxModel",
          "state": {
            "_view_name": "HBoxView",
            "_dom_classes": [],
            "_model_name": "HBoxModel",
            "_view_module": "@jupyter-widgets/controls",
            "_model_module_version": "1.5.0",
            "_view_count": null,
            "_view_module_version": "1.5.0",
            "box_style": "",
            "layout": "IPY_MODEL_db04464d63704518b5ec746fd4fd8488",
            "_model_module": "@jupyter-widgets/controls",
            "children": [
              "IPY_MODEL_27368b4835c1438baec75e8b6dfdcc37",
              "IPY_MODEL_806837db791346259188ebbff759137f"
            ]
          }
        },
        "db04464d63704518b5ec746fd4fd8488": {
          "model_module": "@jupyter-widgets/base",
          "model_name": "LayoutModel",
          "state": {
            "_view_name": "LayoutView",
            "grid_template_rows": null,
            "right": null,
            "justify_content": null,
            "_view_module": "@jupyter-widgets/base",
            "overflow": null,
            "_model_module_version": "1.2.0",
            "_view_count": null,
            "flex_flow": null,
            "width": null,
            "min_width": null,
            "border": null,
            "align_items": null,
            "bottom": null,
            "_model_module": "@jupyter-widgets/base",
            "top": null,
            "grid_column": null,
            "overflow_y": null,
            "overflow_x": null,
            "grid_auto_flow": null,
            "grid_area": null,
            "grid_template_columns": null,
            "flex": null,
            "_model_name": "LayoutModel",
            "justify_items": null,
            "grid_row": null,
            "max_height": null,
            "align_content": null,
            "visibility": null,
            "align_self": null,
            "height": null,
            "min_height": null,
            "padding": null,
            "grid_auto_rows": null,
            "grid_gap": null,
            "max_width": null,
            "order": null,
            "_view_module_version": "1.2.0",
            "grid_template_areas": null,
            "object_position": null,
            "object_fit": null,
            "grid_auto_columns": null,
            "margin": null,
            "display": null,
            "left": null
          }
        },
        "27368b4835c1438baec75e8b6dfdcc37": {
          "model_module": "@jupyter-widgets/controls",
          "model_name": "FloatProgressModel",
          "state": {
            "_view_name": "ProgressView",
            "style": "IPY_MODEL_041fa25203494bcdb8d23a58ac2af3b6",
            "_dom_classes": [],
            "description": "loss: 0.913061: 100%",
            "_model_name": "FloatProgressModel",
            "bar_style": "success",
            "max": 100,
            "_view_module": "@jupyter-widgets/controls",
            "_model_module_version": "1.5.0",
            "value": 100,
            "_view_count": null,
            "_view_module_version": "1.5.0",
            "orientation": "horizontal",
            "min": 0,
            "description_tooltip": null,
            "_model_module": "@jupyter-widgets/controls",
            "layout": "IPY_MODEL_166aa36954fc45bebb05b426fd56ec34"
          }
        },
        "806837db791346259188ebbff759137f": {
          "model_module": "@jupyter-widgets/controls",
          "model_name": "HTMLModel",
          "state": {
            "_view_name": "HTMLView",
            "style": "IPY_MODEL_c0f3bfcb809e40a1b03dea4262f27d84",
            "_dom_classes": [],
            "description": "",
            "_model_name": "HTMLModel",
            "placeholder": "​",
            "_view_module": "@jupyter-widgets/controls",
            "_model_module_version": "1.5.0",
            "value": " 100/100 [00:03&lt;00:00, 32.57it/s]",
            "_view_count": null,
            "_view_module_version": "1.5.0",
            "description_tooltip": null,
            "_model_module": "@jupyter-widgets/controls",
            "layout": "IPY_MODEL_fd734bd3c3294cc893cef32b399a5681"
          }
        },
        "041fa25203494bcdb8d23a58ac2af3b6": {
          "model_module": "@jupyter-widgets/controls",
          "model_name": "ProgressStyleModel",
          "state": {
            "_view_name": "StyleView",
            "_model_name": "ProgressStyleModel",
            "description_width": "initial",
            "_view_module": "@jupyter-widgets/base",
            "_model_module_version": "1.5.0",
            "_view_count": null,
            "_view_module_version": "1.2.0",
            "bar_color": null,
            "_model_module": "@jupyter-widgets/controls"
          }
        },
        "166aa36954fc45bebb05b426fd56ec34": {
          "model_module": "@jupyter-widgets/base",
          "model_name": "LayoutModel",
          "state": {
            "_view_name": "LayoutView",
            "grid_template_rows": null,
            "right": null,
            "justify_content": null,
            "_view_module": "@jupyter-widgets/base",
            "overflow": null,
            "_model_module_version": "1.2.0",
            "_view_count": null,
            "flex_flow": null,
            "width": null,
            "min_width": null,
            "border": null,
            "align_items": null,
            "bottom": null,
            "_model_module": "@jupyter-widgets/base",
            "top": null,
            "grid_column": null,
            "overflow_y": null,
            "overflow_x": null,
            "grid_auto_flow": null,
            "grid_area": null,
            "grid_template_columns": null,
            "flex": null,
            "_model_name": "LayoutModel",
            "justify_items": null,
            "grid_row": null,
            "max_height": null,
            "align_content": null,
            "visibility": null,
            "align_self": null,
            "height": null,
            "min_height": null,
            "padding": null,
            "grid_auto_rows": null,
            "grid_gap": null,
            "max_width": null,
            "order": null,
            "_view_module_version": "1.2.0",
            "grid_template_areas": null,
            "object_position": null,
            "object_fit": null,
            "grid_auto_columns": null,
            "margin": null,
            "display": null,
            "left": null
          }
        },
        "c0f3bfcb809e40a1b03dea4262f27d84": {
          "model_module": "@jupyter-widgets/controls",
          "model_name": "DescriptionStyleModel",
          "state": {
            "_view_name": "StyleView",
            "_model_name": "DescriptionStyleModel",
            "description_width": "",
            "_view_module": "@jupyter-widgets/base",
            "_model_module_version": "1.5.0",
            "_view_count": null,
            "_view_module_version": "1.2.0",
            "_model_module": "@jupyter-widgets/controls"
          }
        },
        "fd734bd3c3294cc893cef32b399a5681": {
          "model_module": "@jupyter-widgets/base",
          "model_name": "LayoutModel",
          "state": {
            "_view_name": "LayoutView",
            "grid_template_rows": null,
            "right": null,
            "justify_content": null,
            "_view_module": "@jupyter-widgets/base",
            "overflow": null,
            "_model_module_version": "1.2.0",
            "_view_count": null,
            "flex_flow": null,
            "width": null,
            "min_width": null,
            "border": null,
            "align_items": null,
            "bottom": null,
            "_model_module": "@jupyter-widgets/base",
            "top": null,
            "grid_column": null,
            "overflow_y": null,
            "overflow_x": null,
            "grid_auto_flow": null,
            "grid_area": null,
            "grid_template_columns": null,
            "flex": null,
            "_model_name": "LayoutModel",
            "justify_items": null,
            "grid_row": null,
            "max_height": null,
            "align_content": null,
            "visibility": null,
            "align_self": null,
            "height": null,
            "min_height": null,
            "padding": null,
            "grid_auto_rows": null,
            "grid_gap": null,
            "max_width": null,
            "order": null,
            "_view_module_version": "1.2.0",
            "grid_template_areas": null,
            "object_position": null,
            "object_fit": null,
            "grid_auto_columns": null,
            "margin": null,
            "display": null,
            "left": null
          }
        },
        "677c7537c3a94d069f3a74153e1deba7": {
          "model_module": "@jupyter-widgets/controls",
          "model_name": "HBoxModel",
          "state": {
            "_view_name": "HBoxView",
            "_dom_classes": [],
            "_model_name": "HBoxModel",
            "_view_module": "@jupyter-widgets/controls",
            "_model_module_version": "1.5.0",
            "_view_count": null,
            "_view_module_version": "1.5.0",
            "box_style": "",
            "layout": "IPY_MODEL_5121dbc39bec4482b95965d742f73585",
            "_model_module": "@jupyter-widgets/controls",
            "children": [
              "IPY_MODEL_b5f6c869735d407b97840be3e7c27499",
              "IPY_MODEL_9a876dd997c14865977e7509e1e8e4a2"
            ]
          }
        },
        "5121dbc39bec4482b95965d742f73585": {
          "model_module": "@jupyter-widgets/base",
          "model_name": "LayoutModel",
          "state": {
            "_view_name": "LayoutView",
            "grid_template_rows": null,
            "right": null,
            "justify_content": null,
            "_view_module": "@jupyter-widgets/base",
            "overflow": null,
            "_model_module_version": "1.2.0",
            "_view_count": null,
            "flex_flow": null,
            "width": null,
            "min_width": null,
            "border": null,
            "align_items": null,
            "bottom": null,
            "_model_module": "@jupyter-widgets/base",
            "top": null,
            "grid_column": null,
            "overflow_y": null,
            "overflow_x": null,
            "grid_auto_flow": null,
            "grid_area": null,
            "grid_template_columns": null,
            "flex": null,
            "_model_name": "LayoutModel",
            "justify_items": null,
            "grid_row": null,
            "max_height": null,
            "align_content": null,
            "visibility": null,
            "align_self": null,
            "height": null,
            "min_height": null,
            "padding": null,
            "grid_auto_rows": null,
            "grid_gap": null,
            "max_width": null,
            "order": null,
            "_view_module_version": "1.2.0",
            "grid_template_areas": null,
            "object_position": null,
            "object_fit": null,
            "grid_auto_columns": null,
            "margin": null,
            "display": null,
            "left": null
          }
        },
        "b5f6c869735d407b97840be3e7c27499": {
          "model_module": "@jupyter-widgets/controls",
          "model_name": "FloatProgressModel",
          "state": {
            "_view_name": "ProgressView",
            "style": "IPY_MODEL_a3588d2c340742b2a8908e6aebfcfe34",
            "_dom_classes": [],
            "description": "loss: 0.947418: 100%",
            "_model_name": "FloatProgressModel",
            "bar_style": "success",
            "max": 100,
            "_view_module": "@jupyter-widgets/controls",
            "_model_module_version": "1.5.0",
            "value": 100,
            "_view_count": null,
            "_view_module_version": "1.5.0",
            "orientation": "horizontal",
            "min": 0,
            "description_tooltip": null,
            "_model_module": "@jupyter-widgets/controls",
            "layout": "IPY_MODEL_314d0e2b79a342da8fc720d07772ab94"
          }
        },
        "9a876dd997c14865977e7509e1e8e4a2": {
          "model_module": "@jupyter-widgets/controls",
          "model_name": "HTMLModel",
          "state": {
            "_view_name": "HTMLView",
            "style": "IPY_MODEL_447def4a37db4cdcb62e72fc39f0d2b5",
            "_dom_classes": [],
            "description": "",
            "_model_name": "HTMLModel",
            "placeholder": "​",
            "_view_module": "@jupyter-widgets/controls",
            "_model_module_version": "1.5.0",
            "value": " 100/100 [00:01&lt;00:00, 60.37it/s]",
            "_view_count": null,
            "_view_module_version": "1.5.0",
            "description_tooltip": null,
            "_model_module": "@jupyter-widgets/controls",
            "layout": "IPY_MODEL_b813ed0a7a1f46f7b27cf370cf0c1e0e"
          }
        },
        "a3588d2c340742b2a8908e6aebfcfe34": {
          "model_module": "@jupyter-widgets/controls",
          "model_name": "ProgressStyleModel",
          "state": {
            "_view_name": "StyleView",
            "_model_name": "ProgressStyleModel",
            "description_width": "initial",
            "_view_module": "@jupyter-widgets/base",
            "_model_module_version": "1.5.0",
            "_view_count": null,
            "_view_module_version": "1.2.0",
            "bar_color": null,
            "_model_module": "@jupyter-widgets/controls"
          }
        },
        "314d0e2b79a342da8fc720d07772ab94": {
          "model_module": "@jupyter-widgets/base",
          "model_name": "LayoutModel",
          "state": {
            "_view_name": "LayoutView",
            "grid_template_rows": null,
            "right": null,
            "justify_content": null,
            "_view_module": "@jupyter-widgets/base",
            "overflow": null,
            "_model_module_version": "1.2.0",
            "_view_count": null,
            "flex_flow": null,
            "width": null,
            "min_width": null,
            "border": null,
            "align_items": null,
            "bottom": null,
            "_model_module": "@jupyter-widgets/base",
            "top": null,
            "grid_column": null,
            "overflow_y": null,
            "overflow_x": null,
            "grid_auto_flow": null,
            "grid_area": null,
            "grid_template_columns": null,
            "flex": null,
            "_model_name": "LayoutModel",
            "justify_items": null,
            "grid_row": null,
            "max_height": null,
            "align_content": null,
            "visibility": null,
            "align_self": null,
            "height": null,
            "min_height": null,
            "padding": null,
            "grid_auto_rows": null,
            "grid_gap": null,
            "max_width": null,
            "order": null,
            "_view_module_version": "1.2.0",
            "grid_template_areas": null,
            "object_position": null,
            "object_fit": null,
            "grid_auto_columns": null,
            "margin": null,
            "display": null,
            "left": null
          }
        },
        "447def4a37db4cdcb62e72fc39f0d2b5": {
          "model_module": "@jupyter-widgets/controls",
          "model_name": "DescriptionStyleModel",
          "state": {
            "_view_name": "StyleView",
            "_model_name": "DescriptionStyleModel",
            "description_width": "",
            "_view_module": "@jupyter-widgets/base",
            "_model_module_version": "1.5.0",
            "_view_count": null,
            "_view_module_version": "1.2.0",
            "_model_module": "@jupyter-widgets/controls"
          }
        },
        "b813ed0a7a1f46f7b27cf370cf0c1e0e": {
          "model_module": "@jupyter-widgets/base",
          "model_name": "LayoutModel",
          "state": {
            "_view_name": "LayoutView",
            "grid_template_rows": null,
            "right": null,
            "justify_content": null,
            "_view_module": "@jupyter-widgets/base",
            "overflow": null,
            "_model_module_version": "1.2.0",
            "_view_count": null,
            "flex_flow": null,
            "width": null,
            "min_width": null,
            "border": null,
            "align_items": null,
            "bottom": null,
            "_model_module": "@jupyter-widgets/base",
            "top": null,
            "grid_column": null,
            "overflow_y": null,
            "overflow_x": null,
            "grid_auto_flow": null,
            "grid_area": null,
            "grid_template_columns": null,
            "flex": null,
            "_model_name": "LayoutModel",
            "justify_items": null,
            "grid_row": null,
            "max_height": null,
            "align_content": null,
            "visibility": null,
            "align_self": null,
            "height": null,
            "min_height": null,
            "padding": null,
            "grid_auto_rows": null,
            "grid_gap": null,
            "max_width": null,
            "order": null,
            "_view_module_version": "1.2.0",
            "grid_template_areas": null,
            "object_position": null,
            "object_fit": null,
            "grid_auto_columns": null,
            "margin": null,
            "display": null,
            "left": null
          }
        },
        "015cf17a48ea49e08da63e4da50adb4e": {
          "model_module": "@jupyter-widgets/controls",
          "model_name": "HBoxModel",
          "state": {
            "_view_name": "HBoxView",
            "_dom_classes": [],
            "_model_name": "HBoxModel",
            "_view_module": "@jupyter-widgets/controls",
            "_model_module_version": "1.5.0",
            "_view_count": null,
            "_view_module_version": "1.5.0",
            "box_style": "",
            "layout": "IPY_MODEL_bd70dd3fbf654bac856e354d7956c44f",
            "_model_module": "@jupyter-widgets/controls",
            "children": [
              "IPY_MODEL_05ab40438c534fd899a9f79575f2e601",
              "IPY_MODEL_fe05db9ffee248cfbfd968e348c34ac5"
            ]
          }
        },
        "bd70dd3fbf654bac856e354d7956c44f": {
          "model_module": "@jupyter-widgets/base",
          "model_name": "LayoutModel",
          "state": {
            "_view_name": "LayoutView",
            "grid_template_rows": null,
            "right": null,
            "justify_content": null,
            "_view_module": "@jupyter-widgets/base",
            "overflow": null,
            "_model_module_version": "1.2.0",
            "_view_count": null,
            "flex_flow": null,
            "width": null,
            "min_width": null,
            "border": null,
            "align_items": null,
            "bottom": null,
            "_model_module": "@jupyter-widgets/base",
            "top": null,
            "grid_column": null,
            "overflow_y": null,
            "overflow_x": null,
            "grid_auto_flow": null,
            "grid_area": null,
            "grid_template_columns": null,
            "flex": null,
            "_model_name": "LayoutModel",
            "justify_items": null,
            "grid_row": null,
            "max_height": null,
            "align_content": null,
            "visibility": null,
            "align_self": null,
            "height": null,
            "min_height": null,
            "padding": null,
            "grid_auto_rows": null,
            "grid_gap": null,
            "max_width": null,
            "order": null,
            "_view_module_version": "1.2.0",
            "grid_template_areas": null,
            "object_position": null,
            "object_fit": null,
            "grid_auto_columns": null,
            "margin": null,
            "display": null,
            "left": null
          }
        },
        "05ab40438c534fd899a9f79575f2e601": {
          "model_module": "@jupyter-widgets/controls",
          "model_name": "FloatProgressModel",
          "state": {
            "_view_name": "ProgressView",
            "style": "IPY_MODEL_31de4709c2924fda8a126ab7b0466400",
            "_dom_classes": [],
            "description": "loss: 0.935157: 100%",
            "_model_name": "FloatProgressModel",
            "bar_style": "success",
            "max": 100,
            "_view_module": "@jupyter-widgets/controls",
            "_model_module_version": "1.5.0",
            "value": 100,
            "_view_count": null,
            "_view_module_version": "1.5.0",
            "orientation": "horizontal",
            "min": 0,
            "description_tooltip": null,
            "_model_module": "@jupyter-widgets/controls",
            "layout": "IPY_MODEL_e5e0fc9ea6d34cf59a32b9c9c4af0935"
          }
        },
        "fe05db9ffee248cfbfd968e348c34ac5": {
          "model_module": "@jupyter-widgets/controls",
          "model_name": "HTMLModel",
          "state": {
            "_view_name": "HTMLView",
            "style": "IPY_MODEL_b9d8588acfa945b794180b2eb3659d65",
            "_dom_classes": [],
            "description": "",
            "_model_name": "HTMLModel",
            "placeholder": "​",
            "_view_module": "@jupyter-widgets/controls",
            "_model_module_version": "1.5.0",
            "value": " 100/100 [00:04&lt;00:00, 21.72it/s]",
            "_view_count": null,
            "_view_module_version": "1.5.0",
            "description_tooltip": null,
            "_model_module": "@jupyter-widgets/controls",
            "layout": "IPY_MODEL_7d0940511b0949ce945aa0ff9a5d911b"
          }
        },
        "31de4709c2924fda8a126ab7b0466400": {
          "model_module": "@jupyter-widgets/controls",
          "model_name": "ProgressStyleModel",
          "state": {
            "_view_name": "StyleView",
            "_model_name": "ProgressStyleModel",
            "description_width": "initial",
            "_view_module": "@jupyter-widgets/base",
            "_model_module_version": "1.5.0",
            "_view_count": null,
            "_view_module_version": "1.2.0",
            "bar_color": null,
            "_model_module": "@jupyter-widgets/controls"
          }
        },
        "e5e0fc9ea6d34cf59a32b9c9c4af0935": {
          "model_module": "@jupyter-widgets/base",
          "model_name": "LayoutModel",
          "state": {
            "_view_name": "LayoutView",
            "grid_template_rows": null,
            "right": null,
            "justify_content": null,
            "_view_module": "@jupyter-widgets/base",
            "overflow": null,
            "_model_module_version": "1.2.0",
            "_view_count": null,
            "flex_flow": null,
            "width": null,
            "min_width": null,
            "border": null,
            "align_items": null,
            "bottom": null,
            "_model_module": "@jupyter-widgets/base",
            "top": null,
            "grid_column": null,
            "overflow_y": null,
            "overflow_x": null,
            "grid_auto_flow": null,
            "grid_area": null,
            "grid_template_columns": null,
            "flex": null,
            "_model_name": "LayoutModel",
            "justify_items": null,
            "grid_row": null,
            "max_height": null,
            "align_content": null,
            "visibility": null,
            "align_self": null,
            "height": null,
            "min_height": null,
            "padding": null,
            "grid_auto_rows": null,
            "grid_gap": null,
            "max_width": null,
            "order": null,
            "_view_module_version": "1.2.0",
            "grid_template_areas": null,
            "object_position": null,
            "object_fit": null,
            "grid_auto_columns": null,
            "margin": null,
            "display": null,
            "left": null
          }
        },
        "b9d8588acfa945b794180b2eb3659d65": {
          "model_module": "@jupyter-widgets/controls",
          "model_name": "DescriptionStyleModel",
          "state": {
            "_view_name": "StyleView",
            "_model_name": "DescriptionStyleModel",
            "description_width": "",
            "_view_module": "@jupyter-widgets/base",
            "_model_module_version": "1.5.0",
            "_view_count": null,
            "_view_module_version": "1.2.0",
            "_model_module": "@jupyter-widgets/controls"
          }
        },
        "7d0940511b0949ce945aa0ff9a5d911b": {
          "model_module": "@jupyter-widgets/base",
          "model_name": "LayoutModel",
          "state": {
            "_view_name": "LayoutView",
            "grid_template_rows": null,
            "right": null,
            "justify_content": null,
            "_view_module": "@jupyter-widgets/base",
            "overflow": null,
            "_model_module_version": "1.2.0",
            "_view_count": null,
            "flex_flow": null,
            "width": null,
            "min_width": null,
            "border": null,
            "align_items": null,
            "bottom": null,
            "_model_module": "@jupyter-widgets/base",
            "top": null,
            "grid_column": null,
            "overflow_y": null,
            "overflow_x": null,
            "grid_auto_flow": null,
            "grid_area": null,
            "grid_template_columns": null,
            "flex": null,
            "_model_name": "LayoutModel",
            "justify_items": null,
            "grid_row": null,
            "max_height": null,
            "align_content": null,
            "visibility": null,
            "align_self": null,
            "height": null,
            "min_height": null,
            "padding": null,
            "grid_auto_rows": null,
            "grid_gap": null,
            "max_width": null,
            "order": null,
            "_view_module_version": "1.2.0",
            "grid_template_areas": null,
            "object_position": null,
            "object_fit": null,
            "grid_auto_columns": null,
            "margin": null,
            "display": null,
            "left": null
          }
        },
        "4be4b6bb70864203b4f60d9d58144860": {
          "model_module": "@jupyter-widgets/controls",
          "model_name": "HBoxModel",
          "state": {
            "_view_name": "HBoxView",
            "_dom_classes": [],
            "_model_name": "HBoxModel",
            "_view_module": "@jupyter-widgets/controls",
            "_model_module_version": "1.5.0",
            "_view_count": null,
            "_view_module_version": "1.5.0",
            "box_style": "",
            "layout": "IPY_MODEL_493fe441513b48bcb0b414a5fb67e4b1",
            "_model_module": "@jupyter-widgets/controls",
            "children": [
              "IPY_MODEL_f34c34995d1e4d479a7532bc48c944cc",
              "IPY_MODEL_2b91db48397044a2a2952b2688587e3c"
            ]
          }
        },
        "493fe441513b48bcb0b414a5fb67e4b1": {
          "model_module": "@jupyter-widgets/base",
          "model_name": "LayoutModel",
          "state": {
            "_view_name": "LayoutView",
            "grid_template_rows": null,
            "right": null,
            "justify_content": null,
            "_view_module": "@jupyter-widgets/base",
            "overflow": null,
            "_model_module_version": "1.2.0",
            "_view_count": null,
            "flex_flow": null,
            "width": null,
            "min_width": null,
            "border": null,
            "align_items": null,
            "bottom": null,
            "_model_module": "@jupyter-widgets/base",
            "top": null,
            "grid_column": null,
            "overflow_y": null,
            "overflow_x": null,
            "grid_auto_flow": null,
            "grid_area": null,
            "grid_template_columns": null,
            "flex": null,
            "_model_name": "LayoutModel",
            "justify_items": null,
            "grid_row": null,
            "max_height": null,
            "align_content": null,
            "visibility": null,
            "align_self": null,
            "height": null,
            "min_height": null,
            "padding": null,
            "grid_auto_rows": null,
            "grid_gap": null,
            "max_width": null,
            "order": null,
            "_view_module_version": "1.2.0",
            "grid_template_areas": null,
            "object_position": null,
            "object_fit": null,
            "grid_auto_columns": null,
            "margin": null,
            "display": null,
            "left": null
          }
        },
        "f34c34995d1e4d479a7532bc48c944cc": {
          "model_module": "@jupyter-widgets/controls",
          "model_name": "FloatProgressModel",
          "state": {
            "_view_name": "ProgressView",
            "style": "IPY_MODEL_33393821aba8431aa5545b41c7298baf",
            "_dom_classes": [],
            "description": "loss: 1.105460: 100%",
            "_model_name": "FloatProgressModel",
            "bar_style": "success",
            "max": 100,
            "_view_module": "@jupyter-widgets/controls",
            "_model_module_version": "1.5.0",
            "value": 100,
            "_view_count": null,
            "_view_module_version": "1.5.0",
            "orientation": "horizontal",
            "min": 0,
            "description_tooltip": null,
            "_model_module": "@jupyter-widgets/controls",
            "layout": "IPY_MODEL_696bbe2a53cc482eaa0f41720ce6e3ee"
          }
        },
        "2b91db48397044a2a2952b2688587e3c": {
          "model_module": "@jupyter-widgets/controls",
          "model_name": "HTMLModel",
          "state": {
            "_view_name": "HTMLView",
            "style": "IPY_MODEL_f2080a1c30834458affe3c0f36cc56ed",
            "_dom_classes": [],
            "description": "",
            "_model_name": "HTMLModel",
            "placeholder": "​",
            "_view_module": "@jupyter-widgets/controls",
            "_model_module_version": "1.5.0",
            "value": " 100/100 [00:03&lt;00:00, 32.11it/s]",
            "_view_count": null,
            "_view_module_version": "1.5.0",
            "description_tooltip": null,
            "_model_module": "@jupyter-widgets/controls",
            "layout": "IPY_MODEL_6b82a3de3e80466bbaaa06e9b1ae45c3"
          }
        },
        "33393821aba8431aa5545b41c7298baf": {
          "model_module": "@jupyter-widgets/controls",
          "model_name": "ProgressStyleModel",
          "state": {
            "_view_name": "StyleView",
            "_model_name": "ProgressStyleModel",
            "description_width": "initial",
            "_view_module": "@jupyter-widgets/base",
            "_model_module_version": "1.5.0",
            "_view_count": null,
            "_view_module_version": "1.2.0",
            "bar_color": null,
            "_model_module": "@jupyter-widgets/controls"
          }
        },
        "696bbe2a53cc482eaa0f41720ce6e3ee": {
          "model_module": "@jupyter-widgets/base",
          "model_name": "LayoutModel",
          "state": {
            "_view_name": "LayoutView",
            "grid_template_rows": null,
            "right": null,
            "justify_content": null,
            "_view_module": "@jupyter-widgets/base",
            "overflow": null,
            "_model_module_version": "1.2.0",
            "_view_count": null,
            "flex_flow": null,
            "width": null,
            "min_width": null,
            "border": null,
            "align_items": null,
            "bottom": null,
            "_model_module": "@jupyter-widgets/base",
            "top": null,
            "grid_column": null,
            "overflow_y": null,
            "overflow_x": null,
            "grid_auto_flow": null,
            "grid_area": null,
            "grid_template_columns": null,
            "flex": null,
            "_model_name": "LayoutModel",
            "justify_items": null,
            "grid_row": null,
            "max_height": null,
            "align_content": null,
            "visibility": null,
            "align_self": null,
            "height": null,
            "min_height": null,
            "padding": null,
            "grid_auto_rows": null,
            "grid_gap": null,
            "max_width": null,
            "order": null,
            "_view_module_version": "1.2.0",
            "grid_template_areas": null,
            "object_position": null,
            "object_fit": null,
            "grid_auto_columns": null,
            "margin": null,
            "display": null,
            "left": null
          }
        },
        "f2080a1c30834458affe3c0f36cc56ed": {
          "model_module": "@jupyter-widgets/controls",
          "model_name": "DescriptionStyleModel",
          "state": {
            "_view_name": "StyleView",
            "_model_name": "DescriptionStyleModel",
            "description_width": "",
            "_view_module": "@jupyter-widgets/base",
            "_model_module_version": "1.5.0",
            "_view_count": null,
            "_view_module_version": "1.2.0",
            "_model_module": "@jupyter-widgets/controls"
          }
        },
        "6b82a3de3e80466bbaaa06e9b1ae45c3": {
          "model_module": "@jupyter-widgets/base",
          "model_name": "LayoutModel",
          "state": {
            "_view_name": "LayoutView",
            "grid_template_rows": null,
            "right": null,
            "justify_content": null,
            "_view_module": "@jupyter-widgets/base",
            "overflow": null,
            "_model_module_version": "1.2.0",
            "_view_count": null,
            "flex_flow": null,
            "width": null,
            "min_width": null,
            "border": null,
            "align_items": null,
            "bottom": null,
            "_model_module": "@jupyter-widgets/base",
            "top": null,
            "grid_column": null,
            "overflow_y": null,
            "overflow_x": null,
            "grid_auto_flow": null,
            "grid_area": null,
            "grid_template_columns": null,
            "flex": null,
            "_model_name": "LayoutModel",
            "justify_items": null,
            "grid_row": null,
            "max_height": null,
            "align_content": null,
            "visibility": null,
            "align_self": null,
            "height": null,
            "min_height": null,
            "padding": null,
            "grid_auto_rows": null,
            "grid_gap": null,
            "max_width": null,
            "order": null,
            "_view_module_version": "1.2.0",
            "grid_template_areas": null,
            "object_position": null,
            "object_fit": null,
            "grid_auto_columns": null,
            "margin": null,
            "display": null,
            "left": null
          }
        }
      }
    }
  },
  "cells": [
    {
      "cell_type": "markdown",
      "metadata": {
        "id": "view-in-github",
        "colab_type": "text"
      },
      "source": [
        "<a href=\"https://colab.research.google.com/github/spatank/CIS-522/blob/main/HW_2_SPP.ipynb\" target=\"_parent\"><img src=\"https://colab.research.google.com/assets/colab-badge.svg\" alt=\"Open In Colab\"/></a>"
      ]
    },
    {
      "cell_type": "markdown",
      "metadata": {
        "id": "hwKKo5_FzsXP"
      },
      "source": [
        "# CIS-522 Week 2 Homework\n",
        "\n",
        "\n",
        "**Instructor:** Konrad Kording\n",
        "\n",
        "**Content Creators:** Ameet Rahane, Spiros Chavlis"
      ]
    },
    {
      "cell_type": "markdown",
      "metadata": {
        "id": "q2t00IxoJbXI"
      },
      "source": [
        "---\n",
        "## Preface\n",
        "Since this week's homework requires coding, we recommend saving this notebook in your google Drive (`File -> Save a copy in Drive`), and share the link to the final version in the subscription airtable form. You can also attach the code to the form if you prefer off-colab coding."
      ]
    },
    {
      "cell_type": "code",
      "metadata": {
        "id": "8kdBhPZj3mPh",
        "cellView": "form"
      },
      "source": [
        "#@markdown What is your Pennkey and pod? (text, not numbers, e.g. bfranklin)\n",
        "my_pennkey = 'spatank' #@param {type:\"string\"}\n",
        "my_pod = 'sublime-newt' #@param ['Select', 'euclidean-wombat', 'sublime-newt', 'buoyant-unicorn', 'lackadaisical-manatee','indelible-stingray','superfluous-lyrebird','discreet-reindeer','quizzical-goldfish','ubiquitous-cheetah','nonchalant-crocodile','fashionable-lemur','spiffy-eagle','electric-emu','quotidian-lion','astute-jellyfish', 'quantum-herring']\n",
        "\n",
        "# start timing\n",
        "import time\n",
        "try:t0;\n",
        "except NameError: t0 = time.time()\n",
        "\n"
      ],
      "execution_count": 1,
      "outputs": []
    },
    {
      "cell_type": "markdown",
      "metadata": {
        "id": "N7s6B1jx0djA"
      },
      "source": [
        "## Part 1. Recap\n",
        "This week, we looked at how to create deep fully connected networks in pytorch, covering everything from an introduction to Pytorch tensor operations to deep linear networks. Meet with your pod for 10 minutes to discuss what you learned, what was clear, and what you hope to learn more about.\n",
        "\n",
        "In this homework, we will be exploring that a little more. First, we will read a paper by Andrew M. Saxe, James L. McClelland, and Surya Ganguli on _A mathematical theory of semantic development in deep neural networks_. Then, you will design your own linear network to solve a given problem on a dataset.\n",
        "\n",
        "**Note:** Before or after doing the Homework, we highly encourage you to finish the optional material of [W2_Tutorial2](https://colab.research.google.com/github/CIS-522/course-content/blob/main/tutorials/W2_PyTorchDLN/student/W2_Tutorial2.ipynb) notebook, and especially Section 7. Although the concepts covered in the optional part are not a requirement to finish the Homework, finishing these materials will help you improve your current intuition on Deep Learning.\n",
        "\n"
      ]
    },
    {
      "cell_type": "markdown",
      "metadata": {
        "id": "oDjCjSsS02dD"
      },
      "source": [
        "## Part 2: Read a paper\n",
        "\n",
        "Read the paper [A mathematical theory of semantic development in deep neural networks](https://www.pnas.org/content/116/23/11537.short). Take some time and try to contextualize this with respect to the content we covered this week. For more context, watch the talk by Surya Ganguli below. After reading the paper, discuss the main figures with your pod."
      ]
    },
    {
      "cell_type": "code",
      "metadata": {
        "id": "-z_Jom06QqSv",
        "cellView": "form",
        "colab": {
          "base_uri": "https://localhost:8080/",
          "height": 518
        },
        "outputId": "9421d016-fcde-4463-e486-28a3ba9fbe71"
      },
      "source": [
        "#@markdown ### Dr. Ganguli's talk\r\n",
        "from IPython.display import YouTubeVideo\r\n",
        "video = YouTubeVideo(id=\"SJAvFqHw-hA\", width=854, height=480, fs=1)\r\n",
        "print(\"Video available at https://youtube.com/watch?v=\" + video.id)\r\n",
        "\r\n",
        "video"
      ],
      "execution_count": 2,
      "outputs": [
        {
          "output_type": "stream",
          "text": [
            "Video available at https://youtube.com/watch?v=SJAvFqHw-hA\n"
          ],
          "name": "stdout"
        },
        {
          "output_type": "execute_result",
          "data": {
            "text/html": [
              "\n",
              "        <iframe\n",
              "            width=\"854\"\n",
              "            height=\"480\"\n",
              "            src=\"https://www.youtube.com/embed/SJAvFqHw-hA?fs=1\"\n",
              "            frameborder=\"0\"\n",
              "            allowfullscreen\n",
              "        ></iframe>\n",
              "        "
            ],
            "text/plain": [
              "<IPython.lib.display.YouTubeVideo at 0x7fe43b9f6400>"
            ],
            "image/jpeg": "[encoded data removed]"
          },
          "metadata": {
            "tags": []
          },
          "execution_count": 2
        }
      ]
    },
    {
      "cell_type": "code",
      "metadata": {
        "id": "OjpbnkQUGr1B"
      },
      "source": [
        "#@markdown **Student response**: What do you think is the most important aspect of the paper?\n",
        "thoughts_on_paper = \"The most important aspect of the paper is its demonstration that a deep linear network can emulate nonlinear learning dynamics that a mathematically equivalent shallow linear network cannot. Inputs to the networks correspond to unique vectors that identify an item. Outputs represent feature vectors for the inputs. The deep network is able to model a number of human behaviors observed in semantic learning over developmental time. I am particularly struck by Figure 5 which demonstrates the non-monotonic change in a feature's value for a particular item. The U-shaped curve indicates a complete flip in a learner's perception of the extent to which an item possesses the feature. This flip, according to the paper, is a model for the behavior where children tend to create incorrect associations between objects and features. These associations disappear over time, but persist in the short term. Being able to watch a network's parameters during training and link them to behavior is very interesting. I am also fascinated by how a simple linear network can model a variety of complex learning behaviors. Linear models are extremely useful since they can be analytically parsed unlike their nonlinear counterparts. In this paper, the authors examine the singular values of the input-output correlation matrix analytically. The structure and evolution of these values is the key ingredient on which most analyses are based. In last week's tutorial, we generated a figure tracking the singular values of a network's weight matrix during training. It would be interesting to see if analytical expressions can be derived for the dynamics of learning in that instance, similar to this paper.\" #@param {type:\"string\"}\n"
      ],
      "execution_count": 3,
      "outputs": []
    },
    {
      "cell_type": "markdown",
      "metadata": {
        "id": "cFb-xRYWV5YC"
      },
      "source": [
        "## Part 3: Design your deep network!\r\n",
        "\r\n",
        "In this section, you'll design a deep linear network to perform linear regression in a real dataset. We will provide the data for you.\r\n",
        "\r\n",
        "We will use the **QSAR fish toxicity dataset** taken from the UCI Machine Learning Repository for this homework. For more information you can see [here](https://archive.ics.uci.edu/ml/datasets/QSAR+fish+toxicity) and also read the relevant [publication](http://www.doi.org/10.1080/1062936X.2015.1018938). This study focuses on the development of a new QSAR (Quantitative structure-activity relationship, for more info see [here](https://en.wikipedia.org/wiki/Quantitative_structure%E2%80%93activity_relationship)) model to predict the acute toxicity of various chemicals, defined as $LC_{50}$ 96 hours, towards the fathead minnow (Pimephales promelas).\r\n",
        "\r\n",
        "The dataset consists of $908$ number of examples, $6$ features, and $1$ target variable.\r\n",
        "\r\n",
        "Namely, the features are six molecular descriptors:\r\n",
        "\r\n",
        "1. CIC0: Complementary Information Content index, neighborhood symmetry of 0-order (encode information regarding heteroatoms)\r\n",
        "2. SM1_Dz(Z): the spectral moment of order one from Barysz matrix weighted by atomic number (account for heteroatoms, large values more heterogeneity)\r\n",
        "3. GATS1i: Geary autocorrelation of lag 1 weighted by ionization potential (shows the number of carbon-carbon bonds)\r\n",
        "4. NdsCH: Number of atoms of type dsCH (encode information\r\n",
        "about the electrophilic characteristics of chemicals)\r\n",
        "5. NdssC: Number of atoms of type dssC (encode information\r\n",
        "about the electrophilic characteristics of chemicals)\r\n",
        "6. MLogP: Moriguchi octanol-water partition coefficient (a widely accepted estimate of the lipophilicity of organic compounds, which is considered the driving force of narcosis) \r\n",
        "\r\n",
        "and the target variable is a quantitative response (toxicity), $LC_{50} [-log_{10}(mol/L)]$.\r\n",
        "\r\n",
        "This small project aims to find the linear relationship between these molecular markers and the toxicity. So, you will implement a deep linear network to perform linear regression.\r\n",
        "\r\n",
        "Towards this goal, you have to perform the following steps:\r\n",
        "\r\n",
        "1. Download and visualize the dataset. As our samples contain six features, we can perform PCA or any other dimensionality reduction method to visualize our dataset, e.g., [sklearn.decomposition.PCA](https://scikit-learn.org/stable/modules/generated/sklearn.decomposition.PCA.html)\r\n",
        "\r\n",
        "  ```python\r\n",
        "    # Code example for PCA\r\n",
        "    X = np.array([[-1, -1],\r\n",
        "                  [-2, -1],\r\n",
        "                  [-3, -2],\r\n",
        "                  [1, 1],\r\n",
        "                  [2, 1],\r\n",
        "                  [3, 2]])\r\n",
        "\r\n",
        "    pca = decomposition.PCA(n_components=2)  # project in 2D space\r\n",
        "    pca.fit(X)\r\n",
        "    Xprojected = pca.transform(X)\r\n",
        "  ```\r\n",
        "\r\n",
        "2. Split the dataset into training and testing subsets (you can split in 80-20 scheme) using [sklearn.model_selection.train_test_split](https://scikit-learn.org/stable/modules/generated/sklearn.model_selection.train_test_split.html)\r\n",
        "3. Write your deep linear network with any approach that is more comfortable for you. Here, we provide an example using the `nn.Module` class of PyTorch.\r\n",
        "\r\n",
        "  ```python\r\n",
        "    # Example\r\n",
        "    class Network(nn.Module):\r\n",
        "\r\n",
        "      def __init__(self, input_dim, hidden_1, hidden_2, output_dim):\r\n",
        "        super(Network, self).__init__()\r\n",
        "\r\n",
        "        self.input_dim = input_dim\r\n",
        "        self.hidden_1 = hidden_1\r\n",
        "        self.output_dim = output_dim\r\n",
        "\r\n",
        "        # A fully-connected network (FCN) with 2 hidden layers\r\n",
        "        self.fc1 = nn.Linear(self.input_dim, self.hidden_1)\r\n",
        "        self.fc2 = nn.Linear(self.hidden_1, self.output_dim)\r\n",
        "\r\n",
        "      def forward(self, x):\r\n",
        "        h1 = self.fc1(x)\r\n",
        "        out = self.fc3(h1)\r\n",
        "\r\n",
        "        return out\r\n",
        "\r\n",
        "  ```\r\n",
        "\r\n",
        "4. Choose the hyperparameters (i.e., number of epochs, learning rate, number of layers and nodes per layer)\r\n",
        "\r\n",
        "  ```python\r\n",
        "    # Here, you have to write your training loop\r\n",
        "\r\n",
        "    def training(inputs, targets, num_epochs, learning_rate):\r\n",
        "\r\n",
        "      # Set up the network\r\n",
        "      mynetwork = Network(...)\r\n",
        "\r\n",
        "      # optimizer and loss function\r\n",
        "      criterion = ...\r\n",
        "      optimizer = ...\r\n",
        "\r\n",
        "      for epoch in range(num_epochs):\r\n",
        "        # Your CODE goes here\r\n",
        "\r\n",
        "      return (loss_training, loss_test, ...)\r\n",
        "    \r\n",
        "  ```\r\n",
        "\r\n",
        "5. Train the model and give the graph with\r\n",
        "  - training and test loss vs. number of epochs\r\n",
        "  ```python\r\n",
        "    plt.figure()\r\n",
        "    plt.plot(..., label='training', 'b')\r\n",
        "    plt.plot(..., label='test', 'r')\r\n",
        "    plt.legend()\r\n",
        "    plt.show()\r\n",
        "  ```\r\n",
        "6. Give a plot with the model's performance (actual vs. predicted targets)\r\n",
        "  ```python\r\n",
        "    plt.figure()\r\n",
        "    plt.plot(..., alpha=0.5)\r\n",
        "    plt.plot(..., label='regression', 'r')  # plot the y=y_hat line\r\n",
        "    plt.legend()\r\n",
        "    plt.show()  \r\n",
        "\r\n",
        "  ```\r\n",
        "7. Train the model again by removing each time one feature. Report what do you observe in terms of performance. You can use NumPy's function [`np.delete()`](https://numpy.org/doc/stable/reference/generated/numpy.delete.html) to remove specific rows/columns from a `ndarray` object.\r\n",
        "  ```python\r\n",
        "    # Here, we have to remove one by one the features from the X dataset\r\n",
        "    # Hint: The network input layer has to be changed ...\r\n",
        "    # retrain and keep the predictions.\r\n",
        "    # Then, plot all regressions in one plot using subplots\r\n",
        "    plt.figure()\r\n",
        "    for i, preds in enumerate(predictions):\r\n",
        "      plt.subplot(2, 3, i + 1)\r\n",
        "      plt.plot(...)  # plot original y vs. y_hat\r\n",
        "      plt.plot(...)  # y=y_hat\r\n",
        "      plt.legend()\r\n",
        "  ```\r\n",
        "\r\n",
        "\r\n",
        "*Hints:*\r\n",
        "- Be sure to use the correct dimensions\r\n",
        "- Put legends and title in all plots\r\n",
        "\r\n",
        "**Note:** Typically, to make unbiased and more accurate predictions, we perform multiple training pieces with different initializations (recall that we initialize parameters sampling from distribution) and different train-test splits. Here we want to run one time for the sake of timing, but feel free to run more times the training loops and plot the average losses!"
      ]
    },
    {
      "cell_type": "code",
      "metadata": {
        "id": "xfWUk2O_MepY",
        "cellView": "form",
        "colab": {
          "base_uri": "https://localhost:8080/"
        },
        "outputId": "2dc9b52c-0e41-432b-a64a-d2f2b64da4c4"
      },
      "source": [
        "#@markdown #Run this cell to download the dataset\n",
        "#@markdown ##Inputs are stored in `X`, and targets in `y`.\n",
        "\n",
        "import pandas as pd\n",
        "import numpy as np\n",
        "\n",
        "url = 'https://archive.ics.uci.edu/ml/machine-learning-databases/00504/qsar_fish_toxicity.csv'\n",
        "\n",
        "headers = ['CIC0', 'SM1_Dz(Z)', 'GATS1i', 'NdsCH', 'NdssC', 'MLogP', 'LC50']\n",
        "\n",
        "df1 = pd.read_csv(url, names = headers, header=None, delimiter=\";\")\n",
        "\n",
        "X = np.array(df1)[:,:-1]\n",
        "y = np.array(df1)[:,-1].reshape(-1,1)\n",
        "\n",
        "print(f'Data: \\n{df1}')\n",
        "\n",
        "print(f'\\ninput shape of X: {X.shape}, ' \n",
        "      f'targets shape of y: {y.shape}')"
      ],
      "execution_count": 4,
      "outputs": [
        {
          "output_type": "stream",
          "text": [
            "Data: \n",
            "      CIC0  SM1_Dz(Z)  GATS1i  NdsCH  NdssC  MLogP   LC50\n",
            "0    3.260      0.829   1.676      0      1  1.453  3.770\n",
            "1    2.189      0.580   0.863      0      0  1.348  3.115\n",
            "2    2.125      0.638   0.831      0      0  1.348  3.531\n",
            "3    3.027      0.331   1.472      1      0  1.807  3.510\n",
            "4    2.094      0.827   0.860      0      0  1.886  5.390\n",
            "..     ...        ...     ...    ...    ...    ...    ...\n",
            "903  2.801      0.728   2.226      0      2  0.736  3.109\n",
            "904  3.652      0.872   0.867      2      3  3.983  4.040\n",
            "905  3.763      0.916   0.878      0      6  2.918  4.818\n",
            "906  2.831      1.393   1.077      0      1  0.906  5.317\n",
            "907  4.057      1.032   1.183      1      3  4.754  8.201\n",
            "\n",
            "[908 rows x 7 columns]\n",
            "\n",
            "input shape of X: (908, 6), targets shape of y: (908, 1)\n"
          ],
          "name": "stdout"
        }
      ]
    },
    {
      "cell_type": "markdown",
      "metadata": {
        "id": "ktven-uHHed1"
      },
      "source": [
        "Insert your code in the cell below or use any IDE (e.g, [PyCharm](https://www.jetbrains.com/pycharm/), [VS-Code](https://code.visualstudio.com/), [Spyder](https://www.spyder-ide.org/), etc.) or editor you prefer."
      ]
    },
    {
      "cell_type": "code",
      "metadata": {
        "id": "854n1yhJU904"
      },
      "source": [
        "# IMPORTS\n",
        "\n",
        "import numpy as np\n",
        "import random, time\n",
        "import matplotlib.pylab as plt\n",
        "import matplotlib as mpl\n",
        "from matplotlib.collections import LineCollection\n",
        "from tqdm.notebook import tqdm, trange\n",
        "\n",
        "from sklearn import model_selection\n",
        "\n",
        "import torch\n",
        "from torch.autograd import Variable\n",
        "import torch.nn as nn\n",
        "import torch.nn.functional as F\n",
        "import torch.optim as optim"
      ],
      "execution_count": 5,
      "outputs": []
    },
    {
      "cell_type": "code",
      "metadata": {
        "id": "tw05SVeOHbWd"
      },
      "source": [
        "# CONSTRUCT NETWORK\n",
        "\n",
        "class linear_network(nn.Module):\n",
        "\n",
        "  def __init__(self, input_dim, hidden_1, hidden_2, output_dim):\n",
        "    super().__init__()\n",
        "\n",
        "    self.input_dim = input_dim\n",
        "    self.hidden_1 = hidden_1\n",
        "    self.hidden_2 = hidden_2\n",
        "    self.output_dim = output_dim\n",
        "\n",
        "    # Fully-connected network with 2 hidden layers\n",
        "    self.fc1 = nn.Linear(self.input_dim, self.hidden_1)\n",
        "    self.fc2 = nn.Linear(hidden_1, hidden_2)\n",
        "    self.fc3 = nn.Linear(hidden_2, output_dim)\n",
        "\n",
        "  def forward(self, x):\n",
        "    h1 = self.fc1(x)\n",
        "    h2 = self.fc2(h1)\n",
        "    out = self.fc3(h2)\n",
        "\n",
        "    return out\n",
        "\n",
        "# TRAINING LOOP\n",
        "\n",
        "def train(X_train, X_test, y_train, y_test, num_epochs, learning_rate):\n",
        "\n",
        "  # converting inputs and labels to Variable\n",
        "  if torch.cuda.is_available():\n",
        "    X_train = Variable(torch.from_numpy(X_train).float().cuda())\n",
        "    y_train = Variable(torch.from_numpy(y_train).float().cuda())\n",
        "    X_test = Variable(torch.from_numpy(X_test).float().cuda())\n",
        "    y_test = Variable(torch.from_numpy(y_test).float().cuda())\n",
        "  else:\n",
        "    X_train = Variable(torch.from_numpy(X_train).float())\n",
        "    y_train = Variable(torch.from_numpy(y_train).float())\n",
        "    X_test = Variable(torch.from_numpy(X_test).float())\n",
        "    y_test = Variable(torch.from_numpy(y_test).float())\n",
        "\n",
        "  input_dim = X_train.shape[1]\n",
        "  hidden_1 = 10\n",
        "  hidden_2 = 10\n",
        "  output_dim = y_train.shape[1]\n",
        "\n",
        "  model = linear_network(input_dim, hidden_1, hidden_2, output_dim)\n",
        "\n",
        "  # run on GPU\n",
        "  model.train(True)\n",
        "  model.to(device)\n",
        "\n",
        "  criterion = nn.MSELoss() # loss function\n",
        "  optimizer = torch.optim.SGD(model.parameters(), lr = learning_rate) # optimizer\n",
        "\n",
        "  loss_train = []\n",
        "  loss_test = []\n",
        "\n",
        "  epoch_range = trange(num_epochs, desc = 'loss: ', leave = True)\n",
        "  for epoch in epoch_range:\n",
        "    if loss_train:\n",
        "      epoch_range.set_description(\"loss: {:.6f}\".format(loss_train[-1]))\n",
        "      epoch_range.refresh() # to show immediately the update\n",
        "    time.sleep(0.01)\n",
        "\n",
        "    optimizer.zero_grad() # reset gradients to zero for each epoch\n",
        "\n",
        "    train_prediction = model(X_train) # compute predictions\n",
        "    loss = criterion(train_prediction, y_train) # compute loss\n",
        "    loss.backward() # get gradients w.r.t to parameters\n",
        "\n",
        "    optimizer.step() # update parameters  \n",
        "    \n",
        "    loss_train.append(loss.item())\n",
        "\n",
        "    test_prediction = model(X_test)\n",
        "    loss_test.append(criterion(test_prediction, y_test))\n",
        "\n",
        "  return (test_prediction, y_test, loss_train, loss_test)"
      ],
      "execution_count": 6,
      "outputs": []
    },
    {
      "cell_type": "code",
      "metadata": {
        "colab": {
          "base_uri": "https://localhost:8080/",
          "height": 609,
          "referenced_widgets": [
            "e1521f215d0b49d99e7eae1965e2fb02",
            "b2ebaac0d0924358b36d72512dcd8b6c",
            "6f941f396fb8478e90bc1a890789c7f7",
            "d0dd975825e244f9b2c2140089255837",
            "6099b268f38a42d0872a05eb89779df3",
            "38a4003c31144c02ac029982b71f5490",
            "8fd785097b4c4ba7a82f5b2557def41c",
            "823fc6ea53604da38fae1b1c0ecfb499"
          ]
        },
        "id": "k_9vz1lvRSlF",
        "outputId": "ae0ec45c-160d-4dcd-d4fd-b9d181926420"
      },
      "source": [
        "device = torch.device('cuda' if torch.cuda.is_available() else 'cpu')\n",
        "\n",
        "# SET HYPERPARAMETERS\n",
        "num_epochs = 100\n",
        "learning_rate = 0.02\n",
        "\n",
        "# SPLIT INTO TRAIN AND TEST\n",
        "X_train, X_test, y_train, y_test = \\\n",
        "model_selection.train_test_split(X, y, test_size = 0.2)\n",
        "\n",
        "outputs = train(X_train, X_test, y_train, y_test, \\\n",
        "                num_epochs, learning_rate)\n",
        "\n",
        "test_prediction = outputs[0].detach().cpu().numpy()\n",
        "y_test = outputs[1].detach().cpu().numpy()\n",
        "loss_train = outputs[2]\n",
        "loss_test = outputs[3]\n",
        "\n",
        "plt.figure()             \n",
        "plt.plot(range(num_epochs), loss_train, 'b', label = 'Training Loss')\n",
        "plt.plot(range(num_epochs), loss_test, 'r', label = 'Testing Loss')\n",
        "plt.title('Losses')\n",
        "plt.xlabel('Epochs')\n",
        "plt.ylabel('Loss')\n",
        "plt.legend()\n",
        "plt.show()\n",
        "\n",
        "\n",
        "plt.figure()\n",
        "plt.scatter(y_test, test_prediction, alpha = 0.5)\n",
        "plt.plot(y_test, y_test, 'r', label = 'Regression') \n",
        "plt.xlabel('Actual')\n",
        "plt.ylabel('Predicted') \n",
        "plt.legend()\n",
        "plt.show()  "
      ],
      "execution_count": 7,
      "outputs": [
        {
          "output_type": "display_data",
          "data": {
            "application/vnd.jupyter.widget-view+json": {
              "model_id": "e1521f215d0b49d99e7eae1965e2fb02",
              "version_minor": 0,
              "version_major": 2
            },
            "text/plain": [
              "HBox(children=(FloatProgress(value=0.0, description='loss: ', style=ProgressStyle(description_width='initial')…"
            ]
          },
          "metadata": {
            "tags": []
          }
        },
        {
          "output_type": "stream",
          "text": [
            "\n"
          ],
          "name": "stdout"
        },
        {
          "output_type": "display_data",
          "data": {
            "image/png": "[encoded data removed]",
            "text/plain": [
              "<Figure size 432x288 with 1 Axes>"
            ]
          },
          "metadata": {
            "tags": [],
            "needs_background": "light"
          }
        },
        {
          "output_type": "display_data",
          "data": {
            "image/png": "[encoded data removed]",
            "text/plain": [
              "<Figure size 432x288 with 1 Axes>"
            ]
          },
          "metadata": {
            "tags": [],
            "needs_background": "light"
          }
        }
      ]
    },
    {
      "cell_type": "code",
      "metadata": {
        "colab": {
          "base_uri": "https://localhost:8080/",
          "height": 311,
          "referenced_widgets": [
            "fa458e9f32e94055bf999f3fb657e4c2",
            "04e6acf1089249a0ba164b476c495114",
            "4af40ca5b43849a2b54abacb4842aa6f",
            "1d003fa3749940b0a1f90d282f803196",
            "e477150abe4445dd927ea36aa4be72d1",
            "09a029611f6f40cea10ff22a584eb8a7",
            "33672cc44f534854b08c903ea938cc1d",
            "a1b074dd75734f4a95cda4b4d2e380ee",
            "c39e42e020d64c2f88d26ff6aa5abc44",
            "19301c50d7c543d5b78f35e655ee43b6",
            "8adcfb2f54b64ed2a9daa0ced254031b",
            "cb4d17932bc2403d91bf896c35acd6f7",
            "789114e3ad174dd686b817ff04fea767",
            "39e27a72e7a44a73b5b68e38ff61a7d7",
            "a6ac4fa116604d0bb22d5a972a90955f",
            "635e52be2b3d497692a5116679b96a31",
            "d6133a009e26422e9612ca738ac48874",
            "db04464d63704518b5ec746fd4fd8488",
            "27368b4835c1438baec75e8b6dfdcc37",
            "806837db791346259188ebbff759137f",
            "041fa25203494bcdb8d23a58ac2af3b6",
            "166aa36954fc45bebb05b426fd56ec34",
            "c0f3bfcb809e40a1b03dea4262f27d84",
            "fd734bd3c3294cc893cef32b399a5681",
            "677c7537c3a94d069f3a74153e1deba7",
            "5121dbc39bec4482b95965d742f73585",
            "b5f6c869735d407b97840be3e7c27499",
            "9a876dd997c14865977e7509e1e8e4a2",
            "a3588d2c340742b2a8908e6aebfcfe34",
            "314d0e2b79a342da8fc720d07772ab94",
            "447def4a37db4cdcb62e72fc39f0d2b5",
            "b813ed0a7a1f46f7b27cf370cf0c1e0e",
            "015cf17a48ea49e08da63e4da50adb4e",
            "bd70dd3fbf654bac856e354d7956c44f",
            "05ab40438c534fd899a9f79575f2e601",
            "fe05db9ffee248cfbfd968e348c34ac5",
            "31de4709c2924fda8a126ab7b0466400",
            "e5e0fc9ea6d34cf59a32b9c9c4af0935",
            "b9d8588acfa945b794180b2eb3659d65",
            "7d0940511b0949ce945aa0ff9a5d911b",
            "4be4b6bb70864203b4f60d9d58144860",
            "493fe441513b48bcb0b414a5fb67e4b1",
            "f34c34995d1e4d479a7532bc48c944cc",
            "2b91db48397044a2a2952b2688587e3c",
            "33393821aba8431aa5545b41c7298baf",
            "696bbe2a53cc482eaa0f41720ce6e3ee",
            "f2080a1c30834458affe3c0f36cc56ed",
            "6b82a3de3e80466bbaaa06e9b1ae45c3"
          ]
        },
        "id": "v9PNNIx0SWan",
        "outputId": "897122cd-1cc3-45e5-8c67-fa1550930437"
      },
      "source": [
        "predictions = []\n",
        "final_losses = []\n",
        "\n",
        "for i in range(X_train.shape[1]):\n",
        "  X_train_mod = np.delete(X_train, i, 1)\n",
        "  X_test_mod = np.delete(X_test, i, 1)\n",
        "  outputs = train(X_train_mod, X_test_mod, y_train, y_test, \\\n",
        "                  num_epochs, learning_rate)\n",
        "  predictions.append(outputs[0].detach().cpu().numpy())\n",
        "  final_losses.append(outputs[3][-1])"
      ],
      "execution_count": 8,
      "outputs": [
        {
          "output_type": "display_data",
          "data": {
            "application/vnd.jupyter.widget-view+json": {
              "model_id": "fa458e9f32e94055bf999f3fb657e4c2",
              "version_minor": 0,
              "version_major": 2
            },
            "text/plain": [
              "HBox(children=(FloatProgress(value=0.0, description='loss: ', style=ProgressStyle(description_width='initial')…"
            ]
          },
          "metadata": {
            "tags": []
          }
        },
        {
          "output_type": "stream",
          "text": [
            "\n"
          ],
          "name": "stdout"
        },
        {
          "output_type": "display_data",
          "data": {
            "application/vnd.jupyter.widget-view+json": {
              "model_id": "c39e42e020d64c2f88d26ff6aa5abc44",
              "version_minor": 0,
              "version_major": 2
            },
            "text/plain": [
              "HBox(children=(FloatProgress(value=0.0, description='loss: ', style=ProgressStyle(description_width='initial')…"
            ]
          },
          "metadata": {
            "tags": []
          }
        },
        {
          "output_type": "stream",
          "text": [
            "\n"
          ],
          "name": "stdout"
        },
        {
          "output_type": "display_data",
          "data": {
            "application/vnd.jupyter.widget-view+json": {
              "model_id": "d6133a009e26422e9612ca738ac48874",
              "version_minor": 0,
              "version_major": 2
            },
            "text/plain": [
              "HBox(children=(FloatProgress(value=0.0, description='loss: ', style=ProgressStyle(description_width='initial')…"
            ]
          },
          "metadata": {
            "tags": []
          }
        },
        {
          "output_type": "stream",
          "text": [
            "\n"
          ],
          "name": "stdout"
        },
        {
          "output_type": "display_data",
          "data": {
            "application/vnd.jupyter.widget-view+json": {
              "model_id": "677c7537c3a94d069f3a74153e1deba7",
              "version_minor": 0,
              "version_major": 2
            },
            "text/plain": [
              "HBox(children=(FloatProgress(value=0.0, description='loss: ', style=ProgressStyle(description_width='initial')…"
            ]
          },
          "metadata": {
            "tags": []
          }
        },
        {
          "output_type": "stream",
          "text": [
            "\n"
          ],
          "name": "stdout"
        },
        {
          "output_type": "display_data",
          "data": {
            "application/vnd.jupyter.widget-view+json": {
              "model_id": "015cf17a48ea49e08da63e4da50adb4e",
              "version_minor": 0,
              "version_major": 2
            },
            "text/plain": [
              "HBox(children=(FloatProgress(value=0.0, description='loss: ', style=ProgressStyle(description_width='initial')…"
            ]
          },
          "metadata": {
            "tags": []
          }
        },
        {
          "output_type": "stream",
          "text": [
            "\n"
          ],
          "name": "stdout"
        },
        {
          "output_type": "display_data",
          "data": {
            "application/vnd.jupyter.widget-view+json": {
              "model_id": "4be4b6bb70864203b4f60d9d58144860",
              "version_minor": 0,
              "version_major": 2
            },
            "text/plain": [
              "HBox(children=(FloatProgress(value=0.0, description='loss: ', style=ProgressStyle(description_width='initial')…"
            ]
          },
          "metadata": {
            "tags": []
          }
        },
        {
          "output_type": "stream",
          "text": [
            "\n"
          ],
          "name": "stdout"
        }
      ]
    },
    {
      "cell_type": "code",
      "metadata": {
        "colab": {
          "base_uri": "https://localhost:8080/",
          "height": 857
        },
        "id": "-zXH7Xikdg05",
        "outputId": "42102c58-7e9c-4a5e-e571-f480e2124757"
      },
      "source": [
        "fig = plt.figure(figsize = (14, 10), dpi = 100, facecolor = 'w', edgecolor = 'k')\n",
        "for i, preds in enumerate(predictions):\n",
        "  plt.subplot(2, 3, i + 1)\n",
        "  plt.scatter(y_test, preds, alpha = 0.5)\n",
        "  plt.plot(y_test, y_test, 'r') \n",
        "  plt.xlabel('Actual')\n",
        "  plt.ylabel('Predicted') \n",
        "  plt.title('Feature %d Removed' % i)"
      ],
      "execution_count": 9,
      "outputs": [
        {
          "output_type": "display_data",
          "data": {
            "image/png": "[encoded data removed]",
            "text/plain": [
              "<Figure size 1400x1000 with 6 Axes>"
            ]
          },
          "metadata": {
            "tags": []
          }
        }
      ]
    },
    {
      "cell_type": "code",
      "metadata": {
        "colab": {
          "base_uri": "https://localhost:8080/"
        },
        "id": "z0HKczwahvnr",
        "outputId": "af2bdf37-418c-42fe-ad6e-b0dd3ac23511"
      },
      "source": [
        "loss_test[-1]"
      ],
      "execution_count": 10,
      "outputs": [
        {
          "output_type": "execute_result",
          "data": {
            "text/plain": [
              "tensor(1.0879, device='cuda:0', grad_fn=<MseLossBackward>)"
            ]
          },
          "metadata": {
            "tags": []
          },
          "execution_count": 10
        }
      ]
    },
    {
      "cell_type": "code",
      "metadata": {
        "colab": {
          "base_uri": "https://localhost:8080/"
        },
        "id": "D3vEcuUhhgIz",
        "outputId": "cbd08f30-6111-4192-c639-77c6995197d6"
      },
      "source": [
        "final_losses"
      ],
      "execution_count": 11,
      "outputs": [
        {
          "output_type": "execute_result",
          "data": {
            "text/plain": [
              "[tensor(1.1390, device='cuda:0', grad_fn=<MseLossBackward>),\n",
              " tensor(1.3166, device='cuda:0', grad_fn=<MseLossBackward>),\n",
              " tensor(1.1309, device='cuda:0', grad_fn=<MseLossBackward>),\n",
              " tensor(1.1630, device='cuda:0', grad_fn=<MseLossBackward>),\n",
              " tensor(1.1376, device='cuda:0', grad_fn=<MseLossBackward>),\n",
              " tensor(1.4984, device='cuda:0', grad_fn=<MseLossBackward>)]"
            ]
          },
          "metadata": {
            "tags": []
          },
          "execution_count": 11
        }
      ]
    },
    {
      "cell_type": "code",
      "metadata": {
        "cellView": "form",
        "id": "khy9nAjzKl1h"
      },
      "source": [
        "#@markdown **Student response**: Which is the most/less important feature of this dataset?\n",
        "dataset_features = \"Based on a comparison between the final test loss values for when individual features are removed and the complete data set, all features are important to the model's performance. The greatest increase in final loss comes when feature 6 is removed, which suggests that it is the most important. The smallest increase comes when feature 3 is removed implying that is relatively less important. However, ideally, we would run the model multiple times with features removed and take the mean of the losses to make a statistically relevant comparison.\" #@param {type:\"string\"}\n"
      ],
      "execution_count": 12,
      "outputs": []
    },
    {
      "cell_type": "markdown",
      "metadata": {
        "id": "kPyknvoP2y6T"
      },
      "source": [
        "# Submission\n",
        "Double check that the answers have been correctly formatted in the Airtable below, and edit them as desired. **In addition to submitting the form, contribute and reflect on these readings in the student Slack space.**"
      ]
    },
    {
      "cell_type": "markdown",
      "metadata": {
        "id": "X1avaLZ7Ltcs"
      },
      "source": [
        "Feel free to use the embeded form below or use this link:\n",
        "<a target=\"_blank\" rel=\"noopener noreferrer\" href=\"https://airtable.com/shrV231jtyUrwkvuZ\">https://airtable.com/shrV231jtyUrwkvuZ</a>"
      ]
    },
    {
      "cell_type": "code",
      "metadata": {
        "id": "anCjE03r3cJ6",
        "cellView": "form",
        "colab": {
          "base_uri": "https://localhost:8080/",
          "height": 421
        },
        "outputId": "c2a7f06a-02f7-49b0-93db-2c5653f947db"
      },
      "source": [
        "#@markdown #Run Cell to Show Airtable Form\n",
        "#@markdown ##**Confirm your answers and then click \"Submit\"**\n",
        "import numpy as np\n",
        "import time\n",
        "from IPython.display import IFrame\n",
        "def prefill_form(src, fields: dict):\n",
        "  '''\n",
        "  src: the original src url to embed the form\n",
        "  fields: a dictionary of field:value pairs,\n",
        "  e.g. {\"pennkey\": my_pennkey, \"location\": my_location}\n",
        "  '''\n",
        "  prefills = \"&\".join([\"prefill_%s=%s\"%(key, fields[key]) for key in fields])\n",
        "  src = src + prefills\n",
        "  src = \"+\".join(src.split(\" \"))\n",
        "  return src\n",
        "\n",
        "#autofill fields if they are not present\n",
        "#a missing pennkey and pod will result in an Airtable warning\n",
        "#which is easily fixed user-side.\n",
        "try: my_pennkey;\n",
        "except NameError: my_pennkey = \"\"\n",
        "try: my_pod;\n",
        "except NameError: my_pod = \"Select\"\n",
        "try: general_thoughts;\n",
        "except NameError: general_thoughts = \"\"\n",
        "try: dataset_features;\n",
        "except NameError: dataset_features = \"\"\n",
        "\n",
        "times = 0\n",
        "\n",
        "fields = {\"pennkey\": my_pennkey,\n",
        "          \"pod\": my_pod,\n",
        "          \"thoughts_on_paper\":general_thoughts,\n",
        "          \"reflection_1\":dataset_features,\n",
        "          \"cumulative_times\": times}\n",
        "\n",
        "src = \"https://airtable.com/embed/shrV231jtyUrwkvuZ?\"\n",
        "\n",
        "#now instead of the original source url, we do: src = prefill_form(src, fields)\n",
        "display(IFrame(src = prefill_form(src, fields), width = 800, height = 400))"
      ],
      "execution_count": 13,
      "outputs": [
        {
          "output_type": "display_data",
          "data": {
            "text/html": [
              "\n",
              "        <iframe\n",
              "            width=\"800\"\n",
              "            height=\"400\"\n",
              "            src=\"https://airtable.com/embed/shrV231jtyUrwkvuZ?prefill_pennkey=spatank&prefill_pod=sublime-newt&prefill_thoughts_on_paper=&prefill_reflection_1=Based+on+a+comparison+between+the+final+test+loss+values+for+when+individual+features+are+removed+and+the+complete+data+set,+all+features+are+important+to+the+model's+performance.+The+greatest+increase+in+final+loss+comes+when+feature+6+is+removed,+which+suggests+that+it+is+the+most+important.+The+smallest+increase+comes+when+feature+3+is+removed+implying+that+is+relatively+less+important.+However,+ideally,+we+would+run+the+model+multiple+times+with+features+removed+and+take+the+mean+of+the+losses+to+make+a+statistically+relevant+comparison.&prefill_cumulative_times=0\"\n",
              "            frameborder=\"0\"\n",
              "            allowfullscreen\n",
              "        ></iframe>\n",
              "        "
            ],
            "text/plain": [
              "<IPython.lib.display.IFrame at 0x7fe3dea161d0>"
            ]
          },
          "metadata": {
            "tags": []
          }
        }
      ]
    }
  ]
}