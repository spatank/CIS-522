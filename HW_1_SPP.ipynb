{
  "nbformat": 4,
  "nbformat_minor": 0,
  "metadata": {
    "colab": {
      "name": "HW_1_SPP",
      "provenance": [],
      "include_colab_link": true
    },
    "kernelspec": {
      "name": "python3",
      "display_name": "Python 3"
    }
  },
  "cells": [
    {
      "cell_type": "markdown",
      "metadata": {
        "id": "view-in-github",
        "colab_type": "text"
      },
      "source": [
        "<a href=\"https://colab.research.google.com/github/spatank/CIS-522/blob/main/HW_1_SPP.ipynb\" target=\"_parent\"><img src=\"https://colab.research.google.com/assets/colab-badge.svg\" alt=\"Open In Colab\"/></a>"
      ]
    },
    {
      "cell_type": "markdown",
      "metadata": {
        "id": "hwKKo5_FzsXP"
      },
      "source": [
        "# CIS-522 Week 1 Homework\n",
        "\n",
        "\n",
        "**Instructor:** Konrad Kording\n",
        "\n",
        "**Content Creators:** Ari Benjamin, Jordan Lei"
      ]
    },
    {
      "cell_type": "code",
      "metadata": {
        "cellView": "form",
        "id": "8kdBhPZj3mPh"
      },
      "source": [
        "#@markdown What is your Pennkey and pod? (text, not numbers, e.g. bfranklin)\n",
        "my_pennkey = 'spatank' #@param {type:\"string\"}\n",
        "my_pod = 'sublime-newt' #@param ['Select', 'euclidean-wombat', 'sublime-newt', 'buoyant-unicorn', 'lackadaisical-manatee','indelible-stingray','superfluous-lyrebird','discreet-reindeer','quizzical-goldfish','ubiquitous-cheetah','nonchalant-crocodile','fashionable-lemur','spiffy-eagle','electric-emu','quotidian-lion','astute-jellyfish', 'quantum-herring']\n",
        "\n",
        "# start timing\n",
        "import time\n",
        "try:t0;\n",
        "except NameError: t0 = time.time()\n"
      ],
      "execution_count": 1,
      "outputs": []
    },
    {
      "cell_type": "markdown",
      "metadata": {
        "id": "N7s6B1jx0djA"
      },
      "source": [
        "## Part 1. Deep Learning: Changing the Game\n",
        "We just saw how a simplified version of Alphazero could effectively learn how to play Othello. In the past few years, Deep Learning agents have outperformed humans in games ranging from Atari to Go. In this module, we take a look into some of the societal implications of this technology. \n",
        "\n",
        "Wait, wait! Before you roll your eyes, let’s be clear - the goal of this module is not to convince you that Deep Learning is the best thing since sliced bread, nor is it meant to stoke fears about the robot overlords taking over. Instead, our goal in this module, and the goal of this course, is to take a nuanced view into how we can build algorithms that can improve the world around us, while also recognizing the shortcomings and pitfalls of these artificial agents. \n",
        "\n",
        "Let’s start out by taking a look at how strategic agents like AlphaGo and AlphaZero have transformed game-playing communities. I’m guessing you have a few thoughts about this already. Why don’t you jot them down? "
      ]
    },
    {
      "cell_type": "code",
      "metadata": {
        "id": "WLV3TQOdzWBM"
      },
      "source": [
        "#@title What are your General Thoughts? { display-mode: \"form\" }\n",
        "\n",
        "general_thoughts = \"Having watched The Queen's Gambit recently, like many others I've taken to learning more about chess. I do this on chess.com where beginners can take lessons, practice tactics, watch videos featuring experts, as well as, play a very vibrant community of chess players worldwide. The most interesting feature of the site, however, is the ability to play artificially intelligent agents at various skill levels. One of the agents is even named Beth Harmon.  Many top rated players like Magnus Carlsen routinely practice against the best chess AIs to improve their skills. While such game-playing agents have indeed transformed their communities, I am not sure to what extent the technological advances that make them work have trickled down into consumer products. It would be fascinating to examine if and how AlphaGo's (or Deep Blue's) technology has led to deployable solutions to real-world problems.\" #@param {type:\"string\"}\n",
        "try:t1;\n",
        "except NameError: t1 = time.time()"
      ],
      "execution_count": 2,
      "outputs": []
    },
    {
      "cell_type": "markdown",
      "metadata": {
        "id": "oDjCjSsS02dD"
      },
      "source": [
        "### Ready, Set, Go\n",
        "Great! Now, read the following article to familiarize yourself with the famous match between Lee Sedol and AlphaGo. Play close attention to the descriptions of Move 37 and Move 78. \n",
        "\n",
        "https://www.wired.com/2016/03/two-moves-alphago-lee-sedol-redefined-future/\n",
        "\n",
        "And now read the following article on how the Sedol-AlphaGo match has influenced the Go gameplay community:\n",
        "\n",
        "https://www.newyorker.com/tech/annals-of-technology/in-the-age-of-google-deepmind-do-the-young-go-prodigies-of-asia-have-a-future\n",
        "\n",
        "**Now, give a brief reflection [200-300 words] on the following questions:** \n",
        "* Was there anything in the New Yorker article that surprised you, or was the outcome exactly as expected?\n",
        "* Given that algorithms like AlphaGo and AlphaZero can easily outperform humans, what is the role of masters in this game? Should we redefine what it means to play well, and if so, how?\n",
        "* The New Yorker article mentioned the potential for algorithms to teach new students. Can you think of some ways this will impact younger students in the gameplaying industry? Try to think of both benefits and drawbacks of this new technology. \n",
        "\n",
        "\n",
        "\n",
        "\n",
        "\n"
      ]
    },
    {
      "cell_type": "code",
      "metadata": {
        "cellView": "form",
        "id": "NKzn8-f31OgY"
      },
      "source": [
        "#@title Your Response Here\n",
        "\n",
        "reflection_1 = \"I am not surprised by the article's conclusion that Go has a promising future thanks in part to programs like AlphaGo. The match between Lee Sedol and AlphaGo brought massive publicity to the game, which translated into more people wanting to participate. For instance, after the match there was a shortage of Go boards worldwide. Additionally, as the article points out with the dolphin and Michael Phelps example, there will always be interest in how humans fare against each other regardless of how good AI gets. On a more technical game-playing level, AlphaGo will in all likelihood bring out the best from Go masters. For every move 37 that AlphaGo digs out, masters like Lee Sedol will be forced to find a move 78. This will ensure that game-playing agents will be used by masters in their preparation before tournaments like Fan Hui did before the European Championships. I also ended up watching the movie by DeepMind.  One aspect from AlphaGo's game-play that was immediately evident to experts was that as long as a player is winning, they need not care by how many points they win. As people study AlphaGo, chances are that they may start adopting more of its tactics in their own styles of play. Using AI to teach new students how to play Go makes me a little uncomfortable. As a child, I would play the chess engine on my computer and always end up losing. This put me off from the game for a long time. I believe that agents like AlphaGo would have to learn to adapt to their opponent's skill levels if they are to be effective teaching tools. Additionally, they would have to be paired with an explicitly non-competitive teaching-oriented agent that points out why the game is being played the way it is by the computer.\" #@param {type:\"string\"}\n",
        "try:t2;\n",
        "except NameError: t2 = time.time()"
      ],
      "execution_count": 3,
      "outputs": []
    },
    {
      "cell_type": "markdown",
      "metadata": {
        "id": "qPX9amdE1iao"
      },
      "source": [
        "### The Perfect Match?\n",
        "That was kind of a bummer, huh? Based on what we’ve seen so far, it would be easy to feel like Deep Learning can only harm the game-playing community, by turning games that were once interesting obsolete. Not so fast! Is it possible that Deep Learning might actually help, rather than hurt gameplay? Let’s take a look at the following articles: \n",
        "\n",
        "https://www.wired.com/story/ai-ruined-chess-now-making-game-beautiful/\n",
        "\n",
        "https://time.com/5779217/artificial-intelligence-video-games/\n",
        "\n",
        "**Now, give a brief reflection [200-300 words] on the following questions:** \n",
        "*   Was there anything in these articles that surprised you? Or was this all expected? \n",
        "*   If you were a data scientist leveraging Deep Learning to design new video games, what kind of ethical considerations would you leave to the agents, and which would you explicitly prescribe? How can this creativity be harnessed for good? \n",
        "*   An increasingly relevant concern is the possibility of artificial agents taking human jobs. In the context of game-play communities, how might we think about redesigning or redefining the role of humans in the industry? What kinds of training or expertise will these new roles require, and what might be an effective way to manage this transition?\n"
      ]
    },
    {
      "cell_type": "code",
      "metadata": {
        "cellView": "form",
        "id": "exOEGXMD1hwQ"
      },
      "source": [
        "#@title Your Response Here\n",
        "\n",
        "reflection_2 = \"I am pretty surprised and excited by AlphaZero being used as a tool to condense decades of exploration of new chess variants into a really short period of time. This application of game-playing AI agents was not immediately obvious to me before I read the Wired article. What I particularly like about this approach is that the ultimate goal at all times is to improve the game of chess for humans. AI lends a helping hand in this process, contrary to its typical portrayal as a direct challenger to humans. The fact that DeepMind can do this with AlphaZero is also very neat since it shows how generalizable the agent is. As a designer using deep learning to create new games, I don't think I'd leave any ethical judgements to the agents. I would let them generate a game, and then run it by ethics experts after the fact. Any judgements left to the agents are in all likelihood going to be a reflection of the data that they are trained on. Human designers will have an important role to play in ensuring that this data is as free as possible from biases. Additionally, as always they will need to ensure that the games are enjoyable, and competitive when required. I don't think that the jobs of game developers are going to change massively. Deep learning agents are only as creative as the randomness that is built into them. Their outputs are still very much a reflection of human-designed games that already exist. For a new game to be truly creative and revolutionary, I'd argue that it still needs to be designed by humans. In this effort, deep learning based agents may be incredibly useful, however. If a game developer can leverage an agent to write code on their behalf, and focus only on the big-picture of what they want to accomplish, then that partnership is likely to be highly productive.\" #@param {type:\"string\"}\n",
        "try:t3;\n",
        "except NameError: t3 = time.time()"
      ],
      "execution_count": 4,
      "outputs": []
    },
    {
      "cell_type": "markdown",
      "metadata": {
        "id": "kPyknvoP2y6T"
      },
      "source": [
        "### Submission\n",
        "Double check that the answers have been correctly formatted in the Airtable below, and edit them as desired. **In addition to submitting the form, contribute and reflect on these readings in the student Slack space.**"
      ]
    },
    {
      "cell_type": "code",
      "metadata": {
        "colab": {
          "base_uri": "https://localhost:8080/",
          "height": 421
        },
        "id": "anCjE03r3cJ6",
        "outputId": "1a15a067-c0be-4a23-e253-9d8697d1e7d7"
      },
      "source": [
        "#@markdown #Run Cell to Show Airtable Form\n",
        "#@markdown ##**Confirm your answers and then click \"Submit\"**\n",
        "import numpy as np\n",
        "import time\n",
        "from IPython.display import IFrame\n",
        "def prefill_form(src, fields: dict):\n",
        "  '''\n",
        "  src: the original src url to embed the form\n",
        "  fields: a dictionary of field:value pairs,\n",
        "  e.g. {\"pennkey\": my_pennkey, \"location\": my_location}\n",
        "  '''\n",
        "  prefills = \"&\".join([\"prefill_%s=%s\"%(key, fields[key]) for key in fields])\n",
        "  src = src + prefills\n",
        "  src = \"+\".join(src.split(\" \"))\n",
        "  return src\n",
        "\n",
        "#autofill time if it is not present\n",
        "try: t0;\n",
        "except NameError: t0 = time.time()\n",
        "try: t1;\n",
        "except NameError: t1 = time.time()\n",
        "try: t2;\n",
        "except NameError: t2 = time.time()\n",
        "try: t3;\n",
        "except NameError: t3 = time.time()\n",
        "\n",
        "#autofill fields if they are not present\n",
        "#a missing pennkey and pod will result in an Airtable warning\n",
        "#which is easily fixed user-side.\n",
        "try: my_pennkey;\n",
        "except NameError: my_pennkey = \"\"\n",
        "try: my_pod;\n",
        "except NameError: my_pod = \"Select\"\n",
        "try: general_thoughts;\n",
        "except NameError: general_thoughts = \"\"\n",
        "try: reflection_1;\n",
        "except NameError: reflection_1 = \"\"\n",
        "try: reflection_2;\n",
        "except NameError: reflection_2 = \"\"\n",
        "\n",
        "\n",
        "times = np.array([t1,t2,t3])-t0\n",
        "\n",
        "fields = {\"pennkey\": my_pennkey,\n",
        "          \"pod\": my_pod,\n",
        "          \"general_thoughts\":general_thoughts,\n",
        "          \"reflection_1\":reflection_1,\n",
        "          \"reflection_2\":reflection_2,\n",
        "          \"cumulative_times\": times}\n",
        "\n",
        "src = \"https://airtable.com/embed/shriUAJ2KuNJpXVkj?\"\n",
        "\n",
        "#now instead of the original source url, we do: src = prefill_form(src, fields)\n",
        "display(IFrame(src = prefill_form(src, fields), width = 800, height = 400))"
      ],
      "execution_count": 5,
      "outputs": [
        {
          "output_type": "display_data",
          "data": {
            "text/html": [
              "\n",
              "        <iframe\n",
              "            width=\"800\"\n",
              "            height=\"400\"\n",
              "            src=\"https://airtable.com/embed/shriUAJ2KuNJpXVkj?prefill_pennkey=spatank&prefill_pod=sublime-newt&prefill_general_thoughts=Having+watched+The+Queen's+Gambit+recently,+like+many+others+I've+taken+to+learning+more+about+chess.+I+do+this+on+chess.com+where+beginners+can+take+lessons,+practice+tactics,+watch+videos+featuring+experts,+as+well+as,+play+a+very+vibrant+community+of+chess+players+worldwide.+The+most+interesting+feature+of+the+site,+however,+is+the+ability+to+play+artificially+intelligent+agents+at+various+skill+levels.+One+of+the+agents+is+even+named+Beth+Harmon.++Many+top+rated+players+like+Magnus+Carlsen+routinely+practice+against+the+best+chess+AIs+to+improve+their+skills.+While+such+game-playing+agents+have+indeed+transformed+their+communities,+I+am+not+sure+to+what+extent+the+technological+advances+that+make+them+work+have+trickled+down+into+consumer+products.+It+would+be+fascinating+to+examine+if+and+how+AlphaGo's+(or+Deep+Blue's)+technology+has+led+to+deployable+solutions+to+real-world+problems.&prefill_reflection_1=I+am+not+surprised+by+the+article's+conclusion+that+Go+has+a+promising+future+thanks+in+part+to+programs+like+AlphaGo.+The+match+between+Lee+Sedol+and+AlphaGo+brought+massive+publicity+to+the+game,+which+translated+into+more+people+wanting+to+participate.+For+instance,+after+the+match+there+was+a+shortage+of+Go+boards+worldwide.+Additionally,+as+the+article+points+out+with+the+dolphin+and+Michael+Phelps+example,+there+will+always+be+interest+in+how+humans+fare+against+each+other+regardless+of+how+good+AI+gets.+On+a+more+technical+game-playing+level,+AlphaGo+will+in+all+likelihood+bring+out+the+best+from+Go+masters.+For+every+move+37+that+AlphaGo+digs+out,+masters+like+Lee+Sedol+will+be+forced+to+find+a+move+78.+This+will+ensure+that+game-playing+agents+will+be+used+by+masters+in+their+preparation+before+tournaments+like+Fan+Hui+did+before+the+European+Championships.+I+also+ended+up+watching+the+movie+by+DeepMind.++One+aspect+from+AlphaGo's+game-play+that+was+immediately+evident+to+experts+was+that+as+long+as+a+player+is+winning,+they+need+not+care+by+how+many+points+they+win.+As+people+study+AlphaGo,+chances+are+that+they+may+start+adopting+more+of+its+tactics+in+their+own+styles+of+play.+Using+AI+to+teach+new+students+how+to+play+Go+makes+me+a+little+uncomfortable.+As+a+child,+I+would+play+the+chess+engine+on+my+computer+and+always+end+up+losing.+This+put+me+off+from+the+game+for+a+long+time.+I+believe+that+agents+like+AlphaGo+would+have+to+learn+to+adapt+to+their+opponent's+skill+levels+if+they+are+to+be+effective+teaching+tools.+Additionally,+they+would+have+to+be+paired+with+an+explicitly+non-competitive+teaching-oriented+agent+that+points+out+why+the+game+is+being+played+the+way+it+is+by+the+computer.&prefill_reflection_2=I+am+pretty+surprised+and+excited+by+AlphaZero+being+used+as+a+tool+to+condense+decades+of+exploration+of+new+chess+variants+into+a+really+short+period+of+time.+This+application+of+game-playing+AI+agents+was+not+immediately+obvious+to+me+before+I+read+the+Wired+article.+What+I+particularly+like+about+this+approach+is+that+the+ultimate+goal+at+all+times+is+to+improve+the+game+of+chess+for+humans.+AI+lends+a+helping+hand+in+this+process,+contrary+to+its+typical+portrayal+as+a+direct+challenger+to+humans.+The+fact+that+DeepMind+can+do+this+with+AlphaZero+is+also+very+neat+since+it+shows+how+generalizable+the+agent+is.+As+a+designer+using+deep+learning+to+create+new+games,+I+don't+think+I'd+leave+any+ethical+judgements+to+the+agents.+I+would+let+them+generate+a+game,+and+then+run+it+by+ethics+experts+after+the+fact.+Any+judgements+left+to+the+agents+are+in+all+likelihood+going+to+be+a+reflection+of+the+data+that+they+are+trained+on.+Human+designers+will+have+an+important+role+to+play+in+ensuring+that+this+data+is+as+free+as+possible+from+biases.+Additionally,+as+always+they+will+need+to+ensure+that+the+games+are+enjoyable,+and+competitive+when+required.+I+don't+think+that+the+jobs+of+game+developers+are+going+to+change+massively.+Deep+learning+agents+are+only+as+creative+as+the+randomness+that+is+built+into+them.+Their+outputs+are+still+very+much+a+reflection+of+human-designed+games+that+already+exist.+For+a+new+game+to+be+truly+creative+and+revolutionary,+I'd+argue+that+it+still+needs+to+be+designed+by+humans.+In+this+effort,+deep+learning+based+agents+may+be+incredibly+useful,+however.+If+a+game+developer+can+leverage+an+agent+to+write+code+on+their+behalf,+and+focus+only+on+the+big-picture+of+what+they+want+to+accomplish,+then+that+partnership+is+likely+to+be+highly+productive.&prefill_cumulative_times=[+1.1473794++22.28963971+46.25118256]\"\n",
              "            frameborder=\"0\"\n",
              "            allowfullscreen\n",
              "        ></iframe>\n",
              "        "
            ],
            "text/plain": [
              "<IPython.lib.display.IFrame at 0x7fa27eef9be0>"
            ]
          },
          "metadata": {
            "tags": []
          }
        }
      ]
    },
    {
      "cell_type": "markdown",
      "metadata": {
        "id": "IdIisWVO2S6p"
      },
      "source": [
        "# Part 2. MuZero\n",
        "Read the muZero paper, the current state of the art : https://deepmind.com/research/publications/Mastering-Atari-Go-Chess-and-Shogi-by-Planning-with-a-Learned-Model. "
      ]
    },
    {
      "cell_type": "markdown",
      "metadata": {
        "id": "O3IJ6UAE2gRJ"
      },
      "source": [
        "There is nothing to submit for this section, but try to contextualize this paper in terms of what we went over this week. Also familiarize yourself with the figures in the paper."
      ]
    }
  ]
}