{
  "nbformat": 4,
  "nbformat_minor": 0,
  "metadata": {
    "accelerator": "TPU",
    "colab": {
      "name": "W3_Tutorial1_SPP",
      "provenance": [],
      "collapsed_sections": [],
      "toc_visible": true,
      "machine_shape": "hm",
      "include_colab_link": true
    },
    "kernel": {
      "display_name": "Python 3",
      "language": "python",
      "name": "python3"
    },
    "kernelspec": {
      "display_name": "Python 3",
      "name": "python3"
    }
  },
  "cells": [
    {
      "cell_type": "markdown",
      "metadata": {
        "id": "view-in-github",
        "colab_type": "text"
      },
      "source": [
        "<a href=\"https://colab.research.google.com/github/spatank/CIS-522/blob/main/W3_Tutorial1_SPP.ipynb\" target=\"_parent\"><img src=\"https://colab.research.google.com/assets/colab-badge.svg\" alt=\"Open In Colab\"/></a>"
      ]
    },
    {
      "cell_type": "markdown",
      "metadata": {
        "id": "ZzN1YmefaBTS"
      },
      "source": [
        "# CIS-522 Week 3 Part 1\r\n",
        "# Multi-Layer Perceptrons (MLPs)\r\n",
        "\r\n",
        "__Instructor__: Konrad Kording\r\n",
        "\r\n",
        "__Content creators:__ Arash Ash"
      ]
    },
    {
      "cell_type": "markdown",
      "metadata": {
        "id": "Xnly2h-5aBTW"
      },
      "source": [
        "---\r\n",
        "# Tutorial objectives\r\n",
        "In this tutorial, we delve deeper by using one of the most famous deep learning models of all!\r\n",
        "\r\n",
        "MLPs are arguably one of the most tractable models that we can use to study deep learning fundamentals. Here we will learn why MLPs are: \r\n",
        "\r\n",
        "* similar to biological networks\r\n",
        "* good at function approximation\r\n",
        "* can evolve linearly in weights \r\n",
        "* the case of deep vs. wide\r\n",
        "* dependant on transfer functions\r\n",
        "* sensitive to initialization"
      ]
    },
    {
      "cell_type": "code",
      "metadata": {
        "cellView": "form",
        "id": "D_UIavfvaBTX"
      },
      "source": [
        "#@markdown What is your Pennkey and pod? (text, not numbers, e.g. bfranklin)\n",
        "my_pennkey = 'spatank' #@param {type:\"string\"}\n",
        "my_pod = 'sublime-newt' #@param ['Select', 'euclidean-wombat', 'sublime-newt', 'buoyant-unicorn', 'lackadaisical-manatee','indelible-stingray','superfluous-lyrebird','discreet-reindeer','quizzical-goldfish','astute-jellyfish','ubiquitous-cheetah','nonchalant-crocodile','fashionable-lemur','spiffy-eagle','electric-emu','quotidian-lion']"
      ],
      "execution_count": 1,
      "outputs": []
    },
    {
      "cell_type": "code",
      "metadata": {
        "cellView": "form",
        "id": "gzkIyrXuaBTX",
        "colab": {
          "base_uri": "https://localhost:8080/",
          "height": 320
        },
        "outputId": "1ba935ee-655d-4faa-f0f2-b6eea422b2db"
      },
      "source": [
        "# @title Slides\n",
        "from IPython.display import HTML\n",
        "HTML('<iframe src=\"https://docs.google.com/presentation/d/e/2PACX-1vSPvHqDTmMq4GyQy6lieNEFxq4qz1SmqC2RNoeei3_niECH53zneh8jJVYOnBIdk0Uaz7y2b9DK8V1t/embed?start=false&loop=false&delayms=3000\" frameborder=\"0\" width=\"480\" height=\"299\" allowfullscreen=\"true\" mozallowfullscreen=\"true\" webkitallowfullscreen=\"true\"></iframe>')"
      ],
      "execution_count": 8,
      "outputs": [
        {
          "output_type": "execute_result",
          "data": {
            "text/html": [
              "<iframe src=\"https://docs.google.com/presentation/d/e/2PACX-1vSPvHqDTmMq4GyQy6lieNEFxq4qz1SmqC2RNoeei3_niECH53zneh8jJVYOnBIdk0Uaz7y2b9DK8V1t/embed?start=false&loop=false&delayms=3000\" frameborder=\"0\" width=\"480\" height=\"299\" allowfullscreen=\"true\" mozallowfullscreen=\"true\" webkitallowfullscreen=\"true\"></iframe>"
            ],
            "text/plain": [
              "<IPython.core.display.HTML object>"
            ]
          },
          "metadata": {
            "tags": []
          },
          "execution_count": 8
        }
      ]
    },
    {
      "cell_type": "markdown",
      "metadata": {
        "id": "s_5dmu0YaBTY"
      },
      "source": [
        "# Recap the experience from last week\r\n",
        "\r\n",
        "We focused on linear deep learning last week. We discussed Artificial Neural Networks and saw how it works, the dynamics of learning, and the properties of high dimensional spaces. You should now have some intuition about deep learning systems we will learn. We also dived into PyTorch and autograd, which are tools that make our life easy. "
      ]
    },
    {
      "cell_type": "code",
      "metadata": {
        "cellView": "form",
        "id": "2dW7Nup3aBTY",
        "colab": {
          "base_uri": "https://localhost:8080/",
          "height": 518
        },
        "outputId": "6ef52c74-eb2b-4f84-c5bd-5ddba9ae3c7c"
      },
      "source": [
        "#@title Video: Discussing Week 2 - Linear DL\n",
        "import time\n",
        "try: t0;\n",
        "except NameError: t0=time.time()\n",
        "\n",
        "from IPython.display import YouTubeVideo\n",
        "\n",
        "video = YouTubeVideo(id=\"xlYttP5C_LY\", width=854, height=480, fs=1)\n",
        "print(\"Video available at https://youtube.com/watch?v=\" + video.id)\n",
        "\n",
        "video"
      ],
      "execution_count": 10,
      "outputs": [
        {
          "output_type": "stream",
          "text": [
            "Video available at https://youtube.com/watch?v=xlYttP5C_LY\n"
          ],
          "name": "stdout"
        },
        {
          "output_type": "execute_result",
          "data": {
            "text/html": [
              "\n",
              "        <iframe\n",
              "            width=\"854\"\n",
              "            height=\"480\"\n",
              "            src=\"https://www.youtube.com/embed/xlYttP5C_LY?fs=1\"\n",
              "            frameborder=\"0\"\n",
              "            allowfullscreen\n",
              "        ></iframe>\n",
              "        "
            ],
            "text/plain": [
              "<IPython.lib.display.YouTubeVideo at 0x7fd712e13240>"
            ],
            "image/jpeg": "[encoded data removed]"
          },
          "metadata": {
            "tags": []
          },
          "execution_count": 10
        }
      ]
    },
    {
      "cell_type": "markdown",
      "metadata": {
        "id": "zhcPkXaDaBTY"
      },
      "source": [
        "Meet with your pod for 10 minutes to discuss what you learned, what was clear, and what you hope to learn more about."
      ]
    },
    {
      "cell_type": "code",
      "metadata": {
        "cellView": "form",
        "id": "zBFU79a3aBTY"
      },
      "source": [
        "#@markdown Tell us your thoughts about what you have learned in week 2.\n",
        "w2_upshot = '' #@param {type:\"string\"}"
      ],
      "execution_count": 11,
      "outputs": []
    },
    {
      "cell_type": "markdown",
      "metadata": {
        "id": "axq-6cCqaBTY"
      },
      "source": [
        "# Question of the week"
      ]
    },
    {
      "cell_type": "code",
      "metadata": {
        "cellView": "form",
        "id": "FINDsQY7aBTZ"
      },
      "source": [
        "#@markdown What functional forms are good or bad for representing complex functions?\n",
        "w3_q = '' #@param {type:\"string\"}"
      ],
      "execution_count": 12,
      "outputs": []
    },
    {
      "cell_type": "markdown",
      "metadata": {
        "id": "wS_z5FHiaBTZ"
      },
      "source": [
        "---\r\n",
        "# Setup"
      ]
    },
    {
      "cell_type": "code",
      "metadata": {
        "id": "ElZeNDbxaBTZ"
      },
      "source": [
        "# imports\n",
        "import random\n",
        "import pathlib\n",
        "\n",
        "import torch\n",
        "import numpy as np\n",
        "import matplotlib.pyplot as plt\n",
        "\n",
        "import torch.nn as nn\n",
        "import torch.optim as optim\n",
        "import torch.nn.functional as F\n",
        "import torchvision.transforms as transforms\n",
        "from torchvision.datasets import ImageFolder\n",
        "from torch.utils.data import DataLoader, TensorDataset\n",
        "from torchvision.utils import make_grid\n",
        "from IPython.display import HTML, display\n",
        "\n",
        "dev = torch.device(\"cuda\" if torch.cuda.is_available() else \"cpu\")"
      ],
      "execution_count": 2,
      "outputs": []
    },
    {
      "cell_type": "code",
      "metadata": {
        "cellView": "form",
        "id": "WqyW-GhZaBTZ"
      },
      "source": [
        "# @title Seeding for reproducibility\n",
        "seed = 522\n",
        "random.seed(seed)\n",
        "np.random.seed(seed)\n",
        "torch.manual_seed(seed)\n",
        "torch.cuda.manual_seed(seed)\n",
        "\n",
        "torch.backends.cudnn.deterministic = True\n",
        "torch.backends.cudnn.benchmark = False\n",
        "torch.set_deterministic(True)\n",
        "def seed_worker(worker_id):\n",
        "    worker_seed = seed % (worker_id+1)\n",
        "    np.random.seed(worker_seed)\n",
        "    random.seed(worker_seed)"
      ],
      "execution_count": 3,
      "outputs": []
    },
    {
      "cell_type": "code",
      "metadata": {
        "cellView": "form",
        "id": "mbjt7O0taBTZ"
      },
      "source": [
        "# @title Dataset download\n",
        "%%capture\n",
        "!rm -r AnimalFaces32x32/\n",
        "!git clone https://github.com/arashash/AnimalFaces32x32\n",
        "!rm -r afhq/\n",
        "!unzip ./AnimalFaces32x32/afhq_32x32.zip"
      ],
      "execution_count": 4,
      "outputs": []
    },
    {
      "cell_type": "code",
      "metadata": {
        "cellView": "form",
        "id": "dAQD7tQeaBTa"
      },
      "source": [
        "# @title Figure settings\n",
        "import ipywidgets as widgets\n",
        "%matplotlib inline\n",
        "fig_w, fig_h = (8, 6)\n",
        "plt.rcParams.update({'figure.figsize': (fig_w, fig_h)})\n",
        "%config InlineBackend.figure_format = 'retina'\n",
        "my_layout = widgets.Layout()"
      ],
      "execution_count": 5,
      "outputs": []
    },
    {
      "cell_type": "code",
      "metadata": {
        "cellView": "form",
        "id": "WmE7HeWpaBTa"
      },
      "source": [
        "# @title Helper functions\n",
        "def imshow(img):\n",
        "    img = img / 2 + 0.5     # unnormalize\n",
        "    npimg = img.numpy()\n",
        "    plt.imshow(np.transpose(npimg, (1, 2, 0)))\n",
        "    plt.axis(False)\n",
        "    plt.show()\n",
        "\n",
        "def progress(epoch, loss, epochs=100):\n",
        "    return HTML(\"\"\"\n",
        "        <label for=\"file\">Training loss: {loss}</label>\n",
        "        <progress\n",
        "            value='{epoch}'\n",
        "            max='{epochs}',\n",
        "            style='width: 100%'\n",
        "        >\n",
        "            {epoch}\n",
        "        </progress>\n",
        "    \"\"\".format(loss=loss, epoch=epoch, epochs=epochs))\n",
        "\n",
        "def plot_function_approximation(x, relu_acts, y_hat):\n",
        "  fig, axes = plt.subplots(2, 1)\n",
        "\n",
        "  # Plot ReLU Activations\n",
        "  axes[0].plot(x, relu_acts.T);\n",
        "  axes[0].set(xlabel = 'x', ylabel = 'Activation', title = 'ReLU Activations')\n",
        "  labels = [f'ReLU {i + 1}' for i in range(relu_acts.shape[0])]\n",
        "  axes[0].legend(labels, ncol = 2)\n",
        "\n",
        "  # Plot function approximation\n",
        "  axes[1].plot(x, torch.sin(x), label = 'truth')\n",
        "  axes[1].plot(x, y_hat, label = 'estimated')\n",
        "  axes[1].legend()\n",
        "  axes[1].set(xlabel = 'x', ylabel = 'y(x)', title = 'Function Approximation');\n",
        "\n",
        "  plt.tight_layout()\n",
        "  plt.show()"
      ],
      "execution_count": 6,
      "outputs": []
    },
    {
      "cell_type": "markdown",
      "metadata": {
        "id": "28d5g91ZaBTa"
      },
      "source": [
        "---\r\n",
        "# Section 1: Neuron Physiology"
      ]
    },
    {
      "cell_type": "code",
      "metadata": {
        "cellView": "form",
        "id": "73TR9meyaBTa",
        "colab": {
          "base_uri": "https://localhost:8080/",
          "height": 518
        },
        "outputId": "bb96e831-dde7-4b57-d96d-73d558bb8d6a"
      },
      "source": [
        "#@title Video: Overview and Integrate-and-Fire Neurons\n",
        "try: t1;\n",
        "except NameError: t1=time.time()\n",
        "\n",
        "video = YouTubeVideo(id=\"exTzHGfEAvU\", width=854, height=480, fs=1)\n",
        "print(\"Video available at https://youtube.com/watch?v=\" + video.id)\n",
        "\n",
        "video"
      ],
      "execution_count": 13,
      "outputs": [
        {
          "output_type": "stream",
          "text": [
            "Video available at https://youtube.com/watch?v=exTzHGfEAvU\n"
          ],
          "name": "stdout"
        },
        {
          "output_type": "execute_result",
          "data": {
            "text/html": [
              "\n",
              "        <iframe\n",
              "            width=\"854\"\n",
              "            height=\"480\"\n",
              "            src=\"https://www.youtube.com/embed/exTzHGfEAvU?fs=1\"\n",
              "            frameborder=\"0\"\n",
              "            allowfullscreen\n",
              "        ></iframe>\n",
              "        "
            ],
            "text/plain": [
              "<IPython.lib.display.YouTubeVideo at 0x7fd712e13208>"
            ],
            "image/jpeg": "[encoded data removed]"
          },
          "metadata": {
            "tags": []
          },
          "execution_count": 13
        }
      ]
    },
    {
      "cell_type": "markdown",
      "metadata": {
        "id": "lB4gVRLJaBTa"
      },
      "source": [
        "## Section 1.1: LIF neuron\r\n",
        "The basic idea of LIF neuron was proposed in 1907 by Louis Édouard Lapicque, long before we understood the electrophysiology of a neuron (see a translation of [Lapicque's paper](https://pubmed.ncbi.nlm.nih.gov/17968583/) ). More details of the model can be found in the book [**Theoretical neuroscience**](http://www.gatsby.ucl.ac.uk/~dayan/book/) by Peter Dayan and Laurence F. Abbott.\r\n",
        "\r\n",
        "The model dynamic is defined with the following formula,\r\n",
        "\r\n",
        "$$\r\n",
        "\\frac{d V}{d t}=\\left\\{\\begin{array}{cc}\r\n",
        "\\frac{1}{C_{m}}\\left(-\\frac{V}{R_{m}}+I \\right) & t>t_{r e s t} \\\\\r\n",
        "0 & \\text { otherwise }\r\n",
        "\\end{array}\\right.\r\n",
        "$$\r\n",
        "\r\n",
        "Note that $-\\frac{V}{R_{m}}$ is the leakage current. When $I$ is sufficiently strong such that $V$ reaches a certain threshold value $V_{\\rm th}$, it momentarily spikes and then $V$ is reset to $V_{\\rm reset}< V_{\\rm th}$, and voltage stays at $V_{\\rm reset}$ for $\\tau_{\\rm ref}$ ms, mimicking the refractoriness of the neuron during an action potential (note that $V_{\\rm reset}$ and $\\tau_{\\rm ref}$ is assumed to be zero in the lecture):\r\n",
        "\r\n",
        "\\begin{eqnarray}\r\n",
        "V(t)=V_{\\rm reset} \\text{  for } t\\in(t_{\\text{sp}}, t_{\\text{sp}} + \\tau_{\\text{ref}}]\r\n",
        "\\end{eqnarray}\r\n",
        "\r\n",
        "where $t_{\\rm sp}$ is the spike time when $V(t)$ just exceeded $V_{\\rm th}$.\r\n",
        "\r\n",
        "Thus, the LIF model captures the facts that a neuron:\r\n",
        "- performs spatial and temporal integration of synaptic inputs \r\n",
        "- generates a spike when the voltage reaches a certain threshold\r\n",
        "- goes refractory during the action potential\r\n",
        "- has a leaky membrane \r\n",
        "\r\n",
        "For in-depth content on computational models of neuron, follow the [NMA](https://www.neuromatchacademy.org/) Week 3 Day 1 material on Real Neurons and specifically this [Tutorial](https://colab.research.google.com/github/NeuromatchAcademy/course-content/blob/master/tutorials/W3D1_RealNeurons/W3D1_Tutorial1.ipynb).\r\n"
      ]
    },
    {
      "cell_type": "markdown",
      "metadata": {
        "id": "UDZjXlWOaBTb"
      },
      "source": [
        "## Exercise 1.1: Simulating an LIF Neuron\r\n",
        "\r\n",
        "In the cell below is given a function for LIF neuron model with it's arguments described. Now, it's your turn to try this simple mathematical model of a neuron:"
      ]
    },
    {
      "cell_type": "code",
      "metadata": {
        "id": "i6MQTTtOaBTb"
      },
      "source": [
        "def run_LIF(I, T = 50, dt = 0.1, t_rest = 0, tau_ref = 4,\n",
        "            Rm = 1, Cm = 10, Vth = 1, V_spike = 0.5):\n",
        "  \"\"\"\n",
        "  Simulate the LIF dynamics with external input current\n",
        "\n",
        "  Args:\n",
        "    I          : input current (mA)\n",
        "    T          : total time to simulate (msec)\n",
        "    dt         : simulation time step (msec)\n",
        "    t_rest     : initial refractory time\n",
        "    tau_ref    : refractory period (msec)\n",
        "    Rm         : resistance (kOhm)\n",
        "    Cm         : capacitance (uF)\n",
        "    Vth        : spike threshold (V)\n",
        "    V_spike    : spike delta (V)\n",
        "\n",
        "  Returns:\n",
        "    time       : time points\n",
        "    Vm         : membrane potentials\n",
        "  \"\"\"\n",
        "\n",
        "  ####################################################################\n",
        "  # Fill in all missing code below (...),\n",
        "  # then remove or comment the line below to test your function\n",
        "  raise NotImplementedError(\"Define the LIF model\")\n",
        "  ####################################################################\n",
        "\n",
        "  # Set up array of time steps\n",
        "  time = torch.arange(0, T+dt, dt)\n",
        "\n",
        "  # Set up array for tracking Vm\n",
        "  Vm = torch.zeros(len(time))\n",
        "\n",
        "  # Iterate over each time step\n",
        "  for i, t in enumerate(time):\n",
        "\n",
        "    # If t is after refractory period\n",
        "    if t > t_rest:\n",
        "      Vm[i] = ...\n",
        "\n",
        "    # If Vm is over the threshold\n",
        "    if Vm[i] >= Vth:\n",
        "\n",
        "      # Increase volatage by change due to spike\n",
        "      Vm[i] += ...\n",
        "\n",
        "      # Set up new refactory period\n",
        "      t_rest = ...\n",
        "\n",
        "  return time, Vm\n",
        "\n",
        "\n",
        "### Uncomment below to test your function\n",
        "# sim_time, Vm = run_LIF(1.5)\n",
        "\n",
        "# plt.plot(sim_time, Vm)\n",
        "# plt.title('LIF Neuron Output')\n",
        "# plt.ylabel('Membrane Potential (V)')\n",
        "# plt.xlabel('Time (msec)')\n",
        "# plt.show()"
      ],
      "execution_count": null,
      "outputs": []
    },
    {
      "cell_type": "markdown",
      "metadata": {
        "id": "kUnjw5zvaBTb"
      },
      "source": [
        "[*Click for solution*](https://github.com/CIS-522/course-content/tree/main/tutorials/W3_MLPs/solutions/W3_Tutorial1_Solution_9670c0da.py)\n",
        "\n",
        "<img alt='Solution hint' align='left' src=https://raw.githubusercontent.com/CIS-522/course-content/main/tutorials/W3_MLPs/static/W3_Tutorial1_Solution_9670c0da_0.png>\n",
        "\n"
      ]
    },
    {
      "cell_type": "markdown",
      "metadata": {
        "id": "pnvOq-PuaBTc"
      },
      "source": [
        "## Section 1.2: Nonlinearity of LIF neurons"
      ]
    },
    {
      "cell_type": "code",
      "metadata": {
        "cellView": "form",
        "id": "uVKANwELaBTc"
      },
      "source": [
        "#@title Video: Are Integrate-and-Fire Neurons Linear?\n",
        "\n",
        "video = YouTubeVideo(id=\"6IzHZB7xf34\", width=854, height=480, fs=1)\n",
        "print(\"Video available at https://youtube.com/watch?v=\" + video.id)\n",
        "\n",
        "video"
      ],
      "execution_count": null,
      "outputs": []
    },
    {
      "cell_type": "markdown",
      "metadata": {
        "id": "wvM2K244aBTc"
      },
      "source": [
        "## Interactive demo: F-I explorer for different $R_m$\r\n",
        "We know that neurons communicate by modulating the spike count. Therefore it makes sense to characterize their spike count as a function of input current. This is called the neuron's input-output transfer function (so simply F-I curve). Let's plot the neuron's F-I curve and see how it changes with respect to the membrane resistance? "
      ]
    },
    {
      "cell_type": "code",
      "metadata": {
        "cellView": "form",
        "id": "JHcJ5Qk-aBTc"
      },
      "source": [
        "# @title\n",
        "\n",
        "# @markdown Make sure you execute this cell to enable the widget!\n",
        "\n",
        "@widgets.interact(Rm=widgets.FloatSlider(1., min=0.5, max=10., step=0.1, layout=my_layout))\n",
        "\n",
        "def plot_IF_curve(Rm):\n",
        "  T = 100 # total time to simulate (msec)\n",
        "  dt = 1 # simulation time step (msec)\n",
        "  Vth = 1 # spike threshold (V)\n",
        "  Is = torch.linspace(0, 2, 10)\n",
        "  spike_counts = []\n",
        "  for I in Is:\n",
        "    _, Vm = run_LIF(I, T = T, Vth = Vth, Rm=Rm)\n",
        "    spike_counts += [torch.sum(Vm > Vth)]\n",
        "\n",
        "  plt.plot(Is, spike_counts)\n",
        "  plt.title('LIF Transfer Function (I/F Curve)')\n",
        "  plt.ylabel('Spike count')\n",
        "  plt.xlabel('I (mA)')\n",
        "  plt.show()"
      ],
      "execution_count": null,
      "outputs": []
    },
    {
      "cell_type": "code",
      "metadata": {
        "cellView": "form",
        "id": "dinK3aehaBTc"
      },
      "source": [
        "#@markdown Why do you think increasing the membrane resistance leads to a more ReLU like transfer function?\n",
        "w3_why_become_relu = '' #@param {type:\"string\"}"
      ],
      "execution_count": null,
      "outputs": []
    },
    {
      "cell_type": "markdown",
      "metadata": {
        "id": "VQTUNsGnaBTc"
      },
      "source": [
        "---\n",
        "# Section 2: The Need for MLPs"
      ]
    },
    {
      "cell_type": "code",
      "metadata": {
        "cellView": "form",
        "id": "42AG8hSqaBTd"
      },
      "source": [
        "#@title Video: The XOR Problem\n",
        "\n",
        "try: t2;\n",
        "except NameError: t2=time.time()\n",
        "\n",
        "video = YouTubeVideo(id=\"PERmPT1cOP0\", width=854, height=480, fs=1)\n",
        "print(\"Video available at https://youtube.com/watch?v=\" + video.id)\n",
        "\n",
        "video"
      ],
      "execution_count": null,
      "outputs": []
    },
    {
      "cell_type": "markdown",
      "metadata": {
        "id": "wkVA3Y4GaBTd"
      },
      "source": [
        "Here we are exposed to a limitation of linear systems, namely in solving the XOR problem. One cannot draw a straight line to separate the positive (1) and negative examples(0). \n",
        "The nonlinearity of the multilayer perceptron comes in handy to solve this problem. \n",
        "We will visualize this concept next: "
      ]
    },
    {
      "cell_type": "markdown",
      "metadata": {
        "id": "0ZvB7su3aBTd"
      },
      "source": [
        "## Exercise 2.1: Solving XOR \r\n",
        "Here we use an open source and famous visualization widget developed by Tensorflow team available [here](https://github.com/tensorflow/playground).\r\n",
        "* Play with the widget and observe that you can not solve XOR\r\n",
        "* Now add one hidden layer with three units, play with the widget, and set weights by hand to solve XOR perfectly.\r\n",
        "\r\n",
        "For the second part, you should set the weights by clicking on the connections and either type the value or use the up and down keys to change it by one increment. You could also do the same for the biases by clicking on the tiny square to each neuron's bottom left.\r\n",
        "Even though there are infinitely many solutions, a neat solution when $f(x)$ is ReLU is: \r\n",
        "\r\n",
        "$$y = f(x_1)+f(x_2)-f((x_1+x_2))$$\r\n",
        "\r\n",
        "Try to set the weights and biases to implement this function after you played enough :)"
      ]
    },
    {
      "cell_type": "code",
      "metadata": {
        "cellView": "form",
        "id": "tfwA9WBmaBTd"
      },
      "source": [
        "# @title XOR Exercise\n",
        "from IPython.display import HTML\n",
        "HTML('<iframe width=\"1020\" height=\"660\" src=\"https://playground.arashash.com/#activation=relu&batchSize=10&dataset=xor&regDataset=reg-plane&learningRate=0.03&regularizationRate=0&noise=0&networkShape=&seed=0.91390&showTestData=false&discretize=false&percTrainData=90&x=true&y=true&xTimesY=false&xSquared=false&ySquared=false&cosX=false&sinX=false&cosY=false&sinY=false&collectStats=false&problem=classification&initZero=false&hideText=false\" allowfullscreen></iframe>')"
      ],
      "execution_count": null,
      "outputs": []
    },
    {
      "cell_type": "code",
      "metadata": {
        "cellView": "form",
        "id": "elOyVnWhaBTd"
      },
      "source": [
        "#@markdown Do you think we can solve XOR with only 2 hidden units?\n",
        "w3_min_xor = 'Select' #@param ['Select', 'Yes', 'No']"
      ],
      "execution_count": null,
      "outputs": []
    },
    {
      "cell_type": "markdown",
      "metadata": {
        "id": "GYP00jLCaBTd"
      },
      "source": [
        "---\n",
        "## Section 2.2: Universal Function Approximation Theorem"
      ]
    },
    {
      "cell_type": "code",
      "metadata": {
        "cellView": "form",
        "id": "cBB0Z0oQaBTd"
      },
      "source": [
        "#@title Video: Universal Approximation\n",
        "\n",
        "video = YouTubeVideo(id=\"XXXYxolMVdw\", width=854, height=480, fs=1)\n",
        "print(\"Video available at https://youtube.com/watch?v=\" + video.id)\n",
        "\n",
        "video"
      ],
      "execution_count": null,
      "outputs": []
    },
    {
      "cell_type": "markdown",
      "metadata": {
        "id": "-3v9-ZnvaBTe"
      },
      "source": [
        "We saw previously that multilayer perceptrons could solve the XOR problem. Building off this experiment, a natural question that comes to mind is - can we approximate any function using multilayer perceptrons?\n",
        "\n",
        " Universal Approximation theorem proves that we can! The intuition behind the theorem is that we can approximate any function sufficiently well, given a sufficient number of basis functions. These basis functions are present in the hidden layer of MLPs.  "
      ]
    },
    {
      "cell_type": "markdown",
      "metadata": {
        "id": "NOmNQ29IaBTe"
      },
      "source": [
        "## Exercise 2.2: Function approximation with ReLU\r\n",
        "We learned that one hidden layer MLPs are enough to approximate any smooth function! Now let's manually fit a Sine function using ReLU activation. \r\n",
        "\r\n",
        "\r\n",
        "Instead of combining ReLUs with different slopes, we will approximate the sine function using a linear combination (a weighted sum) of ReLUs with slope 1. We need to determine the bias terms (which determines where the ReLU inflection point from 0 to linear occurs) and how to weight each ReLU. The idea is to set the weights iteratively so that the slope changes in the new sample's direction.\r\n",
        "\r\n",
        "First, we generate our \"training data\" from a sine function. These are the points we will use to learn how to approximate the function. We have 10 training data points so we will have 9 ReLUs (we don't need a ReLU for the last data point as we don't have anything to the right of it to model). \r\n",
        "\r\n",
        "We first need to figure out the bias term for each ReLU and compute the activation of each ReLU where:\r\n",
        "\r\n",
        "$$ y(x) = max(0, x + b) $$\r\n",
        "\r\n",
        "We then need to figure out the correct weights on each ReLU so the linear combination approximates the desired function."
      ]
    },
    {
      "cell_type": "code",
      "metadata": {
        "id": "fcNyyK0ZaBTe"
      },
      "source": [
        "def approximate_function(x_train, y_train):\n",
        "\n",
        "    ####################################################################\n",
        "    # Fill in missing code below (...),\n",
        "    # then remove or comment the line below to test your function\n",
        "    raise NotImplementedError(\"Complete approximate_function!\")\n",
        "    ####################################################################\n",
        "\n",
        "    # Number of relus\n",
        "    n_relus = x_train.shape[0] - 1\n",
        "\n",
        "    # x axis points (more than x train)\n",
        "    x = torch.linspace(torch.min(x_train), torch.max(x_train), 1000)\n",
        "\n",
        "    ## COMPUTE RELU ACTIVATIONS\n",
        "\n",
        "    # First determine what bias terms should be for each of 9 ReLUs\n",
        "    b = ...\n",
        "\n",
        "    # Compute ReLU activations for each point along the x axis (x)\n",
        "    relu_acts = torch.zeros((n_relus, x.shape[0]))\n",
        "\n",
        "    for i_relu in range(n_relus):\n",
        "      relu_acts[i_relu, :] = torch.relu(x + b[i_relu])\n",
        "\n",
        "    ## COMBINE RELU ACTIVATIONS\n",
        "\n",
        "    # Set up weights for weighted sum of ReLUs\n",
        "    combination_weights = torch.zeros((n_relus, ))\n",
        "\n",
        "    # Figure out weights on each ReLU\n",
        "    prev_slope = 0\n",
        "    for i in range(n_relus):\n",
        "      delta_x = x_train[i+1] - x_train[i]\n",
        "      slope = (y_train[i+1] - y_train[i]) / delta_x\n",
        "      combination_weights[i] = ...\n",
        "      prev_slope = slope\n",
        "\n",
        "    # Get output of weighted sum of ReLU activations for every point along x axis\n",
        "    y_hat = ...\n",
        "\n",
        "    return y_hat, relu_acts, x\n",
        "\n",
        "# Make training data from sine function\n",
        "N_train = 10\n",
        "x_train = torch.linspace(0, 2*np.pi, N_train).view(-1, 1)\n",
        "y_train = torch.sin(x_train)\n",
        "\n",
        "\n",
        "### uncomment the lines below to test your function approximation\n",
        "# y_hat, relu_acts, x = approximate_function(x_train, y_train)\n",
        "# plot_function_approximation(x, relu_acts, y_hat)"
      ],
      "execution_count": null,
      "outputs": []
    },
    {
      "cell_type": "markdown",
      "metadata": {
        "id": "RDIiUQISaBTe"
      },
      "source": [
        "[*Click for solution*](https://github.com/CIS-522/course-content/tree/main/tutorials/W3_MLPs/solutions/W3_Tutorial1_Solution_466c7b35.py)\n",
        "\n",
        "<img alt='Solution hint' align='left' src=https://raw.githubusercontent.com/CIS-522/course-content/main/tutorials/W3_MLPs/static/W3_Tutorial1_Solution_466c7b35_0.png>\n",
        "\n"
      ]
    },
    {
      "cell_type": "markdown",
      "metadata": {
        "id": "vtmG1yk_aBTe"
      },
      "source": [
        "---\r\n",
        "# Section 3: MLPs in Pytorch"
      ]
    },
    {
      "cell_type": "code",
      "metadata": {
        "cellView": "form",
        "id": "k96EX6BPaBTe"
      },
      "source": [
        "#@title Video: Making Multi-Layer Perceptrons\n",
        "\n",
        "try: t3;\n",
        "except NameError: t3=time.time()\n",
        "\n",
        "video = YouTubeVideo(id=\"bAhrg8Z8_r8\", width=854, height=480, fs=1)\n",
        "print(\"Video available at https://youtube.com/watch?v=\" + video.id)\n",
        "\n",
        "video"
      ],
      "execution_count": null,
      "outputs": []
    },
    {
      "cell_type": "markdown",
      "metadata": {
        "id": "J0rSpPsaaBTe"
      },
      "source": [
        "In the previous segment, we implemented a function to approximate any smooth function using MLPs. We saw that using Lipschitz continuity; we can prove that our approximation is mathematically correct. MLPs are fascinating, but before we get into the details on designing them, let's familiarize ourselves with some basic terminology of MLPs- layer, neuron, depth, width, weight, bias, and activation function. Armed with these ideas, we can now design an MLP given its input, hidden layers, and output size."
      ]
    },
    {
      "cell_type": "markdown",
      "metadata": {
        "id": "7aQfLg9yaBTe"
      },
      "source": [
        "## Exercise 3.1: Implement a general-purpose MLP in Pytorch\r\n",
        "The objective is to design an MLP with these properties:\r\n",
        "* works with any input (1D, 2D, etc.)\r\n",
        "* construct any number of given hidden layers using ModuleList\r\n",
        "* use the same given activation function in all hidden layers"
      ]
    },
    {
      "cell_type": "code",
      "metadata": {
        "id": "8sV8MjxcaBTe"
      },
      "source": [
        "class Net(nn.Module):\n",
        "    def __init__(self, actv, num_inputs, hidden_units, num_outputs):\n",
        "        super(Net, self).__init__()\n",
        "\n",
        "        # Assign activation function (exec allows us to assign function from string)\n",
        "        exec('self.actv = nn.%s'%actv)\n",
        "\n",
        "        # Initialize layers of MLP\n",
        "        self.layers = nn.ModuleList()\n",
        "\n",
        "        ####################################################################\n",
        "        # Fill in missing code below (...),\n",
        "        # then remove or comment the line below to test your function\n",
        "        raise NotImplementedError(\"Create MLP Layers\")\n",
        "        ####################################################################\n",
        "\n",
        "        # Loop over layers and create each one\n",
        "        for i in range(len(hidden_units)):\n",
        "          next_num_inputs = hidden_units[i]\n",
        "          self.layers += ...\n",
        "          num_inputs = next_num_inputs\n",
        "\n",
        "        # Create final layer\n",
        "        self.out = nn.Linear(num_inputs, num_outputs)\n",
        "\n",
        "    def forward(self, x):\n",
        "\n",
        "        ####################################################################\n",
        "        # Fill in missing code below (...),\n",
        "        # then remove or comment the line below to test your function\n",
        "        raise NotImplementedError(\"Calculate the forward pass\")\n",
        "        ####################################################################\n",
        "\n",
        "        # Flatten inputs to 2D (if more than that)\n",
        "        x = ...\n",
        "\n",
        "        # Get activations of each layer\n",
        "        for layer in self.layers:\n",
        "          x = ...\n",
        "\n",
        "        # Get outputs\n",
        "        x = self.out(x)\n",
        "\n",
        "        return x\n",
        "\n",
        "### Uncomment below to create network and test it on input\n",
        "# net = Net(actv='LeakyReLU(0.1)',\n",
        "#     num_inputs = 2,\n",
        "#     hidden_units = [100, 10, 5],\n",
        "#     num_outputs = 1)\n",
        "\n",
        "# input = torch.zeros((100, 2))\n",
        "# y = net(input)\n",
        "# print(f'The output shape is {y.shape} for an input of shape {input.shape}')"
      ],
      "execution_count": null,
      "outputs": []
    },
    {
      "cell_type": "markdown",
      "metadata": {
        "id": "2S9bDx2-aBTf"
      },
      "source": [
        "[*Click for solution*](https://github.com/CIS-522/course-content/tree/main//tutorials/W3_MLPs/solutions/W3_Tutorial1_Solution_4fa68815.py)\n",
        "\n"
      ]
    },
    {
      "cell_type": "markdown",
      "metadata": {
        "id": "jhtqtqhTaBTf"
      },
      "source": [
        "## Section 3.2: ReLU in practice\r\n"
      ]
    },
    {
      "cell_type": "code",
      "metadata": {
        "cellView": "form",
        "id": "8C6L5nUvaBTf"
      },
      "source": [
        "#@title Video: Implementing ReLU\n",
        "\n",
        "video = YouTubeVideo(id=\"E8c1my2S4E8\", width=854, height=480, fs=1)\n",
        "print(\"Video available at https://youtube.com/watch?v=\" + video.id)\n",
        "\n",
        "video"
      ],
      "execution_count": null,
      "outputs": []
    },
    {
      "cell_type": "markdown",
      "metadata": {
        "id": "g9yU9Sb9aBTf"
      },
      "source": [
        "## Exercise 3.2: Benchmark various ReLU implementations\r\n",
        "Implement and benchmark at least three different ReLU implementations. Use `%timeit` with test number 10 and repeat number 3. Which then takes an average of 10 runs and repeats 3 times, and reports the lowest (best) average time.\r\n"
      ]
    },
    {
      "cell_type": "code",
      "metadata": {
        "id": "cxeyYVOVaBTf"
      },
      "source": [
        "x = torch.rand((10000, 10000)).to(dev) - 0.5\n",
        "print(\"Pytorch : \", end='')\n",
        "%timeit -n10 -r3 torch.relu(x)\n",
        "print('-----------------------------------------------')\n",
        "\n",
        "print(\"First: \", end='')\n",
        "%timeit -n10 -r3 ...\n",
        "print('-----------------------------------------------')\n",
        "\n",
        "print(\"Second: \", end='')\n",
        "%timeit -n10 -r3 ...\n",
        "print('-----------------------------------------------')\n",
        "\n",
        "print(\"Third: \", end='')\n",
        "%timeit -n10 -r3 ...\n",
        "print('-----------------------------------------------')"
      ],
      "execution_count": null,
      "outputs": []
    },
    {
      "cell_type": "markdown",
      "metadata": {
        "id": "ceAoIL7qaBTf"
      },
      "source": [
        "[*Click for solution*](https://github.com/CIS-522/course-content/tree/main//tutorials/W3_MLPs/solutions/W3_Tutorial1_Solution_d7eeb8a8.py)\n",
        "\n"
      ]
    },
    {
      "cell_type": "markdown",
      "metadata": {
        "id": "UtsOOXE-aBTf"
      },
      "source": [
        "## Section 3.3: Classification with MLPs"
      ]
    },
    {
      "cell_type": "code",
      "metadata": {
        "cellView": "form",
        "id": "6Egd7PmKaBTf"
      },
      "source": [
        "#@title Video: Classification and CrossEntropy\n",
        "\n",
        "video = YouTubeVideo(id=\"bxzDe2pifKU\", width=854, height=480, fs=1)\n",
        "print(\"Video available at https://youtube.com/watch?v=\" + video.id)\n",
        "\n",
        "video"
      ],
      "execution_count": null,
      "outputs": []
    },
    {
      "cell_type": "markdown",
      "metadata": {
        "id": "bf15N-yhaBTf"
      },
      "source": [
        "Two potential loss functions we could use out of the box for multi-class classification are:\r\n",
        "* CrossEntropyLoss:\r\n",
        "This criterion expects a class index in the range $[0, C-1]$ as the target for each value of a $1D$ tensor of size minibatch. There are other optional parameters like class weights and class ignores. Check the documentation here for more detail. Then in the simplest case, it calculates this,\r\n",
        "\r\n",
        "$$\r\n",
        "\\operatorname{loss}(x, \\text { class })=-\\log \\left(\\frac{\\exp (x[\\text { class }])}{\\sum_{j} \\exp (x[j])}\\right)=-x[\\text { class }]+\\log \\left(\\sum_{j} \\exp (x[j])\\right)\r\n",
        "$$\r\n",
        "\r\n",
        "* MultiMarginLoss:\r\n",
        "The loss corresponding to class j is calculated as follows,\r\n",
        "$$\r\n",
        "l_j(x, y)=\\sum_{j\\neq y} \\max (0, \\operatorname{margin}-x[y]+x[j])\r\n",
        "$$\r\n",
        "Then it is averaged over all the class elements and all the mini-batch samples.\r\n",
        "\r\n",
        "Before we could start optimizing these loss functions, we need a dataset!"
      ]
    },
    {
      "cell_type": "markdown",
      "metadata": {
        "id": "qemF5vCJaBTg"
      },
      "source": [
        "## Exercise 3.3: Simulate a Spiral classification dataset\r\n",
        "Let's turn this fancy-looking equation into a classification dataset"
      ]
    },
    {
      "cell_type": "markdown",
      "metadata": {
        "id": "FyiWkbpgaBTg"
      },
      "source": [
        "$$\r\n",
        "\\begin{array}{c}\r\n",
        "X_{k}(t)=t\\left(\\begin{array}{c}\r\n",
        "\\sin \\left[\\frac{2 \\pi}{K}\\left(2 t+k-1\\right)\\right]+\\mathcal{N}\\left(0, \\sigma^{2}\\right) \\\\\r\n",
        "\\cos \\left[\\frac{2 \\pi}{K}\\left(2 t+k-1\\right)\\right]+\\mathcal{N}\\left(0, \\sigma^{2}\\right) \r\n",
        "\\end{array}\\right)\r\n",
        "\\end{array}, \\quad 0 \\leq t \\leq 1, \\quad k=1, \\ldots, K\r\n",
        "$$"
      ]
    },
    {
      "cell_type": "code",
      "metadata": {
        "id": "zTIsR1vdaBTg"
      },
      "source": [
        "def create_spiral_dataset(K, sigma, N):\n",
        "\n",
        "    # Initialize t, X, y\n",
        "    t = torch.linspace(0, 1, N)\n",
        "    X = torch.zeros(K*N, 2)\n",
        "    y = torch.zeros(K*N)\n",
        "\n",
        "    ####################################################################\n",
        "    # Fill in missing code below (...),\n",
        "    # then remove or comment the line below to test your function\n",
        "    raise NotImplementedError(\"Create spiral data\")\n",
        "    ####################################################################\n",
        "\n",
        "    # Create data\n",
        "    for k in range(K):\n",
        "      X[k*N:(k+1)*N, 0] = ...\n",
        "      X[k*N:(k+1)*N, 1] = ...\n",
        "      y[k*N:(k+1)*N] = ...\n",
        "\n",
        "    return X, y\n",
        "\n",
        "# Set parameters\n",
        "K = 4\n",
        "sigma = 0.4\n",
        "N = 1000\n",
        "\n",
        "### Uncomment below to visualize data when done\n",
        "# X, y = create_spiral_dataset(K, sigma, N)\n",
        "# plt.scatter(X[:, 0], X[:, 1], c = y)"
      ],
      "execution_count": null,
      "outputs": []
    },
    {
      "cell_type": "markdown",
      "metadata": {
        "id": "PJOSCwnyaBTg"
      },
      "source": [
        "[*Click for solution*](https://github.com/CIS-522/course-content/tree/main/tutorials/W3_MLPs/solutions/W3_Tutorial1_Solution_20d70dbf.py)\n",
        "\n",
        "<img alt='Solution hint' align='left' src=https://raw.githubusercontent.com/CIS-522/course-content/main/tutorials/W3_MLPs/static/W3_Tutorial1_Solution_20d70dbf_0.png>\n"
      ]
    },
    {
      "cell_type": "markdown",
      "metadata": {
        "id": "PFWzG17oaBTg"
      },
      "source": [
        "## Section 3.4: Training and Evaluation"
      ]
    },
    {
      "cell_type": "code",
      "metadata": {
        "cellView": "form",
        "id": "fP0HLhBmaBTg"
      },
      "source": [
        "#@title Video: Cross-Validation\n",
        "\n",
        "video = YouTubeVideo(id=\"U6BFrVCLsWU\", width=854, height=480, fs=1)\n",
        "print(\"Video available at https://youtube.com/watch?v=\" + video.id)\n",
        "\n",
        "video"
      ],
      "execution_count": null,
      "outputs": []
    },
    {
      "cell_type": "markdown",
      "metadata": {
        "id": "rJqgfJF3aBTg"
      },
      "source": [
        "## Exercise 3.4: Implement it for a classfication task\r\n",
        "Steps to follow: \r\n",
        "  * Dataset shuffle\r\n",
        "  * Train/Test split\r\n",
        "  * Dataloader definition\r\n",
        "  * Training and Evaluation"
      ]
    },
    {
      "cell_type": "code",
      "metadata": {
        "id": "jKzNC5xiaBTg"
      },
      "source": [
        "def shuffle_and_split_data(X, y):\n",
        "\n",
        "  ####################################################################\n",
        "  # Fill in missing code below (...),\n",
        "  # then remove or comment the line below to test your function\n",
        "  raise NotImplementedError(\"Shuffle & split data\")\n",
        "  ####################################################################\n",
        "\n",
        "  # Shuffle data\n",
        "  shuffled_indices = ...  # get indices to shuffle data\n",
        "  X = X[shuffled_indices]\n",
        "  y = y[shuffled_indices]\n",
        "\n",
        "  # Split data into train/test\n",
        "  test_size = ...  # assign size of test data\n",
        "  X_test = X[:test_size]\n",
        "  y_test = y[:test_size]\n",
        "  X_train = X[test_size:]\n",
        "  y_train = y[test_size:]\n",
        "\n",
        "  return X_test, y_test, X_train, y_train\n",
        "\n",
        "\n",
        "### Uncomment below to test your function\n",
        "# X_test, y_test, X_train, y_train = shuffle_and_split_data(X, y)\n",
        "# plt.scatter(X_test[:, 0], X_test[:, 1], c=y_test)\n",
        "# plt.title('Test data')"
      ],
      "execution_count": null,
      "outputs": []
    },
    {
      "cell_type": "markdown",
      "metadata": {
        "id": "kwEOeSQJaBTg"
      },
      "source": [
        "[*Click for solution*](https://github.com/CIS-522/course-content/tree/main/tutorials/W3_MLPs/solutions/W3_Tutorial1_Solution_feadc6c4.py)\n",
        "\n",
        "<img alt='Solution hint' align='left' src=https://raw.githubusercontent.com/CIS-522/course-content/main/tutorials/W3_MLPs/static/W3_Tutorial1_Solution_feadc6c4_0.png>\n"
      ]
    },
    {
      "cell_type": "markdown",
      "metadata": {
        "id": "ChVscvJjaBTg"
      },
      "source": [
        "And we need to make a Pytorch data loader out of it:"
      ]
    },
    {
      "cell_type": "code",
      "metadata": {
        "id": "-jGB2TrxaBTh"
      },
      "source": [
        "batch_size = 128\n",
        "test_data = TensorDataset(X_test, y_test)\n",
        "test_loader = DataLoader(test_data, batch_size=batch_size,\n",
        "                         shuffle=False, num_workers=0)\n",
        "\n",
        "train_data = TensorDataset(X_train, y_train)\n",
        "train_loader = DataLoader(train_data, batch_size=batch_size, drop_last=True,\n",
        "                        shuffle=True, num_workers=0, worker_init_fn=seed_worker)"
      ],
      "execution_count": null,
      "outputs": []
    },
    {
      "cell_type": "markdown",
      "metadata": {
        "id": "o9hI9BudaBTh"
      },
      "source": [
        "Let's write a general-purpose training and evaluation code and keep it in our pocket for next tutorial as well. So make sure you review it to see what it does."
      ]
    },
    {
      "cell_type": "code",
      "metadata": {
        "id": "O7_huYzAaBTh"
      },
      "source": [
        "def train_test_classification(net, criterion, optimizer,\n",
        "                              train_loader, test_loader,\n",
        "                              num_epochs=1, verbose=True,\n",
        "                              training_plot=False):\n",
        "  if verbose:\n",
        "    progress_bar = display(progress(0, 0, num_epochs), display_id=True)\n",
        "\n",
        "  net.train()\n",
        "  training_losses = []\n",
        "  for epoch in range(num_epochs):  # loop over the dataset multiple times\n",
        "      running_loss = 0.0\n",
        "      for i, data in enumerate(train_loader, 0):\n",
        "          # get the inputs; data is a list of [inputs, labels]\n",
        "          inputs, labels = data\n",
        "          inputs = inputs.to(dev).float()\n",
        "          labels = labels.to(dev).long()\n",
        "\n",
        "          # zero the parameter gradients\n",
        "          optimizer.zero_grad()\n",
        "\n",
        "          # forward + backward + optimize\n",
        "          outputs = net(inputs)\n",
        "\n",
        "          loss = criterion(outputs, labels)\n",
        "          loss.backward()\n",
        "          optimizer.step()\n",
        "\n",
        "          # print statistics\n",
        "          if verbose:\n",
        "            training_losses += [loss.item()]\n",
        "            running_loss += loss.item()\n",
        "            if i % 10 == 9:    # update every 10 mini-batches\n",
        "                progress_bar.update(progress(epoch+1, running_loss / 10, num_epochs))\n",
        "                running_loss = 0.0\n",
        "\n",
        "  net.eval()\n",
        "  def test(data_loader):\n",
        "    correct = 0\n",
        "    total = 0\n",
        "    for data in data_loader:\n",
        "        inputs, labels = data\n",
        "        inputs = inputs.to(dev).float()\n",
        "        labels = labels.to(dev).long()\n",
        "\n",
        "        outputs = net(inputs)\n",
        "        _, predicted = torch.max(outputs, 1)\n",
        "        total += labels.size(0)\n",
        "        correct += (predicted == labels).sum().item()\n",
        "\n",
        "    acc = 100 * correct / total\n",
        "    return total, acc\n",
        "\n",
        "  train_total, train_acc = test(train_loader)\n",
        "  test_total, test_acc = test(test_loader)\n",
        "\n",
        "  if verbose:\n",
        "    print('Accuracy on the %d training samples: %0.2f %%' % (train_total, train_acc))\n",
        "    print('Accuracy on the %d testing samples: %0.2f %%' % (test_total, test_acc))\n",
        "\n",
        "  if training_plot:\n",
        "    plt.plot(training_losses)\n",
        "    plt.xlabel('Batch')\n",
        "    plt.ylabel('Training loss')\n",
        "    plt.show()\n",
        "\n",
        "  return train_acc, test_acc"
      ],
      "execution_count": null,
      "outputs": []
    },
    {
      "cell_type": "code",
      "metadata": {
        "cellView": "form",
        "id": "-0uJTuXFaBTh"
      },
      "source": [
        "#@markdown Is it necessary to use `net.train()` and `net.eval()` for our MLP model? why?\n",
        "w3_why_two_modes = '' #@param {type:\"string\"}"
      ],
      "execution_count": null,
      "outputs": []
    },
    {
      "cell_type": "markdown",
      "metadata": {
        "id": "K2lH-LMNaBTh"
      },
      "source": [
        "Now let's put everything together and train your first deep-ish model!"
      ]
    },
    {
      "cell_type": "code",
      "metadata": {
        "id": "QgrbB0Q7aBTh"
      },
      "source": [
        "net = Net('ReLU()', X_train.shape[1], [128], K).to(dev)\n",
        "criterion = nn.CrossEntropyLoss()\n",
        "optimizer = optim.Adam(net.parameters(), lr=1e-3)\n",
        "num_epochs = 100\n",
        "_, _ = train_test_classification(net, criterion, optimizer, train_loader,\n",
        "                                 test_loader, num_epochs=num_epochs,\n",
        "                                 training_plot=True)"
      ],
      "execution_count": null,
      "outputs": []
    },
    {
      "cell_type": "markdown",
      "metadata": {
        "id": "iAXDL30xaBTh"
      },
      "source": [
        "And finally, let's visualize the learned decision-map. We know you're probably running out of time, so we won't make you write code now! But make sure you have reviewed it since we'll start with another visualization technique next time."
      ]
    },
    {
      "cell_type": "code",
      "metadata": {
        "id": "IQIb0-DSaBTh"
      },
      "source": [
        "def sample_grid(M=500, x_max = 2.0):\n",
        "  ii, jj = torch.meshgrid(torch.linspace(-x_max, x_max,M),\n",
        "                          torch.linspace(-x_max, x_max, M))\n",
        "  X_all = torch.cat([ii.unsqueeze(-1),\n",
        "                     jj.unsqueeze(-1)],\n",
        "                     dim=-1).view(-1, 2)\n",
        "  return X_all\n",
        "\n",
        "def plot_decision_map(X_all, y_pred, X_test, y_test, M=500, x_max = 2.0, eps = 1e-3):\n",
        "  decision_map = torch.argmax(y_pred, dim=1)\n",
        "\n",
        "  for i in range(len(X_test)):\n",
        "    indeces = (X_all[:, 0] - X_test[i, 0])**2 + (X_all[:, 1] - X_test[i, 1])**2 < eps\n",
        "    decision_map[indeces] = (K + y_test[i]).long()\n",
        "\n",
        "  decision_map = decision_map.view(M, M).cpu()\n",
        "  plt.imshow(decision_map, extent=[-x_max, x_max, -x_max, x_max], cmap='jet')\n",
        "  plt.plot()\n",
        "\n",
        "X_all = sample_grid()\n",
        "y_pred = net(X_all)\n",
        "plot_decision_map(X_all, y_pred, X_test, y_test)"
      ],
      "execution_count": null,
      "outputs": []
    },
    {
      "cell_type": "code",
      "metadata": {
        "cellView": "form",
        "id": "hZXZqdE6aBTh"
      },
      "source": [
        "#@markdown Do you think this model is performing well outside its training distribution? Why?\n",
        "w3_OoD = '' #@param {type:\"string\"}"
      ],
      "execution_count": null,
      "outputs": []
    },
    {
      "cell_type": "markdown",
      "metadata": {
        "id": "8LwCj3iTaBTi"
      },
      "source": [
        "# Submit your responses\r\n",
        "Please run the following cell and then press \"Submit\" so we can record your responses."
      ]
    },
    {
      "cell_type": "code",
      "metadata": {
        "cellView": "form",
        "id": "DVenuaAHaBTi"
      },
      "source": [
        "import time\n",
        "import numpy as np\n",
        "from IPython.display import IFrame\n",
        "#@markdown #Run Cell to Show Airtable Form\n",
        "#@markdown ##**Confirm your answers and then click \"Submit\"**\n",
        "\n",
        "def prefill_form(src, fields: dict):\n",
        "  '''\n",
        "  src: the original src url to embed the form\n",
        "  fields: a dictionary of field:value pairs,\n",
        "  e.g. {\"pennkey\": my_pennkey, \"location\": my_location}\n",
        "  '''\n",
        "  prefills = \"&\".join([\"prefill_%s=%s\"%(key, fields[key]) for key in fields])\n",
        "  src = src + prefills\n",
        "  src = \"+\".join(src.split(\" \"))\n",
        "  return src\n",
        "\n",
        "\n",
        "#autofill time if it is not present\n",
        "try: t0;\n",
        "except NameError: t0 = time.time()\n",
        "try: t1;\n",
        "except NameError: t1 = time.time()\n",
        "try: t2;\n",
        "except NameError: t2 = time.time()\n",
        "try: t3;\n",
        "except NameError: t3 = time.time()\n",
        "try: t4;\n",
        "except NameError: t4 = time.time()\n",
        "\n",
        "#autofill fields if they are not present\n",
        "#a missing pennkey and pod will result in an Airtable warning\n",
        "#which is easily fixed user-side.\n",
        "try: my_pennkey;\n",
        "except NameError: my_pennkey = \"\"\n",
        "\n",
        "try: my_pod;\n",
        "except NameError: my_pod = \"Select\"\n",
        "\n",
        "try: w2_upshot;\n",
        "except NameError: w2_upshot = \"\"\n",
        "\n",
        "try: w3_q;\n",
        "except NameError: w3_q = \"\"\n",
        "\n",
        "try: w3_min_xor;\n",
        "except NameError: w3_min_xor = \"\"\n",
        "\n",
        "try: w3_why_become_relu;\n",
        "except NameError: w3_why_become_relu = \"\"\n",
        "\n",
        "try: w3_why_two_modes;\n",
        "except NameError: w3_why_two_modes = \"\"\n",
        "\n",
        "try: w3_OoD;\n",
        "except NameError: w3_OoD = \"\"\n",
        "\n",
        "\n",
        "times = np.array([t1,t2,t3,t4])-t0\n",
        "\n",
        "fields = {\"pennkey\": my_pennkey,\n",
        "          \"pod\": my_pod,\n",
        "          \"w2_upshot\":w2_upshot,\n",
        "          \"w3_q\": w3_q,\n",
        "          \"w3_why_become_relu\":w3_why_become_relu,\n",
        "          \"w3_min_xor\": w3_min_xor,\n",
        "          \"w3_why_two_modes\":w3_why_two_modes,\n",
        "          \"w3_OoD\":w3_OoD,\n",
        "          \"cumulative_times\": times}\n",
        "\n",
        "src = \"https://airtable.com/embed/shrO0aY7Sz8u8qY2H?\"\n",
        "\n",
        "#now instead of the original source url, we do: src = prefill_form(src, fields)\n",
        "display(IFrame(src = prefill_form(src, fields), width = 800, height = 400))"
      ],
      "execution_count": null,
      "outputs": []
    },
    {
      "cell_type": "markdown",
      "metadata": {
        "id": "nFomMcQ0aBTi"
      },
      "source": [
        "## Feedback\r\n",
        "How could this session have been better? How happy are you in your group? How do you feel right now?\r\n",
        "\r\n",
        "Feel free to use the embeded form below or use this link:\r\n",
        "<a target=\"_blank\" rel=\"noopener noreferrer\" href=\"https://airtable.com/shrNSJ5ECXhNhsYss\">https://airtable.com/shrNSJ5ECXhNhsYss</a>"
      ]
    },
    {
      "cell_type": "code",
      "metadata": {
        "cellView": "form",
        "id": "Y_XA5g2GaBTi"
      },
      "source": [
        "# @title Feedback form\n",
        "display(IFrame(src=\"https://airtable.com/embed/shrNSJ5ECXhNhsYss?backgroundColor=red\", width = 800, height = 400))"
      ],
      "execution_count": null,
      "outputs": []
    }
  ]
}