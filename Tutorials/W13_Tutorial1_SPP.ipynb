{
  "nbformat": 4,
  "nbformat_minor": 0,
  "metadata": {
    "colab": {
      "name": "W13_Tutorial1_SPP",
      "provenance": [],
      "collapsed_sections": [],
      "toc_visible": true,
      "include_colab_link": true
    },
    "kernelspec": {
      "display_name": "Python 3",
      "name": "python3"
    },
    "accelerator": "GPU"
  },
  "cells": [
    {
      "cell_type": "markdown",
      "metadata": {
        "id": "view-in-github",
        "colab_type": "text"
      },
      "source": [
        "<a href=\"https://colab.research.google.com/github/spatank/CIS-522/blob/main/Tutorials/W13_Tutorial1_SPP.ipynb\" target=\"_parent\"><img src=\"https://colab.research.google.com/assets/colab-badge.svg\" alt=\"Open In Colab\"/></a>"
      ]
    },
    {
      "cell_type": "markdown",
      "metadata": {
        "id": "V0jMtXo2lrqU"
      },
      "source": [
        "# CIS-522 Week 13\n",
        "# The Future of Deep Learning\n",
        "\n",
        "__Instructor__: Lyle Ungar\n",
        "\n",
        "__Content creators:__ Michael Zhou\n",
        "\n",
        "---"
      ]
    },
    {
      "cell_type": "markdown",
      "metadata": {
        "id": "ymkujLBlqM6F"
      },
      "source": [
        "## Tutorial Objectives\n",
        "\n",
        "1. Understand where deep learning currently succeeds and where it fails \\\\\n",
        "2. Know the key invariances used in deep learning \\\\\n",
        "3. Appreciate the limits of symbolic and non-symbolic (discrete and continuous) reasoning \\\\\n",
        "4. Recognize where correlation and causality diverge and why causality matters \\\\\n",
        "5. See the promise of self-supervision, continuous learning, and curiosity \\\\"
      ]
    },
    {
      "cell_type": "code",
      "metadata": {
        "id": "F0zdndLoLDwY",
        "cellView": "form",
        "colab": {
          "base_uri": "https://localhost:8080/",
          "height": 590
        },
        "outputId": "7d41e34c-9b8e-4243-fe62-179a403b8d34"
      },
      "source": [
        "# @title Week 13 Slides\n",
        "from IPython.display import HTML\n",
        "HTML('<iframe src=\"https://docs.google.com/presentation/d/1_OInMCvVhJjradtLAhq2GQ6XpKmISkwoo5h34DeR6_E/edit?usp=sharing\" frameborder=\"0\" width=\"960\" height=\"569\" allowfullscreen=\"true\" mozallowfullscreen=\"true\" webkitallowfullscreen=\"true\"></iframe>')"
      ],
      "execution_count": 1,
      "outputs": [
        {
          "output_type": "execute_result",
          "data": {
            "text/html": [
              "<iframe src=\"https://docs.google.com/presentation/d/1_OInMCvVhJjradtLAhq2GQ6XpKmISkwoo5h34DeR6_E/edit?usp=sharing\" frameborder=\"0\" width=\"960\" height=\"569\" allowfullscreen=\"true\" mozallowfullscreen=\"true\" webkitallowfullscreen=\"true\"></iframe>"
            ],
            "text/plain": [
              "<IPython.core.display.HTML object>"
            ]
          },
          "metadata": {
            "tags": []
          },
          "execution_count": 1
        }
      ]
    },
    {
      "cell_type": "code",
      "metadata": {
        "id": "ULqtMpvDtxl4",
        "cellView": "form",
        "colab": {
          "base_uri": "https://localhost:8080/",
          "height": 518
        },
        "outputId": "f3b41604-e5bd-4d28-f864-928d7850bd6c"
      },
      "source": [
        "#@title Video: Intro\n",
        "import time\n",
        "try: t0;\n",
        "except NameError: t0=time.time()\n",
        "\n",
        "from IPython.display import YouTubeVideo\n",
        "video = YouTubeVideo(id=\"sPrwv5xiERU\", width=854, height=480, fs=1)\n",
        "print(\"Video available at https://youtube.com/watch?v=\" + video.id)\n",
        "\n",
        "video"
      ],
      "execution_count": 4,
      "outputs": [
        {
          "output_type": "stream",
          "text": [
            "Video available at https://youtube.com/watch?v=sPrwv5xiERU\n"
          ],
          "name": "stdout"
        },
        {
          "output_type": "execute_result",
          "data": {
            "text/html": [
              "\n",
              "        <iframe\n",
              "            width=\"854\"\n",
              "            height=\"480\"\n",
              "            src=\"https://www.youtube.com/embed/sPrwv5xiERU?fs=1\"\n",
              "            frameborder=\"0\"\n",
              "            allowfullscreen\n",
              "        ></iframe>\n",
              "        "
            ],
            "text/plain": [
              "<IPython.lib.display.YouTubeVideo at 0x7f598cce57d0>"
            ],
            "image/jpeg": "[encoded data removed]"
          },
          "metadata": {
            "tags": []
          },
          "execution_count": 4
        }
      ]
    },
    {
      "cell_type": "code",
      "metadata": {
        "cellView": "form",
        "id": "a5NQBmTeSs5S"
      },
      "source": [
        "#@markdown What is your Pennkey and pod? (text, not numbers, e.g. bfranklin)\n",
        "my_pennkey = 'spatank' #@param {type:\"string\"}\n",
        "my_pod = 'sublime-newt' #@param ['Select', 'euclidean-wombat', 'sublime-newt', 'buoyant-unicorn', 'lackadaisical-manatee','indelible-stingray','superfluous-lyrebird','discreet-reindeer','quizzical-goldfish','astute-jellyfish','ubiquitous-cheetah','nonchalant-crocodile','fashionable-lemur','spiffy-eagle','electric-emu','quotidian-lion']\n"
      ],
      "execution_count": 5,
      "outputs": []
    },
    {
      "cell_type": "markdown",
      "metadata": {
        "id": "0LMCVKg3EOSn"
      },
      "source": [
        "## Recap the experience from the course\n",
        "\n",
        "What did you learn in the course? [15 min discussion]"
      ]
    },
    {
      "cell_type": "code",
      "metadata": {
        "id": "0q2tL2Q5CAde",
        "cellView": "form"
      },
      "source": [
        "learning_from_the_course= 'We were introduced to DL in the context of reinforcement learning where we saw all the components that make it work in their final form. The next few weeks were devoted to individually studying the components from this first week including ideas such as automatic differentiation and optimization, and regularization. We saw how neural networks can be used to learn arbitrary functions including really difficult operators such as the XOR gate. Then we stepped into discussing the applications of neural networks and DL such as convolutional neural networks applied to classification problems, and recurrent neural networks for natural language processing. A personally important week covered generative methods such as variational autoencoders and generative adversarial networks. We ended the course by looking at the application of DL to reinforcement learning.' #@param {type:\"string\"}"
      ],
      "execution_count": 6,
      "outputs": []
    },
    {
      "cell_type": "markdown",
      "metadata": {
        "id": "x_ZIAAg0ckH-"
      },
      "source": [
        "*Estimated time: 20 minutes since start*"
      ]
    },
    {
      "cell_type": "markdown",
      "metadata": {
        "id": "fqQJVzPYjRAI"
      },
      "source": [
        "---\n",
        "# Section 1: DL Successes and Limits"
      ]
    },
    {
      "cell_type": "code",
      "metadata": {
        "id": "0oCE24_HD91S",
        "cellView": "form",
        "colab": {
          "base_uri": "https://localhost:8080/",
          "height": 518
        },
        "outputId": "b50b6fe1-1fab-4fb2-f1dd-04db0555746a"
      },
      "source": [
        "#@title Video: Successes and Limits\n",
        "\n",
        "try: t1;\n",
        "except NameError: t1=time.time()\n",
        "\n",
        "from IPython.display import YouTubeVideo\n",
        "video = YouTubeVideo(id=\"uhYDnJss2Fk\", width=854, height=480, fs=1)\n",
        "print(\"Video available at https://youtube.com/watch?v=\" + video.id)\n",
        "\n",
        "video"
      ],
      "execution_count": 7,
      "outputs": [
        {
          "output_type": "stream",
          "text": [
            "Video available at https://youtube.com/watch?v=uhYDnJss2Fk\n"
          ],
          "name": "stdout"
        },
        {
          "output_type": "execute_result",
          "data": {
            "text/html": [
              "\n",
              "        <iframe\n",
              "            width=\"854\"\n",
              "            height=\"480\"\n",
              "            src=\"https://www.youtube.com/embed/uhYDnJss2Fk?fs=1\"\n",
              "            frameborder=\"0\"\n",
              "            allowfullscreen\n",
              "        ></iframe>\n",
              "        "
            ],
            "text/plain": [
              "<IPython.lib.display.YouTubeVideo at 0x7f598ccbfd90>"
            ],
            "image/jpeg": "[encoded data removed]"
          },
          "metadata": {
            "tags": []
          },
          "execution_count": 7
        }
      ]
    },
    {
      "cell_type": "markdown",
      "metadata": {
        "id": "1BAkagV3mo7N"
      },
      "source": [
        "## Section 1.1: Successes in Applications"
      ]
    },
    {
      "cell_type": "markdown",
      "metadata": {
        "id": "lwtavl6Base-"
      },
      "source": [
        "As a whole, deep learning models and techniques have a variety of useful applications for different industries and disciplines. Recently, much interest has been put into many focus areas of deep learning from molecular discovery and pharmaceuticals to autonomous vehicles and education technology. Other focus areas such as machine translation, fraud prevention, cosmetics, and e-sports have experienced tremendous growth in private investments by large tech companies in just the last few years alone.\n",
        "\n",
        "Deep learning models have found lots of potential use in certain types of applications. For instance, deep generative model architectures such as GANs have found use as tools for building complex 3-D simulations for the purposes of molecular dynamics and other scientific fields. Meanwhile, CNN-based models have been widely adopted for object recognition in real-world settings and images and transformers have been extensively used for NLP tasks such as machine translation and speech recognition."
      ]
    },
    {
      "cell_type": "markdown",
      "metadata": {
        "id": "UQpRRSVenNLo"
      },
      "source": [
        "## Section 1.2: Limitations and Drawbacks"
      ]
    },
    {
      "cell_type": "markdown",
      "metadata": {
        "id": "eLMK8jN4lAzd"
      },
      "source": [
        "For all the advantages and widespread usage of deep learning in many focus areas, there are certain real-world applications for which existing deep learning architectures and techniques are poorly equipped to handle.\n",
        "\n",
        "In vision applications, while deep learning models perform relatively well on image recognition tasks, even cutting-edge models often struggle with scene recognition tasks. Such tasks involve identifying entire environments or settings as well as sets of objects in these scenes and answering questions about these objects in relation to their respective scenes. \n",
        "\n",
        "In machine translation, transformer model architectures do generally well with translating simple sentences and phrases across languages. However, there are cases where such models struggle with the nuances of natural language understanding. Such failures center on factors like the inability to recognize synonyms, and the effects of built-in bias derived from the statistics of a language that may translate over well to another language that differs in key characteristics like grammar rules and pronoun usage. \n",
        "\n",
        "Scene captioning, which involves taking an image and deriving an appropriate caption describing what is going on from its deep representation in a neural network, is another area where current machine translation models usually struggle with. While such models generally do a good job describing what is in an image, most fail to demonstrate an understanding of what is going on in the image. Labels provided by such models end up being superficial, only focused on surface details while ignoring the main idea."
      ]
    },
    {
      "cell_type": "markdown",
      "metadata": {
        "id": "SAqGi3uS5tey"
      },
      "source": [
        "What are some other limitations for deep learning models that you have encountered? For what reasons do these models have such limits?\n"
      ]
    },
    {
      "cell_type": "code",
      "metadata": {
        "cellView": "form",
        "id": "v3rowQ3h5tez"
      },
      "source": [
        "deep_learning_limits = 'One of the areas where DL performed poorly in my experience was the week when we examined generative models. I worked with the CIFAR-10 data set and the latent space embeddings for that data were really poor. Interpolating between two vectors in the latent space also did not produce decent results. Others working with the MNIST data set had more luck. I think this issue highlights how important parameter tuning is to DL. In the right circumstances, DL is wonderful but it often does not work straight out of the bag without a significant grid search for the most suitable parameters, a process that can be excruciatingly slow and tedious.' #@param {type:\"string\"}"
      ],
      "execution_count": 8,
      "outputs": []
    },
    {
      "cell_type": "markdown",
      "metadata": {
        "id": "-LmnyIzR6Hvh"
      },
      "source": [
        "## Section 1.3: One-Second Rule"
      ]
    },
    {
      "cell_type": "markdown",
      "metadata": {
        "id": "0QN4c_Vv6Kxs"
      },
      "source": [
        "For many potential deep learning applications, a good rule of thumb to follow is the \"one-second rule\". Generally, most of the tasks for which deep learning models perform well on are trivial tasks that take at most a few seconds. Such tasks include the recognition of a single object or person, the generation of simple image captions, simple sentence translation, and choosing an action in a game environment. These tasks are often characterized by quick reactions and short duration, with no need for deeper levels of understanding or comprehension."
      ]
    },
    {
      "cell_type": "markdown",
      "metadata": {
        "id": "T8sCdEyj5d4f"
      },
      "source": [
        "How accurate do you think the “one-second rule” is? Why do you think it tends to hold?\n"
      ]
    },
    {
      "cell_type": "code",
      "metadata": {
        "cellView": "form",
        "id": "HTypw50s5Q6K"
      },
      "source": [
        "one_second_rule = 'I am very intrigued by the one-second rule now that it has been pointed out to me. I agree broadly that DL seems to succeed at these quick inference tasks very well. I am having trouble thinking about how DL could be tested at tasks that require more nuanced inferencing. Perhaps the fact that DL cannot be easily operationalized for complex tasks is the reason why the one-second rule is so accurate. That said, most of the last two weeks focussed on using DL for reinforcement learning where path planning and trajectories are key. These are a string of short decisions stitched together arguably forming a more complex inference problem than can be explained away by the one-second rule.' #@param {type:\"string\"}"
      ],
      "execution_count": 9,
      "outputs": []
    },
    {
      "cell_type": "markdown",
      "metadata": {
        "id": "zVOk4X8d7eEB"
      },
      "source": [
        "One of the more interesting areas of research with regards to deep learning models concerns how to make them emulate human reasoning, which is defined by an ability to generalize well across different situations even without prior knowledge or exposure through abstract reasoning and concepts. Most current deep learning models struggle greatly in this respect, so we will take the time to explore some techniques that could make these models better prepared to handle such scenarios."
      ]
    },
    {
      "cell_type": "markdown",
      "metadata": {
        "id": "sjHNbw79hcHT"
      },
      "source": [
        "*Estimated time: 45 minutes since start*"
      ]
    },
    {
      "cell_type": "markdown",
      "metadata": {
        "id": "3Y1z2u3zjTxB"
      },
      "source": [
        "---\n",
        "# Section 2: Invariances"
      ]
    },
    {
      "cell_type": "code",
      "metadata": {
        "id": "LznDcyfhEY9w",
        "cellView": "form",
        "colab": {
          "base_uri": "https://localhost:8080/",
          "height": 518
        },
        "outputId": "b3757830-3e89-4909-dda0-69b342585071"
      },
      "source": [
        "#@title Video: Invariances\n",
        "try: t2;\n",
        "except NameError: t2=time.time()\n",
        "\n",
        "from IPython.display import YouTubeVideo\n",
        "video = YouTubeVideo(id=\"6x0pC0ilZL8\", width=854, height=480, fs=1)\n",
        "print(\"Video available at https://youtube.com/watch?v=\" + video.id)\n",
        "\n",
        "video"
      ],
      "execution_count": 10,
      "outputs": [
        {
          "output_type": "stream",
          "text": [
            "Video available at https://youtube.com/watch?v=6x0pC0ilZL8\n"
          ],
          "name": "stdout"
        },
        {
          "output_type": "execute_result",
          "data": {
            "text/html": [
              "\n",
              "        <iframe\n",
              "            width=\"854\"\n",
              "            height=\"480\"\n",
              "            src=\"https://www.youtube.com/embed/6x0pC0ilZL8?fs=1\"\n",
              "            frameborder=\"0\"\n",
              "            allowfullscreen\n",
              "        ></iframe>\n",
              "        "
            ],
            "text/plain": [
              "<IPython.lib.display.YouTubeVideo at 0x7f598cc9b710>"
            ],
            "image/jpeg": "[encoded data removed]"
          },
          "metadata": {
            "tags": []
          },
          "execution_count": 10
        }
      ]
    },
    {
      "cell_type": "markdown",
      "metadata": {
        "id": "NubY-mCqoMmC"
      },
      "source": [
        "## Section 2.1: DL Invariances"
      ]
    },
    {
      "cell_type": "markdown",
      "metadata": {
        "id": "x5vB5h-o_nFi"
      },
      "source": [
        "Increasingly, we have incorporated different types of invariances into deep learning model architectures to help them generalize across different situations and make them more scalable. Here are some examples of invariances used by deep learning models:\n",
        "\n",
        "*   **CNNs:** local feature detectors that assign higher correlation to pixels close in proximity (translational invariance)\n",
        "*   **RNNs**: local feature detectors that assign higher importance to events of the recent past over distant past (translational invariance)\n",
        "*   Laws of physics serving as parameter constraints (e.g. conservation of mass and energy)\n",
        "\n",
        "Pretraining also requires consistencies for similar types of inputs across domains. In the domains of vision and NLP, local feature detectors are expected to be relevant for different images or texts even if a model has not encountered them in training due to the assumption that future input images or texts will likely share similar features with the training examples."
      ]
    },
    {
      "cell_type": "markdown",
      "metadata": {
        "id": "6Fl7v_8yF9sP"
      },
      "source": [
        "List five examples of invariances used in deep learning:\n"
      ]
    },
    {
      "cell_type": "code",
      "metadata": {
        "cellView": "form",
        "id": "W_auK1ODF9sh"
      },
      "source": [
        "invariance_examples = 'Rotational invariances in different dimensions, translational invariance, scale and color invariance.' #@param {type:\"string\"}"
      ],
      "execution_count": 11,
      "outputs": []
    },
    {
      "cell_type": "markdown",
      "metadata": {
        "id": "XgEomACNoiTk"
      },
      "source": [
        "## Section 2.2: Capsules"
      ]
    },
    {
      "cell_type": "markdown",
      "metadata": {
        "id": "LtViSaFFEw0i"
      },
      "source": [
        "Another type of construct often used in deep learning are capsules. Capsules mainly rely on equivariance, which is a property which results in the output undergoing an identical transformation to any applied to the input. This is in contrast to invariance, which results in no changes to output even with transformations in input. For images, equivariance means that any change in viewpoint of an image will result in nonlinear changes to pixels and linear changes to observed sub-objects (e.g. facial features like the nose, mouth, and eyes).\n",
        "\n",
        "Using equivariance, capsules learn to recognize individual sub-objects over a limited set of viewing conditions and image deformations. Deep learning models often use series of capsules, each acting as a module focusing on a specific sub-object of an entity. Each capsule outputs the probability that its associated sub-object is present in the image. It also outputs information about the sub-object's characteristics (e.g. pose, lighting, orientation), providing a canonical representation of the sub-object.  \n",
        "\n",
        "Taken together, these capsules are analogous to the convolution filters of CNNs in function, but are smarter and more complex in the extraction of information from features. Compared to simple filters, capsules work in series to incorporate multiple sources of quasi-independent or independent information together to derive a more sophisticated understanding of what they represent as a whole."
      ]
    },
    {
      "cell_type": "markdown",
      "metadata": {
        "id": "vtVS1z1VhhMH"
      },
      "source": [
        "*Estimated time: 65 minutes since start*"
      ]
    },
    {
      "cell_type": "markdown",
      "metadata": {
        "id": "DIhJPnGqjUJs"
      },
      "source": [
        "---\n",
        "# Section 3: Discrete vs. Continuous"
      ]
    },
    {
      "cell_type": "code",
      "metadata": {
        "id": "IMTUSfDYEhYx",
        "cellView": "form",
        "colab": {
          "base_uri": "https://localhost:8080/",
          "height": 518
        },
        "outputId": "0a374cf9-9df4-4cf6-feb3-e3d4f7b42ec1"
      },
      "source": [
        "#@title Video: Discrete vs Continuous\n",
        "\n",
        "try: t3;\n",
        "except NameError: t3=time.time()\n",
        "\n",
        "from IPython.display import YouTubeVideo\n",
        "video = YouTubeVideo(id=\"mtaNvwl5CiA\", width=854, height=480, fs=1)\n",
        "print(\"Video available at https://youtube.com/watch?v=\" + video.id)\n",
        "\n",
        "video"
      ],
      "execution_count": 12,
      "outputs": [
        {
          "output_type": "stream",
          "text": [
            "Video available at https://youtube.com/watch?v=mtaNvwl5CiA\n"
          ],
          "name": "stdout"
        },
        {
          "output_type": "execute_result",
          "data": {
            "text/html": [
              "\n",
              "        <iframe\n",
              "            width=\"854\"\n",
              "            height=\"480\"\n",
              "            src=\"https://www.youtube.com/embed/mtaNvwl5CiA?fs=1\"\n",
              "            frameborder=\"0\"\n",
              "            allowfullscreen\n",
              "        ></iframe>\n",
              "        "
            ],
            "text/plain": [
              "<IPython.lib.display.YouTubeVideo at 0x7f598c830ed0>"
            ],
            "image/jpeg": "[encoded data removed]"
          },
          "metadata": {
            "tags": []
          },
          "execution_count": 12
        }
      ]
    },
    {
      "cell_type": "markdown",
      "metadata": {
        "id": "uGO5-zhapGH0"
      },
      "source": [
        "## Section 3.1: Continuous Modeling and Discrete Optimization"
      ]
    },
    {
      "cell_type": "markdown",
      "metadata": {
        "id": "-cE7PFmmiNXT"
      },
      "source": [
        "As we have observed with neural networks and similar models, one of the most central features of deep learning is the use of differentiable equations and gradient descent to approximate the world with discrete elements. \n",
        "\n",
        "Neural networks are used to approximate discrete functions to perform a variety of tasks in deep learning, from vision to NLP applications. Conceptually, discrete optimization is NP-hard. With the use of gradient descent, neural networks are able to derive approximations to most of these discrete problems. However, since gradient descent as a technique can only provide at best imperfect approximations, there are some problems that cannot be reliably solved with such methods.\n",
        "\n",
        "As a result of these shortcomings, much research has focused on continuous modeling methods. Such approaches rely on essentially gluing in discrete, symbolic representations of the world. They aim to emulate the human brain's ability to approximate discrete functions using purely continuous neural units, allowing for sparsity at the conceptual level.\n",
        "\n",
        "One of the most recent attempts at building a continuous model uses CLEVRER, a system that generates synthetic movies of different objects in motion relative to each other. These movies are then converted into sequences of images that are shown to a model, which is given a set of conceptual questions to answer based on the image sequence."
      ]
    },
    {
      "cell_type": "markdown",
      "metadata": {
        "id": "P5ljDZCgGeB9"
      },
      "source": [
        "Machine translation was, until fairly recently, done using parsing with large numbers of (probabilistic) rules. It is now virtually all done using transformers. Why do you think deep learning might be more accurate than a rule-based system?\n"
      ]
    },
    {
      "cell_type": "code",
      "metadata": {
        "cellView": "form",
        "id": "vXyaKc1TGeCL"
      },
      "source": [
        "why_no_rules = \"A rule-based system is only as good as the rules themselves are. DL by contrast also extracts the rules but does so implicitly and therefore generalizes better. Additionally, if two languages don't share rules, it is probably difficult to translate between them, a constraint that DL does not share.\" #@param {type:\"string\"}"
      ],
      "execution_count": 13,
      "outputs": []
    },
    {
      "cell_type": "markdown",
      "metadata": {
        "id": "_4YH_dtnpNIj"
      },
      "source": [
        "## Section 3.2: Neurosymbolic Reasoning and Programming"
      ]
    },
    {
      "cell_type": "markdown",
      "metadata": {
        "id": "VhAFlrIWsol1"
      },
      "source": [
        "Conventional neural networks are able to answer certain types of questions posed by systems like CLEVRER reasonably well. However, there are other types of questions which neural networks are not as well equipped to handle reliably, such as counterfactual questions. To help models answer these kinds of questions, one can incorporate neurosymbolic reasoning into their architecture.\n",
        "\n",
        "Neurosymbolic reasoning focuses on having a model learn mappings from images to descriptions via a discrete\n",
        "representation of objects with features and relationships. Essentially, the main idea is to form a deep learning model able to map an image input to a discrete representation that is learned from attributes of objects and the relations between them rather than a representation built into the architecture.\n"
      ]
    },
    {
      "cell_type": "markdown",
      "metadata": {
        "id": "y_IfNXn1Gegs"
      },
      "source": [
        "What might neuro-symbolic systems be able to learn with less data and generalize better? Discuss in the context of an AI system that takes in a list of parts for building a device (nuts, bolts, motors, servos, batteries, etc.) and tells you what it might be missing."
      ]
    },
    {
      "cell_type": "code",
      "metadata": {
        "cellView": "form",
        "id": "_RP_-yFgGegt"
      },
      "source": [
        "neurosymbolic_learning = \"Perhaps I am thinking about this incorrectly but it seems like the goal of neurosymbolic reasoning is to build networks of features for a given input. For instance, given a device, we are interested in building a feature network that has edges between different attributes such as hardness, electronic-ness, weight and so on. For an input image with one of the device's components missing, we can build a similar feature map and identify deficiencies in edge strengths relative to what the full device's network ought to look like. If the deficiencies indicate that something hard and electronic is missing, we could fill that gap by reasoning what the missing object is.\" #@param {type:\"string\"}"
      ],
      "execution_count": 14,
      "outputs": []
    },
    {
      "cell_type": "markdown",
      "metadata": {
        "id": "aF1Xa6LFhmVH"
      },
      "source": [
        "*Estimated time: 85 minutes since start*"
      ]
    },
    {
      "cell_type": "markdown",
      "metadata": {
        "id": "mNMG4v49lBCZ"
      },
      "source": [
        "---\n",
        "# Section 4: Importance of Causality"
      ]
    },
    {
      "cell_type": "code",
      "metadata": {
        "id": "4QJmbUrtICWJ",
        "cellView": "form",
        "colab": {
          "base_uri": "https://localhost:8080/",
          "height": 518
        },
        "outputId": "80c22c52-04b6-4a91-89a9-2c32a812e27c"
      },
      "source": [
        "#@title Video: Correlation\n",
        "\n",
        "try: t4;\n",
        "except NameError: t4=time.time()\n",
        "\n",
        "from IPython.display import YouTubeVideo\n",
        "video = YouTubeVideo(id=\"7PGbmQYqxMg\", width=854, height=480, fs=1)\n",
        "print(\"Video available at https://youtube.com/watch?v=\" + video.id)\n",
        "\n",
        "video"
      ],
      "execution_count": 15,
      "outputs": [
        {
          "output_type": "stream",
          "text": [
            "Video available at https://youtube.com/watch?v=7PGbmQYqxMg\n"
          ],
          "name": "stdout"
        },
        {
          "output_type": "execute_result",
          "data": {
            "text/html": [
              "\n",
              "        <iframe\n",
              "            width=\"854\"\n",
              "            height=\"480\"\n",
              "            src=\"https://www.youtube.com/embed/7PGbmQYqxMg?fs=1\"\n",
              "            frameborder=\"0\"\n",
              "            allowfullscreen\n",
              "        ></iframe>\n",
              "        "
            ],
            "text/plain": [
              "<IPython.lib.display.YouTubeVideo at 0x7f598ccbf8d0>"
            ],
            "image/jpeg": "[encoded data removed]"
          },
          "metadata": {
            "tags": []
          },
          "execution_count": 15
        }
      ]
    },
    {
      "cell_type": "markdown",
      "metadata": {
        "id": "Nkttl-dQpu1p"
      },
      "source": [
        "## Section 4.1: Generalization and Taking Actions"
      ]
    },
    {
      "cell_type": "markdown",
      "metadata": {
        "id": "QqYAhZT02Au_"
      },
      "source": [
        "From our discussion on building continuous models able to handle counterfactual questions (i.e. \"What would happen if ...\"?) rather than just simply making predictions, we began to touch upon the idea of causality. \n",
        "\n",
        "In the context of deep learning, causality is a desirable trait that allows models to generalize better. In other words, causal models are not as susceptible to changes in dataset correlations as they are able to detect underlying fundamental factors or patterns. Causal models also support action selection, allowing models to answer hypothetical questions with more certainty.\n",
        "\n",
        "It is important to note correlation is not the same as causality in most real-world situations. Beyond reinforcement learning, which deals with correlation and causality through the learning of actions, most deep learning models find it difficult to derive causality from observations alone. Generally, the more modular a system is, the more likely it is to capture causality."
      ]
    },
    {
      "cell_type": "markdown",
      "metadata": {
        "id": "EFUySv6oG1A4"
      },
      "source": [
        "Why are modular systems more likely to capture causality?\n"
      ]
    },
    {
      "cell_type": "code",
      "metadata": {
        "cellView": "form",
        "id": "u6M3cCG9G1A4"
      },
      "source": [
        "modular_causality = \"Again, I am not confident I've understood this very well but it seems like modular systems solve different components of a problem independently and try to piece together their individual insights to solve the larger problem as a whole. As a result, each module is forced to make inferences on a smaller scale such that each subsequent module makes better inferences towards the greater goal. The result of this process is that the earlier modules do not have access to the gradient information at the output and therefore cannot capture correlations alone. They must learn something that helps their successor module, and it is likely that this process makes them more causal.\" #@param {type:\"string\"}"
      ],
      "execution_count": 16,
      "outputs": []
    },
    {
      "cell_type": "markdown",
      "metadata": {
        "id": "U8A5pZiTqK1s"
      },
      "source": [
        "## Section 4.2: Recurrent Independent Mechanisms"
      ]
    },
    {
      "cell_type": "markdown",
      "metadata": {
        "id": "IXNADJReJlbY"
      },
      "source": [
        "We have gotten a glimpse at how causal models work in the real world as well as the challenges associated with creating them. One final note we should consider is that causal models often reside in the discrete space. This means they are defined by symbolic representations, dealing with physical objects rather than image objects. To effectively learn causal models which can generalize well without relatively little training data, we would need to move away toward this sparse, symbolic space.\n",
        "\n",
        "One approach that aims to emulate this process is Recurrent Independent Mechanisms, which focuses on embedding modularity into deep learning systems. Given a neural network that takes in a sequence of visual observations about the world and generates a set of hidden states, this approach will periodically initiate sparse communication via an attention mechanism. This attention mechanism is configured such that every time it activates, only a small number of hidden state modules are passed to the input for the next time step. \n",
        "\n",
        "The overall approach behaves as a particular type of recurrent neural network where in place of full connectivity, a degree of sparsity is embedded into the architecture. This sparsity is what allows the resulting model to generalize better than non-causal models. "
      ]
    },
    {
      "cell_type": "markdown",
      "metadata": {
        "id": "jezBNEMJHAUs"
      },
      "source": [
        "What is the likely “signature” of a simulation for CLEVRER? What does it and does it not produce?\n"
      ]
    },
    {
      "cell_type": "code",
      "metadata": {
        "cellView": "form",
        "id": "MqWmLkQNHAUs"
      },
      "source": [
        "simulation_signature = 'A CLEVRER simulation is noise-free and does not produce realistic interactions. The simulations are likely highly stylized and depend on the underlying pre-specified physics of the environment.' #@param {type:\"string\"}"
      ],
      "execution_count": 17,
      "outputs": []
    },
    {
      "cell_type": "markdown",
      "metadata": {
        "id": "9Pir1pyDGyvh"
      },
      "source": [
        "Why does the CLEVRER system build a model and run simulations instead of using the more standard deep learning structure mapping from observation to label or to future observation or from observation to action?  "
      ]
    },
    {
      "cell_type": "code",
      "metadata": {
        "cellView": "form",
        "id": "i1LHyB8sGyvi"
      },
      "source": [
        "learning_simulations = 'The physics of simulations are noise-free and the goal of the system is to infer the physics from data. If this cannot be done in a noise-free environment, then it probably also cannot be done in noisy environments.' #@param {type:\"string\"}"
      ],
      "execution_count": 18,
      "outputs": []
    },
    {
      "cell_type": "markdown",
      "metadata": {
        "id": "PperXnBihq5d"
      },
      "source": [
        "*Estimated time: 105 minutes since start*"
      ]
    },
    {
      "cell_type": "markdown",
      "metadata": {
        "id": "VqnK4-3plBYc"
      },
      "source": [
        "---\n",
        "# Section 5: Self-Supervision, Continual Learning, and Curiosity"
      ]
    },
    {
      "cell_type": "code",
      "metadata": {
        "id": "WwR-vKoRIr5f",
        "cellView": "form",
        "colab": {
          "base_uri": "https://localhost:8080/",
          "height": 518
        },
        "outputId": "6c181170-8832-44fe-cf21-7e7445fd3da1"
      },
      "source": [
        "#@title Video: Self Supervision\n",
        "\n",
        "try: t5;\n",
        "except NameError: t5=time.time()\n",
        "\n",
        "video = YouTubeVideo(id=\"83xFxdzBMb8\", width=854, height=480, fs=1)\n",
        "print(\"Video available at https://youtube.com/watch?v=\" + video.id)\n",
        "\n",
        "video"
      ],
      "execution_count": 19,
      "outputs": [
        {
          "output_type": "stream",
          "text": [
            "Video available at https://youtube.com/watch?v=83xFxdzBMb8\n"
          ],
          "name": "stdout"
        },
        {
          "output_type": "execute_result",
          "data": {
            "text/html": [
              "\n",
              "        <iframe\n",
              "            width=\"854\"\n",
              "            height=\"480\"\n",
              "            src=\"https://www.youtube.com/embed/83xFxdzBMb8?fs=1\"\n",
              "            frameborder=\"0\"\n",
              "            allowfullscreen\n",
              "        ></iframe>\n",
              "        "
            ],
            "text/plain": [
              "<IPython.lib.display.YouTubeVideo at 0x7f598ccbfa50>"
            ],
            "image/jpeg": "[encoded data removed]"
          },
          "metadata": {
            "tags": []
          },
          "execution_count": 19
        }
      ]
    },
    {
      "cell_type": "markdown",
      "metadata": {
        "id": "IVd5-BCYqnvF"
      },
      "source": [
        "## Section 5.1: Self-Supervision"
      ]
    },
    {
      "cell_type": "markdown",
      "metadata": {
        "id": "wmk9gYOZKquL"
      },
      "source": [
        "We have seen the use of invariances and integration of causality as strategies we can use to make better and smarter deep learning models for more generalized situations. Three additional methods can be considered for going beyond the supervised learning paradigm that defines most deep learning models: self-supervision, continual learning, and curiosity.\n",
        "\n",
        "We have seen self-supervision as a critical component for certain types of models used to learn feature detectors which are subsequently fine tuned with machine learning. For instance, self-supervision in autoencoders allows them to reconstruct input images with the addition of extra noise. Language models also use self-supervision to make predictions about future words given a sequence of words as input. Such examples demonstrate how we can still learn useful information from large datasets even with no labels, which we then generalize to labeled datasets."
      ]
    },
    {
      "cell_type": "markdown",
      "metadata": {
        "id": "TnK33s6fqz0d"
      },
      "source": [
        "## Section 5.2: Continual Learning"
      ]
    },
    {
      "cell_type": "markdown",
      "metadata": {
        "id": "Vbg86CUPNrt2"
      },
      "source": [
        "Another desirable characteristic for deep learning models is the ability to keep learning as they encounter increasing amounts of different problems. This is especially relevant for neural networks given that they tend to suffer from catastrophic forgetting, which means they forget the results of previous observations as newer observations come in. In gradient descent, neural networks are expected to forget the earliest training examples as optimization proceeds with incoming new observations.\n",
        "\n",
        "Continual learning aims to resolve this issue of neural networks through several techniques. One potential strategy involves adding increasingly more neurons as a model learns. The new neurons will be paired with newer examples, while older neurons are still kept to retain information learned from previous examples. Another strategy involves specialized regularization designed to prevent too much change from occurring in the weights of the model. Soft penalty schemes like Learning without Forgetting (LwF) and elastic weight consolidation (EWC) focus on the adjustment of weights in such a manner that previous examples are not forgotten. \n",
        "\n",
        "Other techniques involve the reintroduction of previous examples into training together with newer examples. Generative replay has the model retain previously acquired knowledge via concurrent replay of artificially generated data meant to resemble previous training examples. Similar methods will pull in previous examples and intersperse them with newer examples as training progresses. Curriculum learning describes a framework in which a model first starts out training on easy examples of a task and then gradually move onto examples of increasing task difficulty. This takes advantage of previous examples by iteratively training on parts of a dataset in stages, building upon previous knowledge."
      ]
    },
    {
      "cell_type": "markdown",
      "metadata": {
        "id": "M34zURwnq2W_"
      },
      "source": [
        "## Section 5.3: Curiosity"
      ]
    },
    {
      "cell_type": "markdown",
      "metadata": {
        "id": "Ko9YC1v3Toff"
      },
      "source": [
        "Despite the attempts at reasoning and understanding that self-supervision and continual learning embody, these techniques alone are often not enough if want deep learning models to convincingly mimic the thought processes and behavior of human beings. Unlike humans, most deep learning models do not incorporate exploration and reasoning into their learning processes.\n",
        "\n",
        "This has led to the research question of asking what can be done to make AI and deep learning models more curious in learning more about the world around them by exploring. Reinforcement learning systems incorporate exploration with the use of reward functions designed to motivate them to move to a state or take an action which is surprising or unexpected. Combined with a usual reward function, these specialized reward functions are meant to encourage exploration by the RL system in addition to exploitation.\n",
        "\n",
        "Additional strategies have tried adding onto this idea of exploration. Such methods include the use of episodic memory to have RL systems remember what has been seen before and reward functions which encourage RL systems to discover novel environments. These are meant to help RL systems not only take into account rules and constraints but also previous observations when making decisions."
      ]
    },
    {
      "cell_type": "markdown",
      "metadata": {
        "id": "XBpRge20HJZm"
      },
      "source": [
        "Children spend a vast amount of time “playing” -- just picking things up and putting them in their mouths. What might they be learning?\n"
      ]
    },
    {
      "cell_type": "code",
      "metadata": {
        "cellView": "form",
        "id": "dVF8vn-lHJZm"
      },
      "source": [
        "children_learning = 'Children are probably learning relations between objects when they put everything in their mouths. For instance, they might try eating sponge because it is soft like bread is. They then find that sponge may be soft and bread-like in that sense but it is has no taste like bread does. In a feature network, there is no edge between bread and sponge along the edible dimension.' #@param {type:\"string\"}"
      ],
      "execution_count": 23,
      "outputs": []
    },
    {
      "cell_type": "markdown",
      "metadata": {
        "id": "nzYwETGLHJ3W"
      },
      "source": [
        "What would be a simple loss function that they (or a child-like robot) might be optimizing on?\n"
      ]
    },
    {
      "cell_type": "code",
      "metadata": {
        "cellView": "form",
        "id": "Ik8dWjisHJ3X"
      },
      "source": [
        "child_loss_function = \"A simple loss function might be the number of knowledge gaps that exist in a child's knowledge network. For instance, if a child has seen bread before and has not seen sponge before, it is likely based on first contact that sponge may appear to be bread. There is a knowledge gap that needs filling which can only be done by exploration such as an attempt at eating the sponge.\" #@param {type:\"string\"}"
      ],
      "execution_count": 20,
      "outputs": []
    },
    {
      "cell_type": "markdown",
      "metadata": {
        "id": "6EsNJ5OHh6ua"
      },
      "source": [
        "*Estimated time: 130 minutes since start*"
      ]
    },
    {
      "cell_type": "markdown",
      "metadata": {
        "id": "gbgTqgB5rH_W"
      },
      "source": [
        "---\n",
        "# Wrap up\n"
      ]
    },
    {
      "cell_type": "code",
      "metadata": {
        "id": "NJ61Rzja3QFR",
        "cellView": "form",
        "colab": {
          "base_uri": "https://localhost:8080/",
          "height": 518
        },
        "outputId": "7b15a1df-e092-4312-e316-aeca7af821f7"
      },
      "source": [
        "#@title Video: Conclusion\n",
        "\n",
        "try: t6;\n",
        "except NameError: t6=time.time()\n",
        "\n",
        "video = YouTubeVideo(id=\"CrA9z0mlmzU\", width=854, height=480, fs=1)\n",
        "print(\"Video available at https://youtube.com/watch?v=\" + video.id)\n",
        "\n",
        "video"
      ],
      "execution_count": 21,
      "outputs": [
        {
          "output_type": "stream",
          "text": [
            "Video available at https://youtube.com/watch?v=CrA9z0mlmzU\n"
          ],
          "name": "stdout"
        },
        {
          "output_type": "execute_result",
          "data": {
            "text/html": [
              "\n",
              "        <iframe\n",
              "            width=\"854\"\n",
              "            height=\"480\"\n",
              "            src=\"https://www.youtube.com/embed/CrA9z0mlmzU?fs=1\"\n",
              "            frameborder=\"0\"\n",
              "            allowfullscreen\n",
              "        ></iframe>\n",
              "        "
            ],
            "text/plain": [
              "<IPython.lib.display.YouTubeVideo at 0x7f598cce5610>"
            ],
            "image/jpeg": "[encoded data removed]"
          },
          "metadata": {
            "tags": []
          },
          "execution_count": 21
        }
      ]
    },
    {
      "cell_type": "code",
      "metadata": {
        "id": "98YXpSntrY6k",
        "cellView": "form",
        "colab": {
          "base_uri": "https://localhost:8080/",
          "height": 421
        },
        "outputId": "c8a8e299-bc6e-4e9e-ee70-0807a7c8338e"
      },
      "source": [
        "#@markdown #Run Cell to Show Airtable Form\n",
        "#@markdown ##**Confirm your answers and then click \"Submit\"**\n",
        "\n",
        "import time\n",
        "import numpy as np\n",
        "import urllib.parse\n",
        "from IPython.display import IFrame\n",
        "def prefill_form(src, fields: dict):\n",
        "  '''\n",
        "  src: the original src url to embed the form\n",
        "  fields: a dictionary of field:value pairs,\n",
        "  e.g. {\"pennkey\": my_pennkey, \"location\": my_location}\n",
        "  '''\n",
        "  prefill_fields = {}\n",
        "  for key in fields:\n",
        "      new_key = 'prefill_' + key\n",
        "      prefill_fields[new_key] = fields[key]\n",
        "  prefills = urllib.parse.urlencode(prefill_fields)\n",
        "  src = src + prefills\n",
        "  return src\n",
        "\n",
        "\n",
        "#autofill time if it is not present\n",
        "try: t0;\n",
        "except NameError: t0 = time.time()\n",
        "try: t1;\n",
        "except NameError: t1 = time.time()\n",
        "try: t2;\n",
        "except NameError: t2 = time.time()\n",
        "try: t3;\n",
        "except NameError: t3 = time.time()\n",
        "try: t4;\n",
        "except NameError: t4 = time.time()\n",
        "try: t5;\n",
        "except NameError: t5 = time.time()\n",
        "try: t6;\n",
        "except NameError: t6 = time.time()\n",
        "\n",
        "#autofill fields if they are not present\n",
        "#a missing pennkey and pod will result in an Airtable warning\n",
        "#which is easily fixed user-side.\n",
        "try: my_pennkey;\n",
        "except NameError: my_pennkey = \"\"\n",
        "try: my_pod;\n",
        "except NameError: my_pod = \"Select\"\n",
        "try: learning_from_the_course;\n",
        "except NameError: learning_from_the_course = \"\"\n",
        "try: deep_learning_limits;\n",
        "except NameError: deep_learning_limits = \"\"\n",
        "try: one_second_rule;\n",
        "except NameError: one_second_rule = \"\"\n",
        "try: invariance_examples;\n",
        "except NameError: invariance_examples = \"\"\n",
        "try: why_no_rules;\n",
        "except NameError: why_no_rules = \"\"\n",
        "try: neurosymbolic_learning;\n",
        "except NameError: neurosymbolic_learning = \"\"\n",
        "try: modular_causality;\n",
        "except NameError: modular_causality = \"\"\n",
        "try: simulation_signature;\n",
        "except NameError: simulation_signature = \"\"\n",
        "try: learning_simulations;\n",
        "except NameError: learning_simulations = \"\"\n",
        "try: children_learning;\n",
        "except NameError: children_learning = \"\"\n",
        "try: child_loss_function;\n",
        "except NameError: child_loss_function = \"\"\n",
        "\n",
        "times = np.array([t1,t2,t3,t4,t5,t6])-t0\n",
        "\n",
        "fields = {\n",
        "    \"pennkey\": my_pennkey,\n",
        "    \"pod\": my_pod,\n",
        "    \"learning_from_the_course\": learning_from_the_course,\n",
        "    \"deep_learning_limits\": deep_learning_limits,\n",
        "    \"one_second_rule\": one_second_rule,\n",
        "    \"invariance_examples\": invariance_examples,\n",
        "    \"why_no_rules\": why_no_rules,\n",
        "    \"neurosymbolic_learning\": neurosymbolic_learning,\n",
        "    \"modular_causality\": modular_causality,\n",
        "    \"simulation_signature\": simulation_signature,\n",
        "    \"learning_simulations\": learning_simulations,\n",
        "    \"children_learning\": children_learning,\n",
        "    \"child_loss_function\": child_loss_function,\n",
        "    \"cumulative_times\": times\n",
        "}\n",
        "\n",
        "src = \"https://airtable.com/embed/shr9LNO1GZueuR3U9?\"\n",
        "\n",
        "display(IFrame(src = prefill_form(src, fields), width = 800, height = 400))\n"
      ],
      "execution_count": 22,
      "outputs": [
        {
          "output_type": "display_data",
          "data": {
            "text/html": [
              "\n",
              "        <iframe\n",
              "            width=\"800\"\n",
              "            height=\"400\"\n",
              "            src=\"https://airtable.com/embed/shr9LNO1GZueuR3U9?prefill_pennkey=spatank&prefill_pod=sublime-newt&prefill_learning_from_the_course=We+were+introduced+to+DL+in+the+context+of+reinforcement+learning+where+we+saw+all+the+components+that+make+it+work+in+their+final+form.+The+next+few+weeks+were+devoted+to+individually+studying+the+components+from+this+first+week+including+ideas+such+as+automatic+differentiation+and+optimization%2C+and+regularization.+We+saw+how+neural+networks+can+be+used+to+learn+arbitrary+functions+including+really+difficult+operators+such+as+the+XOR+gate.+Then+we+stepped+into+discussing+the+applications+of+neural+networks+and+DL+such+as+convolutional+neural+networks+applied+to+classification+problems%2C+and+recurrent+neural+networks+for+natural+language+processing.+A+personally+important+week+covered+generative+methods+such+as+variational+autoencoders+and+generative+adversarial+networks.+We+ended+the+course+by+looking+at+the+application+of+DL+to+reinforcement+learning.&prefill_deep_learning_limits=One+of+the+areas+where+DL+performed+poorly+in+my+experience+was+the+week+when+we+examined+generative+models.+I+worked+with+the+CIFAR-10+data+set+and+the+latent+space+embeddings+for+that+data+were+really+poor.+Interpolating+between+two+vectors+in+the+latent+space+also+did+not+produce+decent+results.+Others+working+with+the+MNIST+data+set+had+more+luck.+I+think+this+issue+highlights+how+important+parameter+tuning+is+to+DL.+In+the+right+circumstances%2C+DL+is+wonderful+but+it+often+does+not+work+straight+out+of+the+bag+without+a+significant+grid+search+for+the+most+suitable+parameters%2C+a+process+that+can+be+excruciatingly+slow+and+tedious.&prefill_one_second_rule=I+am+very+intrigued+by+the+one-second+rule+now+that+it+has+been+pointed+out+to+me.+I+agree+broadly+that+DL+seems+to+succeed+at+these+quick+inference+tasks+very+well.+I+am+having+trouble+thinking+about+how+DL+could+be+tested+at+tasks+that+require+more+nuanced+inferencing.+Perhaps+the+fact+that+DL+cannot+be+easily+operationalized+for+complex+tasks+is+the+reason+why+the+one-second+rule+is+so+accurate.+That+said%2C+most+of+the+last+two+weeks+focussed+on+using+DL+for+reinforcement+learning+where+path+planning+and+trajectories+are+key.+These+are+a+string+of+short+decisions+stitched+together+arguably+forming+a+more+complex+inference+problem+than+can+be+explained+away+by+the+one-second+rule.&prefill_invariance_examples=Rotational+invariances+in+different+dimensions%2C+translational+invariance%2C+scale+and+color+invariance.&prefill_why_no_rules=A+rule-based+system+is+only+as+good+as+the+rules+themselves+are.+DL+by+contrast+also+extracts+the+rules+but+does+so+implicitly+and+therefore+generalizes+better.+Additionally%2C+if+two+languages+don%27t+share+rules%2C+it+is+probably+difficult+to+translate+between+them%2C+a+constraint+that+DL+does+not+share.&prefill_neurosymbolic_learning=Perhaps+I+am+thinking+about+this+incorrectly+but+it+seems+like+the+goal+of+neurosymbolic+reasoning+is+to+build+networks+of+features+for+a+given+input.+For+instance%2C+given+a+device%2C+we+are+interested+in+building+a+feature+network+that+has+edges+between+different+attributes+such+as+hardness%2C+electronic-ness%2C+weight+and+so+on.+For+an+input+image+with+one+of+the+device%27s+components+missing%2C+we+can+build+a+similar+feature+map+and+identify+deficiencies+in+edge+strengths+relative+to+what+the+full+device%27s+network+ought+to+look+like.+If+the+deficiencies+indicate+that+something+hard+and+electronic+is+missing%2C+we+could+fill+that+gap+by+reasoning+what+the+missing+object+is.&prefill_modular_causality=Again%2C+I+am+not+confident+I%27ve+understood+this+very+well+but+it+seems+like+modular+systems+solve+different+components+of+a+problem+independently+and+try+to+piece+together+their+individual+insights+to+solve+the+larger+problem+as+a+whole.+As+a+result%2C+each+module+is+forced+to+make+inferences+on+a+smaller+scale+such+that+each+subsequent+module+makes+better+inferences+towards+the+greater+goal.+The+result+of+this+process+is+that+the+earlier+modules+do+not+have+access+to+the+gradient+information+at+the+output+and+therefore+cannot+capture+correlations+alone.+They+must+learn+something+that+helps+their+successor+module%2C+and+it+is+likely+that+this+process+makes+them+more+causal.&prefill_simulation_signature=A+CLEVRER+simulation+is+noise-free+and+does+not+produce+realistic+interactions.+The+simulations+are+likely+highly+stylized+and+depend+on+the+underlying+pre-specified+physics+of+the+environment.&prefill_learning_simulations=The+physics+of+simulations+are+noise-free+and+the+goal+of+the+system+is+to+infer+the+physics+from+data.+If+this+cannot+be+done+in+a+noise-free+environment%2C+then+it+probably+also+cannot+be+done+in+noisy+environments.&prefill_children_learning=&prefill_child_loss_function=A+simple+loss+function+might+be+the+number+of+knowledge+gaps+that+exist+in+a+child%27s+knowledge+network.+For+instance%2C+if+a+child+has+seen+bread+before+and+has+not+seen+sponge+before%2C+it+is+likely+based+on+first+contact+that+sponge+may+appear+to+be+bread.+There+is+a+knowledge+gap+that+needs+filling+which+can+only+be+done+by+exploration+such+as+an+attempt+at+eating+the+sponge.&prefill_cumulative_times=%5B++10.7310431++1176.02563429+2857.01002526+4002.43391061+5313.82494831%0A+6863.58059359%5D\"\n",
              "            frameborder=\"0\"\n",
              "            allowfullscreen\n",
              "        ></iframe>\n",
              "        "
            ],
            "text/plain": [
              "<IPython.lib.display.IFrame at 0x7f598cce5b10>"
            ]
          },
          "metadata": {
            "tags": []
          }
        }
      ]
    },
    {
      "cell_type": "markdown",
      "metadata": {
        "id": "U8vMoA3JGqmW"
      },
      "source": [
        "## Feedback\n",
        "How could this session have been better? How happy are you in your group? How do you feel right now?\n",
        "\n",
        "Feel free to use the embeded form below or use this link:\n",
        "<a target=\"_blank\" rel=\"noopener noreferrer\" href=\"https://airtable.com/shrNSJ5ECXhNhsYss\">https://airtable.com/shrNSJ5ECXhNhsYss</a>"
      ]
    },
    {
      "cell_type": "code",
      "metadata": {
        "id": "a7xLwg7OGrIe"
      },
      "source": [
        "display(IFrame(src=\"https://airtable.com/embed/shrNSJ5ECXhNhsYss?backgroundColor=red\", width = 800, height = 400))"
      ],
      "execution_count": null,
      "outputs": []
    }
  ]
}