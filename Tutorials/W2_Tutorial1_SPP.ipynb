{
 "cells": [
  {
   "cell_type": "markdown",
   "metadata": {
    "colab_type": "text",
    "id": "view-in-github"
   },
   "source": [
    "<a href=\"https://colab.research.google.com/github/spatank/CIS-522/blob/main/W2_Tutorial1_SPP.ipynb\" target=\"_parent\"><img src=\"https://colab.research.google.com/assets/colab-badge.svg\" alt=\"Open In Colab\"/></a>"
   ]
  },
  {
   "cell_type": "markdown",
   "metadata": {
    "id": "ML2DwqwkVwfo"
   },
   "source": [
    "# CIS-522 Week 2 Part 1\n",
    "# PyTorch\n",
    "\n",
    "__Instructor:__ Konrad Kording\n",
    "\n",
    "__Content creators:__ Ameet Rahane, Spiros Chavlis"
   ]
  },
  {
   "cell_type": "markdown",
   "metadata": {
    "id": "exeRQO8LnRZB"
   },
   "source": [
    "---\n",
    "# Today's agenda\n",
    "In the first tutorial of Week 2, we are going to learn about PyTorch. As a case study, we will use a simple linear regression model. Today we will:\n",
    "\n",
    "1. Learn about PyTorch and how to use it\n",
    "2. Familiarize yourselves with the concept of auto differentiation\n",
    "3. Implement from scratch a function for linear regression\n",
    "4. Check the results with an analytical solution\n",
    "\n",
    "But before we start, let's do a recap of what we have learned in the previous week."
   ]
  },
  {
   "cell_type": "markdown",
   "metadata": {
    "id": "Y_mmmZQ0TIBi"
   },
   "source": [
    "---\n",
    "# Recap the experience from last week"
   ]
  },
  {
   "cell_type": "code",
   "execution_count": 147,
   "metadata": {
    "cellView": "form",
    "colab": {
     "base_uri": "https://localhost:8080/",
     "height": 518
    },
    "id": "xRPk6HG-Rj5N",
    "outputId": "8fee3f41-a24c-4d93-a18b-119f9bb018b8"
   },
   "outputs": [
    {
     "name": "stdout",
     "output_type": "stream",
     "text": [
      "Video available at https://youtube.com/watch?v=3EuhRYr9uf8\n"
     ]
    },
    {
     "data": {
      "image/jpeg": "[encoded data removed]",
      "text/html": [
       "\n",
       "        <iframe\n",
       "            width=\"854\"\n",
       "            height=\"480\"\n",
       "            src=\"https://www.youtube.com/embed/3EuhRYr9uf8?fs=1\"\n",
       "            frameborder=\"0\"\n",
       "            allowfullscreen\n",
       "        ></iframe>\n",
       "        "
      ],
      "text/plain": [
       "<IPython.lib.display.YouTubeVideo at 0x7fec80020e48>"
      ]
     },
     "execution_count": 147,
     "metadata": {
      "tags": []
     },
     "output_type": "execute_result"
    }
   ],
   "source": [
    "#@title Video: Recap of Week 1\n",
    "import time\n",
    "try: t0;\n",
    "except NameError: t0=time.time()\n",
    "\n",
    "from IPython.display import YouTubeVideo\n",
    "video = YouTubeVideo(id=\"3EuhRYr9uf8\", width=854, height=480, fs=1)\n",
    "print(\"Video available at https://youtube.com/watch?v=\" + video.id)\n",
    "\n",
    "video"
   ]
  },
  {
   "cell_type": "code",
   "execution_count": 148,
   "metadata": {
    "cellView": "form",
    "id": "uiN7yWdPSiCH"
   },
   "outputs": [],
   "source": [
    "#@markdown What is your Pennkey and pod? (text, not numbers, e.g. bfranklin)\n",
    "my_pennkey = 'spatank' #@param {type:\"string\"}\n",
    "my_pod = 'sublime-newt' #@param ['Select', 'euclidean-wombat', 'sublime-newt', 'buoyant-unicorn', 'lackadaisical-manatee','indelible-stingray','superfluous-lyrebird','discreet-reindeer','quizzical-goldfish','astute-jellyfish','ubiquitous-cheetah','nonchalant-crocodile','fashionable-lemur','spiffy-eagle','electric-emu','quotidian-lion']\n"
   ]
  },
  {
   "cell_type": "markdown",
   "metadata": {
    "id": "q1qjVNRuTji2"
   },
   "source": [
    "Meet with your pod for 10 minutes to discuss what you learned, what was clear, and what you hope to learn more about."
   ]
  },
  {
   "cell_type": "code",
   "execution_count": 149,
   "metadata": {
    "cellView": "form",
    "id": "BHR0gq1VThDc"
   },
   "outputs": [],
   "source": [
    "#@markdown Spend 3 minutes telling us on Airtable what the upshot of this discussion is for you.\n",
    "my_w1_upshot = 'It is reassuring to know that the first week was a lot for other people as well. I was kind of worried that I might be under-prepared for the class because of how fast-paced it already seemed. It is good to know that this was by design on the part of the instructors. ' #@param {type:\"string\"}\n"
   ]
  },
  {
   "cell_type": "markdown",
   "metadata": {
    "id": "NKcmeRmaRatr"
   },
   "source": [
    "## What do you hope to learn more about this week"
   ]
  },
  {
   "cell_type": "code",
   "execution_count": 150,
   "metadata": {
    "cellView": "form",
    "colab": {
     "base_uri": "https://localhost:8080/",
     "height": 518
    },
    "id": "if_BkdUEVNLL",
    "outputId": "1bc26517-a575-43b8-f147-5cddca415a56"
   },
   "outputs": [
    {
     "name": "stdout",
     "output_type": "stream",
     "text": [
      "Video available at https://youtube.com/watch?v=rs7KaZw-vjU\n"
     ]
    },
    {
     "data": {
      "image/jpeg": "[encoded data removed]",
      "text/html": [
       "\n",
       "        <iframe\n",
       "            width=\"854\"\n",
       "            height=\"480\"\n",
       "            src=\"https://www.youtube.com/embed/rs7KaZw-vjU?fs=1\"\n",
       "            frameborder=\"0\"\n",
       "            allowfullscreen\n",
       "        ></iframe>\n",
       "        "
      ],
      "text/plain": [
       "<IPython.lib.display.YouTubeVideo at 0x7fec64ec6b38>"
      ]
     },
     "execution_count": 150,
     "metadata": {
      "tags": []
     },
     "output_type": "execute_result"
    }
   ],
   "source": [
    "#@title Video: Course Objectives and Short Term Plans\n",
    "\n",
    "video = YouTubeVideo(id=\"rs7KaZw-vjU\", width=854, height=480, fs=1)\n",
    "print(\"Video available at https://youtube.com/watch?v=\" + video.id)\n",
    "\n",
    "video"
   ]
  },
  {
   "cell_type": "markdown",
   "metadata": {
    "id": "hDpGNphFVWvU"
   },
   "source": [
    "We clearly can run code. But now we want to be good enough at this so that we can solve our own problems. And to do so, we need to understand this from the bottom up."
   ]
  },
  {
   "cell_type": "code",
   "execution_count": 151,
   "metadata": {
    "cellView": "form",
    "id": "izuu6SACVbcL"
   },
   "outputs": [],
   "source": [
    "#@markdown write 3 sentences on the main things they hope to get out of the course.\n",
    "my_expectations = \"I want to feel comfortable with the fundamental math behind deep learning. I want to be able to code up a deep learning system from scratch proficiently, and finally I'd like to learn more about the social science and biology applications of deep learning. \" #@param {type:\"string\"}\n"
   ]
  },
  {
   "cell_type": "markdown",
   "metadata": {
    "id": "5x61BA1qPubi"
   },
   "source": [
    "---\n",
    "# Setup"
   ]
  },
  {
   "cell_type": "code",
   "execution_count": 152,
   "metadata": {
    "id": "uw7q7Z_ZPt66"
   },
   "outputs": [],
   "source": [
    "# imports\n",
    "import numpy as np\n",
    "import random\n",
    "import matplotlib.pylab as plt\n",
    "import matplotlib as mpl\n",
    "import pandas as pd\n",
    "from tqdm.notebook import tqdm, trange\n",
    "\n",
    "import torch\n",
    "from torch.autograd import Variable\n",
    "import torch.nn as nn\n",
    "import torch.nn.functional as F\n",
    "import torch.optim as optim"
   ]
  },
  {
   "cell_type": "code",
   "execution_count": 153,
   "metadata": {
    "cellView": "form",
    "id": "LID483Ou-z53"
   },
   "outputs": [],
   "source": [
    "# @title Figure Settings\n",
    "%config InlineBackend.figure_format = 'retina'\n",
    "%matplotlib inline \n",
    "\n",
    "fig_w, fig_h = (8, 6)\n",
    "plt.rcParams.update({'figure.figsize': (fig_w, fig_h)})\n",
    "\n",
    "plt.style.use(\"https://raw.githubusercontent.com/NeuromatchAcademy/course-content/master/nma.mplstyle\")\n",
    "\n",
    "# plt.rcParams.update({\n",
    "#             \"text.usetex\": False,\n",
    "#             \"font.family\": \"serif\",\n",
    "#             \"font.serif\": [\"Palatino\"],\n",
    "#             \"font.size\": 18,\n",
    "#             })\n",
    "\n",
    "# mpl.rcParams['axes.spines.right'] = False\n",
    "# mpl.rcParams['axes.spines.top'] = False\n",
    "# mpl.rcParams['axes.linewidth'] = 2\n",
    "# mpl.rcParams['ytick.major.width'] = 2\n",
    "# mpl.rcParams['xtick.major.width'] = 2\n",
    "# mpl.rcParams['ytick.major.size'] = 7\n",
    "# mpl.rcParams['xtick.major.size'] = 7"
   ]
  },
  {
   "cell_type": "code",
   "execution_count": 154,
   "metadata": {
    "cellView": "form",
    "id": "A9dj2mri60tR"
   },
   "outputs": [],
   "source": [
    "#@title Helper functions\n",
    "\n",
    "def synthetic_dataset(w, b, num_examples=1000, sigma=0.01, seed=2021):\n",
    "  '''\n",
    "  Synthetic data generator in the form:\n",
    "      y = Xw + b + gaussian_noise(0, sigma).\n",
    "  \n",
    "  Parameters\n",
    "  ----------\n",
    "  w : torch.tensor\n",
    "      weights. The length of `w` denotes the number of independent variables\n",
    "  b : torch.tensor\n",
    "      bias (offset or intercept).\n",
    "  num_examples : INT, optional\n",
    "      DESCRIPTION. The default is 1000.\n",
    "  sigma : FLOAT, optional\n",
    "      Standard deviation of the Gaussian noise. The default is 0.01.\n",
    "  seed : INT, optional\n",
    "      Seed the RNG for reproducibility. The default is 2021.\n",
    "  \n",
    "  Returns\n",
    "  -------\n",
    "  X: torch.tensor\n",
    "      the independent variable(s).\n",
    "  y: torch.tensor\n",
    "      the dependent variable\n",
    "  \n",
    "  '''\n",
    "\n",
    "  torch.manual_seed(seed)\n",
    "\n",
    "  X = torch.normal(0, 1, (w.shape[0], num_examples))\n",
    "  y = torch.matmul(w.T, X) + b\n",
    "  # Add gaussian noise\n",
    "  y += torch.normal(0, sigma, y.shape)\n",
    "\n",
    "  return X, y.reshape((-1, 1))"
   ]
  },
  {
   "cell_type": "markdown",
   "metadata": {
    "id": "AeuJ4budZOas"
   },
   "source": [
    "---\n",
    "# Section 1: Intro to PyTorch"
   ]
  },
  {
   "cell_type": "code",
   "execution_count": 155,
   "metadata": {
    "cellView": "form",
    "colab": {
     "base_uri": "https://localhost:8080/",
     "height": 518
    },
    "id": "443l0KIXZNye",
    "outputId": "cabbd99a-ed96-4352-895d-4f2537511b17"
   },
   "outputs": [
    {
     "name": "stdout",
     "output_type": "stream",
     "text": [
      "Video available at https://youtube.com/watch?v=Murzk7_IAJA\n"
     ]
    },
    {
     "data": {
      "image/jpeg": "[encoded data removed]",
      "text/html": [
       "\n",
       "        <iframe\n",
       "            width=\"854\"\n",
       "            height=\"480\"\n",
       "            src=\"https://www.youtube.com/embed/Murzk7_IAJA?fs=1\"\n",
       "            frameborder=\"0\"\n",
       "            allowfullscreen\n",
       "        ></iframe>\n",
       "        "
      ],
      "text/plain": [
       "<IPython.lib.display.YouTubeVideo at 0x7fec64f75588>"
      ]
     },
     "execution_count": 155,
     "metadata": {
      "tags": []
     },
     "output_type": "execute_result"
    }
   ],
   "source": [
    "#@title Video: Pytorch is Great\n",
    "\n",
    "try: t1;\n",
    "except NameError: t1=time.time()\n",
    "\n",
    "video = YouTubeVideo(id=\"Murzk7_IAJA\", width=854, height=480, fs=1)\n",
    "print(\"Video available at https://youtube.com/watch?v=\" + video.id)\n",
    "\n",
    "video"
   ]
  },
  {
   "cell_type": "markdown",
   "metadata": {
    "id": "ijiuk5F6iKKo"
   },
   "source": [
    "## What is PyTorch?\n",
    "\n",
    "It’s a Python-based scientific computing package targeted at two sets of\n",
    "audiences:\n",
    "\n",
    "-  A replacement for NumPy to use the power of GPUs\n",
    "-  A deep learning platform that provides significant flexibility\n",
    "   and speed\n",
    "\n",
    "At its core, PyTorch provides a few key features:\n",
    "\n",
    "- A multidimensional [Tensor](https://pytorch.org/docs/stable/tensors.html) object, similar to [NumPy Array](https://numpy.org/doc/stable/reference/generated/numpy.ndarray.html) but with GPU acceleration.\n",
    "- An optimized **autograd** engine for automatically computing derivatives.\n",
    "- A clean, modular API for building and deploying **deep learning models**.\n",
    "\n",
    "You can find more information about PyTorch by following one of the [official tutorials](https://pytorch.org/tutorials/) or by [reading the documentation](https://pytorch.org/docs/1.1.0/).\n"
   ]
  },
  {
   "cell_type": "markdown",
   "metadata": {
    "id": "kqJZVXufNDea"
   },
   "source": [
    "## Section 1.1: Variable types in Pytorch\n",
    "\n",
    "`torch.Tensor` is the central class in Pytorch. `torch.Tensor` defines a multi-dimensional matrix containing elements of a single data type (e.g., 32-bit floating points, 8-bit integers, etc.). The different data types can be found [here](https://pytorch.org/docs/stable/tensors.html#:~:text=A%20torch.Tensor%20is%20a,CPU%20tensor). \n",
    "\n",
    "Mathematically, a tensor is an algebraic object that defines a multilinear relationship between objects in a vector space. \n",
    "\n",
    "By default, `torch.Tensor` creates a *FloatTensor*, or in simple words, a tensor of floats. We can either change the type of a `torch.Tensor` by calling `.type(dtype)` on the Tensor or specify the `dtype` in any function that outputs a tensor. Here are a few examples:"
   ]
  },
  {
   "cell_type": "markdown",
   "metadata": {
    "id": "MpsxP8JM3obx"
   },
   "source": [
    "### Exercise 1: PyTorch Tensors\n",
    "The following bite-sized exercises are rather a tutorial on the basics of PyTorch tensors. Since the solutions are already given, we encourage you to open the *Scratch code cell* from the `Edit` menu, explore each object and see their Docstring (e.g. `? torch.empty`)."
   ]
  },
  {
   "cell_type": "markdown",
   "metadata": {
    "id": "ER8WVp1RN360"
   },
   "source": [
    "**Construct / initialize an empty $5\\times3$ matrix:**"
   ]
  },
  {
   "cell_type": "code",
   "execution_count": 156,
   "metadata": {
    "colab": {
     "base_uri": "https://localhost:8080/"
    },
    "id": "6x5CgWo8N9w6",
    "outputId": "17fc297f-f23d-425f-a533-6404d479fbb7"
   },
   "outputs": [
    {
     "name": "stdout",
     "output_type": "stream",
     "text": [
      "tensor([[3.1660e-33, 0.0000e+00, 1.4013e-45],\n",
      "        [0.0000e+00, 0.0000e+00, 0.0000e+00],\n",
      "        [0.0000e+00, 0.0000e+00, 0.0000e+00],\n",
      "        [0.0000e+00, 0.0000e+00, 0.0000e+00],\n",
      "        [0.0000e+00, 0.0000e+00, 2.3510e-38]])\n"
     ]
    }
   ],
   "source": [
    "x = torch.empty(5, 3)\n",
    "print(x)"
   ]
  },
  {
   "cell_type": "markdown",
   "metadata": {
    "id": "DA4KKM_wpacE"
   },
   "source": [
    "As we have seen, even if we have defined an empty matrix, the matrix is not empty, rather it has very large or very low positive values. Why is this?\n",
    "\n",
    "According to PyTorch's documentation, `torch.empty` returns a tensor filled with *uninitialized data*. Once we call `torch.empty`, a block of memory is allocated according to the `size` (shape) of the tensor. By *uninitialized data*, it's meant that `torch.empty` would simply return the values in the memory block as is. These values could be default values or the values stored in those memory blocks as a result of some other operations used that part of the memory block before."
   ]
  },
  {
   "cell_type": "markdown",
   "metadata": {
    "id": "q9OuxfDWNu39"
   },
   "source": [
    "**Construct a randomly (Standard Normal) initialized matrix:**"
   ]
  },
  {
   "cell_type": "code",
   "execution_count": 157,
   "metadata": {
    "colab": {
     "base_uri": "https://localhost:8080/"
    },
    "id": "BlDi1qceN-Xp",
    "outputId": "4c0d36ab-a8a7-4f57-ba91-e1e3c80d5ca9"
   },
   "outputs": [
    {
     "name": "stdout",
     "output_type": "stream",
     "text": [
      "tensor([[0.4749, 0.7931, 0.6834],\n",
      "        [0.2690, 0.8801, 0.3959],\n",
      "        [0.1884, 0.3346, 0.1712],\n",
      "        [0.3603, 0.6813, 0.7850],\n",
      "        [0.8766, 0.5273, 0.5695]])\n"
     ]
    }
   ],
   "source": [
    "x = torch.rand(5, 3)\n",
    "print(x)"
   ]
  },
  {
   "cell_type": "markdown",
   "metadata": {
    "id": "CX7qZTC7ONVx"
   },
   "source": [
    "**Construct a matrix filled with zeros and of dtype long:**"
   ]
  },
  {
   "cell_type": "code",
   "execution_count": 158,
   "metadata": {
    "colab": {
     "base_uri": "https://localhost:8080/"
    },
    "id": "U2TljALNOOKj",
    "outputId": "837f890d-969e-4a33-eb93-bfcbed757eb1"
   },
   "outputs": [
    {
     "name": "stdout",
     "output_type": "stream",
     "text": [
      "tensor([[0, 0, 0],\n",
      "        [0, 0, 0],\n",
      "        [0, 0, 0],\n",
      "        [0, 0, 0],\n",
      "        [0, 0, 0]])\n"
     ]
    }
   ],
   "source": [
    "x = torch.zeros(5, 3, dtype=torch.long)\n",
    "print(x)"
   ]
  },
  {
   "cell_type": "markdown",
   "metadata": {
    "id": "grp5g18EOOoe"
   },
   "source": [
    "**Construct a tensor directly from a list:**"
   ]
  },
  {
   "cell_type": "code",
   "execution_count": 159,
   "metadata": {
    "colab": {
     "base_uri": "https://localhost:8080/"
    },
    "id": "eFXipaI9OPSU",
    "outputId": "2aacad84-36dd-4d09-a217-e441a8055d28"
   },
   "outputs": [
    {
     "name": "stdout",
     "output_type": "stream",
     "text": [
      "tensor([5.5000, 3.0000])\n"
     ]
    }
   ],
   "source": [
    "x = torch.tensor([5.5, 3])\n",
    "print(x)"
   ]
  },
  {
   "cell_type": "markdown",
   "metadata": {
    "id": "4MuHPXIDOkZd"
   },
   "source": [
    "**Construct a tensor-based on an existing tensor:**\n",
    "\n",
    "These methods will reuse properties of the input tensor, e.g., `dtype`, unless\n",
    "the user provides new values."
   ]
  },
  {
   "cell_type": "code",
   "execution_count": 160,
   "metadata": {
    "colab": {
     "base_uri": "https://localhost:8080/"
    },
    "id": "ZagQGOt7OmKt",
    "outputId": "ac206c82-8b64-484e-c826-327cc06f94e8"
   },
   "outputs": [
    {
     "name": "stdout",
     "output_type": "stream",
     "text": [
      "tensor([[1., 1., 1.],\n",
      "        [1., 1., 1.],\n",
      "        [1., 1., 1.],\n",
      "        [1., 1., 1.],\n",
      "        [1., 1., 1.]], dtype=torch.float64)\n",
      "tensor([[ 0.3065, -1.1239,  0.8677],\n",
      "        [-1.1395, -1.0767, -1.5730],\n",
      "        [ 1.9806, -1.5708,  0.0392],\n",
      "        [-0.6613, -0.1012,  0.0733],\n",
      "        [ 1.2772, -0.4890,  1.6097]])\n"
     ]
    }
   ],
   "source": [
    "x = x.new_ones(5, 3, dtype=torch.double)      # new_* methods take in sizes\n",
    "print(x)\n",
    "\n",
    "x = torch.randn_like(x, dtype=torch.float)    # override dtype!\n",
    "print(x)                                      # result has the same size"
   ]
  },
  {
   "cell_type": "markdown",
   "metadata": {
    "id": "VieCVYtfOuHW"
   },
   "source": [
    "Get its size. \n",
    "**Note**: torch.Size is a tuple, so it supports all tuple operations."
   ]
  },
  {
   "cell_type": "code",
   "execution_count": 161,
   "metadata": {
    "colab": {
     "base_uri": "https://localhost:8080/"
    },
    "id": "EY-lyf_hOvZQ",
    "outputId": "f3af2ee0-d33a-47b3-92dc-5de5aa6cf9ed"
   },
   "outputs": [
    {
     "name": "stdout",
     "output_type": "stream",
     "text": [
      "torch.Size([5, 3])\n"
     ]
    }
   ],
   "source": [
    "print(x.size())"
   ]
  },
  {
   "cell_type": "markdown",
   "metadata": {
    "id": "tCdLJ4gYQ6ah"
   },
   "source": [
    "**Declare the data type of tensors**\n",
    "\n",
    "A previous example shows that even though we initialized the Tensor with `[1, 2, 3]`, it created the Tensor `[1., 2., 3.]`, i.e., instead of integers, we get floats. Why is this?"
   ]
  },
  {
   "cell_type": "code",
   "execution_count": 162,
   "metadata": {
    "colab": {
     "base_uri": "https://localhost:8080/"
    },
    "id": "pJ1Za7MSQ9lo",
    "outputId": "663a5508-389e-44f9-a1dc-189a1ef90ecd"
   },
   "outputs": [
    {
     "data": {
      "text/plain": [
       "tensor([1, 2, 3], dtype=torch.int32)"
      ]
     },
     "execution_count": 162,
     "metadata": {
      "tags": []
     },
     "output_type": "execute_result"
    }
   ],
   "source": [
    "torch.Tensor([1.,2.,3.5]).type(torch.int32)"
   ]
  },
  {
   "cell_type": "markdown",
   "metadata": {
    "id": "1o-ox7FaQ-la"
   },
   "source": [
    "**Change the data type**\n",
    "\n",
    "Notice that inputting floats but casting to an integer caused our output Tensor to be different from the input altogether. Change the `dtype` to avoid this from happening."
   ]
  },
  {
   "cell_type": "code",
   "execution_count": 163,
   "metadata": {
    "colab": {
     "base_uri": "https://localhost:8080/"
    },
    "id": "ZuLVG60ARDcy",
    "outputId": "5839dbf7-263c-4dd0-dd9e-cf585f5f345d"
   },
   "outputs": [
    {
     "data": {
      "text/plain": [
       "tensor([1.0000, 2.0000, 3.5000], dtype=torch.float64)"
      ]
     },
     "execution_count": 163,
     "metadata": {
      "tags": []
     },
     "output_type": "execute_result"
    }
   ],
   "source": [
    "dtype = torch.float64\n",
    "\n",
    "torch.Tensor([1.,2.,3.5]).type(dtype)"
   ]
  },
  {
   "cell_type": "markdown",
   "metadata": {
    "id": "RAM0Tvq0QoP-"
   },
   "source": [
    "## Section 1.2: Operations\n",
    "There are multiple syntaxes for operations. In the following example, we will take a look at the addition operation.\n",
    "\n",
    "Addition: Syntax 1\n"
   ]
  },
  {
   "cell_type": "code",
   "execution_count": 164,
   "metadata": {
    "colab": {
     "base_uri": "https://localhost:8080/"
    },
    "id": "NbRcsar1QnpO",
    "outputId": "a86ea40f-7752-458c-f0d7-1aa16ed315de"
   },
   "outputs": [
    {
     "name": "stdout",
     "output_type": "stream",
     "text": [
      "tensor([[ 0.3294, -1.0575,  1.4797],\n",
      "        [-0.8657, -0.7362, -1.3924],\n",
      "        [ 2.8985, -1.0770,  0.7415],\n",
      "        [ 0.0283,  0.3076,  1.0636],\n",
      "        [ 1.7692, -0.4100,  1.6133]])\n"
     ]
    }
   ],
   "source": [
    "y = torch.rand(5, 3)\n",
    "print(x + y)"
   ]
  },
  {
   "cell_type": "markdown",
   "metadata": {
    "id": "jy4cbQ8fQj2c"
   },
   "source": [
    "Addition: Syntax 2"
   ]
  },
  {
   "cell_type": "code",
   "execution_count": 165,
   "metadata": {
    "colab": {
     "base_uri": "https://localhost:8080/"
    },
    "id": "hgj-fXAbQjRY",
    "outputId": "90ed7cc7-7e87-473b-eae9-b8c6f9d047c1"
   },
   "outputs": [
    {
     "name": "stdout",
     "output_type": "stream",
     "text": [
      "tensor([[ 0.3294, -1.0575,  1.4797],\n",
      "        [-0.8657, -0.7362, -1.3924],\n",
      "        [ 2.8985, -1.0770,  0.7415],\n",
      "        [ 0.0283,  0.3076,  1.0636],\n",
      "        [ 1.7692, -0.4100,  1.6133]])\n"
     ]
    }
   ],
   "source": [
    "print(torch.add(x, y))"
   ]
  },
  {
   "cell_type": "markdown",
   "metadata": {
    "id": "nMpkc6zXQSbv"
   },
   "source": [
    "Addition: Providing an output tensor as argument"
   ]
  },
  {
   "cell_type": "code",
   "execution_count": 166,
   "metadata": {
    "colab": {
     "base_uri": "https://localhost:8080/"
    },
    "id": "N10A9lKsQSIx",
    "outputId": "42bdecad-502a-4486-a7b8-07e3c247c8db"
   },
   "outputs": [
    {
     "name": "stdout",
     "output_type": "stream",
     "text": [
      "tensor([[ 0.3294, -1.0575,  1.4797],\n",
      "        [-0.8657, -0.7362, -1.3924],\n",
      "        [ 2.8985, -1.0770,  0.7415],\n",
      "        [ 0.0283,  0.3076,  1.0636],\n",
      "        [ 1.7692, -0.4100,  1.6133]])\n"
     ]
    }
   ],
   "source": [
    "result = torch.empty(5, 3)\n",
    "torch.add(x, y, out=result)\n",
    "print(result)"
   ]
  },
  {
   "cell_type": "markdown",
   "metadata": {
    "id": "Jxertbi7QRp8"
   },
   "source": [
    "Addition: In-place"
   ]
  },
  {
   "cell_type": "code",
   "execution_count": 167,
   "metadata": {
    "colab": {
     "base_uri": "https://localhost:8080/"
    },
    "id": "lYQrhyQdQQ9y",
    "outputId": "daee27c3-a9ff-43ff-d485-434c60553b2f"
   },
   "outputs": [
    {
     "name": "stdout",
     "output_type": "stream",
     "text": [
      "tensor([[ 0.3294, -1.0575,  1.4797],\n",
      "        [-0.8657, -0.7362, -1.3924],\n",
      "        [ 2.8985, -1.0770,  0.7415],\n",
      "        [ 0.0283,  0.3076,  1.0636],\n",
      "        [ 1.7692, -0.4100,  1.6133]])\n"
     ]
    }
   ],
   "source": [
    "# adds x to y\n",
    "y.add_(x) # the `_` sign at end means the operation mutates tensor y in-place\n",
    "print(y)"
   ]
  },
  {
   "cell_type": "markdown",
   "metadata": {
    "id": "UmX22pe2QK3Y"
   },
   "source": [
    "**Read later:**\n",
    "100+ Tensor operations, including transposing, indexing, slicing, mathematical operations, linear algebra, random numbers, etc., are described [here](http://pytorch.org/docs/torch).\n",
    "\n",
    "You can use standard NumPy-like indexing with all bells and whistles!"
   ]
  },
  {
   "cell_type": "code",
   "execution_count": 168,
   "metadata": {
    "colab": {
     "base_uri": "https://localhost:8080/"
    },
    "id": "6AaAqaC1QIx4",
    "outputId": "6b8c004e-dbc5-482a-da5e-d185c448e84b"
   },
   "outputs": [
    {
     "name": "stdout",
     "output_type": "stream",
     "text": [
      "tensor([-1.1239, -1.0767, -1.5708, -0.1012, -0.4890])\n"
     ]
    }
   ],
   "source": [
    "print(x[:, 1])"
   ]
  },
  {
   "cell_type": "markdown",
   "metadata": {
    "id": "u69MjkUHQGMo"
   },
   "source": [
    "If you want to resize/reshape a tensor, you can use ``torch.view``:"
   ]
  },
  {
   "cell_type": "code",
   "execution_count": 169,
   "metadata": {
    "colab": {
     "base_uri": "https://localhost:8080/"
    },
    "id": "yRbvEV0fQDq9",
    "outputId": "80f794a9-1e14-4ff7-9afc-b61160c2d32f"
   },
   "outputs": [
    {
     "name": "stdout",
     "output_type": "stream",
     "text": [
      "torch.Size([4, 4]) torch.Size([16]) torch.Size([2, 8])\n"
     ]
    }
   ],
   "source": [
    "x = torch.randn(4, 4)\n",
    "y = x.view(16)\n",
    "z = x.view(-1, 8)  # the size -1 is inferred from other dimensions\n",
    "print(x.size(), y.size(), z.size())"
   ]
  },
  {
   "cell_type": "markdown",
   "metadata": {
    "id": "EDnkuF1EQBMq"
   },
   "source": [
    "If you have a one element tensor, use `.item()` to get the value as a\n",
    "Python number:\n"
   ]
  },
  {
   "cell_type": "code",
   "execution_count": 170,
   "metadata": {
    "colab": {
     "base_uri": "https://localhost:8080/"
    },
    "id": "VEeLylCZQAbm",
    "outputId": "7936d54a-27b4-4b4a-c282-99015c039cff"
   },
   "outputs": [
    {
     "name": "stdout",
     "output_type": "stream",
     "text": [
      "tensor([1.1340])\n",
      "1.134012222290039\n"
     ]
    }
   ],
   "source": [
    "x = torch.randn(1)\n",
    "print(x)\n",
    "print(x.item())"
   ]
  },
  {
   "cell_type": "markdown",
   "metadata": {
    "id": "Ogdtq9efDzk9"
   },
   "source": [
    "## Exercise 2: Simple linear operations\n",
    "\n",
    "### Let's do a few quick refresher problems in linear algebra. Solve the following. \n",
    "\n",
    "$$ \\textbf{A} = \n",
    "\\begin{bmatrix}1 & 2 &4 \\\\5 & 5 & 7 \\\\ 10 & 15 & 1\n",
    "\\end{bmatrix} * \n",
    "\\begin{bmatrix}1 & 1 &1 \\\\2 & 2 & 3 \\\\ 2 & 3 & 4\n",
    "\\end{bmatrix} \n",
    " + \n",
    "\\begin{bmatrix}10 & 10 &10 \\\\20 & 12 & 1 \\\\ 12 & 32 & 4\n",
    "\\end{bmatrix} \n",
    "$$\n",
    "\n",
    "\n",
    "and\n",
    "\n",
    "\n",
    "$$ b = \n",
    "\\begin{bmatrix} 3 \\\\ 5 \\\\ 7\n",
    "\\end{bmatrix} \\cdot \n",
    "\\begin{bmatrix} 2 \\\\ 4 \\\\ 8\n",
    "\\end{bmatrix}\n",
    "$$\n",
    "\n",
    "Now, verify your results with PyTorch (or check your ability to solve by hand via PyTorch!!!)\n",
    "\n",
    "*Hint:* For matrix multiplication, you can either use `torch.dot`, `torch.matmul`, or `@`. Please explore all three approaches and find their differences."
   ]
  },
  {
   "cell_type": "code",
   "execution_count": 171,
   "metadata": {
    "colab": {
     "base_uri": "https://localhost:8080/"
    },
    "id": "lNfwLqxNED3g",
    "outputId": "900e0831-3253-4015-95ee-644c343c5112"
   },
   "outputs": [
    {
     "name": "stdout",
     "output_type": "stream",
     "text": [
      "tensor([[23, 27, 33],\n",
      "        [49, 48, 49],\n",
      "        [54, 75, 63]])\n",
      "tensor(82)\n"
     ]
    }
   ],
   "source": [
    "a1 = torch.tensor([[1, 2, 4], [5, 5, 7], [10, 15, 1]])\n",
    "a2 = torch.tensor([[1, 1, 1], [2, 2, 3], [2, 3, 4]])\n",
    "a3 = torch.tensor([[10, 10, 10], [20, 12, 1], [12, 32, 4]])\n",
    "A = (a1 @ a2) + a3\n",
    "print(A)\n",
    "b1 = torch.tensor([3, 5, 7])\n",
    "b2 = torch.tensor([2, 4, 8])\n",
    "b = torch.dot(b1, b2)\n",
    "print(b)"
   ]
  },
  {
   "cell_type": "markdown",
   "metadata": {
    "id": "MST7BU6t9CY4"
   },
   "source": [
    "[*Click for solution*](https://github.com/CIS-522/course-content/blob/main/tutorials/W2_PyTorchDLN/solutions/W2_Tutorial1_Solution_Ex02.py)\n",
    "\n",
    "*Example output:*  \n",
    "\n",
    "```python\n",
    "A = tensor([[23, 27, 33]\n",
    "            [49, 48, 49],\n",
    "            [54, 75, 63]])\n",
    "\n",
    "b = tensor([[82]]) # or b = tensor(82)\n",
    "```"
   ]
  },
  {
   "cell_type": "markdown",
   "metadata": {
    "id": "QFaKQpogP71M"
   },
   "source": [
    "## Section 1.3: NumPy Bridge\n",
    "\n",
    "Converting a Torch Tensor to a NumPy array and vice versa is a breeze.\n",
    "\n",
    "The Torch Tensor and NumPy array will share their underlying memory  \n",
    "locations, and changing one will change the other."
   ]
  },
  {
   "cell_type": "markdown",
   "metadata": {
    "id": "jUy5rVVtfToR"
   },
   "source": [
    "### Converting a PyTorch Tensor to a NumPy Array"
   ]
  },
  {
   "cell_type": "code",
   "execution_count": 172,
   "metadata": {
    "colab": {
     "base_uri": "https://localhost:8080/"
    },
    "id": "JpUmaqBeP5vS",
    "outputId": "974b349d-98a5-4d25-8f97-dbd1d2cca5e5"
   },
   "outputs": [
    {
     "name": "stdout",
     "output_type": "stream",
     "text": [
      "tensor([1., 1., 1., 1., 1.])\n",
      "[1. 1. 1. 1. 1.]\n"
     ]
    }
   ],
   "source": [
    "a = torch.ones(5)\n",
    "print(a)\n",
    "b = a.numpy()\n",
    "print(b)"
   ]
  },
  {
   "cell_type": "markdown",
   "metadata": {
    "id": "jFYzfr-QP181"
   },
   "source": [
    "See how the NumPy array changed in value."
   ]
  },
  {
   "cell_type": "code",
   "execution_count": 173,
   "metadata": {
    "colab": {
     "base_uri": "https://localhost:8080/"
    },
    "id": "UxF1BY7bP1Pb",
    "outputId": "e8b5b8f1-6901-4df6-8ede-f6b096bde117"
   },
   "outputs": [
    {
     "name": "stdout",
     "output_type": "stream",
     "text": [
      "tensor([2., 2., 2., 2., 2.])\n",
      "[2. 2. 2. 2. 2.]\n"
     ]
    }
   ],
   "source": [
    "a.add_(1)\n",
    "print(a)\n",
    "print(b)"
   ]
  },
  {
   "cell_type": "markdown",
   "metadata": {
    "id": "w13xrs4BPy3F"
   },
   "source": [
    "### Converting NumPy Array to Torch Tensor\n",
    "\n",
    "See how changing the NumPy array changed the Torch Tensor automatically:"
   ]
  },
  {
   "cell_type": "code",
   "execution_count": 174,
   "metadata": {
    "colab": {
     "base_uri": "https://localhost:8080/"
    },
    "id": "JrWzaQeVPu_M",
    "outputId": "7aa5f1e4-35f6-4dfa-a09d-5ba1ed20a91c"
   },
   "outputs": [
    {
     "name": "stdout",
     "output_type": "stream",
     "text": [
      "[2. 2. 2. 2. 2.]\n",
      "tensor([2., 2., 2., 2., 2.], dtype=torch.float64)\n"
     ]
    }
   ],
   "source": [
    "a = np.ones(5)\n",
    "b = torch.from_numpy(a)\n",
    "np.add(a, 1, out=a)\n",
    "print(a)\n",
    "print(b)"
   ]
  },
  {
   "cell_type": "markdown",
   "metadata": {
    "id": "0S4sTiyJPPQ9"
   },
   "source": [
    "As you may know, PyTorch is one of many popular deep learning frameworks for Python. Two honorable mentions are TensorFlow and JAX, both developed by Google but with different preferences in mind. Take 10 minutes to share your experience using a deep learning library (if any) in your group and discuss their significant differences and features. \n",
    "\n",
    "**Student response**: Would you prefer flexibility or performance when choosing a deep learning framework and why (feel free to mix and match)?"
   ]
  },
  {
   "cell_type": "code",
   "execution_count": 175,
   "metadata": {
    "cellView": "form",
    "id": "plfcWggTUmGw"
   },
   "outputs": [],
   "source": [
    "deep_learning_benchmark = \"In CIS 521 and CIS 530, we used PyTorch for a couple homework assignments. I don't have experience with any other packages, but personally I prefer ease of use over either flexibility or performance.\" #@param {type:\"string\"}"
   ]
  },
  {
   "cell_type": "markdown",
   "metadata": {
    "id": "GxW33SNOaimY"
   },
   "source": [
    "---\n",
    "# Section 2: Deep Learning and Gradients"
   ]
  },
  {
   "cell_type": "code",
   "execution_count": 176,
   "metadata": {
    "cellView": "form",
    "colab": {
     "base_uri": "https://localhost:8080/",
     "height": 518
    },
    "id": "AojN0T8iajXM",
    "outputId": "cbcad297-c6f6-4ce6-9c78-df78b3b5f581"
   },
   "outputs": [
    {
     "name": "stdout",
     "output_type": "stream",
     "text": [
      "Video available at https://youtube.com/watch?v=uyK1v8VIX4E\n"
     ]
    },
    {
     "data": {
      "image/jpeg": "[encoded data removed]",
      "text/html": [
       "\n",
       "        <iframe\n",
       "            width=\"854\"\n",
       "            height=\"480\"\n",
       "            src=\"https://www.youtube.com/embed/uyK1v8VIX4E?fs=1\"\n",
       "            frameborder=\"0\"\n",
       "            allowfullscreen\n",
       "        ></iframe>\n",
       "        "
      ],
      "text/plain": [
       "<IPython.lib.display.YouTubeVideo at 0x7fec64f60080>"
      ]
     },
     "execution_count": 176,
     "metadata": {
      "tags": []
     },
     "output_type": "execute_result"
    }
   ],
   "source": [
    "#@title Video: What is Deep Learning\n",
    "\n",
    "try: t2;\n",
    "except NameError: t2=time.time()\n",
    "\n",
    "video = YouTubeVideo(id=\"uyK1v8VIX4E\", width=854, height=480, fs=1)\n",
    "print(\"Video available at https://youtube.com/watch?v=\" + video.id)\n",
    "\n",
    "video"
   ]
  },
  {
   "cell_type": "markdown",
   "metadata": {
    "id": "5klLiRlTPkMD"
   },
   "source": [
    "## Why are Gradients important?\n",
    "\n",
    "The gradient vector can be interpreted as the \"direction and rate of fastest increase\". In deep learning, we will use the gradient to optimize all of the parameters in a model with respect to some loss function. The partial derivative defines the gradient:\n",
    "\n",
    "$$\\dfrac{\\partial loss}{\\partial x}$$ where $x$ is the parameter we're optimizing. \n",
    "\n",
    "So, what is a partial derivative? Looking back at single variable calculus, we know the ordinary derivative $\\dfrac{df}{dx}$. In this function, $df$ is interpreted as some small change in the output of $f$, and $dx$ is is interpreted a small change in $x$.\n",
    "\n",
    "However, if we have some multivariable function $f(x,y)$, $\\dfrac{df}{dx}$ doesn't show how the entire function changes, so we call it a partial derivative, and for the sake of clarity, we denote this as $\\dfrac{\\partial f}{\\partial x}$. When computing this partial derivative, we treat everything that's not what our partial derivative is with respect to as a constant. For example:\n",
    "\n",
    "Let's compute the partial derivative $\\dfrac{\\partial f}{\\partial x}$ of \n",
    "$$f(x,y) = x^2y^3$$. We treat $y$ as a constant while doing this, so this is as simple as invoking the exponent rule from single variable calculus:\n",
    "\n",
    "$$\\dfrac{\\partial f}{\\partial x} = 2xy^3$$"
   ]
  },
  {
   "cell_type": "markdown",
   "metadata": {
    "id": "VpFNj0_WwVfq"
   },
   "source": [
    "## Now, work out a few partial derivatives to get the hang of it\n",
    "\n",
    "#### Given $f(x,y) = x^2 - xy$, find \n",
    "\n",
    "\n",
    "1.   $\\frac{\\partial f}{\\partial x}$\n",
    "\n",
    "2.   $\\frac{\\partial f}{\\partial y}$\n",
    "\n",
    "#### Given $f(x, y, z) = x - xy + z^2$, find \n",
    "\n",
    "\n",
    "1.   $\\frac{\\partial f}{\\partial x}$\n",
    "\n",
    "2.   $\\frac{\\partial f}{\\partial y}$\n",
    "\n",
    "3.   $\\frac{\\partial f}{\\partial z}$\n",
    "\n",
    "\n",
    "#### Given $f(x, y) = x e^{-2y} + x^2y$, find the **second** derivatives\n",
    "\n",
    "1.   $\\frac{\\partial ^2f}{\\partial x^2}$\n",
    "\n",
    "2.   $\\frac{\\partial ^2f}{\\partial y^2}$\n",
    "\n",
    "3.   $\\frac{\\partial ^2f}{\\partial x \\partial y}$\n",
    "\n",
    "4.   $\\frac{\\partial ^2f}{\\partial y \\partial x}$\n",
    "\n",
    "\n",
    "\n",
    "\n"
   ]
  },
  {
   "cell_type": "markdown",
   "metadata": {
    "id": "DZzzMK8HXT8M"
   },
   "source": [
    "Although gradients are the core to many popular optimization approaches, there exist methods known as *derivative-free optimization* algorithms (Bayesian optimization, coordinate descent, and genetic algorithm, to name a few), which do not require gradient calculation.  \n",
    "Please take 10 minutes to discuss the problems that can be solved with derivative-free optimization algorithms and their limitations in your group.\n",
    "\n",
    "**Student response**: Have you ever used a derivative-free optimization algorithm? If yes, tell us which algorithm and what kind of problem.\n",
    "\n"
   ]
  },
  {
   "cell_type": "code",
   "execution_count": 177,
   "metadata": {
    "cellView": "form",
    "id": "p73IS79KZ2N3"
   },
   "outputs": [],
   "source": [
    "derivative_free_opt_alg = \"I've seen coordinate descent used in a variational inference problem. Instead of needing to compute derivatives, this approach solves multiple equations iteratively to arrive at the optimal parameter values. \" #@param {type:\"string\"}"
   ]
  },
  {
   "cell_type": "markdown",
   "metadata": {
    "id": "TArJrT4fd9gq"
   },
   "source": [
    "---\n",
    "# Section 3: Gradients in Pytorch (Autograd)"
   ]
  },
  {
   "cell_type": "code",
   "execution_count": 178,
   "metadata": {
    "cellView": "form",
    "colab": {
     "base_uri": "https://localhost:8080/",
     "height": 518
    },
    "id": "_d-S027hd-ZU",
    "outputId": "a03ecf14-6600-4df8-ba1d-e6fc25ef953d"
   },
   "outputs": [
    {
     "name": "stdout",
     "output_type": "stream",
     "text": [
      "Video available at https://youtube.com/watch?v=xBc95BB6Gwo\n"
     ]
    },
    {
     "data": {
      "image/jpeg": "[encoded data removed]",
      "text/html": [
       "\n",
       "        <iframe\n",
       "            width=\"854\"\n",
       "            height=\"480\"\n",
       "            src=\"https://www.youtube.com/embed/xBc95BB6Gwo?fs=1\"\n",
       "            frameborder=\"0\"\n",
       "            allowfullscreen\n",
       "        ></iframe>\n",
       "        "
      ],
      "text/plain": [
       "<IPython.lib.display.YouTubeVideo at 0x7fec64f60390>"
      ]
     },
     "execution_count": 178,
     "metadata": {
      "tags": []
     },
     "output_type": "execute_result"
    }
   ],
   "source": [
    "#@title Video: Automatic Differentiation\n",
    "\n",
    "try: t3;\n",
    "except NameError: t3=time.time()\n",
    "\n",
    "video = YouTubeVideo(id=\"xBc95BB6Gwo\", width=854, height=480, fs=1)\n",
    "print(\"Video available at https://youtube.com/watch?v=\" + video.id)\n",
    "\n",
    "video"
   ]
  },
  {
   "cell_type": "markdown",
   "metadata": {
    "id": "kZ6lNk_5b7sQ"
   },
   "source": [
    "## AutoGrad\n",
    "\n",
    "The ``autograd`` package provides automatic differentiation for all operations\n",
    "on Tensors. It is a *define-by-run* framework, which means that your backpropagation algorithm is defined by how your code is run and that every single iteration can be different.\n",
    "\n",
    "Let us see this in more simple terms with some examples."
   ]
  },
  {
   "cell_type": "markdown",
   "metadata": {
    "id": "KSHfk9iDPfJA"
   },
   "source": [
    "### Tensors\n",
    "\n",
    "\n",
    "`torch.Tensor` is the central class of the package. If you set its attribute\n",
    "`.requires_grad` as `True`, it starts to track all operations on it. When you finish your computation, you can call `.backward()` and have all the gradients computed automatically. The gradient for this tensor will be accumulated into `.grad` attribute.\n",
    "\n",
    "To stop a tensor from tracking history, you can call `.detach()` to detach it from the computation history and prevent future computation from being tracked.\n",
    "\n",
    "To prevent tracking history (and use of memory), you can also wrap the code block in `with torch.no_grad():`. This can be particularly helpful when evaluating a model because the model may have trainable parameters with `requires_grad=True`, for which we don't need the gradients.\n",
    "\n",
    "There’s one more class which is very important for autograd implementation - a `Function`.\n",
    "\n",
    "<img src=\"https://miro.medium.com/max/1536/1*wE1f2i7L8QRw8iuVx5mOpw.png\" alt=\"Function\" width=\"600\"/>\n",
    "\n",
    "`Tensor` and `Function` are interconnected and build up an acyclic graph, that encodes a complete history of computation. Each tensor has a `.grad_fn` attribute that references a `Function` that has created the `Tensor` (except for Tensors created by the user - their `grad_fn is None`).\n",
    "\n",
    "If you want to compute the derivatives, you can call `.backward()` on a `Tensor`. If `Tensor` is a scalar (i.e., it holds a one element (data), you don’t need to specify any arguments to `backward()`, however, if it has more elements, you need to specify a `gradient` argument that is a tensor of matching shape.\n",
    "\n",
    "On calling `.backward`, we get the gradients $\\dfrac{\\partial loss}{\\partial x}$ where $x$ is the tensor. PyTorch will store the variable results in $x$.\n",
    "\n",
    "---\n",
    "\n",
    "PS: In previous versions of PyTorch, this required a separate Variable parameter that acted as a wrapper around a Tensor. This is now depreciated and `pytorch.Tensor` has autograd built-in."
   ]
  },
  {
   "cell_type": "code",
   "execution_count": 179,
   "metadata": {
    "cellView": "form",
    "id": "fTrSicHRr07P"
   },
   "outputs": [],
   "source": [
    "#@markdown **Student response**: Please write down 3 problems where you find autograd is useful.\n",
    "autograd_uses = 'Since it is a tool for differentiation, it is useful for optimization (finding extrema). It is useful in DL for computing updates to weights.' #@param {type:\"string\"}"
   ]
  },
  {
   "cell_type": "markdown",
   "metadata": {
    "id": "-CHTVNE-o9xc"
   },
   "source": [
    "Let's start from some toy examples."
   ]
  },
  {
   "cell_type": "code",
   "execution_count": 180,
   "metadata": {
    "colab": {
     "base_uri": "https://localhost:8080/"
    },
    "id": "JmImJGHhPZUB",
    "outputId": "e8d805ce-3f64-45f6-824b-6e5fc03c54e4"
   },
   "outputs": [
    {
     "name": "stdout",
     "output_type": "stream",
     "text": [
      "tensor([[1., 1.],\n",
      "        [1., 1.]], requires_grad=True)\n",
      "tensor([[3.7567e-35, 0.0000e+00, 1.4013e-45],\n",
      "        [0.0000e+00, 0.0000e+00, 0.0000e+00],\n",
      "        [0.0000e+00, 0.0000e+00, 0.0000e+00]], requires_grad=True)\n"
     ]
    }
   ],
   "source": [
    "t1 = torch.ones(2, 2, requires_grad=True)\n",
    "print(t1)\n",
    "\n",
    "t2 = torch.FloatTensor(3, 3) # No way to specify requires_grad while initiating\n",
    "t2.requires_grad = True\n",
    "print(t2)"
   ]
  },
  {
   "cell_type": "markdown",
   "metadata": {
    "id": "3Vk-wL5fmNLZ"
   },
   "source": [
    "**Important:** `requires_grad` option is *contagious*, i.e., when a Tensor is created by operating on other Tensors, the `requires_grad` of the resultant Tensor would be set `True` given that at least one of the tensors used for its creation has `requires_grad` set to `True`."
   ]
  },
  {
   "cell_type": "markdown",
   "metadata": {
    "id": "XQBv6f8ilVPW"
   },
   "source": [
    "*So*, what we have just built is a tensor with the autograd option enabled. As a toy example, assume that we want to differentiate the function $y=4\\textbf{x}^{\\text{T}}\\textbf{x}$ with respect to the column vector $\\textbf{x}$."
   ]
  },
  {
   "cell_type": "code",
   "execution_count": 181,
   "metadata": {
    "colab": {
     "base_uri": "https://localhost:8080/"
    },
    "id": "_CS7nmYOnSm_",
    "outputId": "5a511a19-4529-4484-8515-e958a56da824"
   },
   "outputs": [
    {
     "name": "stdout",
     "output_type": "stream",
     "text": [
      "tensor([0., 1., 2., 3.], requires_grad=True)\n",
      "None\n"
     ]
    }
   ],
   "source": [
    "x = torch.arange(4.0, requires_grad=True)\n",
    "print(x)\n",
    "print(x.grad)"
   ]
  },
  {
   "cell_type": "markdown",
   "metadata": {
    "id": "sIZXHxopo1-D"
   },
   "source": [
    "Now, we calculate the value of $y$"
   ]
  },
  {
   "cell_type": "code",
   "execution_count": 182,
   "metadata": {
    "colab": {
     "base_uri": "https://localhost:8080/"
    },
    "id": "bbLnn_d_o5or",
    "outputId": "b3e0baa4-b92e-405b-cd1e-cf7de84d882e"
   },
   "outputs": [
    {
     "name": "stdout",
     "output_type": "stream",
     "text": [
      "tensor(56., grad_fn=<MulBackward0>)\n"
     ]
    }
   ],
   "source": [
    "y = 4 * torch.dot(x, x)\n",
    "print(y)"
   ]
  },
  {
   "cell_type": "markdown",
   "metadata": {
    "id": "uUMVTwfxpLoW"
   },
   "source": [
    "Since $\\textbf{x}$ is a vector of length 4, an inner product of $\\textbf{x}$ with itself is performed, yielding the scalar output that we assign to $y$. Next, we can automatically calculate the gradient of $y$ with respect to each component of $\\textbf{x}$ by calling the function for backpropagation and printing the gradient."
   ]
  },
  {
   "cell_type": "code",
   "execution_count": 183,
   "metadata": {
    "colab": {
     "base_uri": "https://localhost:8080/"
    },
    "id": "_7FGlaUupmL9",
    "outputId": "5d09a477-2de7-4a5d-e80e-876409072701"
   },
   "outputs": [
    {
     "data": {
      "text/plain": [
       "tensor([ 0.,  8., 16., 24.])"
      ]
     },
     "execution_count": 183,
     "metadata": {
      "tags": []
     },
     "output_type": "execute_result"
    }
   ],
   "source": [
    "y.backward()\n",
    "x.grad"
   ]
  },
  {
   "cell_type": "markdown",
   "metadata": {
    "id": "qY5XrkCNqUwn"
   },
   "source": [
    "The gradient of the function  $y=4 \\textbf{x}^{\\text{T}} \\textbf{x}$  with respect to $\\textbf{x}$ should be $8\\textbf{x}$. Let us quickly verify that our desired gradient was calculated correctly."
   ]
  },
  {
   "cell_type": "code",
   "execution_count": 184,
   "metadata": {
    "colab": {
     "base_uri": "https://localhost:8080/"
    },
    "id": "VqX0j1gFqqh1",
    "outputId": "79e8641c-c97b-4a60-ee69-83c0b21015b1"
   },
   "outputs": [
    {
     "data": {
      "text/plain": [
       "tensor([True, True, True, True])"
      ]
     },
     "execution_count": 184,
     "metadata": {
      "tags": []
     },
     "output_type": "execute_result"
    }
   ],
   "source": [
    "x.grad == 8 * x"
   ]
  },
  {
   "cell_type": "code",
   "execution_count": 185,
   "metadata": {
    "colab": {
     "base_uri": "https://localhost:8080/"
    },
    "id": "mEsFRu2iqTpR",
    "outputId": "16b347dd-72ba-4dc6-b4f7-6d06c0b52d63"
   },
   "outputs": [
    {
     "data": {
      "text/plain": [
       "tensor([1., 1., 1., 1.])"
      ]
     },
     "execution_count": 185,
     "metadata": {
      "tags": []
     },
     "output_type": "execute_result"
    }
   ],
   "source": [
    "# PyTorch accumulates the gradient by default, we need to clear the previous\n",
    "# values\n",
    "x.grad.zero_()\n",
    "y = x.sum()\n",
    "y.backward()\n",
    "x.grad"
   ]
  },
  {
   "cell_type": "markdown",
   "metadata": {
    "id": "kyDxRi20O5WO"
   },
   "source": [
    "## Autograd: the importance and history of autograd\n",
    "\n",
    "Autograd came to be simply because it is impractical and challenging to both visualize and compute gradients for very high dimensional spaces, such as those we'd see in large neural networks: \n",
    "\n",
    "> \"To deal with hyper-planes in a 14-dimensional space, visualize a 3-D space and say ‘fourteen’ to yourself very loudly. Everyone does it\" - Geoffrey Hinton.\n",
    "\n",
    "Autograd abstracts these concepts and \"automagically\" calculates gradients of high dimensional spaces. Gradients care calculated by tracing the computation graph from the root (the first tensor created) to the leaf (the last computation that occurred) and using the chain rule to compute every gradient along the way. \n",
    "\n",
    "Let's look at some of the relevant functions and attributes:\n",
    "\n",
    "\n",
    "*   `.detach`: Detaches the tensor from the computation graph and prevents future computation from being tracked\n",
    "*   `.requires_grad`: Starts tracking all operations on the computation graph\n",
    "*   `.backward()`: When the computation is finished, call `tensor.backward()` to compute all gradients automatically\n",
    "*   `.grad`: All of the gradients for each tensor is accumulated in `.grad`\n",
    "*   `.grad_fn`: For tensors created by an operation, `grad_fn` will give you the operation that created them. For tensors created by users, it will return None. \n",
    "*    `.requires_grad_(bool)`: Changes an existing Tensor's `requires_grad` flag in place. This is False by default. \n",
    "\n",
    "\n",
    "\n",
    "See: https://pytorch.org/tutorials/beginner/blitz/autograd_tutorial.html\n"
   ]
  },
  {
   "cell_type": "markdown",
   "metadata": {
    "id": "a84ftaP5qIBO"
   },
   "source": [
    "## Example: A small Compute Graph"
   ]
  },
  {
   "cell_type": "markdown",
   "metadata": {
    "id": "buor3olzPGa9"
   },
   "source": [
    "### Forward pass\n",
    "\n",
    "PyTorch creates a so-called **Dynamic Computation Graph**, which means that the graph is generated on the fly. \n",
    "\n",
    "The big thing that differentiates PyTorch and Tensorflow is how the computation graph functions. In PyTorch, all variables and functions build a dynamic graph of computation. For every mathematical operation involving Tensors, a Function node is made on this computation graph. We can see what function creates a given Tensor by using the attribute `grad_fn`. So, let's examine the compute graph of a simple addition operation.\n",
    "\n",
    "<img src=\"https://miro.medium.com/max/1684/1*FDL9Se9otGzz83F3rofQuA.png\" alt=\"Computation Graph\" width=\"500\"/>\n",
    "\n",
    "Here, we give a toy example with an elementary graph to understand PyTorch's logic!\n",
    "\n",
    "The variables $\\alpha$ is the input and is initialized by the user. Variables $b$, $c$ and $d$ are created as a result of mathematical operations, variables $w_1$, $w_2$, $w_3$ and $w_4$ are initialised by the user. Since any mathematical operator does not create them, nodes corresponding to their creation are represented by their name itself. This is true for all the leaf nodes in the graph. Variable $L$ is the output of this computational graph.\n",
    "\n"
   ]
  },
  {
   "cell_type": "markdown",
   "metadata": {
    "id": "XUGrcRnlqafy"
   },
   "source": [
    "#### Exercise 3a: Get the parameters\n",
    "\n",
    "Lets start by defining our parameters ($w_1, w_2, w_3, w_4$) and inputs ($\\alpha$). Lets assume that all parameters and inputs are $3 \\times 3$ tensors sampled from a normal distribution with zero mean and standard deviation $\\sigma=1$ (i.e., `torch.randn`).\n",
    "\n",
    "*Hint:* Do not forget to enable tracking of gradients."
   ]
  },
  {
   "cell_type": "code",
   "execution_count": 186,
   "metadata": {
    "colab": {
     "base_uri": "https://localhost:8080/"
    },
    "id": "YnyXzTqGp8Fh",
    "outputId": "eafaca47-9910-4535-b104-c9cab6fcf6c1"
   },
   "outputs": [
    {
     "name": "stdout",
     "output_type": "stream",
     "text": [
      "The inputs are: \n",
      "tensor([[ 1.4444,  0.8822,  1.2429],\n",
      "        [ 0.4424, -0.2196, -0.1828],\n",
      "        [ 2.3049, -0.0150,  1.1266]], requires_grad=True)\n",
      "The weights are: \n",
      "w1:tensor([[ 1.3991,  1.0802, -1.2418],\n",
      "        [ 0.7012, -0.3298,  0.4720],\n",
      "        [ 0.5794, -2.6181,  1.0380]], requires_grad=True), \n",
      "w2:tensor([[-1.2600, -0.5339,  0.0916],\n",
      "        [ 0.4557, -0.5489, -1.6517],\n",
      "        [-0.7078, -1.4285,  1.9632]], requires_grad=True), \n",
      "w3:tensor([[ 0.6753, -1.2362,  0.7780],\n",
      "        [-1.5389, -1.8694, -1.1767],\n",
      "        [ 0.0346,  0.7962,  1.3760]], requires_grad=True),  \n",
      "w4:tensor([[ 0.3709, -0.3786, -1.4969],\n",
      "        [ 0.5509,  1.2205,  0.0647],\n",
      "        [-0.4909,  0.6569, -0.9372]], requires_grad=True)\n"
     ]
    }
   ],
   "source": [
    "def get_params():\n",
    "  '''\n",
    "  A simple function that generates our parameters and inputs\n",
    "  \n",
    "  ---\n",
    "  args: nothing\n",
    "\n",
    "  returns:\n",
    "    a: torch.Tensor\n",
    "      inputs\n",
    "    w1: torch.Tensor\n",
    "      weights\n",
    "    w2: torch.Tensor\n",
    "      weights\n",
    "    w3: torch.Tensor\n",
    "      weights\n",
    "    w4: torch.Tensor\n",
    "      weights\n",
    "\n",
    "  '''\n",
    "  \n",
    "  a = torch.randn(3, 3, requires_grad = True)\n",
    "  w1 = torch.randn(3, 3, requires_grad = True)\n",
    "  w2 = torch.randn(3, 3, requires_grad = True)\n",
    "  w3 = torch.randn(3, 3, requires_grad = True)\n",
    "  w4 = torch.randn(3, 3, requires_grad = True)\n",
    "\n",
    "  return (a, w1, w2, w3, w4)\n",
    "\n",
    "\n",
    "# uncomment the lines below to test your function\n",
    "params = get_params()\n",
    "print(f'The inputs are: \\n{params[0]}')\n",
    "print(f'The weights are: \\nw1:{params[1]}, \\nw2:{params[2]}, \\nw3:{params[3]}, '\n",
    "      f' \\nw4:{params[4]}')"
   ]
  },
  {
   "cell_type": "markdown",
   "metadata": {
    "id": "sYG8cwiBAc78"
   },
   "source": [
    "[*Click for solution*](https://github.com/CIS-522/course-content/blob/main/tutorials/W2_PyTorchDLN/solutions/W2_Tutorial1_Solution_Ex03a.py)\n",
    "\n",
    "*Example output:*  \n",
    "\n",
    "The inputs are:\n",
    "```python\n",
    "Tensor([[-0.8177, -0.7713, -1.1727],\n",
    "        [ 0.3594,  0.8547,  0.8028],\n",
    "        [-1.7355,  0.7635,  0.1232]], requires_grad=True)\n",
    "```  \n",
    "\n",
    "The weights are:\n",
    "```python \n",
    "w1:tensor([[ 0.4051,  0.4054,  1.1714],\n",
    "           [ 0.1003, -0.0375, -1.3340],\n",
    "           [ 0.0332,  0.8825, -1.2887]], requires_grad=True),\n",
    "\n",
    "w2:tensor([[ 1.6913, -0.3270,  0.5935],\n",
    "           [-0.1528,  1.2382,  2.2740],\n",
    "           [ 0.1196,  0.8869,  0.3972]], requires_grad=True),\n",
    "\n",
    "w3:tensor([[ 1.0002, -0.3031,  1.9792],\n",
    "           [-0.6688, -0.8651, -0.1704],\n",
    "           [ 1.0180, -1.1855,  2.4572]], requires_grad=True),\n",
    "\n",
    "w4:tensor([[-0.9591,  0.5391,  0.2811],\n",
    "           [-0.2747, -2.0657,  0.1916], \n",
    "           [ 0.6489, -0.1701, -1.3752]], requires_grad=True)\n",
    "```"
   ]
  },
  {
   "cell_type": "markdown",
   "metadata": {
    "id": "OyA1Tzq-taGN"
   },
   "source": [
    "#### Exercise 3b: Compute graph\n",
    "\n",
    "Now, let's define the mathematical operations of our toy graph. Weights are multiplied with the corresponding node value, and double arrows denote a summation (see node $d$)."
   ]
  },
  {
   "cell_type": "code",
   "execution_count": 187,
   "metadata": {
    "colab": {
     "base_uri": "https://localhost:8080/"
    },
    "id": "0-XDzn-FaJmg",
    "outputId": "b41ff704-f8f0-4342-a749-4d482f5249ed"
   },
   "outputs": [
    {
     "name": "stdout",
     "output_type": "stream",
     "text": [
      "Loss: 181.48623657226562\n"
     ]
    }
   ],
   "source": [
    "def compute_graph(params, target):\n",
    "  '''\n",
    "  Simple function with the forward pass\n",
    "\n",
    "  args:\n",
    "    params: list\n",
    "      contains the inputs and the weight tensors\n",
    "  returns:\n",
    "    L: float\n",
    "      loss given a target value\n",
    "  '''\n",
    "  a, w1, w2, w3, w4 = params[0],params[1], params[2], params[3], params[4]\n",
    "  \n",
    "  b = w1 * a\n",
    "  c = w2 * a\n",
    "  d = w3 * b + w4 * c\n",
    "\n",
    "  # Compute the summed loss\n",
    "  L = (target - d).sum()\n",
    "\n",
    "  # Store weights in a dictionary\n",
    "  weights = {}\n",
    "  weights['w1'] = w1\n",
    "  weights['w2'] = w2\n",
    "  weights['w3'] = w3\n",
    "  weights['w4'] = w4\n",
    "\n",
    "  # Store values of the nodes in a dictionary\n",
    "  values = {}\n",
    "  values['a'] = a\n",
    "  values['b'] = b\n",
    "  values['c'] = c\n",
    "  values['d'] = d\n",
    "\n",
    "  return (L, values, weights)\n",
    "\n",
    "output = compute_graph(params, 20)\n",
    "print(f'Loss: {output[0]}')"
   ]
  },
  {
   "cell_type": "markdown",
   "metadata": {
    "id": "b1q_SrKBDUKS"
   },
   "source": [
    "[*Click for solution*](https://github.com/CIS-522/course-content/blob/main/tutorials/W2_PyTorchDLN/solutions/W2_Tutorial1_Solution_Ex03b.py)\n",
    "\n",
    "*Example output:*  \n",
    "`Loss: 184.888427734375`"
   ]
  },
  {
   "cell_type": "markdown",
   "metadata": {
    "id": "sVfbLHkMZYrv"
   },
   "source": [
    "Now, let's print the gradients."
   ]
  },
  {
   "cell_type": "code",
   "execution_count": 188,
   "metadata": {
    "colab": {
     "base_uri": "https://localhost:8080/"
    },
    "id": "ig-XstYcwG-s",
    "outputId": "7cdf7d3f-3d10-486c-a21a-ef1e942838c6"
   },
   "outputs": [
    {
     "name": "stdout",
     "output_type": "stream",
     "text": [
      "The grad fn for a is None\n",
      "The grad fn for d is <AddBackward0 object at 0x7fec64cc7a90>\n"
     ]
    }
   ],
   "source": [
    "a = output[1]['a']\n",
    "d = output[1]['d']\n",
    "\n",
    "print(\"The grad fn for a is\", a.grad_fn)\n",
    "print(\"The grad fn for d is\", d.grad_fn)"
   ]
  },
  {
   "cell_type": "markdown",
   "metadata": {
    "id": "ivJSEhydZkSx"
   },
   "source": [
    "What you see is that the gradient for the input `a` is `None` as we did not calculate it yet! Let's first see what PyTorch computes as gradients of any computational graph."
   ]
  },
  {
   "cell_type": "markdown",
   "metadata": {
    "id": "CWC4l6-1waEW"
   },
   "source": [
    "### Backward pass: Computing the gradients\n",
    "\n",
    "Each node of the computation graph, with the exception of leaf nodes, can be considered as a function which takes some inputs and produces an output. Consider the node of the graph which produces variable $d$ from $w_3 \\cdot b$ and $w_4 \\cdot c$. Thus, we can write the output $d$ as a function of its inputs:\n",
    "\n",
    "\\begin{equation}\n",
    "d = f(w_3 \\cdot b, w_4 \\cdot c)\n",
    "\\end{equation}\n",
    "\n",
    "Thus, we can easily compute the gradient of the function $f$ with respect to its inputs ($\\frac{\\partial f}{\\partial w_3b}$ and $\\frac{\\partial f}{\\partial w_4c}$). Similarly, we do this for the entire graph and we have described the derivatives of this graph.\n",
    "\n",
    "<img src=\"https://miro.medium.com/max/1684/1*EWpoG5KayZSqkWmwM_wMFQ.png\" alt=\"Computation Graph with Gradients\" width=\"500\"/>\n",
    "\n",
    "In order to compute derivatives in our graph, we generally call `backward` on the Tensor representing our loss $L$, i.e., the output of the graph. Then, we backtrack through the graph starting from the node representing the `grad_fn` of our loss.\n",
    "\n",
    "As described above, the backward function is recursively called throughout the graph as we backtrack. Once, we reach a leaf node, since the `grad_fn` is `None`, but stop backtracking through that path."
   ]
  },
  {
   "cell_type": "code",
   "execution_count": 189,
   "metadata": {
    "id": "mamwLy6Bwzyv"
   },
   "outputs": [],
   "source": [
    "L = output[0]\n",
    "L.backward()"
   ]
  },
  {
   "cell_type": "markdown",
   "metadata": {
    "id": "lAfcmVcBwrL5"
   },
   "source": [
    "Once that's done, you can access the gradients by calling the Tensor's `grad` attribute."
   ]
  },
  {
   "cell_type": "code",
   "execution_count": 190,
   "metadata": {
    "colab": {
     "base_uri": "https://localhost:8080/"
    },
    "id": "aBHVzjbC0l2I",
    "outputId": "b03bc70e-9002-417a-edf6-846a09c7cac0"
   },
   "outputs": [
    {
     "data": {
      "text/plain": [
       "tensor([[-0.4774,  1.1333,  1.1032],\n",
       "        [ 0.8280,  0.0533,  0.6622],\n",
       "        [-0.3675,  3.0228,  0.4116]])"
      ]
     },
     "execution_count": 190,
     "metadata": {
      "tags": []
     },
     "output_type": "execute_result"
    }
   ],
   "source": [
    "a.grad"
   ]
  },
  {
   "cell_type": "code",
   "execution_count": 191,
   "metadata": {
    "colab": {
     "base_uri": "https://localhost:8080/"
    },
    "id": "WgEmyp0jZ76j",
    "outputId": "f89a6c07-d358-4d6b-ad9e-31d57db493d7"
   },
   "outputs": [
    {
     "data": {
      "text/plain": [
       "tensor([[-0.9753,  1.0906, -0.9670],\n",
       "        [ 0.6809, -0.4105, -0.2151],\n",
       "        [-0.0797,  0.0119, -1.5502]])"
      ]
     },
     "execution_count": 191,
     "metadata": {
      "tags": []
     },
     "output_type": "execute_result"
    }
   ],
   "source": [
    "w1 = output[2]['w1']\n",
    "w1.grad"
   ]
  },
  {
   "cell_type": "markdown",
   "metadata": {
    "id": "HaEK7H7-uFLC"
   },
   "source": [
    "Understanding how **Autograd**  and **computation graphs** works can make your life easier. With our foundations rock-solid, we can proceed and see these components in action. Let's start with the simplest case; *Linear regression*."
   ]
  },
  {
   "cell_type": "markdown",
   "metadata": {
    "id": "PlmjR_TZ2TBr"
   },
   "source": [
    "---\n",
    "# Section 4: Gradients as part of optimization; first order techniques"
   ]
  },
  {
   "cell_type": "code",
   "execution_count": 192,
   "metadata": {
    "cellView": "form",
    "colab": {
     "base_uri": "https://localhost:8080/",
     "height": 518
    },
    "id": "3_nO54rceiCm",
    "outputId": "5388cc23-288f-46b5-f880-ecfc48e69eb4"
   },
   "outputs": [
    {
     "name": "stdout",
     "output_type": "stream",
     "text": [
      "Video available at https://youtube.com/watch?v=oQcrIgtqlXU\n"
     ]
    },
    {
     "data": {
      "image/jpeg": "[encoded data removed]",
      "text/html": [
       "\n",
       "        <iframe\n",
       "            width=\"854\"\n",
       "            height=\"480\"\n",
       "            src=\"https://www.youtube.com/embed/oQcrIgtqlXU?fs=1\"\n",
       "            frameborder=\"0\"\n",
       "            allowfullscreen\n",
       "        ></iframe>\n",
       "        "
      ],
      "text/plain": [
       "<IPython.lib.display.YouTubeVideo at 0x7fec64cc7470>"
      ]
     },
     "execution_count": 192,
     "metadata": {
      "tags": []
     },
     "output_type": "execute_result"
    }
   ],
   "source": [
    "#@title Video: Linear Regression and Neuroscience\n",
    "\n",
    "try: t4;\n",
    "except NameError: t4=time.time()\n",
    "\n",
    "video = YouTubeVideo(id=\"oQcrIgtqlXU\", width=854, height=480, fs=1)\n",
    "print(\"Video available at https://youtube.com/watch?v=\" + video.id)\n",
    "video"
   ]
  },
  {
   "cell_type": "markdown",
   "metadata": {
    "id": "cXCPZoaHgnyC"
   },
   "source": [
    "## Section 4.1: Linear Regression"
   ]
  },
  {
   "cell_type": "code",
   "execution_count": 193,
   "metadata": {
    "cellView": "form",
    "colab": {
     "base_uri": "https://localhost:8080/",
     "height": 518
    },
    "id": "oXuBhXB7goaZ",
    "outputId": "d7f5541a-2325-40ee-d826-e96412ccea02"
   },
   "outputs": [
    {
     "name": "stdout",
     "output_type": "stream",
     "text": [
      "Video available at https://youtube.com/watch?v=h5H8A3ZFuI4\n"
     ]
    },
    {
     "data": {
      "image/jpeg": "[encoded data removed]",
      "text/html": [
       "\n",
       "        <iframe\n",
       "            width=\"854\"\n",
       "            height=\"480\"\n",
       "            src=\"https://www.youtube.com/embed/h5H8A3ZFuI4?fs=1\"\n",
       "            frameborder=\"0\"\n",
       "            allowfullscreen\n",
       "        ></iframe>\n",
       "        "
      ],
      "text/plain": [
       "<IPython.lib.display.YouTubeVideo at 0x7fec64e79550>"
      ]
     },
     "execution_count": 193,
     "metadata": {
      "tags": []
     },
     "output_type": "execute_result"
    }
   ],
   "source": [
    "#@title Video: Linear Regression and Matrix Inversion\n",
    "video = YouTubeVideo(id=\"h5H8A3ZFuI4\", width=854, height=480, fs=1)\n",
    "print(\"Video available at https://youtube.com/watch?v=\" + video.id)\n",
    "\n",
    "video"
   ]
  },
  {
   "cell_type": "markdown",
   "metadata": {
    "id": "kStiWOy2_qbA"
   },
   "source": [
    "Generally, *regression* refers to a set of methods for modeling the relationship between one (or more) independent variable(s) and one (or more) dependent variable(s). Regression is commonly applied when we want to find the relationship between the dependent and the independent variables. For example, if we want to examine the relative impacts of age, gender, and diet (the independent variables) on height (the dependent variable). On the other hand, a regression can be used for predictive analysis. Thus the independent variables are also called predictors. When the model contains more than one predictor, then the method is called *multiple regression*, and if it contains more than one dependent variable called *multivariate regression*.\n",
    "\n",
    "Regression problems pop up whenever we want to predict a numerical (usually continuous) value.\n",
    "\n",
    "The independent variables are collected in a vector $\\mathbf{x} \\in \\mathbb{R}^D$, where $D$ denotes the number of independent variables. Each variable influences differently the dependent variable by a weight factor, $w_{d}$. Thus, $\\mathbf{w} \\in \\mathbb{R}^D$.\n",
    "\n",
    "The multiple regression model can be written as:\n",
    "\n",
    "\\begin{equation}\n",
    "y = w_{1}x_{1} + w_{2}x_{2} + \\dots + w_{D}x_{D} + b = \\sum_{d=1}^D \\left(w_{d}x_{d} \\right) + b\n",
    "\\end{equation}\n",
    "\n",
    "Thus, the model can be written in matrix format as:\n",
    "\n",
    "\\begin{equation}\n",
    "y = \\begin{bmatrix} w_{1} & w_{2} & \\dots & w_{D} \\end{bmatrix} \\begin{bmatrix} x_{1} \\\\ x_{2} \\\\ \\vdots \\\\ x_{D} \\\\ \\end{bmatrix} + b\n",
    "\\end{equation}\n",
    "\n",
    "Which can be written in a compact form as:\n",
    "\\begin{equation}\n",
    "y = \\mathbf{w}^{\\text{T}}\\mathbf{x} + b\n",
    "\\end{equation}\n",
    "\n",
    "where $\\text{w}$ is the weight and $b$ is the bias (also known as intercept). Notice that $x$ is a matrix with the independent variables in rows and different examples stack in columns.\n",
    "\n",
    "First, lets plot our synthetic dataset, using $w=2.5$ and $b=1.2$. We will also add gaussian noise with standard deviation $\\sigma$ to make the synthetic data more realistic.\n",
    "\n",
    "\\begin{equation}\n",
    "y = \\mathbf{w}^{\\text{T}}\\mathbf{x} + b + \\epsilon\n",
    "\\end{equation}\n",
    "\n",
    "where \n",
    "\n",
    "\\begin{equation}\n",
    "\\epsilon \\sim \\mathcal{N}(\\mu=0, \\sigma)\n",
    "\\end{equation}\n",
    "\n",
    "### Gaussian distribution\n",
    "\n",
    "To refresh our memory, the probability density of a normal distribution with mean $\\mu$ and standard deviation $\\sigma$ is given by:\n",
    "\n",
    "\\begin{equation}\n",
    "p(x)=\\frac{1}{2\\pi\\sigma^{2}} \\exp \\left(-\\frac{(x-\\mu)^{2}}{2\\sigma^{2}}\\right)\n",
    "\\end{equation}\n",
    "\n",
    "\n",
    "Here, we will start from the simplest case, where we want to perform regression using one predictor (**x**) and one dependent variable (**y**). Thus, the model is given by the formula:\n",
    "\n",
    "\\begin{equation}\n",
    "y = w_{1}x + b + \\epsilon\n",
    "\\end{equation}\n",
    "\n"
   ]
  },
  {
   "cell_type": "code",
   "execution_count": 194,
   "metadata": {
    "colab": {
     "base_uri": "https://localhost:8080/",
     "height": 430
    },
    "id": "t9qzri932ivd",
    "outputId": "d5239156-2c85-4920-dea6-cfe77b3ded30"
   },
   "outputs": [
    {
     "data": {
      "image/png": "[encoded data removed]",
      "text/plain": [
       "<Figure size 576x432 with 1 Axes>"
      ]
     },
     "metadata": {
      "image/png": {
       "height": 413,
       "width": 558
      },
      "needs_background": "light",
      "tags": []
     },
     "output_type": "display_data"
    }
   ],
   "source": [
    "# This is the code block to generate random data for linear regression\n",
    "\n",
    "original_w = torch.tensor([2.5]).reshape(-1,1)\n",
    "original_b = 1.2\n",
    "N = 1000  # number of examples\n",
    "X, y = synthetic_dataset(original_w, original_b, num_examples=N, sigma=0.5)\n",
    "\n",
    "plt.figure()\n",
    "plt.scatter(X, y)\n",
    "plt.xlabel('x (independent variable)')\n",
    "plt.ylabel('y (dependent variable)')\n",
    "plt.show()"
   ]
  },
  {
   "cell_type": "markdown",
   "metadata": {
    "id": "b0Efb21KcsOo"
   },
   "source": [
    "## Section 4.2: Vectorized regression\n",
    "\n",
    "Now, having a lot of data, we can collect them in a matrix $\\mathbf{X} \\in \\mathbb{R}^{D \\times N}$,. Thus, linear regression takes the following form:\n",
    "\n",
    "\\begin{equation}\n",
    "\\mathbf{Y} = \\mathbf{w}^{\\text{T}}\\mathbf{X} + b\n",
    "\\end{equation}\n",
    "\n",
    "where broadcasting is applied in the summation, i.e., $b$ broadcasts in a $D$-dimensional vector with the values $b$ in every position. \n",
    "\n",
    "Let's write the code for our model."
   ]
  },
  {
   "cell_type": "markdown",
   "metadata": {
    "id": "bcu5SyDujZ7J"
   },
   "source": [
    "### Exercise 4a: Write the linear regression model"
   ]
  },
  {
   "cell_type": "code",
   "execution_count": 195,
   "metadata": {
    "colab": {
     "base_uri": "https://localhost:8080/"
    },
    "id": "X7aaSvTocyQt",
    "outputId": "aeaa461f-8512-408c-cfc8-e118f91c0e2c"
   },
   "outputs": [
    {
     "name": "stdout",
     "output_type": "stream",
     "text": [
      "tensor([[0.8370]])\n"
     ]
    }
   ],
   "source": [
    "def linear_regression(X, w, b):\n",
    "  '''\n",
    "  Linear regression model.\n",
    "  \n",
    "  Parameters\n",
    "  ----------\n",
    "  X : torch.tensor\n",
    "      design matrix.\n",
    "  w : torch.tensor\n",
    "      weights.\n",
    "  b : torch.tensor\n",
    "      bias.\n",
    "  \n",
    "  Returns\n",
    "  -------\n",
    "  torch.tensor\n",
    "    predicted values.\n",
    "  \n",
    "  '''\n",
    "  reg = torch.matmul(w.T, X) + b\n",
    "  return reg\n",
    "\n",
    "# uncomment the lines below to test your function\n",
    "print(linear_regression(X[:,0].reshape(1,-1), original_w, original_b))"
   ]
  },
  {
   "cell_type": "markdown",
   "metadata": {
    "id": "4ZRYhRsCDyXJ"
   },
   "source": [
    "[*Click for solution*](https://github.com/CIS-522/course-content/blob/main/tutorials/W2_PyTorchDLN/solutions/W2_Tutorial1_Solution_Ex04a.py)\n",
    "\n",
    "*Example output:*  \n",
    "\n",
    "`tensor([[0.8370]])`"
   ]
  },
  {
   "cell_type": "markdown",
   "metadata": {
    "id": "p9SGzlHnLCp4"
   },
   "source": [
    "## Section 4.3: Loss function\n",
    "First, we need to determine a measure of fitness. In simple words, we want to quantify if our model performs good or bad given some parameters $w$ and $b$. The so-called *loss function* quantifies the distance between the real and predicted values of the target. The loss will usually be a non-negative float number (as you will see later on, some applications can also contain negative losses). Small values are better and perfect predictions incur a loss of 0. The most popular loss function in regression problems is the **squared error**. When our prediction for an example $\\mathbf{x}^{[i]}$ is $\\hat{y}^{[i]}$ and its corresponding true value is $y^{[i]}$ , the squared error is given by:\n",
    "\n",
    "\\begin{equation}\n",
    "l^{[i]}=\\left(\\hat{y}^{[i]} - y^{[i]}\\right)^{2}\n",
    "\\end{equation}\n",
    "\n",
    "Usually, our datset consits of lots of data, thus we sum up all individual squred error. Generally, we take out the average of all these erros, thus, gien that we have $N$ data points the *mean squared error* (MSE) is given by:\n",
    "\n",
    "\\begin{align}\n",
    "L(\\mathbf{w}, b) &{}= \\frac{1}{N} \\sum_{i=1}^{N} l^{[i]} \\\\ \n",
    "&{}= \\frac{1}{N} \\sum_{i=1}^{N} \\left(\\hat{y}^{[i]} - y^{[i]}\\right)^{2} \\\\ \n",
    "&{}=  \\frac{1}{N} \\sum_{i=1}^{N} \\left(\\mathbf{w}^{\\text{T}}\\mathbf{x}^{[i]} + b - y^{[i]}\\right)^{2}\n",
    "\\end{align}\n",
    "\n",
    "Our aim here is to choose the parameters so that the error will be minimized. In mathematical terms, this is translated into a minimization problem with respect to parameters $\\mathbf{w}$ and $b$:\n",
    "\n",
    "\\begin{equation}\n",
    "\\mathbf{w^{*}}, b^{*} = \\underset{\\mathbf{w},b}{\\mathrm{argmin}} \\left( L(\\mathbf{w}, b) \\right)\n",
    "\\end{equation}\n",
    "\n",
    "Let's implement a function that calculates the mean squared error."
   ]
  },
  {
   "cell_type": "markdown",
   "metadata": {
    "id": "XM3gUldHjkZn"
   },
   "source": [
    "### Exercise 4b: Squared Error calculation"
   ]
  },
  {
   "cell_type": "code",
   "execution_count": 196,
   "metadata": {
    "colab": {
     "base_uri": "https://localhost:8080/"
    },
    "id": "_6dabFckS70T",
    "outputId": "dfc4b38b-64a6-4dca-d41a-601bd6e95b75"
   },
   "outputs": [
    {
     "name": "stdout",
     "output_type": "stream",
     "text": [
      "tensor([1.0000, 4.0000, 0.2500])\n"
     ]
    }
   ],
   "source": [
    "def squared_error(y_hat, y):\n",
    "  '''\n",
    "  Squared error loss function.\n",
    "  \n",
    "  Parameters\n",
    "  ----------\n",
    "  y_hat : torch.tensor\n",
    "      predicted values.\n",
    "  y : torch.tensor\n",
    "      true values.\n",
    "  \n",
    "  Returns\n",
    "  -------\n",
    "  err: FLOAT\n",
    "       the squared error (loss)\n",
    "  \n",
    "  '''\n",
    "  err = (y_hat - y.reshape(y_hat.shape)) ** 2\n",
    "  return err\n",
    "\n",
    "# uncomment the lines below to test your function\n",
    "print(squared_error(torch.tensor([2, 1, 7]), torch.tensor([1,-1, 7.5])))"
   ]
  },
  {
   "cell_type": "markdown",
   "metadata": {
    "id": "CSyNtjTVEVP-"
   },
   "source": [
    "[*Click for solution*](https://github.com/CIS-522/course-content/blob/main/tutorials/W2_PyTorchDLN/solutions/W2_Tutorial1_Solution_Ex04b.py)\n",
    "\n",
    "*Example output:*  \n",
    "\n",
    "`tensor([1.0000, 4.0000, 0.2500])`"
   ]
  },
  {
   "cell_type": "markdown",
   "metadata": {
    "id": "gqjY2LJOgkia"
   },
   "source": [
    "## Section 4.3.1 Analytic Solution by Matrix Inversion\n",
    "\n",
    "As you can see from the equation above, linear regression is a relatively simple optimization problem. Unlike most other models that we will see in this course, linear regression can be solved analytically by applying a simple formula.\n",
    "\n",
    "To further simplify things, we can subsume the bias $b$  into the parameter  $\\textbf{w}$ by appending an extra fake dimension equal to one to our data points $\\textbf{x}$. Thus, the vectors $\\textbf{x} \\in \\mathbb{R}^{D+1}$.\n",
    "\n",
    "So, using matrix notation, the optimization problem is given by:\n",
    "\n",
    "\\begin{align}\n",
    "\\mathbf{w^{*}} &{}= \\underset{\\mathbf{w}}{\\mathrm{argmin}} \\left( ||\\textbf{Y} - \\textbf{X}\\textbf{w}||^2  \\right) \\\\\n",
    "&{}= \\underset{\\mathbf{w}}{\\mathrm{argmin}} \\left( \\left( \\textbf{Y} - \\textbf{X}\\textbf{w}\\right)^{\\text{T}} \\left( \\textbf{Y} - \\textbf{X}\\textbf{w}\\right) \\right)\n",
    "\\end{align}\n",
    "\n",
    "where $\\textbf{X} \\in \\mathbb{R}^{N \\times D}$, the so-called design matrix.\n",
    "\n",
    "Thus, the minimization problem is to set the derivative of the loss with respect to $\\textbf{w}$ to zero.\n",
    "\n",
    "\\begin{equation}\n",
    "\\frac{\\partial L(\\textbf{w})}{\\partial \\textbf{w}} = 0\n",
    "\\end{equation}\n",
    "\n",
    "Assuming that $\\textbf{X}^{\\text{T}}\\textbf{X}$ is full-rank and thus its inverse exists (implying that $N>D$ and the rows are not all linearly dependent:\n",
    "\n",
    "\\begin{equation}\n",
    "\\textbf{w}^{\\textbf{*}} = \\left( \\textbf{X}^{\\text{T}}\\textbf{X} \\right)^{-1}\\textbf{X}^{\\text{T}}\\textbf{Y}\n",
    "\\end{equation}\n",
    "\n",
    "**Note**: for the analytic proof, see the [Appendix](#proof)."
   ]
  },
  {
   "cell_type": "markdown",
   "metadata": {
    "id": "oaFWgefwrOu7"
   },
   "source": [
    "### Exercise 4c: Write the analytical solution of the linear regression\n",
    "\n",
    "So, let's write a function that calculates the analytic solution of the linear regression problem given that we have a dataset $X$ and the target variables $y$.\n",
    "\n",
    "*Hint*: What is the determinant (`np.linalg.det`) of a non-invertible matrix?"
   ]
  },
  {
   "cell_type": "code",
   "execution_count": 197,
   "metadata": {
    "colab": {
     "base_uri": "https://localhost:8080/"
    },
    "id": "oXCHHxhhf9uQ",
    "outputId": "8756df5e-70c9-495b-d527-99a931d22b80"
   },
   "outputs": [
    {
     "name": "stdout",
     "output_type": "stream",
     "text": [
      "Original: alpha=-2.0 and beta=1.4\n",
      "Estimated: alpha=-1.9999999999999998 and beta=1.4000000000000001\n"
     ]
    }
   ],
   "source": [
    "def analytical_sol(X, y):\n",
    "  '''\n",
    "  Squared error loss function.\n",
    "  \n",
    "  Parameters\n",
    "  ----------\n",
    "  X : numpy.ndarray (float)\n",
    "      design matrix with dimensions NxD, D: features, N: examples.\n",
    "  y : numpy.ndarray (float)\n",
    "      target values.\n",
    "  \n",
    "  Returns\n",
    "  -------\n",
    "  params: numpy.ndarray\n",
    "          the parameters w, and bias (last element)\n",
    "          if `X.T @ X` is singular, returns nothing.\n",
    "  '''\n",
    "\n",
    "  # Check if the inverse exists, unless print error.\n",
    "  params = []\n",
    "  if np.linalg.det(X.T @ X) != 0:\n",
    "    params = np.linalg.inv(X.T @ X) @ X.T @ y\n",
    "  else:\n",
    "    print('LinAlgError. Matrix is Singular. No analytical solution.')\n",
    "\n",
    "  return (params)\n",
    "\n",
    "\n",
    "# tiny dataset\n",
    "alpha, beta = -2.0, 1.4\n",
    "xsynth = np.linspace(-1, 1, 10).reshape(-1, 1)  # 100 examples, in 10D space\n",
    "ysynth = alpha*xsynth + beta  # target values\n",
    "xsynth_append = np.hstack((xsynth, np.ones((10, 1))))  # Append a column with `1`\n",
    "\n",
    "# uncomment the lines below to test the analytical solution\n",
    "params = analytical_sol(xsynth_append, ysynth)\n",
    "print(f'Original: alpha={alpha} and beta={beta}')\n",
    "print(f'Estimated: alpha={params[0].item()} and beta={params[1].item()}')"
   ]
  },
  {
   "cell_type": "markdown",
   "metadata": {
    "id": "Wc1wjKhEEujx"
   },
   "source": [
    "[*Click for solution*](https://github.com/CIS-522/course-content/blob/main/tutorials/W2_PyTorchDLN/solutions/W2_Tutorial1_Solution_Ex04c.py)\n",
    "\n",
    "*Example output:*  \n",
    "\n",
    "```\n",
    "Original: alpha=-2.0 and beta=1.4\n",
    "Estimated: alpha=-1.9999999999999998 and beta=1.4000000000000001\n",
    "```"
   ]
  },
  {
   "cell_type": "markdown",
   "metadata": {
    "id": "7WLh46IQXwFf"
   },
   "source": [
    "## Section 4.4: Gradient descent\n",
    "\n",
    "Linear regression has a closed-form solution; however, this is not the case in most machine learning applications. When we cannot solve the models analytically, it turns out that we can still train models effectively in practice.\n",
    "\n",
    "The key technique for optimizing nearly any deep learning model consists of iteratively reducing the error by updating the direction's parameters that incrementally lowers the loss function. This algorithm is called *gradient descent*.\n",
    "\n",
    "The most naive application of gradient descent consists of taking the derivative of the loss function, an average of the losses computed on every single example in the dataset.\n",
    "\n",
    "We define the gradient of a multi-variable function $f(\\theta)$ as $$\\nabla f(\\theta) = \\begin{bmatrix} \\dfrac{\\partial f(\\theta)}{\\partial \\theta_0} \\\\ \\dfrac{\\partial f(\\theta)}{\\partial \\theta_1} \\\\ \\vdots \\\\ \\dfrac{\\partial f(\\theta)}{\\partial \\theta_D} \\\\ \\end{bmatrix}$$\n",
    "\n",
    "\n",
    "Gradient Descent attempts to find the minima of a given function $f(\\theta)$ by descending to the gradient's opposite direction.\n",
    "\n",
    "It updates the parameters in an iterative fashion in the opposite direction of the gradient. First, we need an initial guess $x_0$ of the solution (often this is randomly initialized). Then, we calculate the gradient with the function evaluated at $x_0$. The update rule is as follows: \n",
    "\\begin{equation}\n",
    "\\theta^{\\text{new}} = \\theta^{\\text{old}} - \\eta \\nabla f(\\theta^{\\text{old}})\n",
    "\\end{equation}\n",
    "where $\\eta$ is the learning rate, how fast or slow the model learns.\n",
    "\n",
    "In our simple example, our model consists of two parameters, $w$ and $b$, thus, the gradient descent can be written:\n",
    "\n",
    "\\begin{equation}\n",
    "w \\leftarrow w - \\eta \\frac{\\partial }{\\partial w} L(w,b) \\\\\n",
    "b \\leftarrow b - \\eta \\frac{\\partial }{\\partial b} L(w,b)\n",
    "\\end{equation}\n",
    "\n",
    "We start with $w=0$ and $b=0$."
   ]
  },
  {
   "cell_type": "code",
   "execution_count": 198,
   "metadata": {
    "id": "CXMMjzZjrnnB"
   },
   "outputs": [],
   "source": [
    "def gradient_descent(w, b, lr):\n",
    "  '''\n",
    "  gradient_descent algorithm.\n",
    "  \n",
    "  Parameters\n",
    "  ----------\n",
    "  w : torch.tensor\n",
    "      weights.\n",
    "  b : torch.tensor\n",
    "      bias.\n",
    "  lr : FLOAT\n",
    "      learning rate.\n",
    "  \n",
    "  Returns\n",
    "  -------\n",
    "  w, b.\n",
    "  \n",
    "  '''\n",
    "  with torch.no_grad():\n",
    "    w -= w.grad * lr\n",
    "    b -= b.grad * lr\n",
    "    # Set gradient to zero to flush the cache\n",
    "    w.grad.zero_()\n",
    "    b.grad.zero_()\n",
    "\n",
    "  return (w, b)"
   ]
  },
  {
   "cell_type": "markdown",
   "metadata": {
    "id": "f99szh_7K8ST"
   },
   "source": [
    "## Section 4.5: Training\n",
    "\n",
    "Here, we will write from scratch the training loop. First, we choose the learning rate and the number of epochs, and we define the loss function. Then, we initialize the parameters. We use a list `losses` to record the mean-squared error after each **epoch** (with **epoch**, we denote a full pass of the data set through the network)."
   ]
  },
  {
   "cell_type": "code",
   "execution_count": 199,
   "metadata": {
    "colab": {
     "base_uri": "https://localhost:8080/",
     "height": 407,
     "referenced_widgets": [
      "c53646d9bfe34228b7c5acb82c69ba6b",
      "fe8ac18fb59745d3b8b07db42add7630",
      "6e92676115ed4965ba1686c1007f3531",
      "105455209dcb4933900955d113c1a236",
      "ec4da59e263747719909b0ab53baba8f",
      "0a6ddf7ae7de4de0b1ab98f9fcb5618b",
      "80ff73ee3e76436d945ee9cfbd641fdc",
      "bc0d17f104434479952a329536791941"
     ]
    },
    "id": "Bg4woKDGVFlg",
    "outputId": "476213d1-8269-48d8-cd95-56210086dcf4"
   },
   "outputs": [
    {
     "data": {
      "application/vnd.jupyter.widget-view+json": {
       "model_id": "c53646d9bfe34228b7c5acb82c69ba6b",
       "version_major": 2,
       "version_minor": 0
      },
      "text/plain": [
       "HBox(children=(FloatProgress(value=0.0, description='loss: ', max=10000.0, style=ProgressStyle(description_wid…"
      ]
     },
     "metadata": {
      "tags": []
     },
     "output_type": "display_data"
    },
    {
     "name": "stdout",
     "output_type": "stream",
     "text": [
      "\n"
     ]
    },
    {
     "data": {
      "image/png": "[encoded data removed]",
      "text/plain": [
       "<Figure size 1008x360 with 2 Axes>"
      ]
     },
     "metadata": {
      "image/png": {
       "height": 341,
       "width": 990
      },
      "needs_background": "light",
      "tags": []
     },
     "output_type": "display_data"
    }
   ],
   "source": [
    "lr = 1e-2 # learning rate\n",
    "# lr = 1e-5 # learning rate\n",
    "num_epochs = 10000  # number of epochs (updates)\n",
    "net = linear_regression\n",
    "loss = squared_error\n",
    "\n",
    "w = torch.zeros(1, requires_grad = True)\n",
    "b = torch.zeros(1, requires_grad = True)\n",
    "\n",
    "losses = []\n",
    "\n",
    "epoch_range = trange(num_epochs, desc='loss: ', leave=True)\n",
    "\n",
    "for epoch in epoch_range:\n",
    "  if losses:\n",
    "    epoch_range.set_description(\"loss: {:.6f}\".format(losses[-1]))\n",
    "    epoch_range.refresh() # to show immediately the update\n",
    "\n",
    "  y_hat = net(X, w, b)\n",
    "  l = loss(y_hat, y).mean()  # Loss in `X` and `y`\n",
    "  \n",
    "  # Compute gradient on `l` with respect to `w`, `b`\n",
    "  l.backward()\n",
    "  w, b = gradient_descent(w, b, lr)  # Update parameters using their gradient\n",
    "  \n",
    "  losses.append(l)\n",
    "\n",
    "  time.sleep(0.01)\n",
    "\n",
    "w_train = w\n",
    "b_train = b\n",
    "y_hat = net(X, w_train, b_train).reshape(-1,1)\n",
    "\n",
    "plt.figure(figsize=(14, 5))\n",
    "plt.subplot(1, 2, 1)\n",
    "plt.plot(range(num_epochs), losses)\n",
    "plt.xlabel('epoch')\n",
    "plt.ylabel('loss (a.u.)')\n",
    "\n",
    "plt.subplot(1, 2, 2)\n",
    "plt.scatter(X, y, label='original data')\n",
    "plt.plot(X.reshape(-1,1), y_hat.detach(), label='regression',\n",
    "         color='red', linewidth=3.0)\n",
    "plt.xlabel('independent variable')\n",
    "plt.ylabel('dependent variable')\n",
    "plt.title(f'Toy dataset with {N} samples')\n",
    "plt.legend()\n",
    "plt.show()"
   ]
  },
  {
   "cell_type": "markdown",
   "metadata": {
    "id": "riysb6TSuh0j"
   },
   "source": [
    "**Student response**: Now, go back and change the learning rate to a bigger number and see what happens. Change the learning rate to a smaller number and see what happens. What happens if you change the number of epochs to a higher or lower value? Why do you think this is happening? "
   ]
  },
  {
   "cell_type": "code",
   "execution_count": 200,
   "metadata": {
    "cellView": "form",
    "id": "pwujC7tZcBHZ"
   },
   "outputs": [],
   "source": [
    "lr_epochs_vs_convergence = \"Changing the learning rate changes to 1e-5 from 1e-2 means that the weights are no longer learned. The loss continues to decrease but doesn't quite reach a minima.  With 1e-2 as the learning rate, increasing the number of epochs has no impact since the weights are already learned. \" #@param {type:\"string\"}"
   ]
  },
  {
   "cell_type": "markdown",
   "metadata": {
    "id": "ZIyDpsdHfLNz"
   },
   "source": [
    "---\n",
    "\n",
    "# Section 5: Linear regression using Pytorch's Sequential class"
   ]
  },
  {
   "cell_type": "code",
   "execution_count": 201,
   "metadata": {
    "cellView": "form",
    "id": "-em232MHfMti"
   },
   "outputs": [],
   "source": [
    "#@markdown I'm a time tracker, please run me.\n",
    "\n",
    "try: t5;\n",
    "except NameError: t5=time.time()"
   ]
  },
  {
   "cell_type": "markdown",
   "metadata": {
    "id": "dIdB6yaNqiI5"
   },
   "source": [
    "Now, let's implement the same model but here using a PyTorch model. When we implemented linear regression from scratch, we defined our model parameters explicitly and coded the calculations to produce output using basic linear algebra operations. You should know how to do this.\n",
    "\n",
    "But once your models get more complex, and once you have to do this nearly every day, you will be glad for the assistance. The situation is similar to coding up your own blog from scratch. Doing it once or twice is rewarding and instructive, but you would be a lousy web developer if every time you need a blog, you spent a month reinventing the wheel.\n",
    "\n",
    "We can use a framework’s predefined layers for standard operations, which allow us to focus especially on the layers used to construct the model rather than focusing on the implementation. We will first define a model variable net, which will refer to the Sequential class instance. The Sequential class defines a container for several layers that will be chained together. Given input data, a Sequential instance passes it through the first layer, passing the output as the second layer’s input and so forth. Our model consists of only one layer in the following example, so we do not really need Sequential. But since nearly all of our future models will involve multiple layers, we will use it anyway to familiarize you with the most standard workflow.\n",
    "\n",
    "Recall the architecture of a single-layer network. The layer is said to be fully-connected because each of its inputs is connected to each of its outputs through matrix-vector multiplication.\n",
    "\n",
    "The only difference is that here we use the design matrix in a transposed form; $ \\mathbf{X} \\in \\mathbb{R}^{N \\times D} $, thus the model is defined as:\n",
    "\n",
    "\\begin{equation}\n",
    "\\mathbf{Y} = \\mathbf{X} \\mathbf{w} + b\n",
    "\\end{equation}"
   ]
  },
  {
   "cell_type": "code",
   "execution_count": 203,
   "metadata": {
    "colab": {
     "base_uri": "https://localhost:8080/",
     "height": 407,
     "referenced_widgets": [
      "43a77f2e462f4174964c7350e5bdc009",
      "d03d679473084dc49f682a4808884047",
      "a32ea29c7a094bfa9d55e8906e3fbfe0",
      "f6ddf031f5e74f1fb2f10119580c0109",
      "c480975c607a4ea18b2065c465ea2f08",
      "3950f9a557f94d98851c0be87cab3c1f",
      "095250b4a9714a0c890cd55a864b3102",
      "01ba766a815b4acc9573ff1a63c546f0"
     ]
    },
    "id": "r5f4JH9gqgxf",
    "outputId": "b7ca2756-6190-46e3-e145-71bf64868960"
   },
   "outputs": [
    {
     "data": {
      "application/vnd.jupyter.widget-view+json": {
       "model_id": "43a77f2e462f4174964c7350e5bdc009",
       "version_major": 2,
       "version_minor": 0
      },
      "text/plain": [
       "HBox(children=(FloatProgress(value=0.0, description='loss: ', max=10000.0, style=ProgressStyle(description_wid…"
      ]
     },
     "metadata": {
      "tags": []
     },
     "output_type": "display_data"
    },
    {
     "name": "stdout",
     "output_type": "stream",
     "text": [
      "\n"
     ]
    },
    {
     "data": {
      "image/png": "[encoded data removed]",
      "text/plain": [
       "<Figure size 1008x360 with 2 Axes>"
      ]
     },
     "metadata": {
      "image/png": {
       "height": 341,
       "width": 990
      },
      "needs_background": "light",
      "tags": []
     },
     "output_type": "display_data"
    }
   ],
   "source": [
    "net = nn.Sequential(nn.Linear(1, 1))\n",
    "\n",
    "net[0].weight.data.fill_(0)\n",
    "net[0].bias.data.fill_(0)\n",
    "\n",
    "loss = nn.MSELoss()\n",
    "\n",
    "optimizer = torch.optim.SGD(net.parameters(), lr=1e-2)\n",
    "\n",
    "losses = []\n",
    "\n",
    "epoch_range = trange(num_epochs, desc='loss: ', leave=True)\n",
    "\n",
    "for epoch in epoch_range:\n",
    "  if losses:\n",
    "    epoch_range.set_description(\"loss: {:.6f}\".format(losses[-1]))\n",
    "    epoch_range.refresh() # to show immediately the update\n",
    "\n",
    "  l = loss(net(X.T) , y)\n",
    "  l.backward()\n",
    "  optimizer.step()\n",
    "  optimizer.zero_grad()\n",
    "  l = loss(net(X.T), y)\n",
    "  losses.append(l)\n",
    "\n",
    "y_hat = net(X.T).reshape(-1,1)\n",
    "\n",
    "plt.figure(figsize=(14, 5))\n",
    "plt.subplot(1, 2, 1)\n",
    "plt.plot(range(num_epochs), losses)\n",
    "plt.xlabel('epoch')\n",
    "plt.ylabel('loss (a.u.)')\n",
    "\n",
    "plt.subplot(1, 2, 2)\n",
    "plt.scatter(X, y, label='original data')\n",
    "plt.plot(X.reshape(-1,1), y_hat.detach(), label='regression',\n",
    "         color='red', linewidth=3.0)\n",
    "plt.xlabel('independent variable')\n",
    "plt.ylabel('dependent variable')\n",
    "plt.title(f'Toy dataset with {N} samples')\n",
    "plt.legend()\n",
    "plt.show()"
   ]
  },
  {
   "cell_type": "markdown",
   "metadata": {
    "id": "YKVWwe_avAkQ"
   },
   "source": [
    "## Section 5.1: Model evaluation\n",
    "\n",
    "We compare the model parameters learned by training the given data-set and the actual parameters generated by our dataset. To access parameters, we first access the layer that we need from the model (i.e., `net`) and then access that layer’s weights and bias. As in our from-scratch implementation, note that our estimated parameters are close to their ground-truth counterparts."
   ]
  },
  {
   "cell_type": "code",
   "execution_count": 204,
   "metadata": {
    "colab": {
     "base_uri": "https://localhost:8080/"
    },
    "id": "pyYgP2gfvLGX",
    "outputId": "bd234c9c-15bf-4694-9940-adff7632e6b9"
   },
   "outputs": [
    {
     "name": "stdout",
     "output_type": "stream",
     "text": [
      "error in estimating w: tensor([[-0.0301]])\n",
      "error in estimating b: tensor([0.0153])\n",
      "Original w: tensor([[2.5000]]), from-scratch: tensor([2.5301]), pytorch: tensor([[2.5301]])\n",
      "Original b: 1.2, from-scratch: tensor([1.1847]), pytorch: tensor([1.1847])\n",
      "Original w: tensor([[2.5000]]), analytical: [2.53014445]\n",
      "Original b: 1.2, analytical: [1.18474046]\n"
     ]
    }
   ],
   "source": [
    "w_pytorch = net[0].weight.data\n",
    "print('error in estimating w:', original_w - w_pytorch.reshape(original_w.shape))\n",
    "b_pytorch = net[0].bias.data\n",
    "print('error in estimating b:', original_b - b_pytorch)\n",
    "\n",
    "print(f'Original w: {original_w}, from-scratch: {w_train.detach()}, pytorch: {w_pytorch}')\n",
    "print(f'Original b: {original_b}, from-scratch: {b_train.detach()}, pytorch: {b_pytorch}')\n",
    "\n",
    "\n",
    "X = X.cpu().detach().numpy()\n",
    "y = y.cpu().detach().numpy()\n",
    "\n",
    "# We append a row with ones\n",
    "X_append = np.vstack((X, np.ones((1,1000))))\n",
    "\n",
    "# Check if the inverse matrix exists!!\n",
    "params = analytical_sol(X_append.T, y)\n",
    "if len(params) != 0:\n",
    "  print(f'Original w: {original_w}, analytical: {params[0]}')\n",
    "  print(f'Original b: {original_b}, analytical: {params[1]}')"
   ]
  },
  {
   "cell_type": "markdown",
   "metadata": {
    "id": "tPZzpQesh-DS"
   },
   "source": [
    "## Section 5.2: More features than the number of examples"
   ]
  },
  {
   "cell_type": "code",
   "execution_count": 205,
   "metadata": {
    "cellView": "form",
    "colab": {
     "base_uri": "https://localhost:8080/",
     "height": 518
    },
    "id": "LW8wJnbMh_nf",
    "outputId": "8bd4b1b5-689b-4f1e-a79c-43cf3cf852dc"
   },
   "outputs": [
    {
     "name": "stdout",
     "output_type": "stream",
     "text": [
      "Video available at https://youtube.com/watch?v=_uhMofhfYno\n"
     ]
    },
    {
     "data": {
      "image/jpeg": "[encoded data removed]",
      "text/html": [
       "\n",
       "        <iframe\n",
       "            width=\"854\"\n",
       "            height=\"480\"\n",
       "            src=\"https://www.youtube.com/embed/_uhMofhfYno?fs=1\"\n",
       "            frameborder=\"0\"\n",
       "            allowfullscreen\n",
       "        ></iframe>\n",
       "        "
      ],
      "text/plain": [
       "<IPython.lib.display.YouTubeVideo at 0x7fec64f75d30>"
      ]
     },
     "execution_count": 205,
     "metadata": {
      "tags": []
     },
     "output_type": "execute_result"
    }
   ],
   "source": [
    "#@title Video: Linear Regression with More Dimensions than Data\n",
    "\n",
    "video = YouTubeVideo(id=\"_uhMofhfYno\", width=854, height=480, fs=1)\n",
    "print(\"Video available at https://youtube.com/watch?v=\" + video.id)\n",
    "video"
   ]
  },
  {
   "cell_type": "markdown",
   "metadata": {
    "id": "8mqQp7GpfUKv"
   },
   "source": [
    "But, what if we do not have enough data? And what about if the dataset is linearly dependent?"
   ]
  },
  {
   "cell_type": "code",
   "execution_count": 206,
   "metadata": {
    "colab": {
     "base_uri": "https://localhost:8080/"
    },
    "id": "DzLkVTXmf4jZ",
    "outputId": "e01536f3-473d-4c7d-c8e0-114453fca158"
   },
   "outputs": [
    {
     "name": "stdout",
     "output_type": "stream",
     "text": [
      "The dataset has N=10 examples in the 200D space!\n"
     ]
    }
   ],
   "source": [
    "# Generate a second dataset with D>>N\n",
    "\n",
    "original_w = torch.randn(200, 1).reshape(-1,1)\n",
    "original_b = 1.2\n",
    "N = 10 # number of examples\n",
    "X, y = synthetic_dataset(original_w, original_b, num_examples=N, sigma=0.5)\n",
    "\n",
    "print(f'The dataset has N={X.shape[1]} examples in the {X.shape[0]}D space!')"
   ]
  },
  {
   "cell_type": "code",
   "execution_count": 207,
   "metadata": {
    "colab": {
     "base_uri": "https://localhost:8080/",
     "height": 496,
     "referenced_widgets": [
      "8f893fac39df421e8bdd1c8b75dfceac",
      "9f4b93ffdc2b4daf9502475c231a26a5",
      "00a4486e2ba64e938d6abf02155e943f",
      "dd4f37f89f40486fbe85dd39c33550c0",
      "b5da382f6cd64b909c9b096ff3a995e7",
      "5cd01bdfe6914b62a7e45783d2fc8384",
      "04620807c6e44c7e8db6dd51f53958e4",
      "e5158bfc5a2941c4a6f0a98a4d01abdd"
     ]
    },
    "id": "YR3XkdH7gQLH",
    "outputId": "bec3acc6-6b51-4d7d-fa71-3ffc4042d241"
   },
   "outputs": [
    {
     "name": "stdout",
     "output_type": "stream",
     "text": [
      "torch.Size([1, 200])\n"
     ]
    },
    {
     "data": {
      "application/vnd.jupyter.widget-view+json": {
       "model_id": "8f893fac39df421e8bdd1c8b75dfceac",
       "version_major": 2,
       "version_minor": 0
      },
      "text/plain": [
       "HBox(children=(FloatProgress(value=0.0, description='loss: ', max=10000.0, style=ProgressStyle(description_wid…"
      ]
     },
     "metadata": {
      "tags": []
     },
     "output_type": "display_data"
    },
    {
     "name": "stdout",
     "output_type": "stream",
     "text": [
      "\n"
     ]
    },
    {
     "data": {
      "image/png": "[encoded data removed]",
      "text/plain": [
       "<Figure size 576x432 with 1 Axes>"
      ]
     },
     "metadata": {
      "image/png": {
       "height": 413,
       "width": 558
      },
      "needs_background": "light",
      "tags": []
     },
     "output_type": "display_data"
    }
   ],
   "source": [
    "# Model construction\n",
    "net = nn.Sequential(nn.Linear(X.shape[0], 1))\n",
    "\n",
    "# Parameter initialization to zero\n",
    "net[0].weight.data.fill_(0)\n",
    "net[0].bias.data.fill_(0)\n",
    "print(net[0].weight.shape)\n",
    "\n",
    "loss = nn.MSELoss()\n",
    "\n",
    "optimizer = torch.optim.SGD(net.parameters(), lr=1e-2)\n",
    "\n",
    "losses = []\n",
    "\n",
    "epoch_range = trange(num_epochs, desc='loss: ', leave=True)\n",
    "\n",
    "for epoch in epoch_range:\n",
    "  if losses:\n",
    "    epoch_range.set_description(\"loss: {:.6f}\".format(losses[-1]))\n",
    "    epoch_range.refresh() # to show immediately the update\n",
    "\n",
    "  l = loss(net(X.T), y)\n",
    "  l.backward()\n",
    "  optimizer.step()\n",
    "  optimizer.zero_grad()\n",
    "  l = loss(net(X.T), y)\n",
    "  losses.append(l)\n",
    "\n",
    "y_hat = net(X.T).reshape(-1,1)\n",
    "\n",
    "plt.figure()\n",
    "plt.plot(range(num_epochs), losses)\n",
    "plt.xlabel('epoch')\n",
    "plt.ylabel('loss (a.u.)')\n",
    "plt.show()"
   ]
  },
  {
   "cell_type": "markdown",
   "metadata": {
    "id": "I5L1Au2NgTdv"
   },
   "source": [
    "Let's compute the analytic solution."
   ]
  },
  {
   "cell_type": "code",
   "execution_count": 208,
   "metadata": {
    "colab": {
     "base_uri": "https://localhost:8080/"
    },
    "id": "zgfCNBL8gWk0",
    "outputId": "0e30cab8-b8f3-4368-de89-adc8eec2d542"
   },
   "outputs": [
    {
     "name": "stdout",
     "output_type": "stream",
     "text": [
      "LinAlgError. Matrix is Singular. No analytical solution.\n"
     ]
    }
   ],
   "source": [
    "# Append a row with ones and take the transpose\n",
    "X_append = np.vstack((X.detach(), np.ones((1, X.shape[1])))).T\n",
    "\n",
    "# Analytical solution\n",
    "params = analytical_sol(X_append, y.cpu().detach().numpy())\n",
    "if len(params) != 0:\n",
    "  print(f'Original w: {original_w}, analytical: {params[0]}')\n",
    "  print(f'Original b: {original_b}, analytical: {params[1]}')\n"
   ]
  },
  {
   "cell_type": "code",
   "execution_count": 209,
   "metadata": {
    "cellView": "form",
    "colab": {
     "base_uri": "https://localhost:8080/",
     "height": 518
    },
    "id": "xoMBB0mxi-dF",
    "outputId": "d5821945-6d02-44fd-d683-5a88b5c48957"
   },
   "outputs": [
    {
     "name": "stdout",
     "output_type": "stream",
     "text": [
      "Video available at https://youtube.com/watch?v=FpcSTi9YITc\n"
     ]
    },
    {
     "data": {
      "image/jpeg": "[encoded data removed]",
      "text/html": [
       "\n",
       "        <iframe\n",
       "            width=\"854\"\n",
       "            height=\"480\"\n",
       "            src=\"https://www.youtube.com/embed/FpcSTi9YITc?fs=1\"\n",
       "            frameborder=\"0\"\n",
       "            allowfullscreen\n",
       "        ></iframe>\n",
       "        "
      ],
      "text/plain": [
       "<IPython.lib.display.YouTubeVideo at 0x7fec64b57fd0>"
      ]
     },
     "execution_count": 209,
     "metadata": {
      "tags": []
     },
     "output_type": "execute_result"
    }
   ],
   "source": [
    "#@title Video: Condition Numbers\n",
    "\n",
    "video = YouTubeVideo(id=\"FpcSTi9YITc\", width=854, height=480, fs=1)\n",
    "print(\"Video available at https://youtube.com/watch?v=\" + video.id)\n",
    "\n",
    "video"
   ]
  },
  {
   "cell_type": "markdown",
   "metadata": {
    "id": "VtRxB698CTfG"
   },
   "source": [
    "---\n",
    "# Wrap up"
   ]
  },
  {
   "cell_type": "markdown",
   "metadata": {
    "id": "P5-HZSWcCbr3"
   },
   "source": [
    "## Submit responses"
   ]
  },
  {
   "cell_type": "code",
   "execution_count": 210,
   "metadata": {
    "colab": {
     "base_uri": "https://localhost:8080/",
     "height": 421
    },
    "id": "FCJJf7OFk8SU",
    "outputId": "4b434337-6109-4621-fa56-cca1f9c93c49"
   },
   "outputs": [
    {
     "data": {
      "text/html": [
       "\n",
       "        <iframe\n",
       "            width=\"800\"\n",
       "            height=\"400\"\n",
       "            src=\"https://airtable.com/embed/shrjWLVOEJF0CA3up?prefill_pennkey=spatank&prefill_pod=sublime-newt&prefill_my_w1_upshot=It+is+reassuring+to+know+that+the+first+week+was+a+lot+for+other+people+as+well.+I+was+kind+of+worried+that+I+might+be+under-prepared+for+the+class+because+of+how+fast-paced+it+already+seemed.+It+is+good+to+know+that+this+was+by+design+on+the+part+of+the+instructors.+&prefill_expectations=I+want+to+feel+comfortable+with+the+fundamental+math+behind+deep+learning.+I+want+to+be+able+to+code+up+a+deep+learning+system+from+scratch+proficiently,+and+finally+I'd+like+to+learn+more+about+the+social+science+and+biology+applications+of+deep+learning.+&prefill_deep_learning_benchmark=In+CIS+521+and+CIS+530,+we+used+PyTorch+for+a+couple+homework+assignments.+I+don't+have+experience+with+any+other+packages,+but+personally+I+prefer+ease+of+use+over+either+flexibility+or+performance.&prefill_derivative_free_opt_alg=I've+seen+coordinate+descent+used+in+a+variational+inference+problem.+Instead+of+needing+to+compute+derivatives,+this+approach+solves+multiple+equations+iteratively+to+arrive+at+the+optimal+parameter+values.+&prefill_autograd_uses=Since+it+is+a+tool+for+differentiation,+it+is+useful+for+optimization+(finding+extrema).+It+is+useful+in+DL+for+computing+updates+to+weights.&prefill_lr_epochs_vs_convergence=Changing+the+learning+rate+changes+to+1e-5+from+1e-2+means+that+the+weights+are+no+longer+learned.+The+loss+continues+to+decrease+but+doesn't+quite+reach+a+minima.++With+1e-2+as+the+learning+rate,+increasing+the+number+of+epochs+has+no+impact+since+the+weights+are+already+learned.+\"\n",
       "            frameborder=\"0\"\n",
       "            allowfullscreen\n",
       "        ></iframe>\n",
       "        "
      ],
      "text/plain": [
       "<IPython.lib.display.IFrame at 0x7fec64abae10>"
      ]
     },
     "metadata": {
      "tags": []
     },
     "output_type": "display_data"
    }
   ],
   "source": [
    "#@markdown #Run Cell to Show Airtable Form\n",
    "#@markdown ##**Confirm your answers and then click \"Submit\"**\n",
    "\n",
    "import time\n",
    "import numpy as np\n",
    "from IPython.display import IFrame\n",
    "\n",
    "def prefill_form(src, fields: dict):\n",
    "  '''\n",
    "  src: the original src url to embed the form\n",
    "  fields: a dictionary of field:value pairs,\n",
    "  e.g. {\"pennkey\": my_pennkey, \"location\": my_location}\n",
    "  '''\n",
    "  prefills = \"&\".join([\"prefill_%s=%s\"%(key, fields[key]) for key in fields])\n",
    "  src = src + prefills\n",
    "  src = \"+\".join(src.split(\" \"))\n",
    "  return src\n",
    "\n",
    "\n",
    "#autofill time if it is not present\n",
    "try: t0;\n",
    "except NameError: t0 = time.time()\n",
    "try: t1;\n",
    "except NameError: t1 = time.time()\n",
    "try: t2;\n",
    "except NameError: t2 = time.time()\n",
    "try: t3;\n",
    "except NameError: t3 = time.time()\n",
    "try: t4;\n",
    "except NameError: t4 = time.time()\n",
    "try: t5;\n",
    "except NameError: t5 = time.time()\n",
    "try: t6;\n",
    "except NameError: t6 = time.time()\n",
    "\n",
    "#autofill fields if they are not present\n",
    "#a missing pennkey and pod will result in an Airtable warning\n",
    "#which is easily fixed user-side.\n",
    "try: my_pennkey;\n",
    "except NameError: my_pennkey = \"\"\n",
    "try: my_pod;\n",
    "except NameError: my_pod = \"\"\n",
    "try: my_w1_upshot;\n",
    "except NameError: my_w1_upshot = \"\"\n",
    "try: my_expectations;\n",
    "except NameError: my_expectations = \"\"\n",
    "try: deep_learning_benchmark;\n",
    "except NameError: deep_learning_benchmark = \"\"\n",
    "try: derivative_free_opt_alg;\n",
    "except NameError: derivative_free_opt_alg = \"\"\n",
    "try: autograd_uses;\n",
    "except NameError: autograd_uses = \"\"\n",
    "try: lr_epochs_vs_convergence;\n",
    "except NameError: lr_epochs_vs_convergence = \"\"\n",
    "\n",
    "times = [(t-t0) for t in [t1,t2,t3,t4,t5,t6]]\n",
    "\n",
    "fields = {\"pennkey\": my_pennkey,\n",
    "          \"pod\": my_pod,\n",
    "          \"my_w1_upshot\": my_w1_upshot,\n",
    "          \"expectations\": my_expectations,\n",
    "          \"deep_learning_benchmark\": deep_learning_benchmark,\n",
    "          \"derivative_free_opt_alg\": derivative_free_opt_alg,\n",
    "          \"autograd_uses\": autograd_uses,\n",
    "          \"lr_epochs_vs_convergence\": lr_epochs_vs_convergence}\n",
    "          # \"cumulative_times\": times}\n",
    "\n",
    "src = \"https://airtable.com/embed/shrjWLVOEJF0CA3up?\"\n",
    "\n",
    "#now instead of the original source url, we do: src = prefill_form(src, fields)\n",
    "display(IFrame(src = prefill_form(src, fields), width = 800, height = 400))\n"
   ]
  },
  {
   "cell_type": "markdown",
   "metadata": {
    "id": "HKn5d3CCC05w"
   },
   "source": [
    "## Feedback\n",
    "How could this session have been better? How happy are you in your group? How do you feel right now?\n",
    "\n",
    "Feel free to use the embeded form below or use this link:\n",
    "<a target=\"_blank\" rel=\"noopener noreferrer\" href=\"https://airtable.com/shrNSJ5ECXhNhsYss\">https://airtable.com/shrNSJ5ECXhNhsYss</a>"
   ]
  },
  {
   "cell_type": "code",
   "execution_count": 211,
   "metadata": {
    "colab": {
     "base_uri": "https://localhost:8080/",
     "height": 421
    },
    "id": "HIvhG6VZ8zez",
    "outputId": "e4888ca1-70ef-4dcb-d7cc-78fed6776e3c"
   },
   "outputs": [
    {
     "data": {
      "text/html": [
       "\n",
       "        <iframe\n",
       "            width=\"800\"\n",
       "            height=\"400\"\n",
       "            src=\"https://airtable.com/embed/shrNSJ5ECXhNhsYss?backgroundColor=red\"\n",
       "            frameborder=\"0\"\n",
       "            allowfullscreen\n",
       "        ></iframe>\n",
       "        "
      ],
      "text/plain": [
       "<IPython.lib.display.IFrame at 0x7fec64c1b080>"
      ]
     },
     "metadata": {
      "tags": []
     },
     "output_type": "display_data"
    }
   ],
   "source": [
    "display(IFrame(src=\"https://airtable.com/embed/shrNSJ5ECXhNhsYss?backgroundColor=red\", width = 800, height = 400))"
   ]
  },
  {
   "cell_type": "markdown",
   "metadata": {
    "id": "IERM800txGdR"
   },
   "source": [
    "---\n",
    "<a name=\"proof\"></a>\n",
    "# Appendix: Linear Regression analytic solution - Proof\n",
    "\n",
    "\\begin{align}\n",
    "\\frac{\\partial L(\\textbf{w})}{\\partial \\textbf{w}} &{}= 0 \\\\\n",
    "\\frac{\\partial }{\\partial \\textbf{w}}\\left( \\left( \\textbf{Y} - \\textbf{X}\\textbf{w}\\right)^{\\text{T}} \\left( \\textbf{Y} - \\textbf{X}\\textbf{w}\\right) \\right) &{} = 0 \\\\\n",
    "\\frac{\\partial }{\\partial \\textbf{w}}\\left( \\left( \\textbf{Y}^{\\text{T}} - \\left( \\textbf{X}\\textbf{w} \\right)^{\\text{T}}\\right) \\left( \\textbf{Y} - \\textbf{X}\\textbf{w}\\right) \\right) &{} = 0 \\\\\n",
    "\\frac{\\partial }{\\partial \\textbf{w}} \\left( \\textbf{Y}^{\\text{T}}\\textbf{Y} -\n",
    "\\left( \\textbf{X}\\textbf{w} \\right)^{\\text{T}}\\textbf{Y} - \\textbf{Y}^{\\text{T}}\\left( \\textbf{X}\\textbf{w}\\right)+ \\textbf{w}\\textbf{X}^{\\text{T}}\\textbf{X}\\textbf{w} \\right)&{}= 0\n",
    "\\end{align}\n",
    "\n",
    "Here, we need to make some simplifications on the second term in the left-hand side. We know that $\\textbf{X} \\in \\mathbb{R}^{N \\times D+1}, \\textbf{w} \\in \\mathbb{R}^{D+1 \\times 1}$, therefore their product $\\in \\mathbb{R}^{N \\times 1}$. Thus, the dimensions of the second order is $1$, i.e., $ \\left( \\textbf{X}\\textbf{w} \\right)^{\\text{T}} \\in \\mathbb{R}$. This means that the second order is a scalar.\n",
    "\n",
    "Thus, we can substitute with its transpose, i.e., $\\left( \\left( \\textbf{X}\\textbf{w} \\right)^{\\text{T}} \\textbf{Y} \\right)^{\\text{T}} = \\textbf{Y}^{\\text{T}} \\left( \\textbf{X}\\textbf{w} \\right)$. So the derivative is simplified in:\n",
    "\n",
    "\\begin{align}\n",
    "\\frac{\\partial }{\\partial \\textbf{w}} \\left( \\textbf{Y}^{\\text{T}}\\textbf{Y} -\\textbf{Y}^{\\text{T}} \\left( \\textbf{X}\\textbf{w} \\right) - \\textbf{Y}^{\\text{T}} \\left( \\textbf{X}\\textbf{w} \\right) + \\textbf{w}^{\\text{T}}\\textbf{X}^{\\text{T}}\\textbf{X}\\textbf{w} \\right)&{}= 0 \\\\\n",
    "\\frac{\\partial }{\\partial \\textbf{w}} \\left( \\textbf{Y}^{\\text{T}}\\textbf{Y} -2\\textbf{Y}^{\\text{T}} \\left( \\textbf{X}\\textbf{w} \\right) + \\textbf{w}^{\\text{T}}\\textbf{X}^{\\text{T}}\\textbf{X}\\textbf{w} \\right)&{}= 0 \\\\\n",
    "\\frac{\\partial }{\\partial \\textbf{w}} \\left( \\textbf{Y}^{\\text{T}}\\textbf{Y} -2\\left( \\textbf{X}^{\\text{T}}\\textbf{Y} \\right)^{\\text{T}} \\textbf{w} + \\textbf{w}^{\\text{T}}\\textbf{X}^{\\text{T}}\\textbf{X}\\textbf{w} \\right)&{}= 0 \\\\\n",
    "-2\\textbf{X}^{\\text{T}}\\textbf{Y} + 2\\textbf{X}^{\\text{T}}\\textbf{X}\\textbf{w} &{}= 0\n",
    "\\end{align}\n",
    "\n",
    "Assuming that $\\textbf{X}^{\\text{T}}\\textbf{X}$ is full-rank and thus its inverse exists (implying that $N>D$ and the rows are not all linearly dependent:\n",
    "\n",
    "\\begin{equation}\n",
    "\\textbf{w}^{\\textbf{*}} = \\left( \\textbf{X}^{\\text{T}}\\textbf{X} \\right)^{-1}\\textbf{X}^{\\text{T}}\\textbf{Y}\n",
    "\\end{equation}\n",
    "\n",
    "\n",
    "For the solution, we have used the following identities:\n",
    "\n",
    "*Derivative of a linear function*\n",
    "\n",
    "\\begin{equation}\n",
    "\\frac{\\partial }{\\partial \\vec{x}} \\vec{\\alpha}\\vec{x} = \\frac{\\partial }{\\partial \\vec{x}} \\vec{\\alpha}^{\\text{T}}\\vec{x} = \\frac{\\partial }{\\partial \\vec{x}} \\vec{x}^{\\text{T}} \\vec{\\alpha} = \\vec{\\alpha}\n",
    "\\end{equation}\n",
    "\n",
    "*(Think of calculus: $\\frac{d}{dx}(\\alpha x)=\\alpha$)*\n",
    "\n",
    "*Derivative of a quadratic function*\n",
    "\n",
    "\\begin{equation}\n",
    "\\frac{\\partial }{\\partial \\vec{x}} \\vec{x}^{\\text{T}}A \\vec{x} = (A + A^{\\text{T}}) \\vec{x}\n",
    "\\end{equation}\n",
    "\n",
    "where if $A=A^{\\text{T}}$, i.e., $A$ is symmetric, then\n",
    "\n",
    "\\begin{equation}\n",
    "\\frac{\\partial }{\\partial \\vec{x}} \\vec{x}^{\\text{T}}A \\vec{x} = 2A \\vec{x}\n",
    "\\end{equation}\n",
    "\n",
    "*(Think of calculus: $\\frac{d}{dx}(\\alpha x^2)=2 \\alpha x$)*\n",
    "\n"
   ]
  }
 ],
 "metadata": {
  "accelerator": "GPU",
  "colab": {
   "collapsed_sections": [],
   "include_colab_link": true,
   "name": "W2_Tutorial1_SPP.ipynb",
   "provenance": []
  },
  "kernel": {
   "display_name": "Python 3",
   "language": "python",
   "name": "python3"
  },
  "kernelspec": {
   "display_name": "Python 3",
   "language": "python",
   "name": "python3"
  },
  "language_info": {
   "codemirror_mode": {
    "name": "ipython",
    "version": 3
   },
   "file_extension": ".py",
   "mimetype": "text/x-python",
   "name": "python",
   "nbconvert_exporter": "python",
   "pygments_lexer": "ipython3",
   "version": "3.7.8"
  },
  "widgets": {
   "application/vnd.jupyter.widget-state+json": {
    "00a4486e2ba64e938d6abf02155e943f": {
     "model_module": "@jupyter-widgets/controls",
     "model_name": "FloatProgressModel",
     "state": {
      "_dom_classes": [],
      "_model_module": "@jupyter-widgets/controls",
      "_model_module_version": "1.5.0",
      "_model_name": "FloatProgressModel",
      "_view_count": null,
      "_view_module": "@jupyter-widgets/controls",
      "_view_module_version": "1.5.0",
      "_view_name": "ProgressView",
      "bar_style": "success",
      "description": "loss: 0.000000: 100%",
      "description_tooltip": null,
      "layout": "IPY_MODEL_5cd01bdfe6914b62a7e45783d2fc8384",
      "max": 10000,
      "min": 0,
      "orientation": "horizontal",
      "style": "IPY_MODEL_b5da382f6cd64b909c9b096ff3a995e7",
      "value": 10000
     }
    },
    "01ba766a815b4acc9573ff1a63c546f0": {
     "model_module": "@jupyter-widgets/base",
     "model_name": "LayoutModel",
     "state": {
      "_model_module": "@jupyter-widgets/base",
      "_model_module_version": "1.2.0",
      "_model_name": "LayoutModel",
      "_view_count": null,
      "_view_module": "@jupyter-widgets/base",
      "_view_module_version": "1.2.0",
      "_view_name": "LayoutView",
      "align_content": null,
      "align_items": null,
      "align_self": null,
      "border": null,
      "bottom": null,
      "display": null,
      "flex": null,
      "flex_flow": null,
      "grid_area": null,
      "grid_auto_columns": null,
      "grid_auto_flow": null,
      "grid_auto_rows": null,
      "grid_column": null,
      "grid_gap": null,
      "grid_row": null,
      "grid_template_areas": null,
      "grid_template_columns": null,
      "grid_template_rows": null,
      "height": null,
      "justify_content": null,
      "justify_items": null,
      "left": null,
      "margin": null,
      "max_height": null,
      "max_width": null,
      "min_height": null,
      "min_width": null,
      "object_fit": null,
      "object_position": null,
      "order": null,
      "overflow": null,
      "overflow_x": null,
      "overflow_y": null,
      "padding": null,
      "right": null,
      "top": null,
      "visibility": null,
      "width": null
     }
    },
    "04620807c6e44c7e8db6dd51f53958e4": {
     "model_module": "@jupyter-widgets/controls",
     "model_name": "DescriptionStyleModel",
     "state": {
      "_model_module": "@jupyter-widgets/controls",
      "_model_module_version": "1.5.0",
      "_model_name": "DescriptionStyleModel",
      "_view_count": null,
      "_view_module": "@jupyter-widgets/base",
      "_view_module_version": "1.2.0",
      "_view_name": "StyleView",
      "description_width": ""
     }
    },
    "095250b4a9714a0c890cd55a864b3102": {
     "model_module": "@jupyter-widgets/controls",
     "model_name": "DescriptionStyleModel",
     "state": {
      "_model_module": "@jupyter-widgets/controls",
      "_model_module_version": "1.5.0",
      "_model_name": "DescriptionStyleModel",
      "_view_count": null,
      "_view_module": "@jupyter-widgets/base",
      "_view_module_version": "1.2.0",
      "_view_name": "StyleView",
      "description_width": ""
     }
    },
    "0a6ddf7ae7de4de0b1ab98f9fcb5618b": {
     "model_module": "@jupyter-widgets/base",
     "model_name": "LayoutModel",
     "state": {
      "_model_module": "@jupyter-widgets/base",
      "_model_module_version": "1.2.0",
      "_model_name": "LayoutModel",
      "_view_count": null,
      "_view_module": "@jupyter-widgets/base",
      "_view_module_version": "1.2.0",
      "_view_name": "LayoutView",
      "align_content": null,
      "align_items": null,
      "align_self": null,
      "border": null,
      "bottom": null,
      "display": null,
      "flex": null,
      "flex_flow": null,
      "grid_area": null,
      "grid_auto_columns": null,
      "grid_auto_flow": null,
      "grid_auto_rows": null,
      "grid_column": null,
      "grid_gap": null,
      "grid_row": null,
      "grid_template_areas": null,
      "grid_template_columns": null,
      "grid_template_rows": null,
      "height": null,
      "justify_content": null,
      "justify_items": null,
      "left": null,
      "margin": null,
      "max_height": null,
      "max_width": null,
      "min_height": null,
      "min_width": null,
      "object_fit": null,
      "object_position": null,
      "order": null,
      "overflow": null,
      "overflow_x": null,
      "overflow_y": null,
      "padding": null,
      "right": null,
      "top": null,
      "visibility": null,
      "width": null
     }
    },
    "105455209dcb4933900955d113c1a236": {
     "model_module": "@jupyter-widgets/controls",
     "model_name": "HTMLModel",
     "state": {
      "_dom_classes": [],
      "_model_module": "@jupyter-widgets/controls",
      "_model_module_version": "1.5.0",
      "_model_name": "HTMLModel",
      "_view_count": null,
      "_view_module": "@jupyter-widgets/controls",
      "_view_module_version": "1.5.0",
      "_view_name": "HTMLView",
      "description": "",
      "description_tooltip": null,
      "layout": "IPY_MODEL_bc0d17f104434479952a329536791941",
      "placeholder": "​",
      "style": "IPY_MODEL_80ff73ee3e76436d945ee9cfbd641fdc",
      "value": " 10000/10000 [01:52&lt;00:00, 88.81it/s]"
     }
    },
    "3950f9a557f94d98851c0be87cab3c1f": {
     "model_module": "@jupyter-widgets/base",
     "model_name": "LayoutModel",
     "state": {
      "_model_module": "@jupyter-widgets/base",
      "_model_module_version": "1.2.0",
      "_model_name": "LayoutModel",
      "_view_count": null,
      "_view_module": "@jupyter-widgets/base",
      "_view_module_version": "1.2.0",
      "_view_name": "LayoutView",
      "align_content": null,
      "align_items": null,
      "align_self": null,
      "border": null,
      "bottom": null,
      "display": null,
      "flex": null,
      "flex_flow": null,
      "grid_area": null,
      "grid_auto_columns": null,
      "grid_auto_flow": null,
      "grid_auto_rows": null,
      "grid_column": null,
      "grid_gap": null,
      "grid_row": null,
      "grid_template_areas": null,
      "grid_template_columns": null,
      "grid_template_rows": null,
      "height": null,
      "justify_content": null,
      "justify_items": null,
      "left": null,
      "margin": null,
      "max_height": null,
      "max_width": null,
      "min_height": null,
      "min_width": null,
      "object_fit": null,
      "object_position": null,
      "order": null,
      "overflow": null,
      "overflow_x": null,
      "overflow_y": null,
      "padding": null,
      "right": null,
      "top": null,
      "visibility": null,
      "width": null
     }
    },
    "43a77f2e462f4174964c7350e5bdc009": {
     "model_module": "@jupyter-widgets/controls",
     "model_name": "HBoxModel",
     "state": {
      "_dom_classes": [],
      "_model_module": "@jupyter-widgets/controls",
      "_model_module_version": "1.5.0",
      "_model_name": "HBoxModel",
      "_view_count": null,
      "_view_module": "@jupyter-widgets/controls",
      "_view_module_version": "1.5.0",
      "_view_name": "HBoxView",
      "box_style": "",
      "children": [
       "IPY_MODEL_a32ea29c7a094bfa9d55e8906e3fbfe0",
       "IPY_MODEL_f6ddf031f5e74f1fb2f10119580c0109"
      ],
      "layout": "IPY_MODEL_d03d679473084dc49f682a4808884047"
     }
    },
    "5cd01bdfe6914b62a7e45783d2fc8384": {
     "model_module": "@jupyter-widgets/base",
     "model_name": "LayoutModel",
     "state": {
      "_model_module": "@jupyter-widgets/base",
      "_model_module_version": "1.2.0",
      "_model_name": "LayoutModel",
      "_view_count": null,
      "_view_module": "@jupyter-widgets/base",
      "_view_module_version": "1.2.0",
      "_view_name": "LayoutView",
      "align_content": null,
      "align_items": null,
      "align_self": null,
      "border": null,
      "bottom": null,
      "display": null,
      "flex": null,
      "flex_flow": null,
      "grid_area": null,
      "grid_auto_columns": null,
      "grid_auto_flow": null,
      "grid_auto_rows": null,
      "grid_column": null,
      "grid_gap": null,
      "grid_row": null,
      "grid_template_areas": null,
      "grid_template_columns": null,
      "grid_template_rows": null,
      "height": null,
      "justify_content": null,
      "justify_items": null,
      "left": null,
      "margin": null,
      "max_height": null,
      "max_width": null,
      "min_height": null,
      "min_width": null,
      "object_fit": null,
      "object_position": null,
      "order": null,
      "overflow": null,
      "overflow_x": null,
      "overflow_y": null,
      "padding": null,
      "right": null,
      "top": null,
      "visibility": null,
      "width": null
     }
    },
    "6e92676115ed4965ba1686c1007f3531": {
     "model_module": "@jupyter-widgets/controls",
     "model_name": "FloatProgressModel",
     "state": {
      "_dom_classes": [],
      "_model_module": "@jupyter-widgets/controls",
      "_model_module_version": "1.5.0",
      "_model_name": "FloatProgressModel",
      "_view_count": null,
      "_view_module": "@jupyter-widgets/controls",
      "_view_module_version": "1.5.0",
      "_view_name": "ProgressView",
      "bar_style": "success",
      "description": "loss: 0.243471: 100%",
      "description_tooltip": null,
      "layout": "IPY_MODEL_0a6ddf7ae7de4de0b1ab98f9fcb5618b",
      "max": 10000,
      "min": 0,
      "orientation": "horizontal",
      "style": "IPY_MODEL_ec4da59e263747719909b0ab53baba8f",
      "value": 10000
     }
    },
    "80ff73ee3e76436d945ee9cfbd641fdc": {
     "model_module": "@jupyter-widgets/controls",
     "model_name": "DescriptionStyleModel",
     "state": {
      "_model_module": "@jupyter-widgets/controls",
      "_model_module_version": "1.5.0",
      "_model_name": "DescriptionStyleModel",
      "_view_count": null,
      "_view_module": "@jupyter-widgets/base",
      "_view_module_version": "1.2.0",
      "_view_name": "StyleView",
      "description_width": ""
     }
    },
    "8f893fac39df421e8bdd1c8b75dfceac": {
     "model_module": "@jupyter-widgets/controls",
     "model_name": "HBoxModel",
     "state": {
      "_dom_classes": [],
      "_model_module": "@jupyter-widgets/controls",
      "_model_module_version": "1.5.0",
      "_model_name": "HBoxModel",
      "_view_count": null,
      "_view_module": "@jupyter-widgets/controls",
      "_view_module_version": "1.5.0",
      "_view_name": "HBoxView",
      "box_style": "",
      "children": [
       "IPY_MODEL_00a4486e2ba64e938d6abf02155e943f",
       "IPY_MODEL_dd4f37f89f40486fbe85dd39c33550c0"
      ],
      "layout": "IPY_MODEL_9f4b93ffdc2b4daf9502475c231a26a5"
     }
    },
    "9f4b93ffdc2b4daf9502475c231a26a5": {
     "model_module": "@jupyter-widgets/base",
     "model_name": "LayoutModel",
     "state": {
      "_model_module": "@jupyter-widgets/base",
      "_model_module_version": "1.2.0",
      "_model_name": "LayoutModel",
      "_view_count": null,
      "_view_module": "@jupyter-widgets/base",
      "_view_module_version": "1.2.0",
      "_view_name": "LayoutView",
      "align_content": null,
      "align_items": null,
      "align_self": null,
      "border": null,
      "bottom": null,
      "display": null,
      "flex": null,
      "flex_flow": null,
      "grid_area": null,
      "grid_auto_columns": null,
      "grid_auto_flow": null,
      "grid_auto_rows": null,
      "grid_column": null,
      "grid_gap": null,
      "grid_row": null,
      "grid_template_areas": null,
      "grid_template_columns": null,
      "grid_template_rows": null,
      "height": null,
      "justify_content": null,
      "justify_items": null,
      "left": null,
      "margin": null,
      "max_height": null,
      "max_width": null,
      "min_height": null,
      "min_width": null,
      "object_fit": null,
      "object_position": null,
      "order": null,
      "overflow": null,
      "overflow_x": null,
      "overflow_y": null,
      "padding": null,
      "right": null,
      "top": null,
      "visibility": null,
      "width": null
     }
    },
    "a32ea29c7a094bfa9d55e8906e3fbfe0": {
     "model_module": "@jupyter-widgets/controls",
     "model_name": "FloatProgressModel",
     "state": {
      "_dom_classes": [],
      "_model_module": "@jupyter-widgets/controls",
      "_model_module_version": "1.5.0",
      "_model_name": "FloatProgressModel",
      "_view_count": null,
      "_view_module": "@jupyter-widgets/controls",
      "_view_module_version": "1.5.0",
      "_view_name": "ProgressView",
      "bar_style": "success",
      "description": "loss: 0.243471: 100%",
      "description_tooltip": null,
      "layout": "IPY_MODEL_3950f9a557f94d98851c0be87cab3c1f",
      "max": 10000,
      "min": 0,
      "orientation": "horizontal",
      "style": "IPY_MODEL_c480975c607a4ea18b2065c465ea2f08",
      "value": 10000
     }
    },
    "b5da382f6cd64b909c9b096ff3a995e7": {
     "model_module": "@jupyter-widgets/controls",
     "model_name": "ProgressStyleModel",
     "state": {
      "_model_module": "@jupyter-widgets/controls",
      "_model_module_version": "1.5.0",
      "_model_name": "ProgressStyleModel",
      "_view_count": null,
      "_view_module": "@jupyter-widgets/base",
      "_view_module_version": "1.2.0",
      "_view_name": "StyleView",
      "bar_color": null,
      "description_width": "initial"
     }
    },
    "bc0d17f104434479952a329536791941": {
     "model_module": "@jupyter-widgets/base",
     "model_name": "LayoutModel",
     "state": {
      "_model_module": "@jupyter-widgets/base",
      "_model_module_version": "1.2.0",
      "_model_name": "LayoutModel",
      "_view_count": null,
      "_view_module": "@jupyter-widgets/base",
      "_view_module_version": "1.2.0",
      "_view_name": "LayoutView",
      "align_content": null,
      "align_items": null,
      "align_self": null,
      "border": null,
      "bottom": null,
      "display": null,
      "flex": null,
      "flex_flow": null,
      "grid_area": null,
      "grid_auto_columns": null,
      "grid_auto_flow": null,
      "grid_auto_rows": null,
      "grid_column": null,
      "grid_gap": null,
      "grid_row": null,
      "grid_template_areas": null,
      "grid_template_columns": null,
      "grid_template_rows": null,
      "height": null,
      "justify_content": null,
      "justify_items": null,
      "left": null,
      "margin": null,
      "max_height": null,
      "max_width": null,
      "min_height": null,
      "min_width": null,
      "object_fit": null,
      "object_position": null,
      "order": null,
      "overflow": null,
      "overflow_x": null,
      "overflow_y": null,
      "padding": null,
      "right": null,
      "top": null,
      "visibility": null,
      "width": null
     }
    },
    "c480975c607a4ea18b2065c465ea2f08": {
     "model_module": "@jupyter-widgets/controls",
     "model_name": "ProgressStyleModel",
     "state": {
      "_model_module": "@jupyter-widgets/controls",
      "_model_module_version": "1.5.0",
      "_model_name": "ProgressStyleModel",
      "_view_count": null,
      "_view_module": "@jupyter-widgets/base",
      "_view_module_version": "1.2.0",
      "_view_name": "StyleView",
      "bar_color": null,
      "description_width": "initial"
     }
    },
    "c53646d9bfe34228b7c5acb82c69ba6b": {
     "model_module": "@jupyter-widgets/controls",
     "model_name": "HBoxModel",
     "state": {
      "_dom_classes": [],
      "_model_module": "@jupyter-widgets/controls",
      "_model_module_version": "1.5.0",
      "_model_name": "HBoxModel",
      "_view_count": null,
      "_view_module": "@jupyter-widgets/controls",
      "_view_module_version": "1.5.0",
      "_view_name": "HBoxView",
      "box_style": "",
      "children": [
       "IPY_MODEL_6e92676115ed4965ba1686c1007f3531",
       "IPY_MODEL_105455209dcb4933900955d113c1a236"
      ],
      "layout": "IPY_MODEL_fe8ac18fb59745d3b8b07db42add7630"
     }
    },
    "d03d679473084dc49f682a4808884047": {
     "model_module": "@jupyter-widgets/base",
     "model_name": "LayoutModel",
     "state": {
      "_model_module": "@jupyter-widgets/base",
      "_model_module_version": "1.2.0",
      "_model_name": "LayoutModel",
      "_view_count": null,
      "_view_module": "@jupyter-widgets/base",
      "_view_module_version": "1.2.0",
      "_view_name": "LayoutView",
      "align_content": null,
      "align_items": null,
      "align_self": null,
      "border": null,
      "bottom": null,
      "display": null,
      "flex": null,
      "flex_flow": null,
      "grid_area": null,
      "grid_auto_columns": null,
      "grid_auto_flow": null,
      "grid_auto_rows": null,
      "grid_column": null,
      "grid_gap": null,
      "grid_row": null,
      "grid_template_areas": null,
      "grid_template_columns": null,
      "grid_template_rows": null,
      "height": null,
      "justify_content": null,
      "justify_items": null,
      "left": null,
      "margin": null,
      "max_height": null,
      "max_width": null,
      "min_height": null,
      "min_width": null,
      "object_fit": null,
      "object_position": null,
      "order": null,
      "overflow": null,
      "overflow_x": null,
      "overflow_y": null,
      "padding": null,
      "right": null,
      "top": null,
      "visibility": null,
      "width": null
     }
    },
    "dd4f37f89f40486fbe85dd39c33550c0": {
     "model_module": "@jupyter-widgets/controls",
     "model_name": "HTMLModel",
     "state": {
      "_dom_classes": [],
      "_model_module": "@jupyter-widgets/controls",
      "_model_module_version": "1.5.0",
      "_model_name": "HTMLModel",
      "_view_count": null,
      "_view_module": "@jupyter-widgets/controls",
      "_view_module_version": "1.5.0",
      "_view_name": "HTMLView",
      "description": "",
      "description_tooltip": null,
      "layout": "IPY_MODEL_e5158bfc5a2941c4a6f0a98a4d01abdd",
      "placeholder": "​",
      "style": "IPY_MODEL_04620807c6e44c7e8db6dd51f53958e4",
      "value": " 10000/10000 [00:08&lt;00:00, 1156.79it/s]"
     }
    },
    "e5158bfc5a2941c4a6f0a98a4d01abdd": {
     "model_module": "@jupyter-widgets/base",
     "model_name": "LayoutModel",
     "state": {
      "_model_module": "@jupyter-widgets/base",
      "_model_module_version": "1.2.0",
      "_model_name": "LayoutModel",
      "_view_count": null,
      "_view_module": "@jupyter-widgets/base",
      "_view_module_version": "1.2.0",
      "_view_name": "LayoutView",
      "align_content": null,
      "align_items": null,
      "align_self": null,
      "border": null,
      "bottom": null,
      "display": null,
      "flex": null,
      "flex_flow": null,
      "grid_area": null,
      "grid_auto_columns": null,
      "grid_auto_flow": null,
      "grid_auto_rows": null,
      "grid_column": null,
      "grid_gap": null,
      "grid_row": null,
      "grid_template_areas": null,
      "grid_template_columns": null,
      "grid_template_rows": null,
      "height": null,
      "justify_content": null,
      "justify_items": null,
      "left": null,
      "margin": null,
      "max_height": null,
      "max_width": null,
      "min_height": null,
      "min_width": null,
      "object_fit": null,
      "object_position": null,
      "order": null,
      "overflow": null,
      "overflow_x": null,
      "overflow_y": null,
      "padding": null,
      "right": null,
      "top": null,
      "visibility": null,
      "width": null
     }
    },
    "ec4da59e263747719909b0ab53baba8f": {
     "model_module": "@jupyter-widgets/controls",
     "model_name": "ProgressStyleModel",
     "state": {
      "_model_module": "@jupyter-widgets/controls",
      "_model_module_version": "1.5.0",
      "_model_name": "ProgressStyleModel",
      "_view_count": null,
      "_view_module": "@jupyter-widgets/base",
      "_view_module_version": "1.2.0",
      "_view_name": "StyleView",
      "bar_color": null,
      "description_width": "initial"
     }
    },
    "f6ddf031f5e74f1fb2f10119580c0109": {
     "model_module": "@jupyter-widgets/controls",
     "model_name": "HTMLModel",
     "state": {
      "_dom_classes": [],
      "_model_module": "@jupyter-widgets/controls",
      "_model_module_version": "1.5.0",
      "_model_name": "HTMLModel",
      "_view_count": null,
      "_view_module": "@jupyter-widgets/controls",
      "_view_module_version": "1.5.0",
      "_view_name": "HTMLView",
      "description": "",
      "description_tooltip": null,
      "layout": "IPY_MODEL_01ba766a815b4acc9573ff1a63c546f0",
      "placeholder": "​",
      "style": "IPY_MODEL_095250b4a9714a0c890cd55a864b3102",
      "value": " 10000/10000 [00:09&lt;00:00, 1061.26it/s]"
     }
    },
    "fe8ac18fb59745d3b8b07db42add7630": {
     "model_module": "@jupyter-widgets/base",
     "model_name": "LayoutModel",
     "state": {
      "_model_module": "@jupyter-widgets/base",
      "_model_module_version": "1.2.0",
      "_model_name": "LayoutModel",
      "_view_count": null,
      "_view_module": "@jupyter-widgets/base",
      "_view_module_version": "1.2.0",
      "_view_name": "LayoutView",
      "align_content": null,
      "align_items": null,
      "align_self": null,
      "border": null,
      "bottom": null,
      "display": null,
      "flex": null,
      "flex_flow": null,
      "grid_area": null,
      "grid_auto_columns": null,
      "grid_auto_flow": null,
      "grid_auto_rows": null,
      "grid_column": null,
      "grid_gap": null,
      "grid_row": null,
      "grid_template_areas": null,
      "grid_template_columns": null,
      "grid_template_rows": null,
      "height": null,
      "justify_content": null,
      "justify_items": null,
      "left": null,
      "margin": null,
      "max_height": null,
      "max_width": null,
      "min_height": null,
      "min_width": null,
      "object_fit": null,
      "object_position": null,
      "order": null,
      "overflow": null,
      "overflow_x": null,
      "overflow_y": null,
      "padding": null,
      "right": null,
      "top": null,
      "visibility": null,
      "width": null
     }
    }
   }
  }
 },
 "nbformat": 4,
 "nbformat_minor": 1
}
