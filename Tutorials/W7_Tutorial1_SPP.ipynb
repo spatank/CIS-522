{
  "nbformat": 4,
  "nbformat_minor": 0,
  "metadata": {
    "colab": {
      "name": "W7_Tutorial1_SPP",
      "provenance": [],
      "collapsed_sections": [],
      "toc_visible": true,
      "include_colab_link": true
    },
    "kernelspec": {
      "display_name": "Python 3",
      "name": "python3"
    },
    "accelerator": "GPU"
  },
  "cells": [
    {
      "cell_type": "markdown",
      "metadata": {
        "id": "view-in-github",
        "colab_type": "text"
      },
      "source": [
        "<a href=\"https://colab.research.google.com/github/spatank/CIS-522/blob/main/Tutorials/W7_Tutorial1_SPP.ipynb\" target=\"_parent\"><img src=\"https://colab.research.google.com/assets/colab-badge.svg\" alt=\"Open In Colab\"/></a>"
      ]
    },
    {
      "cell_type": "markdown",
      "metadata": {
        "id": "qhcP2K8WtVNl"
      },
      "source": [
        "# **CIS-522 Week 7: Transfer Learning and Image Models**\n",
        "\n",
        "**Instructor:** Konrad Kording\n",
        "\n",
        "**Content Creator:** [Ben Heil](https://twitter.com/autobencoder)"
      ]
    },
    {
      "cell_type": "code",
      "metadata": {
        "id": "XcQ08tdKGu97",
        "cellView": "form"
      },
      "source": [
        "#@markdown What is your Pennkey and pod? (text, not numbers, e.g. bfranklin)\n",
        "my_pennkey = '' #@param {type:\"string\"}\n",
        "my_pod = 'Select' #@param ['Select', 'euclidean-wombat', 'sublime-newt', 'buoyant-unicorn', 'lackadaisical-manatee','indelible-stingray','superfluous-lyrebird','discreet-reindeer','quizzical-goldfish','astute-jellyfish','ubiquitous-cheetah','nonchalant-crocodile','fashionable-lemur','spiffy-eagle','electric-emu','quotidian-lion', 'quantum-herring']\n",
        "\n",
        "import time\n",
        "t0 = time.time()"
      ],
      "execution_count": null,
      "outputs": []
    },
    {
      "cell_type": "markdown",
      "metadata": {
        "id": "lcq8QjKJ5F1O"
      },
      "source": [
        "## Setup and Imports"
      ]
    },
    {
      "cell_type": "code",
      "metadata": {
        "id": "4aRvUzld5Hz6"
      },
      "source": [
        "# Install facenet, a model used to do facial recognition (used in exercise 5)\n",
        "!pip -q install facenet-pytorch"
      ],
      "execution_count": null,
      "outputs": []
    },
    {
      "cell_type": "code",
      "metadata": {
        "id": "29qL3gCzwXmz"
      },
      "source": [
        "import copy\n",
        "import glob\n",
        "import random\n",
        "import time\n",
        "\n",
        "import ipywidgets as widgets\n",
        "import matplotlib.patches as mpatches\n",
        "import matplotlib.pyplot as plt\n",
        "import numpy as np\n",
        "import sklearn.decomposition\n",
        "import torch\n",
        "import torch.nn as nn\n",
        "import torch.nn.functional as F\n",
        "import torchvision\n",
        "import tqdm\n",
        "import urllib\n",
        "from facenet_pytorch import MTCNN, InceptionResnetV1\n",
        "from matplotlib.colors import ListedColormap\n",
        "from IPython import display\n",
        "from PIL import Image\n",
        "from torchvision.datasets import ImageFolder\n",
        "from torchvision.utils import make_grid\n",
        "from torchvision import transforms"
      ],
      "execution_count": null,
      "outputs": []
    },
    {
      "cell_type": "code",
      "metadata": {
        "id": "hhnDUeuF9Huu"
      },
      "source": [
        "seed = 522\n",
        "random.seed(522)\n",
        "torch.manual_seed(seed)\n",
        "torch.cuda.manual_seed_all(seed)\n",
        "torch.cuda.manual_seed(seed)\n",
        "np.random.seed(seed)\n",
        "torch.backends.cudnn.deterministic = True\n",
        "torch.backends.cudnn.benchmark = False\n",
        "\n",
        "device = torch.device(\"cuda\" if torch.cuda.is_available() else \"cpu\")"
      ],
      "execution_count": null,
      "outputs": []
    },
    {
      "cell_type": "markdown",
      "metadata": {
        "id": "QslRylUxoBvU"
      },
      "source": [
        "## Tutorial Objectives:\n",
        "\n",
        "1. Be able to list 3 historical state of the art DL computer vision architectures\n",
        "2. Understand how architectures incorporate ideas we have about the world\n",
        "3. Know what resnets are and how they are built\n",
        "4. Learn to recognize opportunities for transfer learning and domain adaptation"
      ]
    },
    {
      "cell_type": "code",
      "metadata": {
        "cellView": "form",
        "id": "zzpsl_eGPjG_"
      },
      "source": [
        "# @title Week 7 Slides\n",
        "from IPython.display import HTML\n",
        "HTML('<iframe src=\"https://docs.google.com/presentation/d/e/2PACX-1vRRPg9GFwwUTkQPfOdT3JfAXeWCndm7wDS4fksOoGurLEHEaEcYX4lxcbcUevz4bKCa2IQ8TxXNbwc6/embed?start=false&loop=false&delayms=3000\" frameborder=\"0\" width=\"960\" height=\"569\" allowfullscreen=\"true\" mozallowfullscreen=\"true\" webkitallowfullscreen=\"true\"></iframe>')"
      ],
      "execution_count": null,
      "outputs": []
    },
    {
      "cell_type": "markdown",
      "metadata": {
        "id": "PQmim4zYtimK"
      },
      "source": [
        "## Recap Week 6 "
      ]
    },
    {
      "cell_type": "code",
      "metadata": {
        "cellView": "form",
        "id": "h-EZIpI4Cz5s"
      },
      "source": [
        "#@title Video: Week 6 Recap\n",
        "from IPython.display import YouTubeVideo\n",
        "video = YouTubeVideo(id=\"Ksle76Mon3c\", width=854, height=480, fs=1)\n",
        "print(\"Video available at https://youtube.com/watch?v=\" + video.id)\n",
        "\n",
        "video"
      ],
      "execution_count": null,
      "outputs": []
    },
    {
      "cell_type": "markdown",
      "metadata": {
        "id": "tLmC6cX7G44j"
      },
      "source": [
        "### Recap the experience from last week\n",
        "\n",
        "What did you learn last week. What questions do you have? [5 min discussion]"
      ]
    },
    {
      "cell_type": "markdown",
      "metadata": {
        "id": "ZoYQYb9Rtuie"
      },
      "source": [
        "---\n",
        "# Section 1: What can we do to make convnets scale?\n",
        "\"*Estimated time: 10 minutes since start*\""
      ]
    },
    {
      "cell_type": "code",
      "metadata": {
        "cellView": "form",
        "id": "thLPE9vsDLBC"
      },
      "source": [
        "#@title Video: Making Convnets Scale\n",
        "from IPython.display import YouTubeVideo\n",
        "video = YouTubeVideo(id=\"kQj1kFk_taw\", width=854, height=480, fs=1)\n",
        "print(\"Video available at https://youtube.com/watch?v=\" + video.id)\n",
        "\n",
        "video"
      ],
      "execution_count": null,
      "outputs": []
    },
    {
      "cell_type": "markdown",
      "metadata": {
        "id": "5jUgdW4WlQMF"
      },
      "source": [
        "Images are high dimensional. That is to say that `image_length` * `image_width` * `image_channels` is a big number, and multiplying that big number by a normal sized fully-connected layer leads to a ton of parameters to learn. Last week we learned about convolutional neural networks, one way of working around high dimensionality in images and other domains. \n",
        "\n",
        "The widget below calculates the parameters required for a single convolutional or fully connected layer that operates on an image of a certain height and width. Adjust the sliders to gain an intuition for how different model and data characteristics affect the number of parameters your model need to fit.\n",
        "\n",
        "Note: these classes are designed to show parameter scaling in the first layer of a network, to be actually useful they would need more layers, an activation function, etc."
      ]
    },
    {
      "cell_type": "code",
      "metadata": {
        "id": "I1dGy3GMxxmM"
      },
      "source": [
        "class FullyConnectedNet(nn.Module):\n",
        "    def __init__(self):\n",
        "        super(FullyConnectedNet, self).__init__()\n",
        "\n",
        "        image_width = 128\n",
        "        image_channels = 3\n",
        "        self.input_size = image_channels * image_width ** 2\n",
        "\n",
        "        self.fc1 = nn.Linear(self.input_size, 256)\n",
        "\n",
        "    def forward(self, x):\n",
        "        x = x.view(-1, self.input_size)\n",
        "        return self.fc1(x)"
      ],
      "execution_count": null,
      "outputs": []
    },
    {
      "cell_type": "code",
      "metadata": {
        "id": "agV-S2YryaMR"
      },
      "source": [
        "class ConvNet(nn.Module):\n",
        "    def __init__(self):\n",
        "        super(ConvNet, self).__init__()\n",
        "\n",
        "        self.conv1 = nn.Conv2d(in_channels=3, \n",
        "                               out_channels=256, \n",
        "                               kernel_size=(3,3),\n",
        "                               padding=1)\n",
        "        \n",
        "    def forward(self, x):\n",
        "        return self.conv1(x)\n"
      ],
      "execution_count": null,
      "outputs": []
    },
    {
      "cell_type": "markdown",
      "metadata": {
        "id": "US-4H0Pn5y__"
      },
      "source": [
        "### Exercise 1.1 Calculate FCNN Parameters"
      ]
    },
    {
      "cell_type": "code",
      "metadata": {
        "id": "nogfdV4L4Xw0"
      },
      "source": [
        "def get_fcnn_parameter_count() -> int:\n",
        "    \"\"\"\n",
        "    Calculate the number of parameters used by the fully connected network.\n",
        "    Hint: Casting the result of fc_net.parameters() to a list may make it \n",
        "          easier to work with\n",
        "\n",
        "    Returns:\n",
        "        param_count: The number of parameters in the network\n",
        "    \"\"\"\n",
        "    ####################################################################\n",
        "    # Fill in all missing code below (...),\n",
        "    # then remove or comment the line below to test your function\n",
        "    raise NotImplementedError(\"Calculate the number of parameters in the fully connected network\")\n",
        "    #################################################################### \n",
        "\n",
        "    fc_net = FullyConnectedNet()\n",
        "    fc_net_parameters = ...\n",
        "    param_count = ...\n",
        "\n",
        "    return param_count\n",
        "\n",
        "### Uncomment below to test your function\n",
        "# print(get_fcnn_parameter_count())"
      ],
      "execution_count": null,
      "outputs": []
    },
    {
      "cell_type": "markdown",
      "metadata": {
        "id": "qeDdvzN0is0e"
      },
      "source": [
        "[*Click for solution*](https://github.com/CIS-522/course-content/blob/main/tutorials/W7_Vision_TL/solutions/W7_Tutorial_Solution_Ex11.py)\n",
        "\n",
        "*Example output:*  \n",
        "\n",
        "```python\n",
        "get_fcnn_parameter_count() == 12582912\n",
        "```\n",
        "\n"
      ]
    },
    {
      "cell_type": "markdown",
      "metadata": {
        "id": "Zd2I_1th9sNP"
      },
      "source": [
        "### Exercise 1.2 Calculate CNN Parameters"
      ]
    },
    {
      "cell_type": "code",
      "metadata": {
        "id": "FfVAyzJG9sNY"
      },
      "source": [
        "def get_cnn_parameter_count() -> int:\n",
        "    \"\"\"\n",
        "    Calculate the number of parameters used by the convolutional network.\n",
        "    Hint: Casting the result of cnn_net.parameters() to a list may make it \n",
        "          easier to work with\n",
        "\n",
        "    Returns:\n",
        "        param_count: The number of parameters in the network\n",
        "    \"\"\"\n",
        "    ####################################################################\n",
        "    # Fill in all missing code below (...),\n",
        "    # then remove or comment the line below to test your function\n",
        "    raise NotImplementedError(\"Calculate the number of parameters in the fully connected network\")\n",
        "    #################################################################### \n",
        "\n",
        "    convnet = ConvNet()\n",
        "    convnet_parameters = ...\n",
        "    conv_shape = ...\n",
        "\n",
        "    param_count = ...\n",
        "\n",
        "### Uncomment below to test your function\n",
        "#print(get_cnn_parameter_count())"
      ],
      "execution_count": null,
      "outputs": []
    },
    {
      "cell_type": "markdown",
      "metadata": {
        "id": "kl7czy5ajDhc"
      },
      "source": [
        "[*Click for solution*](https://github.com/CIS-522/course-content/blob/main/tutorials/W7_Vision_TL/solutions/W7_Tutorial_Solution_Ex12.py)\n",
        "\n",
        "*Example output:*  \n",
        "\n",
        "```python\n",
        "get_cnn_parameter_count() == 6912\n",
        "```"
      ]
    },
    {
      "cell_type": "markdown",
      "metadata": {
        "id": "Es3mU2tv7K58"
      },
      "source": [
        "## Check your results\n",
        "The widget below calculates the number of parameters in a FCNN and CNN with the same architecture as our models above. Our models had an input image that was 128x128, and used 256 filters (or 256 nodes in the FCNN case).\n",
        "\n",
        "Note how few parameters the convolutional networks take, especially as you increase the input image size."
      ]
    },
    {
      "cell_type": "code",
      "metadata": {
        "id": "WBK7w03qoX3n",
        "cellView": "form"
      },
      "source": [
        "# @title Parameter Calculator\n",
        "\n",
        "def calculate_parameters(filter_count, image_width, fcnn_nodes):\n",
        "    # Convnet math: Implement how parameters scale as a function of image size between convnets and FCNN\n",
        "\n",
        "    filter_width = 3\n",
        "    image_channels = 3\n",
        "\n",
        "    # Assuming a square, RGB image\n",
        "    image_area = image_width ** 2\n",
        "    image_volume = image_area * image_channels\n",
        "\n",
        "    # If we're using padding=same, the output of a convnet will be the same shape as the original\n",
        "    # image, but with more features\n",
        "    fcnn_parameters = image_volume * fcnn_nodes\n",
        "    cnn_parameters = image_channels * filter_count * filter_width ** 2 \n",
        "\n",
        "    # Add bias\n",
        "    fcnn_parameters += fcnn_nodes\n",
        "    cnn_parameters += filter_count\n",
        "\n",
        "    print('CNN parameters: {}'.format(cnn_parameters))\n",
        "    print('Fully Connected parameters: {}'.format(fcnn_parameters))\n",
        "\n",
        "    return None\n",
        "\n",
        "_ = widgets.interact(calculate_parameters, \n",
        "                     filter_count=(16, 512, 16), \n",
        "                     image_width=(16, 512, 16),\n",
        "                     fcnn_nodes=(16, 512, 16))\n"
      ],
      "execution_count": null,
      "outputs": []
    },
    {
      "cell_type": "markdown",
      "metadata": {
        "id": "Nt5NBWiNumtf"
      },
      "source": [
        "--- \n",
        "# Section 2: The History of Convnets\n",
        "*Estimated Time Elapsed: 25 minutes*"
      ]
    },
    {
      "cell_type": "markdown",
      "metadata": {
        "id": "BC7d3njFqjpf"
      },
      "source": [
        "Convolutional neural networks have been around for a long time. [The first CNN model](https://www.rctn.org/bruno/public/papers/Fukushima1980.pdf) was published in 1980, and was based on ideas in neuroscience that [predated it by decades](https://www.ncbi.nlm.nih.gov/pmc/articles/PMC1359523/). Why is it then that [AlexNet](https://proceedings.neurips.cc/paper/2012/hash/c399862d3b9d6b76c8436e924a68c45b-Abstract.html), a CNN model published in 2012, is generally considered to mark the start of the deep learning revolution?\n",
        "\n",
        "Watch the video below to get a better idea of the role that hardware has played in progressing deep learning"
      ]
    },
    {
      "cell_type": "code",
      "metadata": {
        "cellView": "form",
        "id": "abPTNUAhDVlf"
      },
      "source": [
        "#@title Video: Historical Convnets\n",
        "from IPython.display import YouTubeVideo\n",
        "video = YouTubeVideo(id=\"wxLjzfAkp-U\", width=854, height=480, fs=1)\n",
        "print(\"Video available at https://youtube.com/watch?v=\" + video.id)\n",
        "\n",
        "video"
      ],
      "execution_count": null,
      "outputs": []
    },
    {
      "cell_type": "code",
      "metadata": {
        "id": "lIh-nQ42upK9",
        "cellView": "form"
      },
      "source": [
        "#@title ### Exercise 2:\n",
        "#@markdown Based on previous classes and our discussion of convnets so far, what additions might we make to improve CNNs?\n",
        "\n",
        "#@markdown What causes them to have the parameter efficiency we saw in the previous section and lecture?\n",
        "\n",
        "#@markdown Discuss this with your group for ~ 15 minutes, then record your answers in the table below: \n",
        "\n",
        "parameter_efficiency = '' #@param {type:\"string\"}\n",
        "\n",
        "t1 = time.time()"
      ],
      "execution_count": null,
      "outputs": []
    },
    {
      "cell_type": "markdown",
      "metadata": {
        "id": "jo_3CTZfj_hE"
      },
      "source": [
        "[*Click for the answer*](https://github.com/CIS-522/course-content/blob/main/tutorials/W7_Vision_TL/solutions/W7_Tutorial_Solution_Ex02.md)\n"
      ]
    },
    {
      "cell_type": "markdown",
      "metadata": {
        "id": "43pAjvBdupyG"
      },
      "source": [
        "---\n",
        "# Section 3: Big and Deep Convnets\n",
        "*Estimated Time Elapsed: 50 minutes*"
      ]
    },
    {
      "cell_type": "markdown",
      "metadata": {
        "id": "Gf8sepS84fdj"
      },
      "source": [
        "### Introduction to AlexNet\n",
        "\n",
        "AlexNet arguably marked the start of the current age of deep learning.\n",
        "It incorporates a number of the defining characteristics of successful DL today: deep networks, GPU-powered paralellization, and building blocks encoding task-specific priors.\n",
        "In this section you'll have the opportunity to play with AlexNet and see the world through its eyes."
      ]
    },
    {
      "cell_type": "code",
      "metadata": {
        "id": "fiqfNnwPuvDj",
        "cellView": "form"
      },
      "source": [
        "# @title Import Alexnet\n",
        "# This cell gives you the `alexnet` model as well as the \n",
        "# `input_image` and `input_batch` variables used below\n",
        "\n",
        "# Code from https://pytorch.org/hub/pytorch_vision_alexnet/\n",
        "\n",
        "alexnet = torch.hub.load('pytorch/vision:v0.6.0', 'alexnet', pretrained=True)\n",
        "\n",
        "\n",
        "url, filename = (\"https://github.com/pytorch/hub/raw/master/images/dog.jpg\", \"dog.jpg\")\n",
        "try: urllib.URLopener().retrieve(url, filename)\n",
        "except: urllib.request.urlretrieve(url, filename)\n",
        "\n",
        "input_image = Image.open(filename)\n",
        "preprocess = transforms.Compose([\n",
        "    transforms.Resize(256),\n",
        "    transforms.CenterCrop(224),\n",
        "    transforms.ToTensor(),\n",
        "    transforms.Normalize(mean=[0.485, 0.456, 0.406], std=[0.229, 0.224, 0.225]),\n",
        "])\n",
        "input_tensor = preprocess(input_image)\n",
        "input_batch = input_tensor.unsqueeze(0) # create a mini-batch as expected by the model\n",
        "\n",
        "# move the input and model to GPU for speed if available\n",
        "if torch.cuda.is_available():\n",
        "    input_batch = input_batch.to(device)\n",
        "    alexnet.to(device)\n"
      ],
      "execution_count": null,
      "outputs": []
    },
    {
      "cell_type": "markdown",
      "metadata": {
        "id": "rzmSLfxS43Ju"
      },
      "source": [
        "### What does AlexNet learn?\n",
        "This code visualizes the top-layer filters learned by AlexNet.\n",
        "What do these filters remind you of? Hint: they were discussed in Week 6"
      ]
    },
    {
      "cell_type": "code",
      "metadata": {
        "id": "nCEe1deLEEfe"
      },
      "source": [
        "with torch.no_grad():\n",
        "    params = list(alexnet.parameters())\n",
        "    fig, axs = plt.subplots(8, 8)\n",
        "    for filter_index in range(params[0].shape[0]):\n",
        "        row_index = filter_index % 8\n",
        "        col_index = filter_index // 8\n",
        "\n",
        "        filter = params[0][filter_index,:,:,:]\n",
        "        filter_image = filter.permute(1, 2, 0)\n",
        "        scaled_image = (filter_image + 1) / 2\n",
        "        scaled_image = scaled_image.round()\n",
        "        grey_image = scaled_image.mean(dim=2)\n",
        "        axs[row_index, col_index].imshow(scaled_image.cpu())\n",
        "        axs[row_index, col_index].axis('off')\n",
        "    plt.show()"
      ],
      "execution_count": null,
      "outputs": []
    },
    {
      "cell_type": "code",
      "metadata": {
        "id": "ET-tVKccHIxf",
        "cellView": "form"
      },
      "source": [
        "#@title ### Exercise 3.1: Filter Similarity\n",
        "#@markdown What do these filters remind you of?\n",
        "#@markdown (hint: we discussed them in week 6)\n",
        "filter_response = '' #@param {type:\"string\"}\n",
        "\n",
        "t2 = time.time()"
      ],
      "execution_count": null,
      "outputs": []
    },
    {
      "cell_type": "markdown",
      "metadata": {
        "id": "04t3co5pk1ly"
      },
      "source": [
        "[*Click for the answer*](https://github.com/CIS-522/course-content/blob/main/tutorials/W7_Vision_TL/solutions/W7_Tutorial_Solution_Ex31.md)"
      ]
    },
    {
      "cell_type": "markdown",
      "metadata": {
        "id": "cRMfcHIdA-XI"
      },
      "source": [
        "## What does AlexNet see?\n",
        "One way of visualizing CNNs is to look at the output of individual filters for a given image. Below is a widget that lets you examine the outputs of various filters used in AlexNet."
      ]
    },
    {
      "cell_type": "code",
      "metadata": {
        "id": "NYYs-uwpzMVN",
        "cellView": "form"
      },
      "source": [
        "# @title Image Widget Code\n",
        "def alexnet_intermediate_output(net, image):\n",
        "    return F.relu(net.features[0](image))\n",
        "\n",
        "def browse_images(input_batch):\n",
        "    intermediate_output = alexnet_intermediate_output(alexnet, input_batch)\n",
        "    n = intermediate_output.shape[1]\n",
        "\n",
        "    def view_image(i):\n",
        "        with torch.no_grad():\n",
        "            channel = intermediate_output[0, i,:].squeeze()\n",
        "            plt.figure(figsize=(6,6))\n",
        "            plt.imshow(channel.cpu())\n",
        "            plt.title('Filter {}'.format(i))\n",
        "            plt.axis('off')\n",
        "\n",
        "            plt.show()\n",
        "        \n",
        "    widgets.interact(view_image, i=(0,n-1))"
      ],
      "execution_count": null,
      "outputs": []
    },
    {
      "cell_type": "code",
      "metadata": {
        "id": "bjr3Wf_ezwug"
      },
      "source": [
        "plt.imshow(input_image)\n",
        "plt.axis('off')\n",
        "plt.show()\n",
        "browse_images(input_batch)"
      ],
      "execution_count": null,
      "outputs": []
    },
    {
      "cell_type": "code",
      "metadata": {
        "id": "To6Jx0zNHj43",
        "cellView": "form"
      },
      "source": [
        "#@title ## Exercise 3.2 Filter Purpose\n",
        "#@markdown  What do these filters appear to be doing? Note that different filters play different roles so there are several good answers.\n",
        "filter_roles = '' #@param {type:\"string\"}\n",
        "\n",
        "t3 = time.time()"
      ],
      "execution_count": null,
      "outputs": []
    },
    {
      "cell_type": "markdown",
      "metadata": {
        "id": "d5eaElz9lw2j"
      },
      "source": [
        "[*Click for the answer*](https://github.com/CIS-522/course-content/blob/main/tutorials/W7_Vision_TL/solutions/W7_Tutorial_Solution_Ex32.md)"
      ]
    },
    {
      "cell_type": "markdown",
      "metadata": {
        "id": "QLYL1RWQ7-EC"
      },
      "source": [
        "### Further Reading\n",
        "If the question \"what are neural network filters looking for\" is at all interesting to you, or if you like geometric art, you'll enjoy [this post](https://distill.pub/2017/feature-visualization/) creating images that maximize output of various CNN neurons. There is also a good article showing what the space of images looks like as models train [here](https://distill.pub/2020/grand-tour/)."
      ]
    },
    {
      "cell_type": "markdown",
      "metadata": {
        "id": "CEhRBorquwCy"
      },
      "source": [
        "---\n",
        "# Section 4: Adding Skip connections and discussing the optimization landscape\n",
        "*Estimated Time Elapsed: 65 minutes*"
      ]
    },
    {
      "cell_type": "code",
      "metadata": {
        "cellView": "form",
        "id": "GrCIIIIvDq8D"
      },
      "source": [
        "#@title Video: Convnets After AlexNet\n",
        "from IPython.display import YouTubeVideo\n",
        "video = YouTubeVideo(id=\"SPNYj5jMxcg\", width=854, height=480, fs=1)\n",
        "print(\"Video available at https://youtube.com/watch?v=\" + video.id)\n",
        "\n",
        "video"
      ],
      "execution_count": null,
      "outputs": []
    },
    {
      "cell_type": "markdown",
      "metadata": {
        "id": "uRbJqQ1H1Jrk"
      },
      "source": [
        "In this section we'll be working with a state of the art CNN model called [ResNet](https://arxiv.org/abs/1512.03385). ResNet has two particularly interesting features. First, it uses skip connections to avoid the vanishing gradient problem. Second, each block (collection of layers) in a ResNet can be treated as learning a residual function.\n",
        "\n",
        "Mathematically, a neural network can be thought of as a series of operations that maps an input (like an image of a dog) to an output (like the label \"dog\"). In math-speak a mapping from an input to an output is called a function.\n",
        "\n",
        "In the functional interpretation of machine learning, there is a ground truth function in your brain somewhere that maps images of dogs to the label \"dog\", and neural networks are just elaborate ways of learining that function. \n",
        "\n",
        "If you were to subtract out the true function from the function learned by a network, you'd be left with the residual error or \"residual function\". ResNet tries to learn the original function, then the residual function, then the residual of the residual, and so on with creative use of skip layers.\n",
        "\n",
        "One fortunate side-effect of this structure is that the model is somewhat robust to damage. If you were to remove one of the middle layers, the model would still work, just less well.\n",
        "\n",
        "In this section we'll remove various layers of an pre-trained ResNet and see what happens."
      ]
    },
    {
      "cell_type": "code",
      "metadata": {
        "id": "9L76OdyxjLbx",
        "cellView": "form"
      },
      "source": [
        "# @title Download imagenette\n",
        "!rm -r imagenette*\n",
        "!wget https://s3.amazonaws.com/fast-ai-imageclas/imagenette2-320.tgz\n",
        "!tar -xf imagenette2-320.tgz\n",
        "!rm -r imagenette2-320.tgz"
      ],
      "execution_count": null,
      "outputs": []
    },
    {
      "cell_type": "code",
      "metadata": {
        "cellView": "form",
        "id": "1NJV1MHBjbOr"
      },
      "source": [
        "#@title Set Up Textual ImageNet labels\n",
        "dict_map={0: 'tench, Tinca tinca',\n",
        " 1: 'goldfish, Carassius auratus',\n",
        " 2: 'great white shark, white shark, man-eater, man-eating shark, Carcharodon carcharias',\n",
        " 3: 'tiger shark, Galeocerdo cuvieri',\n",
        " 4: 'hammerhead, hammerhead shark',\n",
        " 5: 'electric ray, crampfish, numbfish, torpedo',\n",
        " 6: 'stingray',\n",
        " 7: 'cock',\n",
        " 8: 'hen',\n",
        " 9: 'ostrich, Struthio camelus',\n",
        " 10: 'brambling, Fringilla montifringilla',\n",
        " 11: 'goldfinch, Carduelis carduelis',\n",
        " 12: 'house finch, linnet, Carpodacus mexicanus',\n",
        " 13: 'junco, snowbird',\n",
        " 14: 'indigo bunting, indigo finch, indigo bird, Passerina cyanea',\n",
        " 15: 'robin, American robin, Turdus migratorius',\n",
        " 16: 'bulbul',\n",
        " 17: 'jay',\n",
        " 18: 'magpie',\n",
        " 19: 'chickadee',\n",
        " 20: 'water ouzel, dipper',\n",
        " 21: 'kite',\n",
        " 22: 'bald eagle, American eagle, Haliaeetus leucocephalus',\n",
        " 23: 'vulture',\n",
        " 24: 'great grey owl, great gray owl, Strix nebulosa',\n",
        " 25: 'European fire salamander, Salamandra salamandra',\n",
        " 26: 'common newt, Triturus vulgaris',\n",
        " 27: 'eft',\n",
        " 28: 'spotted salamander, Ambystoma maculatum',\n",
        " 29: 'axolotl, mud puppy, Ambystoma mexicanum',\n",
        " 30: 'bullfrog, Rana catesbeiana',\n",
        " 31: 'tree frog, tree-frog',\n",
        " 32: 'tailed frog, bell toad, ribbed toad, tailed toad, Ascaphus trui',\n",
        " 33: 'loggerhead, loggerhead turtle, Caretta caretta',\n",
        " 34: 'leatherback turtle, leatherback, leathery turtle, Dermochelys coriacea',\n",
        " 35: 'mud turtle',\n",
        " 36: 'terrapin',\n",
        " 37: 'box turtle, box tortoise',\n",
        " 38: 'banded gecko',\n",
        " 39: 'common iguana, iguana, Iguana iguana',\n",
        " 40: 'American chameleon, anole, Anolis carolinensis',\n",
        " 41: 'whiptail, whiptail lizard',\n",
        " 42: 'agama',\n",
        " 43: 'frilled lizard, Chlamydosaurus kingi',\n",
        " 44: 'alligator lizard',\n",
        " 45: 'Gila monster, Heloderma suspectum',\n",
        " 46: 'green lizard, Lacerta viridis',\n",
        " 47: 'African chameleon, Chamaeleo chamaeleon',\n",
        " 48: 'Komodo dragon, Komodo lizard, dragon lizard, giant lizard, Varanus komodoensis',\n",
        " 49: 'African crocodile, Nile crocodile, Crocodylus niloticus',\n",
        " 50: 'American alligator, Alligator mississipiensis',\n",
        " 51: 'triceratops',\n",
        " 52: 'thunder snake, worm snake, Carphophis amoenus',\n",
        " 53: 'ringneck snake, ring-necked snake, ring snake',\n",
        " 54: 'hognose snake, puff adder, sand viper',\n",
        " 55: 'green snake, grass snake',\n",
        " 56: 'king snake, kingsnake',\n",
        " 57: 'garter snake, grass snake',\n",
        " 58: 'water snake',\n",
        " 59: 'vine snake',\n",
        " 60: 'night snake, Hypsiglena torquata',\n",
        " 61: 'boa constrictor, Constrictor constrictor',\n",
        " 62: 'rock python, rock snake, Python sebae',\n",
        " 63: 'Indian cobra, Naja naja',\n",
        " 64: 'green mamba',\n",
        " 65: 'sea snake',\n",
        " 66: 'horned viper, cerastes, sand viper, horned asp, Cerastes cornutus',\n",
        " 67: 'diamondback, diamondback rattlesnake, Crotalus adamanteus',\n",
        " 68: 'sidewinder, horned rattlesnake, Crotalus cerastes',\n",
        " 69: 'trilobite',\n",
        " 70: 'harvestman, daddy longlegs, Phalangium opilio',\n",
        " 71: 'scorpion',\n",
        " 72: 'black and gold garden spider, Argiope aurantia',\n",
        " 73: 'barn spider, Araneus cavaticus',\n",
        " 74: 'garden spider, Aranea diademata',\n",
        " 75: 'black widow, Latrodectus mactans',\n",
        " 76: 'tarantula',\n",
        " 77: 'wolf spider, hunting spider',\n",
        " 78: 'tick',\n",
        " 79: 'centipede',\n",
        " 80: 'black grouse',\n",
        " 81: 'ptarmigan',\n",
        " 82: 'ruffed grouse, partridge, Bonasa umbellus',\n",
        " 83: 'prairie chicken, prairie grouse, prairie fowl',\n",
        " 84: 'peacock',\n",
        " 85: 'quail',\n",
        " 86: 'partridge',\n",
        " 87: 'African grey, African gray, Psittacus erithacus',\n",
        " 88: 'macaw',\n",
        " 89: 'sulphur-crested cockatoo, Kakatoe galerita, Cacatua galerita',\n",
        " 90: 'lorikeet',\n",
        " 91: 'coucal',\n",
        " 92: 'bee eater',\n",
        " 93: 'hornbill',\n",
        " 94: 'hummingbird',\n",
        " 95: 'jacamar',\n",
        " 96: 'toucan',\n",
        " 97: 'drake',\n",
        " 98: 'red-breasted merganser, Mergus serrator',\n",
        " 99: 'goose',\n",
        " 100: 'black swan, Cygnus atratus',\n",
        " 101: 'tusker',\n",
        " 102: 'echidna, spiny anteater, anteater',\n",
        " 103: 'platypus, duckbill, duckbilled platypus, duck-billed platypus, Ornithorhynchus anatinus',\n",
        " 104: 'wallaby, brush kangaroo',\n",
        " 105: 'koala, koala bear, kangaroo bear, native bear, Phascolarctos cinereus',\n",
        " 106: 'wombat',\n",
        " 107: 'jellyfish',\n",
        " 108: 'sea anemone, anemone',\n",
        " 109: 'brain coral',\n",
        " 110: 'flatworm, platyhelminth',\n",
        " 111: 'nematode, nematode worm, roundworm',\n",
        " 112: 'conch',\n",
        " 113: 'snail',\n",
        " 114: 'slug',\n",
        " 115: 'sea slug, nudibranch',\n",
        " 116: 'chiton, coat-of-mail shell, sea cradle, polyplacophore',\n",
        " 117: 'chambered nautilus, pearly nautilus, nautilus',\n",
        " 118: 'Dungeness crab, Cancer magister',\n",
        " 119: 'rock crab, Cancer irroratus',\n",
        " 120: 'fiddler crab',\n",
        " 121: 'king crab, Alaska crab, Alaskan king crab, Alaska king crab, Paralithodes camtschatica',\n",
        " 122: 'American lobster, Northern lobster, Maine lobster, Homarus americanus',\n",
        " 123: 'spiny lobster, langouste, rock lobster, crawfish, crayfish, sea crawfish',\n",
        " 124: 'crayfish, crawfish, crawdad, crawdaddy',\n",
        " 125: 'hermit crab',\n",
        " 126: 'isopod',\n",
        " 127: 'white stork, Ciconia ciconia',\n",
        " 128: 'black stork, Ciconia nigra',\n",
        " 129: 'spoonbill',\n",
        " 130: 'flamingo',\n",
        " 131: 'little blue heron, Egretta caerulea',\n",
        " 132: 'American egret, great white heron, Egretta albus',\n",
        " 133: 'bittern',\n",
        " 134: 'crane',\n",
        " 135: 'limpkin, Aramus pictus',\n",
        " 136: 'European gallinule, Porphyrio porphyrio',\n",
        " 137: 'American coot, marsh hen, mud hen, water hen, Fulica americana',\n",
        " 138: 'bustard',\n",
        " 139: 'ruddy turnstone, Arenaria interpres',\n",
        " 140: 'red-backed sandpiper, dunlin, Erolia alpina',\n",
        " 141: 'redshank, Tringa totanus',\n",
        " 142: 'dowitcher',\n",
        " 143: 'oystercatcher, oyster catcher',\n",
        " 144: 'pelican',\n",
        " 145: 'king penguin, Aptenodytes patagonica',\n",
        " 146: 'albatross, mollymawk',\n",
        " 147: 'grey whale, gray whale, devilfish, Eschrichtius gibbosus, Eschrichtius robustus',\n",
        " 148: 'killer whale, killer, orca, grampus, sea wolf, Orcinus orca',\n",
        " 149: 'dugong, Dugong dugon',\n",
        " 150: 'sea lion',\n",
        " 151: 'Chihuahua',\n",
        " 152: 'Japanese spaniel',\n",
        " 153: 'Maltese dog, Maltese terrier, Maltese',\n",
        " 154: 'Pekinese, Pekingese, Peke',\n",
        " 155: 'Shih-Tzu',\n",
        " 156: 'Blenheim spaniel',\n",
        " 157: 'papillon',\n",
        " 158: 'toy terrier',\n",
        " 159: 'Rhodesian ridgeback',\n",
        " 160: 'Afghan hound, Afghan',\n",
        " 161: 'basset, basset hound',\n",
        " 162: 'beagle',\n",
        " 163: 'bloodhound, sleuthhound',\n",
        " 164: 'bluetick',\n",
        " 165: 'black-and-tan coonhound',\n",
        " 166: 'Walker hound, Walker foxhound',\n",
        " 167: 'English foxhound',\n",
        " 168: 'redbone',\n",
        " 169: 'borzoi, Russian wolfhound',\n",
        " 170: 'Irish wolfhound',\n",
        " 171: 'Italian greyhound',\n",
        " 172: 'whippet',\n",
        " 173: 'Ibizan hound, Ibizan Podenco',\n",
        " 174: 'Norwegian elkhound, elkhound',\n",
        " 175: 'otterhound, otter hound',\n",
        " 176: 'Saluki, gazelle hound',\n",
        " 177: 'Scottish deerhound, deerhound',\n",
        " 178: 'Weimaraner',\n",
        " 179: 'Staffordshire bullterrier, Staffordshire bull terrier',\n",
        " 180: 'American Staffordshire terrier, Staffordshire terrier, American pit bull terrier, pit bull terrier',\n",
        " 181: 'Bedlington terrier',\n",
        " 182: 'Border terrier',\n",
        " 183: 'Kerry blue terrier',\n",
        " 184: 'Irish terrier',\n",
        " 185: 'Norfolk terrier',\n",
        " 186: 'Norwich terrier',\n",
        " 187: 'Yorkshire terrier',\n",
        " 188: 'wire-haired fox terrier',\n",
        " 189: 'Lakeland terrier',\n",
        " 190: 'Sealyham terrier, Sealyham',\n",
        " 191: 'Airedale, Airedale terrier',\n",
        " 192: 'cairn, cairn terrier',\n",
        " 193: 'Australian terrier',\n",
        " 194: 'Dandie Dinmont, Dandie Dinmont terrier',\n",
        " 195: 'Boston bull, Boston terrier',\n",
        " 196: 'miniature schnauzer',\n",
        " 197: 'giant schnauzer',\n",
        " 198: 'standard schnauzer',\n",
        " 199: 'Scotch terrier, Scottish terrier, Scottie',\n",
        " 200: 'Tibetan terrier, chrysanthemum dog',\n",
        " 201: 'silky terrier, Sydney silky',\n",
        " 202: 'soft-coated wheaten terrier',\n",
        " 203: 'West Highland white terrier',\n",
        " 204: 'Lhasa, Lhasa apso',\n",
        " 205: 'flat-coated retriever',\n",
        " 206: 'curly-coated retriever',\n",
        " 207: 'golden retriever',\n",
        " 208: 'Labrador retriever',\n",
        " 209: 'Chesapeake Bay retriever',\n",
        " 210: 'German short-haired pointer',\n",
        " 211: 'vizsla, Hungarian pointer',\n",
        " 212: 'English setter',\n",
        " 213: 'Irish setter, red setter',\n",
        " 214: 'Gordon setter',\n",
        " 215: 'Brittany spaniel',\n",
        " 216: 'clumber, clumber spaniel',\n",
        " 217: 'English springer, English springer spaniel',\n",
        " 218: 'Welsh springer spaniel',\n",
        " 219: 'cocker spaniel, English cocker spaniel, cocker',\n",
        " 220: 'Sussex spaniel',\n",
        " 221: 'Irish water spaniel',\n",
        " 222: 'kuvasz',\n",
        " 223: 'schipperke',\n",
        " 224: 'groenendael',\n",
        " 225: 'malinois',\n",
        " 226: 'briard',\n",
        " 227: 'kelpie',\n",
        " 228: 'komondor',\n",
        " 229: 'Old English sheepdog, bobtail',\n",
        " 230: 'Shetland sheepdog, Shetland sheep dog, Shetland',\n",
        " 231: 'collie',\n",
        " 232: 'Border collie',\n",
        " 233: 'Bouvier des Flandres, Bouviers des Flandres',\n",
        " 234: 'Rottweiler',\n",
        " 235: 'German shepherd, German shepherd dog, German police dog, alsatian',\n",
        " 236: 'Doberman, Doberman pinscher',\n",
        " 237: 'miniature pinscher',\n",
        " 238: 'Greater Swiss Mountain dog',\n",
        " 239: 'Bernese mountain dog',\n",
        " 240: 'Appenzeller',\n",
        " 241: 'EntleBucher',\n",
        " 242: 'boxer',\n",
        " 243: 'bull mastiff',\n",
        " 244: 'Tibetan mastiff',\n",
        " 245: 'French bulldog',\n",
        " 246: 'Great Dane',\n",
        " 247: 'Saint Bernard, St Bernard',\n",
        " 248: 'Eskimo dog, husky',\n",
        " 249: 'malamute, malemute, Alaskan malamute',\n",
        " 250: 'Siberian husky',\n",
        " 251: 'dalmatian, coach dog, carriage dog',\n",
        " 252: 'affenpinscher, monkey pinscher, monkey dog',\n",
        " 253: 'basenji',\n",
        " 254: 'pug, pug-dog',\n",
        " 255: 'Leonberg',\n",
        " 256: 'Newfoundland, Newfoundland dog',\n",
        " 257: 'Great Pyrenees',\n",
        " 258: 'Samoyed, Samoyede',\n",
        " 259: 'Pomeranian',\n",
        " 260: 'chow, chow chow',\n",
        " 261: 'keeshond',\n",
        " 262: 'Brabancon griffon',\n",
        " 263: 'Pembroke, Pembroke Welsh corgi',\n",
        " 264: 'Cardigan, Cardigan Welsh corgi',\n",
        " 265: 'toy poodle',\n",
        " 266: 'miniature poodle',\n",
        " 267: 'standard poodle',\n",
        " 268: 'Mexican hairless',\n",
        " 269: 'timber wolf, grey wolf, gray wolf, Canis lupus',\n",
        " 270: 'white wolf, Arctic wolf, Canis lupus tundrarum',\n",
        " 271: 'red wolf, maned wolf, Canis rufus, Canis niger',\n",
        " 272: 'coyote, prairie wolf, brush wolf, Canis latrans',\n",
        " 273: 'dingo, warrigal, warragal, Canis dingo',\n",
        " 274: 'dhole, Cuon alpinus',\n",
        " 275: 'African hunting dog, hyena dog, Cape hunting dog, Lycaon pictus',\n",
        " 276: 'hyena, hyaena',\n",
        " 277: 'red fox, Vulpes vulpes',\n",
        " 278: 'kit fox, Vulpes macrotis',\n",
        " 279: 'Arctic fox, white fox, Alopex lagopus',\n",
        " 280: 'grey fox, gray fox, Urocyon cinereoargenteus',\n",
        " 281: 'tabby, tabby cat',\n",
        " 282: 'tiger cat',\n",
        " 283: 'Persian cat',\n",
        " 284: 'Siamese cat, Siamese',\n",
        " 285: 'Egyptian cat',\n",
        " 286: 'cougar, puma, catamount, mountain lion, painter, panther, Felis concolor',\n",
        " 287: 'lynx, catamount',\n",
        " 288: 'leopard, Panthera pardus',\n",
        " 289: 'snow leopard, ounce, Panthera uncia',\n",
        " 290: 'jaguar, panther, Panthera onca, Felis onca',\n",
        " 291: 'lion, king of beasts, Panthera leo',\n",
        " 292: 'tiger, Panthera tigris',\n",
        " 293: 'cheetah, chetah, Acinonyx jubatus',\n",
        " 294: 'brown bear, bruin, Ursus arctos',\n",
        " 295: 'American black bear, black bear, Ursus americanus, Euarctos americanus',\n",
        " 296: 'ice bear, polar bear, Ursus Maritimus, Thalarctos maritimus',\n",
        " 297: 'sloth bear, Melursus ursinus, Ursus ursinus',\n",
        " 298: 'mongoose',\n",
        " 299: 'meerkat, mierkat',\n",
        " 300: 'tiger beetle',\n",
        " 301: 'ladybug, ladybeetle, lady beetle, ladybird, ladybird beetle',\n",
        " 302: 'ground beetle, carabid beetle',\n",
        " 303: 'long-horned beetle, longicorn, longicorn beetle',\n",
        " 304: 'leaf beetle, chrysomelid',\n",
        " 305: 'dung beetle',\n",
        " 306: 'rhinoceros beetle',\n",
        " 307: 'weevil',\n",
        " 308: 'fly',\n",
        " 309: 'bee',\n",
        " 310: 'ant, emmet, pismire',\n",
        " 311: 'grasshopper, hopper',\n",
        " 312: 'cricket',\n",
        " 313: 'walking stick, walkingstick, stick insect',\n",
        " 314: 'cockroach, roach',\n",
        " 315: 'mantis, mantid',\n",
        " 316: 'cicada, cicala',\n",
        " 317: 'leafhopper',\n",
        " 318: 'lacewing, lacewing fly',\n",
        " 319: \"dragonfly, darning needle, devil's darning needle, sewing needle, snake feeder, snake doctor, mosquito hawk, skeeter hawk\",\n",
        " 320: 'damselfly',\n",
        " 321: 'admiral',\n",
        " 322: 'ringlet, ringlet butterfly',\n",
        " 323: 'monarch, monarch butterfly, milkweed butterfly, Danaus plexippus',\n",
        " 324: 'cabbage butterfly',\n",
        " 325: 'sulphur butterfly, sulfur butterfly',\n",
        " 326: 'lycaenid, lycaenid butterfly',\n",
        " 327: 'starfish, sea star',\n",
        " 328: 'sea urchin',\n",
        " 329: 'sea cucumber, holothurian',\n",
        " 330: 'wood rabbit, cottontail, cottontail rabbit',\n",
        " 331: 'hare',\n",
        " 332: 'Angora, Angora rabbit',\n",
        " 333: 'hamster',\n",
        " 334: 'porcupine, hedgehog',\n",
        " 335: 'fox squirrel, eastern fox squirrel, Sciurus niger',\n",
        " 336: 'marmot',\n",
        " 337: 'beaver',\n",
        " 338: 'guinea pig, Cavia cobaya',\n",
        " 339: 'sorrel',\n",
        " 340: 'zebra',\n",
        " 341: 'hog, pig, grunter, squealer, Sus scrofa',\n",
        " 342: 'wild boar, boar, Sus scrofa',\n",
        " 343: 'warthog',\n",
        " 344: 'hippopotamus, hippo, river horse, Hippopotamus amphibius',\n",
        " 345: 'ox',\n",
        " 346: 'water buffalo, water ox, Asiatic buffalo, Bubalus bubalis',\n",
        " 347: 'bison',\n",
        " 348: 'ram, tup',\n",
        " 349: 'bighorn, bighorn sheep, cimarron, Rocky Mountain bighorn, Rocky Mountain sheep, Ovis canadensis',\n",
        " 350: 'ibex, Capra ibex',\n",
        " 351: 'hartebeest',\n",
        " 352: 'impala, Aepyceros melampus',\n",
        " 353: 'gazelle',\n",
        " 354: 'Arabian camel, dromedary, Camelus dromedarius',\n",
        " 355: 'llama',\n",
        " 356: 'weasel',\n",
        " 357: 'mink',\n",
        " 358: 'polecat, fitch, foulmart, foumart, Mustela putorius',\n",
        " 359: 'black-footed ferret, ferret, Mustela nigripes',\n",
        " 360: 'otter',\n",
        " 361: 'skunk, polecat, wood pussy',\n",
        " 362: 'badger',\n",
        " 363: 'armadillo',\n",
        " 364: 'three-toed sloth, ai, Bradypus tridactylus',\n",
        " 365: 'orangutan, orang, orangutang, Pongo pygmaeus',\n",
        " 366: 'gorilla, Gorilla gorilla',\n",
        " 367: 'chimpanzee, chimp, Pan troglodytes',\n",
        " 368: 'gibbon, Hylobates lar',\n",
        " 369: 'siamang, Hylobates syndactylus, Symphalangus syndactylus',\n",
        " 370: 'guenon, guenon monkey',\n",
        " 371: 'patas, hussar monkey, Erythrocebus patas',\n",
        " 372: 'baboon',\n",
        " 373: 'macaque',\n",
        " 374: 'langur',\n",
        " 375: 'colobus, colobus monkey',\n",
        " 376: 'proboscis monkey, Nasalis larvatus',\n",
        " 377: 'marmoset',\n",
        " 378: 'capuchin, ringtail, Cebus capucinus',\n",
        " 379: 'howler monkey, howler',\n",
        " 380: 'titi, titi monkey',\n",
        " 381: 'spider monkey, Ateles geoffroyi',\n",
        " 382: 'squirrel monkey, Saimiri sciureus',\n",
        " 383: 'Madagascar cat, ring-tailed lemur, Lemur catta',\n",
        " 384: 'indri, indris, Indri indri, Indri brevicaudatus',\n",
        " 385: 'Indian elephant, Elephas maximus',\n",
        " 386: 'African elephant, Loxodonta africana',\n",
        " 387: 'lesser panda, red panda, panda, bear cat, cat bear, Ailurus fulgens',\n",
        " 388: 'giant panda, panda, panda bear, coon bear, Ailuropoda melanoleuca',\n",
        " 389: 'barracouta, snoek',\n",
        " 390: 'eel',\n",
        " 391: 'coho, cohoe, coho salmon, blue jack, silver salmon, Oncorhynchus kisutch',\n",
        " 392: 'rock beauty, Holocanthus tricolor',\n",
        " 393: 'anemone fish',\n",
        " 394: 'sturgeon',\n",
        " 395: 'gar, garfish, garpike, billfish, Lepisosteus osseus',\n",
        " 396: 'lionfish',\n",
        " 397: 'puffer, pufferfish, blowfish, globefish',\n",
        " 398: 'abacus',\n",
        " 399: 'abaya',\n",
        " 400: \"academic gown, academic robe, judge's robe\",\n",
        " 401: 'accordion, piano accordion, squeeze box',\n",
        " 402: 'acoustic guitar',\n",
        " 403: 'aircraft carrier, carrier, flattop, attack aircraft carrier',\n",
        " 404: 'airliner',\n",
        " 405: 'airship, dirigible',\n",
        " 406: 'altar',\n",
        " 407: 'ambulance',\n",
        " 408: 'amphibian, amphibious vehicle',\n",
        " 409: 'analog clock',\n",
        " 410: 'apiary, bee house',\n",
        " 411: 'apron',\n",
        " 412: 'ashcan, trash can, garbage can, wastebin, ash bin, ash-bin, ashbin, dustbin, trash barrel, trash bin',\n",
        " 413: 'assault rifle, assault gun',\n",
        " 414: 'backpack, back pack, knapsack, packsack, rucksack, haversack',\n",
        " 415: 'bakery, bakeshop, bakehouse',\n",
        " 416: 'balance beam, beam',\n",
        " 417: 'balloon',\n",
        " 418: 'ballpoint, ballpoint pen, ballpen, Biro',\n",
        " 419: 'Band Aid',\n",
        " 420: 'banjo',\n",
        " 421: 'bannister, banister, balustrade, balusters, handrail',\n",
        " 422: 'barbell',\n",
        " 423: 'barber chair',\n",
        " 424: 'barbershop',\n",
        " 425: 'barn',\n",
        " 426: 'barometer',\n",
        " 427: 'barrel, cask',\n",
        " 428: 'barrow, garden cart, lawn cart, wheelbarrow',\n",
        " 429: 'baseball',\n",
        " 430: 'basketball',\n",
        " 431: 'bassinet',\n",
        " 432: 'bassoon',\n",
        " 433: 'bathing cap, swimming cap',\n",
        " 434: 'bath towel',\n",
        " 435: 'bathtub, bathing tub, bath, tub',\n",
        " 436: 'beach wagon, station wagon, wagon, estate car, beach waggon, station waggon, waggon',\n",
        " 437: 'beacon, lighthouse, beacon light, pharos',\n",
        " 438: 'beaker',\n",
        " 439: 'bearskin, busby, shako',\n",
        " 440: 'beer bottle',\n",
        " 441: 'beer glass',\n",
        " 442: 'bell cote, bell cot',\n",
        " 443: 'bib',\n",
        " 444: 'bicycle-built-for-two, tandem bicycle, tandem',\n",
        " 445: 'bikini, two-piece',\n",
        " 446: 'binder, ring-binder',\n",
        " 447: 'binoculars, field glasses, opera glasses',\n",
        " 448: 'birdhouse',\n",
        " 449: 'boathouse',\n",
        " 450: 'bobsled, bobsleigh, bob',\n",
        " 451: 'bolo tie, bolo, bola tie, bola',\n",
        " 452: 'bonnet, poke bonnet',\n",
        " 453: 'bookcase',\n",
        " 454: 'bookshop, bookstore, bookstall',\n",
        " 455: 'bottlecap',\n",
        " 456: 'bow',\n",
        " 457: 'bow tie, bow-tie, bowtie',\n",
        " 458: 'brass, memorial tablet, plaque',\n",
        " 459: 'brassiere, bra, bandeau',\n",
        " 460: 'breakwater, groin, groyne, mole, bulwark, seawall, jetty',\n",
        " 461: 'breastplate, aegis, egis',\n",
        " 462: 'broom',\n",
        " 463: 'bucket, pail',\n",
        " 464: 'buckle',\n",
        " 465: 'bulletproof vest',\n",
        " 466: 'bullet train, bullet',\n",
        " 467: 'butcher shop, meat market',\n",
        " 468: 'cab, hack, taxi, taxicab',\n",
        " 469: 'caldron, cauldron',\n",
        " 470: 'candle, taper, wax light',\n",
        " 471: 'cannon',\n",
        " 472: 'canoe',\n",
        " 473: 'can opener, tin opener',\n",
        " 474: 'cardigan',\n",
        " 475: 'car mirror',\n",
        " 476: 'carousel, carrousel, merry-go-round, roundabout, whirligig',\n",
        " 477: \"carpenter's kit, tool kit\",\n",
        " 478: 'carton',\n",
        " 479: 'car wheel',\n",
        " 480: 'cash machine, cash dispenser, automated teller machine, automatic teller machine, automated teller, automatic teller, ATM',\n",
        " 481: 'cassette',\n",
        " 482: 'cassette player',\n",
        " 483: 'castle',\n",
        " 484: 'catamaran',\n",
        " 485: 'CD player',\n",
        " 486: 'cello, violoncello',\n",
        " 487: 'cellular telephone, cellular phone, cellphone, cell, mobile phone',\n",
        " 488: 'chain',\n",
        " 489: 'chainlink fence',\n",
        " 490: 'chain mail, ring mail, mail, chain armor, chain armour, ring armor, ring armour',\n",
        " 491: 'chain saw, chainsaw',\n",
        " 492: 'chest',\n",
        " 493: 'chiffonier, commode',\n",
        " 494: 'chime, bell, gong',\n",
        " 495: 'china cabinet, china closet',\n",
        " 496: 'Christmas stocking',\n",
        " 497: 'church, church building',\n",
        " 498: 'cinema, movie theater, movie theatre, movie house, picture palace',\n",
        " 499: 'cleaver, meat cleaver, chopper',\n",
        " 500: 'cliff dwelling',\n",
        " 501: 'cloak',\n",
        " 502: 'clog, geta, patten, sabot',\n",
        " 503: 'cocktail shaker',\n",
        " 504: 'coffee mug',\n",
        " 505: 'coffeepot',\n",
        " 506: 'coil, spiral, volute, whorl, helix',\n",
        " 507: 'combination lock',\n",
        " 508: 'computer keyboard, keypad',\n",
        " 509: 'confectionery, confectionary, candy store',\n",
        " 510: 'container ship, containership, container vessel',\n",
        " 511: 'convertible',\n",
        " 512: 'corkscrew, bottle screw',\n",
        " 513: 'cornet, horn, trumpet, trump',\n",
        " 514: 'cowboy boot',\n",
        " 515: 'cowboy hat, ten-gallon hat',\n",
        " 516: 'cradle',\n",
        " 517: 'crane',\n",
        " 518: 'crash helmet',\n",
        " 519: 'crate',\n",
        " 520: 'crib, cot',\n",
        " 521: 'Crock Pot',\n",
        " 522: 'croquet ball',\n",
        " 523: 'crutch',\n",
        " 524: 'cuirass',\n",
        " 525: 'dam, dike, dyke',\n",
        " 526: 'desk',\n",
        " 527: 'desktop computer',\n",
        " 528: 'dial telephone, dial phone',\n",
        " 529: 'diaper, nappy, napkin',\n",
        " 530: 'digital clock',\n",
        " 531: 'digital watch',\n",
        " 532: 'dining table, board',\n",
        " 533: 'dishrag, dishcloth',\n",
        " 534: 'dishwasher, dish washer, dishwashing machine',\n",
        " 535: 'disk brake, disc brake',\n",
        " 536: 'dock, dockage, docking facility',\n",
        " 537: 'dogsled, dog sled, dog sleigh',\n",
        " 538: 'dome',\n",
        " 539: 'doormat, welcome mat',\n",
        " 540: 'drilling platform, offshore rig',\n",
        " 541: 'drum, membranophone, tympan',\n",
        " 542: 'drumstick',\n",
        " 543: 'dumbbell',\n",
        " 544: 'Dutch oven',\n",
        " 545: 'electric fan, blower',\n",
        " 546: 'electric guitar',\n",
        " 547: 'electric locomotive',\n",
        " 548: 'entertainment center',\n",
        " 549: 'envelope',\n",
        " 550: 'espresso maker',\n",
        " 551: 'face powder',\n",
        " 552: 'feather boa, boa',\n",
        " 553: 'file, file cabinet, filing cabinet',\n",
        " 554: 'fireboat',\n",
        " 555: 'fire engine, fire truck',\n",
        " 556: 'fire screen, fireguard',\n",
        " 557: 'flagpole, flagstaff',\n",
        " 558: 'flute, transverse flute',\n",
        " 559: 'folding chair',\n",
        " 560: 'football helmet',\n",
        " 561: 'forklift',\n",
        " 562: 'fountain',\n",
        " 563: 'fountain pen',\n",
        " 564: 'four-poster',\n",
        " 565: 'freight car',\n",
        " 566: 'French horn, horn',\n",
        " 567: 'frying pan, frypan, skillet',\n",
        " 568: 'fur coat',\n",
        " 569: 'garbage truck, dustcart',\n",
        " 570: 'gasmask, respirator, gas helmet',\n",
        " 571: 'gas pump, gasoline pump, petrol pump, island dispenser',\n",
        " 572: 'goblet',\n",
        " 573: 'go-kart',\n",
        " 574: 'golf ball',\n",
        " 575: 'golfcart, golf cart',\n",
        " 576: 'gondola',\n",
        " 577: 'gong, tam-tam',\n",
        " 578: 'gown',\n",
        " 579: 'grand piano, grand',\n",
        " 580: 'greenhouse, nursery, glasshouse',\n",
        " 581: 'grille, radiator grille',\n",
        " 582: 'grocery store, grocery, food market, market',\n",
        " 583: 'guillotine',\n",
        " 584: 'hair slide',\n",
        " 585: 'hair spray',\n",
        " 586: 'half track',\n",
        " 587: 'hammer',\n",
        " 588: 'hamper',\n",
        " 589: 'hand blower, blow dryer, blow drier, hair dryer, hair drier',\n",
        " 590: 'hand-held computer, hand-held microcomputer',\n",
        " 591: 'handkerchief, hankie, hanky, hankey',\n",
        " 592: 'hard disc, hard disk, fixed disk',\n",
        " 593: 'harmonica, mouth organ, harp, mouth harp',\n",
        " 594: 'harp',\n",
        " 595: 'harvester, reaper',\n",
        " 596: 'hatchet',\n",
        " 597: 'holster',\n",
        " 598: 'home theater, home theatre',\n",
        " 599: 'honeycomb',\n",
        " 600: 'hook, claw',\n",
        " 601: 'hoopskirt, crinoline',\n",
        " 602: 'horizontal bar, high bar',\n",
        " 603: 'horse cart, horse-cart',\n",
        " 604: 'hourglass',\n",
        " 605: 'iPod',\n",
        " 606: 'iron, smoothing iron',\n",
        " 607: \"jack-o'-lantern\",\n",
        " 608: 'jean, blue jean, denim',\n",
        " 609: 'jeep, landrover',\n",
        " 610: 'jersey, T-shirt, tee shirt',\n",
        " 611: 'jigsaw puzzle',\n",
        " 612: 'jinrikisha, ricksha, rickshaw',\n",
        " 613: 'joystick',\n",
        " 614: 'kimono',\n",
        " 615: 'knee pad',\n",
        " 616: 'knot',\n",
        " 617: 'lab coat, laboratory coat',\n",
        " 618: 'ladle',\n",
        " 619: 'lampshade, lamp shade',\n",
        " 620: 'laptop, laptop computer',\n",
        " 621: 'lawn mower, mower',\n",
        " 622: 'lens cap, lens cover',\n",
        " 623: 'letter opener, paper knife, paperknife',\n",
        " 624: 'library',\n",
        " 625: 'lifeboat',\n",
        " 626: 'lighter, light, igniter, ignitor',\n",
        " 627: 'limousine, limo',\n",
        " 628: 'liner, ocean liner',\n",
        " 629: 'lipstick, lip rouge',\n",
        " 630: 'Loafer',\n",
        " 631: 'lotion',\n",
        " 632: 'loudspeaker, speaker, speaker unit, loudspeaker system, speaker system',\n",
        " 633: \"loupe, jeweler's loupe\",\n",
        " 634: 'lumbermill, sawmill',\n",
        " 635: 'magnetic compass',\n",
        " 636: 'mailbag, postbag',\n",
        " 637: 'mailbox, letter box',\n",
        " 638: 'maillot',\n",
        " 639: 'maillot, tank suit',\n",
        " 640: 'manhole cover',\n",
        " 641: 'maraca',\n",
        " 642: 'marimba, xylophone',\n",
        " 643: 'mask',\n",
        " 644: 'matchstick',\n",
        " 645: 'maypole',\n",
        " 646: 'maze, labyrinth',\n",
        " 647: 'measuring cup',\n",
        " 648: 'medicine chest, medicine cabinet',\n",
        " 649: 'megalith, megalithic structure',\n",
        " 650: 'microphone, mike',\n",
        " 651: 'microwave, microwave oven',\n",
        " 652: 'military uniform',\n",
        " 653: 'milk can',\n",
        " 654: 'minibus',\n",
        " 655: 'miniskirt, mini',\n",
        " 656: 'minivan',\n",
        " 657: 'missile',\n",
        " 658: 'mitten',\n",
        " 659: 'mixing bowl',\n",
        " 660: 'mobile home, manufactured home',\n",
        " 661: 'Model T',\n",
        " 662: 'modem',\n",
        " 663: 'monastery',\n",
        " 664: 'monitor',\n",
        " 665: 'moped',\n",
        " 666: 'mortar',\n",
        " 667: 'mortarboard',\n",
        " 668: 'mosque',\n",
        " 669: 'mosquito net',\n",
        " 670: 'motor scooter, scooter',\n",
        " 671: 'mountain bike, all-terrain bike, off-roader',\n",
        " 672: 'mountain tent',\n",
        " 673: 'mouse, computer mouse',\n",
        " 674: 'mousetrap',\n",
        " 675: 'moving van',\n",
        " 676: 'muzzle',\n",
        " 677: 'nail',\n",
        " 678: 'neck brace',\n",
        " 679: 'necklace',\n",
        " 680: 'nipple',\n",
        " 681: 'notebook, notebook computer',\n",
        " 682: 'obelisk',\n",
        " 683: 'oboe, hautboy, hautbois',\n",
        " 684: 'ocarina, sweet potato',\n",
        " 685: 'odometer, hodometer, mileometer, milometer',\n",
        " 686: 'oil filter',\n",
        " 687: 'organ, pipe organ',\n",
        " 688: 'oscilloscope, scope, cathode-ray oscilloscope, CRO',\n",
        " 689: 'overskirt',\n",
        " 690: 'oxcart',\n",
        " 691: 'oxygen mask',\n",
        " 692: 'packet',\n",
        " 693: 'paddle, boat paddle',\n",
        " 694: 'paddlewheel, paddle wheel',\n",
        " 695: 'padlock',\n",
        " 696: 'paintbrush',\n",
        " 697: \"pajama, pyjama, pj's, jammies\",\n",
        " 698: 'palace',\n",
        " 699: 'panpipe, pandean pipe, syrinx',\n",
        " 700: 'paper towel',\n",
        " 701: 'parachute, chute',\n",
        " 702: 'parallel bars, bars',\n",
        " 703: 'park bench',\n",
        " 704: 'parking meter',\n",
        " 705: 'passenger car, coach, carriage',\n",
        " 706: 'patio, terrace',\n",
        " 707: 'pay-phone, pay-station',\n",
        " 708: 'pedestal, plinth, footstall',\n",
        " 709: 'pencil box, pencil case',\n",
        " 710: 'pencil sharpener',\n",
        " 711: 'perfume, essence',\n",
        " 712: 'Petri dish',\n",
        " 713: 'photocopier',\n",
        " 714: 'pick, plectrum, plectron',\n",
        " 715: 'pickelhaube',\n",
        " 716: 'picket fence, paling',\n",
        " 717: 'pickup, pickup truck',\n",
        " 718: 'pier',\n",
        " 719: 'piggy bank, penny bank',\n",
        " 720: 'pill bottle',\n",
        " 721: 'pillow',\n",
        " 722: 'ping-pong ball',\n",
        " 723: 'pinwheel',\n",
        " 724: 'pirate, pirate ship',\n",
        " 725: 'pitcher, ewer',\n",
        " 726: \"plane, carpenter's plane, woodworking plane\",\n",
        " 727: 'planetarium',\n",
        " 728: 'plastic bag',\n",
        " 729: 'plate rack',\n",
        " 730: 'plow, plough',\n",
        " 731: \"plunger, plumber's helper\",\n",
        " 732: 'Polaroid camera, Polaroid Land camera',\n",
        " 733: 'pole',\n",
        " 734: 'police van, police wagon, paddy wagon, patrol wagon, wagon, black Maria',\n",
        " 735: 'poncho',\n",
        " 736: 'pool table, billiard table, snooker table',\n",
        " 737: 'pop bottle, soda bottle',\n",
        " 738: 'pot, flowerpot',\n",
        " 739: \"potter's wheel\",\n",
        " 740: 'power drill',\n",
        " 741: 'prayer rug, prayer mat',\n",
        " 742: 'printer',\n",
        " 743: 'prison, prison house',\n",
        " 744: 'projectile, missile',\n",
        " 745: 'projector',\n",
        " 746: 'puck, hockey puck',\n",
        " 747: 'punching bag, punch bag, punching ball, punchball',\n",
        " 748: 'purse',\n",
        " 749: 'quill, quill pen',\n",
        " 750: 'quilt, comforter, comfort, puff',\n",
        " 751: 'racer, race car, racing car',\n",
        " 752: 'racket, racquet',\n",
        " 753: 'radiator',\n",
        " 754: 'radio, wireless',\n",
        " 755: 'radio telescope, radio reflector',\n",
        " 756: 'rain barrel',\n",
        " 757: 'recreational vehicle, RV, R.V.',\n",
        " 758: 'reel',\n",
        " 759: 'reflex camera',\n",
        " 760: 'refrigerator, icebox',\n",
        " 761: 'remote control, remote',\n",
        " 762: 'restaurant, eating house, eating place, eatery',\n",
        " 763: 'revolver, six-gun, six-shooter',\n",
        " 764: 'rifle',\n",
        " 765: 'rocking chair, rocker',\n",
        " 766: 'rotisserie',\n",
        " 767: 'rubber eraser, rubber, pencil eraser',\n",
        " 768: 'rugby ball',\n",
        " 769: 'rule, ruler',\n",
        " 770: 'running shoe',\n",
        " 771: 'safe',\n",
        " 772: 'safety pin',\n",
        " 773: 'saltshaker, salt shaker',\n",
        " 774: 'sandal',\n",
        " 775: 'sarong',\n",
        " 776: 'sax, saxophone',\n",
        " 777: 'scabbard',\n",
        " 778: 'scale, weighing machine',\n",
        " 779: 'school bus',\n",
        " 780: 'schooner',\n",
        " 781: 'scoreboard',\n",
        " 782: 'screen, CRT screen',\n",
        " 783: 'screw',\n",
        " 784: 'screwdriver',\n",
        " 785: 'seat belt, seatbelt',\n",
        " 786: 'sewing machine',\n",
        " 787: 'shield, buckler',\n",
        " 788: 'shoe shop, shoe-shop, shoe store',\n",
        " 789: 'shoji',\n",
        " 790: 'shopping basket',\n",
        " 791: 'shopping cart',\n",
        " 792: 'shovel',\n",
        " 793: 'shower cap',\n",
        " 794: 'shower curtain',\n",
        " 795: 'ski',\n",
        " 796: 'ski mask',\n",
        " 797: 'sleeping bag',\n",
        " 798: 'slide rule, slipstick',\n",
        " 799: 'sliding door',\n",
        " 800: 'slot, one-armed bandit',\n",
        " 801: 'snorkel',\n",
        " 802: 'snowmobile',\n",
        " 803: 'snowplow, snowplough',\n",
        " 804: 'soap dispenser',\n",
        " 805: 'soccer ball',\n",
        " 806: 'sock',\n",
        " 807: 'solar dish, solar collector, solar furnace',\n",
        " 808: 'sombrero',\n",
        " 809: 'soup bowl',\n",
        " 810: 'space bar',\n",
        " 811: 'space heater',\n",
        " 812: 'space shuttle',\n",
        " 813: 'spatula',\n",
        " 814: 'speedboat',\n",
        " 815: \"spider web, spider's web\",\n",
        " 816: 'spindle',\n",
        " 817: 'sports car, sport car',\n",
        " 818: 'spotlight, spot',\n",
        " 819: 'stage',\n",
        " 820: 'steam locomotive',\n",
        " 821: 'steel arch bridge',\n",
        " 822: 'steel drum',\n",
        " 823: 'stethoscope',\n",
        " 824: 'stole',\n",
        " 825: 'stone wall',\n",
        " 826: 'stopwatch, stop watch',\n",
        " 827: 'stove',\n",
        " 828: 'strainer',\n",
        " 829: 'streetcar, tram, tramcar, trolley, trolley car',\n",
        " 830: 'stretcher',\n",
        " 831: 'studio couch, day bed',\n",
        " 832: 'stupa, tope',\n",
        " 833: 'submarine, pigboat, sub, U-boat',\n",
        " 834: 'suit, suit of clothes',\n",
        " 835: 'sundial',\n",
        " 836: 'sunglass',\n",
        " 837: 'sunglasses, dark glasses, shades',\n",
        " 838: 'sunscreen, sunblock, sun blocker',\n",
        " 839: 'suspension bridge',\n",
        " 840: 'swab, swob, mop',\n",
        " 841: 'sweatshirt',\n",
        " 842: 'swimming trunks, bathing trunks',\n",
        " 843: 'swing',\n",
        " 844: 'switch, electric switch, electrical switch',\n",
        " 845: 'syringe',\n",
        " 846: 'table lamp',\n",
        " 847: 'tank, army tank, armored combat vehicle, armoured combat vehicle',\n",
        " 848: 'tape player',\n",
        " 849: 'teapot',\n",
        " 850: 'teddy, teddy bear',\n",
        " 851: 'television, television system',\n",
        " 852: 'tennis ball',\n",
        " 853: 'thatch, thatched roof',\n",
        " 854: 'theater curtain, theatre curtain',\n",
        " 855: 'thimble',\n",
        " 856: 'thresher, thrasher, threshing machine',\n",
        " 857: 'throne',\n",
        " 858: 'tile roof',\n",
        " 859: 'toaster',\n",
        " 860: 'tobacco shop, tobacconist shop, tobacconist',\n",
        " 861: 'toilet seat',\n",
        " 862: 'torch',\n",
        " 863: 'totem pole',\n",
        " 864: 'tow truck, tow car, wrecker',\n",
        " 865: 'toyshop',\n",
        " 866: 'tractor',\n",
        " 867: 'trailer truck, tractor trailer, trucking rig, rig, articulated lorry, semi',\n",
        " 868: 'tray',\n",
        " 869: 'trench coat',\n",
        " 870: 'tricycle, trike, velocipede',\n",
        " 871: 'trimaran',\n",
        " 872: 'tripod',\n",
        " 873: 'triumphal arch',\n",
        " 874: 'trolleybus, trolley coach, trackless trolley',\n",
        " 875: 'trombone',\n",
        " 876: 'tub, vat',\n",
        " 877: 'turnstile',\n",
        " 878: 'typewriter keyboard',\n",
        " 879: 'umbrella',\n",
        " 880: 'unicycle, monocycle',\n",
        " 881: 'upright, upright piano',\n",
        " 882: 'vacuum, vacuum cleaner',\n",
        " 883: 'vase',\n",
        " 884: 'vault',\n",
        " 885: 'velvet',\n",
        " 886: 'vending machine',\n",
        " 887: 'vestment',\n",
        " 888: 'viaduct',\n",
        " 889: 'violin, fiddle',\n",
        " 890: 'volleyball',\n",
        " 891: 'waffle iron',\n",
        " 892: 'wall clock',\n",
        " 893: 'wallet, billfold, notecase, pocketbook',\n",
        " 894: 'wardrobe, closet, press',\n",
        " 895: 'warplane, military plane',\n",
        " 896: 'washbasin, handbasin, washbowl, lavabo, wash-hand basin',\n",
        " 897: 'washer, automatic washer, washing machine',\n",
        " 898: 'water bottle',\n",
        " 899: 'water jug',\n",
        " 900: 'water tower',\n",
        " 901: 'whiskey jug',\n",
        " 902: 'whistle',\n",
        " 903: 'wig',\n",
        " 904: 'window screen',\n",
        " 905: 'window shade',\n",
        " 906: 'Windsor tie',\n",
        " 907: 'wine bottle',\n",
        " 908: 'wing',\n",
        " 909: 'wok',\n",
        " 910: 'wooden spoon',\n",
        " 911: 'wool, woolen, woollen',\n",
        " 912: 'worm fence, snake fence, snake-rail fence, Virginia fence',\n",
        " 913: 'wreck',\n",
        " 914: 'yawl',\n",
        " 915: 'yurt',\n",
        " 916: 'web site, website, internet site, site',\n",
        " 917: 'comic book',\n",
        " 918: 'crossword puzzle, crossword',\n",
        " 919: 'street sign',\n",
        " 920: 'traffic light, traffic signal, stoplight',\n",
        " 921: 'book jacket, dust cover, dust jacket, dust wrapper',\n",
        " 922: 'menu',\n",
        " 923: 'plate',\n",
        " 924: 'guacamole',\n",
        " 925: 'consomme',\n",
        " 926: 'hot pot, hotpot',\n",
        " 927: 'trifle',\n",
        " 928: 'ice cream, icecream',\n",
        " 929: 'ice lolly, lolly, lollipop, popsicle',\n",
        " 930: 'French loaf',\n",
        " 931: 'bagel, beigel',\n",
        " 932: 'pretzel',\n",
        " 933: 'cheeseburger',\n",
        " 934: 'hotdog, hot dog, red hot',\n",
        " 935: 'mashed potato',\n",
        " 936: 'head cabbage',\n",
        " 937: 'broccoli',\n",
        " 938: 'cauliflower',\n",
        " 939: 'zucchini, courgette',\n",
        " 940: 'spaghetti squash',\n",
        " 941: 'acorn squash',\n",
        " 942: 'butternut squash',\n",
        " 943: 'cucumber, cuke',\n",
        " 944: 'artichoke, globe artichoke',\n",
        " 945: 'bell pepper',\n",
        " 946: 'cardoon',\n",
        " 947: 'mushroom',\n",
        " 948: 'Granny Smith',\n",
        " 949: 'strawberry',\n",
        " 950: 'orange',\n",
        " 951: 'lemon',\n",
        " 952: 'fig',\n",
        " 953: 'pineapple, ananas',\n",
        " 954: 'banana',\n",
        " 955: 'jackfruit, jak, jack',\n",
        " 956: 'custard apple',\n",
        " 957: 'pomegranate',\n",
        " 958: 'hay',\n",
        " 959: 'carbonara',\n",
        " 960: 'chocolate sauce, chocolate syrup',\n",
        " 961: 'dough',\n",
        " 962: 'meat loaf, meatloaf',\n",
        " 963: 'pizza, pizza pie',\n",
        " 964: 'potpie',\n",
        " 965: 'burrito',\n",
        " 966: 'red wine',\n",
        " 967: 'espresso',\n",
        " 968: 'cup',\n",
        " 969: 'eggnog',\n",
        " 970: 'alp',\n",
        " 971: 'bubble',\n",
        " 972: 'cliff, drop, drop-off',\n",
        " 973: 'coral reef',\n",
        " 974: 'geyser',\n",
        " 975: 'lakeside, lakeshore',\n",
        " 976: 'promontory, headland, head, foreland',\n",
        " 977: 'sandbar, sand bar',\n",
        " 978: 'seashore, coast, seacoast, sea-coast',\n",
        " 979: 'valley, vale',\n",
        " 980: 'volcano',\n",
        " 981: 'ballplayer, baseball player',\n",
        " 982: 'groom, bridegroom',\n",
        " 983: 'scuba diver',\n",
        " 984: 'rapeseed',\n",
        " 985: 'daisy',\n",
        " 986: \"yellow lady's slipper, yellow lady-slipper, Cypripedium calceolus, Cypripedium parviflorum\",\n",
        " 987: 'corn',\n",
        " 988: 'acorn',\n",
        " 989: 'hip, rose hip, rosehip',\n",
        " 990: 'buckeye, horse chestnut, conker',\n",
        " 991: 'coral fungus',\n",
        " 992: 'agaric',\n",
        " 993: 'gyromitra',\n",
        " 994: 'stinkhorn, carrion fungus',\n",
        " 995: 'earthstar',\n",
        " 996: 'hen-of-the-woods, hen of the woods, Polyporus frondosus, Grifola frondosa',\n",
        " 997: 'bolete',\n",
        " 998: 'ear, spike, capitulum',\n",
        " 999: 'toilet tissue, toilet paper, bathroom tissue'}"
      ],
      "execution_count": null,
      "outputs": []
    },
    {
      "cell_type": "code",
      "metadata": {
        "cellView": "form",
        "id": "daWTpEh5nTl5"
      },
      "source": [
        "# @title Map Imagenette Labels to Imagenet Labels\n",
        "dir_to_imagenet_index = {\n",
        "    'n03888257': 1,\n",
        "    'n03425413': 571,\n",
        "    'n03394916': 566,\n",
        "    'n03000684': 491,\n",
        "    'n02102040': 217,\n",
        "    'n03445777': 574,\n",
        "    'n03417042': 569,\n",
        "    'n03028079': 497,\n",
        "    'n02979186': 482,\n",
        "    'n01440764': 701\n",
        "}\n",
        "\n",
        "dir_index_to_imagenet_label = {}\n",
        "ordered_dirs = sorted(list(dir_to_imagenet_index.keys()))\n",
        "\n",
        "for dir_index, dir_name in enumerate(ordered_dirs):\n",
        "    dir_index_to_imagenet_label[dir_index] = dir_to_imagenet_index[dir_name]\n",
        "\n",
        "dir_index_to_imagenet_label\n"
      ],
      "execution_count": null,
      "outputs": []
    },
    {
      "cell_type": "code",
      "metadata": {
        "id": "w_RnqY64qcpL",
        "cellView": "form"
      },
      "source": [
        "# @title Prepare Imagenette Data\n",
        "val_transform = transforms.Compose((transforms.Resize((256, 256)),\n",
        "                                     transforms.ToTensor()))    \n",
        "\n",
        "imagenette_val = ImageFolder('imagenette2-320/val', transform=val_transform)\n",
        "\n",
        "train_transform = transforms.Compose((transforms.Resize((256, 256)),\n",
        "                                     transforms.ToTensor()))    \n",
        "\n",
        "imagenette_train = ImageFolder('imagenette2-320/train', transform=train_transform)\n",
        "random_indices = random.sample(range(len(imagenette_train)), 400)\n",
        "imagenette_train_subset = torch.utils.data.Subset(imagenette_train, random_indices)\n",
        "\n",
        "\n",
        "\n",
        "\n",
        "# Subset to only one tenth of the data for faster runtime\n",
        "random_indices = random.sample(range(len(imagenette_val)), int(len(imagenette_val) * .1))\n",
        "imagenette_val = torch.utils.data.Subset(imagenette_val, random_indices)\n",
        "\n",
        "\n",
        "\n"
      ],
      "execution_count": null,
      "outputs": []
    },
    {
      "cell_type": "code",
      "metadata": {
        "id": "9MpCIRBLrpg7"
      },
      "source": [
        "imagenette_train_loader = torch.utils.data.DataLoader(imagenette_train_subset, \n",
        "                                                      batch_size=16,\n",
        "                                                      shuffle=True)\n",
        "\n",
        "imagenette_val_loader = torch.utils.data.DataLoader(imagenette_val, \n",
        "                                                    batch_size=16, \n",
        "                                                    shuffle=True)\n",
        "\n",
        "dataiter = iter(imagenette_val_loader)\n",
        "images, labels = dataiter.next()\n",
        "\n",
        "# show images\n",
        "plt.figure(figsize=(8,8))\n",
        "plt.imshow(make_grid(images, nrow=4).permute(1,2,0))"
      ],
      "execution_count": null,
      "outputs": []
    },
    {
      "cell_type": "code",
      "metadata": {
        "id": "eb3uemoHAwqo",
        "cellView": "form"
      },
      "source": [
        "# @title eval_imagenette function\n",
        "def eval_imagenette(resnet, data_loader, dataset_length):\n",
        "    resnet.eval()\n",
        "    with torch.no_grad():\n",
        "        loss_sum = 0\n",
        "        total_1_correct = 0\n",
        "        total_5_correct = 0\n",
        "        total = dataset_length\n",
        "        for batch in tqdm.notebook.tqdm(data_loader):\n",
        "            images, labels = batch\n",
        "            \n",
        "            # Map the imagenette labels onto the network's output\n",
        "            for i, label in enumerate(labels):\n",
        "                labels[i] = dir_index_to_imagenet_label[label.item()]\n",
        "            \n",
        "            images = images.to(device)\n",
        "            labels = labels.to(device)\n",
        "            output = resnet(images)\n",
        "\n",
        "            # Calculate top-5 accuracy\n",
        "            # Implementation from https://github.com/bearpaw/pytorch-classification/blob/cc9106d598ff1fe375cc030873ceacfea0499d77/utils/eval.py\n",
        "            batch_size = labels.size(0)\n",
        "\n",
        "            _, predictions = output.topk(5, 1, True, True)\n",
        "            predictions = predictions.t()\n",
        "\n",
        "            top_k_correct = predictions.eq(labels.view(1, -1).expand_as(predictions))\n",
        "            top_k_correct = top_k_correct.sum()\n",
        " \n",
        "            predictions = torch.argmax(output, dim=1)\n",
        "            top_1_correct = torch.sum(predictions == labels)\n",
        "            total_1_correct += top_1_correct\n",
        "            total_5_correct += top_k_correct\n",
        "\n",
        "        top_1_acc = total_1_correct / total\n",
        "        top_5_acc = total_5_correct / total\n",
        "\n",
        "        return top_1_acc, top_5_acc\n",
        "\n"
      ],
      "execution_count": null,
      "outputs": []
    },
    {
      "cell_type": "code",
      "metadata": {
        "id": "7VOtJfmnCAO7",
        "cellView": "form"
      },
      "source": [
        "# @title Imagenette Train Loop\n",
        "def imagenette_train_loop(model, optimizer, train_loader, loss_fn):\n",
        "    loss_fn = nn.CrossEntropyLoss()\n",
        "    for epoch in tqdm.notebook.tqdm(range(5)):\n",
        "    # Set model to use the imagenette classifier head\n",
        "        model.train()\n",
        "        # Train on a batch of images\n",
        "        for imagenette_batch in train_loader:\n",
        "            images, labels = imagenette_batch\n",
        "\n",
        "            # Convert labels from imagenette indices to imagenet labels\n",
        "            for i, label in enumerate(labels):\n",
        "                labels[i] = dir_index_to_imagenet_label[label.item()]\n",
        "\n",
        "            images = images.to(device)\n",
        "            labels = labels.to(device)\n",
        "            output = model(images)\n",
        "            optimizer.zero_grad()\n",
        "            loss = loss_fn(output, labels)\n",
        "            loss.backward()\n",
        "            optimizer.step()\n",
        "        \n",
        "    return model"
      ],
      "execution_count": null,
      "outputs": []
    },
    {
      "cell_type": "code",
      "metadata": {
        "id": "KppDUL9U5SiA"
      },
      "source": [
        "# This identity module returns the input, and so can be used to delete intermediate layers\n",
        "# without rewriting the forward function.\n",
        "# For more info read this discussion \n",
        "# https://discuss.pytorch.org/t/how-to-delete-layer-in-pretrained-model/17648\n",
        "class Identity(nn.Module):\n",
        "    def __init__(self):\n",
        "        super(Identity, self).__init__()\n",
        "        \n",
        "    def forward(self, x):\n",
        "        return x"
      ],
      "execution_count": null,
      "outputs": []
    },
    {
      "cell_type": "markdown",
      "metadata": {
        "id": "zsXTOWsU5dHH"
      },
      "source": [
        "This cell creates a ResNet model pretrained on [ImageNet](http://www.image-net.org/), a 1000 class image prediction dataset. The model is then trained to make predictions on [Imagenette](https://github.com/fastai/imagenette), a small subset of ImageNet classes that is useful for demonstrations and prototyping."
      ]
    },
    {
      "cell_type": "code",
      "metadata": {
        "id": "OZ0w4PoT0ZEk"
      },
      "source": [
        "# Original network\n",
        "top_1_accuracies = []\n",
        "top_5_accuracies = []\n",
        "\n",
        "# Instantiate a pretrained resnet model\n",
        "resnet = torchvision.models.resnet18(pretrained=True).to(device)\n",
        "resnet_opt = torch.optim.Adam(resnet.parameters(), lr=1e-4)\n",
        "loss_fn = nn.CrossEntropyLoss()\n",
        "\n",
        "imagenette_train_loop(resnet, resnet_opt, imagenette_train_loader, loss_fn)\n",
        "\n",
        "top_1_acc, top_5_acc = eval_imagenette(resnet, imagenette_val_loader, len(imagenette_val))\n",
        "top_1_accuracies.append(top_1_acc.item())\n",
        "top_5_accuracies.append(top_5_acc.item())"
      ],
      "execution_count": null,
      "outputs": []
    },
    {
      "cell_type": "markdown",
      "metadata": {
        "id": "SOq-ha6QISwp"
      },
      "source": [
        "To find out which layers are most important, we'll remove a block (roughly half the layer) from each and see how they perform."
      ]
    },
    {
      "cell_type": "code",
      "metadata": {
        "id": "hX70ms044m9G"
      },
      "source": [
        "layers = ['unchanged', 'layer1', 'layer2', 'layer3', 'layer4']\n",
        "\n",
        "for layer in layers[1:]:\n",
        "    layer_to_remove = getattr(resnet, layer)\n",
        "    # Store block so we can add it back after we're done evaluating\n",
        "    block_backup = copy.deepcopy(layer_to_remove[1])\n",
        "\n",
        "    # Remove one of the blocks in the layer by setting it to the identity function\n",
        "    layer_to_remove[1] = Identity()\n",
        "\n",
        "    top_1_acc, top_5_acc = eval_imagenette(resnet, imagenette_val_loader, len(imagenette_val))\n",
        "    top_1_accuracies.append(top_1_acc.item())\n",
        "    top_5_accuracies.append(top_5_acc.item())\n",
        "\n",
        "    # Restore the block that was removed\n",
        "    layer_to_remove[1] = block_backup"
      ],
      "execution_count": null,
      "outputs": []
    },
    {
      "cell_type": "code",
      "metadata": {
        "id": "TtaGh79R3axZ"
      },
      "source": [
        "plt.plot(layers, top_1_accuracies, label='Top-1 Accuracy')\n",
        "plt.plot(layers, top_5_accuracies, label='Top-5 Accuracy')\n",
        "plt.ylabel('Accuracy')\n",
        "plt.legend()\n",
        "\n",
        "plt.title('The Effects of Deleting Blocks in a ResNet')"
      ],
      "execution_count": null,
      "outputs": []
    },
    {
      "cell_type": "markdown",
      "metadata": {
        "id": "xQXtDt6j6MSK"
      },
      "source": [
        "Removing layers hurts accuracy, but the model stil performs way above random chance."
      ]
    },
    {
      "cell_type": "code",
      "metadata": {
        "id": "mXpZK-FS6qQj",
        "cellView": "form"
      },
      "source": [
        "#@title ### Exercise 4\n",
        "#@markdown Why do you think different layers have different importances?\n",
        "layer_importance = '' #@param {type:\"string\"}\n",
        "\n",
        "t4 = time.time()"
      ],
      "execution_count": null,
      "outputs": []
    },
    {
      "cell_type": "markdown",
      "metadata": {
        "id": "RwL8E48DmGV9"
      },
      "source": [
        "[*Click for the answer*](https://github.com/CIS-522/course-content/blob/main/tutorials/W7_Vision_TL/solutions/W7_Tutorial_Solution_Ex04.md)"
      ]
    },
    {
      "cell_type": "markdown",
      "metadata": {
        "id": "I64SYYF_NAAf"
      },
      "source": [
        "## Futher Reading\n",
        "\n",
        "This line of thinking also leads to other interesting research topics like the network saturation experiments in [this paper](https://arxiv.org/abs/2010.15327)."
      ]
    },
    {
      "cell_type": "markdown",
      "metadata": {
        "id": "18J4y7LOu5XO"
      },
      "source": [
        "---\n",
        "# Section 5: Compute/Performance Tradeoff and Facial Recognition"
      ]
    },
    {
      "cell_type": "code",
      "metadata": {
        "id": "Q3DJcjD4D8As",
        "cellView": "form"
      },
      "source": [
        "#@title Video: Large Convnets and Facial Recognition\n",
        "from IPython.display import YouTubeVideo\n",
        "video = YouTubeVideo(id=\"W25_R44LvR4\", width=854, height=480, fs=1)\n",
        "print(\"Video available at https://youtube.com/watch?v=\" + video.id)\n",
        "\n",
        "video"
      ],
      "execution_count": null,
      "outputs": []
    },
    {
      "cell_type": "markdown",
      "metadata": {
        "id": "Gq5uMCtm1AOB"
      },
      "source": [
        "As CNNs continued to develop, the ideas in the ResNet and [Highway Network](https://arxiv.org/abs/1505.00387) papers were taken to their logical extreme: skip-connections everywhere."
      ]
    },
    {
      "cell_type": "markdown",
      "metadata": {
        "id": "mvcZBdF7xVM8"
      },
      "source": [
        "[ResNet vs ResNext](https://arxiv.org/abs/1611.05431)\n",
        "\n",
        "<img height=300 src=https://paperswithcode.com/media/methods/Screen_Shot_2020-06-06_at_4.32.52_PM_iXtkYE5.png>\n",
        "\n",
        "[Densenet Architecture](https://arxiv.org/pdf/1608.06993.pdf)\n",
        "\n",
        "<img src=https://paperswithcode.com/media/methods/Screen_Shot_2020-06-20_at_11.35.53_PM_KroVKVL.png>"
      ]
    },
    {
      "cell_type": "markdown",
      "metadata": {
        "id": "AumDaC9A1bmo"
      },
      "source": [
        "As the models got larger and number of connections increased so did the computational costs involved. In the modern era of image processing, there is a tradeoff between model performance and computational cost. Models can reach extremely high performance on many problems, but achieving state of the art results requires [huge amounts of compute power](https://arxiv.org/pdf/1810.00736.pdf).\n",
        "\n",
        "![compute_vs_performance.png](data:image/png;base64,iVBORw0KGgoAAAANSUhEUgAAArcAAAKECAYAAAAdcxJ0AAAABHNCSVQICAgIfAhkiAAAABl0RVh0U29mdHdhcmUAZ25vbWUtc2NyZWVuc2hvdO8Dvz4AACAASURBVHic7L15mGRFlTf8u/fmvtSWVV17V29sIjgDKtO2L5sIQjfCACONzAz0PGwCDz7Op6B+vKDQju84qAgqoI0ji9KM8okOjrwqiEAjOyh0YzdNd1V1VWXlvm837/L9kUT0vVlZW1ZEd1UTv+dpqMh778mIE78492TEiROSaZomBAQEBAQEBAQEBA4ByAe7AgICAgICAgICAgKsIJxbAQEBAQEBAQGBQwbCuRUQEBAQEBAQEDhkIJxbAQEBAQEBAQGBQwbCuRUQEBAQEBAQEDhkIJxbAQEBAQEBAQGBQwbCuRUQEBAQEBAQEDhkIJxbAQEBAQEBAQGBQwbCuRUQEBAQEBAQEDhkIJxbAQEBAQEBAQGBQwbCuRUQEBAQEBAQEDhkIJxbAQEBAQEBAQGBQwbCuRUQEBAQEBAQEDhkIJxbAQEBAQEBAQGBQwbCuRUQEBAQEBAQEDhkIJxbAQEBAQEBAQGBQwbCuRUQEBAQEBAQEDhkIJxbAQEBAQEBAQGBQwbCuRUQEBAQEBAQEDhkIJxbAQEBAQEBAQGBQwbCuRUQEBAQEBAQEDhkIJxbAQEBAQEBAQGBQwbveefWNM0pfzf6bLpn5iqHpSwez8xHzmKoE4t2NMLB1i2v72Yp62Dz82ByhDenD0Y7eH53s3VabO1oto+Wyjg7VNrRCIeavViMdVqoDpup02x4zzu3AgICAgICAgIChw6EcysgICAgICAgIHDIwHGwKyDAF6ZpQtd1GIYBSZKmXJvpM/J3/WcAGn7ejKxm68SiHfXPHIx2HCgdHirtsPJvNvmLvR2NnjkY7ZitTgv57mbrtNja0WwfLZVxBsxtTC32dizEpi/mdvCy6QdynMmyDFk+cPOpwrk9xBGJRPCTn/wEuVyO2QAGhHO71IzjodKO+byIF3s7Fuo4Hag6LeS7m63TYmtHs320VMYZIJzbxdwOXjb9QI0zwzBw7LHH4uyzz4bL5ZrSDh4Qzu0hjj179uChhx7CeeedB6/Xa7vWLPGBmQ3hfGQ1GrD1OFAvuGbbMVud5yrH+je5xtLIN5K7GJ2HmTCfFzGPOvHkwnR/k+9g2Q4ANrkz1aOZdjS652DrttH1ZsbZfHS7VMdZs7LqP5uOYweKC/ORz3ucseLCbO1fbONMlmW89NJLeOmll3DaaacJ51aAHbq7u7Fp0yb09vbaPm92AAOAruvI5/NobW2ddnA0YwxKpRI0TUMwGJxRznzbUS6Xoes6/H7/jIN5Pu0AgHw+D4fDweyHA/ksk8nA7/fD4XAs+AVDUK1WUSgU0NLSYjPmC9Ut4UJLSwtkWebOBaB557YRF5rVLWsuNPobAOWC0+lkpltN01AoFBAMBulSIQsuqKoKVVURCASY6VaSJBQKBUiSBJ/P17Ru66+bpkn7zOPxzLm+s8k3DAP5fB4ejwdOp5PZOAMOHBealWW9T1VVVCoVBAKBKRxbKBcAwO/3z6rD+ei2UChAURR4vV5muuXBBVLOZDLw+XzUWWShW03TkM/nEQwGoSjKvHQ4Excefvhh/PSnP23YP7wgNpQd4uBFpmq1ilgsBl3XmcrN5XJIp9MwDIO53EwmQw0ZCxADUywWmckEaj8cotEoVFVlKrdarSKRSEDTNOZy4/E48z4rFApIpVJcuMBaLuECefGyAm8usB6/xWIRiUSCi27z+TwzmQS8xm88Hke5XGYuNxaLoVKpMJVLxi9ru1AsFpFMJpnaXKA2fnlxoVAoMK2vYRhIJBJcuBCPx5lzQdM0LnaBtQ2fC8TMrUBT8Hg8WLlype3XHQuEQiEA7J3yzs7OaX/ZNwtJkqbMhrOAoihYvXo18+B7j8eDFStWcJPLmgvt7e1ob2/nwgWALceWGhfcbjeGhoaYy21tbZ0yA7hQSJKEnp4e5k4SAPT29jLnl6IoXHSrKAoXm0u4wFpua2srXSViiWXLlnHhQk9Pj21FiwVkWcby5cu5cYG1bnlx4WBAOLcCTUGSJC47H4lM1oOWGC3WDg2v3Z885Fp1wPLlIEkSF2PIgwu8VjKWMhdYy1UUhdv4ZS2Tp255yOUxznj0GZHFSw+CCwuprwmY5rv/NwBIgAkAMiTwGb8HA8K5FWgKmqYhl8vRmFtWKJVK0HXdFrO3WOVaY/bq4ywXKjeTySAQCMDhYDdESWwd69mUpcQF0zSpXGvMLQu5vLngdDqZybVygeVLvVKpQFVVBINBprolMbf1cZYLlWuNuWUFEmfp9XqZ9plhGDTmluWmHGvMLSvn2TRNygXWtpyEkfDiAsvxa425ZdlnhmEgm83aYm5nhGkCpg5U05AqY0A1DVRzkIwSIEmQIAOuDkDxQ3IP1P6WXQAkYIk6usK5FWgKqqoiGo0yX4LM5XJ0EwJL5HI5qKrK3KFJpVLw+XzMDWIkEoHL5WLq3Kqqing8Dp/Px/Slq6oqYrEYcy7k83mUSiUuXKhUKsxfjul0Gh6PhwsXnE4n0z4jcZZzfjnOEcViEel0Gn6/n+ksYyaTgaIoTPsMAB2/rJ3beDyOrq4u5s5tNBpFf38/c+eWcIFln1m5wBKZTAayLDOXS8Yvay4kEgmEQiHmzm00GkVvb+/Mck0TMCpAaRhIvwTk/wqocUCv1q5L5D9mbfZWUgBXK+BbCbQeB/jfBziD5MYlBeHcCjQFn8+Hww8/nEs8FY8lke7ubuYxtySeinX8l8PhwJFHHgkATGX7fD6sWbOGi9zDDjuMeb91dXVxWX7s7u4GwFYHsixjcHCQKxdYwuv1Ui6wREdHB/M4aUmS0N/fz1y3kiRh+fLlANhyweFwYPXq1Vzk8rC5Ho8Hq1evZt5nHR0d6OjoYN5vfX19XLgwODhIy6zkOxwOrFq1iqlMIvfwww+fWaahQSqNALH/AdJ/AWAAkGt+qvKu62eatZlZ0wTkd/u/mgHSrwGpVwDvANBzNhA8BlDYOf0HAsK5FRAQEBAQEBA4VKAXgcj/APEnAePdWVr53Vn5uTjZsgwYElAOA8M/gBQ8Cuj7VM3ZXSIQqcAEmoKu6ygWi8xTfKiqyjxtCpFbqVSYpwIrl8vM0zQZhoFiscglHQuPPuPFhWq1ilKpxLzPeHCMJxcKhQIXLhQKBS59Vi6XmcvloVtefWaaJorFIvPUWrzk8rALpmlC0zTm4xfYH9fNEkuVC43sgqTGgbH7gPjvAUOtzcjKTczKW5/L7QBGt9T+zyFTBQ8I5/Y9AMMwqOHSdR3JZBLVapWWrfnydF1HIpGgZRJLSJwBssElk8kgFovRuFMS5G+aJrLZLC0bhoFcLodsNkvrk81maZls8Mlms/SFOzExYbu/VCrZ8pKqqjqlbM2NW6lUbLn6DMPA6OgozbmoaRrS6TQ1OCS3HzFshmHYdGQYBtLpNNUJuV4ul5FKpVAoFJDNZlEul2GatZNocrkcSqUSbUM6nUY+n4dhGNQw5XI5ej2fz9McqaZpYu/evYjH4/TFUC6Xkclk6P2kTL6vXC7b2lytVpFKpWzlWCyGaDQKXdehaRpisRjVga7rSKfTNl5YdUTiCK06yGQyqFQqVHYjHRWLRdqGXC5nywObz+dtvKnPRZxIJDA+Pk7LpVIJ+XyetrlUKiGRSNDrhAf1ZStP4vE4MpkMUqkULVt5kEqlbOV4PE51QnhCyqZpIplMQtM0+vf4+Djtd6IDazmTydjK2WyW8qBRPtdCoYA9e/ZQbhaLRRv38/k8MpmMjftWHZTLZSSTScoDwhMyRqrVKpLJJH2+PucpKVt5UW8/rHk88/k83n77bdtYIjwh5XQ6beM6GUPkupUXQM1ejI2NIZfLUftC7AXhRb29sLaJtLnefpDvTqfTNh0RPpP76+2Fruu2sUXyz1p5MjIyQvuRtJnoxDRNJBIJ6vg1sheZTIbqlNhQYnMrlQoKhQKVTzZDEf2QDXipVIrKs9oLK08Mw4CmaZiYmEA8HrfpIJ1O29pYzxPrWCA6IToyTRNjY2OIRqMwTXMKT+rfK/U2lly3jgViIzOZDLLZLC2TNuXzeRv3CS+s9sKqAzKWSDkejyMcDtM2q6pqy9Nbnye83l4QHdW/VyYnJ+nBMVaekLFhHSupVGpG+5HL5egPkWg0ing8Tvu9VukUMPZjIPUqYOhsNoPJ724qK40D++4Dctupg0t0YB0r9TaTR67yOVX7gH+jwAGH9ZczMXyEbMQwkgFNyoScAGy/EIljBgCDg4OQJAmlUsmWTLr+F3C5XLa9rEqlks2Qkxk6AGhra0NHR4ftuqqqtjrrum5zkjRNszlR5MQscr9hGHC5XOjq6oIsy3SmgtxP2mz9dW2dLaufSbXqqLu7G62trSiVSjanp1Qq2XRQr6NKpWKbPbSWZVlGd3c3dF2ndSRtbKQza5ut91sNv67r0HUdfX19cDgc0HXdZhRJv1p5YX2eOB3Wl1exWES1WoXb7cbAwADK5bKNN4VCwVauVCpTeFKvE2sbvV6v7XSySqXSkBcEjXhgLZPTd1pbW6l+rW2crs1WHtTzhPBClmW6gcjqxBSLRRsPiM6sZasOSqWSjReapqGnpwdut7uhjkh5Op4QHVlf0IVCAU6nE/39/bSfCOpniut10Mh+FAoFqpNAIIBgMGibUSInzVnL1jYXCoUp9sKqg3K5jGAwiPb2dvp8PQ/qy1Yuz8ST7u5u+P1+m70gPLG20arj+pnOel7IsoyWlha6maxeR/Vl0sZ6e2HlCdHZ4OAgfD5fQ/sx01iqn0UlZQBwuVzo6emxXa9fjakfK410VCqVbGVFUdDT00NPLaxvc30brTOcROf1bVJVFZ2dnejo6JhiP8rlckNeWLnfyH6Q66FQyLaBt95+1L9X6sdC/WoIaQPhWP17pn72lciztqn+XUzeKyTGn7QbACS9BER+BeR21m5uZrZ2JkgSoCaAia1AJQLAnHUskPfMwXBuJZP1msESg3WTEfm70WfTPTNXOSxlzeeZ559/Hps3b8aWLVuYHr+70GP+FqoPHjo8GO04UDoknwP2vltq7bC2YTb5i70djZ45kO0A7HrkbfcWotu59DvPdjTbR0tlnAFzG1OLvR0LselWkOwcJFMLccRbWloA7J+V7ejooD9iDMNAuVymKcVaWlqgKAqd1e7o6KDlbDZL0/DVf7dhGFBVFU6nk2avqK8jcYJbW1tr9xhVIP47YOIXNPlBPq8i4HMCjro5TNPcP6NL/m70WaNnjHdz47Z9ABjcBDiCs+rYNE089NBD2Lp1Kx588EGqw+nG9nze1zNBzNwKNAVd1+kyPEtomgZVVZnLrVarqFarTOWaZi1+k0c8FY+4RcMwUKlUuMTc8qivpmlc4qSr1Spzjgku1MBj/JI+46HbSqXCTS7rOGlecnlwwTRroQisxy+w35azBNEteUfccMMN+Kd/+ida9wceeACbN2+m97/++uvo6enBs88+Sz+LRCL4x3/8R5x//vn46Ec/irvuuguapuEvf/kLVq9eje3btwOohT98+tOfxtjYWMO6ZDIZfPnLX0Y0Gm143TAM3HLLLVi7di2SyWTN8SyPAdHf0XuSqTIu/OKTGIuwPQ4csgQoCpB5A8i8XHN0FymEcyvQFMrlMvbs2cP85RiPxzE2NsbcIMZiMVv8JguYpomJiQlbbBsLaJqG3bt3Mz/zvlQqYWRkhPnLvFwuY3h4mDkX6mNuWSEej3Phwvj4eO1lwxC6rmP37t22ZXUWKJfLXLiQSqUwOjrKnAuTk5OIxWJMZQJAOBxm3meapmHv3r22mHoW0HUd77zzDhcuDA8PM3cYU6kURkZGmI/fSCTCnQsulwuvvfYannrqqSn36bqOhx9+GJs2bcKjjz5Kf2z8+Mc/xtFHH41nnnkGTzzxBO699168/fbbGB8fRyAQwDe+8Y051aNUKuHNN9+c9nqxWMS2bduwcuVKvPLKK7U8tvEnAS3LPhRhWphA7Amg0tgBXwwQqcAEmoLX68Vhhx3G/MhCcm74fJcgZgOPPLeSJGFgYIB5XR0OB4444gjmR236fD6sWrWK6cEQQI0Lq1evZl7frq4uLlzgwTFJsufJZAVFUbhwwev1cuECyXPL0i5IkoS+vj5m8qzgNX55jAdFUXD44Ydz4wLLAyeAGhfa2tqY67enp4epPALCBUmS4PF4sGnTJtx555045ZRTbPel02m8+uqr+NGPfoQLL7wQyWQSXV1d8Hg8GB4eRqFQQG9vL+6++24sX74clUoF69atQyQSwY4dOxAKhaiseDyOr3zlK9izZw+GhoZw44034tFHH8Wbb76JL3zhC3jwwQen1PONN97A0NAQzjzzTPzmN7/BGWsHIOXeAKTZx9xbbydw0/dfQSqv4qgVbfjmv56AXz+7D0+/EsYLb0bxkQ9041//8Vhc943nUNUNfOCwDoxFivj+l9bhqVcmcM8jf4WqGfjHM9fgok8AyLwCuM/EYjzkQczcCjQFWZbhdDqZGy5ZluFwOJjLVRSFy/npDoeDuYMvSRKcTic3uTz6bKlwQZJqZ6fzkOtwOJg7HkuNCzzGGQBuul1qfcbT3rAeD7xs+YHiwoc//GE4HA4899xzCIVCdFPnzp070dbWhqGhIfT19eGtt94CAFx44YUoFos455xzcP/99+OII46A3++Hw+GA3+/Hddddh9tuuw1er5eeKvbTn/4UbW1teOCBB7Bq1Sps2bIFGzZswFFHHYVbbrllSj0Nw8Bjjz2Gj3/84zjppJPw17/+FYnhZ4Hq3Gbzt7+TwoaThvCfN5+IPRM5vP7XBCqqgT++OonvfH4trrvo/Xjwf97GmuUtuO+rJ6OzzYNwooiJeBH3/Pwt3PqZ4/GfN5+IO7a+iYlovpYarJqf/YsPAoRzK9AUyG58HnlueeVGZB0jbJrmlB2/LMArtynZ8bxU8tzy4AKJreMhtz5bBAsQLrAOH+DFBV7jt35nPAuQ8ctDLq/cpry4wCPPbbVatWUbYAXeXCD19fl8uPrqq/Hd736XOr6GYeCJJ57A0NAQXn75ZaxYsQK//vWvYRgGent7cdddd+Ff//Vf8atf/QpXX301TQMGAGeccQZGRkYwOjpKZ8lfffVVjI2N4cc//jF27dqF7du3w+VyQVEUeL1ePP/887j66qtx1VVX4f7770cmk8ELL7yA1tZWjI+PI53J4K9/fhrbd8XxmVufwdW3PoN7H/krNL1xX15w+mqsXzeAcKKEQklDLF2r2wcO68CH3r8Mywda8ObuJE48rhdt7R6c+Le98LsVxJMlvDOWw+/+NI6f/Ho3svkqxqJFoDIBVBdnaIJwbgWagqqqXGJj0+k0IpEIc7mpVIrm5WUF0zQRjUZt+WdZgOTltaatYYFKpYKJiQnmL8dKpYKxsTHmjhIvLqTT6Wk3azQL3lxgfeiEqqpcuJDL5RAOh5k7SvF4HOl0mplMgmg0asuRywKapmF8fJx5bKyu6xgbG2NuF1RVxfj4OHMuZLNZhMNh5uM3kUgw3+cA1PZl1I/fdevWoVwuY9euXQBqtuPpp59GMpnEvffei2QyiRdffBETExO4++67EY1GcdZZZ+HBBx+EaZr47//+b2prnE4nrrzySjz00EO2H8GhUAiDg4M46aSTcNlll9m+v6enByeffDJOOeUUHHnkkdi9ezei0Sgef/xx3HnnnQj6PXj86R3obPfi1A/34dQP9eGY1dMff/3LJ/fiuv/4Ex57egRVbf/kScDvolkVDKNBsgQJUBQJAz1+DPYG8IV/PhYr+4O1k9CKe5tTOGeImFuBpuDxeLBy5UrmS2QkHom1XBK/yVKuLMvo6+vjsrS7Zs0aLrGxQ0NDzGPrPB4PVqxYwXypkAcXJElCZ2cn85hbWZbR29vLjQusdevxeLhwoa2tDa2trcz7rLu7m7luAaCvr4+5rXE6nVzGg8Ph4BInTcYvSy5IkoT29naa7ooluru7mcoj6O3tpam5KpUK8vk8nE4nLr30Unz+85/HP/zDP2Dnzp1QVRVbtmyBw+GApmn46Ec/ir179+K1115DNpvF5z73OWiahnK5jI6ODvT19VGn+ZxzzsGWLVsQj8cBAKtXr4bL5cL555+PRx55BLt27cIxxxwD06wdNrRixQqsWLGC/kC45ZZb8KlPfQo33ngjqlUNrzz7C9x84/+DgNeJfzhjNU3rlUzWVik13QC0d39oyhJ+8eQwrrrgKHzg8BBeeLPxprzukBdvvZPGmR8ZxGu74ihUdLQFXFgW8uIjH+hGf5cfF/+/T+LMdYM1T7iaapw+7CBDzNwKNAVZluFyubi8zFkbbyKX9csGgC0XISvwioeUJIlLny1FLvCQy5MLPOIsefUZj5hbnrrlZRdY9xkvubxj8VmDZ5w0kVupVGi2i0984hPo6OhAtVrFM888g1NOOYXepygKTj/9dDz11FO4/vrr8cwzz+CEE07A2rVrcfjhh+P000+Hw+FAIpEAALjdblx44YV05vayyy7Dtm3bcNZZZ+Gee+7Bxz72MbS2tmJoaAgbN26cckLbq6++ilNPPRUA4HQ68IHVflQ1YMfeqasaY9EC/vmmP+KMa3+DM679DX786E6cdHwfrr/9RVz+1aeRL1WRyk49bviaC9+HR57ci/Wf/b947I+jcMgShnqD+KczD8PFNz6FEy9/DEesaENXuweACagxwGR7bDELiEMcDlCiapay5vMMr0McyC9LYhRZtYMsjVmdDxb9QY4gJhscFprwm+hB0zS6GaFZOY0+0zSNOgmskpnruk51AMz/II7p2sGTC6Zp2l6Q9Qm/Z5Lf6DrhgmmaNidsoeOM1HchXGj0N5GrKAo96YmFbg3DgK7rtg0/PMYZC91KktTQLsxXt/XXTbOWi5VsfpprfeeqW1mWqVwWugVqOV7JpjKWXLCO34XIqh9nB5sL89Et4YKiKCgWi3A6ndT2kFAQwhWrratWq/QUTDJjK8syPB4PZFmmebUDgQAkSaJlr9dL+7RSqcDpdMLj8QCohYpUKhUEAgHa16ZZi+t3u93vnrRpQkk+DnXPz+ByKoAi7T+QwQQqZQ26btB2upwKFIeMUqkKRZGgyDIkCZAlCZpuwOGp6fPlP0fgcMg4YqgVT70axk9+vRv333oyZIeMSlmDaQIej1JLO2aaQPB9MFd8BpLinZYL4hAHgSWDSqXCJZ9lJpNZMjG3ALjFWY6MjDDfNEHipHnE3O7bt29JcYGcec8Kprm0Ym5JnPRSiLkFaimTWOejBWo5U1nH8hqGgfHxceaxsYZhYN++fVxi8QUX7Fzwer22H9Verxcejwcej4dmOiBwuVzweDyQpNpqSEtLCwKBABwOBwzDwOTkpO1+kj2B/PBxu91oaWmB1+ulDhz5zDpLL8syfD4f3dgWTyQBU4LL0+AUMlmC2+eEL+CC991/irvmAHv9Tri8TihuBbJTBpwyHO79M+GTySI+980/4UvffQnf+emb2PiJ1bX73pXp8TsBZfG7jiLmVqApuN1uDA4OMl8ia21tRUtLy7x/pc2Gtra2pn79zYZly5YxlynLMpYvX8586dzlcqG/v5+5XLfbjYGBgfc0FyRJ4saFwcHBJcOFYDAIn8/HLRafNZYtW8a8riQWn7VuZVnGwMAA86V+nlzw+/3MxwSJmWcNXuOXR1y3LMvoaG8D0grzFLMb/tdyHLG8Dam8io6gG2uGWmapjAOLMc+tcG4FmgLPOEvWMoHar2UeDo3T6WRuaMkMAACmsmVZtp1VzlLuUuGCNWyApQ4OBBdYwsoFliDhE6z7jZduiaPImgs8xi+Ry8MBYy2XLO8risK834gtZwkrF3jJZW9vHICjBZAcgMFw1l2Rcdjqdvtn09ZdAlzLAIm9jVooFv/cssCihGEY9BxultB1nfnyGFCLWyQxnKxA4q14nCGvqirz5TxefbaUuEDiLHlwQdO09zwXdF3nIpeXbnnJJXGYS0ku6/HAkws87MJS5ILpaK05lhxmsucMR2DRZUoAhHMr0CRKpRLefvtt5oM2FotxieWNxWIYHx9nbsDHxsboTlhW0DQNu3btQrFYZCq3VCrhnXfeYX7QQKlUwu7du5m/GOLxOBcuRKNR7Nu3j6lM0zSxb98+5lzQdR27du1injO1XC5z4UIqlcLIyAjzPLcTExPMcxMDwL59+2haJlbQNA179uxhnj9X13W8/fbbth30LEDsgqqy3fGeSqUwPDzM3LkNh8OIRCJMZQLA2NgY4vE40/rquo69e/dy4cKuXbuQ1doAVwjAQXJunT7Av+bgfPcsEGEJAk2BZ55bHrGxnZ2dMAyD+dIbj3gqcjY9Oe6RFUieWx55MleuXMklz217+/QJyRcilzUIF3iEZpBcmCxB8tyy5kJbWxvd4c0SSynPrcPh4KJbRVGwcuVK5naBR55boMaFYDDIvN+6u7vn7IDWsgxoME0DJgyQ2NDaO0au/YMCQKJ5bllCURQMDQ0xt42KomDVqlW10ITiGqA4wlT+nGCagHMZ4OKTd3ihEM6tQFMgxwPyiK3j8RIjMXusnVu3280l/oukiWEdG8tDrqIodLcwS/A4l55nPCRvLrCElQssQXKQLpVxRhxF1lwgKZ1Yy+Vhc0naKtZ95nA4uMTHulyuGWWapgHDVFGtRlEs7UCh+FdU9TQMswyrc6vIHjiVILyeI+D3vQ8uVy9kaX+KLxbgyTGv11uTGTgSSG4DDLbZdeaEwJGAM3jgv3cOEM6tQFPQdR2qqtKce6xAYiFZz1SR2C+WzjOJe2K9GcEwDKiqyjxhO4mzZL15hMTWuVyuRc8FEgtoGAbTPjsQXGA5+2PlAus+03WdOcdUVWWuWxLPLMsy01lWIpfko2Upl+RDXexcIONM13XmExYkfKLeLpimBlWNIFd4DdnCyyir46jqBRiGNn0+XgBS7iU4FB98rn4EA8ch6PsgXK4eSNLCuXZAuOA/DGh5H5B69cDFvhom4O4E2o6vD7Sm0AAAIABJREFUbWg7mDG/00DE3Ao0BV55bpPJJCYnJ7nJZR1zOzk5ySW36d69e5nnNi2Xy9zy3PLgQiqVwsTEBHO5iUSCCxd45UwdHh7mltuUdZx0Nptl3memaSIWizGPZwZquU1Zj19d1zE2NsY8TlrXdYyMjDCPxSd5qlnbhWw2y3yfA1CLxbdywTQNqGoUseQvsHf83zEWewDZ4ltQtRwAS/hBg3+yJAMwoekFZEs7MRZ7CHsn/g9iyZ+jok7ANBc2PggXWMdJ27jg8APt/wtw+GpO54FC+zrAM3Dgvm+eEDO370FYjY317/oTW+qfsV4nuU0bpXppVG50Ikz9/ZIkTZuDdLrnpzs1qP7Uk/b2dnoCTaPrjXRSf1pPo/qQPJnTyZtNp43+JnlurbF1c9Fxo3J9n1nzb9Z//1x00ug73G43+vv7bXqYrg6NZEyns9bWVlvMXrM6qC+3tbXR+Ou5cm0u5a6uroYn68xWp5m+T1EUDA4O0mXu6eo33XdMJ9/lcqGvr2/K+J0rT6cbG8FgkJ7MNJuMuXwfQSgUmnOfkM9msxcA0NXVZdPBfLnfSL6iKOjt7W0wszh9P89UZwJFUdDf3w+Px8PU5hIu1J8KOVubZxvfwWCQhlHMpZ/nai/IvgwTJmDqyOReQiz5CAqV0Xefn/+cXe07JUgAKtUYwolfIJX7E3o6zkNL8COQ5OnTedXr2dqn9VyYqw2c6V4id3Bw8N1wO0DyHwa0fRiI/3HebZ8XiPPsGwLa/w6mpEyZtZ2OJwcaYub2PQArwQzDQLFYpDMrpmkin8/TX+2GYaBQKNCyaZoolUoNyz6fDwBQLBbpUpFp1o4ItJYrlYptFrJcLtOyadaWc8vlMkzTpMuZ1vtVVbXVWdd1lEol2iZN02xlXddRKBTo/WTZze12Q5IkGIaBUqlkk5fP5+ksFmkjKZP7rdcLhQKq1So8Hg8cDgfK5TJdRidttu4+LpVKqFQq9Do5XpGgUqnQMnlBkvutbSQgxzwSeZqmIZ/P23RQrxNVVanjYRgGcrmcTUdWnUzHE6tOSJtJ/DUpk/sJL0gd6nUyHU+mM4ZEZ6TN1WrVNiPSqM3FYtFWzufzcDqd8Hq9tDxdmw3DsLWZ8Mo620nKxEnQNI1mICDySJmMDauOyuUy7ff6MmkzyR1LdGhtU6VSmTIWrDrUNM02FghPJEmCz+ejXLbaB6tO6nVE+tXKA6v9UBTFlsKN8KqeF9Y21tuPRjwhx5sSHVnbTOyHVWfWfpxubAC1TZayLNt0pOs6crmcTSczjQ0ylqabBa+3J1b7QbhsHQukzfW8qVQq8Pv9cDgcNvthtSdW+1JvLxrZTMMwoCgKXC7XFJvZqM0z2Vjr/aQOxJ7P5b1SPzaIzSQgvHC73XC7XTAMFfHUYxiZvPNdx1ZqyrGtR02GhLI6iZHJuxFLPgLdKM3JXtSXC4UCXC4XjT228qT+vULut46FfD5v4wHRAYm5pe9O2Q0sWw8Ej6g5mzxmcIlIhx/ovxCmK9TwXWq1kfW8OZAQzu17AOSMb6BGvkgkQgeMruuYmJigRoSUrYYxGo3SsmnWlggzmQyVW3/saDKZpE6HaZpIpVK2dDuJRMK2rFQoFJBMJqlhzufztuu5XA6RSIS2oVKp2JaVy+UyYrEYvV4ulzExMUENpa7rCIfDtKxpGqLRqK08Pj5ue1lMTk7SMmmjtTw5OWkz7olEwrYMmUwmbeVYLIZ0Ok3rnM1mkUql6PVMJmNb0q4/LrhYLCIWi9HrxWLRptNSqYSJiQlqVFRVxeTkJC1Xq1XaZuIYjo2N2RyxaDRKDauu64hGozbDaj1S1DAMxGIxargIL6zXI5EIcrkcrWM6nbbxJJVK2a6TNhM04oH12M18Po9wOEzL5XIZ0WjUxpN6XpCwDOKch8Nh2sZqtYrJyUnKi2q1iomJCaoTTdNsYwWoLWtbdRYOh2mbDMNAOBy2jYV4PE55QXRobVMsFrPxIpfLIZVK2XhjPTo4k8lMaaM1ZVahULDxoFgs0jKJ57UeD6qqqq3NqqpifHzc1sZ6+zE5OUn7Xdd1G09Im60/ZmOxmC01UiQSoWXTNBvyJJFI0DYnk0lqL0gb6+2J1V4QHZD7S6US5Ql5OVvtRX3IhqZptjaTstW+jI2NUR2RfiVtns5+WMML6u2FlSdEh4lEAoZhwDTNKfaivpzNZm3psorFok2HxGZa7Uu9/bDayGq1ajtKt54nhBdWHUxOTk4pkzaTNlnL0Wh0Ck/qeUB4omsZTES2YCz2IExTZ+LU1kOSZJgwEU78f5iYvBvl0iSi0ZjtvWG1F/U8ITojPyrI2LDyoJ4n9TaTvGeITurfrYlEgtoL09kGDFwCeHpqD7P2J00TcHiBvgsB3xoAEn2vWN8z1rGgqirC4TDz8Ke5QDIP1pzxIkGjJYWZlhnm8lkjOSxlzeeZ559/Hrfeeiu2bNmCvr4+6og0qhf5hQ3sXxqSJAm6rtNTh4hxJQ7m0NAQvZcsSzeSb5omXf4jlCPfaX0mkUigUqnY0rLU12mmOhN5hmHY6pxMJqGqKnp6euhn5Pp8dWKtUyQSgcfjQVtbG70fgE1n1vsbtcn6HbIsQ9M0jIyMoLe3l860kjZZl1CtdZytDWQmJBaL2ZajJUmyya/XyWz9CtScgXA4POWY2OnuJ3Wy6qgRLxKJBEqlEvr7+xv260x1mq7OhmEglUpBVVWaXqr+upU3M/HKWmeg9iJyu93o6OiYlw7J2CC8sfYJia3r7e2Fz+dryCPTNOdd50qlgkgkQpej56PDmcZGJpNBLpezcYx8/3zk11+PRqNwOBx0Sdr6neSZZuxFOByG2+1GW1vbFBs33diYzh6Q6+RHUSgUgt/vnzevrG2wfr9pmhgdHUV3dzeddbeGAtWP97naC2LLyfL5dDaUYK72IpPJIJvNTglZmguvGtkDYi80I4fJyI+QyD2H2mzt9O/F6T6f7/vUNA10BI9HT9flcDk7GvZ7o34lDm5HRwflwnx0OJ2ODMPA6OgoOjs74ff76f0SAJRHgfGfAPm9teQQ9Toxzf2fkb8bfUbvf/c/zjag5++B9r8DJDvvZqqzYRjYunUrHn74YTz44INoaWmxtaV+PM/V55kNIub2PQDrC9z6t9WYNLrXStr6591uN3p7e20vgJnkW50A8hJq9ExLS8sUIs+nzqRcX2er3EbX56MT8jxQy59rLVvbaJVRH49ar5d649/f32/bZVz/HfXPz6UNbrcb3d3dNFVTfb810slc+tXlcqG3t5fKbfT9VuejEa9I2YpgMIhAIDClX2fql9nqLMsyWltbYRiGTZ71eiNeNNJRfb+RuNBmdGiVVy+fcKFRnehLbYbvbNQml8uFnp4e2y7uuepwprERCARsMbfW75+P/HqddHR0NGz/XMdro+umWYvflGV5io7mMjas8q3ZCxRFQXd3N/2ht1BeWXlqdUCtz5P/N3qmvs31dXA6neju7m5ob+bLK2u/ES6Qa436dbo+qr++XycqEslfIZF7HpCkd6Nk+aJWLxmp/OtQHD9Hb+c/QZa9c+pXh8NBuTBfHc7EY1mW0dPTMzWjjiTB9AxCGrwciPwSyLwG6GrNWW1GVYYJyDLgGaw5tsGjAGl+7yEex3HPBcK5FWgKvHKb8spzS+L1WMomToLVYLMAyTsJNN5UsNjkLiUuSBK/s9555GK19tlSkMsjzy0we27TZkD6DGDPBV55bnmMs6WS59Y0daQyTyKW/i0AA9IBjKokDlwy8wzcjk6E2s+BJM3uPvHkAs1zO/Uq4O4C+i4C/IcDiT8C5XHA0OnlWUFidl1tQMc6oG1tTSaH8A9eEM6tQFMwzdqSKesXmXU5jrVcMnvISi5ZVmo067CY5bI+hYcXFxot17KQSf6xzjvJmws86rsUxhkAGrPHMr/rUhy/ZGmeNRd42EbW46yijiGa/BV0Y/9hDAcahqkimn4cft/74fMeMev9B5VjDj/Mjo9CCh4NZF4GMq8D5TCgl2qhB6YJwNwfdmC+K0dxA65OIHA40L4W8C6HiYMz+7oQLB03XGBRoVwuY3h4mHmgeCKRwMTEBPNZmng8jnA4zFSuaZoIh8O2DUAsoOs63nnnHS55bkdGRuiGB5ZylxoXeORi5cWFPXv2cMltOjw8zJwLmUwGY2NjzHUbiUS45Lnl1WcjIyNccpvu3buXCxd42IVMJoN9+/Yx4YJhVpFM/RoVLQEem8fmCkmSUdUyiKf+G4Y5u750Xcfo6Cg3LsyeS1kCXCGg83Rg1eeAVZ8Fej8JdKwFWt8P+NcAgTVA4Aig4wRg2ekwll8JY/UXgP5PA76VgMT26OADBTFzK9AUnE4nOjs7mc8CBgIB+Hw+5nKDwSDdrMMKklTLy8v63HBZlrFs2TLmZ707nU6EQiHm9eXJBZKqiSWCwSBzjvHkQldXly3nMQuQzVms6+vz+ZgfmyxJtZh51jwAajmPWZ5OBtT6rLOzk3nYB08udHR0LGouVMrDSBVexsGasbVDQjr/OjqKO+D3HTvjnbIsIxQKHXwuSBIguQDfSpjeFVPiYsn/dV1HpVKBW2LLsYMB4dwKNAWHw4HW1lbmSxU8zk4ncnnE3AYCAS5xlm1tbQDYxmk5HA60tLRM2djBQi4PLvCILySxagD7GDjeXGAJXn3mdruZH70LwLbTnBVInwHsY9utO8JZyuXRZzy4QOKZ2cShm4hn/i80vTB15/9BgmGqSKR/A5/3fZjpmF7eXOAV47/UQhAaQYQlCDQFEv/FenAZhsElJx7Jacm6viRfKEvw0i2J0+Ihd6lwgeiAdZ8BggsAv3HGo8+IbnlxYamMs8U+frVqArnCGwBwQLIjzIaa4ychV9oFtTo56/1Lqc8AcBkPBwPCuRVoCqVSCcPDw8wHQjKZZB4PCdTiLK2J3FmAJCbncTb9nj17bAdpsEC5XMbo6Cjz2LpSqYSRkRHmjmgqleLCBR6xvIQL1kT6LMAzznJ0dJQmoGcFXjG30WiUS8zt5OQk85hbTdOwb98+LnGWIyMj3LjA0i6YpolsNrtgLpimgWJlD1QtjcURkrAfmp5HqfQ2THP69um6zo0Lw8PDc4i5nR94cOFgQYQlCDQFp9NJk9WzhM/no8fkskQgEOAScxsMBpnHxpI4LR4xtzziQp1OJ9rb25nHRPp8Pm5L3Kxj4AgXeMRvdnR00LPpWcHhcNCDC1iCxEjzGL88Ym55jd/29nbmsbGKoqCjo4N5fR0OB9rb25nbBWuO22ZhmjoKpe2onUK2uDY2mTCQL/0FLS0fgSI1tieEC6zHL+ECj/hrHlw4GBDOrUBTIA4ND+eWR7wPOdGHx0YXHnFPJGk969jY9vZ25nJ5cYFH/LUkSfD5fADYx9zy5gJLWLnAEh6Ph/mPU/LDgUeeW57xkKzlkk2LPGJuWcsl+V09Hs+CdKCbZeSLb0KSZTA/TnaBkCAjX3obmpaG4uppfI8kceNCe3s78zHBgwsHC8K5FWga1lNJWMvlIZMHeMjlVVcim4fhElzgzwXWeuCV85gHhFy77PfKODO1EjS9CAkyzEXm3UqSDN0oQtdnDg1YShzjydsDDRFzK9AUyuUy89g6oBZnGYlEmA+yVCqFaDTKtL6GYSAajTKPuSXnhlcqFaZyK5UKxsfHmcdZ8uJCOp1mHidtmiblAuuYW15cGBkZYZ7zmHCBdWxdNptFOBxmHnMbi8WQTCaZySRyI5EIl5j58fFx5rGxJH6TNRdUVWVuF0zTRC6XW3BucVWPQDPYxquyhGGq0I3ctNd1XcfExARzLhiGgX379jHfl6GqKsbGxkTMrcB7Fw6HA8FgkEv6J9bxSUBtiZt1/KYkSfD7/Vxym7a2tjKP31QUhUuf8eQC6/hCYD8XWIInF9ra2pjrQVEULrljPR4Pl5hbHrmvgVr8NY+Y25aWFuYcI3KXil1gE54iQYK0yOZsrZBmzOAgyzKCwSAXe8OTCzzG2oGGcG4FmgKv2ByR53Z/bB3APuaWR/wXLy6IPLd2LrCElQsswSPPLU/dBoNBAHzir3nI5ZHnVlGURZ7ndumCJxfa2tq4xNzy4NjBwNJ3zwUOCnjmTOWRZ8961jkPuaxl8tTtUpPLWiaPPrPKZi1zqfXZUhpnvLjAQ7e85C7u8bv0HWPBhYMD4dwKNAUSs8fa+chkMszjIYFazG0sFmMevxmNRpHNZpnJBPbHU7GOuZ0uti6fzyMSiSCZTNJctZVKBZFIBJOTk5icnEQ8Hp8ij8Svjo6O4s9//jMSiURTcXuJRMIWk5bNZlEsFpHJZKbEXxuGgXg8bos7JPcbhjFrbJumaRgZGaFyDcNAKpXC5OQkisWi7btM00Q6nbbl7zUMA+l0mr4A0uk0IpEIcrkcIpEIstksNE1DPB5HNBqdcx9WKpWGPCqXy9ixYwey2SzTXJk84iwBIJfLYXJyknnMbTweZ56PFgCXOGlecZYklpdHnOXExASXmNuFcqF2+tdinkWUMFP9dF1HOBzmwoWxsbElEX99sCCcW4GmIEkSlxykiqJwibN0OBzc5PLICchDt436bHh4GBdeeCHOO+88nHbaaXjwwQcBAE888QSOPfZYnHrqqTjllFNw1VVXTZFXKpVw6aWX4tOf/jQ+97nP4YwzzsAPfvCDeR/mcO655+KrX/0qdSxvvfVWbN26tSEXdF3HNddcg7vvvpvOup133nl48cUX8Ze//AVf/epXp/0eXdfx0EMP4YYbbqB99sQTT+D888/HJZdcggsvvJA6mKZpYt++fTjrrLMQDoepjO3bt+NLX/oSVFXFyy+/jA0bNuCSSy7BRRddhNHRUZimiTvvvBNnnXUWNmzYgC9+8YuzOqW6ruO2227DzTffPOXac889hxtvvBHDw8O4/vrrmTliZNmYNcdkWYbT6eQS1806vhCopbFjPX7JOGMdt8hLrizL3Gz5QuW6HcvgVIJYnDO4JhTJBUUJTnvHUuMCSeEmwhIE3rNwu93o7u5mPriCwSBCoRDzwdXS0sL8oAFJkhAKhej59KygKAp6e3uZJ+h2uVzo7u62OQm33347zjrrLGzbtg0PPfQQbrnlFuqMnXbaadixYwfeeust/PznP28o0+1245vf/Caeeuop3H///XjggQewe/fuedXL5/Ph0UcfnfJcMBhEZ2enjQtOpxPXX389Hn74Yezduxf3338/1qxZg3Xr1mFychIjIyMNvyOfz+OWW27B17/+dfh8PnR0dKBYLOL222/H5s2b8Zvf/AZHHHEE/uu//gsA8Pvf/x4bN27E5OT+4zU1TcP3vvc9XHDBBQCAH/7wh/j617+Oxx9/HMcccwyefPJJZLNZ3Hvvvfj973+Pbdu2YefOnXj22WdnbP9LL72E2267reE1kpf3qKOOQl9f37T9MF+4XC4sW7aMucMYCATQ2dnJfJy1t7fT2EWWcjs6OmjcLSvIsoxly5bR2G6Wcru7u5kfQOJ0OplzgWywrB+/84bigcsRWpTL5KZpwu3sglOZPiZelmV0dXVx4UJPTw+Xd0RXVxeXH5IHGsK5FWgKiztOq7FcEfc0tb5utxvRaBSlUgkrV67E1q1b523YSH3Jj5JSqYREIoFrrrkGn/jEJ3D55ZdjdHQUqVQK1113Hc444wyceeaZeOGFFwAAoVAI559/Pr73ve/Z5Gqahvvuuw8bNmzAhg0b8Nhjj8EwDPzN3/wNTjnlFNxyyy24++67ceONN6JUKuG+++7D888/jx/96EdT6lipVHD88cfja1/7GuXC+Pg4ZFnGkUceCVmW8aEPfQivvfYadF2HYRj4zne+gxUrVlAZr7zyCuLxOP7u7/4Obrcb3/72t/GRj3wEiUQC4XAYxxxzDPr6+rBt2za0tLTQU/zK5bJtZvbmm2/G7bffDl3XkUqlcPvtt+Oyyy6j3/Pqq69i/fr1OPfcc3HffffR/jrzzDPxy1/+kll4goi5PXDj7L0ol4Utl+FGS+A4zHTE7cGCCQMB//shKzNPbizFPluMPybmC+HcvgdgfTGYpglN02zlarVKjRC5bjVK5GVPoGkaSqUS9u3bB8MwoGkaXYo2TRO6rk9bJvLq4xh1XacxjOFw2BbzQ76D1Hm+ZQCIx+OIxWJ04M5FB/U6q7+u6zrNk2nVEWlzvc7mqhOS29Qap0XaNFt5Oh2YpolCoYCxsTH6ebVaxWWXXYa33noLF1xwAR555BEcccQR9FShZ555BieffDJOOukk3H333VN0pOs6NE3D008/jYceegi33norBgcHsWLFCmzduhV+vx/3338/jjrqKPzwhz/ESy+9hB07duC+++7D5Zdfjueffx6qqkKSJKxfvx5vvvkm9uzZg2XLlgGohQA88MADuOOOO3DHHXfg1ltvRSKRgKIouPTSS/GHP/wBJ598Mvr7+xEMBnHRRRfh+OOPx8UXXzxFB6FQCBs2bIDT6UShUEAkEkEikYBhGDRrQE9PD5LJJKrVKs444wysXLkSkiRRHT733HNYtWoVzejh9/uxbds2XHzxxcjn8+jv70c6naYzgU888QQSiQQ+9KEPYePGjfjDH/6An/3sZ3juueewceNGmKaJ//zP/8QJJ5yA973vfZAkCbqu484778T69etxzz33oL29Hfl8HuVyGWvWrIGu69i+ffsU3tT3+2y8qFQqlAuNuF4/Nma6bh0b2WwWExMTU7jeaOxMV240NiYnJ5FMJm3XrW2qtyezjQWio0gkglQq1VSbp7ufxMYWCoWGOgLQ0MZa21Bvb3RdR7VapblN52Jj52ovCBcqlYqtTVYdW3U2V50QW261udO9V6bTkWkCXu+RUGS2M5QsIMMBn+coSFJtMqCRDkje2EKh0JBXM+mgUZn0M8l5XCgUGr5Hphsb1uvEkbX2q9UukOetda4vz/ddeiAhnNv3AAzDoGTTNM22WUnTNOzdu5c6UpqmYXh42DY7ND4+TsuGYWBiYgLpdJo6QePj47bNHpFIBOl0GsD+TVfWuEWySYlct24ccjqdKJfLiEQi9P50Oo19+/bRQWp1rAGgWCzaNrcVi0UMDw/TRNSapiESidDYOhI0T65Xq1Xs3buXbtQgG7pIsH79Rg7ifGazWbhcLjgcDrqpiAzi+o0qExMTiMfj9Ho6nUY0GqXXE4kEEokELVcqFduhE/l8HhMTE/Q62axB5BUKBezdu9e2Icyqs3K5jHA4DIfDAUmSoKoqdu/ejeXLl+MHP/gBLr30Utx333245ppr6Maqww47DLfddhvuvPNObNiwAa+99hquuuoqXHnllfjqV7+Kd955B8ViETt37sR9992HJ598Ep///OfR1taGV155BTt37sRdd92FHTt2YPv27Whvb4eqqvja176Gvr4+nHPOOTTGNRQK4dxzz8Wdd95Jl13D4TBGR0fxs5/9DD//+c8xMjKC8fFxmKaJ7du3w+Vy4dlnn6UOssPhoPq65557cPnll2PTpk144403KC/C4TCNBSSGmvCgUqmgUqlQw06cQDJWdu3aBafTadvQEwqF8K1vfQurV6/G3XffjcnJSaTTaWzbtg033XQTNm7cCK/Xi76+Plx77bW44oorcNlll6G7uxsvvvginnnmGXzyk5+kY2FiYgJvv/02PvjBD6K7uxsnnXQSZFmmuY+r1SrefPNN2s54PI6JiQlaLhQKmJiYoLzIZrMYGRmhbcpmsxgeHoZhGHC73ahWqxgZGaH3VyoV7N27F6qq2spkLDSyH8PDw8jlaonsZVlGLBaj9sQwDITDYZujNz4+bjuQgczqk+vxeNx2nfwQIfHXZKMjqXMmk7GFj2QyGYyOjlLuW9tMeEDshcvlQrVaxfDwMG1zqVTCO++8Q5+vVqs2e0F0YLUf77zzjs0+5PN5et0wDIyNjTW0H8TJqLcXk5OTtvjvyclJRKNRmkc4mUzaNnmSMpGXTCYxNjZGr+fzedvmLsITckod2WhptRfWNquqOuX63r17bTwYGxujOjQMA5FIhOY8rn+vEK4T3pBy/XsmkUjA7RqA192HxRV3a8Lt6oIiL4em7efJvn37qA7I2DIMA4qiQNd1G0/IxsP694713Tk8PEx5QXhCrpNVt1gsRq+Hw2FaBqa+ZwgvCA/S6TTdKwDU+tU6qVIoFGz2o1AoYM+ePfR5srGc8EJVVezZs4fai0qlYuPNgcTSD6wQmBXk5QjUNmb09PTQF4XD4UB/fz+N3XE4HOjr67Mlne7q6qJlSZKwbNky22afZcuW2WLsQqEQLZO4Nusv8lAoZKtfIBCgs2GBQAAej8c2GILBIHw+H3VOPR4Penp66Hd4PB5bHYgzQZbXFUXB6tWr4Xa76YYXa4wZ0QFxqkg8E2mzoihYtmwZLcuyjN7eXrhcLjidThiGQTemkJm+jo4O20aVrq4um45aWlpsv2atOQtlWcaqVaug6zqNV/P5fLbNVX6/37YhyOv1or+/n36ny+VCT0+PrTwwMEA3C0iShMHBQXzjG9/AlVdeifPPPx8nnngiLr30Uvz+97+Hoijo6urCcccdB0VRYJomPB4PTj/9dBiGgba2NvT29sLv9+OKK67ABz7wAVxyySV4+umncdxxxwEAVq1ahaOOOgpr1qxBR0cHjj76aPzgBz/AM888gy9/+cs48cQTcf3119M2b9y4ERdddBFaW1vh9/vh8/kQDAaxcuVKAMDmzZsxNDSESCSCLVu24N///d9x++2345e//CUuuOACSJIEp9MJh8OBY489Fu3t7VT3hCednZ3wer3o6OhAZ2cnnE4n8vk83G43xsfHMTAwQOPjyCZEondd19HW1gaPx4NqtYo//elPOP744+F2u3H22WfjpptuwurVqzE8PIzPfvaz+I//+A98+MMfps+bpglFUegM2SOPPIJYLIbNmzdjeHgYyWQS5557rm1Dls/ng8/ng8vlojMt1lzDwBnBAAAgAElEQVTQ7e3t0HXdxn3rJh5ySAHhut/vh8vlgsfjgc/ng67r6O3tpfc7nU709fXROjudTvT399vGQr39sNqLQCCAww8/nNoTWZapnoH99sM6Fnp7eylPG+X1DYVC6OjooDJDoVoMJqkzsR8EpExkkjY3shehUAi6riMQCNA6ut1uDA4O0ucdDofNXhAdWO3H4OCgzYauXLmSyiOxsuS6JEno7e2l/dzIXljjlklsv3XjlyzLNvtBVh+ITsgYIiAcsvLE6XTSd8PQ0BBUVbXZC2vsJeEFed7lcqG/v5+2UVEUdHd329o8NDREbZSiKDZeSZJkk094YS13dXVBURQosgOtgQ+jUB619fvBAtF7S+A4uF1tVCdOp7Phu9Xj8UBRFBiGYeMJsbFWnVlttiRJU3TW0dEBWZYpB8vlMtWHJEno7Oy01TUYDE7hSSAQoHUOBoM2exIIBLBy5UraD/XvUq/Xi4GBAVubiT9A2jwwMEDb6HQ6beP7QEI4t+8BEGeG/G1NYk+WV633+nw+eh2wH6xAdlNanycHJJDrhNjken0i7/rnrQ6EYRhTMhs4nU768iQOgvVlVn+/oijw+XxT6kxmNWRZtrVJlmWqA2ubrDqp1xmRT9pl3eTRaCd6/SES1hcbAOq8WNtsbVN9Vgaye5w8Y91N3khHiqLY+kWWZQQCAbz44osYGBjAxRdfDEVRoGka2tra6AxKtVqlv9pDoRAuuOAC2o5isUgdX7fbjWuuuQZf+tKXcMEFF+Cwww6Dpmn4+7//ezz66KPYuXMnvF4v3njjDVx55ZX427/9W2zevBm6rqNSqaBYLOLwww/HWWedhbvuugtf/OIXEQqF0N7ejo9//ONwOp3YtGkTzj//fNxzzz0YGBjAJz/5SbS3t+O6667DaaedZtPn2rVrsXbtWtp+0zThcDhsPCAv6927d8Pv9+OPf/wjTj/9dNvLRVEUWl69ejXS6TQURUGhUMANN9yAb33rWzjuuOPw6quvor+/H5VKBZ/5zGfwhS98AevWraOOyL59+3DHHXfg4YcfxvXXX4+TTz4Z1157LS6++GKYpolf/epX2L17N44++mh0dnZieHgYxx57LF5//XVa/1wuB5fLRcMlrLwhZTIWiB6IY2vlHflBRnhgHe+KosDv99PnSdnKm/qxMRd7Qfqmkb2oH1v19oKUyfdbN9GQ1Z6Z7EX9dUVR6Nix6oDUuV4HjeyFtc5W+0HaZK0jaaNVJ0Rn1vut9oLwtF6HZJLAai/IznmrDskPb4KZ7AWZvbXWkdiP+jZbeWHVWf1163uCXPf5fDO+B+ptqFXHbcETkcg8hUo1hsWQGsyptKKj5WNQFIetX61jo35skXdto361Pm+9Xv98PffrMyYQ3tS/Zwjq7QUZK9Z+tcqb63tmOntRz5MDCRGWINAUqtWqbZmdFYrFItLpNHO5+XwemUyGqVzTrMWVsc47SZafWJ/vrWkajTMlIGm3TjjhBJx++uk4/vjjceKJJwIAnnzySbz//e/H0UcfjQ9+8IO2sAgrCBfWrl2L5cuX4yc/+Qk2bdqEl19+GevXr8ddd92Fj33sYzj66KPx4osvYsOGDbj++utx0UUXwe/3o1KpoFAoQJIkbNq0iepzYGAA69atwznnnIPTTjsNp556Knbv3o3f/va3uOGGG+BwOHDKKafgiCOOwPe//30sX74ce/bsmTEdGFBbekun0wgEArjiiivw+c9/HmeffTYymQzOOeecaZ9bu3YtduzYgUKhgEAggFtvvRXXXXcdPv7xj+PXv/41rrjiCvzud7/D888/j3vvvRcbNmzA+vXr8fjjj+Pb3/42zj//fHzsYx/Dxo0b8Z3vfAcDAwM47rjjcNxxx2HFihXo7u5GKBTC5z73OXzzm9/Eeeedh927d6NcLtNlXdM0cfTRR8+366egERdYoFQqIZfLg3WIXTabpaENLJFOp5nLNQwDyWSSeZ5qkuOZLHuzgq7rzLlgmiZKpRKNk14oXK5l6Go7HRIUmAc1PMEEIKGr/RPwuJfPejdvLhyId8RShWQejEjfRQTrrxjyd6PPpntmrnJYyprPM88//zw2b96MLVu2oLe3l8l3AzWHJpVK0eV2Vu3I5XKoVqtob29veF+zOszlctB1Ha2trdPWd746AWqHQ7hcrinpwBaiD8MwEIvF0N7ebvvlvRB+AvsPCiBLW+S7rHGnZDlX0zSUy2UYhkFn/n0+n0135AUmSRKy2Sy6urroZgKydF+pVOjsgCRJ9DMyk6woCkqlkm3pvFAswOlwolKpoFyuwOv10FkNXdehqqptNqBSqdAYUrLkb50Zs+qkWq0ik8lAlmW6/F0ul6HrOl0+JDMXhmGgXC7TOEdVVXHVVVfhX/7lX/DRj34UhmHQGF2Xy0Vj1eqzTbjdbui6TtuoaRpUVaUzY6a5f+MImYEjDq3L5UIkEkF3dze++93vwul04rrrrmuKV1aoqopMJmNbDl/wODN0qOU85NwEnKVxoLA/bh6uANCyAmgZBNwtMCVlXuMjnU5DluUp6cDmOs4aXTdNk45fv98/Zx3OJl/TNKRSKQSDQTojy8KGmaaJWCyG1tbWKTN0c9HhdN+jqirS6TRCoZBtdWgh7yHTNFEsFlEqldDe3j6FY828zzQti9Hwt5At7gAgzUmH85E/l2cAEwHPKgz1fQFOZ2hWOSQjSiAQYMYFYL9z29LSMmUGvFlfgdjHVCqFjo4Omx1b6Dh76KGHsHXrVjz44IO244it79L5cm02iLAEgaZA8mSyXm4IBAJcljBIjCtL2ZJUi4Fi/fuQxOgBYCqbxNFZ5UqS/Qx4oh+Hw4FAIDCjzojDKUn7l9esclwu17TLpVaj5vV6a46iVkK+kkS6HIGqlyCZJkxJgrPiQZunGw5DglPxTFnmsn6ndYmsEZxOJ41LI8+Q5VJrnUj7rE6yy+XCpk2b8Itf/ILG0lrDTep1SGCapi2GnYSYWO+zxuVa2yFJEpYvX46xsTHs2LEDmzdvnrZt84HT6aRcWDBME6hkIE1sg3viJSAzAegqAGP/dUkGJAXwdwJdR0NafhIQHATkucXiWWPSWYGM31oV2ckmsZSs5ZL8uaztI+ECa9vo9/tty/ALhaIE0B36FKraPSipYRz48AQTbmcI3Z0boTja5/QEiTkH+HCB9ZjgwYWDBeHcCjQFMpMAgOlA4CGTyGXt3PKSy9pg8Za9EC6YpomKVkQktwejmTeRKcWg6WWYMGs+kQQAEhyyCy3eEIbajkV3cDU8Dn/TOl+IDtauXYve3t6GhxTw5EIwGMRXvvIV9PT0MJe9oPoaOhDfDux+DEi8jZpDK73bcURH73akqQP5ydq/yJ+BlacBy08GnL5pxVvr+l4fZ1a5POwYa7nsdSDB5z0SvaGNGIv+CKqegSQdmMhK0zTgUPzo6TgfAd8xmI9jzZsLrGXy4tiBhoi5FWgKvGJuC4UCUqkUc7k8Y25ZnxtuGAaXmNtqtcolnqpZLpimgVQpjFfH/wevTTyOeH4UmlEBJAmSJL8bDlH7v25WkSxM4PXx3+LVsceQLI7DaCKxu2mayOfzTcd1K4qCNWvWTAk94MmFWCwGj8eDwcFBZnJJny2IC7oKaexp4PV7gfhO1JxY2XJZQzhWF88qybV/hTiw42fAW1uBSrY2uzsNTLOWLrDR4RWaptGUWbFYzJaScC6oj7k1DAPj4+PYuXMndu7caUtvNVcYhoG33nrLlpIpHo/PWLdKpTLr4RxkKZqE4cRiMezatcuWZrEZ8LALpmnSw1zY2nIJTuex6Gw7Gw7FC9M0OMfgmjBNA4rswbL29WhtORGSNPed/4ZhIJFIcIu5ZS2XxNwejNRdrCGcW4GmYBgGTUzNEqqq0hx5LFGL3ywzd25LpRJzJxSoOfnW5NosoOs6CoUCc+eWyJ2Pbk3TRCS3By+PPYbJ3DvvzsrNbI4kSYYJE5HcMF4e+29MZHY21Z+ECyxhmibK5TLzzT7EGWf9stF1neYzbq5iBhB+AXjjp0AlDTSYyf7reBYXfevpxs9LUk3G3ieBXT8HtJn7o1KpNNTtU089he9///sAgLvuugu/+MUv5tWMUqlkk6uqKj772c/i2muvxRe/+EV86lOfwje/+c15jXHDMHD11Vfjf//v/031e8cdd2Dr1q3TPvPII4/g4YcfnlGuaZp0/L700ku46KKLcP311+Pcc8/FCy+80HRfElvO40cva5sLAMViGV7XiRhYdjlcjiBqDii/WUyH4kd/18UItZ8NWXbN/mCdjFKpxNyWEy7wsAs83usHAyIsQaApeDwerFixgvnSRUdHB5flkM7OTubLmrIso6+vj7khUBQFq1atAsB26cnj8WBoaIi5XK/XO28upEoT+Mvk71FQs5AlZV71kSQZBTWLN8NPwuMIIOQfmMezErcYuN7eXuZccDgclAssYeXCvGGaQHp3zbE1VNts7bwgSQAcwJ6nAHcIWH0WoDgb3Cahu7u7oW4nJiboDOlNN930bvXm1geSVMsjWv+Mw+HAzTffjHXr1mH37t245JJLsH79ehx77LFzkutwONDS0oInnngCb7311pyyWwwPD0/ZBFkPRVHoONuyZQv++Z//GZdccgkef/xx/Nu//RsefvhhW6qoucLtdmNoaIh5zG1raytaW1uZjglJkmieY2AdXM5lGJ38LsoqOcSDVRtqdXY7QhjsvRZ+7/uakqIoCl1xYR3XvWLFCub2htiFpR6SAAjnVkBA4ABD1Ur488TvUKg0HzMnQUKxmsfr4d9i3YoL4XH4Z39IYCr0KpAdBSJ/hhR7EzBrM0zS/8/ee8dJUWXv/+/qPLEn52EYBiTnIAgCgi5JAUEyogi4CIIgIsiiixJEBREcVFhEssKygosiKphFJMcZwgQmMjmHjlXfP5oqumFAQs+Pj/vj8TUvqa7q2zece+6pc899jt4PItpBUFMw+LsasLZqOPs5WCrloOg/xasbDiNKcDGvkoTMUmb0b8LonvU5npTPjHVHsIrf0fqhx5m/cDHnzp3jn//8JxaLhQ4dOjB37ly++OILdu7cqWSBmjBhAr169eLf//43ycnJdOjQgZMnTxIdHc348eNZsWIFu3fvxmw2M3ToUKZMmcIbb7xBeXk5GRkZJCYm8sILL/DMM8/csN6+vr5oNBrMZjPFxcVMmzaN9PR0QkJCmD9/PsHBwcycOZMLFy4giiL//Oc/6dmzJ0ajkaeffpqlS5eydu3aK11ns7Fu3Tq2bNkCwPjx42nVqhVffvklFouFFi1a0LNnT+X5vXv38t5777Fjxw60Wi3Dhg1j0qRJfPjhh4oB4m4D8q8CQRDwMDQgLmoeBSVfUlj6AzbRERYk3KaRKyGBJKFWe+Lv04kQ/4FotSHXHDa9h//7uGfc3sNtwWKxUFRUdE22oTuFTAXmbg9uaWmpkmHKXfWVJEeaS51Oh4+Pj1vKBMfWkEwF5nzK/k5RE/2Tu8q9WVkQRTuZpYkUV+Uq8bS3A/l7ZdUFpJecpkFg+5uKhZMkBy2cnKzCXTImiqJCK+VOWZDjr/39/W/LK3f9gm2QdxIStkLqH1BpcoQJOPeH6t8QGARNHoMGA8Az2OG1zTkC+Yk3bdgCimG78tn7OXShgPd2JTK0cwxztxzn9eEtaV3Xj3lfHOXgH7+z9pP1zJw5k7Zt2zJp0iR+/fVXqqurSUtLY8eOHZjNZvr3789jjz3G448/zqlTpxg8eDDHjx9Hkhz0h/v27eOTTz5BkiSeeOIJ+vfvr6S9XbFiBUlJScyaNUvJCOdM5We32/nuu+9IS0vj+++/JyIiggYNGrB582aio6N5//33+fe//80HH3zA448/zoULF9ixYwfHjh3j/PnzPPjgg9hsNrp168aPP/7IuXPnFPaT1NRUtm3bxubNmxEEgYEDB7J9+3b69OmDh4cH3bt3d+m35s2bK2lbo6OjSUhIoGHDhgqxvpzhbsKECbctHzL9U2Bg4DWx5LcLSXJQgVVVVREYGOhWXS6nn5Xnr1YbQGjQSHy976e4dB+lFcewiuWAeNkBe6PfdtB7SZf5azUqb/y8WuFvfBgPj/qohGt3Em4Fcszt1Vn07hSyXjAajW4t12KxuF0W7hb+2rW/h7sGURSxWCxuf5u12Wy1EsNqt9trpVyr1VorqQVlvlZ3QpKkWhmzW5EFq91Eeskpt+weOhZMiYzi09QxNsVDd3NGZW3ImMwR6W5ZkCQJs9ns3tg6axVC4mdwaBOUV1wZC0G48m8JBxNCfi78/DGk/ozQaToENYHc4457as0ND4Jdjc6Ng/EzGgj1N2C22zFbRc5nl9GlSSioYN7I1uSHeXHx4kV27tzJ3r17SUlJIS0tDUEQaNmypQtXd15enkKr5rwQX7x4kaioKKKjozGbzcTGxpKQkABAx44dCQ0NVfiOc3NzmTdvHgCRkZHMmjULgKKiIiVr3Lp16zAajZw6dYpLly7x1ltvkZaWRlFREfXr18fX15cpU6YwZswYnnzySSVrn5eXF8899xwrVqygRYsWygtQUlIS8fHxAKSnp2MymZQ2WK1Wpk+fTm5uLn5+frz66qs0adKE/fv3ExwcTOvWrRVDPDc3l5dffpnWrVvTr1+/2/Yu1pYury2da7PZrjGWVYIGT8N9eOjrEuSfS0XlCSqrE6gyp2G1lSJJdiThSvskQJBAENToNL546Ovg5dkYb89W6HURCILOLQa5JEkK97c7Ievy2ir3f8FLfc+4vYfbgl6vJzIy0q1eW7jyNu7umB9/f38kSXJrfQXBkQ/d3VCpVERHR7u9D/R6PREREbVS7s3JgkSpKZ9yUzEqQbgVu+i6EAQVFZYSSk15N2XcCoKAv//NcVTeWj3+IrJgM8HJtXDwU7BYXY8UXz0egtONtPNgegMefNlh2ArCLRm2ADpNDfRp8tosqKguK8GUn4pOp6NDhw4EBQXRsmVLWrVqxaFDh1z6wOGxuzmvmvNC7bwTIggCdevW5dlnn8VmsyneNbVazbBhw2jfvj3PP/8827dvp0mTJgiCQKNGjejatStmsxkPDw+CgoKIj4/n0KFDrFy5kh9//JF58+ah0+nQ6/X07duXNWvWEBAQoMT3+vn5KVkAmzRp4iI3Go2GIUOGUFVVhU6nw9/fn759+xIfH09ISAhPPfUU3t7elJWVsXDhQkJDQ5k7d+5N90VNkOevu2NufXx83LqLIeNKzO21UKn0GPR1MOjrECD+Das1H4stH7MlC6utAFmoJUlEpwlEp49Cpw5CqwtGrTI43XcXN69aGXd3Qq1WExUV5XZdrtPp3C4Ldwv32BLu4bbxvzAB7hS11Qf/i+VKkkSluRCbZMGdBOx2yUa5ueC2qMHcif/zYyaJcH4n/LHFYdjeSrEqIDcb9i+FyPvBI+CWjdurodOoiA33Zn9iHlWVFqavPsDJk6cJDQ0hKCiIBx54gN9++42ioiIA9u/fT1ZWFmlpaUiSpIQuVVdXu1AixcTEkJmZSVZWFnl5eaSkpNCkSc0HggwGAz169OBvf/sbnTt3djF+dTodEyZM4JtvviEpKYkmTZogiiKdOnWioqKCY8eOcejQITZt2kSvXr145ZVXOHv2LGazWaH2MhgMDBo0iE8//RRwvGQbjUaaNm1K69at2blzJ2azGUEQFPaKBx98kF69etG9e3e8vLxo1qwZeXl5HD9+nAceeACAtWvXkpuby0svvYTNZqO6uvp/wtvmTqhUevT6KLw9WxHk/yjhwU8THvzU5b+nCQroj69XG/T6aFSCAUmqXe5jd+Pe+ntj3PPc3sNtwW63U1FRga+vr1snmbwF65wO0x2QU6y6s1yZjkWtVrs17kmOC/Xy8nLrNrdM8+Lt7e1WD/bNyoIoiVRYipEQced7tYBAhbkQUbKhEm4coyxv89tstmsynd0JalsWPD0978g7hyRBWQb8vvqyYXsb7RYEuJQJF3ZBTDc4u/NPv6ISrnzV+ZCPWgC9h5aFI1oz/ZNDIAh0bBDIox3qULfTQOb841UsFgvNmjWjSZMmnDt3Dg8PDyZOnEh2djaTJk0iKCiIpk2bsmTJElauXKns+Nx///106NCBoUOHAjBy5EjlBLjzeKtUKioqKtBoNEoKU0ddrzzTpk0bmjdvzqZNm3jxxReZPHky/fv3R6fTsXTpUqKioti0aRMDBgxAEAQmTpyIp6cnFotF4a0dPnw4S5YsQRAEYmNjGTFiBCNGjMBisfDMM8/g5+fH/fffz5QpU6hbty6jRo1y6cOgoCDatGmj0KFZLBbWrVuHzWZj2LBhALRo0YK33377tuJunfWCu/SNvL1tsVjcrsurqqquyR7oDtTG/BVFkaqqKgwGg1tjWEVRdI9euAq1IQt3C4L0V3pVqQU400M5p+C82dzMN1uOO8u6le8cOHCABQsWsGbNGpd4tTv5bXAYobm5uURFRSkxZu5oR1FRERaLhdDQ0Bqfu90+LC4uxmq1EhwcjEqlui4t2K20Q5Ik8vLy0Ov112x130l/2O12MjIyCAsLU/KR30ofXq9t1dXVFBQUEBYWhkajcZusy7IQGRmpHHSp6TuiZCch5ycuFB5EJWhu+7fB1QARJZHYgBY0D++JRqW7YVk1ycLt9q27ZaGmf4uiSEZGBqGhoS4peW+mTi6fSXY4+B78vtXJ4sQVktNn0nXuAxj08OjbcOYzMJVcMZQl6Uq4gnMda/r86mfAEe4Q0xVaPIN0+bCh3I41a9Zw5MgRPvzww9vu26vvS5JEbm4uBoMBo9F40/Psz8q32WxKzKz8AuWOeSaKIpmZmYSEhNyZLFz1HZPJRF5eHuHh4S6G0p2sQ/JLWUVFBaGhoYqhdKfzTBAE8vPzEYQrlH436sObLR8cMczy/HVX39aGLACKXggODlaMfHf0rdlsJi8vj7CwsOvKwo3Kqem+JEl8+umnfPbZZ2zatAlfX99r7gO33Ld/hnthCXcZkiRSUlzAqZPHOJOYSHllldM9CVN1JYmJpzl5+gwlpeWKINxt6PV6oqOjayXm1tmwdRf8/f3dnjNbpVIRGhqK0Wh0W5lyuTExMe49HY9jzKKiotx+ClaWhb/Cm74gOGJuQ0JC/lKy4OxZvC1UF0Hyjw6D9U6bXW2GrAMQUJ9rA3VrBx4eHrVyers2xkyOs3S3Z1HmTL1jWbgKOp3O7XpBEBwxt9dLVX0j2O12Pv74Y3r06EHnzp2ZOXOmEnbSuXNnunbtSo8ePWjTpg1Hjhzh22+/5cEHHyQ9PR2AsrIy2rdvf8OEKvPnz1eelxEaGoqfnx/g4E8ePHiwkv3NZrPRu3dvevToQe/evXn++eddvnvhwgUGDBhAbm6uy+e1JQsqlYo6derUiizIToq/Ou4Zt3cRkihy4vefGTV0EMNHjmbIoMcZ9/yLnE93TKiC7DRemfIcgwYPZeSwIYx4+lmOJSbf5Vo7IAiC8lcb5bobf6X61nZd71a5gqDCU++P4Ha1I+GlC0Al3JxCrm0Zq40y77jcsnQoK75hOMLqX7P59FDude87KgQgQc5JMNaFW0hFCvDBl4nkF1aSk1/JkDe/v6psAXReNdbx0UcfZc6cObf0W6Io8vnnn/PGG2/UeL+25oNz2X+Fcv+v6caEhAS2b9/Ou+++y4YNGzh79iy7du1S7r/33nvs2rWLnTt30rRpU6xWK8nJyWzbtg1wOIVkurDr4YsvvnBhcnDug8OHDzNp0iSFWg6ueHVXrVrF5s2bWbBggfJdk8nE4sWLOX36dI3Op3uycHdwz7i9i6goLSD+vaVYPcP518frWBW/jPTjP7Nm83YqKirZsvYj9p1M4d34j1iz+gN0VTksff9DSiuq73bVsdlslJSUuJ2KpLq6mvJy93uoq6qq3J5WUN56c3cqV5kyyN00OvKYuTtlo9VqvSlZUAkqfPVBaG4xheWfQS1oMBpCUN1EQghJcqTDrKio+P+XLFRcAvONUwPnV1opqrqJNKGCAKU5oDHccuzu2n1JVFvtBBr1zB3inPFLApUO/OrVmPFMo9Hcsoc1JSWFefPmXeNNU37x8phVV9+5PhUlEbPdTKW1ktyqPC5V5nKpIpdiUwkmmwmbaLtjeRNFkdLS0lrRCzIPuLsghyuVlZXdcrsrKysBCAsLIy4ujtmzZxMXFwc4PKG+vr4EBQW5eC579erFb7/9do03trCwkEWLFvH000+zYsUKqqur+eyzz0hPT2fFihVKdjtZFqqqqjh58iSjRo2ibt26Sjmpqano9XpKS0vJy8tz8cR++eWXVFZWUqdOnRr7obS01OXAozsgG/B/BVm4W/jr+57/wjBVVpGdk8vDY2bSqUM7JEnikY5bOHkumZxL2Xzz3U8MHz+ZPj26IkkSL03NY+q890jJzqVNw9i7WneLxUJ+fr4SP+MuVFRUYDKZXEjV3QE5OYS7DxGVlJTg4eFRKwTdOp3OrdtDFouFwsJCPD093RpOYrVaKSgowMfH50/L9TEE4WsIoqgqG3cwJkiSiK9HCL6Gm6fhKi8vx2w2u3WrsLZkQY7l1Wq1d3hwpIYY1+ugqtrG8l+yeSjOyLYTBYT5aJn6YAQGnZp9Z4v54lQh/sHFPN+wkGBR4o/EXLbtv4ivQcuEXvcREehF/K4Ewv09+O1cHiG+Bqb0bcS3J7LJKKgkfvc5xj1cn09/vUjL+kGIFjtb96fyy7lS4jpG8NREB3fsggULaNOmDd9++y1hYWGMGTPGxeAoKirigw8+YNy4cYSHh3Po0CGOHDnC+PHjsdls/Otf/6J+/fo3bGtJSQmenp63tb0rSRIWu4UiUzHnipM4lHOcckslWZU52CQ7SBL+el+CPAKJ9AqjXXhron0i8NF6o75Fj7f8e3l5eURERLj1EJE8fz09Pd0aWlRZWUlpaSleXreWPbBly5bUq1ePcePGMWrUKHr37k1AQESp7kYAACAASURBVACSJFFWVsbcuXMV1omPP/4YgNjYWBo0aMDWrVuZOHGiEvf+8ccfYzabmTFjBvHx8Wzfvp2BAweyaNEinnrqKZf4+JKSEgwGA2PHjiU3N5c1a9Yo95KTkzl79iwfffQRWVlZ9OnTh6lTp5KVlcWOHTuYOHEiixcvvqYtchKHoKAgtybksdvtSpy0O8utLVm4G7jnub2L8Pbzp1Wrlny1Yws//nqAfXt28u3B03Tp0gGpupC8skraNmmoPF8nrhEGycy5jPway5Pflk0mEyaTSTldKx94kZ8RRfGmr+XPnO9LkoSHhwf169dHpVLdcnmiKLp4+ZyfCQ4OJioq6prfv5XfqOk6ODiYiIgI5TDZnfSJ/F1BEIiKiiIwMPCGfSa32fl35TJrel6tVtOgQQMXI+nq8mr6/p/V2cPDg3r16qHVaq/bptvpE09PT0UWarovfyaKIlqVnrr+rXCPYevIKxTj1xK92nDT4ybLmFynW+mD642rSqUiKipKWYRvtQ+d2+Q8riqVigYNGigGws2Om0sfyeXfpAfNZBP57+livkwoYky7EL47V8L3SaUczajgzb2ZjGgTjK/ayuL4dSRnl/LG1pM82jaKRtFGnl35O4gSe45m8dWRTEZ0ieViXiXxu8/ySMsIQo0eDO9SF61aYO+JSyBJrNl7nt2Hs3h61GDySitZtGgRdrud+Ph4zp8/z/Dhw9m7d69CASbrDzmxwv79+7HZbHz22Wd4eHigUqn47rvvMJvNPP7449ftd8BlzG5l3G12G8klqaw5tYmZv8xn0cGVfJv+KwdyjpNVkUduVSG51UUkFKXwU9ZBtpz7L7N/XcTr+5eyL/0nysxl1+iDmuTK+fcFQVBkoSadLLeppvJupC9kvSAfBr2RXN3sfXCcn4iJiVH0Qk3rQE3f9/Dw4N1332XixIls3bqVRx99lIsXLyJJEnq9ngEDBjBmzBhlbGUMHz6c77//noKCAmVMv//+e/z9/UlPTycgIIDff/8db29vtFotvr6+pKamsnz5clasWMHp06ddjF3nPmvfvj2fffYZq1evZsWKFXz88ceUlJSwePFiBg8eTFxcXI19pFKpqFu3Lj4+Pm7VuRqNRpEF53G9WudeTx84/znfNxgMyhpxq3W60fXdwD3j9i7C4OnDsBGjKL5wgoGP9WXw0NHoguMY1PcRLOVl2KxqDPorHky9hydeWhUlhcU1lldaWsrcuXMZNmyY8jd37lyXrSGbzUZaWpqyTSKndqyqqlLup6SkUF5eDjiEMzMzU6G1ka8LCgqUE40ZGRkUFhYq9cjNzVW4KSXJ4W3Izs5W7ufk5ChbhZIkKZmC5DqWlpaSk5OjPF9SUkJ6erqyVVJVVUV6erryfGVlJZmZmcokqqysJDU1VdmysdvtpKWlKd+3WCxkZGQo961WKykpKcp2mJymU95ilk+mOt9PTU2ltLRU6YOcnBylnyXJcQrbOe4rKyuL/Px8pc5FRUXk5eUp9wsKCigoKFDuFxQUkJWVpVxXVFSQlZWlPF9WVsalS5eU36uoqCAlJUVpY3V1tUufmUwmMjIylOw+FouFCxcuKH1gs9nIyMhQ5EK+lu+LokhycrIiB6Iokp2dfY2cOF+npaVRXHxFVgsKCiguKibcWJ8gr+jLKS/vBBIBHmFE+TVCEFRUVVW59FlVVZWLXFRVVZGcnIzVakUQHPyoKSkpLnKQlpbmcp2cnKxsW1ssFlJSUpRrSZKUDFPgkLP09HSlzbIcyXIgSRLZ2dmUlpYq15cuXXKZC1lZWRQUFCgtLCoqUrZO5euMjAwXObla9jMzM5X7ZWVlXLyYhugRDLewC+ClVTG+Yxit6vjQOdaXrBIzv18s46EGRjrVMzL5ifsZP+JRTqcXo1YLeOo1hBo9OJ1egl0UsYgi4x5uQPtGIYx7uD4/nM7B20uHTqsiyFePVn1l6dl9JItJgx+gQ7+xPP3MeH766ScKCgpQq9U899xzNGjQgJCQEAoLC/njjz9YvXo1q1atIiUlhUcffZTdu3eTmprK77//zmOPPcaFCxdYtWoVU6dORafTUVVVxcWLF13kICMjA1EUEQQHv6yzvqiuriYpKUmZO1ar1WUulFnKWXdmCzN/WcDO5O8oNJWiVqnRqDSoVQ5vl3D5P5WgUj4XJYmE4iSWHPkXs39ZwMGcowo3c15enou+uHTpkstcysnJUXSiIAgUFBRcoz+c9UthYSEZGRnK/fLycrKzs130ifN1ZWUlKSkp2GyOsBSz2ezSZovFQlpamtKH8txxXkcyMjKUQ1yy7Dvrl4sXL7q0KSsri7KyMuVaXmcOHTrEiRMnaNmyJatXr2bMmDHMnDmTrKwsBEGge/fuPProo3To0MFl3fH09KRFixZ8/vnnABQXF1NRUUFCQgIHDx7EYrHQtm1b5fmSkhJSUlIoLCykqKhI6TN53O12u9JHQUFBhIaGkpKSgq+vL4GBgfz888989dVXHDx4kGXLlpGUlMTatWuVPrBaraSmplJdXY0gOFhwkpKSXPRFVlaWsvaKouiiPyRJ4uLFiy76wnltleUkLy9PWQecr+U+cJaTwsJCF31RUlKivDTKcuKsQ8vLy7l48aLSJxUVFSQnJyvfN5vNZGZmuqytzjrTbDaTlpamyNX/l7gXlnAXkZWSyMszZ9Gu9xDWjxuNrbqUxfNeZc4/FzJjVG8EAVcDQAJJ4AqVz1Xw9PRk+PDhlJSUKEbX+fPn2bFjh7IVr1arCQ4OVt7M5FPe8sl8tVpNaGioyzZdQECAcl8QBAICAgDHxDEajQQFBblsYRiNRuVaEASMRqPL25t8ItW53jqdTjE4RFF0ecbT0xO9Xq9seev1eoKCgpQ2GQwGAgMDXe6HhIQoW/oqlQofHx+qq6vRaDRoNBoCAwOVOmo0Gpc+EATBpY9k2hl5+0e+r9frKSsrQ6PR4Ofn5xJCYDQaXa4DAgJQqVRKnb29vV28Ds6ZfCRJwm63u8QYGgwGpd/BcXrceWvSYDAQGhqq9IFOp3OhutLpdPj5+VFeXq7ULTw8XOkDtVpNYGCgUqZ87TyOznIhsw5otVqsVivl5eUEBARc00fOdZRDWLQqHc3De3AoYxcVpkKE2wiRECURb70/zSMeRqd2eLj1er1C7C9fO+e11+v1SupVs9ms9JlzHwQHB18jF3KbNBoNISEhLtuAslxIkqTwQ8pe1prkSO4z52tnBAQEuMwlLy8vJeZWp9MpWbTkNvn4+CjeSuc2y/Dw8LjMEuIBfv5QkH9T4QlqFXjqXMfFZBUxaFSAgCH2fhrr9VwQRVJyK9j620Uk4NH2Uagu6ydPvUP+NWoVxZWW6xIrVFts6OJ6IHlHoFanKgulr68vKpUKPz8/9Hq9YiCdPn0agNatW9OpUyfWr19PYmIiYWFhGI1GhVP266+/5ujRo1y4cIGCggJiY2OVPpL1R1lZmTJO8nzV6/WEhYW5yIE8F9LLMnn/+MecLDiHgKAYszcLlaBCkkSSyzJ582A8oxsNpF+9v+Hr6+sy7v7+/kp9BEHAz88PSXLQ2Hl7eyueQBlXZwLz9vZ20eFXs00YDAZFH9lsNkwmk4vsa7VaAgMDle9oNJpr9ElISIjLOhIUFORSZ6PRSFVVFVqtFrVafc3cCQgIcJkLgYGB6HQ6EhMT2bNnDytWrMDLy0vJ4CavKxUVFVRVVbnwast6bdy4cTz99NOoVCq8vLyoW7cuvXv3ZtCgQWzdutWFQcHT05NGjRrxyCOPIAiCEmsqt1GlUik6d/HixdSpU4dx48aRmZnJpUuXaNq0KcuWLUOtVlNQUMAPP/xA48aNlT6Q9YnJZFLWHWeKLbl853UnKCjIpU+c+0yWA9kTLsuCc5/K+kTuF9nLf7VcON+/OnGJWq1GFEVUKhUeHh6EhIQofWIwGAgLC1OuZTmRr+U2ymVqtVpCQkLuSojDPc/tXUTCkQPkW/VMn/o8rVu1oH2nB3lp+vMkHN5PeokFvUGisrpceb66spxyk52g4IAay9PpdLRt25YePXoof61atUKr1SrCrFKpXAiaVSoVvr6+1xiC8tb1L7/8wsiRI+nXrx8vv/wy+fn56HQ65syZQ7du3ejcuTMPP/ww33zzDeCYVLIxevz4cTp37sywYcMYOHAgU6dOJT8/H09PTyXeURAEdDqdEgtbWVlJdXW1ophPnDhBnz59yM7ORqVSUVJSQs+ePfH29lbapNFoFKLwnJwc+vTpQ05ODiqViqysLEaOHElOTg7/+te/OH78OGq12iVBgkql4qeffqJnz54MGDCAIUOGcOLECQRB4MMPP2To0KGMGTOGb7/9Vnm+vLyc+fPnk5WVxZkzZ5g8eTKDBg3ixRdfVPhOd+/ezYABA+jVqxfr169XFhNBENDr9S5hBwaDAZ1Ox5YtW3j99dcVcnm5jTt37mT58uVkZmbyj3/8wyUJgSA4UpE6x7zKfSJfq9VqtFotpaWliKKoHMxw7oOr+6QmOXFWzF5eXmi1Wmw2G8XFxUob5HH19vZ24ek1GAyXx1XAaAihZfgj+HoGI0kit0YpJeFrCKJ5WA8CPCJqlIOa+kCj0eDj40NVVRWlpaWo1Wp8fHxcjNur+8B5bsjPOy/gch/J3nN5bJ370LlPnBcTea7IciBfOxslWq2WiooKxQOm1+td2mgwGFyutVqty7XDIPZC8AiA2M6Obr5Nh3mQl5b0YjMYtKSKMTwz/1MEgxfN6vjx7tj2vDm6NQHeOiVZw6k0hwcqt7ia2GDvGnhzJZAgLDyCpHIPEDQUFBRgNBoJDg5WHjMYDKjVamw2G8OHDyc+Pp74+Hg6duxInTp1qFu3LitXruSxxx5DpVLRu3dvHn/8ccWg0+v1LoaQs5zIsfjOc0eeG84609PTk7TyDN45vJIT+Wcdftnbjd2/PGdNdgufJGxn67kdSBrJhfrPmZxfEAQ8PDwwGAwUFhZisVic5pLjvnwt6wNZLmRotVqX8wbOcmKz2ZSEAM59cLX+uFrnOs+dq/WHIAioVCplN0ueC85tunouyPqkX79+6PV6Ro0axVNPPUV8fDzTpk3D29ub8vJypkyZwmOPPcbAgQPZunUr4PBgylvq3bp1U3TwpEmTWL9+PRMnTmTjxo20atUKQRCIjIxk+fLllJeXK22Sd+auHndBEBg7dix79uzhhRdeYNasWUybNo24uDgGDBjAY489xsMPP0xoaCidO3d20Seenp5KjH9Na62np6fL9dX64uprDw8P9Hq9ctBUNkDlcZf1ifML/dXrjDyu8trrPK7g2OWTnVFardYl6Y+8zjg7y66WE2cdKd+/G+wL9zy3dxEarRbRaqFKOa0rYTKZkUQR36AQooy+HDx2kj5dO6BC4uyZY9i0XjSMCr5hue5CZWUl06dPZ8mSJURFRbFw4ULWr1/PtGnTKCgoYMaMGdx///2KV+9qyN6xjz76iIqKChYtWsSKFSt4/fXXr/smJ78py5PFYrFw5swZtmzZwty5cxUi8+shLCyMdu3asWrVKhYsWMC6deto2rQpTZo04bXXXnPZlnLGsWPHeOKJJxg8eLDiUTt+/Di7du3inXfeIT8/n/nz59OlSxeMRiMffPABLVq0IDY2ljlz5tC8eXOGDh3K3Llz2b59O4899hjvv/8+//jHP4iKimLs2LG0adOGjh07Xrfu586dY8GCBTzyyCPExsa69FFFRQVFRUVERUVRUVHBjz/+SN++fa9bVk0wGAy1wkdrMBiIiYm5pXIFQSDIO5rWmt6cz/ud/IoMR1rey8kDnLNZSUiXDTIJjUpHkFc0DYI7EugZcVtKU85N706FKwgCYWFhbitPhkqlukYWbq8gLTQeDInfQUXlbWUoe7ihH/89U8jsb0tJ3beZHo88QZdujfj88GxmrDtEWZWVQF+DYsRu/eUiSZfKOHyhkOf6Os4OBPjoWPXNBQZ1jAaVBu7rzdiXRvDWkuWcOHmas2fP8swzz7j8riAIqNXqGnmftVotDz/8MFOnTmXt2rUIgsCDDz5I165dARTjoVGjRjW2KSws7E/lQJIkLlXm8sGJdZwrvohKUN2x7AgOIccuiWxP2oOHxpNBDfqhVV//oJjbZOEq6PV66tSp4/ZyfX19b+qQ6dUIDAxk+fLlpKSkYLFYiIiIUM5hbNy4UUk1LBup3t7eNGzokC+NRsPMmTMZNmwYGo2Gjh07snz5cvLz8wkNDSUmJgaAjz76iNzcXJcD0bIsyLuTy5cvVxJFNG/enNWrV5OTk4PRaFR2AWSEhISwbNkyl901cIxZdHS02407mf/a3TzztSULdwP3jNu7iEat7yfK90MWLXqTKROexmYq5d2l79O4bSdaNb6PXn168vaqeBpEBBPmBe+uWEW7Ln+jbsS1hmRtwG63U1JSQtOmTQkODmbmzJlcuHBBuR8TE0Pjxo0BXLY+nKHT6YiIiECSJHr06MGuXbuwWCxkZWWxdu1aysvLeeKJJ+jatSsXL15k1apVFBQU0KlTJ8aMGQNAly5dOHLkCElJSS5ZaUwmExs2bODo0aM0a9aMZ555Bk9PTyZPnsyIESPYtGkTv/zyCxs3buTQoUOcOnWK5cuXU7duXUXJyThz5gwjRoxQMuoYDAZ+/vln7r//fpo0aUJFRQVGo5GkpCRCQ0M5duwY06dPR6PR8OyzzxIVFYVOpyMgIABvb2+MRiMLFiygU6dOADRp0oSUlBR+/vln2rZtS7du3Vi9ejXR0dH069cPk8nEv/71L5o0aYIgCGg0Gi5cuMBHH32k1FFWkEOGDGH16tV07dr1lk4iy+XeaLxuB7LxcasKXEAgwCOCNlF9yS9PI73kFMXVuVjtJpdwHBUqtBoDRo9g6vg1J8S7LnrN7TEdOHM41kYfuLNMudybZcyQJAmbKGKy2ym3mrGJV+ripdXi5VsPQ5th8PsGsNquMXBHtA5Gq1Hh76FhQd8YAr0chtaT7UIwaFRE+hv4YEJHjkWOZUB4HG3btkWrUbF0+Ycc/24LmuKzdKrvpxi3Ux9thEatYuD9dWgTFwhIfPxcJ5JzK6lTrz7vLR0C9w2ie2M9gSGRXLx4kcGDB9OiRQsEQWD16tWK1+qFF15QtqevRu/evfn000+JjIy85l6XLl1o0qTJdfvWOXPW9VBmLmNj4jZOFZ5Hrbr1MTYXV2GttDjCGPRqND56NIYrHkyraOPzpN0EewbwUPSDNc4jk8lEQUEBkZGRFBYWKvH5Hh4ehIWFXZftQaYPMxqNynb+1S9hZWVllJSUUPcyE0V1dTVFRUUuoRk1lXl1eJkz5PjyiIgI5Tv5+fkUFxcTEBDgElYmSRL5+flKiA04wixatWql3JfRsmVL5TPnfpKzioHDQeJsZNatW/caYzQ8PFypm1yWc1u1Wq2ytsmIjo5W6L6ulgG9Xk+jRo2uGTvZg13Td+4Esl6oDX1zO7r8/yLuGbd3EWEx9XljwQIWLFzE+GeeAkFFxx69mffqLEKCAnniqWe5mJXHP2dNxy5Bx4d6MXPKc/h4uDdz1fXg5eXFsGHDGDp0KBMnTqRXr140btxYCQ5/99132bp1K97e3kydOrVGnj+bzUZRURFlZWXs2bOH5s2bI4oir7/+Oj179iQuLo5XXnmFf//73yxcuJCoqChGjRrF22+/TZs2bRz9FBZGw4YN2bx5M9OnT1fetrdt28bRo0cZN24cn332GWvWrGHq1KlER0czfPhwXn31VeXtW6fTUb9+fZ588klFqckQRZHExEQ++OADRbmuWrWK9PR0pQ5eXl54e3uTlZXFqVOniImJwc/PD7vdTlxcHOfOneOtt96ivLycOXPm4OvrS6dOnZRDAEeOHGHOnDkkJSWxdOlSvLy82LhxI7t370YQBHbv3o1Go+HRRx/l2LFjmEwm5syZQ/v27enUqROvvPKK4vVt164dM2bMIDU1lWbNmt30eIqiqMRuulN52e12Zav0dsrVqT2IMDYkzLc+5eZCyk0FVFhLkC5vjXnr/PD1CMZbH4j6JhM1XA+SJGGz2RzMDU7hOncKSZKwWCyoVCq30jRJkoMBRafTXddLI0kSJruNxNIi9mamsTsjlYzKCqrsNkBAI0CwwYPWgSGMin2EhxqnI5z5AUTRJVSgXoinct2+rq/y77iQyy8SRiOhD82hd8xDLr8dENeWHnUaw6U/IPMAlKYDAiF+Blo3CHaEHwgqUGuIbhhNdNdWEP0gwV5XjKzmzZvTrFkzF4OnZ8+eykGZ6xmo4Ijh79mzZ433IiMjFWaMmvpNHrPrvUBIksTB3OP8mn0EcMR632pYR9LWUxSeykHro0eSJHyijTR6qg1aH4dBqhJUFJvL+SJpDy2CmxHkcW3Y2ZkzZ5g7dy6ff/45H3zwAV988QX16tUjPT2dZs2asWrVqhrbcP78eVatWsWiRYv48ssvOXDgACtWrHB5ZufOnSxcuJCffvqJiIgIzpw5w5tvvsn69etrpGRMTk5m8eLFLlRZzrDb7Rw+fJjJkyezd+9efH19+eWXX1iwYAH+/v7k5OSwevVqGjVqpBwsGzduHPPnz+f+++//0/6UGYDcmcFRkiTloKk76RdlGdNoNG71skqShMlkQqvVurW+oihiNptdzrj8VXHPuL2LUKnUtOnSg607H6CwqAhUWoKCAtFcPknsHxzOG+8s54XZr2K1Q3BwMDqt+71D14NGo2HRokV89913rFixgmXLlvH+++8rb9SxsbF06tQJg8GAt7c3x44d4/jx44DDAAOHIuzbty8nT55k9OjRzJgxg+zsbLKzswkMDMRqteLl5cXp06cJDAzk4MGDtGvXjq+++gqVSsWhQ4cAh7dywoQJpKenKwetfvjhBxo1aqQQaP/6669MnToVuDJJnU9tiqJIQEAAFRUV7NmzB7PZjI+PD3369OGtt96ic+fOGAwGXnvtNT7++GNMJpNL/KRKpcJut3Ps2DHi4uJQqVTk5OTg6elJREQE48aNUwz+SZMmAQ5miMcff5xp06YRHR1NVFQU3377LWPGjOHNN9/Ez8+PjIwMtmzZwooVK/jxxx+VU/gJCQksWbKEmJgYRo4cSUpKCuAIAwgKClIWtpuF2WwmJyeH6Ohot/PnZmVlUbdu3TsqV63S4OcRip+HY2eivLwCq8WKv7+fW72txcXFynanuyB7nzw8PFwOdN0pZKaOiIiIGr30VtHO0cI8Vpw+ypbkc2CqBtkDJRvukkQmcCw7nbVJiWzpMpThXsEIR7eD2XrdA6qO717+Cw6Bbq9AVOean9N6IkV3R4h6ECpyeOaF1oQ3D4ZAH5BE0OjBMxSMMaA2yNEnN43CwkLl8Ks7IY/Z1dvJMqps1SQXpxDnG4WIhM1updBUisluwSxakZBQoXIJo6kJ941uTVinOthMVs6uPUzy52do9NSVECmVoCKpNJ392QfpH9f7uuVkZmZiMpl48skneeGFFygqKqJv377s27ePXr16XfN8UVGRC8vK9VBdXc3GjRuZNWvWnz4rs9fUBJvNxrp169i8eTP5+fnk5ubi4+PDf/7zH1566SUeeeQRFi9ezLp161i8eDG///47r7zyipLm9mZQVFR03VC4O0F+fv41BzLvFDKrTFBQkFu520VRJCsri9DQ0GsOE94JLBYL2dnZREdHu5U/927gnnH7fwA6gwfhEVe21JwXcJVaTUhomNtjBG8GmZmZJCcn07NnT3r27Mnnn3/OrFmz2LFjBwADBw7koYceQhAczAzy1j84QhY8PT2577772L17N7/++iuTJk1S3rpLSkrYs2cPBoOBpk2bEhUVxWuvvca2bdtYuXIly5cv55NPPlHqEh4e7nKAABweggMHDihUJ3369AEc3opt27bx5ptvsnLlSv72t78RHh6uKBeTyURiYiKVlZUEBwfTr18/2rdvrwS+t2jRgt9++43IyEhF6VZWVlJRUUFYWJhiMMtxloWFhfj5+dG9e3d0Oh1vv/02Y8aMoaqqitGjRzN+/HhGjx6tbIm3bNmSNWvWKATzK1asQJIkxROdnp6ueJTkt+eaEgPIFDE3C4PBcM32nDsgH+Rwt3x6eXkieLtf5p0PK7kLcvyfu188VSpVjYkIJEmi2m5j8fE/mH/0ANisDmNWrXb8/+p6CAKoNWA2MfKn7znfpiNTerUhIHELZJwBkxWuMTkF8PWCxn2h2Ugkz7A/N0hVGiSfSIY/NcGlroIgOEp3MrhvFvI8q42X+ppCGUQJbKJEjkWkzKonJmIkEWESCAJ+ahE9JajEMpKLEjhdkEhCURKVNtNNHTLTGLRE92rAqZV/APDrtC9p/9pD6Pw9Sdx4jHWNbLR7qSVTJjxPbm4uWq2W999/X/l+XFyciy7w8vIiMjKSkpISjh49yqxZs6isrCQ2NpaVK1fy4Ycf8scffxAfH09kZCSJiYmMGDGCM2fOMHz4cF566SUARo8eze7duxk/frxLfU+ePMncuXOpqKigadOmLFy4kFWrVnHq1CkWLlzI3LlzXZ632+3Uq1ePTz/9lC5duijxpsuWLUOlUlFUVMTRo0d59tlnHf2h0bBy5UrmzZt302MWGhpaK7Igv+zK65k7IPPcuhsqlUrh1nUn9Ho9sbGx98IS7uF/G7m5ucyePZvvvvsOHx8fIiIcB3jkk5TO8YvgSIHo7D04cOCAEsPTqVMnGjduzLp163jiiScIDQ1lxowZREdHs3TpUjw8PNi6dSuPPPIITzzxBC+//DJ79+6ladOmmM1m7HY7ffv25cknn1R4QYOCgujatSvjxo3jt99+48KFC9hsNt544w0GDx7MmDFjOHHiBPHx8SxatEipa0REBG+88YZyfeHCBaZPn86aNWsICgri5MmTBAUF0bhxY77++musVit5eXkUFhZSp04doqKiFAqh0tJSnn/+eWbNmkW7du24ePEiBoMBq9XKL2kkOQAAIABJREFUP/7xD3r27KlQ00iSRGpqKps3b2bu3LnKNuOgQYMUknIfHx/lxLxaraa0tJTIyEiSk5NdxsY5Ru5mUZvxps7/d2e5tVGmjNroA3fjeuUWW8y88Pv3bDp7yhFeIG8h/lmbBAFsVuYd+o3NwaE8f994+jWyEFd2BgrPgf1yOk8PfwhpAZEPgFeI4/DXrfTX1fWuyeC+BdRG/14tCxZRIrVKZH+RlRPlIicrRSwSmEQJ+2UDXS8I6ARvgnW+tPapQ4f6D9PDnsah7O/549JxKm3mP30B0PkYqLrk4HdFdO2TlNIMfj33Ox06dGDcuHEsX76cXbt2KXRV8t+RI0fYtGkTiYmJJCUl8eCDD3Lw4EH+/ve/06VLF5599llOnjzJhAkTqK6uZuLEiezatYuKigrWr1+PKIr079+fCRMmKC8P/fv3Z9WqVQwfPhyNRoPVamX58uWMHTuWnj17Mnv2bPbs2cO4ceNITU3l5ZdfvqZter2enj17UllZ6VJflUrF4cOHefnll1GpVLRo4Ui93KFDB+XZ2xk3d6E2529t6lx3o7Z0+d3APeP2Hq6Lpk2b0rZtW4YMGUJcXBxnz55lxIgRigd03rx5fPjhhwiCQKdOnZg2bdp1y9JqtUyfPp0pU6bwxBNP0LNnT1599VWCgoJIS0tj6tSpVFdXM2PGDOrWrUt2djbt2rWjurpayc0dFhZGr169FG/B6NGjWbBggaLgJ02axN69e8nPz2f06NF4enry3HPPMXr0aIYNG0ZMTAzvvfce0dHR1KtXT6lbvXr1aNiwIdOmTSM4OFjJO240Glm/fj0vvvgiBQUFdO7cmbCwMB544AE++ugjKisrMRgMdO/enVmzZtGiRQuOHz/O7NmzOXXqFF9++SVDhw7ln//8JwD9+/dn69at9OjRg7///e8cPHiQHTt28MQTT/DAAw8o8YVarZbw8HCefPJJ5syZQ+PGjUlISFBOBGdmZuLh4UF0dPQtjacoiphMJheqGHfAZrNhNptd+FbdAYvFgiiKLrG8GzduJDExkTfeeAONRsPXX3/NkSNHmD179k3FusqxdXa73YWmzG63s2XLFrp27Yqvry+vvfYas2bNuuk+lmNjVSqVW7fzRFFUqPHkAy9lFjOvHfmNTYknHQ/d6lgKAkgiF3KzeSE/h3f8g9n98OM0beaNSl6IUSFobj2m0Wq1YrPZ3B6zJycLcHecpc1mA5WalGqRr/Ks7Cuyc8kqIeJYHGXjRH353zbAKkKlSSS52s5/CwQaesbSL+IZ2oYl8k3KV5wuSkJCum6ogiSKqHU1L70Wm5kij1KeHvs0CQkJZGZmKodoJUmiqqoKu91OeXk5BQUFxMXF8fnnnxMREcFjjz1GRkYGx44dcyRMKS5WuGnlcKHWrVsrHkq5LJlXe9SoUTz++OMMGjQIlUpFZWUlFy9eZPfu3Rw6dIizZ88SHR1NbGysElv+ySefsGfPHgDGjRvHI488orRF1jfyPGvevDkbN25k48aNzJ8/n2XLlt3WXKktWaiN+SvHxso8t+4st6qqCr1e79Zy7Xa7skbci7m9h/9ZGAwGlixZwvHjx6moqCAyMpIGDRqgUqmYPn06J06cIDIyUkn8cDUaNWrEwoULleuOHTuydOlSfH19mTx5MidPnqSiooLmzZvj4eHBhAkTaNSoEZcuXeLZZ5+lfv36StY1eXF/9tlnlUNebdq04e233yYtLY2wsDAaNWpEUlISK1asUOKmmjRpooQ3jBkzRjmV6wy1Ws3rr7/OyZMnqa6upmnTpsqJ4lWrVpGQkICPjw/NmjVDpVLRpUsX3nvvPdLT0/Hy8mLQoEF06dKF3Nxcnn/+eerWrUtOTg4bNmxw+Z2wsDCGDx9Ow4YN8fLyYunSpS4ZvAB69OhB69atycjI4Omnn6ZLly5YrVYmT56shEP89NNPPPDAA7ccM2o2m7l06RJ16tRx66Eni8VCZmamEofsLpSWllJdXe1CpdOtWzfWrFnDwYMHadiwIW+//TYrV668JQVfXFyM2Wx22ZK22+2sX7+e9u3bExERwTPPPHPdOMya4Bxz68zocaeQY26joqLw9vbGItr5+NwpVp466njgzzyiiRdg36+g1YKHHhrUg9bNQK9zeHsliczCXCbu/57PHupLtLev3CCXYl588UWef/55ysrKeO211xSy+N69ezNw4EBlq7ysrIzS0lJiYmKw2+18++23NGnSBL1ez5IlS5g/f77LtnpWVhaTJk1i9erVShayd955h5deesnFqJMzloWEhPDVV1/RqlWrGl889u/fr8y7MWPG0KlTJ6xWK+vXr+fXX38lLi6OsWPHKofMzDaRfaV2NmTbSDGJqAUBFaD+k61pQRDQCAJ2SeJ0pUhCJTzs34yBTaIIvvgffs46iE201/jdisxSfGP9r/ncbnUc1D10+ij/nbudDu3au8i1nA3SZDLRvXt3XnjhBZeX1E8//ZTdu3fTunXr6xpo15snJSUl+Pv7M2DAALZv3+7Cc9quXTvq1q1L27ZtadCggWJcAnTq1EmZR1ezC9jtdnJyctDr9Rw5coTmzZsTERHBwIEDee655zCZTLdlSBYWFiIIAuHh4bf83RshPz9fOc/gLjjH3DrTjrmj3KysLMLDw90ecyufn7gXc3sP/9Pw8PCgY8eO12yttG3blubNmytv5TUtBEaj0YVXVq1W0717d6Ws9u3buyhnnU6n8FPKxpfRaKRly5bKc35+fi7egfr16xMXF6fcl72bcn00Gg1t2rRRPBRyYoSr6+vt7a14T53rFB4e7sKFKUkSBoOBMWPGsH37dmbOnIlarSY8PNxR5uVyw8PCHGEcoHjWJElSKMgkSSIqKorIyEiX34uIiCA8PByLxYJWq6VDhw4uv22xWNi5cyeLFi26ZeopvV5PdHS0Ww1buD2e25uBnB/e2WCuU6cOw4cPZ8WKFbRt21ahapMkiT/++INt27bh6enJuHHjiI2NJSEhgc2bN6NWqxk1ahRxcXGsWbOGdu3asXTpUuLi4njyySc5fPgw58+fZ9GiRSxYsIB9+/YpL267du3i+++/p2nTpkrs9KpVq+jatSvbtm0jMjKSCRMmEBoa6vbtPLVaTWxsrDJmSaXFvH7qCNhtV0IRboSycodh270jWKzw/W9QVAy9HgLN5fhcQWB/ZirbU88zpWkbNDWUe/jwYSoqKiguLqa6upo333yT5ORk5s+fD8CIESMAx/yUuU1LS0tZtWoV8+fPx8fHh8OHDyvZx2RUV1eze/du1q1bx0svvYTFYuHo0aMumaQEQVBowGw2G8uXL2f58uXX1FHm5Z43bx75+fm8+uqrbNq0iYsXL/LJJ5+wbNkytm7dyrJly1iyZAkVNticK7Ep10aVXVTafavbx+rLY/51kZU0sy8TYkbhp/Plv6l7sdodBqtosWOtsmDKqyRt93nCHrjCLGMptyDaJUrPF+IV4cvpY6fp1rQ906ZN47XXXlOek+M3a4q/B9i7dy+jR4+mefPm7N69W+k7i8WivBjXBNk7rdPpGDt2LA899BCxsbF4eXkRERGhML8sXrwYo9GI0WjEbrdTWVlJo0aNXDiEnftOo9Eo+u2dd95h2LBh9OvXj2+++YY6derctue1NmLmASXDo7tjbmuDW1ytVhMTE+NWry1c4bl1d7l3A39tv/M93DW4e/tGhru3b2So1WqXjF93iscff5yOHTtis9lQq9XYTSYqzp2nYPc35H3xJfn//YqS/QewFBYiXTasbwXXo+sqLi5m8uTJNR4y+jPIY1YbhOLu3CKUIY/Z1RgxYgS5ubl8+umnvPzyywiCQGpqqpI1LyoqimnTplFVVcULL7xAmzZtaNSoETNmzKC8vJyffvqJbdu2MWTIEA4ePMgnn3xC69atiYmJYfz48eh0On788UfKy8vZsGEDmzZtYuzYsZw+fZqlS5diMpnYsWMH//nPfxg6dChfffUVP/74o9tpeWTIY2ax2/k0+RylpUU3Z9jKCPSDhvWheWMY8iicOQ/lFfD7EcjNdzyTmcPaLZtJryjjxIkTvPrqq8yfP5+SkpJrZNdoNNK0aVP69+/PkCFD+OGHH7BarXzzzTe8/PLLfPbZZ1gsFn7++WdOnz5NfHy8Us7evXt55ZVX+Prrr5Vye/bsyX//+99rTsxLksR3333HnDlz+Oqrr5AkSYmtX7JkCUVFRS7Pnzp1iqioKLp3787IkSPR6/X88ccfpKSk0Lp1a9q2bcuDDz7IuXPnqLZLrMk08VG2FZMoKeEYdwKdSsW5KpGl6VoahA/g4ejODr5mAZI/P83h17/n5AcHCGweSkQ3x8HO8O51ObF8P+c3H0fjoUUlCATcF8K3+75l2LBhXLp0STk4Ks+z6/GQ9uzZk3nz5jF9+nTl8FaDBg3Iyclh3rx5CtWVDPmlURAEqqqqFAaCPn36YLfb0Wq1TJs2jQ0bNtCvXz/S09Np164dUVFReHp6KofCrgc5K6LBYGDWrFmsXbuWPn36sHv3bubOneuiM25lx6c21ghBEJQ0wbVRbm1s8d+IHvB2IQjC/wQNGNzz3N7DbUKOp7pdbtPrwWazXRMP6Q5YrVYkSXKbcafRaHjkkUewm80U//AT6avXUbT9d+yiw+PkiLlT4dU4nNAR/Yka/xT6W8hgJW/ZXa1kQkNDCQkJua02iKKo8NG6E87ciO6WBVEUrzGcZS5Ks9msGEiHDh2iQYMGDBgwALPZTJs2bThz5gzgyHgky2tKSgqSJPHMM8/wwAMPYLFYeOutt5g8eTJ6vZ6QkBBl4TSZTOzdu5cXX3yRDh06YDAYePXVVykrK1PCaO677z66dOlCRkZGrfDcyvXQ6XRkVJaxNuXsZd7Y2ywsIsyRoayqCk6dBT9fCA2GgkJOJyax4egf/PTGWzw1ZgwJCQnMnj2b+Pj4GovKzc3lwIEDdO3alRMnTjBnzhzefPNN3njjDby9vWnTpg316tVj8ODBeHl5cerUKU6dOkXbtm1ZuHAhMTExCvVSt27d2LBhAxMmTFDG+7vvviM+Pp7JkyezdetWsrKyGDp0KFFRUYwcOfKa7VibzabIgxxDmZyczPjx49m6dSuzZ8/mwoULTJk2ne05Ftbn2NCq3HvYRy0IZFtF4jPVzIwZTEF1ATzrSETivAMj/ztuUHPiBjW/wighSQR5+LPup/cJ8Qx2+c6XX36JyWRi9uzZNe7aPPnkk8rOgvPv/P7778pncmIcgISEBABGjRrFkCFDEEURlUrF0qVLle+3aNFCeRGR6+fn58eXX355wz7z9PQkISFB4UTv3Lkz+/btcynH+VlnFpw/g5yK2t2xsbXFUy3z3LrTcJZjeXU6nVvLldeI/wUD969d+3u4azCZTKSlpSmxWe5CYWEhOTk5bqc4KSoqcnu5tspKMt7/kBODJlO47VckUUKNTvlToaE6MY/U1/7FyacmUXHqtJKY4Eaw2+2kpqbecCvxdmAymcjIyFAWB3eWWxuyUFRURHZ29jXlbtq0ieDgYDp37sy7776rLCCyUaTT6ejQoQN2u53MzEw+++wzPv/8c5o1a4bRaEQURSorKxFFEZ1Od03cswy73Y7NZlNeBtRqNdXV1VRWVio502XIyTpKSkrc2geyLFRVVXEoP5dLZSWOhAh3AqsN7DWMldXKcXMlG7dtY/To0QwaNIjz589fIy+//PILvXv35umnn6Zhw4aMGTOGFi1a8OOPP9KuXTuaNWvGiRMn8PPzw9PTk/DwcLRaLbGxsUyZMoXBgwcTGhpKTk6OUubo0aPZv38/2dnZeHl5IYoiX3zxBd26dSM8PJyWLVvyzTffYDQa8fDwICIigvLycvbt28c333zDgQMHaNGiBenp6ezdu5cNGzaQlpZGVVUVJ06cwGaz0aZNG/4fe2ceH0WV9f1vVS/pTmdfSEjIAmFHBAKIC4wLoKMIA4oCiigquOH4KG6ggruiozK4goiMoqLg7owbj+KCgCIgECAYsu9JJ+lsvVbV+0dTZXcWSKCi4/vk9/lEuV1Vp+89de65p+89S8+ePVn50eesKXZ32c6OAYE8l8wrpVYu7DeTaHPHfSIV/DlvxTbesSoLTU1NOvbW74tfVFSkGaJ6weFwUFJSorteqKqqwm6360oT/D/WampqdF0jJEmiqKhI93cmSRIFBQW60/V4PBQWFuq+RvwR6N657cZxQc1tqvcxjurMr/evxvj4eGRZ1m1nUXK7KX5pNbkPrUKq9yDSmg/+aGn/fx1f7uHgwvsYtOJxwga1XedehcFgoF+/frrz1mKxkJ6e3iU+t3369NH9ncXGxhIbGxv0zg4ePMjGjRt5+umnsVqtTJs2jauvvpqIiAiqq6vxer3Y7Xbmz5/PsmXLSEtL47HHHkMURV577TVsNhuiKFJdXY0gCFRUVJCRkdHm95vNZsLDwykoKOCUU06hsrISm83WZtlRNcClK3xuVVn4uboCvN7WQWSdWYydLgizQVtuJILA15UVvPPxR+T8tKPdH4OnnHIKa9euRRRFwsLCMJlM1NTUsHbtWvbt28eePXu0nNOBCA8P11yDWvIpMTGRs846S6vYB/6F9tNPPyUrKwuPx8OIESOCnqmoqOCNN97A6XTSr18/Tj31VFasWMGbb75JYmIiY8eOJSkpiTVr1jBv3jymTp1K/8xTmH7tDYSdU4IlsXVFRb0gCgK7mmSy3ElMSD2DjTmfAxyz2IOiyCSGxhEZ0jr4yGAw0LdvX92P5LtKL0RFRREREaH7nNC7eIMKdf7q6XNrMBhIT0/vEp9bvQN44bdc6HrLwh+BbuO2G8eFrvLf7Kq61gaDQQsW0AOOH7aR//SryPWeYy5YACIG6jbtpWDFi/R/4mGMR6lWo/ppgb65EUVR1JSs3nT1LGWroqUsqMFE5513HsOGDUNRFGbNmsUjjzzCww8/zJtvvsmiRYuoqalhyJAh9O3bl7S0NB544AHAv5N0zTXXIAgCb7zxBjk5OWzZsoX58+cjCAJpaWk89dRTLFy4EPAbt7Nnz+bRRx8lNzeX77//nlmzZhEaGtqqr+o764pa7yaTCa8kUeVqhhALZmsoQ21hmESDVsxhT1MjuF3g9bRv7Moy7Nnvd0UIt/mNZDXAq7IaJJn6w4fZ8N1OXv7nCqqrqzXeBSKwipM63s8++4ysrCweeOABVq5c2akxqi5D06dP56abbqK5uRnwG8OXX345V111FdnZ2doxuopBgwaxZs0aTUYaGxvJzs7mySefxOv1MnfuXAYOHMh33313xGUB9ta5aXR7Cdd5N7ElhCOZFD6pllmccibflGynylnXoTkSERKBQWjjx/IRWeiK3M9601Xzm3c26LUjMBqNXTbP9EZX6fKu1jfdeW678X8Wgb45ek4ENauB3opG9cfTI6hMcjop+ddb+EobEDD4g0Y6AAGB6k++pefM3UT/ZWy796nH7HorGTXHq56BdfD7yYKiKPztb3/jlFNO0Yz0W265hR9++IG4uDj++c9/smPHDiwWC2PHjsVkMrFs2TK2b9+OJEmMGTNGWxBuvvlmXC4X559/PsOHD8doNPLwww/zww8/EBUVxaJFi+jRowe9e/cmPj6enJwczjnnHIYPH44sy9x3331aOqxLL70Uq9XaZbXpJUkCQWBmxiCmpPXFYjQiKwpeWQYUjIKIKAg0eDzsqC7nw+J8cqor/casokBJOWz5EYrLILcQJk8EqwWSeviDyuocsOcg9IgFg4hPlvn222/ZunWr9g6OBYvFQnV1NV988QUff/wxF1xwgRag88477zB9+vR2n62ursbn85GSksKIESN45ZVXEEWRGTNmsHTpUpqbm9m8eTMXXHCBljlh7dq13HPPPVopbrUP7777LoWFhTQ1NdGjRw9GjhyJ2+3m4Ycfpqy6lte+2IxpyGhMPXrp8XqOChHIdckc8iQyqsdQPi347qj3K4qCKIickjiizXkUqBf03LFT9YKedBVFQZZlZFnWfcNCPTLX2zfW5/N1yfz1+XxB1Sb1otsVvryyLOsuC38UDPd3pu7d/6cInHhtVehoa2Ie67P2Kn3oRaujzxQXF/Ptt98yZcqUNvPhHe84XC4XxcXFREVFBUXdnug47HY7DoeD8PDwdu87Hh7a7XYaGhoICwtrd0wdpeUqLiH/iRfwVTdru7Zt7d629Zlc78bSvydRp5+K0AbfBEFAkiTy8/Ox2WytDNETkU+Xy0VJSQkRERFBu9gnylu3201xcTGRkZG6ykJNTQ11dXXa0aZ6LBtYhMJisWjH9uHh4QwYMIA+ffpoC5/FYqFv37707duX0NBQZFlm3bp1nHXWWZx33nn06tVLWxwiIiIYNGgQ4eHhpKamagF9iYmJDB48mOTkZG2XWk3DIwgC8fHxREVFUVZWhiRJ7e7sdoQfLf+tKAqNTid76mvYWlnK1+XFbC4rZnN5CVsqy/ihspyt1RXssldS0tzEgKgYrh8wlL5R0exoasAt+cBo9FfCio+F886E1CP5fXslgUHwl+w9YxT0iId+GSw556+ITc3MmjWL1NRUTjrpJGJjYznppJOIioqiV69eQdk6BEEgPT2d0NBQ6urquOiiixgwYAD9+vVj+PDhNDQ0MGDAANLT0xk8eDAGg4GIiAgGDx5MdHQ0CQkJDBw4EIPBwODBg+nduzcjRoygT58+DBw4kPLyckaOHMk555xDVFQUI0eOxG6307dv36D5LIoiEyZMoKamht69e3PdddcRGhpK7969yczMZHN2Pvt7n0L0+bMwmFu7ZXRGPjsyZ7TjbUVgbLTCzopdSIrc7jMKCvGWaC4bOFVzSwi8T5Zl8vPzsVqtWjCVHvMsUC+0NJRORPfU19dTXV2t6ZvjpdPymcrKSlwul1ZMqL1njvV5y8/Kysrw+XxaqjU9eCtJEiUlJZhMpqCTzhPVubIsU1BQgMViCQqsO1Heut1uSkpKCA8PP6osHI1OW9f37dvHvn37uOiii4IChI81p45F/2gQlK4o0vwnQmDkamAkZ8vP2numo3T0pNWZZ7Zt28bDDz/M6tWrWyW9Pt7vVv8vSVJQ3lg9xqHmwQycWHq8DzWoIfBYvs0FpgO06r7bws6zr0aR/VWI2qpG1N5nCjIJV01kyEv/xBAS0i6PJEnS+qqHfIJfIarvTKWrB2+7UhbU3fZAOgACv+UURhD83O7AONRKZBMmTGiVv/hE5pkgCNrOT8tFoaN0Wv5bkmV+qanizcPZ/FxTiayAKLRW8oH9kBUFoyhyVkIyZyel8MrBvaw9uMe/ixv4nKIEt9XPwsLZf+FMBkbFHLcstNyt04O3bclCZ3m7qsCf+kukfR52pL+dHUe0UeD+tDpe3rmMsmY7Aq19jhXFrx3OTR3HLZnzMIrGNr8n8ORFr3kWqBfaW6+O5x3KsuzfjRZbZ4o40XkGrQtSnIhOB7++UeevnuuyGuuh/p2ozlXh9Xo1d7vO9qm9cSiKf6f5aLJwNDptXVcUhbfeeov169ezbt06rZhF4HXo/Dp3LHS7JXTjuKAqrM4KXEfp6g09fb9knw9Fljvka9sWFEn+zTBrA4Lw29GYXn1W6XaVL+/vIguKguBshEN7Yc92sJeDAsQlIgw7FfoPBYutXXrgl4MrrrjiCLn/Xl9Ap8/HJ0WHeTXnAM1H3B0M4rGrZomArChsKitiX62dq/oPpl9kNPf8/AN43K0N2kAoCmmWUMJMx59iqatk4UTnr0dWONjUtX627aHKq1AlRdDTFk9pU3XbBhgKMSGRXND7HIxi+8uy3i5F8Ju+6Yr5C//d80xFoM7VG10R5wB0mc9tV8jCH4Fu47YbxwXVz1LvRNJ/Bp9bQRSP27CFYx+vKErX+tzqzduu8tMKkgVFgcNZsO452LMXnO7gmz/YCCOGwyXzoN9Q/1F7G1B3mdvaBTwRqLwVRfGE6TZ5PLyRe5CN+Tl4FbnTPFWN3Aq3k5cO7mFW7wE8lHkq9/34Xesd3OBRcE6PnsSEBOdB7syuiSRJWgEAPWX3RP0sG7wy1Z4/xriVUGiWjG1mQAC/YSsiMDZpFBlRvdulo+qFrsiZ6vP5dH9ngbKgJ/5sPrctd1j1pqu3z21XyMIfgT+3x3A3OgTVsR/8CqempkZTEJIkUV1drdULV9sulws4cgxfV9eqXVtbq+Ugra2t1fLtKYpCfX291pZlWas3r8LhcFBfX6/d73Q6qa+vR5ZlHA4HhYWFQfc3NzdTU1OjjcHj8QS13W43tbW1QW273a65OKj+SVVVVZpSqK2t1Y63fD4fVVVVGg9kWaampkYrAaqOUW2bExMwpUd2OJCsJSwpSbh8Po0H4I/0bmxs1I6xcnNzqa6u1n6Zu1yuoByqTqcTh8OhHQW73W6qq6u1Mas8Utter5eKigqKi4vx+Xz4fD4qKys1HkiSRG1tbZBcBPJIluVWPKqrq8Ptdmv+14FyIssydrud5uZmbQwNDQ00NjZqY2hoaGglN+qYwB9oVFRUhCxJsH8nPLEYtu0ApwcMYvCf0w0/bIenlyD8sgWOGAK1tbVBPKmurqa2tlYbixrMpMpBTU1NK7lQ37vP58Nut2ttRVG0uaQoClVVVRQUFGj5iVUeBLZb8qiuro6GhgaNJz5Z5t8lebxbkINHlk5ogREFAYfXy1u52QyLTWDOgKH+Hwlt7fYoChhNTEhKwV1fr/HA6/VqKdbALxd2u71VWx1TQ0MDv/76a5CcOByOoHZLfVFTUxOkLwLlAvy+m/n5+VqVM4fDgcPh0OZ7c3NzkL5wOp1B89/lctHs9eAIrvz7u6JZEjAKrY0xBf/8PSVxGNP7T8Zs8O+aOxyOILmpr6+nvr6ekpIS3G43jY2NmtwoiqK1VX3Q1NQUlL9Z1R/q3ArUmR6Ph7y8PCoqKoL0ReDcUWVffV5NuXc0fVFSUkJZWZnm9hA4CLQmAAAgAElEQVQoJy3XFVUuAq/X1tYG6YvGxkaampo0X3y1HahfAseoyoXKE6fT2ep6YF7biooKSkpKWunQwDEfTV+oa2vg9erqagoLC3E6nUiSRGVlpcYzdW4ErjM1NTVatpC29Ie6tqr8raysDHrvKl8C50agfmlqaqKurk5zGWlubg56r01NTeTm5mp9dLlcQeuK2+2mqqpKo99STrxeb5DO9Hq9QWv174lu4/b/AAKPLtRJrgqbKuCqcKrXA2vAu1yuoOuqAlLrhjudzqCkzy6XK6jt8Xi0Z8A/QdTFDvwTQG1HRkYSHR3d6npgnyVJCipwIEkSLpcryHequblZu19N1q/mTFXHEMiDlmNuyaPA6yG9kgnPHAidNm4VTPE2ok8fg9fn0xSAyiO1LYoicXFxQZHqPp8viCeSJLVqO51O7X5ZloPa6i5KYmIiRqMRWZaDDM/2eBJ4vaWcqO/ZYrGQnJyM2+0OSgTfUi48Ho/fEMRvS3nc7qDr6ntWYbFYCAsLQ6wogpefgMISfwBUW1pLFPxGbmEprPknFB/W5CKQR01NTURERGh5jwPlpL25EShHTU1NbcqJ+s7MZnOQ8dtyLrRsu93uoPt32it5J+8QbunEDNvf2CJQ5/XwTl428waejDUqpl3jdlRCMmN7JNEcIOsqj1rqh/b0h81mw2azBfHI7Xa30ieBsu90OoPagTxR24H5hVvqj5Zzw+v1BukDWZZQ5P++0BLVsB0S05crB19KvDVOu9ZyLqljTk5OxmKx4PV629UfajtwLh1Nf5jNZnr06IHH4wnSH23pg0Ad3NbcCZQTURSJj49HFEXteuCY2pobLfVLyzF5vV5iYmKIiorC3Yb+CJzv6roSqENbXg/UcdHR0UFH/S11antjDtQPLdsul4sePXoQGhra7lrbkl7gmFq21TGLoqitv4Hv9Whrq8rDwDH5fL4gOREEgcjISG33Wr3ekgftrTNt6czA9u+J7oCyNpyWO+OQ3VE6etLqzDNdFVB2oo7rJ8qPruBhZ2hVfPAxWXPvRq7zK99jB5QpyMjEz/wLg59/ClN09O/KQz1pdZaOooCsyDgVqPdJ1Pi8KPifCTUYiDUasRkETC18NRVFQfB54e0X4fV/+V0N1Mstx6cEBEhJMkydCvPv0T7r6nmmBw/rPW6W7NzK7ppqRPHYAUOd6ZOMwqSkdJySl/u3fwcE8EvxR6q9evYk5vQdrBkjeuu9P5K3JS6JG7OcFHmU3z2gzK0o3JJspLbyVb4s/D6o+tjg6Az+nnkNaRGpf6h8coI8aeuZP2IcJ6LT/5vH0VU6/fdYlxWlO6CsG38idFUOw5ZZDfSCuguqV39jJpxNz7mTKVn+nt84OAZkZKyDE0m7+TrMMTHahG4LiuL3C9U7uE6lqzdvjyYLsqLg8Ml8W9/Ipromcjxeyr0S0hHlFSEKpJlMjLCZmRwTQV9LCAbR/7NAURSE+jrY9q3fsBWFDvEaEfhpK1xih5i4oEuK8lvmDL3zOLaV6aMz+LGqjKw6eyu7XQ+ICHxVUcztQzKJjYrBXnekfKmigCJzSb+TmZrW94R50lV64UR5axNF4k0CRZ7ffy9HRMBmkCn3HTmCR8YgGDijZybXD7uKWGs0HT0EUvWC3v6bbWVLOFEEZkvQEycqC20hUC/orR/VPLd68rar6HbV/P0j0G3cduO44HQ6yc/P1/JT6gU1h2FaWpquSrGiogKPx0NqausdkuOB0Waj39JFiEYjRU+/gyLJCG2cl/v9cmVCT05m0HOPETVm9DFpS5LEgQMH6N27Nzbb0aP/O4Pm5maKi4uD8sDqAVUWBgwYEBSM4ZFlvqht5NUqB7keLwbBb7QaBAGjIKAAHgV+9Xg54Pbwfm0Tf40MZV5CDIlmI/WNTdjyDmIqLetkjwSoqIaqklbGLfhlweVykZ6erpsCl2WZwsJCQkNDj6s8qFeS2FRahFtRMHayT86yCur27EMQRaIzh2GJi0VyuajY/D2yywUKiEYjMeeM43CDg4tT0llVZ/cbtvlFUFhGX4fCB4XVTJgwgV69OlfgYNu2bdTV1XHeeedRU1PDrl278Pl8bZbgBf/x86+//srQoUPbpelwONi2bRsTJ05EFEX27dvHxx9/rOUQPvvssxkxYgRlZWV88cUXeL1eLrzwwlanUyrCjNDDLMIfkDHBBEQaJeo8DoyigZNi+3FhxkROSxyNUTRq6QSPBZ/PR3Z2NqmpqW3mLD9eOJ1OCgsLycjICMqZeiJQFL8vdW1tre5l2ktLS7VjeT1RVFSExWLRtbyvz+cjNzeXhISEoIIjetA9dOgQycnJutJ1uVwUFBTQp0+foHy0f0Z0+9x247ig1qDW+1d5bGwsSUlJuv9qjIuL02qH6wVjZCR97rmDAS/eTfgZfcEkoOCvGqX+mXqF0ePKiQxd80+iThuD0AElL4qiVqxAT1itVq34gJ5QZSFwAWvySbxcUcujZXYKvD6MgoBBEBCPGLgifg8D8chnRkHAC3xU18zdBRXsa3Zhs4ViEo+8L/E43ls7j8THx+u+MAqCQFJSkla1rLOwu1wcbnB0WiE3l5SR/c+XcNfU0lxcQtbD/8Db2ITkdFH68ee47TX4nE58LhcGBQ46ahjTIxEMRhAEIgrLmEkIA5NT2LdvHzNmzCAnJ6dTfdi0aRPXX389RUVFREZGUldXx/r169u9f+vWrTzxxBPtXi8vL+eGG27grbfe0k44CgoK2LZtG4mJiSQmJmK1WqmurmbevHkcOnSI0tJSZsyYERQ8EwiDIDAkTOwwf321VdR+8Q41n6+n9n/fw1XUOZ6oNOq+/oBEs0CiyUmauRenN5/EncNvYlzSaZgMwRHp1dXVbNy4UfNLdblcbNq0ibq6Ourq6qioqKBPnz5tFgkBf6L8kpISrV1aWsqGDRv49NNPgwKzwF/UZseOHYB//qanp9PU1MRPP/2Eoijad7/33nuUl5e3+q68vDz27dt31PFHRUWRkpLCjz/+SFVVVavrmzZtwm63k5WVRUVFxVFpBSIhIYH4+PgO399R9OzZUysrrRcMBgNpaWltFpw4Ubp6b36Av7R2enp6l5Qi/r3RvXPbjeOCwWAIqhSlF7oqBYnZbD4uv51jwRQZSfLcOcSffx6O7T9R/8teJKcLRIHQ9FQiMkcQPmQQ4lGUUGFhIb/++ivh4eEMHToUq9WK2+1my5YtWmJxq9XK2LGtS/bu3r1bWziio6MZMmRIu0axKIratUC3iN27dxMdHU1qaioAhw8fxmAwkJ6e3iad5uZmrbwptJaFRknm1ezDvFpciTEpGYMg4HM6af71ILLLhTWjP2LAIiJ7PLgO/0rooCEgwF63lydK7NyRHMvJOr8vQei6Wu8hR4pyHA+KnQ1UuZydls/6g9mE9upJ+syLUXw+cl5ZR1N+IdakRMzRkaROm4wpJlqjW9jYwJmJvegZGcXk5FRCSurpFR7JnDlz8Hq9TJs2jS1bttCnTx/KysrYv38/PXv2ZMCAARgMBmpqatizZw+CIDBixAhtBzEjI4NXX32VpUuXBu3+eTwe9u7dS319PSeffDLh4eHs2bOHgoICsrKyGDJkSNB4KioqWLJkSauqS9nZ2UyaNInLLrtM+3z//v2MHj2axYsXI8syP//8M7t27WLcuHGt+CQIMCjMQIxRoNqncKyfmK6iw1S89RwxE6fjqSym6t2XSZx7JxGjz+7wu3EV5pC79BrO7NOLfsPGYo0Zx+0P3851516DENH6PcuyzLPPPktERAQTJ07ks88+44MPPuDUU0/l0UcfZcSIEUyfPr1N38asrCxmzZrF448/Tq9evSgtLWX+/PmcccYZ5Ofn8+233/LQQw9hNBqpqqritttuIzIyklGjRmluDk888QRnnXUWAI8++igVFRVERUXx6quv8vbbb2tGdW1tLQsWLOCMM85od/ddEPwptQ4dOsTll1/OG2+80cogffzxx1m2bBmNjY2sWrWKZ555pkM7vKou1xPq/FWhF31BELBYLLrSVOlarVbd+WAwGLBYLH96lwToNm67cZwI9N/8M/jctlUtRze6goClVzKWXsn0mDYFFH8UtNCCN20pon379nHHHXeQnJxMWVkZJ510Eo899hhZWVnMnz+fESNGYDQaiY+Pb9O4feSRR7QjuuzsbPr3789DDz3U5rGl6lfWcrf9gQcewGAw8MYbbxASEsKbb75JaGgoCxcubHPMGzZsoLGxkQULFmh0VVmQFIVPD+fx5J13YBh4Eglz5yFJEhWvvIintBjBFob39TX0eeo5BJMZ2euh9ot/U75mFUPe+xQAkyCQ5fbySkUd90TE0SMyAirsndi9VSAsFELb5kF7ATQnApWu6tfdqWeBSqcTHwqmTuZPtiYnUfbF19h37CRqyGB6z74UoyUET0MjssdDU0ERhro6jBYLoclJ1Pu82AxGvpz4N1Jt4az45ieNVnNzMx6PB5vNRllZGTfddBMDBw4kNzeXmTNnMn78eO644w4MBgMej4eNGzeybNkyAKZNm8b7779PWVmZNsdkWeZf//oX3377LT179uTll1/miSeewG6309TURGVlZSvjNiIigsWLF3Pw4EHeeust7fO9e/ciSRJbt25lxIgRXHfddQwePJilS5ciCAJ1dXXY7fZ23RIA+oQaGGIT2ezw0e62fgAsvXoTP/06BJOZinXLqd20kYjRZ6N4PbjLC0CSMSWmYLDaUGQZd2keirMZQ3QcpthEAEIzhlDyzosYp/p3alUoikJZWRlVVVUkJiYSHx9PfHw8t9xyC4899hhDhw5l9erVLFmyBEmSyM7OJjIyEofDQWRkZJDs7tixg0ceeSToB8GXX35Jeno6ixcvpqqqipkzZ1JSUkJYWBgLFy6kurpaO85WFIU9e/aQm5vLgw8+SF5eHjt27GDNmjWEh4ezfv16HA6HVr76jTfe4MCBA5xxxhl4PB5ycnIYMGAAiqKQl5dHUlISNpsNj8fDE088EbRr7HA4KCoqIiIiQtP1o0aN4uWXX2bnzp2MHn1sty1Vl3eFz60gCLr7M7elc/WiKwj6FkzpqnX9j0C3cduN44Lb7aa8vJyUlBRdlYyaOzUxMVFXhaDmqU1ISNDVz7KiogKLxaIdRwtqnzu4S/z6669z/vnnc/PNN1NUVMS8efPIz8+nsrKSzMxMXnvtNW3HpC3j2Gw2M3v2bC644ALq6uoYNWoUV199NUOHDtXyPNpsNiIiInC5XBQWFmKz2QgJCSE2NhZRFAkPD+eXX37hhx9+4Oyzg3emvF6vlhsyNjYWWZY5fPgwiuLPrWmz2XC5XFRUVJCSksKe3DweuOsuanNziBt4EgCe/DyasvaS9tCTGMPDybtnIY07dxA+5nTKX32Zhh3bWo3NJAhsa3LxVVwsM086GUr/FxA7YJMoIAODB0PP1Dbv6ApZUBSllSx0Bt7jTJUT3i+DXlMnUbTxI8r+s4me508gdnQmAG57Lbmvv41oMmJL7UX/BfNxOeppqncQa7RQ7ShDkiQ++eQTsrOzKSgoIDY2ljPPPJN3332XAQMGcO+997Jt2zZWrVrF4MGDOXDgAC+++CJpaWls3bpV419SUhKTJk3in//8J6effjomkwm73c6HH37II488QkZGBvPmzWPfvn2MHTuWgwcPctZZZ9HQ0KClewoLC8NqtZKens7Bgwe1MTqdTiwWC4MGDeKss87ioYcewmazMW/ePMCfm/Ppp59m0KBBZGRktMurSJPAuXFGfm6QaJY7foqjKEeMHqPfOK3e8BJNB3aCKGJO6EXitYtp3PEtlW89iykhCanWTtKtjyMDA0aOQa4t5pfdu4mPj9e+88CBA9xxxx0kJibicDhYunQpQ4cOZdKkSaxevZprr72W0aNHk5mZSW5uLoWFhYiiyJgxYxg9enTQcXRCQgIrV67kzjvv1D7bv38/mZl+OYiL8/udV1dXEx8fz5133smuXbv46Sf/Dxu3283q1asZP348JpOJvXv3EhcXx9tvv01hYSHTp08nMdFvrB88eJAff/yRSy65BPC7TsyfP59//OMfCILAgw8+yKpVq7Barbz33nuEh4drP2Dq6+u57bbbcDgchIWFcejQIQBCQ0M599xzefXVVxk1atQx30t1tb/Km96uCZWVlYSEhBy3a1FbkGWZ0tJSYmJidHUhkGWZoqIi4uPjdaXr8XgoLy8nKSnpT++a0O1z243jgslk0nIY6omwsDBiYmK6hG50dLSuv0YFQSA6OvqElEtiYiK7d+/GbreTlJTEK6+8QnJyMlFRUSiKv2qO1+sNyhPaHtRjKrXgwjXXXMP111/PjBkz2Lt3L42NjTzwwANcc801TJs2jXfeeQdFUbBYLFxxxRWsXLkyyMhUFIXnn3+eOXPmcOWVV/Lss89SWlrKtm3b2Lx5s+azZzab/QuNILDdLaNcOZ/oCb8FE7lLijBGRxMSF4chJITQ3hk4f/UbLxGjTiH51rsRba39CL0ofNHkw37O3yDM0rFMCTJgs8C5F/n9SttAeHh4l8lCe/6QXQVBEIgdM4phD91L4nnjyXttPbU//4KiKFh7JjD03tsZvuwB+i+YD8DOhfdw0wV/Y+aMGXg8HgwGA6NGjeLCCy/E7XYze/Zs4uLiqKio4N1332Xy5MksXrwYu91OXFwcc+bM4bLLLmPhwoUkJydrR7miKDJnzhw2b95MSEgIguDPf11SUsKNN97I5MmT2bJlS1BhAa/Xyz333MOYMWMYM2YMW7ZsaXOMFouFFStWcOONNzJixAhuvPFGvv76ay2n57Jly9i/fz/PPPPMUfWGIMCYKCMjw0R8HRCl5sP7KXvhPoofvxn7528T89dZSE312P/3PVJuf4rURc/hLs7F9ete6r79iKizppC6+EXiLroWQVaQgMHhRu649RZefPFFzGazlgP4hRde4KqrruLll1/mvPPO03apzWYzV155JV9//TUzZszAZDIxYMAAMjMzufjiixk9ejQmk0nLW60oCqmpqa2CoCoqKjSjFvy6weVyERoaykknnRR0r1qEZdiwYYDfTWrz5s2Ioshpp53GrbfeqgXkPv7441xzzTWaS1J4eDiLFi3i0Ucf5bHHHuP6668nOTmZiooK1qxZw913363JyKFDh8jNzWX9+vWsWLFCO64HOP300/n+++87dMweGRmppZPSE9HR0YSFhemqF9Rcv4Fj1Ytujx49dAsAVGE0GomLi9P95PSPQLdx243jgsFgIDQ0VPejC7PZrLsiAL+jvLro6gXVn+pEfuHOmzePmJgY/vKXv3DvvfciiiIWiwWLxcLmzZsZNmwYAwYM4P7772/zea/XyzvvvMNjjz3GRRddxLhx4+jTpw9vvvkmQ4cO5aOPPuLvf/87y5cvZ8+ePZSXl/Phhx+ydu3aIKP5jDPOwGg0snnzZm03Pjs7m6+++oq3336b9957j9dff53Q0FAmTpzIlClTNP88VRZqfDI/htiw9O0f1Eep1o4xMkprG2LjkI4YOWGZoxHbico1ILDf6WJL6kkw72Z/kYajJeOXFTAZ4dIrYNSZbd4iCEKXyJgqC8e72BiOUyxzVq2l6vttiCFm4k8bTepFk6n8YVu7PwTGvLyC9Zu+5MtrH6BflH/nOiUlhWnTprF48WIef/xxysvLMRqNzJ8/n6+//prPP/+cFStWYLVamTJlCj///DPjx4/nyiuvDAoEiomJ4ZJLLmHDhg2AnyeJiYls2LBBozN+/HjtfrPZzIoVK8jJySEnJ6fVqYGKiooKXnrpJa1qmVoRDuCFF17gwIEDrF69ukMZBGLMItemhJBhEZCOYUiZYxMJPWkM3gYHUWdNwTZ0DFJDLe7SAvKWzCVv8RU0Ze9Gam6kx6U3Uf3Rq+QvuhxkCXPPNDJtAjEhBiZOnEhtbS379+9HFEV8Ph/l5eX84x//YNKkSbzwwgta0Jbb7eb5559n1KhRvPjii0EJ/AVBoKGhgbFjxzJo0CD++te/Yrfb2+y7eqKiwu12t6un1OqIqj9+SEgIffv2Zc6cOUydOpX+/fuzdetW1qxZQ9++fTnjjDOC+jRp0iTND/bcc8/F5XKxdOlS/ud//kcrNAD+ILbk5GRMJhMRERFBPv2RkZHs3bv3qO9DRUhIiO5G3YnO36PRtVqtugfxCoJAaGio7nRVXa735tIfgW63hG4cFwJ9ibrCd1HvydWVPrdw/P6bYWFhLFu2jOuuu461a9cyc+ZM1q1bhyzL/OUvf+Gll14iNDQUk8mEy+XinHPOQVEU+vTpw/LlyxEEgZ49e9LY2EhpaSlPP/004eHhFBQUsH37dg4ePEh1dTUGg4H+/fuTlpbGBRdcwCWXXMJll12mKcfQ0FCuvfZaVq5cyeTJkxEEgZqaGrKzs1mwYAGSJFFaWkp1dbXWd4fDwS233EJ2djaKovD42xso88qtgnUEswk5oDKR1NyMaOlYJggfsN/pYfxZF2FFQFz3MtjraFWEACA+Gi69Eia0v2vbVT63cGKy0MMairGT/rYAUScPoejdjxFNRgxmM6VffE3yheeBICA1O6ndsw9jeBiCIGLrnUpsQgJJXgO+Hw+jGEUUrwRHZODss8/mxRdfZOPGjZx99tnce++9TJw4kY8//hin08kNN9zAvHnzuPPOO0lNTQ0KIiwpKUEQBC6//HJGjx7N2LFj6dGjBykpKaxfv55x48axcOFCVq9ejcFgoKqqivz8/HaDFgMRGRnJ1q1b8Xg8nHXWWTz77LNceuml7N27l3Xr1rF06VIKCwspLCwkPT39mEbugDADN6aaeSTXQ73UvnuCMSqGyL9cSOjAYeQ9MJ+o08/FGJtASEoGqYuew2ALx12YgyUlAxno++wnuHL2Ub72KQaKTqYPz0Ddi16wYAGvv/665oJhNBq59957OeOMM7Db7bjdbmRZ5vXXXycxMZFly5Yxffp0fvrpJ04//XStT7GxsXz22WfAb9Wk2kJKSgr5+fnAbxXf1ApvLWEwGDAajdq86Nevn7ZxofqgiqJIdnY2u3fv5ocffiA/Px+j0ciZZ55JWloaZWVlKIpCdnY2ycnJlJeX88wzz7B8+XJ27tzJY489xtSpU1tVKFPh9Xo7vBvbVT636vi7Yu3RW9d0pc9tV6zrfwS6jdtuHBe6yue2trYWt9ute9qurvKzLC8vx2q1Href1pw5c3jkkUfo378/999/PzfeeCP//ve/SUxMxGAwEB4erh11S5LEq6++qrkSREdHYzQaGTduHH/961+RJIkVK1bw9NNPI4oi559/PpdccgmNjY1IkkRoaCg33XQTXq+XdevW8fe//51Vq1ZpfRk9ejQvv/wye/bs0fifnJzMokWLALjyyiuDcqCGhYWxdOlSHA4HVZWV1IRYqatvnYrJGNsDqcaO7PMhiCKeshLCho/sMI/y3F521SnkpU1iwh0D6LnzS8jaBY76Ix2JgJNHwLjzIX0AiuHoZuJ/m8+tACRZbUSHWKj1uDtl4saeMhJFUbBv3+FPR3beOcSdOhrJ5cSakox9644jOdcM9LzwXE7unUFUvRu5yYWy9RAZKTGY+vj9KUNCQli4cCH/+c9/mDt3Ltdddx0vvvgiPXv25OabbyYhIYH77ruP9evX+3/MPP44cXFx9OvXT9sJt1gszJ07V/Prvu+++1i1ahWrVq3i1ltvpU+fPsTGxnLqqafy/vvvc+utt7Y5rvj4eIYPHw74j9QXLlzIv/71L1auXMmMGTOYOXMmX3zxBenp6Xz44Yfae7ztttsYPHjwUXlmEGBctIkbeim8WOylTlKOeoQZktyHyNPOpXLjKlLveQHRaMJ1eD+GiGgq33qO5Jsfpvrj1zEnJGPLHIc1LYMJYV4SjLK2sz127FieeeYZysvLMZvNnHbaaXzxxRf069ePVatWMWzYMCwWC6tXr2bNmjWkp6cze/Zsli9fzrBhwzAajeTl5fHrr7+SlpaGzWY7avaXM888kyVLljBlyhS2bNlCQkICSUlJbd5rs9mwWCwUFRUxbNgwRowYgdvt5qOPPiIlJYWCggJGjBjB2WefjcfjQRAEnn/+ebxeL5mZmdx0003MmTMHgOXLl/Pcc8+xdu1aHA4HDQ0N3HLLLSxYsIC0tDReeuklfvzxRxwOh2Z8gz9Dy8iRIzs0H7vK57aiooKQkBBiYmJ0oylJEmVlZURFRemaDqzb5/bY6DZuu3FcMJlM9OjRo0t8Y/XO3Qd+37Cu+AV9ov7BsbGxLF++nPnz59PY2EhRURGXXXYZoijS2NhIdnY2VqsVURRJSUlh4MCBbS5qoigyf/58Lr74Yvbt28fIkSPZtGkTYWFhfPXVVzgcDjweD6+//jqLFy9m9uzZWgql+vp6mpqaCA0N5fLLL+fqq6/mzjvvJCUlBZvNhsPhICIigqeeeor33nsPg8FAeXk5TqeT9PR0ZFnG7XbzRbMXvyUVfNxrSc9Aam6mce8uDFYbzVl7SJxzbYd5pABuCd4tlPjJlsHIU/szaJyDMMmFUYQ+sWEYIqIR1CO6Yxw3q7KgN2JiYo5bvuIsofQNj2S7vbJTvmKi0Uj86WPoccapwG9lKgVjGINuu0n7DPxBa0OiY7DtrkLy+qBO4uLzTsM06bcI9TPPPJMzzzwTRVGYMWMGM2bM0K4pisLYsWODsnao96n/ttlsLFq0SDN2U1JSePDBB4PKacbGxvLoo48elVeZmZmMHDlS6/uwYcN4+umng9I1TZ48mQsvvLDN1FjHgtkgMDXBRJhRYGWRh0KPghgwrwxWGyG9MvynA6KBmPNnUfLcfUgOOykLHqLqo7XILifREy/CnJhK7N+uomb9s4Qe3Mq04YO5dOoUysrKSElJAfwG+vXXX8/bb7+NyWRi7ty5PPnkkyxdupSBAwdywQUX8N5773HRRRdpAVizZ89m9+7d7OIZSLwAACAASURBVN+/n5kzZ/LUU08xcuRIBgwY0OaY+vTpo+3OZmZmMnXqVB588EGioqK4++67CQ8P13gTFxdHWloa4Ne5559/Pt999x0XXnghUVFRLFu2jOeeew5JkrjllltISUkJeocZGRl4vV5KS0sBmDVrFoqisH//fvbv38/IkSMJDw9HkiROPvlkevbsSUZGBrfeeitPP/00GRkZXHLJJdhsNmRZ5quvvmLq1KnHfG+ArkULAnEi87c9iKJIXFyc7oaiKIokJCToTleNpfn/wedWUPROlPYnQ1fWWW55n160OvPMtm3bePjhh1m9enWrNDnH+93ACfVJD952BQ//iHGUl5fz6KOPsm/fPqxWKxdccAHz589n7969XH311VrOwfDwcFasWNHKuL3llluYOnWq5q/4wAMPAHDrrbeybNkysrKyiIiIYOnSpSQkJPDCCy+wdetWTCYT8+bNY/z48dxwww3MnTuXMWPG4HK5mD59OtOmTePaa6/lgw8+YN26dXi9XmbOnMmMGTPYsWMH9957L1dddRWzZs3S+PFhTQOPl9YgoVC5/nUMJhPx02cBYP/sY2o+/dg/llPHkjDzCmRFQRQEnIX5FD3zOP2feSmIX7Lir9uUGRrCLGssK/a6EPHHjJkEAaMAZgPcmxlKn0gD4u8gI10pCx8U/MqzB/Ygt6M/TqRPACZR5JF+IzjpX9uQD1f4q8WN6oP5xgsQzMYu13v/jfpCVuCnOi//KvGwp1HBpfjLsIiCEJTxpM2+4ZdREYg2CkyJMzAzyUysWWwli7+XDjveZ0pLS7nxxhtZs2aNVsjg91oby8rKuPHGG3nppZe0wDi9vrszfTrRcfxeMv3f2KejXVcUhbfeeov169ezbt06zf0k8DrQ6T4dC93G7e80gfWk1Zlnusq4BYLy4ek1DrVogfrXHp3OjkP9U32JTlQRqnxQ/99y9/ZE+KEowbkR9VLyLWu96yXrftoSX9Y7eajEjkdRtMVd++6Az9R/t/VZy2cU4HSbhb+ZY3guy6X586rGhU+G+QPNnJcagkHsmKINVKZ6zbNAXhyvLFQ7ndyzcwsH6uv85Yl11BeKonBqYhJLam3Ir32HIMuggNAjAsuiixDjI7tknunBW0EQ2vWzPNFFV31n9T7YXOPj/QoPh5wK7iNqTn2TLWUVwV9sO8IAo8INzOhpJjPSoPUVfpu3+s4z+ag67Hh0rizLyLLMxx9/THFxMQsWLDiqbuoobwP7rc6Jtui8/vrruFwuLbXbscbRGVnoDG8D+6onb0FfWVDbLfPy6jHPAteeztgux5KFP8K47XZL6MZxQU3z07t3b10jNu12Oy6Xi169enVamI+G6upq3G53UPTuiUJRFEpKSggNDdW1bKMkSRw+fJhevXrpmlrK5XJpR6V6HmepstA/uRexRpFS77HTlnUGA6xmcu0yLV0e1LeY45CYoHDMqlMqqqqqNFnQ6/hNUfy7XxaLJSgFU2cQZ7Vyae/+PJO1k0af7zjCy9rpGxAdYmFOQm/Ejf+LEuCSobg84PG1/3AnUVdXR319va6++Iri9203GAytUl6dKEpKSrBarcTGxjI10cz4WBN7G7z85JD5uUGi2qtQ7wO/PStgECDaIJBhFRgRYWRkpIF+NgPGgAIjkiRRVFREXFxchzI4dBSSJJGbm0vPnj11pavqBTXrgV6ora3F4XCQkpJyVNet2bNnd0onV1RUIAiClntXL5SWlhISEnLc87ctdKUs5OXlkZCQoGtaNJfLRUlJCampqbpnjvi90W3cduO4YDabiYuL6xKf265IMaYGZulJVxAEoqKidE/HovpThbSTIut4YTKZiI2N1b2/qiwIRhN9zSaKvVKHDc1jIVQU6GsOYXOD1KYvqiBApUvBJ/tdFDqCiIgI7YRAL6iycKLzYVxCMoWN9azLPYSsnLhfsKIoWA0GruozkL5bDuMttP+WZQIQdDOh/bDZbBiNRt31QkRERJekJ2o5f8NNAqdGmzg1Glw+hWZZoUk+sqsnCBgBm0EgzOg3dAVaZ8dQ/Sz1TjdnMBjo0aOH7nS7Si90pSx0BaKionT3NTUYDF0mC/Hx8e2WWj9emEwm4uLidJeFPwJ//hF04w+B0WgkKipKdyM0ML2Q3nSP52jjaBAEIShIQy+IoqgFhuhJW31nXUl3fJSN7c1uPPx2pNu49xfcpUUIgoApMgrLkGGIHYgcVoDh1hBsHiO7ft6KHGIjItUfTNNQmovi9RCWNhChxVDUMq29evWid+/egL+yks/nY8iQIZSWltK7d+92ZaGxsZH9+/cHlQLdvn07JSUl9OvXjyFDhgQt2D///DP9+/cnIiJCO9bbsWMHJ598MmazWSttmpqayqhRowB/qduffvqJ2tpaMjMzteAekygyLa0vdreLT0sKNP9bAG99Pc0VVUT2C67C5a1voLmomPD+/WjKyydiQD/Af3xuNRiYnpbBhHwn3s9+8dMKOApEZ6c0NQep3vMsLCxM93mmzl8Ing+qwWo1QqggEkf7R7Bt9UkUxaCjVz3727L0rh4wGo260xUEQcstrvd7UzNF6AlVxlToRV8QhC6TBbXQj57oCln4o/Dnz9TbjT8E6iKu9+QK9IPrCrp60+4qHvzZ6Ko0TwkLZVSoOShBftXbr9Pw3Wbchw9T/vYbFC65E9nrOSpNWVEIFwXGh9v4sdRN1ger2PPSIiSXP5F/xY4vKfr2fWQFRCG4Kq8gCOzcuZN77rkHt9uN3W7ngQceoKqqiry8PO6+++6g5PiBaGpq4h//+Af33XefNraNGzfy+OOPs2/fPu666y62bt2qXdu+fTsXXXQRxcXFGh/27dvHypUrAfjwww+599572bt3L4sXL+aTTz5BkiSWLFnCypUr+e6777jmmmvIy8vT+hAVYuHa/icxs3c/Qg0GZEVB9vnIf/s9it//pFWfnaXlFKx/DwGFim++py7rAIqiEGsO4do+g5hZDry33e9+cGTR2mkv5Pwvn2PO/65m+vy5PPXUU9TX1x/1nbTE999/z5w5c7QCBI2NjVx88cVBRRZaYs2aNdr9baG6uppbb71Vy6fscDi49NJLufTSS5k5cybLly8HYNeuXVx//fVMnz6dFStW4HQ6O9V36DqdAF2jF6Dr9aPeNLsiK0lX9fXPJgtdqcu7or+/N7qN224cFzweD2VlZborr/r6eqqrq3WfXHV1ddjtdl3pKopCdXU1DQ2tc7ueCNR65GrCd72gvrOOlPLtLN3S0lJkWSbWZGB2fBS9TIYgAzd6wl/pecPfSbv3YVzFhTgPZQPgczhw5uXirajQfEF9DfU05R0ms66KkCaBn6slDAJ4mxxU79sa9N2yAokhMoX5uRw+fBin04koisydO5fs7Gy2bdvGO++8Q3JyMqeffjp5eXnk5eWRlZXVpuzeeeed/PTTT9rOhdPp5Pnnn+ehhx5iyZIlXHzxxbz77rsAfPrppzz11FPaYlBVVUVVVRUrVqzQMl3k5eWxePFili5dyqWXXsrnn39OXV0dlZWVPPHEEzz55JMMGzaMTz75hIqKCqqqqgAweLycaQrjpsHD6BseSf2efdT+tBuOLGiKouCqttNcXIrviGEnmEwkTjyH4o0fMSQiilvSBzNpXy28sQVqmxECdpsbvB7MooH7J1/B3Xffxeeff8769es79d4dDgefffYZn3ziN7hlWWbnzp1UVFS0O8+ef/55rdJYS+Tn53PXXXfx/vvvaz8+CgsL8fl83Hzzzdxxxx3MmDEDWZb5n//5H0455RQWLVrEl19+yX/+859O9V1FVVVVp436Y0GSJC1Vnp5Q9UJg8QM90BV6QVEUGhsbqays1F2X19TUUFdXpytN6DpZqKio6BJZKCsr+1PIwh+FbreEbhwXRFHssvK7XeFbZzabMRqNuvfXYrF0WWlFvfnQVSWTA2VBFASG2yzc1COaf5TXUCP9trDJigIoCCYTiiDgs1dT/I9HUWQJ2eWkx2VXYRueSf69d5Bhs7KtsZkdw88nZsKVAPS+8BryN71J7JBTtR1IUYDv17/Al4d+QhQFhgwZwuLFiwkPD+fuu+9myZIliKLISy+9pO202u12fvnlF0466aRWPnZXXnkljY2NrFixAvjNcB80aBAA/fv35/333wcgLS2NVatWMWnSJMAvC7/++it79+7VSpTedttteDweDhw4wFdffcXcuXOJjY3ltddeQxAEPB4Pzc3NREdH88033/Dhhx/y/PPPs3z5cnw+Hw/edjcDQ53M3vIzoy+aQvYvezAKArU5ueQ8vxprUiKeOgd4fUSazQwZOhSnvJ7ZpR4yt+3Fu7cIQZaCDFsVYSEW+p8yHPO4M5g4cSI//PAD1113HXl5ebz22mu43W6uueYa+vTpQ2FhIa+99hp2u50LLriAiRMnAjB+/Hj+/e9/87e//U1zR7BarbhcLjZs2MAvv/zCuHHjmDx5Mh988AFFRUWsXLmSO++8s1XgzsaNGxk2bBi5ubnaZzk5OfTq1Yu0tDRCQkKIj49HlmVuv/12JkyYgMViYfz48fzyyy9cfPHFnZbdrpy/XZErtCvodpUuN5lMuvuEArrHIqjoKlmwWq1dJgtdVX632y2hG38aBKY78Xq92q6Voih4PJ6gXazA62o78Jec1+tFEASio6MRBCHouqIo+Hy+Vu3Asost25Ik4fP5/MEvVis2my3o+yRJCjrqlGW5Q+3AMZjNZsLCwrRUMoHXZVkO4kFLHrXFE0mSkGWZiIgIrFZr0JjVMbbkmTrGwDEH0lPvD/TTasmjo7U9Hs9ReQK/BU2o7709nrV8vqWcBPLIZDIRHR2t8cQoCEyIDuPepFh6GkVkRaH6w3cpffpx8pfciSkyitD+A6j74j+EpKaT8cQKes5bQOVrq/Hk5RLX1MBTy19m+IJncJrDUQPR4wafgigasGdtJTTGX20pwtdI1ufvsGbNK6xdu5ZffvmFrKwsBEFgypQp5Ofnk5mZSf/+/QkJCWHSpElkZGRw+eWXYzAYgsYkyzIjRozQFiJFUXA6nUEpiMxmM83NzQAMGTJES0Kv+m9mZWVplbVUHh06dIgFCxZQUFBAUlJS0Nz4z3/+Q1ZWFlOmTGHatGm43W4eeeQRdu/efaR6l8LKW+/j6piB3NrrZIZFxrJoUCZRP/zMxVfNYfGK5Vx62SxSLaE81SeTp8ReTAhP4aenXsO3Ox9RUaC9oDGrGcOQNOw1NXzzzTcMGzaM+vp67rrrLlJTUzn99NO5/PLLqa2t5fbbb8disTBx4kQWLlxIUVERAIMGDSIjI4MPPvhA8wO0Wq2sXbuW7du3M2XKFN58800++eQTzj77bHr06MGUKVM0/0aVRz6fj9tvv51LLrkEo9Go8SgrK4svvviCuXPncvHFF/PNN98AcP7552OxWKivr+ebb77RfkyocyFQdtvTH+APTrJYLG3qAxUt50ZL/dBSf4iiSFhYmJaRRNWBR9OpbemLljpUlmWio6Mxm81B+qItHauO+VhtRVEwGo1akGUgjwL7rI65PZ601BeAVmFRnTttrTOBY2hL57a1bqiFftS2+p0+n6/VGNtbZ1ryRPW5NZlMbcqJ2m6pL9qSi8DnJUkiIiJCM8iPts6o7ZY8aWttFUVRW38Dx9iRdaY9HgTyQd1YabmudGSdacmjwO//PdFt3P4fQKCS8nq95OXlaccZPp+PnJwc7ajQ4/Fw+PBh7ahdURSKiopobGwE/MJaXFxMVVWV5lNVWFio+ciBP6WK3W7Xni8vL6ekpCToulrZRlEU6urqtNrk4HchUK+r7YKCAm2SNDc3k5+fr42psbGRwsJCrd3U1MThw4e1SevxeMjLy9Oe93g8FBUVBV0/fPiwxgNZlsnPz9eOknw+H/ZqO83uJmpcdVQ326lx1eL0OfHJPi0NVH19vcaTsrKyoKOzQJ4pioLdbg/yPaysrAw6wqusrKSoqEgbU0NDA8XFxdr99fX1lJSUaPerY1bH6HQ6yc/P19oul4vCwkJNEblcLrKzs3G73doYi4qKguSisLAw6HpOTo4mF5IkUVxcHDTmoqIiHA4HAIKiMAIfK9LiGWA1EzlgEGJ0DL66WpJuuQuMJjxVldR8+SmHFlxL8T+fwFxj59Fxp5KRMZhp503gm4/fIWH4XwhExuT5FGxaj0/yIQKZFgdFhQVcdtllXHLJJezatYu6ujoUReHtt98mOjqaTZs2cfDgQZqbmykoKNDk7uGHH2bQoEEMHjyYDRs2aHKiGjZut5u8vDwt56IqJ4G7JYE8liSJXbt2aZHRkiSRn59PYmIiX375Jffffz9XXnmlNjc2bNjAk08+yUMPPURERARGo5F58+bx2muvccUVVxATE8P27H3k1Fcy1dsT38c/E36glMznNxNzsJTZ1Rau31LN5eVm4itdJD72Mb5nP8VW2cy+utI2d2s1KArfl+cw4rLJ9ExMpH///txwww1kZ2eTn59PRkaGVt508+bNiKJIbm4u6enpbNiwQdt19Xq9TJgwgfXr19PQ0EBsbCw5OTls2LCBU045BavVSkZGBps2bSImJoaQkBDcbjc///wz7777Lu+++y6fffaZxhOVZm1tLQCnnnoqzz77LGvWrOGRRx7h7rvvpqysTJtvt912G/Hx8fTv3197vq6uLui91NfXk5ub20pfqMZcU1MTubm5mj5wOp38+uuvWtvr9VJUVKTJhdfrpaCgIOj6oUOHgvRFYWGhpjMlSaKgoCConZubi8Ph0PRBRUWFNmZAG58qq+qYA11g1NK+gNZWr1dXV1NYWKhdb2ho0J4Hv74oKSkJ4kmg/gjUF4FzIVC/HD58WNMPkiRRWFio6Q9V9gP1R15enqYfFEXR9IfaLiwsDNIvRUVFQetKZWUlNTU12hgrKyuD5KaqqkrzfQd/KjLVXUpRFBwOR5AOra2tJT8/XzMenU6nJhfQep1pOWav10t+fr4mFx6PJ2jMgeuKqj8C5USSJEpKSrQfyyrPampqNJ7k5uZq64gqB+qYVTeVwPdeUlJCZWWlNsaamppWchIo+3V1deTl5Wk8U9cZdcz19fVB772xsZGcnByNR6qcqNfdbjc5OTnamFwuV5Bc/Z7odkv4PwCDwaD9EjOZTPTp00fbnTIajfTv3z/oet++fYMS/aelpQW1U1NT8Xq9FBcXk5ycTHp6etD3BeaSFQSBnj17Bv2iT05ODro/Ojpay7xQV1eH1+sNuic6Opro6GitD7b/x955x0lRpP//3T05b47ssiwLSxRYULIICBIOBDxFBQQ9ETGcGE7PCKd4IIcoxwkqIopExfD1MBENhBUERECSS9yc0+zMTurfH0O3M8uyLDB7nr/j42tf0tPdT1c99dRTTz311FMmE6mpqcq12WwOmm2aTCbS0tIUI0ROdVNWVkZUVBQ6nY7mzZsrPNDpdLRq1Up5XxRFWrRooXg4a7w1ZPlOc/SXY+Q7ivFKfmVp1VlpZo7lqqh2JMc3Q6PSKHVOSEgICitITk5WPIDAOUuyMTExyn15dhwXF6c8b7Vag3bz2my2IO+u2WymVatWSp2MRqNSB/Bni4iPj6ewsJC4uDj0ej1t27YNavdAnmg0GlJSUpTv15UTlUpFcnIy4FdohYWFNGvWTOG5IAiYLBYsokiaTsst1/XG1rc/n4ZZ2Pray1y/aCk1GjWpo29i2LjxpAoSrpxCjp4Gw+gn6TqwglPrl7P71T/T4+l3lXqGtc5Aawmn9OAO2iVE0D9Jz4qWLVmwYAFGo5GsrCzatm1LWVkZr7zyCosXL2bNmjUsWrSIuXPn0qJFC5xOJ0VFRTz00EPcc889Cn91Oh2pqank5eUpctGmTRvUajU1NTWYzWb0en3QYSgtWrRAo9Hg8/koKSlBr9crA7xKpWLjxo2MHDkSURTp0KEDlZWVWCwWvvvuO958801effVVunTpotA7evQoSUlJbNmyhREjRrBz507ytB7G71tDUWEhOY4KPti6CamkGuePJ3Hnq6kpOIm31gUOF6hVePBh1jSwdOvzgVqkV5/evLtsGWvXruWjjz5SBrTy8nJWrVqFIAi0adOGq666ih49erBkyRIefvhhYmNj+de//qXIyYABA9ixYwfr1q1DkiQlJdq6devYuXMnLpeLXr16KZ9PSkrixIkTSpzs4MGDFUNaphkREQH4j5G1WCyUlZURGRlJZWUlCQkJ1NbW8vDDDxMeHs4zzzwTlENU1ieyLNtsNiwWyzn6QhAECgoK0Ol0tGzZUpFdo9FIenq68rxWqz2nb7Ro0SLofps2bZT7giCg1WqVa5VKRUpKSpB+admyZZB+iIuLC7pu1qyZ8m9Zn4A/L29UVBQxMTFBXs6YmBjlWYDo6Oig3NtWqzWIR7L3UxRFXC4XlZWVpKamKjwwGAzn6MhAnWs0GoN0rFqtDtIXcqqqsrIy5ZjYli1bBi13JycnB40Tge+Lokjz5s2Dno+NjUUURYqLi5V0iYH3Y2Jigq4jIiIU7yb4V60Cj+6NiIhQZFWOEQ4PD1fqbDKZgrKqGI3GIB2r1WqDxlKtVhukc2WeyeU1GAy0adMmSIcG5oNWqVRB3xMEIUhOZDmQPeE5OTlERkYqoR+CIJCUlBQ01tbNvy7LjfzNwLEX/KEZoigqz9TtOxaLhdatWweNK4Htptfrz7nfsmVLdu/ezX8aV4zb/wEIghDUYWSFJBtTgZ6ouvcB5RQy+b5s9MlLTrJykO97PB72799PeXk5qampivAfOHAgyIObnp4e1DHAP9vduXMnOp0OlUpFampqkJKVyxwYw1T3NJXq6moOHjxIp06dMBqN+Hw+du/eTffu3RVe1K1TcXExYWFh6HQ6hQc+ycfJitOs3fEJ+48cxIcXAZHmnVNRaVWcOHWcH05l8k34twztfQPXNe+NXqU/h77Mw0DjNvCUocD7cnlsNltQSqW6dQw8lUa+rntSTd121Wg0yqAu3w/85vna+XxyI9+Xlx/lnJZ120gQBFJ1WobHhNP/T5P4w9o13FpwkhHXX8eylWuwFtby2Y7t7P35KHED9Bxd8wrpYx8mqkMvyn/5CelsvldneRHmxDQSeg1nz6t/5pZ77qRti2aoVCpOnDiB2WxmwYIFzJ49m8WLFzNw4EC6dOmCzWbj7rvvJjMzk5iYGKqqqqiqqiI+Pj4oNZpcx0AeWCwWevfuzYoVK+jfvz9r167lhhtuUPgqPy/HWXbr1o3ly5cr7+/atYu8vDzGjRvHqlWr6N27N3a7nb/+9a+MHz+eyMhITp8+TUREBEVFRXzyyScsWLCAl19+ma+++oo777yTm2+5BTGnlPUvvckH33/NyOadyHVWsC57P4kmG5vzD+PwuvwhQj4vZ6rLGJrUnnohSUgmHer0dDQ/5hAWFsbEiRNZvHgxX331FW3atCElJYXZs2djNpuZN28eRqORzMxM7r33Xv70pz8xdepUdu3aBfgnNlqtlnHjxnHvvfcqy8ZRUVFMnDiRYcOGsWnTpqClT5VKxeDBg4P4GCjLsk4Bf8zyXXfdRdeuXcnKylLkau7cufh8Pp588kmlDQP7RmCqrsC+EXhfkiQlF2vddr9Q37hQX7NarUpYQn3v142VPJ++CHwf/Eap3M/q9tXA8gTqfLnOgTwO5IdKpVLo1qXZEE/qez7QsDIYDEo563u/Lg8DdXrd+4E8ktNF1o1jrcvDuvQD7wXKhUy/bgzrhcbGC7WrfG2xWNBoNI2Sq/p4XB+P5PE3cBIl6+L6xplAngTyou44JIeoBE7EAnlU3zhzoXGiKfa6NAaqGTNmzPiPf/W/DIGMDxS0+u439rf66ISSVmPfyc7O5ttvv2XkyJH1npByqfVQqVTKLC/wWZ/Px5w5c1ixYgWnTp1i2bJlpKSkkJyczNNPP81HH31EVlYWe/fuJT4+Pmg5ESArK4t7770Xg8HArl27eP3110lOTiYtLa3RZT506BCjR4+mTZs2tGnTBqfTyfDhw3nwwQeDTuYKfGfixIn07NlTmelLksTJitN8mrWe919bRfbPp6mtrqWysIKE9EQqCytZv2AdNeV2Dm09QFbBCSLSoki2JKIW1efQb4i3jzzyCOnp6coMWlbgdY/fPV97CIIAkg+81eDIQagtAncJuCtBVFNRWcO//72OtLQ09u3bx4cffkjPnj1DJuuyLNTU1PDGG2+waNEidu7cSbt27bBYLOzZs4e2bdvSIiUFq9mEShTJOniASePHk5+bz+qVy8nKKyV5xD1YmqXhKM0j++u1VOceJ3XoBMyJaZT/8hOWZq2wxibSvWUCtvITdG6XTvfu3UlPT+ftt99m27ZtjBkzhqSkJN59911mz56N1WolPDwcl8vF3r17+cMf/sDevXs5c+YMPXr0qFceiouLOXPmDEOGDEGlUtGhQwdWrlzJ+vXr6dChAxMmTAjylnz33XcMHDiQuLg4bDYbb7zxBmPHjkWv19OhQwe++eYbPv30U1QqFX/961/Jzs5m8+bN5OXlsWXLFjZs2IDFYmHHjh307NmT4cOHExcXxyeffMKIESMIs9kwxUZRqfZRcjCLIZGtaGOLY2PuYTbnHSHeFE64zsj1CW2o8bh45eAm/trpBkzqX08YEgAkkIxa1KOv4Uy8jh/27mHs2LHKJpJ33nmH22+/naNHj7J582Z27NjB3r17ufXWW1m1ahVffvklp0+f5tChQ9x5550UFRWxY8cORo8ejdls5ocffuDAgQNMmzYNi8XCkiVLOHHiBO+//z79+/cnOTmZVatWUV1dTceOHes9fa+6uppPPvmEUaNGYbFYcLvdLFq0iNzcXD766CPGjRtHQkICd911F9dccw3Hjx8nMzMTj8ej5ApurEwLgj8Xa6ARWved89FpiL4gCOj1+qDJXWPL1NBvdek29p3Glre+DayXOg7JRo0caxqq8UwQXKDw5wAAIABJREFU/F5x2Vhs6J0L/V6XviwL5xvzLqUeTS0LdY3Xy+WtKIqNkoWG6NR3/8CBAxw4cIAxY8YEbQi8UJ+6EP2GIEiBU63/QQTOcuR/1/fb+d5pLJ1Q0rqYdzIzM5k5cyZvvfVW0HLq5XxbRn3nnLvdbtLT09m+fTuxsbEsXbqU3bt3889//pN77rmHUaNGMWLEiPN+/8cff+Shhx5SNo68/vrrbN68mWXLlqHRaCgtLcXj8Sjxe16vl7KyMlwuF2azGavVyo8//siECRPo0KEDb731FoIg0LFjR/bv34/BYKC6upqqqiqMRiNhYWGUl5dz7bXXsnjxYjIyMlCr1VS6qlj28/sU2otZ+8wK+t11PXGtEpQyf71kA1qDhh63XkvxqUL+/eIH3Ln4fgY370eP+G6oBFWjeduvXz9ee+01OnTooPwW+GzD7eFD8DmgNBNyP4bKU+Dz+q0ZQQXWZHbnt2bWm1/zzrvvUVpaSm5uruLFDoWsy7KwdOlStm7dygMPPMD7779PbW0t8+fPb7DuAMU1XjZku9ha4KW4VkJJsBDwjkaAaL3AwEQ11yXqsOmClW9j61FX3YWqn8nwer384x//ID4+nokTJ9arBxoq7/n6mtvrJLviMFHZKrRrD+I7+WtcnXS2HpIk8Xn2Qb4rOMbMjBtRi6LfUyvTtBkRb+lOVssS7FU+nIVqrr22H+CPL/zqq68YMGCAYrA7nU769etHVFQUdrudHTt2UFJSQkZGBq1atSInJ4eTJ08qm7nOnDnD3r17GTZsGIIgsHfvXrKyskhLS6Nr165IksSRI0c4fPgw/fr1Izw8/ByeOJ1OduzYQY8ePTAajXg8Hnbt2sXJkydJTk6mR48elJSUsGnTpqB+0r59ezp16vQfkYXG0K9LN1RjiryZ6GLk6kLflsMbZKP0cmidT35D1c8C9WNdA6w+OhdbTrmsoRyXG6J9KbIgI3AD48WW6UK8bUgWGqJT331Jkli1ahWrV69m+fLlQYdaBPbDi+XthXAlLOEKLgm1tbUUFBTQrFmzczwJNpuNnTt3csMNNzB27Nig5cfAHa2iKJ6ztFRTUxO0a9disSi7O9etW8eiRYuUWKfZs2fz9ddf8+KLL2K1WnG73axatQpAMVI3btzIoEGDkCRJiX16/PHHqa6uVrzMBw8eJD8/n/fff5+WLVsSHhHOnsKfKKgpwlnhwFnt4Oct+zn0zQE6Du5CVHI0hcfz6X5TL0RRxBRmwuv14bLXsjPvR9qEtyLSEHHRPJW97DExMXz66aeMGTOGa6+9FkmS2Lp1K59//jlt27Zl3LhxaDQaNm/ezKZNG8iIz+OPbU5TY3fz0Y5Cwk0aMg+VM7BzJNdlVLH6rY/5aZ+Gt95aTJeMruTm5NC9e3ecTicrVqwgKyuLQYMG0a9fPwoKCti0aRORkZF88803DBgwgOuvvz5IsRw6dIgdO3Zw1113IUkSH3/8MSaTiU6dOjF06FDi4+PJz89XUmbVB0mSkGpr8WbnYDpxilE+LwPaXsUxycTBKpFyF4CEgECMQaBduIqWNhURevGyD4yVJ0N1Y/QuB5Lk3+Sj1WqZMmUKf/7znxk9enRQjN+lwOfzYa+u4ZT9ezZnLScprA197v4DYd8V49l6GOxO5FPGKt1OPjn1IzO7jfQff+zzp15Dp0F1VXNcQ1uzXbWVfb9sJMrUjGFd7le+YzQaGTVqlMIP2UCVYTKZGDhwYNBviYmJSiwo+ONEbTYbhYWFxMbG0q1bN7p16xY0wMurKXUHfRkGg4EBAwYo91UqFT169FD2AchH0N52223ApQ16gZBjbuuGNlwO5NymYWFh9XqnLxXyZt7o6OiQ0nW5XBQVFREXFxe0knE5kCRJcSLExsaGNBVWcXExgiCcs2/hcvF7lIWoqKiQy4K8LyNUsvBb4YpxewWXBHn5oi5UKhWLFy9m2rRpvPLKK0yZMoUxY8Yo9++9915MJhNWq5UlS5bQtWvXc+gWFxcza9Ysampq+Oijj/j73/+O3W7n7bffZv78+bRq1Yqbb76ZH374gRUrVnDXXXcxfvx41q5dq+wU1Wg03HXXXbz00kv079+fpKQk1Go1b7/9NldffTXTpk3jyy+/ZM6cObz99tu89NJL3HfffURGRuLwODhYfASVqKKqpApBFIhoFonk8/HB0+8xYf5kKgvKMUX5Z6AqtQqdSUdttZNyUwUnKk8TYQhHuEgzrKioiGeffZYpU6bQq1cvHnjgAb744gsOHz7M3LlzefTRR1m1ahWVlZWkp6ezeNFc7hsMH325j8LDFv7YN44Zy44zrn8svdqH85clR3jT0p5BnSM4dPIkY1r/yPdnzGza8j1jx47l3nvvJTExkT59+jB79mwcDgctWrTgqaeeYurUqXTq1Inp06fTvHnzoPARo9HImjVr6N+/P3Fxcbz66qu88sordOnShaKiIp5//nm2bt3K66+/Xm89JY8H18FDOL7+DvfxU0geD4IgoNrwDR3joujaMgVBp0dCQjQY0TTvgCoiAurxtl0KmurcdI1Go8Q1y3G3lw0B3OpKdpz+P9w+F7+U/Ehe5XG69B1E+z6DMOwvwfdzNlJeOdYaLW8MnISAgKBTI0ZbEdsk4OoYw9GIXHaeeZ3i6hxUoppC+xl+yP4317e+G40qdOfeq1SqkB+/C5x3GfpyIS9xNwXdUOepliTpvEvGlwNRFJW9BqGmq9VqL/zgRaKpZEGn0zVJntvfkywIgtAksvBb4IpxewWXBI1GQ3R09DmdQBAEunXrxoYNG9iyZQsLFy5kz549zJo1C4AFCxYwdOhQBMEfM7RixQoWLFgAoMTRGY1GEhIS+PDDDxkyZAhDhgwhLy+PM2fO8PTTT6PT6fjpp5/Iz8/njjvuYPr06Xz77bfccccdtG3blh9//BGArl27kpCQwMaNG9FoNISFhZGbm8v+/fv54YcflJQrgfj22295+C8PU+woIeXqVlx7x0BunT0JjV6D5PVxZv8pTuz5BY1eg8flT2/i80l4XB5UWv9mgFNVZ7gqqh069cUnG7dYLDz22GOIosirr75KTU0NX375JbfccguDBw+mQ4cO5OXlsWrVKrqmuInV1nBdp0iWb8pjdJ9YEqI0TBmeREKsgZ1Hytmwu4RBXSMx6tXE+U6iK64EIpEkiS1btrBnzx4iIyMpKipi/fr1TJkyhcjISB588EGMRiPLli1T0s/IaXz69u1LQkIC+/fvV2Shc+fOyiDZqVMnTp48ydKlS3nxxRd/rZwk4auqovrLDTi37YSzhqp4Nrek5HLhOp2L+1TO2cclEARUWzOx3DwaTes0uEylKwhCvbHnlws572QojO9ACMC+vPVUOEsQBBAFEYenmm0nPmaffgtJaekkdmlNuK8ZFode8WQ6dR7K1KXkO49wquwjyor86YBUogpBAEkSyCrdS5uKI7SI6BSy8hqNxqB48VBAXg0KNW+Bc0IjQgGVShVyr6JMtz6de7nQaDRERUWFlK4g+DdYhtKrKKMpZEEQBMVjW1/IyqVCFMUmlYVQoylk4bfCFeP2Ci4J51MA+/fvZ+nSpcyePZuhQ4eSnJzMlClTlHyFBoNBMS4kSWLo0KF069YN8KctycnJwWq1MmnSJEaMGEGvXr344x//SEJCAhEREUybNo2oqChyc3Np06YNer2eVatWsWPHDp599lmeeeYZ4uLiAP9M/M4772TOnDlKXj5RFBk1ahTDhw+npqaG2traoI6ckZHB3/81m3XHN6Az6SjNKaaqqIKW3dNBFBE1Ij6PD1tcOJUFZcSlxeOpdVNrr8UUZsaHD7fXg8SlKcfIyMignargzz0oL2/LS8HL3n2HDd/t5sRRAx6vRNc0KwJg1KrQaUQQwKBTUVbp9tuQggCSD6HiF5D8G6xUKpXitTIYDEomi/Dw8KAsALW1tWzcuJFffvlF4dGwYcP47LPPyM7OZtCgQYiiSEVFBWazmVGjRnH11VfTo0ePIOPWW15O9fsfU3vwcJAcnfNv+f9n5ctbWEzFO8ux3PpHdB3bQxOcYBcqhHpQqHFX8EvxboV24DK8vbacQ4WZHC78Ho1Kh1qlPXtfxOt14fbV+k+FqyeGTgCcHgfHijNJCb8q5IZNUyDUdENpxPyn0JS8/T0ZNL+nsv7e8HuThfPhv3eUuIL/arhcLoqLi88ZHGJjY1m/fj0bNmzgxIkTbN++HZvNphhnZ86c4dChQxw6dIgzZ84QERFBeno66enpREVFUVtbq8TcRkZGctddd/Haa69hNBqJioqisLAQvV7Pv/71L6qrq/nHP/7Bjh076N27N1dddZWSsLqqqoqamho6dOiAWq3mp59+orKykquuuoqTJ0+i1+v5/vvv+frrrwF/DFNBQQF6vZ4WrVKJbB6NJcqGy+5k26pvyf8lj/xjuRQeyyM2LYHkjs05tuMw5fllHN1+iNi0eISzR2n5wxEuXTnI8ZuyQR4WFqYc+LBnzx5mzpyJUeXglj4xLH60A8/dnkrHFH+Kr6JKF6XVbvBBWZWbxGj9r85OQQCfB8FboywXyonlCwoKSE1Nrbc8JpOJF154gVWrVrFq1Sqio6Pp1q0bx44d4/PPP2fIkCGUlJTw1FNPsXXrVkU+AuPsfE4nNRu34Pr5yNmiNI4/giAgiCJSjRP7/32G+9Rpxei9FEiSP2m/nEA/VJAkf5J4+SCQEFGlpCaHqtqycxzWgnB2d7PgV+FunwuHu/rsXxUurz/XriicmxbqV+qQX3mcGndFyEpcU1NDWVlZUA7WUKCyslKR1VBBkvxJ7OWE86GCz+ejtLRUSeYfSrpFRUUhp+t2uykpKQlpon1J8p/uV1ZWFvIJhJzKL5QI7L+hLG9TykJxcXHI6Xo8npDLwm+FK57bK7hkBB4XKSM6OpqXX36ZBQsW4Ha7iY6OZubMmcpyx1tvvaXEI/bq1Yu5c+cGva/RaIKyOkyaNInbb7+dgoICHnvsMebNm8c777zDtddeS0pKCrfffjvz5s1j9erVpKSkMGLECPLz85XjYC0WC/fddx+7du3C5/Nxyy23cPr0aR566CEiIiJ49tlnEQSBESNGsGDBAmbNmoU2XINaUOOVvMS3TSK9T1s2v/Elokrk6jG9iEuLxxZro+h0EV+88n/ojDr63jHg1zqo1FR7ocLrQwQsagGt2HhzV5KkoE11o0ePZvr06YiiyKZNm7jpppto1cHBrDklSAJsP1jO9RmRCEBppZfZ758go6WVbw+U8e5jHREFyC52sO77IlQC4KlCEARuuukmZsyYQceOHfniiy94+umnG932ycnJJCYmcvLkSdq0aUNFRQXXXHMNs2fP5scff2THjh3cfvvtcoVwHzmG8/s9lzxwCIKAt7AYx9ffoR4bg2AyXRId+PVYzFBCkiTlJKTQ0fRRWH0cj+RR0sudD0KdfzemFAJQWVtClbMUo+byNr7JkGU31Ai1sRxIN9S06/bfUKIpeNtUdJtSFprCsxjq/htItynkt6lk7P8HwxaupAK77HQnjaUTSloX805TpQK73JQjl8uPpuCh/HuNx8HSA6socpSc973z0fJJPq5PGcw7Ra1ZWuJBI8JNYWomJGjoF67GqBbOSb3yf//3f/Tt2xev10tmZiYjR44E4KOPPqJ///5YrVZ++ukndu3aRcuWLenXrx/q43M4sOVDdh2tpHmMngFdIikqczFhzk9MG51Cfnkt3VrZ6JDmDwHZuKuYGoeXDs3N5Oh70Oe2+TidTr766iuKioro2rUrXbp0oby8nO+++47hw4ejUqn47LPPyMjICJIduez79u2jsrKSvn37KsZdZmYmhw4dIikpieuuuw6dTofP4aDy3ZW4Dh72e2EvVRYkCbRarJNuR9e+bVD87X9KRppapgP/7fHW8vmhf3Gk+Idz0v2EokwAgiAypPU9tIvte/a66fTeb83by6lHY/79n6hHU30bzl1N+T3W43w6/bcaU5qCh/+NZWroviRdSQV2BVfwXwG9SkfbqNbkn96KSmh8ChsJiQidBZeYwNJcDzh9uIHVpbWsPlHLkCQtr7bR09oU3O1GjRrlf1+SFMMWYMyYMUqn7tKlC507dw5QBiIdWlrp0NJ6jkv46tZWIiODN7Ndf3WU4s5LTU5Ewh9ne+ONNwYpkPDw8KAy1E0JFYhOnTopign8mxx69+5Nr169gt7x5Bf4wwkuUjmdA0FAcjpxHT2Gtk1rhCbKevDfA8Efux16J1XAF67gCq7gCv7/w5WY2yu4JMj58EK93FJdXU1paWmQ0RQKVFZWUl5e3qjyioJIt5hORBuiGl0OSZKQfBLd4jJYVWACx9nlOAEQBUDgy9Mu2mRWk1nmboiUkhvR5XKd/yHbVSAGG95GvYobe8Vi0DVgkKtUEBa63fFwYVlwZ51AsjsuypAqcTgY/sEKhn+wghvWLOOPH6/h+5wzSID7+El8jYy/TEhIYO3atQA4nU4mTJjA+vXrzxsLuGDBAnbu3HleetXV1UyZMkWJ1fZ4PMycOZPrr7+efv36sWLFiqDn33//fR555JHGVbpeNP3CmhDCb9jtdkpLS0OuF8rLy6msrAwpTUmSKC0tDXksrxwP6XQ6Q063sLAw5HTdbjfFxcUhj7m12+2UlJSEXJc3lSyUlZVRVVUV0vLKsuBwOEJGU6ZbUFDQJPHXoZaF3wpXjNsr+K9CqBVhXdqNWdoQBAGL1syIloOI0Ichnf3vvHTx0706vhMnve15+/RZxRD4KeHsX6WP2w86yHFe5uBv7QSmKP9S/VmYzGqmjkrGaDqPR1OSwBgF1qsu79sXCclu93/7Ij23Vp2OWf0GsmrkzdzeriOzMrdS7fEg2WugkcpXo9Hw+uuvU1ZWBvgN8YYMr2+++ea8A9GxY8d46KGH+OqrrxQamZmZ7N69W0l7tnjxYkpLS3G5XMybN4+XXnqJ8vLyi6q3AkHAoLU2uk+4a72snbuTeXd/wT+nfsXiv2ymNK+aPRtPMmfiOv459Stee3A9mZ/9gsd99nQjQYVW7Y9f3rZtG927d2fEiBEMHjyYhx9++KLLvmfPHoYOHUpubi7gP5hk6NCh533e5/Px3HPPNWhgZmVlcf/99ysGjcfjoU+fPgwfPpyRI0fywgsvIEkS33//PaNHj2bIkCE888wzSuq6hnCxS52NgSRJTarHmgKXsux7IQQuOV9B6NFU/P3/pc2uGLdXcEnQarXExMSEPIm0xWIhIiIi5IrWarUSHh7eaLqiIJJiTWZE6mCameIREPFJPr+ZKwX/GdQ6usd3waPvxYSDPvA0sJQsCJws8bLwlAuvr34lolKpiI2NbTgBuj4OEkeBSt04554EqNWQeCPoYhvxQuNxQVkQhEsKSRAFAbNWS4TBQEZcPAXVVbi8XnJLSnjm+ee57bbbmDdvHk6nk+LiYv76179y66238vDDDyvGVatWrYiKimL9+vUKXbPZjMVi4b333mP8+PE89NBDHD58mO3bt7N3717mzp3LiRMnzilPVlYWN910Ex07dlR+2759O927dycpKYlOnToRFRXFL7/8QmVlJRqNhsmTJ190vX+tv4p4a2tF5hoDR7WL625ry21P9mTMtKuxRhlxOTy06BjNbU/2ZPi9GWz94DAluX5jUq82EWGMRxAEnE4nMTExvPHGGyxYsIC8vDzeeOONi/bCHjlyhA8++EDZuJeXl3feZyVJYvny5efdeLRz507uv/9+Dh8+jMFgAPwZVywWCwsWLOCNN97g/vvvx+Fw8NRTTzFx4kQWLlzIiRMnGjwhD/zGQXh4OGaz+aLqdyHIOUjrO+TmciCKIjExMSGnK+csD+UpYoIgKBluQq3Lw8LClLjNUEGWBYvFEtLyynluZdkNJd2mlIWmOujmP4krxu0VXBICjbumoBtq1FdeSZJweSWKnT4KHf6/SpeE1+f304qCSGpYCjenj2RgUm+aWxKxaMyYNEZMGiNRhgjaR7WhZ7NhHPT2YMyPEjh8DQcyCoBPYlaOi/za+o2GRvFWUEHcHyChnz/v69mTVusniP+ZhOsgbgRSiLt9o8p7CW3q9no5UVHOz8WFLP1pLxlxCZg0GpZkbsMWH8+MGTPYs2cPX375JR9++CEFBQVMnz4ds9nMhg0bAL+hMXHiRD788EPsdjsWiwVJktizZw+ffPIJjz/+OL169eLpp58mIyOD9u3bM2XKFJKSks4pz5AhQxg2bFjQpCM7O5vmzZsD/pRpRqORgoICoqKiePDBB5Wcy5cCAYFYUwv0qsYnwhcEgfBYE9HJViITLag1/rY22XREJ1uJbxGGRq/27wxHItKYgFkXqbyv0+lISEggPT2dvn37cvDgQbxeL9999x0PPfQQjz32GAcPHgTg8OHDPProo9x9990sX75cOSb7hhtuYP369Zw5cyaobDU1Nbz66qvce++9vPnmm1RVVbF06VKKi4uZP39+vd7bLVu2MG7cOGJiYhT5OnToEPHx8TidTrxeLzabDa1Wy3PPPcfIkSNJTU3lmmuu4fjx4w3yqql0WCDt/2W6v8ey/l7K21R0m5IP/2n8/s3zK/hN4Ha7KS8vD/nM3G634/F4CAsLCynd6upqPB4PNpvN76XySBwo9bD2hIuN+R7cZ/tyc6PAqCQtNyRrSTSJCIJAmM5Gn8QeXBOfQamjHB9ear0SWQ4Tu6p0jD3ihjL32fjaRhRGEKDKy8FqLwn6c1/w+XyUlJQQFhbW8NGgajOk/tnvxT21Ftyu+o1crQ6Sx+CO/SMV5U7CwvQh9dLIshAZGVkvXUGnO3uIxMWFJlTW1rJk3x6OlhQTb7GyZOhI9CoVPxTmM9zrZf/+/ZhMJnbs2MF1113He++9x/bt23nwwQeDTu/JyMjgs88+Y+PGjZjNZux2Ozt37kSSJI4ePUp5eTn79+9Hr9ej1WqxWCyUlJSwevVqHA4H4eHhTJ48uV7PtNvtRq32n0xXUVFBbW1tSAcGqyGGKGM8udUnGxWz7PX42LLyZyzheqKTrPQe7T82+fD3udgrainLt9O8XRSR8RZERJrZ2qANOH5Xzl9dXFzMpk2b6NevH8XFxbz00ks88MADOBwOHnjgATZt2sTTTz9Nv3796Ny5M3PmzKFLly643W5iY2Np3749H374IWPHjlU8o2+//TZnzpxh8uTJvPXWW2i1WkaPHs3zzz/PhAkT6j3N6oknnuDYsWMsX76cmpoaJElSThicOXMmeXl5/PnPf2b06NH069cPgJKSEjZu3Mi0adMuyK/y8nK0Wm1IT9Lyer2Ul5djNpvR6S7+lMKG6JaUlGCz2UJK1+12U1FRoRzeEgpIkj/Prdx/QqnL5Ry3ofbelpeXo9FoMF1GmsG68Pl8lJeXYzQaQ+pllWN5rVZrSOl6PB4qKioICwv73Xtvr3hur+CS4PP5qK6uDvkMz+VyhTypukxX3ohR45aYv9/BNV9UMWd/LXtKfOwv8/+tO+Ph7m0Oen1RyY9Fbv8JT5w9c1ulI84UQ6I5gRohjsG74emfHFDu8fekxupvAZCgvIF9ZVVVVY3KESlprND8T5DxKiQNBlMkGMz+P1MEJA2CjPnQ/G7ckr5J2szr9TYYM6lJSUY0XPxgHGk0MvPaAXx+y3jKnA7OVFaAJOHx+cgtKCArK4vU1FRuuOEGhgwZwpw5c9i7dy9Dhgzh888/V+io1WomTZrEJ598gtvtxuVyKQc5ZGVlUV5ezn333Rf0bUEQzvmrDwkJCUoIRGlpKVVVVZflra0LncpAp4TrUQmqRrWbIAo0ax1BWtc4EtPDEVX+cofHmmjVNY72fZpxYn8hRbmVHN9TTubnWSxZskQ5nW7//v0MGzaMbt26kZyczNSpUzlw4AAulwudTodWq6WiooLc3FyioqLYtWsXFouFdevW0a5dO7xeL16vlzvuuIONGzdSWFionEi4efNmUlNTqaqqIjExkczMTGUQjYiI4NChQyxZsoQlS5aQmZkZVC+fz4fL5UKSJK677jrWrl3LypUrmTlzJv/85z+VwzOqq6u599576dSpE3369Lkgv+RTCkONmpqaJtmUI0/SQ4mm0uVut7tJdLnT6WySNnM4HCGnK2+s+73IgtfrDfmmut8KV4zb/yG43W5at25NSkoKrVq1onfv3qxcufKSaOl0OlJSUi4Yc/vSSy/Rr18/RWl89tlnTJgw4bzPO51OZs+eXa8xUVpaytSpU+nevTtdu3bl888/x+fzceTIEUaNGkW/fv0YOnQo2dnZyjsFBQX0798fu91ObGwsTo/ArD12ntzjBC+gEs7d+CXCmQqJjM12dha4611R98oeUjH0G1JEUSQ1NbXxM3JBBEtbaP1X6PE+Uq9PoNf/QY8PoPWTYGoNgoher6d58+Yhn5Hr9foGZUGdEI8qIf6SFWaU0cQ9nbry8q4dOFQCzZKTGTx4MI8//jgRERHY7XY++ugjamtrWbBgAc8995wSb+lwOPB4PFx11VWEh4ezadMmwsPD6dixIy1atOCRRx5h7NixZGVlBX0zJiaGBx98kCeeeIJ77rmnwXRo+/btw+124/V6sdvtpKSkXFI9z4dW0T1IDmvbqNBqURRo1S2Ozv2TadUlDpXa3yaxKTY6929Orxtb0bpbPCf2lGCtTSbneBGHDh1SjJCMjAwyMzNZuXIl33zzDV6vF5/PR35+Pp999hlbtmxh0KBBGI1GXn75Zfr06cNf/vIXRo4cSX5+vuL9TklJYcCAAXz66adK2bxeL9u2bWPdunWUlZUxcODAoLKXl5crpxcWFhYqvwuCgFarVVZzWrRoofA4KSkJrVZLVVUVbrebSZMm0b59e5555plGeTcTEhIIDw9vBGcbD1EUSUpKCqkHUKabkpISUi8z+GPmQ60XBEHAarXSrFmzkMfcRkdHExkZeeEHLxLx8fEh3+8hy0Ko47pFUaRkNLbAAAAgAElEQVRFixYhlwWdTtckY8RvgSvG7f8YJEliy5YtfP/997z00kvMnz+fb7755qLpXMijFYiTJ08GedIaMnKKi4vZv39/vfc+//xz7HY769evZ+HChcyZM4eioiLmz5/P0KFD+eyzz7juuuuUTTC7du3izjvv5NixY0qZPzjuZObPLrkS56nc2b9qiT9/X0N+zbmxsVoRuNSV/bPV15zv8xfB2zov+g3doL9fN3NdMt0LfrZhuoLZjP7qDP+GtkswcEVBYEx6O06Vl7FPI/LAk39l0aJFTJo0iVWrVtGlSxeaN2/O/Pnzueuuu1i6dCk33ngj4DeYXC4XGo2GO+64g4KCAgRBYODAgfh8PiZOnMjUqVPp1MmfHq1Tp04899xz/Pzzz40q28CBA7Hb7UyYMIFp06Zx4403BoVEXC4EQUCrNtAn5VaijPENZu1oDCSfRGm+nQ5JPZj+2FzmzvX/tWrVSvmeKIoMGDCAxMREli9fjs1mIzU1lenTp/PMM88giv6J0rvvvsvo0aP56KOPCAsLY/v27QiCQG1tLT6fj9GjR7N582aKi4sBiIqKYsyYMcydO5dBgwadowd69+6tlCcw17JcLkEQ8Hg8PP7443z11VeAP+bZbrej1+uZOXMmcXFxPProo42aGP5W/eF/jW6o8Xvkwf86H34L/P7N8ytoFAIHEpvNRnh4OL169WLgwIFs2rSJa6+9lrfffpuNGzditVqZOnUqbdu25f7772fo0KGsW7cOl8vFjBkziIuLY+7cuezevZvo6Ggee+wx0tPT2bx5M8uWLUMQBO68804lBu6WW27hrbfe4g9/+INSFtnjOn/+fCoqKhg8eDDjxo1jyZIlHD58mL///e889dRTyvPyRpXBgwdjtVpp06YNdrudoqIisrOzefDBBzGZTPTr149//OMfOBwOzpw5w4MPPsjs2bNxOp2U1rh5L8vld7teqO+eNXB3Ffv4NtfFLWm6oMMOEnXQI0xFZp6nYVr2KnhmOJjDQK2FxFYw6A5Ib0e6+VfrWN6RLggCPp+PyspKTCaTMoOWeSbHtMo8CSyTfP3kk09is9l44oknEASBZcuW4XQ6ufPOO3E4HMoysSwTp0+fZuPGjUyaNAlRFJUUM4Eys3XrVjZs2KAcA3zs2DFeeeUVioqK6Nu3L+PHj8dmsyGKIqdPn+a5555j6dKliqLUdmiH7tARavcdvADj/bCdTQMWb/KX1aTRsGbcJGJvvomYjC606tyZkpISoqOjiYuLIz4+nkWLFlFSUoLFYiEpKQlJknj//feJjfVnh+jatSvbtm1TMju8+uqrnDlzBoPBQHJyMpIkMW3aNEaPHk2zZs2CeCrzxOfz8fLLLxMVFQX4D8J4/fXXyc3NxePxBHlt5SX0jIyMBttMkiSlXeWjRWUvuM/no6KigghzM/qljmNz1jLKHIWIFzn47P/2DMVnqnDXeoi1tmD86HuptXvQmL1Bg5lcR6PRyLRp03jsscf44osviI+P57HHHsPlcmGxWDAYDFRXVzNt2jTi4+Ox2+107NiR7OxsSkpKcLvdpKSk0Lt3bxYvXowkSUyePJnZs2ezfft2fvnlFx5//HF/W9tsvPrqqzz88MPKhj8IPrHI4/HgdDqJjIxk4sSJPP/882zevJnjx48zZcoU7HY78+fP5+abb+bFF19EEAT69u3L0KFD621H+bq6uhq1Wo1Wqz1H9uvyRL4f2E5121Xuv7LBrdFoGnw/8LrufZkH8vuCIATpBfmbgX21bpkboy/ksCKz2YxKpQr6ZmN5UrcMkiRRW1uL2+1WPNh1y9gQD+vyIPAZOVWf0Wg8h++BfaehOte9liSJ6upqVCqVktlAvt8QvYbaVZL8xw/X1NQoslBfuzbEw4bKX1FRgdFoRK1WB+kLGYE0AuvQULt6PB6qq6uxWCyoVKqL4mFD178FVDNmzJjxm3z5vwiBsxT53/X9dr53GksnlLQa+052djZbtmxh5MiRmEwmXnvtNYYPH47NZkOj0XDq1Cm+/fZbWrduzcKFC3nuuedwuVyK92vhwoU4HA6mTp3K0aNHycnJobKykhUrVvDCCy/g8/nYsWMHcXFx/O1vf+Opp56idevWzJgxgz/84Q/s27eP8PBwcnNzsdlshIWFKfk0Z82axcCBAxk5ciRz5syhU6dOtGjRgszMTGbMmEFERATg78SyISNvCJozZw4xMTH07NmTdevWMXDgQKKjo/H5fKxYsYKePXvSu3dvYmJiWLNmDVd3zaDKGMtTh72/puo6n4EQ+LtPIloP3a1ORCQ0Go1fYZWXIml0fFnoPfedQDq1Tvj0Nbj/n9ChL1QUwVdvM3TwYO5pFYZG9CvCkpISampqMJlM+Hw+Tp48icvlwmq1IgiCkhxfNkyrq6spLy9XBg673U5eXh4Wi4Xly5fz73//m6uvvpqEhAS2bNlCfn4+aWlpinHidrs5ffo0ZrOZzMxMPv74Y3r37o1Op0OtVispnFQqFevXr+fxxx/H6/UyfPhwAP7yl7/QqlUrbr31Vl5//XU6duyIWq1m//79/O1vf+Obb75h7NixSJKETqdD0OlQJ8bjPn0GX0WlMh84n0yLgoBNp0ctikiAoFYTO2YEuqs6otXpsNls6PV67Ha7sklQVvIJCQmoVCqcTic+n0/hYW1tLS6XC61Wi8vlQq/X4/V6adasGRqNRklgnnJ26dflcpGdna0MTG63m5ycHGJjYxW+5+TkYLPZSEhIAKCwsBCtVoter1c2BgZu+igoKFB4IkmSkpTfZDIhSRL5+fm4XC5lubGiooLs7GwiwiOItCQQZUqitCYHu6vcP2gE6AZBFIhubiU60YJaq1L4aQk3kNQ2kuZtYxg5+CYeve9ZmsU3VzZT5efnY7VaCQsLo3379ng8HgwGA6mpqaSmpqLT6Rg2bBjNmjWjc+fO9OvXD4vFQs+ePUlJSUGtVjN+/HjS09PRaDRYrVYlrKZDhw60b9+elJQUUlNT6dKlC6IocuONN9KjRw9EUaRt27ZERUWRlpaGSqWitLQUp9Op8KC6upq4uDhSU1OVjBTt27cnLS2NUaNGkZGRQWVlJTfccAMdOnQgKioKq9VKx44diYqKorq6moKCAkUOampqKC4uxmQyUVFRgdPppKysDJPJpMhNdnY2VqsVURTxeDwUFBSg1/s3YsrXBoNBuX/69GkMBgMajQaPx8Px48fR6XQYDAZ8Ph95eXmKEe3z+cjJyUEURSXzRnFxMV6v97xyUlRUhN1ux+FwoNfrqaqqwm63K3JYVlZGTU2NYpiVlZVRVlambLqqrq5W6hioT0wmEx6Ph5ycHKqrq5U619bWUlRUhMFgQKVS4XK5yMvLw2w2I4oiTqeT3NxcDAaDoi/y8/MV/eHz+Thx4gRerxeLxRJUZ7lO+fn5AMp1Xl6ewhP5kAK3243BYEAQBIqLi5WYea/Xi8PhUPqxrEOrqqowm80IgkBFRQUVFRUKjyorKykrK1N0aEVFhSIHoihSXFxMaWmpMkl3Op0UFBQo6cHkOhuNRkUOAnngdrvJy8tTeOZ2u5WVBaPRiCAIQXLi9XopLCxEo9Eohm9eXh4+nw+DwYAkSWRnZyMIgsIj+YAFnU5HcXExlZWVeDwexdCX9Yn8vfLy8nPkRB435MlScXGxUsfKykpycnKIiIhApVJht9spKChQ2t1ut5Obm6v0JfkAn0A5kXWmWq2mtraWvLw8Tpw4wc8//8yYMWOCwoXOp/8ba/M0hCue2/8B1F1msFqtQR5BjUbDgQMH8Hg8/PTTT5SVlZGbm0tJSQkAt912G+3ataNjx44cPXqUwYMHY7fb+e6777jpppuUzSDZ2dkcOXJEMbTkJOrh4eE88sgjzJw5k+nTpyuGwy+//EJGRgY1NTWIosjhw4fp2LEjRqOR+Ph4NmzYwLZt23A6nQwYMICEhAQ8Hg+rV69m69atvPfee7jdbkRRVDqn7AWTFZRc/+iYWHIlHbjc/jjZi5hNFjklBI0OjcbPM1EU0RmM3GTWsTjPy4HCCwT1a/XQoqP/dLDkdnD4e0aV7kVLMp988ikbN24kLS2NW265hdLSUhYvXkxKSgr//ve/GTx4MGPHjsXlcrFs2TJOnjxJhw4duPXWWzEYDHzxxResX7+ehIQExo8fjyiK2Gw2evbsyccff0yPHj0A/6aqqKgocnNzmTFjBjU1Ndx8882Eh4fzwQcfKCm1Jk6cqNTRZrNRUlJCZmYmEyZMYM+ePWg0GiXDwKhRo9BqtSxatIjY2FgEQeCzzz5jyJAhHD16VEnRJEMVHY3ltpuxf/o5rp+P/NoG9SktSQLJvwgvWEyYh9+ApmsX3AHtptfrCQsLU65lw0qWdbVaHXSt0WgICwtTvBIul4uwsDDFuyXLTeB1eHi4krFCpVKds4vYZrOhVqsRBEExeuU6C4KgTCJlWCwW5VoQBGUgDrwfmHHCYDDQsmVL/wRBEEgKa8+wNvezJ+dzDhXuoNbjOMsuCUGA+JQwBEW8/fwLizHRPCmJbs2G0Tb2WvCoUGvUJCYm4vV6lVjWiIgIbDYbdrsdlUqFWq3m+uuvV7x6cjou2dupVqvp1q0bbdq0UYyqxMREBg8erAxg0dHRDB06VOFJeno6zZo1QxRFRFFEkiS6dOmCRqNRDLu6cYQyDfl3s9nM1VdfrVzLm93k0AqHw4Hb7VbiHHU63XnlJDY2Frfbjd1uV/SFvMFNbhdZv8jtIgiCYgTK9yMiIhS5UKlUpKSkKDyQn68rF4GDvGxYyzCbzQq9QDkJ5E2gl042bgLlJlBOZfmRIWcFkf+dkpKC0+kM4oHFYlGu5b5Rty/J3xBFEavVGsSj+Ph4xXCUJOmcOlut1qC+UJdHFoslqA5Go1EJiZEkCafTGVSnujyQJ6WB14E81uv1igdTloW6PAiss1qtDsooIevIutd19YfJZFKM2UA5keUqsJ3r8kSexMvXspyIokizZs2C5BY4R5/IvKorF/IzOp0u6H2j0RgUc6vVaoN4oNVqg7JfqFSqoL5Ql0d1dfB/Eldibv8HELhsAr8at5Ikcfr0adq1a4coijgcDkpLSzGbzdx9993K4BAZGRmkdDp27MjKlSuprq7m5ptvZvXq1eh0OiWNkMPh4P7771eWbo1GI927dyciIoJ9+/YpqXe8Xi9lZWVUVlYyYsQIMjIylCUUk8mEwWAgLCyMuLg4oqOjEQSBr776itdff53Vq1eTlJSkKAOv14soihQUFBAZGRmUlFwQBExmU+OzGdQDrVanKB25fIkGNa+3NYDxAnlmCbhnNJDSKo3yM8f5YfduFi5cyLhx48jPz+fNN9/E4XAwb9488vLyuPvuu/nnP//J4cOH+fjjj9m1axd33303mzZt4vPPP+fAgQO88cYbjB07FofDwaJFi5QB749//CN79uxRPA+yN2T69Om0adOGIUOGKKmSBg0aRPv27Rk9evQ5ijc5OZkXX3yRtLQ0ZbDIzs6mtLSUZ599lqlTp/K3v/0No9GI2Wzm73//OwMHDlSUmuxVARBEEU1CPNbxYzENvR4x7Gwqn7OGrGLQ+nx+Y02rRde+DbY7x6Pv1QO1Xh9ET3fWgxs44AYqd41GEzRAywOyPNhqNJpzBqPAAbquMSsP8IEDZuBEUTZC5MFIHvADB6fA9FDytWyw1L2W6xiYAF5AIMKYQP+WkxjV/hE6JwwkwhCPVqVHEH4dqFWiGqPGQqI1jX4txnLTVU/SKfEGdGojOr0uyGipOyEIHLDVanW9RkzdAT1QPwQO0KIoYjabg+6bzWalTvLzgddGozGozrK3Vl7uNJlMiudJ5lHg5i29Xh804MoDdKAcBE6G5TrL7S7XOZBHgcZtfdeBaftk/VC3L9U1WmSDU65zYJxwXTmR6ywbKgaDIUhu5GuZnsFgUIxXmQeBfUO+DuRJXSOlbh0DeVhXTuoaavJ14ASgrpzUraOspwKvA+WgrlzI13KdZB0kX+v1ekVOZO9n3ftynWWniGyMB/Kkbt9oSF/UvZZ5JI9rdfuS2WwOkpu6+iJwQiDLQaCcGI3GoHaX9UdgHQP1iSwXsk0g8yBQZwY+X7fvyBs7G5oEBfYFmWehPuypMbjiuf0fxr59+1i3bh0LFiygtraWuLg4pkyZQm5uLq+99tp5c6Fu3bqV06dP8/DDDzNo0CDmzZtH7969iY2NZfLkyWi1WqZOnaqkKZFjmR566CEmTZpERkYGJpOJiIgIRowYQefOnXn22WeVPJayAu/Tpw99+vRRBrUffviB559/njVr1ijplsLCwjCbzRw6dIi0tDS2bdumeLoC4XK5MRm9folvIAVXfbBqhHpngZIk0VlXy9edtVx3yA1lvoYNXL3Im+307Nmgoaamhk8//ZSuXbsiCALp6emsXLmSe+65B7VazcSJE7FYLCQmJio5M3Nzc6msrGTt2rWoVCpmz55NamoqgiDQqVMnFixYoMSjxcXFcfPNN7NgwQIyMjIoLy/n+PHjnD59mtTUVMCvLE+dOkVYWBgmkwmr1cp3332nZJu47rrr6k1rVVVVRVZWFvPnz6d9+/aMHTuWTz/9lFGjRjVqhi6YTJiGDkbf8xpqfz6M5+gvuHPzEeT4MKsFbWoKYnorhGaJaAIM2suFHLPn9XpDuoM50KMZytOIJElS4iwDjWqVqCYprD1JYe1xe2spd+Rjd1UgSf5DRFSCBpshBos2QjF6AyHHWdb1FF8u5NCPuh6ky4XdblcG91BCbrNQ5gqVJImqqipl+TmUdOuThctFU8iCJEm4XC5qa2t/d7IQ6v5bXV19jhc5FHTlmNsGT7K8SDSVXvgtcMW4/R/E5MmTqaysxG6386c//YmePXsiSRLvvfced9xxB1VVVYwZM+a8Cr9169bMnj2bNWvWIAgCo0ePJj09neHDhzN27Fi8Xi/du3fHZrMBKLulu3XrRosWLaipqSEsLIzJkyfzxBNPKJ6gli1bUlhYiCAI3HfffSxcuDDou2+88QalpaU899xzgD/cYcaMGUyZMoXp06ezevVqcnJyePvtt8+ZKTocDpIj3PQJF9la4G28F1cl0DdOg0l77guSJGG319BZryO/p4X5J5zMynNDpQ/kFUMB1CLc1ELLM61NpJsEtpQU0euabvz000/s3r2bmpoafD6fsgEvLCxMGRxljBo1Co1Gw8KFC5kxYwbz5s3D4/GwZ88efD4fPp+PwYMHBy3jjR07lptuuom0tDTAv1mguLiYVatWAf7MAHI8NPiXOQ8dOsTevXuV+/UZt9HR0bRs2ZLmzZuj0WhIT0/n2LFjF71xQLTZMPTsDtd0w+f1/hqHK4qgUlFZVUVtVRXRIT5i0ul0KhtdQmk019TUnONpDQXdyspKdDrdeQdHtagl2tycaFAmgnU3ddSFvHEk1CmK5BzCoTY85OXiUNO12+0YDIaQJ9iXDaVQGzRVVVUNysKlQDZo6oZGXC5qa2sVuqGEHI4QaroOhyMoPCYUkGVBpVI1mSyEEk0lC78Frhi3/0NQq9WsX78el8ulLIFERUUphuC//vUv8vLy0Gq1xMfHI4oi7777LjExMQDcfPPN1NbWEhUVxcqVKykqKsJoNBIbG4tareaRRx7h1ltvxefzkZiYiE6nY/Lkycr3RVFk6dKluN1uBEFg2LBhZGRk4HA4iI2NxWKxYLVaWbNmTb3Jv6dPn86jjz56zjJR7969WbVqFVVVVURGRiob0cC/bPzOO+8QFxeHSqXmjpa1bC12gO8ChtjZMINOkQIDm2nr3Z0unxsOYBVF/tbawJ9b6Dlc7aHGIwECNZVuntCLLO5gwKRTsfP77zl58iRdunQhPz+f/v378/TTT/Pzzz+zfft2wO9RrZsfctu2bbRo0YJly5bx2muvsWrVKlq2bEnv3r2ZNWsWWVlZrF+/XtnI4Ha7sdls3HjjjSxdupThw4djsVhISUnhhRdewGKxMGvWrKAlKI1Gwz333BPMhnoMoxYtWmAwGCgsLMRqtZKTk0OfPn0uaelJEARQqxFVqnMMTYvFEvKz3gVBCHleU/DLQihTgAXSbYpcoVqtloSEhJDTtVgsIffUAUF9OpSIiYkJeVlVKhXx8fEhpytvlgz1Eq9Go1H0fagghxX8nmRBPm1TnhyGAiqViri4uCaRhcTExJDSBILG/v/H3nmHSVFlf/9TnSf15MRkQBiyoKAgKIjCmhCXxYQBUYwosuawLMviLoqri0j4LUFXUVFXEAEFXAwoICBJQMAhzTA59EzPTE/Hqnr/aKvsnsQA1SLvzvd53KW6pk7de+vcU6fO/d5zznW0O7f/QxAEgZycHPU4MLoDfm5bp06dgiI+Skol8G+eUf4dGxur8h0VY2A2m5vIVwyRcp3CnQX/xE9PTw9qo06nUzcnNYaSnqnxOVmWSU1NJTU1Neg35R4ZGRnq7zfkmNhR4eP/Dv9cqrY5m6PwZ8Ph7/3C6BDR8kRX+aSAUSeQYhZIMZvUdlabjNRU25j98ksUFhaSl5fHmDFjyM3NxWq1Mn78eCRJ4ocffuC6665rIleB1+vlueeeY8iQIezcuZOxY8fSr18/nnzySaZOncqhQ4e44oorMBgM1NXVYbfb0el03HLLLcycOROv16vuVn/mmWeIiopSsyXExcWRl5fH8uXLGTNmTIt9DXwOv/vd73jmmWfo1q0bNpuNoUOHnvS6U8XZ2IRwJghVe0MhV9XbEMnWWm4oxyAUCJXsUDgdyvM6V8b4XJEZatmh1LFzzfY2h/ZUYPz/nwps48aNjBo1KmiDwZn2QxRFdbm0tRflqfZDKa1oNBpb/LvTGUMlbUx0uJn+SQYa3BLf1zTDkZXx794PF1hzSTgjM8z+ImYt3N/hcCBJUrNLToIgoNfryc3NJTExkdzcXO644w6uuuoqlXg/ZMgQBEFQc/haLBY1NZLBYCAnJ4fc3Fx69OhB3759EQSBa665hmHDhpGQkMBFF12EXq9n6NChXHvttRgMBjIyMujatStRUVFEREQwaNAgLrjgAuLj4+nZsyeJiYmkpaXxwAMPEBUVRXJyMj169MBqtQZ9CAT2IyoqitzcXDVydMEFF5CTk0N8fLzKE1Z0wWg00r17d5Xb29ozPJkuuFwuTCbTKc+jls4ru6xb07HTmWfg5+y1pgttlRP4b4WWYDAYgjZItkVWa/1QaAmNx/ZM55nb7W72mZ3J2AqCP3WVKIpnPLaBvyl8SEmSgnaQt6W9rclXlqJ1Op2aN7atbWrtN0UX9Hq9prqglFw1Go1NnOfTfYZKnlun06m5LiiljduqC22RD03nrxZjG0pdsNvtQbrQ1ja11o+26kJrcpo7v2/fPvbt29eeCqwdv30o+e2UPIpaoa6uDqfTqTmfqq6uDrfbTXh4OCnhev5+UQTD0zws+snNWpuocmTTLDrGphoZ39VM70QjAi1XVJNlGZvN1mQXbyBMJhO///3v1b9XJqgiMycnR3UCZVnGZDJx+eWXk5eXR2ZmJgMHDlSv6dGjBz179gySk5WVRXZ2dtA9+/fvH2QIBg0aBPgdcZfLxWWXXaY6dso9hwwZ0upSXIcOHdRcrkqU/pJLLlE3aJ04cULdNRsREdGktOrpoK6uTs39e6qGrTXU1taquqAVZFmmurqasLAwTTm3SulbJRevVvB6vWoeUy03pDgcDnWji5acPeVFrnW50erq6iaZCs4UkiRRXl5OUlKSps9M0YW0tDRNn5nH41EpZlo+s4aGhqBc3FrBbrcjCEJIdCEU/OuKigoSEhI014WysjJSU1M11QWv10t5ebnmunA2IMhnq3zEbwSNHQ7lhd/4t5auaascLWWdyjXfffcdM2bMYNGiRUHL9mdyb+CM2qTF2Go5hsdqRVw+f7+SwwTiwvSnLUurNml9799CPwBEt4jP7UPAf43OoMdg0SPomy6Ltibn19aRX2MMz1Y/TtamM7n36bbpt9aP031G54q9gLbNqd96P05m91qT/1vuR6hs+q8xz2RZ5r333mPZsmUsXbpUDYgFngdOuU0nQ3vkth3/88ix/uLMKhOtHdpB9EjY8qop+qaU4u/KqDpaBzLIkkx4jJnEPvFkDksl5cJELDHmUzZi7WhHO9rRjnYEot25bcdpQRRFXC6XWoJSK3i9XiRJalJR50zhdruRZVlTubLs55UFltHUApIk4XK5mlSPOVOIohhUrlJLuW63W634o0CWZeqLG9j770McXXcCV41/E5/ML1/mnjovNSfqObK2gPiuMfS9txtpl6SgN/mzPiglSbV8ZoE6phV+DV3QcplQkqRmn9mZwuv1quVBtZTrdrsBQvbMtE7T5HK5MBqNmj4zWZZVDmtgyr8zRSh0QZZlfD6fqgta23IInS5oOX/PNV1oyZafizi3W9+OswaFm6N1pLOurg6bzaa5XKW2upZyZdnPuXU4HJrJVOSWlpbi8Xg0lev1etUa9lrLbawLkihRsd/GF09s4cf3j+C0uREEAUH3y85s9VgnIIky5ftsfPXsdva9eQh3rZu6ujqqq6s1bSuERsdkWVbruGsJRReUF7pWUDi3WuuCw+GgqqpK8/lrt9upq6vTVCb4eZZaPzOFZ+lyuTSXW15efs7oQkNDQ8h0oba2VlOZ4NeF+vp6TdsbSl0oKyvTXK7P56OiokItwHQuoz1y247TgtlsJiMjQ/OvO6UGvNZyY2NjT4u30xqUtGVaQ6fTkZWVpfkYmM1m0tLSQiI3PT1dlSvLMtV5dr597ntsR+xg8DuwJ4NOr8PT4OX7+T8iyzLdb+tCTIz2aWlCoQuCIIQsz20odMFkMgU9M61gtVqDynFqhfj4eE3lKQhVnttQzDMl57HWG31MJhNpaWmayhWEX/Lcnmu6EMgDPVOEUhcyMzM1191Q6MLZQrtz247TgiAIQalNtEKocuwp9cO1W94GUZRwuSFM720AACAASURBVCXqGjz4RL8xjDDriYgwYTScft5IZWz999EuiiAIQpADqqXcQF1wVrjYNmsPtqO1CIaf79dqXeJgWbIks+eNn4hICafzqGzN2qnID9ykoKVcvV6veZQqUBe0lhuKZUet55mCUI+t1rJDNX9DYXNDacshNGN7rswzCK0uhGoc/n/Y99Du3LbjtCBJEh6PR3M+lc/nQ5ZlTXlPilwlh6EW7a2pdbNldykHjlRTYXfj88oIgkxEmJGs1EgG9U2mc1YMBsOpOxCy7K/LrlVbFUiSpOaH1Jpz6/V6MZvNyDIUfFlM0Y4KBP3pO/ceh5cDHx6lw8AUIpK0LWcriiKyLGvKVQP/8i6gOX9T0QUtndFAXdBSrtbzTEGoxtbr9ao5SLWWq9frNR3bc00XRFFsMTfxmSBUuuDz+RAEQVO7EGpdCMx/rQUkScLr9WquC2cD53br23HW4Ha7KSwsRJIkTeXW1NRQXl6uuVybzaYZR/jHIzbmL9vPf7cUUVrlxOcVUd7jDqeX/UeqWbz8ECv+e5R6h/eU5YuiSEFBgeZ8KrfbTXFxsebcOo/HQ2FhIaIo4ix38tPK48jimY2zoBOo3F/Nia+K1d/ef/99tXjEDTfcQHFxcYvX//e//6Vnz55q9bbhw4dz7bXX4nK5qK6upqysrEVdqKiooG/fvlx88cX069ePSy+9lI0bN7aqOwofMpALGBMTw4cffgj4i4jcdNNNbNq0qUUZL730Et9//33Qb4ouOJ1OamtrGT9+PF999RXgf8k/++yzDBs2jMGDB7N06dKga99++20mT57c7L08Hg9FRUWa60JdXR0lJSWaz9/KykpsNpumMgHKy8ux2+2ayhRFkaKiomZLiJ+p3BMnTmguNxS6IMv+ghOh0IWqqqqQ6UJNTY2m0dBzURcKCwv/v+Dctju37TgtWCwWsrOzNf+6i4uLa1LzXpLB7hM57vZw3OWm0O3FI0mnZIQSEhLOuN67JMn8dKyGd1cfxmZ3YTAEbo76ZclbpxOQJJmtP5SzcsMxXO5TMxR6vZ6OHTtqWgwA/M8sKytL84ilogt6vR5bnp2a43Vt4ti2BkEQEH0SJVvL8Lr8Dt706dNZsGAB27ZtIz09ndmzZ7d4/dq1a3nggQd49tlnycvLIzExkWXLlmGxWIiPj2+iY42RkpLCokWL+Oqrr5g8eTLPP/889fX1rbY3NTVV5YyDn3/6f//3f23eFLdp06Ymm4UUXcjPz+fBBx/k66+/Dvr7Q4cO8f777zN37lyWLFlCdXU1brebv/3tb/zjH/9ocbOU2WwOiS7ExMSEhMubnJxMQkKCpjLBX5wkNjZWU5l6vZ6srCwiIyM1l5udna15UYRQ6kJGRobmS9xJSUkh0YXU1FTi4uI0bW8odSEnJyckupCdna15tP1soJ2W0I7Twq/FubX7RN6vqGFBuZ1dDS4/2VWv4/aYKO5NjeGiyHAMbWiDFlzAqhoXazYW0ODyohMEoGVZym32/FRFalI4Qwek0dZbh5JzG0q+KUDVfhueBt/P43PmsP1Ui6vSyYYNG+jbty/nn38+RqORRx55hLVr1wLwr3/9i88//xxBEJgyZQoA69atIzY2FpvNxu7du9mzZw9//etfmTZtGq+88gq7du2iU6dOTJo0qdmSwzqdjvDwcKxWK+effz6lpaV4vV4KCgp47bXXKCgo4IILLuDRRx+lurqaF198kcLCQpKSknj22WdJT0/nvPPOIzExkXXr1jF69GhVttfrZcmSJXz55ZfExcXx4IMPUlNTw549e3jxxRfJzMwkMzMzaGwLCwu56667VEdZlmU2b97MxRdfTFJSEuHh4cTGxnLkyBFycnJISEjggQceYPv27S0+s1AsOypyQ2EXQsEvDNV8COU8CwXnNrDNjeHz+di+fTs9evRQS7iLosiePXvIysoiPj6ew4cPc/ToUaKioujdu7fqdEmSRF5eHgUFBcTExNCzZ89WK4uJosi+ffvIzc3FbDbj8/nYu3cvFRUVdO/eXS3/3dy41tfXs337djweDzqdjs6dO5OdnY0oiuzatYvMzExSUlIAfznYpKQkdUNwa/0/E5yLHP9Q7Xv5tdEeuW3HaUEURRoaGjRfcvJ6vbhcLmRZptLrY2JeEfcdKmJXVS24vOD2QYOHt4sqGbK/gLcqavC0YYK73W411+3pwCdK7DlUSWFpPfo2OgWCICCKMlt2lWGva3v6HkmSaGho0HzJOFTPTBRFnE6nP/dilcsfatcAgk7A7fDia/Bx9OhRsrKy1IjCeeedx8MPPwzAJ598wjPPPMPQoUOZPXs2ffv2ZciQIdx4441MnjyZG2+8kX79+vHcc8+xevVqDh48yPTp04mPj2fevHnN3tvtdrN//362bdvGK6+8wqWXXkp4eDhz5swhIyODmTNncuDAAT777DM++ugjHA4H06ZNIy4uTo2u6vV6xo8fz/Lly3E4HKpjsH37dj7//HOmTp3KsGHDmDp1Kv3796d79+489NBDaplj+EUXLr/8coYPH672X5ZlioqKyMrKAiAiIgKLxUJ5eTkJCQnce++9rUa3fo35qyXcbrfmqfGUHKShkNvQ0KD50m6o5EqShNPpbFEXJEli7ty5rF69Wv2toqKCJ554gurqatauXcv999/PO++8w6xZs5g8eTJOpxOv18s777zDo48+yrJly5gxYwZPPfWUypltDJ/Px4cffsijjz6K3W5HlmVWrFjBtGnTWLVqFffccw/Hjh1rURcKCgqYOHEi//73v1m4cCG33XYb33//PQ0NDUyZMoWZM2eqfzt79mw2b96sHgfqgtYpAp1OZ8h0Qet3xMl04VxCu3PbjtOCy+XixIkTmr/EbDabP3+fJPH3ExV8WGLzR2t1ul/CoYLgP3Z5uedICV/WOE7ajpPxLE8Gt1vkSL69jXv+f4EgQHWtm8LSemTZHzG44447uP/++3nooYf4+OOPm3BrJUkiPz8fp9PZrMxdu3YxdepUNYqnGO/WDOj69espLi6mqKioyd999NFH3HPPPTzwwANMmjSJqqoq3G43b7zxBg8//DCzZ89uNa+k2+3mxIkTSJL08xe/tim2EPzGvKUluBUrVpCenk5UVBRFRUWYzWYsFgsRERFYrVbCw8Mxm81YrVY2bdqEz+dj3bp11NbWsnv3bvLy8pg2bRrTpk3j/fffx+fzYbfbefPNN7n99tvZt28fM2fOxGKxsG3bNurq6ti8eTM6nY7vv/+ezp07c+DAAZYvX87YsWO5+eab1bb169ePlJQUNmzYoLZ/9+7deL1eduzYQVFREfv27cNsNmM0GomMjKSiooIXX3yRadOmMWfOHPLz85vlX4uiGLSZ5FSiTwpnXuuXbm1tLcXFxZq+HGVZprKyMiQ5j8vKykLGudU6f67Cs2zJLpwuTqYLJpOJ66+/njVr1qiO6aFDh9Dr9WRkZPDEE0/w17/+lTfeeIMlS5ZQU1PD1q1bKSoq4sUXX+SFF15gyZIlLFq0iMOHD3PgwIEm9/B6vcybN49///vfquNaV1fHO++8w/PPP8+cOXPo0aMHy5Yta5V/nZKSwnvvvceHH37IpZdeyvr16wH/x9+3337LkSNHWhwHhXOrJRRdaI3SdLpyCwoKNOfchsounA20O7f/I1CcOlmW1f/achz4W+BxWFgYOTk56hLRmcpT/ktISKBDhw7saXDxSlHVLw5tcxAEcPl4uaQKu09qVp5yrMhVchieapvrHB7KbS70p8glFQQBryhTbvNHNsvKyjhx4gR33303I0eO5IUXXmDlypVB99Pr9XTq1Clo+S7wfElJCbNnz+aLL74A/C+GVatWqVkAmuvD008/jcfjITMzE6PRGHR+zZo1DBo0iLvvvpu77rqLiIgI3nrrLTZs2MDNN9/MTz/9xPz581scoyD+tZarWQFfEunp6eTn56uRiqqqKpYuXYokSTz22GM8/PDDrF+/Psipau65+nw+dedyQkICd955JyaTidjYWGJjY1VuXFJSEi+99BJffvklNpuNw4cPq9fX1tZis9no3bs3v/vd77jyyiuZNWsWNTU1TJgwQY1wybKMXq/nzjvv5JNPPlGjQkp0RHlBP/roo0Ft1uv1xMTEqG1qThcUjm9RURGyLONwOGhoaCApKanFuRV4rPCvA3Whtb9v63xWeJaBaaDOVL7yPOLj44PON77mZH1u7u8Vzu2ZtLHxscFgIDs7W43Un4oNbO5Y+Xcgz/J0bWxzYxTIxW9J5lVXXcX333+Pw+EPJHzzzTeMHDmSn376ifDwcPr06YMgCFitVubMmUP//v05cuQInTp1Ijc3F1mWSUxMZNGiRXTu3LlJmwRBoH///sybN0/da9DQ0IDD4SA1NRWA7t2788033xAfH09CQkKLz8HtdlNTU8P+/fvp3LkzsiwTHx/P2LFjmTt3rmojGo+Jwrlty5i19Vjh3EZFRZ2xXgUeGwwGOnbsqOrCydrY3Pnm9EbhXweuEGk5N35NtDu3/wOQAjZfiaJIcXGx+gUuSVJQNEAURQoLC4O+CMvKytRjWZbVaIeSrqu0tDQo+lFZWalG+mRZpqqqioqKiqDzyrEsy9TX11NRUaEaA1mvZ42tDrxi684tgAAbqus55PwlsuVyuYIilKIoUlZWpnKJfD4fpaWl6nmfz8eJEyfU6Jgsy5SUlARt7pEQEM8gGCVJMqLoT3MWFxdHly5dGDRoEDfffDNr1qyhurqaI0eOsHDhQl5//XUKCgooLy+nvr6e9957j7/97W8qxxRg8ODBvPnmm+o4S5JEUVERXq+X9evX89JLL7F27VokSWLdunWUlpby9ttv43A41DE4fvw4DoeDiooKBg4cSFpaGj179sRisbBs2TLGjRvHgAEDuO+++1i1apW6a1+5X3l5OQ0NDWr5UnutncjMcHSGU/Bw5ZYNoCzLRCaaMceZGTlyJBs3bmT//v3IsszHH3/MsmXL2LJlCz/99BNvvPEGY8eOVVNRgV8PAqP1LpeLqKgoOnfuzMMPP0zv3r3Zv38/HTp0YPLkyTz44IP07dtXvb/P58Pr9XLvvfcyffp0amtriY+P57LLLuORRx7BbDZz5MgR3nnnHRoaGpg1axYPPvig6tw2NDRQUFBAx44dsVqtfPHFF9hsNqKiosjMzOT+++9n8ODB7NmzR71nVVUVer2e++67j8mTJzNq1Cjq6urUiKwkSepcO//889m0aRPFxcWcOHGCqqoqkpKSgvrsdDqDdsI7HA7VITabzepOeeXvPR4PJ06cUO2Dx+OhoKBAjaaJokhJSUnQcePd4KWlpUH2oqKiQtUbWZab2Ivi4mL1WJb9Vf8a25Pq6mp1w5NiP5Q2K/ZDQV1dXVD0uL6+nsLCwiA9KC0tVVOWeb3eIHvh8XjIz89Xr/f5fJSVlQXZk5KSkiD7kZ+fr9oLSZLU1Q+lT4HVpJS5qlTDUmxk4OpIRUWFGu2TZX/kurKyEpPJhE6no6amJiiSXVNTo1bdk2UZu91OaWmper6hoSFozJxOp6ongiDg9XqDst94PJ6gPitFP3744Qfq6ur47rvv6NGjB8ePHyc9PR1BENi9ezcvv/wyS5YsYfPmzRw4cICEhARMJhMFBQVMmzaNxYsXs3PnTmRZpry8XI1u63Q6cnJyVL2TZVmtSHf8+HEAvvvuO2pra3G73RgMBqqrq4P0xOFwcPToUbp3707v3r05cuQI3bp1C3LQN2zYQElJCWlpaTgcDlVP/BQykcrKSnUM3G43JSUl6vVKVFNpo8/nC9KD5vRCiYLq9Xp1RU6ZO4oNDdSLkpKSoHdnYWGhOg6Knih9NhqNVFZWqlXglDENjGrX1tZSVVUVpCdlZWVqH5W5EqgXgdHrhoaGIL1wOp0UFBQE2YvAjBjKvgRF971er+YrOW1Fu3P7PwZBELBYLEHLl2FhYerypnI+cLnTZDI1OTYYDHi9XmRZblLfOvBYEARMJlNQ3lqj0Rh0bDAYMJlMqoHx+XxU+9o4GQQBJBlXAM9Tp9MF5d8VBAGj0ahGNgVBaHK+cZ/NZrO2eQl/vo8Cg8GAz+dj586ddO3aFZ/Px9SpU6mpqcFisXD33XcjiiIvv/wyGzZsIDMzk6lTp6qOUJ8+fUhLS2PNmjUIgqAuvS9btoz33nuPjIwM5s2bx5dffkm3bt2wWq306dNHjc4o15SUlJCfn8+UKVMYO3Ys//znPwG/EVSyS8TGxlJdXd1ET8xms2q0vV4vOr2OhF7xRMSakU/Cu5VlGQQwRhiwJocTkxZJeKwFnc5fxEFpY+L58Vii/Tt47733XiZMmMBFF13Eu+++y5NPPklaWhp2u52JEyeycOFCDAaD+rLQ6/VBeqbT6bj99tvZtm0b48aNY8aMGVx00UVBehBYr14QBMLCwrjjjjs4cuQI3333HQ888ACvv/46N998M8uXL+fiiy+mS5cuzJ49m3HjxvHBBx9www03qGOo0+mwWCzceeedVFRUYDQaufrqqxFFkVtuuYUnnniCgQMHAtC/f3+mT58etHRqMBiaVExSoiojRoxAkiQmTpyocosTExOD+qDX64Pmu16vV897vV5V9wPHKCwsTNX9xsfKGDU+DtwAaTQaW7UfZrM5yF5YLJYge2E0GoN2ayvyFQfdbDar9qK552wwGIL6bDAYgjKPKGOgfOQpMgP1ICwsLOg48H6N7UfjMVLuETjfFae0uT4r5wP73JxNNZlMeL1e1SkP/HvFhgYeB+qBTqcLOh+oB4ER3MA+Ne7z6NGjWb16NYcOHcJkMtGrVy8sFovqpFssFsxmMxs2bGDdunWEh4ervFBlHqxatYqvv/6aV199lZEjR3LZZZfxn//8R+1joJ7Ex8fz0EMP8fzzzzNmzBiqqqpITEzEYDAgiiIGgyFojPR6PZmZmezZs4cff/yR8ePH8+qrr6rOqNVq5YEHHmDOnDlqbmNF9wMjooFj0HgMLRZLkO4HjllL7xVJklQHujm9ajyXlOeqXN+Snii5iQOfqzI3WtIL5e8D507g/FdWtRR705z9aGwvGo9Bc/bibGxQa8+W8D8AnU6nKpter1fLFyqR0sCyoYHHioIHpkcRBIG4uDiVc5udna0uFyrno6Oj1euVparAl7OSLkk5HxYWpr58ampqcLrcpz4ZAv7cbDaTmJgYNCF1Oh1VVVUkJydjMBiC+mQwGEhKSlLbpNPpmpR4jLToiYsxUVvv4VRyZsuyjF4nEBtlRq/3G84tW7Zwww03cOzYMS6++GLuvfdeSkpKKC0t5ZprrkEQBObOnUtlZSV1dXVEREQwaNAghg8fjtVqpbCwEIvFwsSJE5k+fTpXXHEFHTp0IDExkeXLl3PTTTdx4YUXUlRUxKeffsrw4cOJiIiga9euHD58GIfDgU6nIzExEZ1Ox8SJE7nuuuvwer1MnDiR4cOH43K51BeJsiu38RjFxMQgy/6NGMXFxWRlZWHJCSOlbwJ5608gNMNRUPQgJj2CzN+lY+waTZ1JQBIgDIGIGi+lG4op/K4cvUlP+pBUdD8Xwnj44Yf5wx/+gNPpJC4ujri4OHQ6HStXrsRutxMbG4vb7cZkMvHMM89gMpmIjo5m+PDhDBgwALPZTG5uLnPmzKGoqIjOnTuTnJys9s9gMBAfH48oivzrX/8iMTFRfTF88cUXREREEBUVxQUXXEBtbS2xsbEkJCQgiiKLFi3i0KFDxMfH07VrVwDWrFmjlku98MIL2bFjBykpKYSFhfHaa69RXl6OyWRSd3D/8Y9/5KabblKXYcH/4VlWVobFYiE8PJz58+cTGxurzpvFixer51NSUlRHTpZlRowYweDBg0lISFB1XZlrTqeT0tJS0tPT1Y1nimOamJioPiej0Rj03APtB6DqkXK+vr5efekq52NiYlQHXafTERcXF2QvAu1Rc/bCarVSWlqKzWYjKSkJq9UapE/h4eFBtI3w8HCV3yzLcpB9Ab+D4C84IqtjF2gvTCYTycnJahsa24vmbGhgGW5Z9m/2CQsLUz8EAq9XKDGBsFqtQTZPmVvK30dHRyNJEsePHyclJYXIyMigMQykQAiCQGRkZBBHXRkD5Rqz2aw6bk6nk8rKyqAUbkajsYmNHD16NPfeey8Wi4VLL71U3fiYl5dHQ0MD3bp1Izc3l/LycjweDz169GDu3LnU19eTkZHBM888w9GjRwG4/fbbue666wBUOxQXF6dG/JX3yIUXXsjixYsRBIFvvvmGHTt2UFdXh8PhUPUysI8Kbx1g4MCBbN68WY2UhoWFcddddzFq1Ciys7Pp3bt30LururpafV5K0CZQ100mU5Cut6YXgXpTVFREXFwckZGRQXql0+nUuawcN36XBt5Pp9Opuq/wr5OTk4Oes6I3isyIiIggvVL0IvB8oC6Bf6UjOjoak8mExWLBYrEE6Y2i64q9CJzPje2F0WgkISHhrBSEaHdu23FaMJvNIamZHR0dTWSUTHp5Df4165NcIMtg1BOtb70dMTExARueTh1hFgMd06wcLzy1jQGyDFERJrJSI1WGRZ8+fZg9ezZLly6lsLCQqKgo8vPzOXHiBDNmzECWZWJjYzGZTEyePJnZs2czadIkcnNz+fOf/6zK7t27N507d2bDhg3qc3A4HLz55pusWrUKh8PBJZdcov692WymoqKCl156CYBhw4YxadIk7rnnHsLCwpAkiR49evDjjz8SFhamRjwUh7ElKLqg1+vRR+rpdH0WBZtL8TT4gsZblmV0eoHsS1OJ+0M2a/aWsm3VISrtLmQgzGSgc0YUN4zOoE+/eHwVbpJ6B78s0tPTgeAoeFJSUpBzIsty0Adb4IteEASysrLIzMwMitIEwmAwkJaWFmTw09LSVNnJyclNXlKJiYlqvlQl+pSdna1eYzAYyMnJCWpToEMCfqesc+fOQW3S6XSkp6erzmLj/LxWq5WoqKhm0w1FRUWpXL/GMJlMdOjQQfPcplFRUYSHh2tuFxp/bGoFxbHSEjqdjtTUVM3Luep0OtLS0jSv3mgymUhNTT2pLmRkZGAymVi9ejULFiwA/Bu4LrnkEmbNmsVtt91GQ0MDO3bs4LLLLuP8888nPT2dBQsWMHr0aOrq6jhw4AB9+/YlMTExyAlqDrIss2DBArKzs7niiitYtWoVd911V6u64PF4+PHHHwH44IMPyMjIICwsDI/Hg91uJzk5mZEjR/Lyyy/zu9/9LujaQBuiFUKtC1rPX0UX2vPctuN/Fo2X/rWCwWDAKAhcFRfF0xYTuDwn5d2OjY2ik8Xc6t8ELsefDoxGPed3S2DXgSrs9W1L6+W/H/TtFkd83C+Ro/DwcM477zyeeuopLrzwQrZs2UJcXBw5OTksXrwYs9nMhx9+SHJyMocPH+bZZ5/F4XDw9NNPs2LFCpKSktQSibfffjvPPvusurwaERHBI488wuWXX87OnTuDUubodDqGDh3K0KFD1bH4/PPP2bJlC8899xw+n4+amhrCw8NJTU2loKCArKwsCgoKVKeyOTTWheR+ieT+Pocf3j2MLAWMuQxpAxKx3tqRF5bt59CJWgx6QY3quTwiW/e72XukmnG/68itd3XBGKmtkRWEX8prarnJQVlO13rjRGOqhFZovOSqFZRVEq3tQqjGVnEUtdaFUMkNhc09FVt+9dVXs379erp16wb4n/fLL7/MzJkzefDBBzGZTFxxxRXcd999mM1mXnnlFV599VUefPBBzGYzv//977nttttalK/X69VctgaDgdtvv53p06ezZs0ahg4dqqbDa25cFarGxIkTAejVqxfPPPNMk9WI2267jQ8//DAo4qnMX60Ral3Qek6E6r1+NtDu3LbjtBBYj1zLiaDw6rqHmXkpM4En80r8J2SCd+IrkzrcxONpCUQZWv8yVvi2Z5IEPTUxnCsGprFiwzFEUfY3pwVR8s//k9UhkssvSkOvb5p4PCIigoceeoi5c+cyf/58UlJSePXVV0lKSmLJkiVcffXVrFixArvdzvDhw6mvr6dDhw74fD4KCgoA6Nq1K1arld27dwMwZswY/vWvf1FZWcnbb7/N/fffjyD4HcgNGzYQFxen0kYAunTpwowZM4iLi1M31gwbNoz6+nrmzZtHcXEx7777LmPGjGlxXBrrgjHCQO+J3agvbeDof4tUPltEQhgpf8jh5RUHySv8xbFVIAgCej24PCL/XnOYpLgwfj+iI3oN7awsy+oGSy2dMFmWEUXx5z5oF6WR5eAMD1rLbSl6fboQRRFJkjSXq3y8aRmpCnxmWo+twjPVcgxCqQsKh/Vk7b333nu577771OvAXz3u1VdfVX9TPlYlSSIzM5PXXnstKHtGYw55IFJTU3nrrbfU8127dmXp0qVB19TV1anjoEAQBDp27BiUuzawf0qkGfwrPZs3b26yqhSq+RtKXVC4w1rL1Xr+ng3op02bNu1sN+Jso/ELtqXfWrqmrXK0lNXWawoLC9m4cSOjRo1Sl0G16IfL5aKgoIDY2Ngg8viZ9kPZGR0THU3fyHAkAb6td/5SGCDQJkZaWH9eGpdERTRbEStQdmVlJXa7PWgJt6XJ21I/dDqBDknhmI16CkoceH0SincbeI0k+SO2nTOsjBnZiYTYsCA5cXFxdO/eHUEQ6Nq1K9XV1fTu3ZuRI0eSn5+P3W5n/PjxpKenc9lllyGKIocOHWLs2LFceeWVgH+Ztlu3bhgMBnr16kVCQgIDBgygZ8+eWK1WDhw4wA033KAuvfXp04dDhw6pvC/F2EZHRzN48GB+/PFHjEYjU6dOJSkpSc2akJeXx6hRoxg9enTQCzWwv263u4kuGMMMpA9JRfaIVP1kR/JIdByRwQ9RMiu/KcRoaKozgc9FFCUKSx0M7JNEjLVphLGtutbc+crKSmpqaprwHM9knoF/17/P52u2AtOpyAnWJYkjR44QHh6ucEqt7gAAIABJREFURoC0mGdOp5PCwkKsVmsTJ6GtbW7ut5qaGiorK4mOjtZsbAVBULOXNFfG9Ex0QckkER4efkrtbU2+kn1F2dSl1TtFkiSOHj2KxWLRVBeU/RNRUVFNHKUzeYZ2u52KigqsVmuztuN0dMHlcrFgwQLWrl3Lrl272Lp1K1u3buWHH36gS5cuLebCbst4K1mEAilMbWlTa/1Q8tGGQheOHTsWxJ1ua5ta64diy0+mC63Jae78vn372LdvH7///e+bbW9rbWpNfmsQZK3j2ucYApeqA78qG//W0jVtlaOlrFO55rvvvmPGjBksWrQoaKPKmdxb+f/Ar32t+tE4wuqTZLbUOVhcVsOKeif1skwng5574q3cmhhDB5MBgaaK3/g+SioSxalriaLQln4AHDpWw9fbijhR2oDL41Odbp1eINZq5sIeCQw8P5WIcEOz/W1tPJSxDcxMcCpj2FLfJElSn5kiVwtdb0kXZFkGCYq3lnFw2WESLktl3t4itv5YqUayW7q3LMsYDTr+dHcfrh2WHfR74Ji01KaWzivtVY6biyidzjwDWoz8tFVOc/8GgiIpWs2zQF04WTtOpR/KXAtcITnTsRUEocXI7amMbePzjSO3bW1vW8ZWkiRVplbzDH49XThdWY3nmTIOyiYtSZKRZAmvx4fT5aa+wYlPbLQXQpbRG/REhlsIs5gxGgzo9b+M5anowqmMbeD81XJstdYF5ViJCGtlwwRBaJMutCanufOyLPPee++xbNkyli5dqm6Ka2w/T3VsT4Z2WkI7TguBkzUUchUYdAKDrRFcFBXOq+LPycx1AlF6nRqtVSZHa2jJYJ0OBEGgS3Y02WlWym0NVFQ68Yr+aG1EmIH05AgiI00YTrLJrTX5oeSFai23JV0QBAH00GFgMkl94imzuyn78jC6NhTC8L/EZOobtK2UE9hOrcc2MAm+lnJDxQUMhdxQ2YVQjW2o5lko5Wo9tqGQq+iAIAh4vD7stXaKyio5UVpOSbkNW00ttho7Hp8YzMvnZ0dGJ2AyGoiLsRJntZLRIYH0lCQ6JCVgjQrHoPEGrcBnFiq554K9CdX8PRtod27/h1FRUcHkyZOpqKjAbDaTk5PD+PHj6dev30k5XZIk4fF4MJlMzJ07l4yMDK688komT55MdXU1siyTkZHBPffcQ69evZqV8e233+LxeBg+fDhPPPEEt9xyC7169UKWZXXZbcqUKeTm5jJx4kRijXoWLlxIeHg448aNa1bmsWPH+Oabb7j99tuDfvd6vTidTt588022bNlCWloajz32GKmpqWzZsoX58+ej0+m45pprGDNmzEn7LwgCZpNASryZDolhzUYRTheyLOPxeDTnMyvcWK13W4uiiNfrbZLLU4EgCBjCDegaPKdcvlhrKBEPJVeolnK9Xq+6EUZLuR6PR03JphWU3MQtPbPThc/nQxTFoFyaWsDj8WjukCvPTGvHJvCZac2NDZUuKJx5LdoryzI+n0i1vY68/EL25x0nv6iMuvoGvD9HXWVZbpHmBCCLMl6vj3qHk/zCUvYcPIzRYMAaFUFWhyS6d86mc3Y6cdFRalT3TNus6EIodCwUPOlQ2gWtdOFs4txufTvOCF6vl9LSUv74xz/y5z//mU6dOjF58uRW628rcLlcahWfoqIitbJLXl4ekydPZvr06VitVp588km1wkpjrFq1Sr3XkSNHqK+vp7q6Wq0eBHD48GEWLVpEUVER4C89W1ZW1mK7tmzZwtatW5v8brPZWLRoEXv37uW5557DYDDw/vvvA/DII48wevRo7rjjDubOnatWxDkZZNlfbSkU9ciPHTumeQ15hVunpPjSCgpP62RVaMLNBjokhuMTT+7iyjIYjQKxVm0dcfBXAQus4qUFZNmfM1VrXVC4dVrrglJtSdnAqRVqa2s1r0gky/4qZ4GVl7RC42ppWkCp8qhU39IKSp7bwGpwWkCZv8py/+lClmU8Ph8nisv5+L/f8vrSFbz7yQZ27vuJansd4s+pGJWl9JNFCBv/rdfno6razo59P/HOJ/9l3tKPWb7+GwpLKvB4fZzpdFbmr5Z2QZKkkOlCfn7+b1YXfgtoj9z+j8NkMtG3b19SU1MZMGAA27Zt48svv8TpdLJlyxZ1Z+y0adN44IEH0Ol0LFmyhKNHj3LFFVfQqVOnIHmCIJCZmUl2djZGo5GNGzeqpW6XLFmCKIpMmDCBsLAwvvjiC3bv3s0FF1wA+B3cNWvWIMsyjz76qJokvG/fvnz88cdMmjQp6F6HDh3inXfeQa/XM27cODIzM3n77bcpLi5m1apVjBo1Sv3bmJgYPv/8c5599llSUlKYNGmS+gJ2OBz0798fo9GIxWIJKoPZGgRBCFmezPT09KBKMFrAbDa3KZ/l6chV0ve0hogwAwN6JrJlf0Wrfwf+F2VOUhS5nWK1aqaKM8153BwEQQhJsnJBEEKiC0o+S63zb0ZFRQVVcdICguAv9BCKpdLExMSQ5CBNTU3VfIVEyW0aCl04k5zH/tUQidJyG5t272PH3kPU1jWg0wlN+MxnikDeanlVNaUVNr7fe4j+vbsysE8PUpLj0J/m/RISEkKiCykpKZpTgM52zuNzAe2R23YEoV+/fhw4cIDi4mK++eYb9fc1a9ZQV1fHggULOH78OLfeeiuPPfYY5eXlzcpxuVxs3LgRWfZXEHriiSfIzc0lKyuL559/ntjYWC688EKGDx9Obm4uAJ988gkjRozA6XQyf/58VdZdd93FZ599RnFxsZrGyul08vDDD9OjRw86d+7Mo48+isfj4eqrr+b8889nyJAhQe0xm82Ul5ezcOFCxo0bx5133qlG2Z599lkeeughpkyZwoUXXkj37t3bNFaC4K8SFYqXWGRkpOaGVq/XExERobkD1la5RqOeEUMy6NUxBlFsObInyzImg44bhmeRntJ0d/yZQBD8+SEDK1ZpJTeUuqD1yyZUumA0GoNKjGqFwAwBWiGUzyw8PFzzZyYIAhERESHRhdMtvCHLMo4GF59+9R2z//0fvty0k3qHUxOqwMng3/ylo97RwH837eC1tz7iyy27aHC6TkuWogtaf/SGh4dr7tyGUhdCYRfOBs79HrRDc9TXt1yF67nnnmPu3Ln079+f7OxsNd+qAp/Px80338zIkSPZuHEjc+bMoUOHDnzyySdMmDCBESNGUFdXh9PpxGq1Ehsbq6Zeuf/++xk2bBgjRowIkpuVlcWgQYN499131bKV+/btA/x5EdPS0nC73Rw+fJj4+HgiIyOJiYnhyy+/5D//+Q8rVqygoqKCH3/8kV69evHpp59y9913M3PmTJxOJ0uXLmXUqFGMGjWKzZs3t4mWoUDJmaollF3GWsuFs9/e1IRwnp7Qh5zkSHVHdbAcv2M7/ppOXDcsCyEELF2lvVrjbI/tqSJU7W38XLVAXl4egwYNUulJALt37+aaa67BZrOxc+dOLr30Unr06MHAgQP54IMP1PZ88803DBw4kJ49ezJkyBA+/fRT9VzjMZAkiY8++ogJEyaoOnLo0CFGjx7NJZdcwq233tqqfXzrrbeIjo4mJyeHzp07M2XKFLxeL2VlZZx33nmsWLEC8FPCRowYwQ8//HBK4/Bb0gVJkjicX8Q/3/yINV99h8PpQvcrOLWNIQgCep3fyf1o7UZef/tjjhaUIJ1Cf861eRYquaEch18b7c5tO4JQVVVFly5dWjy/e/duJk2axN13383hw4ebnNfr9SxZsoRPP/2URYsW0adPH0RR5JNPPuGuu+5i6tSpLXJww8LCsNlsVFQEL1sLgsAtt9zCtm3bqKqqAn6prb106VI++OADunbtGlScAGDr1q2sW7eOzz//nGPHjpGWlsYFF1yAXq+nT58+HD9+nB07dmCxWBg3bhw33XQTgwYN4rPPPmvTWEmSFDLO3vHjx3G5Tj0C0RpcLheFhYWa86mUnMdt4W/qdAK5nWN57blB3Dgsm9S4MMJMesJMeqLDTVyUG8/fJl3AXWO60dBQS0lJiebcWJvNRmlpqebculBwbhVdCBX/WmtdsNvtFBUVac65DQsLIzExkW+//Vb9fdOmTeTm5uLz+ZgyZQpPPfUUmzdv5p///Cdz5swhLy+P8vJyHnnkEV599VU2bdrE1KlTmTVrluokBz6zhoYG5syZE1Ti2uv18vLLL3PjjTeyZs0a0tLS2LFjR6vtHTt2LCtXrmTlypVs2bKFvXv3Av6o9sKFC0+bf6kUbwkFz/JUdaHB5ebLrbv5v3c/oai04rSpAFpBEAQQ/LnIjxeWMv/dj9m0fS9ut+fkF/+MsrIydTO0VlD41619EJ2u3FBxbkOxL+Ns4NwnVrRDMxw9epT//ve/vPLKK7jdbtW5OnLkiPpyfe2117jyyisZMWJEk9rc8MsyTEREhGokbDYbs2bN4o033qC+vp7HHnusxTZYrdYmTqrL5SInJ4d+/fqxfPlyRo0aRXR0NFlZWbz44ovo9XqWLl3apEjF008/DfyyY3Xw4MEcO3YMSZIoKCigQ4cOmM1mHA6Hmo+wurparXl+MgiCvyBDKDi3KSkpIeFThYJjaDKZ1MIQbYFOEMhIiWTK+N7cYXdR5/D6qQhGAwmxZqyRJg4cOMDhw4eRJInk5GS6du1KbKw2/NuoqKgmxQBqa2vZvn07w4YNQ6/X43Q62bdvH7179262TK2ygcxqtarL8IFFLBTs37+fzMxMoqKi1I1Re/bsISEhgZ49e2I0GvF4POzZswe73U6vXr1ISUn5Zax+1gWtS+WGShciIiJCUr4zMTGRG264ga+++oqbbroJgK+//poJEyawd+9eDAYDV111FTqdjv79+zN16lRiY2P59ttvycrK4uKLLwZg2LBhACotJTY2Vh2Duro6oqKieOqpp/jqq68A/4azsrIyOnXqxPbt25kwYQJZWVmttlUpr22z2TCZTOo87t69OyaTibVr13L99def8hjo9XqSk5M11wWj0UhSUlKbdaHaXseqDZvZvvcgoii1KbXfrwW/3vmpEh9+9hVF5ZVcddkAoqNOTm9qbv6eKXQ6HYmJiSHh3CYnJ2v+jlB04f8Hzu2534N2nBHq6+tZsGABbreb7777jpEjR3LBBRdQUlLCsWPHmDFjBjabTXVu4+Li2LhxIwcPHlSrBp0MBoOBqKgoPvjgAwoLC7Hb7YiiSHp6OqtWreKiiy5S/9ZoNDYx3mVlZeTk5DBq1CiVi9u5c2cyMjKYMWMG4E9rds8995CcnMyePXtYu3YtV111lSrDZDLxwAMP8Kc//Yn8/Hz27t3LhAkT6N27N4mJifzlL39Bp9NRXFzMk08+2aaxEwQBi8USklyDSpUrrfPRKi91LeXq9frT4lmazXrSkiPV9gReP2/ePHbu3El2dra6wW/evHlkZGScUVsFofla78eOHeOqq67i66+/ZtCgQVRUVDB16lTefPNNkpOTm8hxOp08/vjjzJgxg6ysrCa6IEkSmzdv5vHHH2fx4sX06NGDqqoq7r77bnr06MGePXu44447uPHGG1myZAlfffUV0dHRzJ8/n9dff13dTBmoC1oiVHKNRmNIcqaazWYGDx7MnDlz1GX+2tpa+vTpw+rVq+ncuTM6nY7q6mqOHTtGXFwcsixz6NAhzjvvPMC/KnX8+HH1I0l5ZuDXheTkZCZMmMDq1avVe5eVlXH8+HEWLFhAcnIy27dvZ8mSJWRnZ7fY3jVr1lBYWEhlZSVJSUl06dIFm82G0WjkzjvvZMGCBVx11VWn/LGm8EJDkVu8rXKr7XV8/Pm3fL/3EDI0WxnybEPph08U+Wb7D4iSyDVDBxIdFUlLzQ3UBdDOPirPTEuZitzw8HDN3z2na8t/i2h3bs8iJEnE6/U1U9kDjEYDggBe7y95AZWdooHVf84EsbGxPP/889jtdnQ6HTfffDM9evTAaDSSk5PD4sWLOXjwIAMGDGDkyJEkJyfz9NNP8+233xIdHc21115LSkoKt9xyCxEREVgsFv70pz+pvFgFMTExzJ49m127djF69GhKS0uJjo7m9ttvJzs7G5PJxJQpU+jatSuyLNOnTx9VxhNPPKFmZOjSpQv//ve/SU1NxWg0MmvWLDZv3owoigwcOBCTycSQIUP405/+1CSKK0kSF154Ia+99hp79+5l1KhR9O3bF71ez4IFC9i0aRMul4tHHnlEdSxOhkB+odb1vZXd/FoamcCKQVoiUK6W7Z00aRI333wzHo+H5557jlmzZvHKK68A/tUAURSJj4/HbDZjs9kIDw+ntrYWURTV6IPL5cJmsyHLMgkJCZhMJiRJoqqqCo/HQ1xcnOrkderUiTlz5tC3b98mbbHb7dTV1REZGUl0dDR2u53Dhw9TXFxMenq6WiREGY/ly5fz3nvvqemrZFnm7bffpn///jz//PPs2LGDXbt2YbPZ1Mo9qampTJgwgbVr1zJhwoSgsVV2nWuFUD0zha8XCrmpqal07NiRHTt2cOLECbp160ZiYiKiKKqRsf379/PCCy+wY8cOpk+fHpTP+Pvvv2fWrFns3LmT2bNnYzQaOXDgAADjxo1rlo7ldrtxOByMHz+eSy+9lKlTp7Js2TJ1Vag59OnTh4cffpja2lpeeeUVtmzZQteuXQF/5peUlBTWrVvXbDn01hBKXWjLM7PXOfjws6/Zc8BPR/utuz9KVoVN3+/D7fbyh6suwxrZfHneQJ54KOZZqGx5KN8R57qD2+7cnkUc2r2Vf85fhMMZzAuKiIpn0pTHSQnzMuvlf1BUZYefJ1+Hjj148tFJJCVEtyC17QgLCwuKbsIvX5cKL/X8889HlmU6duwIQGRkJDfccAMul4uSkhLS09PJyspSne/hw4c3uY9Op6NLly6q89qzZ0/1XoHpusAfXdHpdAwYMACASy+9VG2T0Whk6NCh6qSLiYnh6quvDor6mUwmRo4c2eSL1maz4fF46NKlC7m5uUHXWK1WdRxO5UtYlmVKSkqwWCzEx8e3+bqTQeFTpaamarqr3+12U15efkZpf5qDy+WitLSUjIwMTeXa7XaKi4vp0KED48eP56GHHqKhoYGVK1eybNkyjEYjXbt2ZebMmTzxxBPExsZSXFzMwYMH1aIgTz/9NAcOHEAURS666CL++te/sn79el566SUiIiLIyMjghRdeAGDIkCEUFRWxa9cu0tPT1XaUlJRwzz33qInNZ8yYwZEjRygsLGTJkiX07t2b8PBwSktLsVgsxMbG0qlTJxYvXsw111wD+Md++/btXH/99fzlL38hOzubW2+9FZvNRnV1Nenp6f7Kd126sGnTJtW5VXKbpqamahppdbvdlJWVkZaWpumSaW1tLXV1dXTo0EHTD76Kigp0Oh1XXHEF69ato6CggFtvvRW9Xk9GRgYrVqxAlmUGDx7Mp59+yi233AL4N6OuXLkSgJEjRzJy5EiGDx+OIAgqVSSQOtAYiYmJpKenq6nuOnXqxJ49e1pta2pqKp06dSIuLo5Dhw6xdu1a1bk1m81MnDiRF154gZiYmFMaAyW3aXJysroJVwt4PB5KS0tb1AVZlmlwuvhgzZfsOZAH/JKO67cOpZ079v2E0WBgzFWXEWZu/lmXlZVhMpmIi4vT7P6SJFFcXExsbGwTKtSZyi0oKCApKUlTXXC73ZSUlIQkzdivjfYNZWcRZksYKSmppKen+/9L68De7VvYtncfeqOeY4d/YvmqT4mOTSAjI4P09DSSQpCL73RgMplISUnR/OsuKioqJPlCrVYrcXFxIclteqoRmJNBr9erfGAtcarcurZC0QWtn1lkZKSaRzgqKori4mIKCgp4//33mT9/Pu+99x4//PADBw8eBPzpot5++23+/ve/s3LlSiorK/niiy+YP38+7777LmlpaTgcDl566SXmzp3LqlWrMBqNrF27Vr3nlClTWLBgAXq9nqioKCRJ4tVXX2Xs2LF8/PHHjBkzhoULFzJs2DA6d+7M888/T0REhJqLNTIyEkEQ6Nu3b5DzomzgmjdvHoMGDeKrr75i5syZhIWFERMTw5EjR/B6vezcuZP8/Hz1OkEQQqILCk86FJzbUOR+jomJwWq1cvXVV/PZZ5+xe/du9SO5X79+lJWV8e233/pTUzkcVFZWAv4Plm3btqk6Yrfbqa2tRa/Xc/XVV/Pcc8/x1FNPtcijzcjIwGq1kpeXhyiK7Nu3j27durXaVoUPaTAYOHDggMrh93g8eDweunfvTlhYGJs2bTqlMQgV/9poNLaqCx6vj5UbNrF970EUx/ZcgyzLbNm5n5Wff9viZse4uDisVqum/dPpdCQlJWmeejCUXPyUlJR2zm07zgw53c7nT3/u5Z9Mssy2rz5l9Zq1/HX6X8nNSmb5F4eIy+jKtL+/SJxF/5uq+Rwqbo7WJWcVmEymJrzOM4XCBQxFzftQcWNDUedcr9djsVg0f24Gg0E13qIoEhERQW1tLQUFBfzxj3/EaDRy8OBBtWJd//79MRgMREZG4nK5SEhIYPTo0dx0001cf/313HLLLZhMJk6cOMGf//xnDAYD+/fvJycnR81tPHToUP71r3+xe/du9Ho9oihSVFTE9u3bWb9+PSUlJSQmJga1c+vWrTz11FM4nU4GDBjA66+/3qQvSonXsWPHMmLECJKSknj++ecxGAzcf//9TJw4kejoaDU5u4JAnrSWCJXcUHBuAXWeJScnEx4erkZGAVJSUpg1axbPPPMMHo8HSZLo1asX1113HSkpKfzjH/9gwoQJeL3+jYsDBgzg8ssvV+cvtDwfwsLCePzxx5k2bRoLFy5EFEWmTp3aals/+OADtm3bhiRJpKSkcMcdd+D1enE4HDidTuLj43nooYea5OI+GULJuW1p/oqixHe79rPp+30YfgNBldOFIAjI+CkKOekp9O+dG+TMB+qC1vcN5HVrKTcsLCwk+z1CYcvPBtqd27OIQP5sXVUpL/z1b1w55jYuH3gBss/D0SPHscbGsH3Dag4eLaBnvwFccuEFRIRrPwlPFf6qNKJm/N9AuY3rjmuBUHIBQ8W5DSU3Vmu5odIFhVe2Y8cOOnXqREREBKmpqTz11FNER0dTWFhIr169gKZcOa/Xy6RJk7jppptYsWIF9957L2+99RY6nY4nn3yS6OhodWle2bSm1+uZOHEi77zzDh6Pny4kCAJ33HEHgwcPpra2tknkp1evXixevBhRFFukDoSFhZGZmak6JwrFQZIkBg0axMUXX4xOp+Ojjz4KSgEXKg7cuci5VSgE7777LkajEaPRGESHOv/886mpqVEjkcrLX8lRW1tbi9lsJjExUT2nOAeBbR06dCj9+/dXfxsyZAjLli2jtraWpKQkrFZri+0cPXo0F198scr1TUhIIDo6Gq/Xy+LFi0lKSkIQBAYMGMDBgwdPeYNkqG1uoFxZljmcX8i6b7arunIuUBFahCAgyhKffLGF5IQ4stN/WXkMFecW0LwaIoSWcxsKHTsbaKcl/AYgiT6+WLOcg5UeJtxxCxEWE64GB3l5B9izdQv/nLuQVcv/w0MT7+HFeYuodzafu8/j8bBlyxZWr17N6tWrWbNmDZs2bcLj8QTt4q6rq1NzGkqShN1uV/PaSZJEbW2t+mIHf3la5VhZ9rPb7RQUFCBJEvX19WrWBFmWaWhoaHIcmI8v8FiWZdxuNw0NDWoO0vz8/KBckG63m7q6OtWp8Pl81NfXq31SjpXzXq9X3Vik3KOwsFDNbSqKIvX19ep5URSx2+1BYxI4RrIsU19f3+S8wk+y2+00NDSo49x4DMCflcLlcqnnlT4rcLlcqlMjiiJHjhwJqnPu8XiCxkQ5Djwf6Hj5fL4mY2az2dS64aIoUlNTo46B8hwD+xg4Rs3picPhwOfz4XQ6KSgooL6+PkhPlDFS2uh0OoMct8bHDQ0NQX3Kz89n27ZtrF+/npkzZ3LjjTeqTktlZSVer5dXXnlFbaPX6w3Si4qKCh577DG8Xi9XX321upu+b9++7Nq1C51OxxtvvMGJEycAqKyspLa2loEDB1JdXc3BgwdxOp3069ePffv2YTAYWLt2Ldu2bQP8L8G8vDyMRiMdO3ZU6SnKc1fSy/l8PkwmE9deey0rVqzgp59+Yt26dWRmZiKKIjNnzuSHH37A6XSybt06LrnkkiC9yMvLU3XF7XYH9dHpdKqp7JTn3FhPAvVAOVZyEyvHgXMpcO74fL5W50Zje2G32zl69Kh6LEmSOjcUvVDmQqCeBB43pxf5+fnq5jwl/ZrSZiVtYWJiIueddx4pKSn4fL6gMQkLC6NTp05kZmZiMBjUMSwtLVWfu9Jni8USFMWTZX+VxY4dOxIdHU1NTQ1PP/00jz/+OE8++SSPP/44Dz74IDNmzMBgMJCTk6OmWrNarUiShNvtJikpSXXIGxoayMzMVFeUnE5nkL1obHMbGhqor69Xc5u6XC41g40sy80eB+ZWbc5eKDbT4/Fw7Ngxampqgj7c7HUOPv16G9X2unPe0QH/BjidIGCrrmXtxm3U1jnU9w78kvatsQ1taW40ZyPr6uqC3is1NTUcO3ZM1bfGc8nhcATZVMVmgv85Bs6twPeKwr+uqqoKeu7K6kDg3Gj8nlGeu/IeCuyj0+nk/7F33uFVVOkf/8zclt4DiUkgEHoTFRFQEEEUELD+XHStq4u6rOiqa1kbKiqysNjQ3QULYsEGioIiWJamFOlNEJJAGuk3ye13Zn5/XGe49+YmJGGuEMj3eXjImZn7zjnvec973jnnPe+bn5+v1Sl4XvF4PAFyEjz3Bs+lwXP174k24/YkQG11GW/Nf58x11xPj46/ndQXDfTo0597H3qI9xZ+yOeffca9t03kw7f+y/od+0LScTgcLFy4kJkzZzJr1ixmzZrFe++9FzCAJUmivLxcEz5JkigtLdUGlCRJlJWVBUwulZWVAQOuoqICp9MU95aYAAAgAElEQVRJQkKCVvZXpNXV1doEqw5QdWJS7/sHu3c4HJohp6aB9E+MYLfbqaioCFDM5eXlAQNYPRGv3i8rKwtQMg6HQ/OHVA09//tlZWX12qgOcEmStANp6v2ysjIcDgexsbFYLBaqq6sDAu2rBq+KqqqqgOQVNpstoFxbW6uV1a0hf6WjnvpX4XQ6A3ioHhbzN2IqKioClJLVaiUmJgZRFPF6vZSUlATIQUVFRYNlRfHFdfXnUVVVFQ6HA6PRSHx8PFVVVQFGSnl5eYBc+LdR5ZG/IVZTU0NVVRXgy/O+dOlSHnvsMV5//XX+9re/aTFK77//ft59910eeeQRhgwZQrt27TTDobKyEovFQnp6OomJifTv35/nn3+e6dOnM378eIxGI4899hirVq3ib3/7G6mpqfTr1w+z2UxsbCzl5eVYLBb+9Kc/kZKSQlVVFTfccAOSJDFlyhT27dvHpZdeSmRkJNdeey1PPfUUBQUF2jZhXV1dwIdbenq61r5x48bRr18/pkyZwq5du7j33nvxeDxMmDCB9957j0ceeYQxY8ZooavAJ/tGo1E73FFXVxcg67W1tQFlp9OpJToB39gqKyvT5EAtC4JAfHw8sixTVlYWMIGXlpYGTE6lpaUBY8Fff6i/V+XCYrHg8XgCxkrw2KmsrAyQi/Ly8nr6wv++1WrF7XZrbhRWqzXgw89ut2tyo5bLy8sD2tyQvlBTjZaXl2v6wO12c+TIkQD94K8voqKiuPPOO3nuueeYMWMGzz//PPfccw/33XeftnLvv6IWigdlZWUB+iFYX/jrE9UoqqmpITExEZPJRF1dXT39oe4+qHLiLweh9IWasMBgMGCxWAJ4JkkSm3b+woH8wlMiFas/RFFk9/48ft75C3a7Q2tzREQETqezng5V4Xa7640Nfx0ZXFbHipo6WpIkjhw5EvDhFywXwWPBX07UsWGz2RBFkYSEBG2hSZXt6urqADmw2WwB5WB94e+frrbBYDBofe5yuQL0hzrP+OsL/3lG1Rdqm9RyODJCHguC0qr3GY4f/n6Y6t+hrjX0m6bSafB3sszmVd8w8fYpvPHx5wzt3xNQV1klEAQMoi/MUHHuXq69+v+4avLj3Hf7H+q9H3wDUJIk7f0bN25kxowZzJs3T5tog7tcrZf6G/96CoIQsP3R0H04up3jT9//N6G2tfxP3QafwFXf4U//WL9X3x/cplD18Z+AQm0d+dMLvh7Mk1B1DqbvzyP/9wXzqKE2BPOwsX4L1Yam0A+elEPx7Fj9pqKhPmgqD0P1q/8zodp8LJ6E4oHK08ZkvSnlhvo9FE8b6vfjlatj0W+sDU3lYXCfHI++aK5cNaZPjqUvGpMr+bc6SAo4Zb/0wX7PiIJApCggoCD4/T4Uz4Lr3Nx+Da5jU/RFU3gUfL+hsXGoqJT/LPyCyiprwPgIx9wYjt8c67osy7RLTmLSxHGc0T65WfqiMVlXr/u/p6X641hjI9TzwXUOJVfB91V64dIXiqKwcOFCLeSh6tbj36/+bWpqfx8LbT63Jxiy7GXzpvXEZ3SmT48uCL6zZVQW5/PR4qVcPPZyunbyhSXyuj14EIiICX06XxCOHnBShSNUaJdggQkWmmCFGfyMWm7uJNLU+8HXQr3/WM839FxD9/3b3Bj9YJ401sZg+sE8auj3oa41RD9UHx3LGFH/9q9TKJ40Rj/4fvBvQslVQzxsqI3BCGUYhJLlxngSTCN4VSpUvwXXr6F+DdXuloyNxiboY9EP5lNjchNc36byMBgNTYTBPFNpBsvdseSqsX5vCg9DypUgIMkKbkWhwiuz1y5R6JYo9cj86vLiUeobWCZBoGukkXYmkUyTge5RBpIMIhZRwHCM1c2W1LkhfXGs8d0Q/eD7wdfUfpRkmZ+27tQM21MRgiBQWlnFxh17GJc6RDss58/nls6Nwe/xf/5YOrcpY0NFqDo2dyyE0omh5t6m6tSm6IvfC23G7QmGy2Fjx/ZtdO3Zn8TIo4aorMh89sF8Vu84wL+eeRSj7OY/r72Cy5LIsIH9mkw/XMLldDopLS0lIyND18NU1dXVuN1u7eCFXqiqqsLr9WphxvLy8vjiiy8Anw/fOeecQ69evZqlzBVFobS0lIiIiHopg0Nh8eLF9OjRQzuZv2bNGhISErSQRipkWaawsBCTyYTL5SI7O7tBmnv37kWSJI1GaWkpK1euxOl0cvHFF9OhQwft2crKSr777juuvPJKXfssXLJgtVo1X0W9ZEFRFKqrq/F4PKSkpOhGV92et1gszY5f2hgUxecvrh6C0guq647eYX/q6uqoq6trVjrmpkCNf328MUglRcHqldlul/i5zs0eh5cDLhmHDIog+CZERUEUQFYULQOXrCggCOxyepAUBUGACCAnQqR7hJEBMSbOijYRaxRQJInSI0dISEzUtc9UvZCSkhJWWSgsLuPnnft1o3/SQlH4ecc+zu3bkzPaJ1NWVobZbNZ1/Kpuf/Hx8brGqVZlITk5WVe6qutFWlqa7imDf2+cmp9lrQhul4vysmp6ndU/IONLUloWDz5wP/t/+oYLhw3lwuEX8cWabTzw8KN075DeIL3fCwaDQfNh1RMWiyUsaUEjIiKIiorS6rtnzx7mzp1LeXk5u3bt4s477+SNN95otm9QZGRkk4Ndz5kzh0ceeUTzpfv888/58ccf6z2nxnWdN28eK1asaJDe9u3bufnmm1m3bh3g85+6/fbb+fnnn8nLy+O2226jtLQU8Pmzzpw5k+nTp+veZ+GSBbPZHBZZsFgsuofBEgShWbLQHLqxsbG6x50URVGLz6snTCZTwDjTC8GHvJoDRVFwSAq77W7mldi5N6+WJw/bWFTpZo9TxquASQCLAAYBRMHHd9FvpVwUBAyCgEHwPWsSBDwI7HHIfFbt5qlCG1PyanijxME+l4whKlr3PhMEgeho/en6y4KiKPy0dTc1tbYTuur2e0AQBCqra9i4Yy+Komi+sXpC5a3ehmK49IKqy0+FFfu2ldsTjOjYBB565gWSszoFXDcYTAwfdxUf9OzLtu07kTHQq9+ZdMvphNFw4gXPZDKRmJiouwLUI46jLMlIks8vDkFANBzNw+1Pu3///jz99NMAfP/990ydOpXRo0eTmZmppVbt0qULZ5xxBrW1tRQWFhIZGcnBgwfp1q0bGRkZWCwWdu7cSU1NDV27diUjIwNBEDh06JCWTUjNTpScnExhYSGrVq3ikksuCahzTU0Nu3btwmAw0LdvX+0kfmVlJcXFxQEHkwC2bNnCv/71rwAjraSkhL59+/Lwww9jNpu59dZb+fHHH7n88sv5xz/+gdVqJTIyMiBVrB44mWUhGIIgaAaznjwQBIG4uDhdaap0ExMTdaUJvhjC4aCrGqF691tMTEyzeaso4JEV9jglPq9wssnmpUJSQMFnqIr1XYGaA1HwnY4QBAEvcMClcMDlZKlV4NxoI2NN0MegYDbowwtVFvTmrdFoJCEhAUEQqK2zs+fAIc3X+FSGIPhc6/YeOMSIwWc1GuLteN6h7urprW/UA916wl8WWjvajNsTDKPZwpkDzg15z2A0kdOtJ12696rn/3WioSjhi7/p79DeHMiyQk2Fk81riinKrUGSFKJiTfQ8ux3d+iVjsjRMc8iQIVrA/vz8fGbOnEm3bt04ePAgTz/9NE6nk7vvvpvzzjuPuro6CgsLWbBgAR9//DFff/01HTt2ZOvWrXz00UdUVFTw9NNPk5GRQX5+PpMnT2b48OGYzWZuuOEG3nnnHYYPH659dbvdbp588knsdjuSJNGuXTsmT55MVVWVFnol2Ljt0KEDM2bMYPbs2dq1nJwcnn32WW3rXU2DCvDXv/4Vq9XKI488orv8nIyy0BjNcKEhf0i9aLYmuqCvS1RzeSspCsVuieVVLj6r8lAuyRjwrb4qKKDz3C3CbzQFyr0KS6s9bKjzMiHBzJgkC2kmA3rYuOEcZ4IgcPBwEUfKK/Vmz8kLQaCwtJzcwyX069H5t0v6tj4ccW5VuqD/OAuHjJ0ItBm3bWgRVN8cvXPIq3H9UlNTmzW4ZEnh150VfPzv3ez/pRJZVhAQAIXvluRx0bhsxt3Ujcjo0BnQLBaLFhZl8eLF3HrrrYwaNYo5c+bw2WefMXr0aIqLi5k6dSrx8fGcddZZVFZWsnLlSkaNGsUtt9zC2rVrEQSBjz/+mPPOO49JkyaxatUq5s6dy7BhwwA4//zz+emnn/jf//6n+cNu376d3Nxc5s2bh9vtZvz48dxwww307NmTzp070717dy2+orpCmJyc3CAvnE4nr732GgkJCZx11lkA9OjRg40bNyJJkhakWy+ESxbUmI/NlYVjQY3Xm5ycrKsvb3l5OWazuUn+102FLMsUFxeTkpKiZTrSAx6Ph/Lyci1NrF5QQ6Hp3WcVFRUYDIYmrTa7ZIUfazwsKHewx+Uzak2/40QtAgZRoFKCN8pdrKnzcFtqJANjzZjFltdDlYXk5GRd3WpUWUhOSWH7LweRZVn33Z2TFaIgIHkldu3PpUNaEqIo6j5+y8rKtNjMetItLi4mKSlJd//r8vJyLbRia0abcduGFkEUxbD5WbbEQCorsvH2zC0UFdgwGkQU4egqj8ctsfTj/ZjNIpfd1B2TuT59r9dLREQEJpOJkpISnnrqKWbPnk1JSQljxowBfCuj6taV2WxGlmXuvvtuHnjgAZYuXcqkSZNITvYdTFi4cCGfffYZdXV1AelaIyMjufXWW5k7dy4XXXSRtsq6efNmrr76aiRJIjc3F4/Ho61YlpWVcfPNN/PLL78AsGPHDmJiYkLywev18s9//pMdO3bw2muvBRgugiAgiqLu/lTh8t80m81h8f1qqYwdCxEREWHzs2wtfWYymcLiTtLUlKC1Xpn3yxx8WOnCpfgOiJ2oBShR8C3m/upSeKLQxo3JElcnRxBnbHmFoqOjdZddVRYcDjcHD5e0+hW75kIB8gqOoCCExTdWdQXTm25UVJTudA0GgxZrvrWjzbhtQ4tgMpnC4pvTkonR45JY8fGvFBy2YTbWH5SK4hu0yxcdpPtZKfQ8p129Z/bs2YPJZCIrK4vo6GjmzJnDkCFDKCwsrBcAXYUkSfTs2ZMffviBnTt3MnnyZE2RPfroo9xwww1UVVVRWBgYCP28885j/vz5bNiwgXPPPRdRFDn33HP58MMPURSFXbt20a1bN81Qat++PV9//XW9uICh8Oabb7J9+3Zee+21AKMaAo3b1uBzG44c5+H0uY2NjdV9tUsUxbD53Op5KlzFifK5VRSFEo/E9AIb620Sxt8Of50Mi4+iAF4F/lvmYrfTy93pUXS0NH/qVQP3h8PnNj4+noOHiqistp52xq0AlFZUUudwk5So75gIp89tYmJim89tI2j95nkbTghU35xw+G82l2ad1c2+HZU0tiAiAna7h/07KpG8Pl+lqqoqdu7cyaJFi7jnnnu46KKL6N69O4MGDeLdd99l27ZtPPjgg+zYsaPBuk6dOpW33noLi8WibfEOHTqUZcuWsWnTJmbPns0XX3yhbVvbbDYiIyO57rrrWLhwIQC9evXC4XDw1VdfsXz5cqZMmYLZbMZoNLJv376AzGSNYc+ePbzyyitcd911lJaWsnPnzpBGebh8bsNFV2+0RMaagnDyoDXVNxz8bYymrCj84vDy2KE6NtkkTL9FPDjZYBRgfZ2Xpw7XsdvuaRGNcMmuoigUl1bgdIZO7X6qw+lyU1gSnkxabeP3xKDNuG1Di+ByuSgoKNBdGVit1oD0fk2B1yPjdR/baV9RwOWUUBRfelez2cysWbP48ssvufPOO7n//vsxGAzcfvvtdOzYkdmzZzN48GBGjhxJXFwc55579ODf4MGDiYuL4+abb+bgwYO8/PLLTJgwgfPPP59x48YxYsQI/v3vf2v0RFGkf//+REdHA74DbDfddBOZmZmkpaXxj3/8g+XLl/PVV18xffp0Dh8+zIQJE7Baraxfv77BNnXv3p2srCwA8vLyyMnJYcmSJcyaNYsXX3yRffuOpmqOjIyke/fuWnpIvXAyycKxoCi+tMF605VlmdLS0oBUl3rRPXz4cEA6bD3gcrkoLCzUUsrqhdraWkpKSnSVBfXD0D/FrgpZgb0OL/8qsrPXKZ+URq0KX3QFgV+cMv8stPGL3dMsGZQkicOHDwek+dYDbrebqqoqDpWUgRC+2OgnMxRFoaisAlnW16iTJIni4uKA1Mp60Q2XLBQUFOg+R5wItLkltKFFEEVR95iAKl31MENTlawoCohGkIFjeSCZjD5HuHPPPZdFixbVu68oCvHx8Tz00EMB17p27crzzz+vTUazZ89GURSioqKYOnVqvTAyt912G7fffnvAteeff15rU3R0NK+++qpG74ILLuD8889HEAQtB3nv3r2ZN29eo3z405/+pN0fM2YMY8aMaZB3OTk5PPnkk2HZ6g+HLBgMBoxGo+4RCMJ1WMZkMoXFV81kCn0I8ngQrj4TRRGj0RiWrfNg3iqKwgGnl5eK7exwSJjEkyeaTEMQf3OV2OuUmVFo4x9Z0XRuhotCOPzQBcGXULis8vRzSVAhCAKl5dW/fZTp58cqCELY9EK4ZMFsNp8SctBm3LahRTCbzaSlpek+COLi4ppNMyrOREZ2HAWH6mgoxo+iKERGGsnKicOgU9xJURRJTk7WfTI1GAxaCC89aZvNZtq3b687XYvFEhZZiI2NDYtRFw4fuN9DFvSEvyzoiZiYGN0PqjXkX1jqlnmr1MF2h6wZtq0FRgF2O2X+e8TBfWnRtDMf20gxGAxhGWcmkwmzOYI6m+OUMGpaAlEUKa+qwSNJmNHvUJkoirRr5zvjoaduMBgMpKen665vVL1wKshBm1tCGzQoioLb68XhdOFwuvB4pQYHz4nwrWsIkdEmhl+eTWysGUkO8XsFJFmh74B2dD9b3xBF4eRBG93WU1d/2uGg2UY3kKZTUniv3MmqOi+mVjgPC4KASRRYVevlowonjiZsh4dTdqtqarHW1p4+8W1DwO504nC6dKfbGsfZybz70VS0GbdtAHy+fVv3HeTVjz5n2hvvMe2N95nz8RJ+yS8IKegej4eKigrdB4Hdbqe6urrZdLv2TeaqW3sQHWNEVn4bpLLvH0CPvslcN7kPMfH6bcWqYbz09ntSFIWysjI8npYdOmkIXq+XiooK3X1jTzZZOBZsNhtWq1V3X16r1Ro2WXC79T3oEy5ZcDgcYemzmpoabDabVl5e7eSLalern8AMgsCiKhcrrC7kY/BM9T3WWxZ8ulL2xcQ6naGgOw9kWaayshKXS1+jWZWFcMwRlZWVYTlY93ujzS2hDXi8XpasWsfSNRtxebyIv61s5pUcYdfBQ/zfxRcwcsBZGI2Bvkh6H0aBlp8ANRhFhk3IJqtrPCs/PsCRQjuSLGOJMNJ3QCrDr+xEZIwBRdEv7qX6hdtaTtiG84s8XLIQLt7qTVeVg3DVNxwIVySKcMmCSv+A08tbZU7cSutfnREBtwLvlznpZjHSM7rxLfFwnbxvQ/gQzmgJ4dBjktTwjm1rQmvXDbpA8nopLizgwIEDzf7366+/Ul5Z1WqFQZZltu07yJerN+L2Soi/peMUBAFREHG53Sz+YR178g5rbXz99de59dZbad++PaIosmrVKu69916NZnFxMf3792fp0qXaNbfbzYwZMxg/fjxjx47l/fffx+v1UlNTQ9euXdm1a5f27D/+8Y+AU/7B9f3444/ZvHlzwHVBEDAYRHJ6J9NpUC2frruf0bfEce/0QYy9sRuxCREBB10mTZrEsGHDAlZB1qxZQ9++ffnss88a5Nd7773HrFmzAJ8/VVJSEiaTiSlTpvDzzz8H3G8pRFEkLS0Ni8VyXHSCYTabSU1N1T3wt+qnpffhhtjYWF2ziAFahrekpCRd6aqy0FByjeOhGw5ZMJlMtGvXTndZiI6OJiUlRXdZSExMJC4uDoessLDMyRGvmoGw9UMQBAo8Cp9WOLFLDRsroijSvn17XTPVqe/XPR9xGwBfn6WmpuqaRUylGw5ZMJvNtGvXTvdkNCcCrb8FOqCupoIn75/MD5v3NFvZez0ebrr77zz4l9uwtMKsHk63mx82b8fl8fjaHmSkC4JATZ2Ntdt20iUznQiLmerqapYuXcqGDRsYOHAgdrudI0eOAL4vv+XLlxMfH8/y5csZM2YMBoOBH374gVWrVjFjxgxKSkp48skn6dOnDx06dKCkpITZs2czZ84cLXRKQ1tvkiSxaNEi7rzzzpD3BQG+WbmM5PZxbN7+E0OGDfjNKA/MTV9bW0tlZSU7duzgnHPOAeDbb7/FbrdTW1vbIL+sVmtA3FlFUTCZTEyePJn09HTWr1/f5Li0DSGcH0rh9jXV259Zb5r+dPVGuHirIlx8CJcPuu457xWFn+s8fFvj0TKPtdI1hQCIgAT8r9bD4FoPIxMa/pAJ15hoQ/jQ2vTNqSJjbcYtoMgSpUdKiGmXxcQJlyJLkrZ3HSoMkXrN67Lx1ry5VFn1jW35e8Ll9lBcVolBFBEI7XIkCiJHKqpxe71EWMyYzWYmTpzIzJkzeeeddwKeVRSFZcuW8dhjj/HSSy9RWFhIhw4dKCwsJCMjg86dO9OrVy+Kioq0Va4BAwZw8OBB9uzZQ7t27fB4PNr2yMcff8z3339Pz549+eMf/8jBgwf5+eefeemll8jOzqZjx44B73e73WzdupV77rmHDz74gNtvvx2LxYLNZsPr9RIfH6+tTJ955pl8/fXXnH322TidTrZu3Urnzp21duzYsYN33nkHh8PBtddey9ChQwE4fPgwjz76KHa7nauvvpq+ffuyZMkSxo0bF1CXvXv38tZbb+FwOLj55pvp379/kz6eFEWhoqKC+Ph4XdNBqivlCQkJuq6seTweampqdF8NdTgceDwerc/0gKIomiy0JDJHY3StVismk0mLZawXXVUW9Azd5fF4qK2tJSEhQdfVW6fTidPp1L3P7HY7dtHIp5Uu3Ph8VU8liIBdgc8qnQyIMREfItOi6r8ZGxur60q+oigop73DbXggyzJWq5WoqChd+yxcsuD1erFarSQkJLT61dvWXXvdIGCxWBhwzoU8+OCDAQZtY8ats7qU1d8sa/VCcCwois/o9d8GHDp0qJbqNSIiQtseqa6uJi8vj8GDB7NgwQK2bdtGhw4dGDt2LHPnzuWee+5h0qRJ/OEPf8BoNGK1WjGbzdx000288cYbPPzww9ok/uOPP/LOO+8wdepUvvzyS2bPns2DDz5I7969ufHGG0lPT69X159++okzzjiDIUOGMG/ePPbv30+fPn2QJEnzJRIEAVmWGTZsGEuWLEGWZXbv3k1MTIwWHqmmpoYbb7yRZ599FlEUefrpp3n99dcBWLVqlUb7mWee4b///S+bNm1iyJAhWj1qamp46qmnmDBhApmZmfz1r3/l888/18LCNM5vBa/Xq/uXuSzLYaEbrvpKkhSWYOKyLOvuF6p+jOm9za/yNhy+da2pz1Bgl11im917yhm2KgQEdjgktts8XBBX/0MmXH0GYDIZMBoNv+n50xMGgxiWeLTh6rNw6oVTAa1vHz0MiI5L5KGnZ/DXP10XculSliWcDgd2ux2v9+ikaIqO45l/vsSt116J0XDystJ/q0FRFNxutzYoLGYzaSmJjQ4SRVFolxSP2eSbuCVJwmg08uCDD/Laa68BEBUVBcC6desYMGAAZrOZSy+9lJUrV+L1eklKSuLrr7+me/fu3Hbbbdx9991aNidZlhk3bhwHDhyguLiYhIQEJEniq6++0lLTZmRksH79eqKiooiIiCAuLo7a2loWLlzI22+/zUcffYQsy6xcuZKLLrqI+Ph4+vbty/r163G73SxatIgvvviCL774ApvNhizLpKWl4XA4OHLkCKtXr+a8887DbDajKAo///wzXbt2ZdSoUYwZM4ZOnTqxdetWAK644gouuOACrrzySgwGA5WVlfUOluXn5/Prr7+SmZkJ+OIS7tu3T+uLYCPA6/VqZdVPy1/RSpIUcDI2VNnlcmn9LMsybrc7oCwIAqmpqVpihFDPq20I/r36vGoUKoqCx+NBkiQt9bC/0ajKmb9i929jqLLH49FW7VWZ8l8BDOaZJEkBdVTLx7ofExOjxaR1uVwBbfZ4PAGHl4Lvu93uAMNY5Znqc2uxWOrxIBTP/MuheKBCURRSU1O11Rmv1xvQJq/XG8AztQ3BPFDboJZNJpPmJx0sJ8Fy4M+DYP0R3Mbo6Gji4uIC5Ca4zapcNFT2er0BPJYkCcls4ds6L85TeIFRFMCjCCypcuGU5AAeq3Kp+ln6jx2VZ8Fj61j6Qu13QRBIjIsjPk5ff/HWBAWIjookKsJcbyyoCB4LofRF8Njxer0kJycTGRlZT580NDYaK6v9rPriGwyGgH5V9Ym/zvO/768v1HnIv40Gg4GkpCTtIz2UDj3WPBOKRycCJ69F9jvCZI7g7IGD6NuzS+ANRaG0II9nn3iUCePGMuqS0Uz6yz2s2bgVSVYwmCIYOOQCenbJ1iIMnIyQJEkTNo/HQ35+vpbOM8JsYvg5Z2I2mUJ+XSqKQlxMFMP698VsNiPLMjabDafTycUXX4zT6WT16tV4PB7cbjcffvgh69ev5+KLL+b1119n7dq17Nixg08//RSbzca9997LwoULOXLkCHPnzgV8qUCrq6u55ZZb+OSTT7R0kF6vl61bt/LRRx+xadMmRo0apdWpvLwch8PBrl272LRpExs3bsTlcrFs2TLefPNNRowYwYoVK1iyZAlut5u1a9eyZcsW9u7di81mw+VyYbFYGDFiBF9++SXLli3j/PPPB3wDsqCgAIvFgiiKWtvKysoAX9KC/Px8amtrcbvd1NXV4fV6NZ7Kskx5eTmVlZUsXryYxYsX07NnT81wBqioqK5LXhcAACAASURBVKCkpETjc3l5uUYfoLS0NCClbV1dHYWFhdr92tpaiouLNSVVV1dHbm6upkgcDgf5+fla2el0cvjwYW0CdDqd/Prrr1qIGq/XS0FBQUD58OHDAeWDBw9SV1enyVRhYaHmn6zyzL+cl5dHdXW1VueysjIqKioC2qimVFVDXvm3sbq6muLiYo0HlZWVWmpXRfGl0c3NzdWet9vtASllHQ4HBQUFAeUDBw5oPLHb7eTl5WlldWyoZbfbzYEDB7TwXm63m9zcXK2fFUXh0KFDWlmSJA4dOqT5XKtllQeKolBYWIjVatV4VFRURGlpacD98vJyrU1VVVUB5crKSg4fPnq4s7y8PKDNdXV1AfetViv5+flav9fU1JCXl6eVXS4X+fn52vMul4uDBw9q/a6WVR6oPPKXi9zcXK3fg+VElmWKi4u1MF6yLFNYWBggB4cOHdLKiqJQWloa0ObqqioO1vmSNZzae2QACjvsErk2B87feK4oCkeOHAnQFxUVFZrcgE8O1JTSqivL4cOHtfu1tbUUFRVp/Wyz2SgqKtLGlsEgkBATrYVOPN0gSzJZaal4PEeNU7vdzuHDh7Wyw+EgNzdXMwbVsaCW3W53QNnj8ZCXl6el3vV6vQH6RNWh/uXDhw9r+kNRlAAdKssyJSUlATqzuLiYsrIyrd+LiooC5hE11biKioqKAJ1YVVUVMP5VOVHbXFtbS25urqYvbDYbBw4c0H6vpl5X76s6U22zy+UKmJd+T5z6uqK58HM8rbNW8NwTj7CtoJqLLrqYCIPAnp1befjvD/DS6/9hQK8ujZI6WWAwGLRVQJPJRKdOnbQvM1EU6d+tMxOGncfSdZtwOl2+QxoCoChER0Zw5UVD6J6diSgIyIJAdHQ0Xq+X8vJybrjhBp577jn69OlDZWUlmzdv5vvvv9dWsG688UYOHTrE+vXrKSgo4L777iMnJ4eePXsGGAlpaWmMGTOGDz/8kPz8fJKSkkhLS+P888/n8ccfZ8eOHaxduxZAW4HMyMjgmWee0Qbajh07iI+PZ+HChRiNRkpLS7nrrrs4cuQIM2fORJZlEhISEASBiIgIRFFkwoQJTJ48mZSUFM3fVhRF+vXrx9y5c3G73RgMBmw2G507d+bgwYMUFxfTsWNHCgsLURSF2NhYjEajdiJWEASysrLo2LEjjz76KMnJyTz++OOkp6drq5ApKSkBfZSamhrw9SuKYsDzsbGxAb6ccXFxxMbGamX1vtqvUVFRAf0cGRlJeno6VquVxMREIiIi6N69e4BcdOzYUXteLav3jUYjXbt21coGg4GsrCzgaG76zMzMALnq3LlzwOpzu3btAlx8/CMsCIJQL2OW6p6i/iY5OVlbgQZISkoiISFBez46OpqoqCjtflRUVEAboqKi6Nq1Kw6HA5vNRnx8PDk5OVqdzWYz2dnZmpuR2WymW7du2n2LxUJOTo52XxAEsrOzEUURRVGora0lNTVV6xeDwUB2drZWH1Uu1LIoimRmZgZ8VPrfB1+UADXOrcViISUlJSCChCo3ah1jYmKIiYnR7ickJGjyCRAfH09sbCySJFFWVkZiYiKdOnXSno+IiKBLly4azyIiIujatWuAXPjLldFoJCcnR3ve7XaTnJys+dOLokhGRoZ2XxRFOnToENDPKg8bkoOEpGS+LHdQ7vWcsi4JKkSgWlLY5BTpmuJz9RIEQXPBKi0tJSEhgdTU1ICdotTUVO1ZtZycnKzdD9YXaiY59eO9rraOjLRUNu/aH+4mnrRISojFEhGB8JssRkdH07FjxwB90qVLl0b1hf/YUMtWqxWj0YjFYqFbt271dKh/2f99giAE6FD/OUFdQPHf1REEoZ4+SUpKCmijKhdqHZOSkkhMTAxoo//KbFxcHDExMVodYmJiAnRiREREQJ2D2xgREUHnzp3ZtGnTcfVNS9Bm3AL2uhpKSirI6JCJxXz0AE9FcQHb95fw7CuvMaR/TwBqy4uZctckNmze3mqMW/UAlfq3OhhVATYZjYwbOojMdqms3rqTqpo6BAGS4mMZce5Z9MzOwuQ3oXu9XkpKSnA4HAwbNoxZs2ZRW1vLli1b6Nq1a0C6wWHDhrFu3TomTZrEXXfdxa5du5AkiZqaGp577jkAjhw5giAIxMbGcskllzBt2jREUeTaa6/llltu4bHHHmPv3r1cc801iKJIp06dePnll+nYsaM2saoH2YYNG6YZjrGxsWRmZrJu3Touu+wy7etR5YcgCPTp04eysjJGjhxJXFycdr9379507NiR+++/H+E3g37QoEHk5uaSn5/PM888w6FDh+jZs6dmtPnzuGPHjlx44YU88MADxMXFUVFRoRnW4FNUgiBofWAwGAKUktPpDPD3Vp9XoSoP9RlBEOpd8/cFV5/xp6u6J6j3DQZDPTnxv+8vN+rz6taa0+lEFEWtL4Lf72+A+bfZv03B/qrBW6v+PAjVZv+//Xnkf18QBG3rX21DMM9CjRX/sn+d/Xmk7gb4G2qheByKh6H6QL3m7w4SLAfq7xuSK7Xsf18URW2nQVEU7dBiQ3IR3O+heKLeV/vMn4dqmxpqc0NypaJGhi02LzKgr0fzyQdB8J1s2FDn4YrkCEwc5aEsyzgcDu0QUTCPIVAfNKQv/Mugbi27aJ+SgCgKAfJ0usBgNHBGu2QERdF8jo8l603RF6Io4nK5tI9uPXQu+FZ5HQ4HMTExAX3fkD5QEUof+OuLYHc1f53uXw6u07H0xYmQpzbjFqg6UsAjf/8HXc85nxuu+z86d8jEZDQQERVNlElixXc/kGARMIoCB3dvIa+0mgntUo5NuBXBZDRybq9u9M7JxvPbFoPZaCQywlLPXeEPf/gDoihqX53/+c9/sNvtJCUlMX369IBnb7nlFgoLC+nRowfvv/8+u3btwmAw0Lt3b9q3b4/X62Xu3LnagJg4cSK9evWiU6dOxMbG8uabb7J7926uvfZa+vbti8Fg4O9//zsbN24MWIkAGDduHKmpqdpgNRqNPPHEE8iyTFJSUoAB9PDDD5OZmYnRaOS9997TVszuuOMOEhISMJlMvPrqq2zduhVJkjjzzDNJTEzksssuY/To0dp2eb9+/YiOjuaRRx6hY8eOZGZm4nK5MJlM/P3vf2fLli04HA7OPvvsJsdAVVe39FYIFouFjIyMsNDNzMzU/TCGuiqrZ30FQai3mqEX3aYcFmwuwiULZrM5LLKgrhDqKQslHi/5Lvm08aEzCJDnkil0S8T5RU0IXunTC5rPvGgmJioSm8OpK/3WgOjICNLbJWM0mQKMveOFwWDgjDPO0H2cqbIQLr0QjoN1vzfajFugXVZn/nbPZF6d8wo3fLGYa2+4iYlXTaB9+0z+ctftPD5tBh++8SqiIOD1Sky47mZGDhlwoqutPwSBSIuZqAjfNkdDAzwnJyfgfvfu3Rv82m/fvj3t27dHURQyMjICBrq6anThhRdqz8fFxWkht8C3TZuZmRnwm8TERC655JKA96iuBMHo0qVLyHb0799fo3nuuedq13v16hWwpTt8+PCAtqmGhrqVq/o69e/fH/BtI6v1jIqK0vx4/fnVFITjSzecX8/hot2aVpD0nBSD6bYGmuHCIZeMVVZOG+NWBKyyQoFLpnukEnCeI5zjLD42mtSkBOoKiluVfBwvFAXapySSFB8XFvqtTTeeKn3fZtziO1A2aPgozj1/KGtWLmfmzH+x8J13uPlPk7ju2iv4ZuhIduzei0dSyOzQma5dsjEZT/UNssYhSRI2m43Y2FhdBoOiKKAoKE43eGTf0eFIM+gUhcLpdCLLcoBP5vFCUXzxN0VR1DUDjXpALCoqStfQUpIkYbfbNV87ven6+3rqAfWksN59pm7zR0ZG6i4LBoNB16xB/rKgZ8hBf1nQU8bcbjcej4fo6GhdeCsrsNvmi5JwOk1WHmCX3cPQODMRv3WPovhiNEdGRoZFFiIjo+jepQMHDxWhCKfHwTL1Y7RX12w8Hhder6j7+LXb7VgsFl37TNULERERusZCD5deOBE4XT6GmwTRaOHCMZezaNlypj/xd5Yvms+o0WN5b9m39D17IKNGXUyvHjknddiv3wter5eqKv3SDksHj+Ccvoi6cS9gPedRaoY8ge3P/8bz3XYU1/GftHQ4HNTW1uq6sqYoCjU1NdppVz3pVlRU6B5v0OPxUF1drXtsRK/XS2Vlpe50HQ6HFi5OT9hstkaz0LUE6oGycMmC3qeN1fGrd585nU6sVqtudD0KVDSSkvZURqWk4K8BFEWhsrKyweyNLYUqC6BwVo+uRETom+r5ZIYCxMZE0rdrNjU1+o9fWZapqqrSvc/CJQuSJIVFL5wInE4fw41ClmWqK8spLCjCLSl07z+QBR98xNpvl/PfN97ko3cWcNukSUwYcylJCfqsVrZmWCwWXfy/FFlB2rAP251vIm0rD0gWIe2sxP32NiJfGE3EX8YgxLR8dTQxMVH3gxJqrEG9t6JFUQw4gaoXVN/YcNANhy9gfHx8wCE8vRAOn1s113trkQWz2RwWnz3V51YvulZJptB9+vjbqjAABS4ZuyQT4xeBJBy+7WazWaOb3i6JDhnt2Z9bwGkxxSkK2RlptEtJwmw6emhar3GsRgvRe5ypZ170hr8stHa0GbeALHn56YdveOzpaZSU+WLKmS1RXP/nu5h86x+5YMQlfPXFIt5+aw4fLlzIDTffxLhLR5EYq1+azdYG9STo8Q5aeW8Btr/MR9pWBvhSAB/NhCagION4aDlCVASWSZeAqWVbJf4nUpsCRVGQZQVZOnoKVDQI9RR+uPwh/X2MWwNdPWQhFN1w0FShtyEablloLXT9/z9e2GSFaq+qE06PrXLw8a9akqmVZNr5xYgI5zgTBAGTycjAvj3IPVSEdAqs3jUGRVEwm02c3adbQJQkPREunQsERDHQC+HS5ScCbcYtUF1WxL/+OYs+F4zmuctHYxQE9u3YxOtvvknvPn25bNhArr/1DkZcOprPP1zIu/9+BVNENBPHjTrRVT9h8Hq91NXVERcX1+KvPMXlxfX+aqQtxYABAaFejnPfNS/ON1dhHHUmhm5ntOhddrsdWZaP6QuoKOCyezhyqJaC3FoqSuzIKERGGknLiiWjcxxJ7SMRfguZY7PZMBqNuvppybJMTU0N0dHRuvppeb1ezTdWzy9zPWQhFJxOJ5Ik6ea/Cb4JRqWrty+vzWbDYDDo6n/tLwt6+9bZbLaAUEJ6wOVy4Xa7dfPr9io+/9PTDSLgAtx+6lB1g4qKigqrLPTt0Zm1W3aRd7j4lF69VRSFTpnp9OqSHbbxq/rGWiwWXfssXLLg9XrDohdOBNqMW6C2soJSq4cHJk5kYG/f6foeOR34YeU3HDiYB8MGIggC6RnZ3Hnvg4y76g/IxtPHLykUvF4vVqu1XjiuZqHWjnfNPgREGs9oLqBsq0bantti49bhcOD1ehs1aBRFobLEzobvCsjbW43HLWtGrAD8srWC2EQLZw1No/eA9hjNoubUbzabKSgo8NVW8MXFTUhIaNYE7/F4KC8vJzk5merqaiIiIqioqCApKUlLaBAMNVNUKONaDdTv8XhISkpCFEWsVitRUVGIoq/ukiQRHx/f5DqGgtfrpbq6+vhkIQScTiculysgeYUecDgceDweLWX08aKqqgpRFHE6nVgsFiIjI6mpqdGShrhcLiorK5EkiYSEhICQcE6nk4qKChRFISEhoZ58KopCdXW1NjlarVYiIiK0/nY4HFRUVGAwGEhJSWnwY0jN/KXKixrrNjo6mrq6Oux2OykpKQiCgNvtprKykrS0tGbzwuVyaQfg9IBA45rhVEZw22VZxmq1YjKZdDdoVL1gMBiIj41mcP+eFJSUInmlU2IVLxiKAmazifPO7ElstM+YVY3QcHycquEl9aQbDlmQJClAFloz2oxbIKFdOp3Sonnyice5ZtylmAwG9m7fxKZfSrjxgV6BD4siGR2zT8kB3xxEREQcf/xNpxtsbpo0fckSWFvu7J+cnNyoz62iKJQV2vhucS5HCuowGEQMRjVY9dFt1lqrm9VfHsJllzj7wjM0n1ubzUbPnj0ZNWqUlh7xqaeeYvjw4U2u46FDh7jkkkt45ZVXuOyyywC49tprmTNnDn379g35m5deeomzzz5bS02sQpIkFixYwJtvvkl0dDTp6enMnDlTyw4lSRIPP/wwWVlZPPTQQ02uYygEZ6nRC+Hwt/WPc6vXlt67777Lnj17eO211wDfxPP000/TuXNnbr75Zp5++mlWrFhBTEwMJpOJefPmkZ2djdVq5cknn+SHH34gLi6OuLg4Xn/99QBfOjXLmWqc/uUvf+Gvf/0rw4cPx+l0cvfdd1NQUIDb7WbcuHHce++9IXnmcrm47rrrKCws1LLzPf7442RnZ7Nw4UJmzZrFunXrSExMZNeuXdx///189913zeaF3j63bTiKcMU2VX3m/eme2bMLG3f8wv68glM0K5xC544Z9OnWCfDphZZ8zB0LBoOBjIwM3xt1dCEwGAx06NBBd7eEULLQWtH6vYZ1QHxKe56d9SJ9zojllZdmM3PmTHb8WsQzL8xg8Jm9T3T1Tl0IAs3a9wrjgKutdvH9Z3mUFtowNBINQ8CnCDd9X8TO9UeQpKPKJT09nYULF/K///2PSZMm8eSTTza7HjExMcyePbvJz2/bti3kSfqKigq+/PJLPvzwQ7766isKCgpYv369dn/lypW88cYbYYnLerphxIgRHDhwgJKSEsC3ErZ8+XLGjh3Lhx9+SF5eHqtXr+aHH35g/PjxTJs2DY/Hw5tvvklVVRU//fQTq1at4qyzzmL27NkhTypv3LiRW265hc2bNwdcs1gsLF68mH//+998+OGHWl76hrBkyRK2bdvGc889FyBnNTU1LFy4UCeOtKG1Iz42mtHDBhITFXHK6QhFUYiJjmL0+QOIjdFnh6ENJx/ajFvA7XTwa24e/3fLZNav38CGDetZ9MkHjB15QaNhVj0uOyu++oKft+9Glk8tBXAs6BJWKi4KMSuhnp9tSKRYELNTW/wqu92OzWYLqagVReGXLeWUFdU12X6WZJmdG0uxVtjxeusbl2lpadoK7pYtWxg/fjyXXnop06ZNw2azsXfvXsaMGcPFF1/MH//4RwoLCwHo1q0bWVlZfPrppwGhwGpra7nvvvu49NJLue6669i7dy+rV6/mxx9/5KWXXuKXX34JeH9KSgoLFiwgPT2dAwcOIAi+POXV1dUUFxfzyiuvcMcddzSVfY0iXCHGwhEKTFEU3cPC9ezZE7PZzObNm3E6nRw4cICUlBTS0tL49NNP+eMf/6j5oP7pT3/i3nvvRZIkli1bxo033qjlhr/nnnu44447AuqlhhJyOp3MmjWLPn36aPcGDx7M7NmzMRgM7Nixg5ycHC2JSGOQJIkjR46QlJSkpfW9/fbbWbx4McXFxcfFC6fTSW1t7SkRSuhkg6IoWK3WsIR/qq6u1mRBRZeOZzDwzJ6n3DE+RVEYOqAvnTqcEXCtpqYGu92u+7vC0Wequ1I4QgRardZ6stAa0WbcAvY6K69Mf4b/vLcYi8WC2WTCIIpIkoTX623wn7u2in8+8yQfLPkK72mmzL1eL+Xl5cdnIERbMF87CEIcJAuEhGlkJwxnZrf4VXV1dVRXV4esr9spceiAleZ0oSAI1Fa6OHK4LuAdn3/+Oe+//z6zZs3i+uuvx+Vy8cQTT/DII4/w3nvvaUbpW2+9xXnnncdHH33EmWeeSX5+PuDbFpoyZQovvvgiNTU12pbWsmXLcLvdfPDBB0yYMIEXX3yRgQMHMnDgQO666y66dOkSUD81scT8+fO5/vrrOfPMM0lKSuLIkSO8/PLL/OEPf9BtG87r9VJRUaG7QWOz2XSNmaqirq4Oq9WqGz1RFLnwwgtZvnw5NpuNxYsXM27cOCwWC0VFRaSnpyNJEj/99BMrV66ksLBQiwucmpqKJEmsXr2aVatWUVBQEDBhKYpCeXk555xzDj179gzw4TYajZjNZqZMmcL06dMZN27cMX28J06cyNChQ3nqqacYO3asxtvMzEzOO+88Pv30UyIjI5tkJIeCw+HQNf716Q5/LsqyTFlZme6Gksfjoaqqqp5BYzaZGDn4bLp1yjolFm8URUGSZXp06ciFA/tjCvJPV41bPWVXlmUqKytxOvVNaSzLMuXl5ZoPvV5QdfmpYNy2+dwCoCB53WzdsJoXZsxA9nq1LfBQfprqNa/Txv5DRfQ+zQxb8PlZZmdnH9eJaEEUMY05h4gHc3HOWI2CzFH/W0X73zgki4i/jUdIanl6xMZ8bp0OL3VVzZ8wvB6F6koXRqMJl8uN2+1m8+bNfPfdd/Tp04e77roLt9vN7t27WbFiBd9++y0FBQXk5eUxYsQIHn/8cSIiIhg/fjzdu3cnLy8PgH79+pGVlcWWLVu0w1Q7d+7k0KFDvPbaaxQVFZGfn4/L5cJgMGA2m9m/fz8zZsxAlmV69OjBww8/DMAVV1zB+eefz6OPPsrXX39NYmIi5eXlXHvttc1yf2gMqs+t3gcQVN9YvWMuHsv/uiUYPnw4zzzzDJIk8eOPPzJr1qyAEECSJLFhwwbWrFnDhg0bWLZs2W/h5mQkSWLdunWsXbuW4uJi5syZwzvvvENdXR1paWlMmzatUR5MnTqVvXv38txzzzFgwAC6devW4LPTpk2jU6dO/PTTTyxcuJD/+7//0+7ddNNNPPzww/Tv37/F0T/i4+OJjY3Vrc8iRYgWoUo6vQ6WyUCMIBBrONpqURTJzs7WfZypfpahDiMmJcQx/qJBlFVUUWWtbdW+mIqikBQfy5UXX0BsTGS9Xbr09HQtdJeecW6P+2xKA3SPd/4NBYvFQocOHXSN0nOi0PpboANEg5GO2Z3Zv2En77/3XsDE15hxCwqRsUmkpaacEop34sSJCIKA0Wikb9++3H777SQlJfHGG29gt9uZPHkyoiiyZs0adu3axR133BHAG4fDwbRp05gyZQrt27dv0juFuCgiH70aTAbcH/2MvN8GyCgICLFmTBd1IOLRKzEM6IIgClitVr799luuuuoqVq5cyaFDh7j11luP+R6DwdCwQSMrvkNjTWWU+jNA8fvATUpK4qmnnmLSpEncdNNNbN++nf79+wPQq1cvTCYTnTt35uyzz6Zjx47MnTuXpUuX8uc//5mpU6fSuXNnra5Tpkxh3rx52jaZoiikpaXRp08funfvzvjx4wMMkNTUVC6//HIURSElJYW6ujq2bNnC0KFDiY+PZ+TIkWzcuJGamhqKior4y1/+wvbt2wEYM2YMZ555ZjNbfxSqzIRDgYczdq6eKzSqa8K6deuw2WyagdmpUycOHDjAwIEDmTJlCpdffjkXX3wx8fHxmEwmDh8+TP/+/XnooYfYtGkT999/P/Hx8YwdOxa3201sbGyDE83BgwfxeDx069aN5ORkEhMT2bdvX6PGbZcuXejevTspKSl88sknFBUVBdzr168fK1asaDEf1D7Tq99iRJH2JoFDntMrkYOkKKSZRaL9jJdwjbNj0U1PSWXshYP4ZPn/cLk8rTI8mKIoREdFMObCQbRLqr8rIQhCWKIDqHFj1TroSddoNIYlzm04ZOxEoM24BWLik3lq1hwe8XgRf/tqa6pxqygQGR2LsZWHzQD48ccfee6554iLi2PBggU4HA6efPJJdu7cyeeff87o0aPp2rUrRUVFbNu2DZfLhcVi0fjj9XpZu3Ytf/7zn5v1XiEumsinJmK5biiejb+iFFUiWEwY+mdjHNgNYiK0d+zatYu3336bq666iqysrCaHifJ4PMiyjNlsbjhiAs03cAWhvtLKycnh8ssv5+WXX2b+/Pl07tyZ7OxsevfuzdSpU8nMzOSbb76hV69e3HfffYDPL7dz585aWKizzjqLqqoq9u/fD0DXrl2pqqpi9OjRfP/992zYsEGLkOByuUhMTOTyyy/3tUNRyMvLY8qUKXzyySekp6ezdu1aLaqCuq351ltvoSgKHTt2bGarAyFJEh6PJ0AW9IDX60VRFEwmk67xaFW6eirx6Oho+vXrx4wZMxg5cqR2/ZprrmHBggWcf/75JCYmsnPnTkRRxGQyceWVVzJv3jwGDhxITEwMu3btQpZlEhMTGTt2rCZXLpcLk8lUb5Vm9erVfPPNN7zyyitUVFRQUlJCZmZmo/W02+3U1dWxd+9eKisrtTBwFRUVWn1vvPHGFmc/8nq9SJLU6DhrDqIMAikGEWj926TNgQKkGg1YxMCwcC6XC7PZrOuKnSzLDY5fu83Niq93kZoawxWjLuDzFWtxud2tzPhRiIqMZPyIIYiOSJYv3cmll/UlIvIoDxVFwePxaMadbm9WFNxuN0ajUdc+U2XBZDLpapTLsozb7dZdxk4E2oxbQBQNJCQd3apsunEbeK21IzIykpEjR5KWlobT6WTp0qXavUGDBvHOO+/wzDPPAOB2uykoKKBTp04hB9e+ffvIzc1FURQ2bNjA6NGjGThwIF6vl2XLlrF161YGDx7MJZdcAsB3P/zAmjVr6HdWfy64fATOOhubN2/G9sUucnNzNWN2yZIl7N27l48++ohOnTpph7acTicff/wxv/76K1dccQX9+vVjx44dVFVVUV1dzZo1a7Qt+uC+s0SaiI4zUVPVPP8lk1EgNtEc0l944sSJLFq0iE2bNvH0009z//33A74V3H79+pGQkMADDzzA888/T3R0NP/85z8BKC8vR5Ik8vPzuf7663nggQcAn3vBt99+y2WXXYYkSUyfPh2j0cigQYOYOnUqaWlpDB48WHt/VlYWd911FxMnTkQURXr27MmVV16J1+ula9euGI1G0tPTAV/IreOB2+2msLCwQVloKaqrq3E6ncc02JoLNdf7GWe0LGZyKCiKwjnnnMOcOXN48cUX+97DNwAAIABJREFUtetXXXUVubm5jBs3jrq6Otq3b88LL7xAUlISN954I4WFhYwcOVJr5+OPP05KSor2e1mWyc/PJyMjo96H3NVXX83333/P+PHj8Xg8XH311cdcgR8/frwWy3PSpEma33V5eTkAPXr0YMiQIezevbtFfKipqaGmpoasrCxdZMEkQFaEAUOtl9MpQ5mCQAeLiNlPVUmSxOHDh0lPTw+IlXy8cLvdFBUV0aFDh4CYqV6vzKYNeezc7jvseunY3kwYOYQl367D6Xa3it1KWZaJjozgsosGY/ZE8+3KPaAotE+P49xBnQMi45SVlWGxWEhOTtb1/UVFRSQnJ+saB1yWZQoKCmjfvr2udFVdnpWV1WBs9dYCQTkVrLLjQChDtqXGbWN09KTVnN/89NNPTJs2jXnz5mnGTEPvzsjI4M4778RsNvPll18ydepURo4cyb333svw4cN58803eeGFF/j1119ZtmwZc+bMCfBRqqurY/z48bz99tvs3buXRx99lOuvv56EhARmzJjBtm3bmDdvHhs2bODyyy9n/vz5TJ48GYA5c+bw5z//mY8//pgRI0bQq1cvxo0bp/mlLliwgPnz57NlyxZeffVVFixYwNdff82uXbt49tln+dvf/kZiYiKDBg1i+vTpvPzyy+zbt4/Zs2dz6623IssyixYt4rPPPiM+Pr4ev9avOMzG731btE3hrSwrxCebGX9zDxJSfCvLHo9HW2VUfSlFUdQC5suyjNFoxGAwIMsysizj9Xq1a6pvprpyoK4mqDQlSdIOAPlfU3/jv/2l9om6SmkwGOptF8uyrK1gHo98+l8LJfctlWlZlrVrwe9rCv1Q9/3VnaIoIXnWknGmlj0eT71VS7XfZFnGYDBoRp8qJ+oBMoPBoMmLf1tVqAkW/PtaPfQqimJAH4fqI1UGVVrqyrUqB+rvVZkKntxaIgt68PbHWg9PHbZhPw792ZLfNESnpe1oTp2MwPMdohkYY6onY+EYZ1A/JXN+bjmfLPwZh8ONoiiYjQaGjuiO12Ln85VrsDuc9Vb3wj2fNYeHsqwQExXBFaOGIteaWbN6P5LX19boaAvXTBxAVsekkOMsHDosFO2WyKdaVv/XS4ep/weP3+bQCXVfURQ++OADFi5cyLvvvktcXFy9+ypvmtOOY6Ft5TYYvxkYqqI/naBmJ1FXdrZt26ZtsSYnJzNu3Djmz5/PFVdcgSAI1NbWsm3bNi2tbY8ePQLopaWlceedd+LxeJg/fz6lpaUsXryYF154gQEDBtClSxcEQWDOnDlccskl5OTkMGzYMFasWEHv3r3JycnhrrvuQhAElixZwr59+0hLSyMmJoaMjAytf1Q3ia+//pr4+Hj279/PsmXL6NKlCzk5Odx5552Az4B2Op31MnIJgkD3/ikc3FNNebGdY3W7ooAoCvQ8ux1xiRGaIvA3BgRBCFgFMZlMAQNUNS6C5cz/NypN9b7BYND8rNRrqlETCsF1CFYWqkF9vAg2QPVCsILVi2Y44C8Dwe8I1Ucq30VRDPhNqInWH8EuGqpBrF5btGgRP/74Y736XXPNNZx33nkB7/eXK/93qzRbgnDIQpbZ53e7362gXy6mkxcy0M4kkGUJ9DkP5zgLpmuzufhxzQHsdpcmCx5JZtX3vzD4ghyuGT2cr1dvoKyiEkE4ubavFcW3l3ZG+2TGDBtEzRGJ9ev2I0lHDc26Whfr1x0gOTWGyEj93J6CEfyRpyfdcCBcMnYi0GbcBkGR3HzxyUc4jHEMPvcc0tPaYTGHT/h/D6hfY+rfHo8nYNVGLSckJHD//feTlJTE7t27mThxIvfddx+SJKEoChMmTGDKlCnk5uYiyzJ5eXm89tpr2Gw2cnJyNJcF1e8uNjaWqKgoKisrtS+x6upqYmJi8Hg89OvXD0mScDqdfPrpp2zYsEGj5fF4SExMxGAwaKtIFRUVxMbGam1Q26Tms1e/CGP/n70zD4+jutL+r6p6b3VrXy1ZkuUNbIzB7A4hCYSwQ0ggIZmEkIGZJGRhmGxMviHMkIR8YQLJB0wC2WAgC5OVkBBwCMZhN5uxjY0XbO1Lt7qlVrd677rfH+1brm5JRrarkWT7fR6Bb1fVrVu3zj331LnnvsfnM3g/GxoaUBSFZDJpeCjMHlNVVRFC4ParnHZuM0/9sZuR4eQepVTckdKwheUn1rL85DqyuTS6yE9C0oiR7VNV1fCKptPpAiNHUq3IsuS0tdls6LpOIpEoSK1Y7E2T3kBZv/TgmT3HxeV0Oo2u68ZGNBm/Zz7f3CdTyYk8Lj2Gsi5prJuvNz+zfEZzWRr5gOHBlPeUcdIyFtAcK2t+ZnOfSC+2oiiTluU9dV3HbrcXXG9+ZvkM0lMqve3yuHwG+dyqqpJKpchms7jdbkMO0ul0wUeJ7DNzH8LejxoZ92d8lAiB0PW84Im8h7VYMIWiwh4D95JLLuHiiy82DN7J+iibzaJpGul0GqfTSS6XM+4nn9EsN8XlYjkxe5MzmQypVKqgDzKZzKRyIftE9pF59ULKAUClTWWxS2NH+vBgpcnqgmUuG1Wmjw4pFzI2Vuo+2YeT6ZNcLmdwKE+mL+R7l/rGZrMZY23HtiE6dw9PMK4zmRzPPf0mRy9v4tIzz+CZDa/x+o5OdCFmRZiCruvYNI3lSxaweuWx7NwcZOuWwQLDFgAFdu0MsmtngGXHzEMIYdBqmfvMrHOLdepk+sI8VmSd8j2oqjpBn8ixOJW+MI+t4vecSCQM/SnHb3pPPLRZ5wkhjONy9WZf80oqlTKyGBbPK8X6xKwPptIX5rn67cTs+uSaBVBUhe2bX+FrX/oCH7zsQ9zw9f/kib8/SyAUJpPJzchLOljIJVHIC7dM1wl5Ye7s7CSRyKe2zWQydHd3E4/HjeXKVCpFIpGgoaGBM888k5/85CekUin8fj8PPPAAd9xxB1/72teM+wWDQUZHR4G8Yjbz/Pn9frZu3UogEODhhx/m5z//OR6Ph4985CPce++9fOUrX6Gjo4Ph4WGjneFwmFAoZIRVZDIZent7C5YzVFU1NsUEAgHq6uoMYymbzbJr1y6jDzKZDH19fcZx+cw1jQ7efUkbDa1lqFp+WUt+GIg9/3Z7bax8RwPLV1cilAzhcJhYLEYwGCQWixltCgaDBQkIBgYGjLhGyMd9BoNBoyyfUb6v7u5uBgYGjDbHYrECgv1YLMbQ0JDRvng8Tnd3t3F+Mpmkt7fXUIapVIrOzk4GBwfJ5XKk02l2795dIAd9fX2Ggs9ms/T19RnH5ceMZG/I5XIMDg4Si8VIp9MMDQ3R39/P+Pi4cX5vb28Bn+zw8LARIz2ZnMhNURKjo6MMDg4afRqJRAgGg8Yzj42N0dPTY5yfSCQK+iyZTNLf32+UE4kEnZ2djI6OMjIyQiKRoLu7u0AOenp6jHI6naazs9Pok0wmQ1dXVwFnpewzKec7d+40njmXy9Hb22vIgRCCwcFBotGo0UeDg4OGHAghGItESI7HELEIDHQj3nwdsX4t4u+PIP76e8Tjfyj8+9sfEM88BhueQ+zehggOoMdjkMuBEESjUXp6egwjWpaTySTBYJBkMklPT4/Rx+l0mq6uLuO9F/eBfCZ5PJvN0tPTY7z3eDzOzp07DTnRdZ2hoaGC8sDAQEEmtb6+PkMuhMjz+pqPK8k4J3g0XLPBeioxhBDYFTitzIZNzxqyHggEGBoaYmhoiGQyycjISIE+CYfDBu+4EIKRkREjMQzkOaMHBweNsRCPx42y1H9dXV1ks1ni42lee6WHbKbIIIQ9H5k6r73awyvP9XP6ylWcedoqfB53/kNshuZHed+qCj9nnnYCpx97PM8/2cmmjf0TDVvy34epdI6NG/pIJPKyHA6HC3Sm1KFmfdLV1VWgL8y81LIsx4bUF3K85XI5du3aZcy1cixIfSJ1sNQfQgi6u7sL9EcwGDS4vwOBAD09PQXvfWhoqEAuRkdHC+aZkZER+vv7jWeMRCIFc+n4+HhBH8Tj8QL9EY/H6ezsNPpExmvL41JfyGdKp9N0d3fPCG/uEc9tMVQH1375Rt5x1vk89shfePSvf+LB/7mXxUcv54LzL+S9730PC9rm4/W4S7JsWgqY4/hsNhtNTU3Gl5fMUe1wOIhEItx1111omsaGDRu49NJLURQFp9NpDJhzzjmH733veyxatIj58+ejqioNDQ2G5wryIQzyfEVRqKysNL6Gr7jiCh544AEGBgb485//zJe+9CVaW1v51re+hc1m45FHHuH888+nurqaXbt28e1vfxun04nNZmPx4sUMDw/T2dnJrl27jAHZ2trKSSedxM0338xxxx3HmjVruO2223jjjTeMZ+7o6DD6wG6309DQYHy92mw2mpubcTqdeDtUzqtzs3vLKD07RhkNpRAIHE6NuiYvC5ZV0tTuJ5PJf2HLDTnSIyfloaampmBpt76+3jguhJgQGlFZWVmwLNzR0VEQr+X1eo0+lGWXa29IhMfjobm52fDcOJ1OmpqajLLD4aCtrc3Yda+qKq2trUYfyGeR99A0jcbGxoLjLS0tBcfr6uoMr8P8+fONL3gpc+b7Q54qzTxeqqurjT5SFIWqqsL4t8rKSioqKoxz/H6/0SeKouDz+Qro0Nxut9HPkOffbWhoMNrgdrtpaWkxrtF1nebmZqPNcmzIZ7bb7cbYkGUpJxKNjY3GzuKGhgYqKioKxlZTU5NRv6IoRp/JPqqrqwNAZNMQi1I13IPSsxt9eAiioyi5LORMPHWTeG4RAoECmgpOF1pFNaKuCVo6KKuqxdG4tw98Pl8+UY3DYTAiNDU1Ge9F/i77QJblMxfrD5vNxrx584zz/X4/ixcvNo6rqkptba1xXFXVgnck+9DcR5LfWMLpcnGMXdA6kmZHSqDNfpV7wNCBFrvKcq8dRVUm6BPpAXc4HBPGijlWsqKiomDTmcfjMbyHsizl1ul0snDhQmOVY8vmHvr6Rqakjsm3SaG3K0QoMMbJqzv48PmNvLDxdbbv7iGVzpjOKx3Mz+902Fm6oJXVx60g0BPnz7/fSCKR2fO8kxvcigI9XSE6d4U4enkT9fX1xqoC5PVHY2NjQdk8NuSmXHPZrD9sNpuxMUt6ZltbWwv0Q319fYGOLR4Lzc3NxnFFUaiurkZRFEPnyhVB2ddSn0jI1UwJyUNt1gder7dgnmltbTXa4PF4mDdvXkG5paXF6BOHw0FDQ4NxXOoLqWMdDkfBvPR2QrvppptuetvvOstQvPRid7iY397Bu846m8svv4xTTzyO4aFefv3LB/jJT+/jhZdfIYVKbU0dXq/b0AHTiY+abMC/1W+T1TXda3p7e3nqqae4+OKL8fl8BUsWgEFLJP/vcrnwer2cf/75XHnllcZvixYtora2Fp/Px8KFC1m+fDkdHR1GfXKAlZWVsXLlSnw+Hw0NDSxZsgRN0/D7/SxfvpyTTjqJiooKgsGgkS2pra2Njo4O3nzzTc455xwuuugigsGgscs8lUpx3XXX0dbWRlVVFfPnzycej3PMMccwf/58Fi1axOmnn04sFiMcDnPttdeycuVKY2C1t7djs9nwer0cf/zxhrFsNqzMVEtOl4365jI6jqlm6coajl5Vy1En1LFgWRX+SqcxyZg3BhVTvZiPAwV9JD3NZiVmjp00HzeXzfG5culKXi/fn/m9Fr9n84Yjc3yo/CvuE/P9i/tosuOTXW9us3k5Xz5zcR9N1ebiPt3XM5uPTybrb3X9VHIx2XuW18s6zNQ85usn6yMALZdFG+xBrF+HWP8k7NgMoQBKOgW6jrIn5MD4UxQUdZLftPz/yWZRxqOI/h7YtRW6dmBPxVHcZeB25xOnmNo8WR+Yj8tnMOugYgq1yfqo+D1P1ofm+ic73/zeXapKOCt4KZ7DVqT6pqsLD+Saqeo5EF38VtcIFHTg4koH7yx3opregRzv5j4x92Hx2Jjs/H2NDU3T9oQoCJ786xuEhsdRlKmfY499Szans/vNYeJjWU45fikrjm4jmUozEoka3rriDUMHM58V9JcQ2GwaRy9s5fwzVjOvvIH1z3Sx9fV+dD2/L0JeNlX92ayOogiWLG1A1QrHv1lfyPOnoy+Kx4pZlot1bvHYKNYXxWNrKp1pLpt1plknwl4dWjz+Zf3yHvurM83XT3Z88+bNbN68mUsvvbTAOfBWY+qtZGBfOMKW8BY7IHO5HPHxKG9s3MCvfn4/9/7i12RQ8bic2L0VfOSqq/nK5z9Dpd+zz3qK7zXd3w52B+T+sCVM997y/zJmb7JnPdDnkHGWr732GjfddJNBRzbdZ5/q3jLWSCqXqXZf7s9zwN5YWrMSPJi+lb+ZuU0PRhbMMPPRyj49kLqKrym1LEy24Wo69U92XMqCjEOzapzBfspCKgFdOxCbXkIM9OY/kDXVkvdR8BxCIHI5FLsDZcESOPZUqKlDZ2/85mT3O9B7m2P4rOpbRcm3dWcyxw19CYZze+PpplvPQfXhPuq0Un/rQLWmcHtbGR1u+4RrgAJuU6vubdYLgcEx7v3xM2QyecN0unXpexLhzGuuYNVJ87F5dDbteJPN2zsZHYvll7EVBYX91zvmOQdAU1Uqyn0sX9zOUQvayERVXlrfSWBobI9BO/33resCr9fBRz9+MpU1HsM4s6pvi/cqWKFzZbmY59aKcTYVz+3BjDMhjrAlzBrouk48NsaWzRt54rE1/Pmvj/HGzi6a2hbyic9cz8UXnc+CpmrW/PF3fP1b/xecXv7zun/C6Th8ulPGH0nOVKsQCoVIJBJUV1dz1llnWVpvKpWipaVlvwfJVBBCMDAwgMfjmbAcdDDIZrO8+eabtLW14fF4LKs3mUzS19dHW1vbBAPsYOsthSyEw2Hi8Titra2WvTPIy0IymbSMixX2xtO63e6pZUEI0HOIvi7Ey0/BYO+eMAPyHthSQFFA0/L33f46dO2EJceQO3oVo1md6uoaS2VhdHSU0dFRSzmPhRAEhoYot9l5X0UZ/zOcj2lUrROJWQEVOKvcTqtz8jGUy+XYvXs38+bNm7DcfDBIpVL09PTQ2trGju0BUqks6n52rqrmjZH+vhEGHxqltq6cRYubOfa8pYyMR9jZ3UtfIEQoPEIqnTX2c5iNGzPkR7OiKKiqgtPpoK66kub6Wtpbmqhw+RnoGeO5x7sZHo4abdhfPaEoEI+n6dwdIq2P4bA7LdXluVyO7u5uamtrJ4SiHWy9pZKFrq4uFixYMOd5bg8fa2y6EDnW/P5Bvv/De9iy/U3cnnJOXL2a6776H5xy8onUVVVht+fd9h+9+tM88chfePnl10hnMoeVcetyuViwYMEBUwZNhZqaGoTI74iX2bsmU377i9ra2gmcgwcLRVEKKMmsgqZpLFy40FKjA/LvzBxna2W9pZCF6urqCXG6VqBUsmCOXZ0AIRCJGOKVZ+CNTYhUfqczFj/bPhoImgKZNGx+Ga23k7rjT0OxkLAe8rGffr/fUllQFIW6Pem8z8sprItk6MkcWguOOtDuULmgyoltCsNS0zQWLFhg+fh1Op20t7ej5xR27QoWeFf3B3u9bDA0OEpgKILbZaeuoZz58+ezvHUxmkMQTcYJjYwSjccJhiNkMtnCcSMEDqeD2ko/ZW43lX4/FT4/uTSMDifZ+WqYwGA3ieTeVMAH0l55na4LduwIsPKEVWiaesB1TQZN0wpiWK2C3JdhdSyrlAWrZWwmcPhYY9OFnuH5Z9ahuKv44g3/wHvOOJ2OjnZcjjxlSkG8nN3ORR/5OO7G/PHDCcX8nFahVPzCxXF8VsC8hGUl5CYPsMawfzvqnSuyoCh749as7IN9yoKuowcHYP2T0LtbXvD2GbZmyHuODMNTayA0hFh5KnisyXJUinEGe3mimzX4cI2T2waS6KZ9dnMZugC3Au+vckzptYW8jJVinMkNpqHRGKFAFOUgXeKKsteDmkhm2L0ryO7dQex2Da/bQVVtGeV+L42eKpYu69jzkVdYhxAwNpJkfCxFV2+MV0NDxONpspmcEd6wv97lKdsLDAeiJOIZKiqnl8592nUre/nPrdY3xZsKrUCpdPlM4IhxWwSh2PmnL/4f/jGn0987SHPzPNxOB8nxCH/84yN0LDuW5UsX4XTYsWl2Lv/YlfnrLBay2Q4ZS2T1QCjm5bMKZo5VK8MSirlararXzDE72+st5n+0CqWQBRkXCljq9ZhKFoSuQ9d2xLOPo4yO5BkN8hdYdu8DgqJAJoV4bX1+A9sZF4Cv/KANbjOfqpWyYOaBPrPcyQvRDH+PZQ8J41YAp5bZeHe5C20ffWYev1Z6xvNjIktwOMb4eNqyekFuQtrjIc0JxqJJIpFEnhd3jxEsKIqnFPn/mIeIZD1Qtcmz9x1cI/NJK0LhOOUV1oWBwV69YGYssqpeyR9tpR4r5rGey5jbrS8BFFXDoaf5P1/4DB+9+lNs7s5zi45HwnzvOzdzyfsv5f7f/YVMTp8Zz8ssQTKZLOBVtQojIyMGf6vV9Zo5U62AEHleQTOXqxWQ3MNmPlUrIDlNpaFgZb2l4DIs5rm1CuFwuGSyIHl7AUQ2i3hjA7knH0EZMxm2swVSf3XvQjz+e8TwwY+7sbGxAm5hKyBEnudV8kD7bCqfqHMz36Ey19M65AS0OxQ+Wuemyr5v+ZD815Iz2CqkUimGhgIMB6Lkcvu/cWd/oWoq2p4/VVVQlaI/Ve7a33tOqafabFZnoHfUch0meaElD7RVKJUspNPpkswRM4FZpm1nAfQsP7z9O6x5aSvXf/mrHNPaDEBFXTM/e+CXnLliIf/3mzfx2vbOmW3nDEPGb1r9dVdZWWlkFbMSVVVV1NfXW1qv5Oy0cqMA5D2KbW1tBRyuVsDpdNLS0mJ5/Jfkf7Q6/quiosJyWVCUPFek1fVKWaioqADyHlux6UV46jGUZBxmWYpSA3LD2UAPrPkdDPXBFLyg04Hf76epqcnymNva2toC/tslHjtX17ooV/PL+nMROuBR4R/r3CxyvfWYlNymVm4yhbxeqKmpY3AgYtlS/1zEaHgcsDakRnKomzmHrUCpZEHy1Fo9R8wEZqnGnTkkYxFeePlV3n3+B/nYBy/GX5Y3MDSbnSXLVvCF665FS4zx6mubZrilM4tivjurYOZjLEW9pYgFtNqok/FUVn84yHiqUtVbClkoxcaGUsmYmaJJ7NoCL66D3BzxgGgaYjSE/tSjiFDwrc+fsprSjbPid3a638aVtU7sCnPOg6sLUAV8qs7Jap827YnYzHtqFRRFQegQi1q7UjSXoKoKg0NRclnrJakU7wwomS4vVXvfbsz9J7AaAhSUvOdlwkEFu8OBquZ3WB7OkHx4VoclSM5Fq5HNZg1+UyuRyWQsX8oSQpSkb2W9VvfBXJIFGQNXinozmQx6Lgc9b8K6RyGbmVuhS6qCEhxAPP0ojI2+9fmTQL6zUo8zkUuj9L3AuaKLj1Y7sDN3DFydPHHFR2ucnKN3ovSvR+TeOtZVylgpUpnGx1OMj2fmlLhaCUVRSCUypNPWfoxKnTtX5gi5l+ZQ2EN0xLgtgtPn47iVy3nx6b+y7vn1xBNJYzIMBwf43189SFp1snjxwplu6owilUrR19dn+SCQubBLUa/MwW0VZH5vq2NudV2np6fHSGdsFVKpVEEecCvr7evrs1zRjo2NEQgELJeFSCRiuYwJIYiMjZEeDiCeXwuJ8bll2JrR34XY8Cwis/+bi6LRKENDQ5bLQigUYmRkJF8QglxoG9mBl7B3P8VlajdXVNvRyMewzmbkBDgVhQ9XOfiYrRet60my/S+hh3cgxL77TNd1ent7LY/F13WdRCJNKpnh0OCfODBkMlmyGWt1o67rDA4OkkgkLK+3r6/PcllIp9P09fWVxMH0dmPuB1ZYDEV18NFPXMPa517mc/98NWec8W4WtjWTScV56blneHXrTj72uS9y4vLFM93UGYXT6bQ8tg7yua8PJBvJW6GioqIk3Ka1tbUloeaZN2+e5STaDoejIHe5VZCyYHV4hs/no6yszPL+LS8vL4ksVLicqK+sg6F+sL39udQtgaLkOXnf2AjV9bBs1X71U1lZGW63uyScx5LYX8TDZHpfQOhZyEVx9vydK+afgbOmhV+E0sT0PXkxLG3BwUMXUKHBByptXG7rR+18HJGJIxSFTN+LqJ5alLL6Ka9XVZWmpibL9YKR7tXSWuceFLD8g1RVVRoaGizXjVIWrNblco44wnN7iGLxyhP50U9/xo9+/GOeefZ5nnvqCTSbneb57fznd27n8vdfSJlrbmfvOFhIzlSrDY9SxOvJeq02mkvFNagoirGZbK7w3M4VWTBTdVn63oRA3b0NsWsbymxjRdhfKArksohXn0FpakNUVk/7PRTntrcKkudW6Dkygy8hkqMoqooA9HQM2+6/ccX80yivW8z9w2kGswKd2WGw6eS36DXaFT5ebeO9uZ2w+xlENgmqigKIZJjs0KvY3WeiaJMbFoqilGSc7am9BHUeQSl5bp1OZ8k41o/w3B6yUFm6/Di++727SKcSjI6OodmdVFWWW5q9ZC5D13V0Xbd8IpPLmVZ/6cqYJ6sJ5kvFmZrL5Sxvq6zX6r6dS7IghDDqtdS7GBlBbFqfj7M9BDZjACiRUfSNz6O+431gm54np1SyIMeZGOtGD24p8LApioLIJcntXssFjaMsbFrFD4OCDQk9H99qWSsOEAKO9dj4XK3CwuH1ZIY2oojcBC9hdng7WmUHWtWiKauSeuFQ2PBzuEDy3FptMJai3lKN35nAkREyGYRgPDZGZ+cuOrt6GI1ECA0HeP31zTz37LP86U+P0NUzNNOtnFEkEgm2b99ueWxdMBgsCX9uIBCgp6fH8pjb7u5ug3/TKuRyObZt22Y5h2EikWDnzp2Wx1NJWbB600QwGKSrq6skstDd3W2dLOSyiE0voISCczfOdlKHhz43AAAgAElEQVQo8MZG6Ns97aQTIyMjdHZ2Ws5z29/fTzAwQG5oA+i5CX7G/EQsSA+8zMLuP/ONylH+qdZBnU0lJ97+zWa6yMfXVmkK19Q6+HblKO2dD5MZfBX07ORyomfI9L865eaybDbL9u3bS8CZmkMI6zepHUH+ne3atYuxsTHL692xYwfRaNTSepPJJDt27CCdtjaZx0zgiOd2Ery5+VW+8tWv8OLmbeRyupFxJ51OkUylqalv5e6f/ZzWlqnjow51lIrntqqqyvJ4SMjH7JUizrKxsbEkdCzt7e1GCIFVcLlczJ8/f9I4rUgkwtNPP8173/teYxktFovx4osvcvLJJ+NyuXjllVfYsWMHDQ0NnHLKKbjdbiC/FD0wMMCGDRuYP38+q1atMo5NhvHxcTZt2sRJJ51keGWFEGzcuJGmpiZqa2uBvCxUVFQUvLOuri6effZZADweD6tWraK5uZlkMsnatWs58cQTqampQdd11q1bx7HHHlvAjwp7ZcEqiNAQYtcbB522dNZBVSCXQbz+Mkp9MzinfqcSfr8fr9dr+Zior6tHRLvQI71Tpy5WFBQU9Gg/rjf/zOW1yzi14RgeHLOzLpYlvicWt5RvSRf5EASfqnBqmcYV/hzzR19CdG9GzybzIQj70EH6+AD6WC9qRfuEY5qm0draarleUBQVRVERh5j47i9KsR6raRotLS2Wx7BKWbA6/trpdNLa2npIxNwe8dwWQc+l+dndd/DUq9u47OP/yOUXnk08leOaz17PVR++DLfTwRnnXMgJyw9vtgRN0/B4PCWJrXO5XJbX63A4LI8lkrGxVisCVVXxeDwl2YTg8XgmNTySySS33347W7ZsMX575ZVXuO2228jlcvzkJz/hhhtu4NVXX+Wuu+7iy1/+MolEgmw2y2233cbtt9/Ohg0b+K//+i++/vWvT+kdDofD/Nu//Rs/+MEPDM9pLpfjxRdf5Morr2T79u3GuZPJwnPPPcc3v/lNnnnmGX73u99xxRVXEAqFiEajfP7zn+eHP/whkDeWv/Od77B79+6C+8sYOKtkTOg5xNYNKPE5zI4wFRQFRVGhtxvR3z0t763dbi/JOLNpOoTfQOjpafWznk0gBl6mpethrrO9yU0NcH65nXp7Pg43J6xL/iC9tAhosCtcUOHg3+t1/sXxJvO7/og+8BIim8z3yT7arigK6FmyQ6/lN8tNctzj8Vi+iUhRFMp8LsrKnJTGxJsbcLnsOKeRTGN/oCgKbre7JO+sFHOEpmkl2RA6EzjiuS1CejzKps1bOfXM8/i3L32Jntee4g9/epSVJ5/C+075FFU+O79e9zwDoRAV/nkz3dwZg+Q2tXoikzRVVhuMkuPWyk1KkndSVVVLlZfkMLQ6SYbMGz5ZvTU1NaxcuZInnniClStXAvD3v/+d0047jVAoxP/7f/+Phx9+mNbWVkKhEJ/61KfYuXMnLpeL+++/n8cee4zm5ma6u7v50pe+RHd3Nx0dHQX3CIVCfP3rX6e7u9vI5AXwxBNPcOedd05Q1LlcDl3XJ3gn3vnOd3LXXXcRj8e55JJLeOONN1i8eDENDQ088cQTfOxjH6OlpWXSPpBxx1IWDhpjEejZdfD1zFYoCqSTiK4dKM3t4Ni31zCbzaLruuWyKxIj6GO9094iJu+tjwdRE09wgree46uPoruumfVpFy+MCzpTgnFdkNnjbVX22HWCvHdX/t/4TR7f83+F/ARapim0OBRW+1ROtCWYn3wTtf8N9PEAup7Lb3zbjxAYfawfkRhB8dYW9oFJL1hpfAghsNlVvF4nARE95L7RpgNdF5RXuLHbrTUW5RyhaZrl7yydThsbOK2C5Lk9FBI5zO3WlwC5XI5EKkNtfTMuh5PG5mYq/F7e2N2PzeHkvPPOJzHcxyubtrx1ZYcwkskkXV1dlsdZhsNhy3PTQ96wGhgYsJzbdHBwkNHRAyO8nwq5XI5du3ZZzo2YTCbp7u6elOdW0zTOP/981q5da7Thueee413vehcbN26kvb2dtrY2I33tXXfdxeLFi3n++edZsWIF4+Pj5HI5Wltb+f73v09zc/OEe7hcLj796U9z7bXXFvy+cOFC7rjjDhYuLFwNmUoW4vE4g4ODbNy4kWAwSHt7fgm3paWF1atX84tf/AKYesNYKBSyTsb6OyFqLc/xrIOqInp2Q+yt4wYjkQi9vb2Wx9zqYz2ITHz/veN7KK5ysUHoWkvbrj/w4fHn+IZ/mFsaBdfV2TjLp7HYqVFrUyhT8xvQVPL/N/+pgFeFWrvCEpfK2X4b/1Jv55ZGwS0VIT4UfZbWzj8gup7M3w+x3+1VAJFNoEd7oYj3NpfL0dnZaXnMbSqVIhqNUFHhRhymyYmEENTU+Cw36HK5HD09PcRiMcvr7ezstHxfRiqVoqury3Iu9JnAEc9tEZxOJzVV5YQCfaQyKdwVtdT4fGx5fSu6fgk2ux09l7XcoCk1zEad/LcQOkIHxTSgJzP+5G/SGyKEwOl00tzcvDfd6B6areLr995LFFw/Vdsm46Pd1/nF95Rlc5uFEFRWVpLL5aY8Pt365XH5PLW1tUYfFPdRcdncR/uqU+YNl3Rgxcffqk+megan08m8efMMWjR5njy+bNkyuru7iUQi9PT04HA4OOqoo3j99ddpbW1FCMGWLVu4//77yWQyXHLJJfT19dHe3k5zczOvvfYav/zlLxFCcMUVV3D88ccXtMnj8XD00UfT29tb8Ezt7e0kEom9PKZ72lRRUYHP55vQhw899BDr169nbGyMFStWUF1dzdjYGEIIPvShD3H99dfzyU9+koaGhoK+lv8uloXiPp7svU8qN3oOdm0jb8Qcwn4CRUGJRxH9XVBZY/p54tjw+/0Fy5rFsj6Z3Jkxqb7IxMmNFIaX7P8j7PHkpqPkBjfhGNrMYoePpWV1XOBrJOZvZFTzEsFBd0YlI8i7aE2y51AV5tt1/CJFlR7Dk+hHhPvRY0Fy6SgZU5sP2Gu9xxjPhrah1RyForqNPpT81y6Xa586V7Z3uvrC4XBQWVFOQ1McQWHfHy5QFIXKak/+48Ikg/KYuSwxHX2hqiqNjY0FlJGTzQPm699qbEBhLG/xe56szrc6LuFwOIw5wnzP6Y7XqfrISqfSdHEIa+QDg81TzvvOfi/PrnmI23/wU7LYOeXE5Tz++1/w2z89wk9+ch+j4ykaGhtmuqnThq7rBcKVSibY8sKzPHTPnfz2zu/yxP/+gqGeLmPJtqenp8A7MDg4aHwhCiEYGBhgbGwMj8eDEPmdzOYsXcFg0CgLIQiFQgQCgYLjwWDQOB6NRo1MVA6Hg3Q6XXD+2NhYgactmUzS399vPFMymSzwyiYSCXp6eoyvz1wux9DQkLFUmslkGBwcNI5nMhm6urqMbC/ymWSGMF3XGRgYMDypQgj6+vqIRqNGPFUgECAWixkDeXh4uGAn6+DgICMjI0YbI5FIActCOBzem4FpzzOZs3ONj48zODhoHI/FYgwNDRnH4/E43d3dhie9OGtYKpUiGAwa+cgzmQy7d+82YmNzuRzJZJJTTz2Vxx57jCeffJIlS5bg8XhwOp2EQiE6OzvRNI2lS5fyzDPPsHbtWoQQRCIR3G43qVSKtrY2Hn30UTZs2MBnP/tZlixZwtKlS1m7di3hcLjgo3B4eLhAbnRdLygnEomCPhwbGyMcDnPFFVewZcsWNm7ciMPh4J577gEwQi7OPfdcfvazn2Gz2QiFQkYfJBIJuru7jTi4ZDJZICfZbLYgg1s2my2Qi0wmQ09Pj1FWRsMw0M1hwRGazaF07SSXjNPX12fspi7WF6qqEggECvRFcbm/v79A1s36QwgxQU5EKoJI7j3/oLAn7lVRFPRMjGz4TVKdf8e29X+pff0+Fm+7n7MHHuLCoYe5YOhhLjT9vW/gjyzedj91W/8H29YHSXf+nUzoTfRMLJ8EQVWtibtWFEiEEcl8HwghCAaDDA8P4/V6sdlsjI6OEg6HjUtGRkYIh8OG/hkdHWVgYMA4Pj4+PkFfyLKqqqiaRlWVG4dzxonTZgR2h0ZdfRmDQ4OGDi2eZ1KpFN3d3YbOlPrCXO7r6yvQH319fUB+062u63R2dhbMK4ODg4Y+kVnHJLOCEIKenh5DB8p5JRKJGDosHA4zPDxsHA8EAgXzytjYmHEc8pk6BwcHDZsgGo0WZBpNJBIFzA7xeJyenp4CHdrV1WWcn06nGRgYMI4Xz6XpdNrylZzp4ohxOwku+YdP8o8fvoRXX3qBeFrnH66+lnk+wT9f+Q/c/cvf864L3s/pJ6yc6WbuN4QQRELD/PbO7/Kr797Ci4/9hVfXreXxX93Pz/7j33h17eMIXS/YtPDss89yzDHH8Kc//amgro997GNcdNFFJBIJ3G53QYys3GR14YUXsnXrVmMzF8CaNWv44he/SDqd5sorr+T1118v2DgkhDA8ixdddBE/+MEPsNlsuN1ubrjhBn7zm98YQe8SqqridrtZv34999xzz4TNbsVJESRRdTAY5JOf/CRnnXUWV199NVu3bjXqdLvdRizTZJsCXC6XobDMZQmn0znhfHMfyY035vPNsaWyTyRsNltBufh48TPLsvm4JP2WfWDe1a4oCmVlZVx00UU8+uijPProo5xzzjkoisJRRx3Fxo0bsdvttLe3c+WVV7Jo0SIcDgerVq3ipZdeIpfLsXTpUq6++mqam5ux2WzccMMNrF27lmeeeYZ3vOMdOByOgj5wOp0FZUVRCso2m21Cn5jLHo+H448/nu7ubuN6l8vFRz7yEf72t78Ri8UKYsLNfSS5HN1ud4GcmL2OxRv7pJxpmobQdcRoECxOkTyboUfCKMlEQR9NtsnJ6/UWxAGax4I83/wezfpDbvgzHxfxUD7hQSmgKChqntNTQaBnE2TG+kmP9U34y0T70bMJEAJFVVFUrXSbCLMpRCJseMScTidOp9MwSor7aH/1h81mK9A/uq5TWeXFV+ZmBpxsM47ycjfllZ6CjaaTzTPmDblSHxSXJ9Mn8j2ax4bUV8XzjHkseDyegrLUmVKPS7mQKC4XzzPFm3Tl3CoxmZwUzyPmsqqqBefLeUWOd9lnM7EScCQsoRgix8svvsSp51zKp5YfRV11Bba6E/nF//6GZ59/CU95Ne9YfRq1lb6Zbum0IUm/s5kMT/72V7z+3DN5+pc9BNACiI2MsOYX91JZX0/7shWGoZnNZmloaODvf/87H/jAB9A0zcg/LZfHqqqqCpY6/H4/kPdO6rqO3+83jp966qksX76csrIyotEouVwOt9ttDLCRkRFSqRR+v5+xsTEeeOABPvCBD1BXV0c8HieVSuFwOAronZxOJy6XixdffJFAIJAPLampKVBSmqYRDAapr6/HZrNRWVnJLbfcgt/v58EHH+Shhx7itttu46c//emE+lVVpbKyEthrHNfU1CCEYGhoCJfLZRyX8Pv9BQO6srKyYPnI6/UWLOOUlZUZ/9Z1nXA4TH19vXG+y+UqUFIul8vof3NZttFutxc8g91ux+12MzAwYKTgra+vN67XNI3KykpOP/10brjhBvx+P8cccww2m40lS5awYsUK7rzzTi655BKGh4fZsmUL5513HqeeeioVFRXcfPPNnHvuuQwNDTEwMEB1dXXBpi6piIv7yGz0SMUonzmVSpFMJikvLwfyxqzP52NoaIj169cTj8d5/PHHuf7664G8p8Vms1FTU8Ppp5/O9773Pa6//npjcnE6ndTW1hoyVl9fb9COyY+qqqqqArmpq6sz2muz2Yx0yyKbzafZFbMiTUDpoSoo41GU6AjV8/cmGdA0jZqafKiC9ASl02nD0FJV1aBzk/IvxwLk37uUU3nc5/OZVpoEYnwI3g4eVmXvdrXJwgumWp4uBQQ6+ngArXoJimYzUkb39PRQW1uL1+st6EOv12u0TX6oyt9gor4wG0Fylai2tp7m5nLC4RiHxWqEhIB5LZUkUzEcdodhrBbPAw6Ho0BfaJo2QV9UV1cb58t5ZmBggMrKSrxeL3V1dcY7kPOKvF5VVSPNNOTfq3lsmefWXC5Hb28vNTU1xnuWoVzmeabYsJTzjPl4sSxFo1HKysoMJ5A5E5rT6TR0onmekceljjQfr66unpHNaUeM2yKkYmPc9d1vo7WdwI9Pfwd2W/6rvmPxMjoWLwP2CNoMt/NAEOjp5NUn/5Y3bM3xOACqytjwMK88+TfmdSzGafqaW7RoEdu2bWNoaIimpibWrVvHypUr2blzJ5Bf8rr//vt54YUXqK6u5rrrrqO5uZlsNsuvf/1rbrvtNpqamvjqV7/K5s2beeKJJ/jc5z5n1J/NZvnZz37G008/TXNzM1dddZUxiFevXs3vf/97rrnmGuN8IQRr1qzht7/9LR6Ph6uuuorm5mYefPBBEokE73znOznrrLOM87dv3873vvc9br31VhRF4fvf/z5Lly7lsssuo6qqipqaGk488UT+8pe/kEwmp80dKJVJKSi76urqLOcwtNvt1NTU7LO9Ho+Hs88+m/r6esNg9/l83Hrrrdxxxx3cdNNNlJeX8y//8i9cfPHFuFwu/vu//5s777yTm2++mYqKCv793/+9oP+L4ff7jU1gEoqi0NHRQVlZmfGb1+st8BJAnvs2EAhw44034nA4uPTSSzn33HOJx+MsWLAAVVXRNI1rrrmGxx57bML1kFfwk/2+X9CziKE+lEM51tYMRYFsGgIDMH/qDFper9daBhU9i562lqh+rkCkx0BkkdO0qqrU1tZaznMr9YLDYaNjSR2bN/e/LQb8bIAQAs2msmhxPeX+8pJwltfU1JSELrK2ttbyOUI6B6ye02YCR4zbIqg2jcqKcgLjMWLjCbyuySltSpFOr5QQQjAaCpFOJqdst6KqDPd2k04lC4xbl8uFz+dj27ZtVFdX89RTT3HOOefw3//93yiKwgMPPMDzzz/Pv/7rv7J27VpuvPFG7r77biKRCCMjI1x33XXcdttt3H///bS0tPDGG28U3Pfpp5/mkUce4T/+4z9Ys2YNd9xxB7fccgsAn/rUp/jMZz7DhRdeaHwVh0Ihbr75Zv7rv/6Lvr4+vvnNb3LPPfdw3nnnEQqFWL16dUH9jY2NrFu3jmg0ihCCxx9/nHe/+90sXrwYyMcJ/e53v+OEE07A55u+R14uI1k9EcjlKLDWS2ReUpqqXk3TuPXWW42yPG/evHl8+9vfNn4ze7EWLlzI7bffXvDbZJu1JE4++WROOeWUgo0GDoeDb33rW0DeYzs0NGRs+pJwOp2cddZZnH322RNk2Ol08v3vf9+4V1NTk5HswQy57L2vPpgWsllIxPOJDg4TCF1AYhxFTM0CYLfbLaXbI5tETx7ibBSTQkFPjEIuA7b8iozUC1bPO+bl9Lb2WioqPYyE4yWLuJhNEAKqqstobqmcsIHXCsg5wso6Zb1yz4uVKA7Vmss4YtwWwe4q48pPfpLPfeX/8KnPfZYzTj2RCtOObYTA7vLwrve8l/lNtfuubNZB7JMnUuyDuuZd73oXf/3rX1m4cCH9/f2sWLHCME6eeOIJPv7xj3PMMcfQ0dHBihUrSCaTlJWV8YlPfIJjjz2WSy+9lF//+td88IMfnFD32rVrqa+vp7e318iEJdHa2srKlSv54x//aHCjbtq0CbvdTiAQIJvNEggECAQC+Hw+EokEHo+H++67j0gkgsvl4qKLLuL000/n6aefpqWlBZ/Px5IlS4B8CMCdd97JK6+8wr333rt/vVm089QqyHqtVjClrtdczuVy5HI5MpkM2Wy2gDLO3AZN07DZbNjtdoMLMhKJsGbNGpLJZMG5jY2NXHDBBQflrbDsnaWSkE7mx8th4uUCYDyGEDqKMrlnRwiBruuWffyLbBqyCYN39nCBApBN5JM/OPMf3Fb3rURBHH6Zk7b2akbC1lJMzUbIb7T29hq8ZU6DpWcu6XKwfu4phYzNBI4Yt8XQ0/zpD7+lq7uPzu5+1j36pwmn+Ksauee+o+eUcasoCpU1tTg8btJT8acKqG2ej2OSZa/TTjuNv/zlLzz55JMsW7YMRVFIp9MIIUgkEsZXr91uJxQKkcvlCjY52Gw2g66pGLlcjq6uLl544QUikQhnnnlmwXnXXHMNN9xwA0uWLKG2tpZcLkcoFGL9+vVomsYFF1wwIeZ1ZGSEkZERw7N63nnn8fOf/5wlS5Zwxhln4HA40HWd++67j4cffphf/vKXBTGo04Hc+e12uwtirQ4Wkue2ubl5n2ls9xfJZJLBwUFaWlosTTohkyJks1lSqRSpVIp0Om38LrEvz66MuZWbDz/60Y8arA7mUAUrPBXDw8Ok02mampoOWIErYyMoFvMQz3ooQCScz8ZW5p/0lNHRUcbGxmhpabFmctQzoL8N8bazDYoCIpfPyLYHuq6ze/duGhoaCsbEwSKVStHf38/8+fOx2+0cv2o+298YIj6ePqRDb4UQ+MvdrDhuHqqq0N/fj9PptFSX67pOb28vVVVV+7UqOJ16d+/eTX19vaX1SpYdKQtzGUeM22KoDq678RY+9vkbyO+fnTi+Vc1OS8v8mWjdQaG+tZ1V7zmbZ//0h4Lf5VdgeU0tJ531PhyuiQZVW1sbHo+Hu+++mxtvvNHIjKIoCm1tbWzdupUzzzyTHTt2sHTpUhwOB5FIhP7+foM/dcGCBZPG8jQ1NZHNZrnxxht56aWX+POf/2wcGx8fp729nSVLlvDwww+zZMkSYyPQ1772NSKRCD/84Q8n1PuFL3yhwJh65zvfya233kpPTw8//elPAfjb3/7GD37wAx566KGCjUPThQzwtzq1oozTKkXMbWVlpWVxZULks+/E43Hi8bhBDyWNV7MXpNh7UbxhR3oMkskkyWSSSCSC3W7H6/Uamwit8iSUlZUdfPIRITi8fIl78BbPbX3qToVD2sJ6SxSOmaqqqpLEWVZVVRnvrb6pgiVHNfDKS92HdM8rChy9rJGaurxx6PP5SpImt7Ky0vI4abn5zOp65Sa4uZ6dDI4YtxOh51jz+9+w5rmXC3b4muHyVvCZL3yRVcvap6hkdkJVNc649HLSySSbnl5HKpkwnq92XjPv/eiVNC5YNGWM8erVq3n++edZuXIl8XjciK37xCc+wde+9jU2bdpEd3c3119/PW63m/Lycu6//34eeughtm3bZsTIFuOyyy7jqquu4tprr6W7u5srr7zSaEMwGMTn8/HBD37QCBtYunQpixcv5tOf/jSJRIKjjjqK8vJyFi1axH333ccJJ5zARRddVHCPyspKVq5cSXd3N62trcTjcSPlq4z1bGlp4TOf+cy0vSLSuLU67klV1YId5FZBKq6DrVcatbFYjHg8bqQ2NhuzB2KImq8RIp9eMpPJMDY2htfrpays7KDTupYqnvmwgaLs09aUrB5zfUlzNqJ4d71VsNlsBqMFgKapHHvcfHZsGyIaTR4Shk4xhBBUVnpZvqIJTVMLmAjkcSugqqrB9mJ1zK2ZdcQqyDniUBi/R4zbCRCMjobo7ekBk3ErhCAcHKJ3aJgzz7sEm23u7SZUFAVfRSXnX/VPLF11It3b30DPZfH4yjnqpFOoa57ojV65ciX/+Z//id1u5/LLL+fUU0+lrq6OVCrFHXfcgcvlYuXKldx9990MDAzg9/tZvHgxiqLwox/9CL/fT19fH1VVVXR0dNDa2srSpUvxer3ccssttLS04PV6+elPf0pnZyc+n4+Ojg40TeOuu+5i3rx5ACxbtoxHHnmEhoYG7HY73/nOd9ixYweaprFw4UI0TeM973kPP/rRjyaEKEB+GecrX/kKmUwGj8dDJpPhG9/4RkGyCrnTe38geSet3F1qjnuyEgdbrww9iMVijI+PG0atmfPUKpiNZF3XiUajjI+PU1ZWZnhYDuR+pYpVO4I85Hg4FGL2ZhtkLLtcMbOyXsn7LOttaPKz4rgWnnt6p2X3mS0QIm90rjiuhdp6/57f9uqFUqTgLZUuL0WMcClkbCZwxLgthmrn6uu+yj98+voCz60QgsjwILfc/B8kfOU01k00oOYKnG43R598GkeddOoEAS7+EvT7/UYK1MrKSmNTlxDC4NdTVZWWlhbmzy80jpcsWYKiKDQ1NRn1VlZWGl5JeRygrq6Ouro6hoeHCQQCNDU1sWzZXuo1m83GMcccY9Tj8/mM9K7mHffHHXfcpM8RDofRNM0wlmV9xdifL2GZucztdhfwIR4sZN7wpqYmy2Nuh4aGjCQL+wNd10kkEkQiESP84O1SfvI+uq4zNjZGMpnE7/cXEKrvD8LhMKlUisbGxjmvwGcbIpEI0WiUefPmHRJ0QrMJuq7T3d1NfX19AYftwUJmmWpubjbiLG02jeNWzWf3rmH6e0cPKeYEXddpW1DDscc1Y7PtTZ0+ODiI0+m0XJdL546VcdK6rtPV1UVdXZ3l8dcDAwPMmzfP8vCXtxuH3nrDwUJR8Jb5qKmpobq62virqamhY+lyPnPNJ9iw7lHWvfDqTLd0RlG8lGUV3G73hAQIVtVbVlZmuXexrKysgELGCsjlR6sD+m22PBn8/hqEuVyOsbExgsHg227YmmFO7hAKhYhEIhM2rU0Hbrfb0k0YhxfEPkONXS5XScbv4YvCTZfl5eWW6wVN0ybVC+UVbk5Z3YHLZTtkQniEEHg8Dk47fSF+f6HjwOv1Wk6DJd+Z1Yai5Fi3ul4pC4fCh+kRz+1+QrPZyWXSBAJDM92UGYXMTGL1JFaqVH0yC0spFFcpYm7ljl0r6zZnLZtuvdlslpGREcbHx43Jb6YnOmMlJRIhlUrtF+m4ohRmczpgOFxgs0M2c+B1zDkoe597Crjd7oL0ngcNzY6i2d6WBGWzDYpqR1ELU5uWQudOFWepKApLljYQHo6x7oltlt5zJiDH++p3LqR9QQ2KiaNa6nKrITP0me9vVb3mzGBWQbCw9B8AACAASURBVG46PhQ+To8Yt8UQOl27djI0PFJAVySETnQswt3f+y6jaVjQsWCGGzqzKCXPntV1ynpLxTdoNUppPMo4relAekjT6fSsU3ZybEp6s5qammlvZLKif4XPj3C6UQ4n41YIhL8i/9xTnmLtOFM0O0JzAjFL6pszEAI0J4rNUfRz6fTjZPXabConnNRGYGiM1zf1o87RpCV5uYSjlzdywsntE55jMspCK+9dCpRq7jlU9iQcMW6Loaf54a3f5N4/PFZ0QKDrAkVz8IlPX8fqlctmpHmzBel02oiNtXIJY2xsjFQqRV1dnaWDa3R0lGw2a2mea13XGR4exuFwGF/nVtXb399veapNaazW19e/5TszG7YwOxWdbFM2myUUClFVVfWWISJCCEZHR8lkMtTU1BzwcwmHE5wuiB1G2bMUBcXt3Wefyc2GdXV1lowzYXOjusvJJUIHXddcghAC1V2J0OzGh4Su6/T19VFTU2NpLH46nSYYDNLQ0DBpLL7Lbee97zuaZCLN7l2hkjgJ3g4sWlzHWe87GpttcrkMBoM4HA5LPbi6rhMIBIw9AlbW29fXR3V1taX1Slmor68/wnN7yEGxc/kn/5lVZ14wYUOZzeagfUEHHQsX4PNaG2c516CqaklCCOx2e0moZxwOh7VpQckbV06n03IlIJfOreZcnE5qRUnzNdsNWzMURSGTyRAOh6fF/Shl4aDuqWooFVWIwABoh8fWBUXVoHLfBPd2u91Sw0tRNFRHOYdhVAKK04+i7pXTUumFt9LliqLgK3dz3oUr+PMfN9G5e3jGQ5OmC7GHl7ljYR3vO2855RVT0wC6XC7L+xbyoTql4M8tpSwcCvRvR4zbYqgaK084mYbGHjZt2ckJp5xMdbmPeHSE3/7mD4yOW+upnKs4EnNb2pjbUvHcvlW9uVyOcDhsGLZzCZlMhpGREWpqaqb84LAs5lbVoG4ebN984HXMJQiBcLlQq+r3eZrlPLeKguKtB0XjcAq8VRQVVT638ZtSMp7b6dRbWV3GuecvZ82jr/PmzqClbSgF5PhevKSeM88+msrqqRkmSslzW4qYW5nQ40jM7dSY++Z5CdC3cwvXfvIqPnP9l9neGwAgERvjf358Jx/+8Ie5+4HfkMocPop2MsjYHKsHVynqNNc7F9pb6rZOVa+Zagtmv8e2GIqikEqlGB0dRdf1Sc+xqm8VVYX6pn1urjqkoOso/goU3+RpdyVKIbuqpxrVbt3S65yA3Y3qrp6UqnEm9U1VbRlnn7eMhYvqCvakzCYYcd9qfkPce89dTnXtvtlRSqVzzXXPhXpL2Q9vN44Yt0UQuTT33HEb63f08u833cSx7c0AVDW0cO/PH+SSdxzHHd/9v7y6bdcMt3RmIXNQT2VEHCgikQiBQMDywTUyMsLwsLXLaUIIAoEA0WjUsjohb2T29PSQSqUsrTedTtPX10c2m51wTAhBIpEgGo1aTgz+dmN8fJxoNDrlux4ZGSEYDB6cLCgKlFciynwcHml4FahtQDj3HY4Vi8UYGhqyVi84/ShO62LaZzuEECiuKhRX4YeEjMVPJBKW3i+TyUypFyZDdY2PC9+/khNPbsNm12aVMSTbYbNrnLZ6IRe+/1gqKqf3YRQMBolEIpY+i+RCj8fjltUp6+3t7TUcEVYhk8nQ398/bVmYzThi3BYhGR3j5Vc28Z4LLuMD55+D253fraooKvPaFvLZz/4zzlyCDRsPk+XIKaAoSknikzRNw2aznldR0zTLw0lkcolSxCdZHR8M+Xc2VfradDptuWKfCchnkzRhkz2PZbLg8aEsWHp42LYuN0r7EhRt355qRVEsH2eqzYVatYB95v09VCAECIFWswSK+lqIfCZEq/XNvvTCVPCWOTnzfUdz8aUr8flce5o9OwZCRZWXSy9fxRlnLsHlnj4PbCl0uXxnpWBgKMUcAZRkXp8JHBpPYSEUVcVmt5FKJSf1Psjf5iolilVwOBzU19dbPrhkogWr6/X7/ci0oFahVFyDqqrS2NhoaZ2Qf2d1dXUTfs/lckSjUTKZzJz22JohQyyqq6sLjK3i2LqDhdq6CP31V/J8t4dI301ATof6GqieKDvF8Hq91sfNKyqav4Wcw4tIxw7dfib/naTY3Wi+Zop9T5qmlUTn2u32A2KnUVWFJUc1UFvr49mndvLG1kFSqSzw9rIpSJovt8vGiuPmc8JJrVRW75vVYzLItO1WhltomjapzrWi3oaGBsvrPVBZmI044rktgrPMz0knHscLa//Cw39bS3R8nFQqRTKVZKivk3t/dh9Zm5dlS5fOdFNnHHOJv69Udc+1Ppis3mQyafmy2WxAPB4nmUyWVp5qGqC2AfTZ4bUqCVQFpW0xOGcw7tVVgVreOmu8g6WEVtEG7rkRhqGqKjV1Ps658Bjef/nxLD26AafT9rbEbsr6HQ4bRy1r4OLLjufd711KVY21mShnK2ZTOMhsxBHPbREU1cZHPvnPPLt+A1/9/Kd54JgVtDQ1kE6Os33rFroGw3zqizdw/NEdM93UacM8CHRdJxaL4fV6UVUVXdeJRqN4PB7sdrtx3O12GzvOY7EYTqcTh8OBEILx8XHDM9bU1EQ8Hsdms+F2uxFCEI/H0TQNp9NpxHLqum7kwB4fHwfyzAhCCNLpNNlsFo/HY+Smr66uNna1p1IpMpkMXq/XoH1KJpPGM2QyGVKpVEF5fHwcn8+Hpmnous7Q0BA2m42amhp0XScej+PxeNA0jVwuRywWw+PxYLPZjD6QZSEEsVjMoIqRfeZyuRgdHTXowGw2m5EOUfaJpKWKxWKoqmrQJEmjS5YTiQRCCDwejxFzW1lZic/nQ1EU0uk0qVTKSBubTqfJZDIGtVc6nSaRSBjnZ7NZEomE0SfZbJZIJEI8Hje8wlIO5Ps8lCC9L9FoFKfTiaZpZDIZ4vE4uVyObDZLRUUFiUSCsrIyVFUll8sxPj6O1+s15EKWbTabISdmCp5oJot7wVFoQ/2gH4KbTPckblDmL4Q9+kL2gRxbZn0Ri8UIh8M0NjbicDiMseZ0OgvGkllfRKNRHA5Hgb5QFMUYG/F4nEgkQoV/EWr4TYRubSz6bIHYk7hBq1tBPJ7EbrcbfTI+Po6iKIRCIWpqagzdLXVoKpVC13WD5zmVSpFOp41VinQ6TTqdNrzq5rKMs6yoqDDS8Er9YdaR8XjcWFnLZrMFY8NmU2lo9HDehcfQ1xfhtVe66e0OE49n0PU8HZcVYSXmBAMej4PmlgpWntBKy/wqdD1DKpXAZvMam0uz2ayhI83ziOyjVCplPFMgEEBRFIP/Ws4z5meWfaBOMRaK9cfY2Jgxn7ndbiKRCF6v15hrx8fHcblcBXOvpNMTQjA2NobL5TLm3kQigaqqOBwO+vr6cLvdeDweQw6kk0K+ZznPSC7cRCJBNps15lIpJ/IZU6mUwXlst9uNeaWsrMzQoePj40aKbSkXZjmJRqPG+VJOZsIIP+K5nQTtS1dw149/wuev+TgiGeWVl19my9YdtC5ewe13/oDr/+kTuB1zZ5e0rusFxm04HDYCxiXJtNy8JBMTmDczjYyMGGUhBCMjI4bxJsvSYIV8IgY5yOQAHR0dLTg+NjZmlBOJBGNjY0bYgIz/lIjH44TDYeMZ0un0hPLo6GhBeXh4mFwuZzxTNBo1QhIk3ZU8nsvlCAQCBv2VEIJwOEwmkzGuHx0dLTg+PDxMIpEwYuAikUhBcL+5D2QfmjeeyU1PErFYjFhsbxYmXdcLYmCTySQjIyPG8WQyWdCnUilJI1XyvsrrJU2WXKLPZrMEAgHDu3moIpVKGc8nE48AhpyZ5SSXyxEKhQrKwWDQeO/ZbLagDBAOhcjN7zg0vbdCgC5QFy+Hijy/rewj89gIhUIFDBvje1a78lWIgrEh9YVZ1sPhsKE/pPFrPi71he6uQfXPM+JSD0WovkZUXwORSMTYOCb7MBKJGLGxsVhsgv4oLofDYaOcTCYLdGo6nWZkZARJjyiEIBQKGfpDpt2WZakzzfolEAgUzCMjIyNotjz11sUfOI4PffQkVr+jg6Z5Fbhc9j2hfHs9umani3ylhX/ynD1JLVQFt9vBvOZK3vHORXzoIydy8QdXsWhxPS6XnWg0WqAT5UfRVH0wPj5e8MyqqhYYYlKHSmQyGYLBoPHMsk+Ky2b9IfWLoiiGk0WOHSHEhHklHA4XvPdQKFRQNs8rNpvNMJ4lRkdHC8rxeLxgro3FYsZ7l8dDob0JUjKZDNls1vB8p1IphoeHjT5KJpMFG76z2WyBXEgdKZ8xm80W6Ni3E4o4zP3acnCb/y10nUQiTl/fIHUN9WgqZDNpXtuwidaFS2hpqkcrIm6ftB5RGHtUXJ7Ob5PVtT/XPP/883zjG9/gxz/+8YQ4zv2pB5j038W/TVbXZNdMt8+mOs/qPtzf+0/VJ+ZrzL9NVp5Om/bnmn09w2TnSiM9Ho9P69kPtG+tuGaqPtlX/fLfbrfb8HYV96csT9Wm4ntN9t4BxPbXYN1jiEwqTxN2AH24r3/vb12W1KMLRGUN6vkfzies2Mf7kJhsPBS3aX/eYWH9glykh8y2PyL09Izpi5LJus2FveNcbFULDkhfHMy9zfc60LqmqieZyBAMRBkcjNDbHSYcGicymiCTyZHL7XG8mK/Z4+S12TQcdg2f30VtbRktbdU01PuprvXhcE7cpDWd5yj+bV/XSOyPvnirPpyszun04b50+sG2aX/e62TjfV91yvKvfvUrfvWrX/HAAw8YqwlTvYPpPsdb4UhYwiQYGx7ga1/+Vx57cTv3Pvggq5cvYrhvF9df+4+M4udbt97GB897N9qhH9ZjYF+CNZnQ78/x/8/eeYfJUV1p/1fVuXu6J89Ik5VFUEBIBEk2iCjZ5AVsgwnGhJUx+AOx3iVYBhOc1niXYMwCshfLpDXINhYmiiQyKKAsjSbn0DPTOVXV90erSl2tntGMploJvc8zj1Rd1bfvPffcc0/d+95z9lb+/sC+/H7qdzJ9P/3+3mSQ6fsj+c5I25BIJA7JZA0jgSAIGu0lU+ayvclsuP0q1ExBqa+FnZtHXeeDBqKAcPxc8AzN/xxq8h7s+X3Ra0UBk7sMuWgKUteGYX//UIEpfyKm3CrA2ENN+wuD1dlmN1NZXUBldQGzT6ghkZAJBSJEIgl6e4PJlcIUyoICWKxmCvKd2B0WHE4rVqt5UEcxvQ5G1HmwskY7TxkxVxpdp+GUP9SL/lD1OZDz+hFaQjpkiSf++9f85fUPufraG5hanlztzC0p5/dPPMX0ynzuWXonG3c2HeCKHlioOaiN5moGg0HdtolRULesjKyvouxJyTAC6vaV0Y5nPB6np6dH20aLRCKHRTzDvUGWZY3TrChJjqfROiZY7Qiz5kJuPiiHCX953BSECUfvsRI9FEKhkG472yioXHxEM+byE8FekPR2DwcoCqKzCHPZbATT4OtNmShjRiDdLhgBRVG0Le/0cWaxmPDkOSkdm8vRx5YxbUYl02bu/ps+s5KpR42hdGwuuXlOLBZ9aLn0rXij6tvf36+jwxiBdNqOkeWmU6SMQDZ04UDhiHObhmhwgNUffsK8sy9g8fevoCAvST63WGzMmXcK/77kJqSBLtasO/xWDkYCRVF0XF6jIMtyVg43qY6N0ciGDNS6ZqNcWZa1t2mVu3WgV82zDUVRiER2h/bLii4IAhSWIMyal4xPeig7XooMuYUw++sIluHHCYXkeMgGv07tM0EQEGweLBUngWlkdTsooSQPkVnKTkBw5O/lUQVJkrJmx7KBbNU1G/XNli3PZrnZksPhgCO0hDTIkkw8nsDlcGLeIxi5QG5uHmaTSCR6+B7CGQ5sNltWYi6qp/2Nhhrn1siyBUGgsLDQcMOVGsPQyLJT49wmEgmN9P9VQDweR5IkTCaTjvNlJAa6IwSlMsYePRPWf5ZcOjjUXhwUGexOEjPm0d4C5Z4EFtvwp4mcnBztJLaRyMvL022NmgomIge7kDrWJOt8qMlZg4CpdAZCwQQEYei1poMtzu1QEARBd4rfSKTqglEQBIGCggJDy4RknxUXFwPG2htVF4yWw5E4t4cxbG43xxwzmTUfvcOaTZuJ7ZoUJSlB0N/PKytXEpZNjB837kBX9YAim6uL2XjbP5Tqm626ppatOntfBQhC8qRy6qlko2UbCyfY8WErG1a10Fc6E2H8pGT0hENpBVdRwGJDmX4SjQP5rP9nHW1be3eFchpuEftnnAkmC+ay2ZgKp3IoZi5TlKRumIqPxlw2C0EcXvSdbNuFkWLdunX89Kc/1b0or1u3jnvvvRdFUVizZg0/+tGP+N73vsfvfvc7HZ1g48aNLFmyhKuvvpoHH3xQF8kgE1asWMFrr72mrWC//fbb3HDDDdx2223s2LFjxHVPxf6wudkoNxtlZqu++xtHnNs0iCYbl131fSyRHq6/5nvcvvRennzqKX7/2CPccM3V/Or3/8tpF1zKSTOOPtBVPaCIx+MZ+VSjhRq+xehyA4GAFm7MKCiKogvZYxRUbp3RK6tqaBtJkgZNTXu4QlGS8ZQVJRlqykgdUxSFrro+2nd4CQ9EWbuqg+Axp0LpWDhUcvMqCogiHDWDFtM4tq1uRYrL1H7cStg3fI5nOBzWheUzpmpJnnQ6t120urBUzUN0VxxaLxG7ILjLsVTNR7S4hvW8yt/MBs8yNYTVSFBTU8Mf//hHzWlVFIUVK1ZgsViora1l8eLFHH300Xz3u99l9erV/OpXvwKgtbWVm266icrKSq666io2b97MXXfdlVFvJEnib3/7G0uWLKGurg6/38/mzZu5/fbbufLKKykqKuLOO+8cNQ/X5/MZHpNVDZFmNE86W7qghvY6HBY+jji3GTDjpFP43z8s48Tpk/jbC3/irjvv4Gf3/ZINta38vzvv5Rd33kauy36gq3lAoQaoNtpBikQihh/QUsvNRhau1JieRmJgYMBwA6P2WbZ4kQc71DZHo1FDdSwelqj/vINEVAIBfF0h1r3vJXriN6B47CHjeInHHk9nwUy2vNtGPCojiAIDHSFat/QiS8Pj4UWjUcMP5UDypTfjS6TVjWX86Yg55Ul6wqEia9cYbBMWIgzTsYXdL9NGH/YZjS13u92cdNJJfPzxx0Dy4O769es57bTTWLZsGaeeeirXXnstp59+Oj//+c+1uj/77LNMnz6dm2++mQULFvCLX/wCyLwauW7dOlasWMEZZ5wBJHXh/fff5/jjj2fevHnccsstbN26ldra2n0VAZBcADH64Jf6YpYNCtjAwIDh5WZrXj8QOMK5zQRBZOaJX+N/l88nFPTT0+vFbLFTWlKM2ZzOw/1qwm63M27cOMO5OQUFBclDIwaXW1RUlBXObVlZmeGGQBRFJkwwPgOezWajpqYGWZZ1gbq/KojH48iyTGFhoaHldtR66W31a/IUBOiq6+NzBWbOP4ecre+j1G9Du3kwQVHAZII5C2i1jOPLV5uIBOIIwq6DhiI0ru1g7OR8cgocey1OzXJl9Dgbil8oOAqwTFpEvOFt5L6dhv2u4VAUFARM+ROwVp+KYM8dkT6Iosj48eMNH7eqXdiXckVRZNGiRaxcuZKzzjqLnTt3EggEOPbYY7n33ntZvHixljimqqqK+++/H4C1a9dyzjnnIIoiiqJQWFjIf//3f2esw6xZs1i2bBlLly4FoLS0VMuQpcLv99Pc3MysWbP2RQQAlJWVAcaGYRNFkaqqKkPKSi93/Pjxhs89o9GFgw1HVm4zQiESCdHV1UFfvw+TyYwiJ2hpaWLjxg2sfv8D2jt6917MYQzVATV6EGSjzNRys1W20eVlS7aAxrn9qkE9XWykbGPhBI3rupATSopzmyy/p76fz97owDtuHkybA+aDLIqCIqPkeFC+toidsSrWvtJANBjflUkqCUEQCPREaN/WhzIM7u2BGGdaBIWJZ2MqORZE88ElZxWiGXPJNMzjzxyxYwvZt7n7Guv7zDPPZNOmTfT19fHhhx+yYMECLBYLkUhEO6T105/+lOOOO46jjz6a1tZWwuEw+fnJ6BC/+c1vOP7446murqapqYnVq1ezatUqVq9eTSAQQBAERFHU1W/WrFl89tlnfPLJJzz66KPEYrFR7cxly5nL9ng4mHThYMMR5zYDWnZu55bF17Nw4UIWLlrI2Wcv5Bvf+AYLFy5k0aJvcN0PfsTGnW0HupoHFNmKc5ueHtAoZCPOrZqW91CLc2u0g3eowcg4t/0dAfrbAnv4KYIgaNv6n7/ZQZP9GOSTz0DJ8Rx4x0vZlRGqvIboSd9kU7OHLauaiEczr+YrKLRv9xIN7X07PBgM6tJxGlNdZa+xTQVBQDQ7sFSfiqXiZARrzoGXswpFQbC4MFfMw1w1H9Hi3KcVfDW2qdFb5+r5iX2lKpWXl5OXl8eWLVv45JNPOP300xEEgfz8fLZv346iKNx44408+uijSJKk7Z40NzcDcNVVV/HUU09pB8WWLVvGo48+yh//+EddynEVfr+fsrIy7rrrLh5//HEkSeLYY4+loqJin2WgxrnNBudWTdVuJGRZpqurKysxj0ejCwcTjji3aVDkBP/7+4f4v5VvMuOE+cw+djJNbZ2ctug85h0/k2AwyJyvn8FxR3+1oyXIsmy4IYCk0xyJRLJSbja4sZFIxPBVUFmWCYVCWeHchkKhw4JPNRqoOmYEOnd4keLy4KuKokDQG2bDqhY2txcSOekcGDcZzLtWF/dXX6i/pSgoThfKzJPxTjmNtZ/F2PlJB5I0RBsEAX9XEF/X3l/iEomE4RM5JLm8w3nZE8w2TGOPxzJxIaKnCgTTgXNyFQVBEBFyq7BO+gbmsbMQLXundgxenJIVu6Da8tG8kJx99tk88cQTBAIBjjrqKERRZO7cuaxcuZJQKERJSQmlpaXa8/Pnz+f111/H5/NRVFSkUQIAli1bxosvvsiTTz5JZWXlHr8ViURobm4mGo2ybNkyrrnmGmRZ3iO9/EgRiUQMX1BQFIVwOGx4n2VTFwKBwGER6/YI5zYNsaCPL75Yy5wFi/j1L39J09p3eef9j1l47gWcOusoyu/8f7y1cRMDwSBF+TkHuroHDDabjerq6qxwbsH4baJslCuKohaP1kiYTCZqamoML9dut1NVVXVYvJWPBkbFs4yFEnTs3HNlKR2CIJCIyez8uI3e5hwmzf46JeUTMG9fD72dIEnZc8BUp1YALHaoHE9k3Ewa2600/rOdsD+m0RCGSqcZi0h07eyjuDoX0Tz4mojH49mDDzlaCIKgxQod3vMiYm41oqOIRPcWEp3rIdpvWH2GxC4ZKigItjzMpdMxlR6LYLKPWiYmk4nq6mojaqmDzWajsrIScQSZ6NLxta99jQceeICrr76a3NxcILkiu3LlSm699VbKysrYuHEjkydPpqCggAsvvJC///3v3HTTTYwbN44dO3Ywbty4YfVzcXExkiRx880309nZyebNmzn55JNHzW1VbbmRnFuTyTSqFeWhys2GLlitVqqqqkalCwcLjji3aUjEEwRCUWqqJuKyOyivrCTP7WRLYwtnzTueiy+6hJde+398un4TEypK917gEYwIRh/62h9lZ7POR3BwQlEUgn0RQt7osMKsCoIAAvS3Bfj85SBjjypkwoxzyI+2IGxZAz1dSSdXFEbv6KoOrcqRtdsRyqpITJ1Dq89F3bsd9HeoXMbh621fe5BYNIHdPHRmsEx56I3ASMeZYHVhLpuFKX88Uuc6Et46iPkA1eE3qH7p/WXLxZI/PpmcwVFgqLN0sNrHqVOncs899/C1r31N+ywvL48XXniB1157jY6ODr7//e/zta99DZfLhaIo/PGPf+TNN9+ksbGRSy+9lNNOOw232z3obyxcuJCcnOSCUmlpKX/84x955ZVXOOOMM1i0aBEWy/BiBR9OODKnDY4jzm0arDYr+Xk59PV2EE/EcBaUUuj2sGnjNmRZweF0gJygt/erfaBMkiQCgYDhqzTRaBRJkjQjZhTU9KtOp9Ow+iqKQjAYxGQy4XDs+3ZjpnL9fj8ul0s7aWwEJEkiGAxmJWvQoYRUXdhXKDJ4W/1JSoJpBA7XLt1r3dhN+9ZeSicUUDX9AoptA5jbtkNTHQR8e67m7k1n1WdVp81iheIxUDWJSEEV7T0W6l9vx9fRph3OGZGjKEDQGyY8EMXuGty5jcVixONxQ8cZJMM/qVmvRgYB0VmAOO40TBUnIfduI+GtRfF3gDzKLWglxUkWzQjuMswFkxDyJxKKgd1iM3SCVe2C0+k01JFTbbnb7d5ne2M2m7nmmms0u6IeWjWbzVx66aXaSmCq3fF4PFx00UXDdqTmzp2LIAgEg0EEQaCmpoYf/OAH2v3R2rRs2fJgMIjNZjO0z1QeutPpNHSVVZ0jcnJyDJ17DgSOOLdpMDtzWXDq17n/0T+z7JkTuObSc5k9YzIvrfwLby2cy2evvEh/IEpxcdF+q5OiyMm5SxAOmlw8iUSCgYGBId+09wWRSIRoNGp4Cs9wOEwikcDhcBjq3AYCAex2u+EGsb+/H5vNZqiBSSQS+Hw+HA4HJpPJ8HiZBzvUfg+Hw8Tj8VHpgizL9LX5Udi3/FiCKKDICu3be+is7SWnyEHpxKMYM2cWHnxYfF2IXS0ooQD4ByCeADmhNiS1JLCYwOYAVw5CbgFySQURVzF9fgsdO/10v9dO1B8HAUSTuM8ribFwAl93kPyywce8GufWyPEAux2P0byQiBYnQulMxOJjUEI9yL4WZH8bctgLsQAoCT0POlVG6v+TMdJAsIDNhclZiOgai+gpR3CVIIhmJEliYKADUczHbDZuilXtgsViMdRRUu2C0S/TkUiEQCAwqj7LhH1/0RkawWAQq9WK3W5cDHtZlvH5fOTl5Rnu3A4MDGRNF5xO5xHn9nCDIAhcfMW1rNu0j94SDwAAIABJREFUnVf++Q8uOW8R3/nedax87zqu/NYlxGMx5i+8gLnHzxj1b3W01PPu+x8RTwmQrigKVnsOXz9lAaWFOezY9CWvrlpFNCEy5+T5nDznOGyWA99tNpuNiooKw7k5Kl9LdTra29v54osvUBQFu93O1KlTMx4yGAodHR3s2LGDuXPnIooiPp+PDRs2MG/evIzPy7JMfX39kLFmJUnSOGR2ux1FUWhoaGDTpk3U1NQwZcqUfTY6oihSWVlp+LaQ1WqlvLwc4JA3XPsCk8mEKIrk5+ePettNTsj4u0Mj2tZPh7p6qigK/u4w/u4wDV+YcObb8BQXUzC2GttYgRx7AgsxTFIiyeVMrbcgEBdtRCUToYiJUECi98sggd5uwv6YlnxhtONUEARkScHfNfRhMbfbjcvlMtwuFBUZs5iQjN1rQXSXIeaMTa7eJqLIkQGUmA851AuxIKDodERRD4dZnQjOIgRbLqLNg2KyIZisuj4xmUyUlZUZPn5FUcyKzVXtgpHlCoKA2+0mJyfHcDkYHadahcr3NZpzO3bs2KzpgtGw2WyUlZUd4dwerigqr+bXDz9GZ08fxQV5lBWfwp+XL+fNd1bjyi/m7LMXUlE8+kMp7fXbWfbUkwTCu07xC9BQux1HYSV/fnYaHbVr+eEtS1BsHpxmhf99ejm33/tzvn3OGZgPsHOyv2JZfvjhh/ziF7/gG9/4Bs3NzdTX1/PQQw8xbdq0YZf52Wefcfnll7NmzRomTZpEQ0MDt99+O++9917G5/1+P1deeSUffPBBxvuJRIIVK1bwyCOPsHz5cioqKqirq+Oaa65h3rx5PProo1x77bX8y7/8y/AbnoZsy9ZkMh0WvKqRwGKxaEZ7tO2ORxLEI8nQWYoBKXbV+iRiEr7OEAPtIZo3gigKWOxmLHYToknM2GfxaIBEVEKKSSi73pNVJ1gNkm8EFAUiwfiQepMpJqkRyNZ4UEQrWK2IVrfm1CiKhICQwbkVEMS0cTOILLI1rrLhdBxKMcAPpTKzXXY2dexwmBeOOLeDwJNfiCe/UDNkM0+Yx8wTkit9yc9G/xvHnHgqf35ulrbj1dm0g2uu/VfOv+YHTKnI5Z7b7sRdfRxPP/Yb7CaJB++9gyeffIJTTz6BipL80VdgFEgkElnh3EYiESRJ0tESpk+fzj333IMkSSxZsoTnnnuOadOmEYvF6OrqAqCkpASr1YokSXR2dhKNRikoKNBWgsvKynj00Ue13Oap6O7uJhQKkZ+fj9vtpquri6amJpqbm/d4i1UUhSeeeIKVK1cSi8UIBoNEIhFWrVrFzJkzue+++1i+fDkvvPDCPju3qdw6I7c1E4kEoVCInJwcbDbbYWHARgJ1tVrl3I6GlhANJYhHkul2DfBtdRAEYVcEKwUUiIcTxELJcHODOZbJzwQQdt1XsjP5RQIxElEJiz2zXkajUeLxuKG0IjXskdFb0Sof0mw2Y7PZAFVmpl0y3LsTmwlqKD+jeZayLGeNcxsMBnG73YY5z4qiEIvFiMViWaGYAVnXBSOQbV1wOBxYrUMf8BwJsqELBwqHdu0PcVitNgoLiyguLibf4+Lp3z9C0eRZfP+ySwn7vHy+YTuXXf4tSgrzcOcWcMml32agtZ7ats4DXXVisRidnZ2GH0waGBigp6dn0HLtdjuSJKEoCg8++CA//OEPufHGG3nooYeQZZm//OUvXH755dx8881cf/31dHR0ALBgwQI+/vhj6urqtLIURWHDhg1cccUVLFmyhBtvvJHW1lZWr16Nz+fjT3/6U8a4h7Nnz+bhhx/G4/HQ29urxXbcsmUL7e3tbNiwgeOPP36fZSDLMm1tbYbHXFRfBiRJwmKxfKWcW0EQtElL1bHRIBqMk4jtv5Bqqatr6X/7rw4QDcSIRwfnagcCATo7Ow2Pk9nX18fAwMCwnh0YGODBBx+krW13oh1Zlrnvvvu0wPf/+Mc/uPXWW7n77ru1RAOQfPH561//ys0338yDDz5Ie3v7kDaup6eHP/zhD9p1JBLhhRde4JZbbuGVV14xPGlMW1ub4UkcVFtuNAc/GAzS1dVl+BzR398/bF0YCbxeLz6fz9Ay1YQ82Uji0NHRkZWEHtnQhQOBI87twQBF5suP3+XZVz/illtvoaTAjb+ng2BUprx0dxzV/OKx5FpgZ3Nm51YNwNzf368ZADXRQuopVtU5zHQNaFlkUstNv2+325k8eTImk2mP8tQ0p6nfH861oiiUlpbuEa/wyy+/5O677+aHP/whr776Kt/5zneoq6vj7bffZtmyZTz55JOsWrWKuro6nn/+eX70ox/x4osvcs4552jtHzt2LIsXL+aJJ57A5XKRn59PPB7n/vvv54477uD555/nqKOO4i9/+Qvnn38+BQUF3H777drBGLWNgiAwe/Zs7W25urqaoqIipkyZgs1m48orr+Sjjz5i7ty5ujamy1iVUyaZmEwmpkyZojvYkOn51Hi16vVQ/Wy325k4cSJWq9XwgwgHMxRFwWKxYDabkWWZ0tJSLUbkcMZCpvvaSulXDSk8YRWp9qKgoIDq6mrd6fhM9iNdpkPZB3X8jhkzRmdf1DLSn/d4PHzwwQesXr1au79hwwZWr16NxWLhwQcf5JFHHmH+/PkUFhby3e9+l/b2duLxOA888ABPPPEEp5xyCl6vl8suu4yurq6MbWhvb+fWW2/lqaeeIpFIoCgKjz32GG+//Tbnn38+v/zlLzVqU6bvD9XmTDZVFEWmTp2K2+3WPT+Yzc1kH1Jlqv6Gw+Fg4sSJGlUpU7+pz2f6fqZrSJ6fGD9+vEaNGWqeGe48pCZrGDNmTEY9SG/zYPNM+vOCIFBZWanj8w6nzXvTbUEQmDBhgraDqOrJUDIebGyk9rPZbGbKlCm4XK4h2zjYPDNYv9rtdiZMmKDNb8Pt973J6EDgiHN7ECAc9PHk479n9hnnMn/mUQhAPBpFlkRMpt3bfyazGatZJOrPnEPb5/OxePFiTjrpJObOncvcuXO59tprdalGE4kE9fX12htfIpFg+/btBAIBIPnmVltbq0t12djYqF3LskxTU5NGB5BlmYaGBrq7u7Xn29ratFBpsizT3t6upVoEaG1tpbW1Fdh96rO1tVWrY39/v3YfkgPObDazdetWrr/+eiZMmMCaNWvYsWMH1157Ld///vfZvn07/f393HDDDSxdupTvfve7lJeXU1NTg6IoeL1ezj//fLZt28aWLVu0TEqdnZ088MADnHvuufzf//0fnZ2dWr1DoRB///vfmTVrFjNmzODee+/V7jU2NmqZyeLxOHfffTenn346r7zyCj/96U+5++67aWlp0drQ1NSkrXQrikJPT4+2qgzQ1dWlk6FKjVANg8/no6mpSdfXLS0tmswCgQA7duzQ3rhDoRANDQ2a4QmHwzQ2Nmr3BUEwdDvrYIea637btm1av4VCIWpra7UV8lgsRn19vXYdjUbZvn27lrM+Go1SW1treLrlQw2RWETL9pduLxKJBDt27NDZi+bmZt11Y2OjTtfr6uq0lXQ1rWjqynpbW5vOHrS1tel0v7+/XzfW+vr6mDNnDq+99hqQHCtPP/00s2fPxuv18uqrr/LjH/+YCy64gP/4j//gggsu4L333mPLli28+uqr/O53v2Pq1KksXbqUOXPm0NDQQENDg05PNmzYwB133MGECROQJIlt27bR39/PSy+9xK233sq0adN4+OGHqaioQJIkGhoaNL2RZZmdO3cyMDCg2YP29nZdqtnW1lb6+5OJJxRFoa2tTbcS3d3drdmq9GvVvjQ0NGj30+2F3++nublZsy9+v19nP8LhMA0NDdpYiUaj1NXV6e7v2LFDN480NDRo15IkUVdXp+lJIpGgtrZWWxlVFIWWlhbddVNT06DzDEBnZyc9PT3aboV6nXq/ublZa2NfXx9tbW2ajAcGBnTzUF9fH3V1dZqNTLeZ6rVaXigUYseOHTrdT21juv2IxWI6e5FIJNi2bZtmTyRJoqmpSacX9fX12typKAo7d+7U6UF7e7suDGlra6u2u6DKNHVe6enpob29XacnjY2NmoPr9Xqpq6vT2ujz+XR64fP5qK2t1frd7/ezbds27X4kEtlDT1LbGIlEdN/fnzjCuT0I0LxjC+99vom7H/13bNbkaprFZkUU9W9FiUSCWELC4socZicnJ4e7774bv9+vbVl++eWX/OlPf9IMgtlspqKiQnNs1GxY6rXZbKa6ulrH9SwrK9OuBUGgrKwMRUmGpcnNzaWiokK3PVpSUqI7uFNcXKx7uy0pKQF2RdeRFXKcOTgdybiYkUgEURS1ZwDGjx/PbbfdxplnnskNN9zAokWLKCsrY+rUqdx7771YrVZaW1uZOHEiVVVVvPrqq6xatYqf/exn3HHHHQiCgN1ux2Qycckll7BixQpMJpN2wOi2226jpqYGr9erhTYTRRGHw8GCBQs49thjURQFj8ej3SsvL8dsNmvxaLu6urj44ouxWq0cffTRmM1mXbrfsWPH6jhM+fl6znRhYaHubddkMlFSUqLJ1eVy6VZyc3JydOGWXC4X1dXVGq/U4XBQXl6uXdvtdsaMGaPjUzmdTm1l+3CmKKj973Q6qampSY6jWAy73U51dbW2gm21WqmsrNRd19TUaHQGq9VKdXU1VquVAMamXD6UYLXYBrUXkiRRVFSk6aYoiowdO3YP+5E6FiorKzU9FQRhj9PwJSUlBINBQqEQTqeTkpISnc6qERpUeDweFi5cyFtvvUVvby95eXmsW7eOn//85zQ1NSFJEieffDKCIBAIBLjlllswm828/fbb5OfnU1lZSTQaxWKx8LOf/UzbnVL1wmKxMHnyZH7729/S1NTEG2+8wbhx4+jo6MBisfDYY4+xdetWZsyYwdKlSzV7oX5fEASqqqp0Nra4uFgnk9LSUp0NVds8MDCAy+WioKBAZ1PTs+7l5+dr9goy2wubzYYoikiShCRJVFZWanWy2+1UVFRo1+rYSLUnqWPDZDLp2iiKIqWlpUSjUaxWq5ZRK7XNY8aM2UMvUvUgPeJEUVGRFudWvU5F+nVubq4uVGW6nuTm5mqRPdQVx6KiIk3uqgxUOBwObfxDUg8qKyt11xUVFTo9qaqq0lJHm81mxo8frz0viqJublUjIKTKIFVP1LlUre/AwACFhYW6HTh1d0OFGhlGhXoORW1jbm6uLqa8w+EgFotp30mfV1wuF+PGjdO+r0ZNStWTcePGaXqhZjL9/PPP2d84snJ7gKEoEuu/+AzFXcqJxx2LuGsw5xSU4LCL9Hh3v5n6vN344lBZljksjtlsZsKECcyYMYMZM2Ywbdo0JkyYgNls1oyEOtGryqk6cakDSl0pVWGz2XQDTFXc3t5eFEXRkeXVFcHU561Wq26V0GK2Eu9N0PpBBzv+Vk/dP5rp/KSXQFsIv89PIBDQDViz2YzdbmfGjBmcdNJJPPHEE0yZMoVwOEx/fz/d3d089thjJBIJ7rnnHtauXcu8efOoqalhYGAAQRBob2+nv7+fs88+m23bttHa2orVamXWrFmsX78ek8nEs88+y9atW7XfbGxs1AbzhAkTdKFi1ANZAwMDJBIJpk2bxt///neampr429/+htvt1qXmtdvtGs9VEATMZrOujak0AVmW6e/v13EqzWazTobqwQf1vhp8PLVf7fbdKT/Vz71er/bWrdITDmcoiqLpjyojlbqTPhbUfk29ziTTr2IYtVSIuyIiwJ72IhwOEwwGdfdV5yb1+VR7kX6tUkhUqKvugUBAKy9V9y0Wi+4QkLplW1RUxLp16xgYGMDv9zN16lQikQh5eXk4HA5aW1s577zz+OY3v8kf/vAHgsEgY8aMQRRF6uvrOe+88zjrrLN45pln8Hq9bNq0iQ0bNuD1enE6neTl5Wkny51OJ729vWzatImJEydyxx13UFdXx0svvaTpVSYbq47x9LGYbnNVm9rd3a053ukyS79Ol0m6vVCv4/E4/f39WK1Wnb2wWq1D2pP0eSR9LEmSpO0apo+dTDLJNM/o5o1dbfT5fNockXp2wGKx6Nqg2sxUm5t+P7VNfr+feDyeUUZqG1PtQSZ7kS4Tq9VKf38/kUgkoz3JNDZSZZB+reqBLMva2ZTUNqpz7WDzhqoXqTJJlYEal1ddVEu/r9rQVJkMJaP0+/sTR5xbkhNgNBohHA4P8y+CJBnDI4lHwqxbt5bxR02jrGj3m7a7oIRjxpXxt5Wv4g+FiUbCvPXGa9gLxjK1vGSIEvcP1Df3kZ6olKISravbWf/4ZrY+V0vTm600vdnKthd2su73WwhvjlGcv3vlN9VJtNvtLF68mA8//BCHw8GSJUt45JFH+K//+i8uuugiCgsLue6663j++ef58Y9/THV1NQsWLCAnJ4fKykrGjBlDaWkpV111FaWlpZjNZv7t3/6N7du3s2TJElwuF1//+tdxuVxcccUV3HrrrRpdIx0mk4mqqiqqqqooKCjghz/8IQ6Hg1tuuYUvvviCn/3sZ/uc4MJkMjF+/HjDA+GrK5WqsTQ6G8/BitSXN0iu8KSvpI8UX0nKrZJMPjFUqBh1J8fomKklJSUjinXrcDg47bTTeOedd3jzzTc5/fTTcblcOBwO7YW0qKiIn//850yaNInm5mbcbre29V9ZWclPfvITSktLaW9v569//Ss33ngjN95446AhBD0eD7m5uSxatIj58+fzzW9+k7Vr1xoiA0iO13HjxulWH42AzWbbYyV5tBAEgdzcXCorKw0/dT9SXRguxowZQ0FBgaGOmDpPGJ1xU9UFoxNZqCuth8OixxFaAhDy9/G7B3/NR19uRxQFlJS04+lbtoqi4HQX8qPb/oPZx44f9W9HwiHqd+xkwinfJnU9KMeTz7e+ewX/essdXONtp8AJ77z/CTf8208oK8lOEOuRQBAETCbTiAyBIis0v9dO3cpG5MSu/POm3YYv4g2zY0UDiVCCcWdVIVpEzjrrLM4880ztmenTp/POO+8AcM4553DOOefo+mjmzJk8/fTTus8WLFjAaaedpn123XXXce211wJJQ/n444/vruOuZ5YuXar7LB1FRUU88cQT2v2CggIeeOCBIb8zXKiyHW05mcpNPegjCAIul4tQKKRxpg4nqKu2qaGIUlfDRyNbR64Nq8NMLHTonyoeLhTAmWvH5hx82tiX1L7DQephp+Fi/vz5LF++nPr6en7wgx/otsY3bdrEjBkzOPHEE1mxYgWyLDNp0iR6e3tpbm6mqqqK2bNna07U4sWLtVSvg9WjqqoKp9NJLBZDFEXC4bChL4/7YnMPZLmZUu4agX3Rhb0h1eYajWzYcrXcbMnhcKCpHVm5BSxWB2NKilj99hv887U36Pf5iUQiGf+ikQjhcMiwlVuL1cHZF1zCxd84Vfe5IJo45RsXsuzxhynIMROWrNz1wH/yr1dcgsWUxW6TZUjEk39DDBxZlnXcnOHA3xyg6Y0W5PjgsToVSaHl3Q68O40N9ZJIJHQnVY1CPB7X8aKNgKIkY0QafcpU7bPUci0WC06n87AwZpngcDh0qxCKopBIJEbtzFvsZiw2k+Exbg9mCIDNZUYcwv5IkkQ8Hs/KOBvpoZSKigrsdjuffvopc+bMAWDcuHEsWrSIm266iccff5z//M//5OWXX+boo49mwoQJnHvuuVx55ZUsW7aMX/3qV6xatYqJEycO6/ccDgcXXngh999/Py+99BLPPvss55577ojbOhj2p10wApIkGR7OEPZNF/YGRVGyUi4c+nPEoYojK7eA1WbnshtupqyshO/e8G8svPi73Py9b2MxZ87ipHKIjIDdlcOV//rDjPfMZivzTlvIvNMWar+ZHobHMCgy1G5CePOv0N0Ogogw8Sg482Io3JMGEY1GaWlpYfz48cN641VkaPuki1ggDntJWRoLxOn4rJvCyXnJbVAD4PV6icfjhqZCVGMYOhwOQ1NCqqerKyoqDF35iUajdHR06A6OAIfl6q16KM/tdu/R3319fUSj0VGlSDVbRewuK4HeyFeHniCAwzN0gHufz8fAwIDu8NFooZ7+Vw9ZDhc5OTncdNNNGp9UxS233MLxxx/PqlWriMViPPnkk5x44omYTCbuvPNOTjrpJN555x08Hg8rVqzgqKOOGvQ3CgsLufTSS7Xr22+/nRdffJF33nmHu+++mxNPPHHfGp0B6un6sWPHGrrNHYvFaG9v1x00Hi0URcHn8+Hz+XSHpIxAb2/vHoeOjUBnZyd2u91QW55IJGhpaaGwsHCfaWqZoOrCmDFjDNWFaDRKW1ub7qDcoQpByYqndOgg1XlNxGM8+sCdPPT8Gyx//gVOnjZ5UOd2qM/U/2eiNBhR1ki+8/HHH3Pffffx5JNPMnbs2MzfkRLw2gvw56egd0A/WU+sgcW3w9TjIC2VpyRJ2hbG3uokxWTW/88mujf1YzIN3Q5ZgfzxbmYuPgaryzKitg8mD/Uv9QUhk2MzEtmmlp1uvEfTr2pswPRUsfuiC6lQw7+klpsaGig1FJER7TDyO6mfpcpksPIBLeOcerpY/c3UMva1TpIks+XtJratbkE07VnOvshwqP+PtCyjykm9Z7aKzPmXqYyZmD/od1TdTd3aNEJHVN3d13GW6f6+6sLeyh9snI22P2BkNne4cldjn6ZvR49Gr1JtriDsSYfaX7owEtmq/6baCyNka7QuqNeyLBsuW0VRdDo2EhkOpQvPPvsszz33HMuXL9eieKTPpSOV7d5whJaQApPZwuXX/5BzFpxMW2srkvwV8PtlGTatgT/8HrwDYBLAJCb/RAF21MMfHgRvl+5rgjAybo4ggKKMQDkVEAxcEhNF0fCc2aphMfrAxEhla0S5TocDh8OhGZpDHTabDVcGuoVRfSaKAvnlLkTTV2PZVpHB7rGRU2Af8jlRFLPG38zGODtcxu/BVq4q2yO6cOj0WTbLPRA44tymoXBMFb968Lece/p8bfdclmXklLf8wwrREPzzefAFM5+CNptg4zb46PXkCu8uSJJEOBwePjdHSG7lCsMkKVqcZkSzcQMsFosRjUYN7UNFUYhEIoZv56sJJIzmaQ3WZ4l4nIYtGxGkBBaL5ZDWc0XZFfrLaqF2/RoSaX2jKEmuWiQSGVU7BUHAXeTEYv/qhAVzFzqwOYc+RR2Px0ct20yIxWKGjzNFUYhGo1kpNxwOG87flGU5q+UaybNUFCWrumA0l1e15dkqNxsc4WzMEbIsE4lEDgvO7RHnNg2CIGC12rDuip8Xj0d57/V/8unaLYf0pD8owiGo3b57pTYTJBmadiYPme1CJBKhqalp2DIRRIGCo/MRxL1whhUwmQTyJuVishnnOHi9XsPznCuKQmdnp5ZBxiioWd+MzkceiURoaWnZwyB6O9tY985bbP/sE9y7Igscirqubv85nU52rl/LF6tep7u1eY+2eL1eXXanfYUzz07eWDdfhUNlolmguCYX817GpM/no62tzXBHqaurS5eZySh0dHQYPn4lSaKlpcXwTHZq1i41+5NRUM9PGO2ApWdFMwrd3d1Z0YWuri76+/sNrW+2dEHl3GZDF5qbmw9IRjGjceRA2V4QDvi45867qJj/Lxw//XYM3rU48FBI7jnu9Tn9gFeztQx7G0eA0llFdH7eRe8OH2IGj0DlaOVWuxk7p3h45Q4TRUVF+8TbGQpq9iWjt3BMJhMTJkwwPNagw+HYI56llEiw88v1hAJ+GrZsJK+khPKjjqG/z1gjv7+Q43LR19LIts8+JpGIU7tuDUVlFVhSDkcYpQsms0j5UQV01/cbrlsHExRFwem2UlTt2Wsb8/LyNJ6zURAEgdLSUsPKS8Vo4x1nghpyzOjQUmazmXHjxhluF9Q4t0aWKwhCVnQBMPwgmQo1gYeRL/dqnNts6YKRsYkhOzGPDxQON1fNcAgCmEQBs9l0eB6KdjigZlxydXYwCAKUVYFpt8KnZ6wZDqwuC5MumkBu9a5To8ruP9WYeKpzmHzReOz5Q3P7Rgqz2azL1GYUUrOxGQVB0Ge+MQqZssX0drTRsiOZlU2WJb5c/Q6+znZDT/buL7jdboL9vXz+9htIUgKTyUTrzu10tzRqzwjCntnhRoOi6lwcHuthvXqryFBYnYszb+9jUk1rbfQ4S89aZgSSu3TZGb+pmaeMRGrWMKOQrSxSJpMpKyfuj+hCEtmcI4wu90Dg0G/BfsIhuIg1PNhdsOgScNkyO7gJGSbVwMln6ZzbEXNud8Fd6WTmDUcxblElOWVOrB4L1lwLzjFOas6u5JhrJmEvs2aNp2U0LSEajWaFA5ctPlVqn8mSxM7164iEQpoxi8difLzy7wS6O8hxG5tVJ1tQFAWPx0PY282nr64kmpL+NR6NsvPLL4nFotqzKv/aCLjyHbroAYcdFDDbRMqPLsJk2fsEHY/HDee2Q3Z5locK5zabXF6jeZYq5zYcDh8yunAo8a/VcrNxLuMI5/YrAkEQ8Ljd5LgO0zSlogjTToJvXwkeF8hK8k+Sk/9WjoFrboHSCt2Bs2g0SlNT04gHgSAI2PNsjF9UxXE3Hcuc22YwZ8l0Zt98LBO+WUVICdHZ2Wm4Qezr6zO8XEVRssLZk2WZxsZGIpGIoeWqnFvV0AZ8/bQ31eueEQSBSDjEZ6//k0BnOx63GyEtBNzBAm213+Mh0NPJp2+8SnCgX7cCJYgiPa1NBPp3hznr6+ujo6PDEAMumgSqZpZi91hQDsPoKrKsUDwuj8JKd8bzpunIJufW6/UaVqaKbHDmJUmitbXVcD6kyrM0moufLZ6l3++nra3NcNvR09OTNV3o6+sztL6yLNPa2nrIcG5jsdgRzu1XAYqiYHO4eeChR7B5ChENSihw0MFqgwu/B+OmwNsrob01ecBs4lQ4+2KUqskIadsUdrudmpqafd5uEU0iNo91j62wgoICXVyreuzYAAAgAElEQVRAo1BYWKjFBTQKgiBkjXM7fvx4w7l1drtdx63rbGwglO4MCsl4n+GAn8/eeJWjT5pL2aSjCIZCB5XBU+Nc5uTk0NNYx5fvv0PI79NiVKoQBIFgwE973U4KiktBEDRdMErHPCUuyqYUUPf56A+pHUxQlGRs25pZpVjsw5sqcnNzycnJyQrnNhsvWNni3KYnSjGq3JqaGsO3+rPBuYXdumC0fSwuLs6KLmSDcyuKYlZ1IVucW6N14UDgiHObEQpBv4/NGzfy2Refs21HPZ6CQmbPPoHjZx3H2JLCrOWhPmCw2GDOApTpJyGEgiCIKDkeBLM5IycjWzytbPBi1XKNPvSj8qmMNrQq5xYwtGy1z2DXisLO2kFfJARRJBIKJp3GAT8TZs0iGjcZtp0/WlitVpw2G00b17Ppkw+Ix2KDOimKJNHZ3Mik447HZndoE4Jhh0bMAtUzx9C5c4CANzKsFc5DAYoCY6cUUFTlGfaEbzabsxInMxsh6tTxC8aOs2yNX7XcbMSNNbpcNV6qyWQyvN+yrQtGl5tNXTBaDtma1w8Ejji3GeDz9vCLe+5i2TMvIosWPG4XiXiMhx78T46efTI/f+AXnHLCjMNCAfaA1Q62XRSMXdlKQqEQDofeKVD5Pi6Xa1CnIhwOY7PZdC8CiUQCSZKw2WxEIpE9yPap2WcikQgWi0W7H41GhzRCsiwjSVLGt05JkrRy0/tNkiQSiYRmhIYLNZuLasiNgqIoJBIJw9/KU7PPxCJh+ru7hkyUIQgCiXicrV98hLerneNOOxOP200gGNzvNIXUTEc5LheJaIR177xJ07ZNCMLQyTkEQWCgp4dIMIjVZtey+xjZZ54SJ+PmjGHTm40o8mEQOUEBh9vC5LnlmK3Dl9Ng2a5GC5VbaPQ4U8evkau3arlGJ41R7YLJZMpKfY1cWFAj36g7JEbrghrP2ihk05ZnWxeyUW62Fpn2J45wbveAxNOPPcjjf36J79zwI1Z/8CHr1q9n3dq1rHj2fxH7Wrjlth9T29q196IOA3zwwQfk5eXxzDPPaJ+Fw2HOOecczjzzzCE5P2effTabN2/Wffbaa69x7bXX4vP5uOyyy9i4caPuvtfrpb29nVAoxKJFi/j1r3+t8feWLFnCCy+8MOjvrVq1iocffjjjvd7eXjo6OjI6Zc888wyLFy8etNyh0N7enjFt7WggyzJ1dXVZiXPb2NhIIpHA5+0l0O9lOCFABEGks6meVc8+TeOX6/Dk5Az5UpMNCIKAw+nEneOidesm3vvLMzRt3YQo7t24C6JIJOjH19sNJHWhvb3d2FVxk0j1tBLKJhcMK7LewQxFURDNApPnVZA7ZmTbyv39/bS2thr+8tPZ2Ul3d7ehZQK0tbUZPn5VPmQgEDC0XDX+tdE8S9UuGH2YamBgICtxbjs7O+np6TG0TEjGPDaayyvLMs3NzVnRhcbGxqzoQkNDg+G6cCBwZOU2DRHfAG+++Q4nn3U+d952C0V5u4x7Tg4LFp3PffEQ195yFx9+upZJFQsPdHX3C2bOnMm7777Lt7/9bSwWCy0tLQwMDOByuUZc1tlnn82ZZ5456GEplXOrbn+vWLGCK6+8kvLy8r2WvWXLlkEnqoKCAgDdRB2Lxfj1r3/Nn/70J+bMmTPSpgBkhXMriiLjx483fOXWbrdTWVmJKIp4O9q0FYXhQBBE4rEYGz56j6barUyaOYux4yYiIWTl1G5qvnG73Y7FJNJRX8vOL9fh7WhPrraNYIUlkUjQ3dJCxaSpmo4ZDYvDzFELqvB5Q/g7wwiHIkd/l1gqpxVTfdzIY8vm5ubi8ew9Hu5Ika3YpmVlZVnhzFdWVhpOXRNFcVTnHAZDOhffKHg8nqxwbrMZ59ZoiKJIRUVFVnRhRHHmhwmbzUZ1dfVhwbk9snKbEQK5eUXY0ra/kweIynBYLcTiBwf3cH+gurqauro62tvbgeQK6dy5c7XDR16vl6VLl3LhhRdy2WWXsWXLFiDpPD766KNceOGFXH311fT09PDee+/x7//+77ryY7EYd999N+effz433ngjtbW1mkG84IIL+POf/6xznhRF4emnn+biiy/m8ssv55133qGnp4fly5fz8ssv889//lNX/pYtW/jWt76lbW3fddddvPzyyyQSCYqLi7n99tv3yZFUY6ZmIx95NmKFapQORcHv7R9RfDu1rwVBYKC7iy/eep33Xnqejh1bsZkEcnNzsdntSVns4mfuqwOpxlD2eNw4rGZ6Gnby/ovP8/kbr2qO7YhloyiEAwGNmpKNbTdBEHAV2Dn29HFYnWbkgzDCxN6gKApF1R6mzK/APIzQX+lQeZbZ4OIb7SCo4zcb5VoslqzYhUPF3qjb+9mwY9nUhWzEuc2WLmSjXFEUs9JnBwJHnNs02HJyOffcRWxd8z4ffLGWaCye5JFJEqGAj5f/8TLO4gqOn34M8XicWCxu+KpVNqA6GioPKvVa5TCpSL+2WCxMmjSJzZs3Ew6H+fDDDznttNM0B+app57C7/fz0EMPcf755/OTn/yEaDSK3++nrKyM3/72t+Tl5bFs2TJCoRDd3d26UEGvvfYa9fX1PPzww5xwwgk6KsLVV1/NW2+9RUNDg5alqLW1laeeeor777+f6667jkceeQRFUbj44os566yzOO2003RtrKqqYufOnTQ3N+P1elm/fj0TJ07E4XBw/fXXawkLBpMRsIfMVG5hLBZDkqQhn1evM5WRfl+9F41G93DoU5/PdJ3ab4P1czQaRZYlQoEBXWi34UJzcoGBnm7WvfsW7/3lOTavfpdgdwc2k4Anx0VOTk5yxdViQdzl7GT6UydAu92OaxftwGYSCPV0svXD93n/L8/xxarXGejp0n5/XzHQ5yUWScacjMfjw5bZcPRCjZ+bSCQorvFwzOnVmM3iIRUeTFHAU+rk2DNrcOTuPgQzXBlA0nakxpPOJNN0Xc90nV6+KtvU5wcbSyPpR7XcTM8PVd7eylftwnBktrfrwezNYDJUv783e5Guu3sbC3uTcfp1IpHQ4tFmmmeG+n6mNqjXiURC67PU74ykzenPp+rCUG0ejowy2VxVF0b6/cH0IHWOyCSjvc0zQ91PH7/pdd4Xm3kgcMS5TYMATD5mJi5C3HT99/mPO3/Kn5Y/wx+e+B9+cN33+dWjy7DbrLzw9FMsXbqUu+66i3+sep/EQRz0OHUAJBIJmpubtW1/SZJ03J1EIrEHXywYDDJnzhxef/11WltbaW9vp7CwkFgshizLfPDBB5xyyilUVlZy3nnn8dFHH9HV1YXH4+Gcc87B4XAwffp01qxZgyRJ+P1+uru7NcP66aef4vf7+cc//sHmzZtZs2aNxq8rLS1l/vz5LF++HIcjedBt8+bNBAIBXn/9dT7//HOam5vZunUrVqsVm81GIpFg6dKl3HrrrfzkJz+hq6uL2bNns3LlStatW4fb7cbhcGi8IlmWCQaDmgxUnpRKnZAkiba2Nt39pqYm/H6/Fiezq6sLv9+vtam7u5uBgQFNhu3t7fT29mr3+/r6dBzC3t5e7b4kSezcuZP29nat3wKBAB0dHdrz6m+rRiQYDNLU1KQZ0XA4TEtLi3YdjUapr6+nsbGRaDhCf2/PqN/61bBb4WCA2i/X8NHKv/Hui8/zxWsraVi/hmBPJ1I4gE0UyHHYcdlt+j+HHZtZRI6ECPV00bhhHV+8/grvvvgcH638G7Xr1xD0+xBI8mZH49gKQCwcJBaL0t3dTUdHB+FwmKamJk0P4vE4zc3NuuvUeMOxWIzGxkYdF7qlpUVLWtDR0cG2bdvwB/xUHlvMxJPLMVlNpMzXBy0URSGnwM7UUysJy37NPkSjURoaGjQZpNuPdHsxMDDAtm3btLiesizT2dmpXSuKsgfPtaWlRbtWFIWenh56e3u1+93d3WzdulXjQ3Z1del03+fz0dm5Owybz+ejublZ032/36+LyR0Oh2ltbUWWZbq6umhvb9fpQSQSob6+Xgt9F4/HaWtr0+4nEglaW1t1elJfX6/phSRJNDc362SQGvc21X4MZi86Ozvx+/2aTLq7u+ns7NRim/b19elklGo/VPvS2tqq3VftR6q9UGM9R6NRduzYQUNDg9bmaDSqa7M6NtT7Kk83VQ9aW1s1Z1aWZerr6zU5q3qT2qb29nbddVtbm05mbW1tOg5sb28v/f39dHd309vbi9fr1elR+rmKgYEBOjs7NefL5/PpbKjKCVb1QpVvJj1JbbPaxng8TktLi3attjHdftTW1hIMBkkkEtTX12tjSZZl7XyJet3S0qLFXVYUhaamJnw+n3bd1dVFf3+/pkMNDQ309PRo/d7R0aHTC1VeKvr6+rR5RVEUBgYGaG5u1mQWCAR0/OtAIKAbS8FgkIaGBk0m0WiU1tZW7X66jVRjKB+IBcAjnNt0KAne+udKWrsHEASRv7/0PC+v2D2pevIKaKnbxv/VbwcUpIRMTtl4Fp4yHw7S6GCiKGqOjMlkoqCgQNt+EUWRoqIiLQKBem237061abPZmD9/Pq+++ipvvfUWs2bNoqioSNsWURRFczxFUSQWi2G327XtI7fbjcfj0YyA3W7XVkvVEEMOhwO73c6UKVOYOXOmLv3rFVdcwZIlS5gwYYLGi1JX+5xOJ4sXL2b8+PGsXbsWSIaJmjFjBoFAAJvNhtvt5jvf+Q6/+93vaG5u5swzz6S4uFjb2lLDqqgyEASBgoICjXek5klPvV9YWKh9RxRF7bSxCrfbrbvOy8vTbae7XC7dKkVOTg6KsjsigMrTUp9PT3Wsyje1j4qKirR+tlqt5Ofna9dms5mSkpJkmbKEvOtksGKA56WdNlcUIgE/7b4B2ut3opDUN5vDidlm0xaK1XaiKCRicSLhEFIiobVPW9nNwgljFMjPz0dRkvSEoqIiTQ/UsZF6reo5JGWYOlYAbSwJgkBxcbH24mSymJg8rxxBgNpP20hEpINyq0/tf3ehnelnj6eg2k04FNa1ubi4WLvOZD8KCws1e5GTk0NlZaUWeUQURXJzc3VjJ1UvAV15giDskfrZ7XZjtVo1G+PxeLRnAW2HQIU6NtTfsNvtGceGOo7VVUa13y0WC8XFxTqbmZ+fr9OL/Px8rc6qjFJt6JgxY/Zocyb7ocLj8ei22nNzc3X2ye12a/+q7U1dEcvJydHJxOVy6fTUbrfryrfZbOTm5mrb0JWVlbpIAWazWddGtd9VmVgsFoqKinT3U59XYxOrNsxkMlFYWKirU15e3h42VpWJep1q43JycjCZTDidTiDFjqTcT7VnDocDq3V3LPXUiD8ATqdTtwVfVFSkRUwAvZ5karPZbNbp7mD2Q/1tURR1YylTm9PHQqrMBEHQ9CRJkRyLLMu68nJzc3UycTqdOpm4XC5dqK90mTgcDsaMGaN9ZrfbKSws1PrdZrNRXFysfV/Vk9R5JtVGWiwWCgoKDojtO+LcpkO08m/3/ZqbfnK/Nvmnd8zuzxQUGRwuF5Z94KftL6Q6VaIo6rbhRVHUJotM9yGpoOPHj8fj8fA///M//OY3v9EGqyAITJw4kU2bNrFw4UI2b97MUUcdRU5OjvZWOG3aNFpbW5kwYQKiKCZjlDqdWp1qamoIhUJceeWVfPHFF/z1r3/loosuApKrMNXV1Rx33HE8/fTTTJ8+XTv8cPnll+P1evnNb37DeeedpzNCl1xyiXatKApf//rXueeee2hubua6667D5XLpnCmLxaLFT0yVgSoTdfJIvZ9afrqOpLYPdjuz6meqgVFl7HA4tP+n9klqH6QaIavVqouxq9Zf/Y7ZbNa1wWw2awd9QgH/0AozCgiCAGlOaTQcIhIK7iGvVHkYHSpnqPqpjpiiKLo4p+qLmFoPk8mkGxvp90H/UqK+oGmG32JiyvxKcgrtbHi9gWggflAdMlN1J2+sixMumoIzP1l3t8et3VP1Rn0+09hItRdWq1XnMAiCoI0FVU6pL3aCIOjGlirH1AnZ6XRqk7RaXmob0kP42Wy2Pfo41akym83aWFEd5lRdNJvN5ObmanUwmUw6e5HJHuTm5upkoh62Ve+nHqzK5MA7HI5BnZJMMlTjdqv309tht9t1ckm1b6nXavvSDwGazWZdm1XdT9WL1LGgtnEwG6a2ObXOqTJK1QP1fqqM02WUyeamyzA1vqwgCDo9UPVGjRWbKkP1vtls1tUp01hI7df0sZEuV0VRdHql6slgMkzVk0y6n2p71GcGm2dU2O32Pe6rn8HueSZ1Lh1Mb1JllDpWUmWk6s3+jKyj4ohzmw5BwJXjxuFI0NrcyKeff0FLaztWh5Npx87g2GlHk+vOQczg8B7uWLBgAR9//DEzZ87UpSlcvHgxN998M2+++SYDAwPcf//92O12iouLeeaZZ3j88cfx+/0sW7Zsj9BgAN/5zne46qqrOO+88/D7/dx1113aPa/XS15eHt/61rdYtmwZAJMnT+bUU0/lggsuIJFIcP7551NQUMCMGTO44YYbmDBhAldddZXuN0RRZPbs2TQ3N1NdXW2YTBK7VhwPlTi3iURiRAfJDkeoW2RGG9xMuiCaBMqPLsKVZ2fjW430NPoQDgL/VlHAZBapnlnM1K9XYXMZczo6W3Fu1e3wbMU2zYYuZOOF7VCJcwt6XTAS2daFbNQ3G7oQj8ePxLkdAoLyVfDKhkD6m48gCETDQZ554nf88qFH6R0IaltA8XicWfNP5757f8YJ06fqQoRmKif97XLoVeDhlzWS73z88cfcd999PPnkk4wdO3bEvx2PxwkEAuTn52uHxIqKivD7/WzcuJETTjgBk8mE3+8nFArptnK8Xi9Wq5VAIIDdbicvL49wOEw0GsXj8dDf34/b7cZisRAKhfD5fPT392spAPv7+7XtOUVR8Hq92ipOLBajv79f24qxWq1IkkRvb69Ge0htR2dnJ16vl7Fjx2rb0ur9SCRCJBIhLy9vRLJVFIXm5macTifFxcWG9WsikWD79u1UVVXp3uz3RRdSEQwGaWtro7S4iLee+xPB/r59KstI/dyX34Y9D5bttSxZJie/gDO+cyXBSJRoNKqFRTOiHYqi0NLSgsPhyKgLABF/jK2rm2nZ0EM8mpxIBWHwumejP9S6uApsTDqpnMppJVqSBiN+2+v10t/fT03N7pBVo5UtJA+RmkymfbJhg91XlCSn0el0UlRUNCIZDlV+PB6noaGBkpISbeXOCNlKkkRtbS3l5eXaKqgR4ywUCtHS0kJNjT6172jGrKIkeb99fX2G6oIgCLS2tiKK4rB0YbjlAzQ3N2uLMjA8GzMcXWhsbKS4uNgwXYCkw1xbW0tZWdkeK+SjkW04HKa5uXlIXRiqnEz3FUXh2Wef5bnnnmP58uUZ65sq7+G2Y284snKbAav+/jw//dVvmTX/DP71mqsYV11BLBpm9ao3eOiRR/nJPffzh8cfprwo70BXNetIdVZTt7qcTifTp0/X3khVXm0q1O+lblvY7XZt+yeVz6Q6rQUFBVr81cLCQmD3FlBRUZFWjtVq1eIdqp+ZTKY9PkutS25uro5LrMJut2f8fG8QBEHjsRoJNYbhvtRpKNhsNsrLy1ESCfgKv9KqLzdGQhAEHY87032728q0M8ZRWpNL7ecd9LX4kRPKsBJpjBZqey0OE2VTCxl3/FhyS12IBtMkPB7PHtvDRkDlLhqNbIxfk8lEeXm54elc1fi5I82kuDeodsHonSKVH3wo6YLRK/gmk4mysrKs6EI2YhNbrdas6MKBwKHfAoMhRYO8+JcXKZsyk1/98hdMqtodpP+YY44l1y5y568e47P1myg/fd4Bru2BQzonyyhYLJas5PhO5VYZBUHYkx9oBNI5e0ZBPYwRDgaxWK3Ismx4/x3MEHZlM8tWrve96YIgCJitJsqOLia/wkP7di9NX3bj6wwiJYyPtpJaF4vdRFF1LuNnj6Wgwo3J8v/Ze/Mwuao6ffy999bWW1Xv1d3pJXsIWSAbCRICmAWMLCOLGpAIKjPKgyAwYoTIGsKPCOPXERVGBmQmTJBhRhlRiZLMoLIExAQxJOkkvaW7q2vf97v8/ijPyb3V1Us659CpUO/z8JDbt+pT53zOez733HPe8zl8NM75mj0WIC/WPF5I9FpVlnb1m55Y22XdbqIoMrcrCMIwvSYrkFjOEoRjBKzs8+YCaz+QZ8Tp8FwoDW7zkErEcax/CHOXX4opjcblRVEyYdmyZagwP4WBQdcklfDUgKbxOTecLPHmlmzZ2mVdXlJW4OTyrxayS8rKEsSu2WJBdUMD/K4BCIxnrU5VaADKKithtlgNHGNm/wS5YKuyYPqSZrTMqcPQkQD6/+pD2BNHNnk8zyadXR9nMfVl0P6mqS2rMqO2rQpt8xtR32GH9LeNr0QPyaP/8rBLMgNMZpudqF3WAwTiW0FgqxEm5WUdG8n/WfuBNxd4+JYnF4qh/04GSnlu82CyWGCvKod7qB/JvCNiNS2nq0tmZVRVVo1g4eMBkvOPdYLmYDBoyFXICn6/35AbkwU0LZdXkOQlZAWSe3ikI4oninQ6TXPfllV8/Phrr62DxWYblg+TBSbEBSE3yO0424lPbDgT5107D2esakPDVAdslWYIkgANGn1A5v5D3n+a4cFsMomorLNhyhl1OPvS6Vh5/Xwsvnw2nDNr6MAWOM4FsjmHFcLhMAYHB5nHBa/Xa8h5ygpDQ0OG/LIsQPLc6nOFs4CqqsPyLLNAJpPhwoVIJGLIE8sK+XmQWWFoaMiwUZoFSO5aHlwgOY9ZIpPJGHL1FjNKM7d5sFY4cOlln8I3H/o+/ulH8/DVL16LupoqqLKMI3/5Mx58eBuqmjqwfMnCyS7qpMJisaCpqYn5211VVRUXuYPdbme+DC8IgiH3Iyvk58lkBbPZjMbGxlxKm7q6CZ1QVqwQBAFl5bm0PqciF0STiOrmSjiaKjB7JZCOZRD1JRH1JZAMpxELppAIpwEYZ4EEAahqrEB5lRVlDgvsjRWoqi+DyXJ8F3WhhzXRrLPWm5I8mqz7RHU1n/0N+rykrEC0/6z1kIIgcIkLJE8vaz+Ul5dz4YI+7RpLkP6r3+R0ssjPbcsKoijC6XRy4QJ5RhQ7ir8GzCHgM9d9BR/sP4p/efwh/NtTT2D61DakYhEcPnoUzvZZ+P8efxCzWpsmu6CTCkmSuGwc4XWuNckJWwxaQKKBA9hrbkl+zOpGJ8xmc1EcHc0CJrMF9W2tEATBkOuSFVhyQRQFlNmtsFVZ0DDNAWiAqmrQ1AJLnAI5REOg8oXxPJxFUTTk9WQFHppbgL/Okof+mrVd0masfcsjlhe75palXZ66bh6aWx4cmwyUBrcAspk0Dn24H1J5DebOnoaqmgbcv+1xXHzZZfj9G2/BFwxDMtvw2Y1fxqcv/TRmTm1nvsu42MBbc8v6bZ8cN1gsWkCemltRFGGvrUNFdS0ifu/YXyxyqKqKisoq2KvruOksye9wsaupECURgkkcd1qjscCz//LS3GqaxjyfNE8u8NJZ8oy5xaA9LibNLcCXCyXN7cgoDW4BxCMBbL3nLlSeeQH+5bvfAQBU2qux9tN/h9WfujyX3FkUITFesihmpFIpuFwudHR0MH3gBAIBpNNptLS0MO1cgUAAmUyGqZRCVVUMDQ2hrKwMNTU1TGwCxzW3zc3NTGfX0uk03G43pkyZArPFitrGJoR9nqIPYmNDQ21DI2wVudlwnlyw2Wyora0t+BlFUbBv3z7Mnz+fzh6TnMZTp05FeXk5BgYGMDg4iLKyMkyfPh02mw09PT1wOp0IBoMYHBxERUUFZs6cOepME8mvOW3aNEiSRDV6Q0NDaGlpQV1dHbxeb44LDJdMw+EwotEoWlpamMYFr9dLl3hZgrQZy/4ryzIGBwdRW1trOOHqZKGqKnp6etDU1ESzqbBAOp3G0NAQWltbmXFB0zSuXCBpGFnC7XbDYrGM2H8nAkVRMDAwwIULfX19aGhoYGqXcIF1XJgMlAa3f0MyEYM5nR72d7K8UoIRhY4iZQFyLjxr5J8/zwJkaYi17okcXcm6vPo2EwQBbbNnoffgfmja6ZsSTNM0iJIJzqlTYbbkUoDx5MJodrPZLO644w48/PDDOO+8XBpBl8uFG2+8Eb/+9a+xb98+3H///SgrK0Mmk0FbWxu+//3vw+FwYPfu3XjiiSdQWVmJWCyG+fPnY9u2bQX7SjabxQsvvICf/exn2LFjByorK/HHP/4R9913H+bMmYOuri5s2rQJZ511Fjf5AI+4wOMIz7HabCIgx7DyiAsOh4N5fOQVy3lxgdeyeVlZGXPfkhzwPLhADkBiCV5cmAyUBrd50C9PkOtCnwHYL2UVEywWi+FUH1bgsZkMGH4ONwsIgkBPNWMJ/QwVS9tms9lwMEZDaweqamsR8XlP281lmqah0u6As2Mabfv8M+tZYDxcsFqtWL9+Pf7nf/4H5557LiRJwvvvv4+2tjbU1NTgG9/4Bh544AFcfPHFiEajuP766/H73/8eK1euxNatW/HII4/gwgsvhN/vx5VXXom//OUvWLx4seE3ZFnGY489hpdffpluwpJlGa+99ho2bdqEdevW4Qc/+AFeeeUVfPKTn2RWf4KysjIuifsdDgcXnSXxEWttLJn9Y82xuro6LvscWNslWlMeecDtdjtXLgDs2o0nF/SHGrGC2WxGbW3taTG2KQ1uCQQNQ8e68b//97+Qs7JBw6ZvaE3TYDLbsGDh2Wios49k7bRHSXN73C5QHHkyAaP+q7zKjpapMxHx+Zj/zqmEpo5pqLQff3Bx08aOYVcQBPzd3/0dvva1ryEWi8HhcGDXrl1Yv349jh49Ck3TcO6559IZuh/96EeoqqrC3r17UV9fTwey9fX1eP755wtmEBAEAeeccw7Wrl2LrVu3Asg9sB588EEAuVR7e/bswTXXXMNFs1eM/WqKIBAAACAASURBVIy1XYCPzpLY5aGH5J2znCVKmlt+dkua29MUu175T7z52v8M26CRP7itqm3CT/7tP3HphYsmq6iTjlQqhYGBAarpYwW/349UKoUpU6YwDTI+nw+ZTIaplldVVaqPJDOiLKAoCrq6utDa2spUc5tMJo9rbv+WlWLGWWeht/NDJCLhog9m+dA0DbbyCkybvwDS35YbNU2D3+9nruseLxdmz56NaDSKgYEBJBIJHD58GN/4xjeoltJiscDr9eLll19GKpXCvHnzsH//fnqsrdfrxYsvvggAWLp0KVasWGGwL0kSVq9ejb179w777X379uHWW2+F2WzGzJkz0dvby1RnCQChUAjRaBStra3M4oKmaXC73YbjtVmBtBlLnaUsy+jv70ddXR2qqtjlkyZxobm5manOkuyfaG1tZbZ8rmkaQqEQwuEw2tramD4jPJ7cPgGn08nMJpDjgs1mYx7Ljx07xoUL3d3dcDqdTO2m02kMDAygra2Ny0mhHyVKg1sdzltzGW6+8bNQFXXUwa3ZUoZFczsmq5inBEwmE2pqapgPiIiGlYfcgfVyKdFTsdZpiaKIuro65noqs9kMh8NheNDY6+rRMXsuDr63h+lvTTY0TYOmqmiddQZqncZBLMm/yRLj5YIgCLjsssvw2muvYeHChaiurkZraysGBgaQTqehqiqy2Sw8Hg927tyJDz/8EJ/4xCeQyWSgKAqy2SyGhobw29/+Fi6XCx9++CFeeOEFAMBXvvIVXHPNNSP+9vz58/Hyyy/jhRdewNatW/FP//RPzGepysrKIIoic7uVlZVcXr546BZFUUR1dTUXjtXU1HDJbZofF1iAaGN5xHIesNvtXDS3NTU1RcMFSZJQXV3NnAuTgdLglkATMG3WmfjcZz836sztSH/7uIGXNofXudYVFRVcNLc8tIBkcAuw1WmZTKZh+i9JMmHagoXoO3wI8XDwtOG1pmmwVVRgxsKzYdY9AARBoA9H1hq48XJh7dq1eOKJJ9Df3481a9ZAFEVMnz4dPT09dHf53XffDVVV4XK5cNZZZ+HHP/4xwuEwWlpasGXLFkSjUQDAunXrMH/+fABAW1tbwd9Lp9PYvXs3li9fjrq6Opx77rl45ZVXYLFYuAxoeL1E8tBZkgMBWGtuSfYF1nZ5aG5JXGDdZjabjUsecF5csNuPywxZam556brr6upKmttRUDp+FwByh1xC1dgeE3g6I//YT9Z2WaOYykt0T7zKmm+3prEJsxctgShJp1Wau5lnLUFdc8uwlRfeHBsLixYtgtvtxq5du7B06VIAQFNTE5YuXYof/ehH6OrqwsGDB7Fv3z7Y7XbMmTMH9fX1eO6559DT04MPP/wQBw4cgN1uR2trK5YtW4ZzzjkHzc3NBX9PVVU8//zz2LFjB9xuN37729/S1EQfFcdY2eVhczK5cCrYLaY242W3xAWjzdPhOVAa3AIABFRUVKKsjP0JJacrMpkMXC4X83PDo9Eo/H4/884VDoeZnxuuaRp8Ph+Xc8MHBweRyWSY2iVL2vmnkkmShGnzF6CxrQMa4/b8qJFrXw2OhkbMXry04MxkJBJBIBBgzgW/309nVEeDzWbDihUrMG3aNMyePZv+/bHHHoPH48HVV1+N66+/Hh0dHfj6178Or9eLhx9+GAcPHsRVV12FG264AUuXLsVNN9004m/oU/qUlZXhnnvuwc6dO7Fhwwbs27cPd955J/x+P/MT6uLxOHw+H/P+GwwGEQ6HmdoEclr88bTZiUBVVbjdbqRSKeZ2h4aGkC6QsvJkMFJcOBlomoZ4PA6v11s0XPD7/YhEIkxt8uSCy+XixgVZlpnanQyUZAkAKh11uPe734fJxufM6tMRvI6C5HWmtdls5rID1GKxcNFplZeXM9ctiqI44pJxZZUDZ626EGGvB6lEvKiXpcy2ciy9aA0qHcOzCQDgcjwsAHrc6Hjw0EMPDTtVrKWlBU8++aTh72RjTkNDA5599tlxS2sWLFiA5557jto588wz8ctf/pLez2aziMViXPqv1Wrlkq6KR5tZLBYuecx55eXlYXe0uHAyMJlMXDYl8droxCOWA8XHBaKbL3YUfw0YwGS2YM7c+Zg+tXWyi8IFqqrSGVZFUeD3++msoKIo8Hg89A1QURR4vV4kk0kAuQdjMBikb56apiEQCCCVSlEtUSAQQDwep/fD4TCdzVRVFeFwGKFQiJYnFArRa03TkEgkEA6HoaoqysvLYTKZDG/miUTCMMuUTqfh9/tpndLpNAKBgOHa6/XSt09FUZBMJmkOXVmWEQwG6X1Zlg0+UFXV4CNVVenJaeTa5/MhmUzCbrfDZrMhFAohmUzSAUkkEkEikaB1CAQCiEaj9H48HjfUMRqN0hkkcnAI+TyQ29EcDAbp55PJJJ2J1jQNqVQKXq+X+iiTyRh8lslkEI1GYbfbIUkSstks3G73cR+pKqyVDpx94ZqiPYVP0zQIkoR5yz+B5umzCvLC4/HAarWiqqoK2WzWwJNsNgu/349sNgvgOC8ID8jn9bMlhCeCIKCyshLJZJL2BcITwgPSl8i1qqoIBoN0tojc188eJRIJmEwmOgCLxWKGWedYLIZgMDisLxAkk0n4fD7Kg0QiQU/7qq6upmUk389kMvB4PNQHhCf6eEEyj+ivSbwwm81Ip9OGvhIKhYbFDxIfyIy3Pl5EIhHDakg4HIaiKCgvL6fxJRQK0TInEglDfEkkEoY6J5NJeL3egvHCbrdDFEUDDzKZDNxuN/18frwgMVQfP/Q+IvXQ/1sfP8iKTyKRMMQLwhsgNztJfEpiaCQSQU1NDcxmM2KxGI0XmqYhGo0iEolQe4Qneh7oV670PjCZTCgvL0cgEDDEi/wYqfdhJpOB1+s18CAQCNDPkzKQmFvouRIIBAx9gTxX9Pf1s+okRlZUVKC8vBzRaBSxWIzWKRqNGuoYj8cRCoWoTxKJhKHvxONxwyqhzWZDKpUa9pwh9/P7hizLhnhRiBeBQABlZWWwWCx0Flfvs2AwOOy5M1L8IDyIxWJU102enaSOwWDQ8NzIf87o4wXxiX6lhZSdvOiQ5wpp91QqZegb2WzWEGPJZlhSJ/IcYr3COx6UBrcfA+gHKpqmIZvN0r9pmoZMJkPJl38N5Airvy/LsmHZIpvNGq5lWTZ8X5ZlGgDItf7zZIc4sa8oiuG+oijDHhyZTIbWQf/9QtekTvl11l/r6whgXPfz66hf1stms4br/DrnX+fXmfiUlCH/vqqqBvuqqiKdTht8UqjOJKgV8kE6nUbb7DNwxpLl9G/FhulnLsTsRUshiuIwrhfijf4agIFnI/WF/M/n+3gsHuTzJp8X+s8rijLsWv+b2Wx2VO6TDAv5fYVwYDx9JT9e6MtLeKOPD/prUkb9/fx4ke+zQn1BX8b8a1LHfB/o+05+/BjNR+ONF6PF0ELxYLQYW4gX+T7Ux4NC8SOfZ/k+GS3eKIpiiB+kjASF6lyINyP1lUIxtFAdR+NJIR+NVmdSx5FiaH5fKtQXRuo7I90fKeYWuk/KrL/OjxejxZOReFbIB6P5aDzXo9WxELfznyuT8SwRtGJ8gjGEpg3PjFDobyN9Z7x2WNo6ke+8/fbb2LJlC55++ulhG070nwNQcMau0H1CaI/Hg5aWFrqEMVKZxrKv/2wwGEQ2m0VDQ8OwZVu9Hwr9bTR/kFkI/alq+W2TX6axfKtpGrxeL2w2G91pW6jMI12P1K6KomBwcBANDQ10iXc8PijkY31dUqkUfD4fnE6nYfktv4zpZAJ/eu236PnwAxQ6mpclPyfSz/LrRf7WPmculqy+GBV2R8HfIgiFQshms5QL+T7N90chH+Xb1LTcbJzVaqU78Ecqb6FyjWRf0zQMDAygvr7ecNrTRHil/+10Og2fz4empiZIkjRm38z/W379CKLRKOLxOJxOJ40L+d8/kXhA7vv9fnra01hcH899cs/j8cBmsxmOpT4Rm/kgK0NerxcOh4NKt06EV4WuyUvp4OCggQvjjbmjxQuy0tXU1GSICyfaZ/Ptx2IxxONxNDQ0GJa5R2v3fFuFvuP3+yEIAs38ovcRacORyjTS7wOA1+uFxWIx9F+9/ZF8OlKbAcdXfxwOB8rLywvaHKu8hXxAuFBbW2vgGLmX3/fG4hn5G5mRb2xspKtFJ8J9fZ30n92xYwdeeOEFbN++nT4rR4uB43k+jIXSzG0JwwJC/jX5W/6/RxrUFrI/2u/pP1PoATNeG6NBn3uz0PdO1B4BGRiM12cnUt6RbI1kf6w21Jd3NJu28gos/uRaTJu3AMLfZkBPVdCB7ey5WPLJi4fpbAu1gd434+HueNu1kKb7RPtG/t/Ig2qk35wIZ0mdyEBmPH1/tN/J92chvd5o5R9P38vvvycar0ayP1L/PZH+Nt7v59s6kXiRH3PHwonGC5FBPx+NNyfLK/3fCBdOlgeFfJA/CGfRn/X990S+PxKvyPOx0PNsIs+hseo4WplYP/dYorShrIQJwWq1Mj3hicDhcHDpENXV1RN6+xsNoihyOd9bkiRMmTIFAFtpgNVqpbP3Y9ktr6zEoovWQJJM6Nr/PhRZntRANQyaBg2AIIroOGMeFl+0BhX2sTeECoLALe8kby6whMViQVNTE3O7VVVVzA9cEATBMGPL0m59fT0AtlyQJIn6lrVdHjHXYrGgubmZeZtVVlZySTfHmwsAu3bjzQXWfuDBhclCaXBbwoRAlkwBtm9nPGwSu7zKy3rQzGum9ETtlldWYcmadSi327H/7T9C1mmxJhsaNEgmM2YtWoazV10E0zh3vPOchebNhWKxW+pn/OzyjLk87bJEsfYzltBLEIqh/04GSrKEEiaEdDqN/v5+5p03HA7D4/EwtxsMBpnn3ySaPR65Efv6+pjnMMxkMhgYGDihfJYmswXzP3E+Lrzyc6hw1JwSEgVN01DhqMF5l/4dlnxyreEEsvEgFAox5xhvLrDOkzkRLowH0WgUbrebOU98Pp8hWwgreDwe5jlTSZ5qfbYUVnb7+/uZcyGbzTLnAtHculwu5lzw+/2GTBCswIsLLpeLCxeOHTvGLS6U8tyW8LGFIOTSVbEOXKIowmQyMX8jlTicvqVpGkwmE5dzuC0WC/M3Z9JmJwpRFNE0dTrWXrsRf3nj9+g9+CHkdOojf7PXNA1mswWts+fizBXnoqbBOaEyEI6xL5uZORcEQTiluDAWePnWZDJxyb3Jq//yyKVM2qxYuMDrGcE7FzrL8gqCwI0LPOKCKIrcckp/1CgNbk9z6Jcv9Ms5J0teq9UKp3Nig4vRkJ914FS2S3Zvs4YkSePWxp4ILBYLGhsb6YaEE4EgiqiqrsHydZ9Cx+wz0Ln3PQwd64WcSQEcJ3Nz5dQgSmY0TmnDnMVL0Dx9JixWK4CJbabSnyHPCiTvJA+7Ix2rezLQc4ElKisraW5TVtDrpFmDV/9tbGxkblcURTQ1NTFvM7PZjMbGRqYvD0RzW1FRwcwmQX42AxYQBIH234nEx5EgiiIaGhqY2Mq329TUxPzFwWw2c3muTwZKg9vTHFVVVVi9ejU0TcPBgweRTqfpxqKqqqoJz1rw1BLx6lg8bbME76X/k7FvMlswZeZsNLS1w9PXgyPv74P7WA+yDHMZ6u2YLVbUNDVj5sKzMWXGLFhs5FS8U78dWYCXFlBvv1g0e8XSf3mCpx6yWDTNxHaxlJUXeJSZh555slAa3J7mmDVrFkRRxBtvvEFPcyGzVwsWLMCMGTMmtMwjyzI9MYdlR0gkElAUBXa7nandeDzO3K6m5U4WMpvNhhyGLOwGAgHY7Xamy4WyLCMajcLhcJz0LI3VVobWWWegsX0q/G4X+jsPwtXdjWQ0AjkvUTlgDMT61YT8vwmCAJPZgrIqO5xt7WibPQd1za0o+9sM0MkGdE3TKBdIblMW+Ci4wPLYUdJ/q6urmS7Lp1IppNNp5v0sGo1CFEVUVlYysUlA2qysrIyZTXKSVEVFBdM2IyfaVVZWwmq1MrPLgwualjs1MZVKMc+AQ06vq6qqYmYTyHGBnNbGCuTEvfLy8o8tFyYLpcHtaQxNyyV6fu+995DNZg359iKRCN59913YbDa0t7efcPBRVZW5mB0YfkIKK5ATfVi/lWazWS4zVDxOdSl0Qs7JQBAEWKw2OFs70NjagVQ8hmjAD79rEO6+XkSCfmRTSciZLFRVAYifSBtoGiRRhMlihdlqRUWVA86OqWhomQJ7fQOs5RXIZrOwlbF72ADDT+1hBZ5cYH18Zf5pS6yQfxoYK8iyzEVzy6vN8k+aYmU3nU4zX+ovRi7wmFnkwQUgt0mL5QAUOM4FlgNxYpflM2IyUTqhTDuxU1jG87dCdljaGu93YrEYfve73yEQCBTU2aqqioaGBqxZs4Z2kvH8NoAJl4mVb3n4cDLq8VH58KOuBwAosoxYOIR4NAw5nYaA4d8xWa2osDtQYbfDZDZukBjpt4Hhy7LF1h4jfWcy6jFWmU7mtydaplOtHhNto2KJF8D4+tSpXo+Tiemncj14xfSPop9pmjYpJ5SVZm5PYySTSUSj0RFJIQi5ATCPN8ASPt4QBAEmsxnV9Q2orm/IBacCg1tBEABhYsGrhBJKKKGEEgqhlOf2NIYgjO9oS0EQEAqFcOutt2LNmjW44oorsHv3bgDAtm3b8O///u/DvpPJZODz+QzLpYqi4Nlnn8UFF1yAnTt34o033sC6deuwZcsW3HLLLXj33XdHLMPf//3f45FHHkEkEkEwGMQPf/hD/PjHPx7x852dnXjiiSfGcgFFNBpFOBxmuryraRqCwSCXHIYej4dLnlufz8d8Sb4QFwpCGOG/ERCPxxEMBumbPQtoWi7/ZigUYm63mLiQzWa5cCGRSCAQCDDvZ6FQCNFolJlNvd14PM7Urqqq8Pv9zGVbqqrC6/Uy54Isy/D7/Uy5oGka5QLLfgbkcqHz4gLZl8IKxcYFXnFhMlAa3J7GsFqtqKysHPVBU1lZCbPZjCeffBKiKOKpp57Chg0b8MADDyAQCNAOnw9FUYYFgmQyie3bt2PLli1YuXIlfvnLX2L16tX48pe/DJ/PN2pH9Pl8ePHFF3Hw4EEkk0mEw+FRE+Lv3bsXH3zwwTg9kRuA8dAIp1Ip5royMgDjobOMx+MnHLyj0Shuvvlmg7/D4TBuv/12dHZ2IhqNYsuWLbjiiitw3XXX4Re/+AUNjoFAAPfffz8uv/xybNy4Eb/5zW9G/a2BgQHccccdiEajyGQySCaT0DQNv/vd7/C9733vxCtdAOl0GslkkoktPchmKpbQtOMb4FhiolwYC6TNWCOdTnPRbyaTSS79Nx6PMx8gkAEja7uKonDhQjabRSKRYG43nU4z72cAv1jOo814xgUebTYZKMkSTmNUVFRg7ty5eOedd+gmLb3GxWKxYN68ebDZbBgcHMTcuXPR3t4Op9MJTTue0qenpwff+c534HK5cNNNN2HhwoW477778I1vfAOiKOJXv/oV/H4/kskkDh48iJ/85CdYsWIFdu7cifr6esMZ9oqi4Ne//jV+/etfw+l04ktf+hI6OjoAAKtWrcLvfvc7fPvb3zbMNv/5z3/G888/DwDYsGEDFi9ejGeeeQb9/f146aWXcNVVV43pC3IeOetcjk6nk5k9AlEUMXXqVObL9FarFW1tbSdst7y8HHa7Hb/61a8wf/58AMDRo0exb98+TJkyBdu2bUMsFsO9994Lj8eDRx99FC0tLTjnnHOwefNmlJWV4Tvf+Q4GBgbwwAMPYNq0aTjjjDMMv6GqKg4cOIBNmzYhGAxCURRUV1dDlmW88sor2LRpE9auXXvSPhAEgXKBpX95cqGjo4M5FywWy4S4MBYcDgfzTCeCIHDJFQqAS05PSZLQ2trKxW5bWxvzjXUWiwWtra3MY6PdbmeakYSgvr6eqT0CkvdZ/4w8WUiShClTpnDhQnt7O1ObAB8uTBaKvwYljAhBEDB16lTMmzfPsGEMAMrKyrBw4UJ0dHRAkiRs3LgRzzzzDDZv3oy+vj5cffXVqKurAwDs2bMHa9euxdlnn41t27ZBVVXs2bOHzoT29fWhs7MTl156KTo6OnDrrbfi85//PFasWIErrrgCl1xyCS3T/v378dRTT2Hjxo1obW3Fpk2b6L0NGzZgz5496O7upsnVo9EoNm/ejIsuugif/OQnce+99yIajeLKK6/E4sWLsW7duhPyCes3Ul46UR52xyNRKQRJkvCZz3wGu3fvpjMQ77zzDpYtW4ZsNovnnnsOjz76KJYuXYpPf/rTuPXWW5HNZhEIBPDqq69i06ZNWLZsGa644grcfPPNBWfQk8kkduzYgc9//vOG9Gcejwc7d+7E5z73OSY+GWnzDAt8HLgwWSgm3xabXZ5c+Lj3s5LdyUNpcHua4+jRo9i7dy/OP/98LFq0CHPnzqWDwvnz59Mct0uXLsXPf/5zWK1WXH311di6dSsdyFx++eVYtWoVzjvvPMOZ3qFQyLB0TnJx1tfXo7a2FhUVFbDb7YYTZfbs2YPq6mpkMhnU1NRg79699F5LSwtWrVqF5557jg5uOzs7kU6n6dGmmUwGXV1dqK6upjOK40EsFuOi0wqHw8yXYYmeinVKNFmWJ6yHnD9/Pvr6+hAIBCDLMnbt2oV169ahv78fZWVlUBSF2r3qqquwcuVKHDx4ENOmTaOpi0RRxMaNG3HWWWcNs19RUYGHH34Y559/Pp01SCQSqKysxBNPPMF09jIejyMSiTDX3BYbF/x+P/NlTSIpYv0SGY1GmWtjgVxKRB466WAwyHzpnOg3WS+dk7jAkgualstzy1ozD/DlAg/9NU8u8HpGsI4Lk4HS4PY0RzgcxksvvQRBEHD22WdjxYoVOOuss1BbW0sHC7IsY8eOHXA6nXjggQfw+uuv44033qD6yJESnE9EfK8oCo4cOYJXXnkFb7/9Nq6++mrD/csvvxx79+6Fy+UCcPzh/pvf/Aa7du3CihUrJrQslU6nmevKiJ6Kh84yEokw12mRQxwmMri12WxYt24ddu3ahZ6eHmSzWSxevBiZTAbV1dWIRqM4fPgwbZ8vfelLNJm/JEn4y1/+gsWLF6OmpgZ33HEHDhw4gJdeegkvvfQSPvzww4K/mU6nmW/wAHLaOtYPMaKB46EFjEajXLjAw7eZTIa5XdLPeGjmSbYYllBVFdFolPnAg8QFHgOaaDTKRRvLQ8ubTCa56LpJ/+WxgbVYuKAoyoSfEacaSprb0xyCIECSJMMBDgSkE6uqimeeeQbV1dW4+OKLUVVVhZqamhEfqIIgwGw20wHyn//853HrDevq6nDWWWfhkUcegdvtxlNPPUXvJRIJzJo1C+vWrcP27dtx1VVXobq6Gs3NzfjOd74Ds9mMJ554YkIJsevq6pjrLMn53qwhSRKmT5/ORXM7kQM7SJmuuOIKbN++Hel0GgsWLEBNTQ0ikQj6+/vR3t4OSZLw6quv4sknn0RnZyecTif6+/uRyWRw5plnYvfu3di6dSuy2Sy6urqwc+dOWq65c+cO+82amhrU1NQw138RuQ1LiKKI5uZmLnanTZt2SnFhNDgcDlRVVTHXbzY2NjKzp0dzczM3bSwPu1OnTmXeHwgXWLcZD/01AG7666amJuaaW1EUuemvp06dytQmwIcLk4XS4LYEmM1mfPOb38TDDz+MF154AbFYDDabDRdccAH+9Kc/Dfu8xWLB+eefj02bNmH27Nk4evTouAe3q1evxn//93/jjjvugNvtxooVK+g9r9eLOXPm4NJLL8UPfvADAMD06dNx9tln46677qLHAdbV1aG1tRXvv/8+/uM//gMbNmwY12/z0JaJoshFx6tPXn2q2F25ciXuueceeDwe3HbbbXTQ0d7ejl27dtEXI7JsOmvWLMRiMbz33ntYtWoVKisrkclkIAgCPv3pT2P9+vWjlodHe+ntsW433lwoFruFXqRPFh+nfjYaePh2vCkjJ2q31M/4cYGHH3hwbDIg3X///fdPdiEmG/qGJP8u9LeRvjNeOyxtjfc7/f39eP3113HZZZfBbrfTJTOTyUQDTyQSwaxZs3DRRRehvb0dixcvxo033oi6ujpMnToV7e3tcDgccDgcWLx4Mex2OxYtWoTm5masWLECl156KRYsWIDm5mYsXLgQTqcToihi1qxZmDt3LsxmM6ZPn4558+ahpqYGy5YtQ3V1NdauXYvLLrsMiqJg+vTpmDt3Lu1Y559/Ps4991zU1tZi0aJFqK+vx9KlS/GFL3wBZrMZdrsdy5cvx5QpU1BTU4NEIgGz2QxBEJDNZhGNRmE2myGKItU9aZoGs9kMVVURi8VgMpkgiiIURUEkEqEz3JqWO8tefx2LxSCKIr2ORCIQBIEejUqWs8gAPB6PQ1VVqmmORqNQFIVep1IpZLNZWmaSLoaULxQK0WvyO4lEgs5ak9Rm5H4mk0E0GoXFkjvli6RqI/fJ0iPRL6uqinA4TH1EPk/qTK6Jj0jqqHfeeQc9PT247bbbAIC27T333IP33nsPP//5z/Hee+/huuuuQ0dHB1paWvC9730Pb775Jl566SX89a9/xU033YQZM2YgkUgYfJRIJOD1evGrX/0Kn//852k9zWYz3n//ffT19eGiiy6i3CXLnsQnsiwP40E8Hjf4gKSXI8t5eh+RvqH3CTlvPp8npJ31PEkkEvS+yWSi58oDgMlkotKFfJ5ks1l67nwsFoMsy/Q6nU4jGAzCarVCFEW6JEvamSzX6+us9wGRCZA6EZ5IkoR4PA5RFBGLxagPSR1H8kGhvhGJRCCKIiRJQjabRSgUgslkgiRJlDdkBYn4jPRFYk/Pg2QyCUVR6MZC4ldRFGEymZBIJCgv9H1B77N8H8TjceozPS8SiYTBZ6IoUp5YLJYR+wK5JrzR96VC8YJcS5JkiB/EJ/l9gaRf1PMmE4VPkwAAIABJREFUm80ilUrRdiTxg+hbyTWJL4lEAjabjfI9mUwafELqTMqfTqepj2RZRjweN3A/FosZ7pPnCPFJ/rU+hpH7giDQOsViMYMP9NfkPuGBIAiUF5lMBrIsI5vNQpZl2g56XgiCQFPz6eMF6SuEJ4QXpA0SicQwH+ivR4sXhZ4r4XAYqVSKtms4HDb0DT0vSLzQ942ReCJJEqLRKFKpFBRFgcViMaSg0/sgk8nQOpL4oeeJPp4Uihf515FIBFarddhzZqSYGYvF0NnZif379+PKK680rLyONKYZ75hnNBT/3HMJY0JVVfqGpygK3RRE7vl8PmQyGcyYMQOrVq3CzJkzaVCcOXMmKioqkE6nUVVVhUWLFtGgNX/+fCxatAgOhwNNTU0wmUxYsmQJfZjMmjULTU1NiMViaG1tRXV1NYDczO/ZZ5+NpUuXwmKxIJlMoqOjA9XV1UgkEvD5fJg2bRpddiED5RUrVsDhcNDB65IlS7BgwQJkMhnDxgVyqAARxauqCrfbTR+qsizTdFNAblBEfADk3rADgQAdACmKgmAwSK81TaOpz6LRKN1Eo9cERiIRgy4sP19wIpEwbHCLx+P0vqZp8Hq9hoMGMpkMQqEQ/Xw6nUY4HDZc+/1+qpXKZDKGzWPZbBZer5cmVZdlGR6Px8CDYDA46rXX68Wtt96Kxx57DPX19fSBuHLlSjz22GM455xzcMkll+CnP/0prrzySgSDQVx88cV44oknsGbNGqxbtw5PPvkkTemVvzGEPBg2b96M8vJy6lcglybu6quvNuQ+TiaT8Pl89Jr4SF9n/TXhRSwWQyQSGcYT0jf0116vl/KC8ESvcyM8IRvKXC4XbXdVVREIBAw80POEfEfPi0I8GRoaor+ZSCQMXI/FYoYNXOl02sCTZDIJv99P7yeTSVpmwml9ov38hP6EN/q+kO8jfQ7rVCoFl8tFr0kd9df5dQwEAnRTFxns6nkRjUYxNDREPxOJRAwbApPJ5DBe6LmfSqXg8/mG9SUyeAiHw4bNddlsFh6Ph36fxAvik0I+8Hg8Bh+FQiFDnYPBoCG+5Cf2z48X+s2JxIeRSIS2XTweHxY/9NeEJwSpVKpg/NDHAq/Xa6izvu8QXuj7lj7Zv34wS8qsj2GFDjPI7wv5Pss/YINs+IrH40gkEvT/ep7o65hKpQw8yfdBMplEMBikdSL+1ddRv4E6/xCc/Gcp2Yylv+/z+WgMITGU8ID4TM8L/UEwmqbB5/MZeED6BonPfr/f0Jfy40mh54y+XUlf0fNC386Frr1er2E8kc+TQjFzMjaoCdrpkK33JKDXYZJ/F/rbSN8Zrx2Wtk7kO2+//Ta2bNmCp59+epgmcKK/DeCkysTCtzx8OBn1+Kh8eLrUQ8+/seyf6vUo9J3JqMdYZTqZ355omU61eky0jYqlnwHj61Onej1OJqafyvXgFdM/in6maRp27NiBF154Adu3b6cZjvT3AZxwmcZCaea2hBJKKKGEEkoooYTTBqXBbQkTQjabRTgcZp4yJJVKFTzu92SRTCaZHyuoaRrVPbFE/hIfKxANGOslIl5cIKnAWELTNCSTSS6pwHillSomLpA2Y82FeDzOPP0TaTMe/ZfIXlhC0/ilf4pEIszz3KbTaS4pxnhygYddXlwIh8NFwYXJQmlwW8KEQLR4rB9i0WjUoINibZf14DYcDnNJAu/xeJgPlDKZjEE/xQpEf8ejzSZ66MRYdllzTNOGawRZgHCB9QCM6Ad5DEL1Gl8WIP2Mx0svrzbz+XzM20xRFLjdbi5xgYcuMpFIMOcCcFxzzRpEC86yvDy5wOMZQWL56TC4LaUCK2FCsNlsmDp1Kt3FyQokHy2P3KYT0e2MBkEQaG5EliB5bln7wGaz0Xy0rO2SY5xZora2lhsXADDP61lsXODRZtXV1Vzy3DqdTuaDJADc2oxHrlBJkjBt2jQu/be9vZ3u6GcBQRC45DwGgMbGRq5c0OtATxaiKHLlAmvukjy3LLkwWSj+GpQwKRAEYdxBVtM0KFkZaia3tCpZzRBNhb/LK3k0sct6cMv6QUPAwy4pL8vgrbfLGjy4IAgCN7vFyoVisMsrpydP3/KyWyxtxjMulLjAN96w5sJkoDS4LWFCUBQF8XgcVVVVo3YERVbgP9CDg//5B/gP9EKQJDjPnokzrj4fjmlNEPI6aDqdhqIoKC8vZ9rBSD7asrIyZnY1LXcsqCRJNHUaK7uxWAzl5eVMA5iiKEgmk6ioqGDq2/Fy4UTBgwtEC6goStFwIRqNoqKigulsiqIoSCQSqKysZDrYz2azyGQyTDlGdNKCIIx4FPhE7ZI2m8iph6PZjcfjsNlsTNtMHxd4cKGiooJZvNE0jXKBdSwnutjy8nJmNnlygeTOJbllWdmNRqMoKytjapcHFyYLJc1tCRNCJpOBy+Ua9Q1aTmfwwbM78eL6e/HmQy/i8H//CZ0/exuvf/vf8J+X34vOl9+Eqhg1f+Fw2JBHjxV42NW0XB5CfR5BFlBVFf39/cx1Wul0GkNDQ8z1VJlMBkNDQ8z1m7y4EAqFDPlxWYAnFwYHB7loboeGhphvVItGo3C73cy5EAwGDXmdWYFHmymKYsjLy9Lu4OAg801P2WyWS1wgXGDdf4PBoCFfLSv4/X7mHFMUxZD7mqXdYuLCZKA0c1vChFBWVobZs2eP+kbe/ds/4fd3/xvS/jgk6W8nogkaJIgIHfJg9x3/gqrWekw5Zy79TkNDA5clEaLTYi1LaG9vZx68JUnCGWecwdwPZWVlmDlzJlObxO6sWbOYl5cXF8hR0aylGby4MGfOHOZ+sNlsmDVrFlObQE4nXVNTw7yftbS0cNFZtre3M7cpSRKXfiZJ0pgxdyKwWq2YOXMmc7u1tbVUN88SvLjQ1tbG3CZPLsyZM4e5H2w2GxcuTAZKM7clTAhEeD9SJ4i5A3j3ez9Hyh+HIInDviuKImK9Qbz7+EuQU2nDvdHs8irvqWKT2C3GM+SLwa7eZokLxdFmers8bJbsFk8/09vmYbOY4kIx2Z0MlAa3JUwIRL850vJj9JgXwc7BUTuJIAhw7+1CwnN8iSmbzSKdTjN/I81kMsztalruTHfWS7uqqtJz1HnYZb1kPBYXJopsNotUKsW8zQgXWIJwgXXeyWLjAum/PHIes/YtrzYjGmHWcYGUlwcXUqkU89R4siwz779ALpbzaDOeHOPBBR5xgVcsnwyUBrclTAhEszdS4FJlBZqqAaO9AAoC1KwCTTluIxKJGM6BZwVybjjrgZLf7+ems2Sd+DuTycDj8RSN5jYajcLv9zO1CeS4wCMXayAQ4HLoBC/NrdvtZs6FeDzOTSfNQ3MbCAS4aG555CYm+k3WdrPZbFFxgZfmNhAIIBKJMM9zy4MLqqpiaGiIGxdYD8YnAyXNbQkTAsmNONJOa1O5FaJFGl3nqmowlVshWI7TsLa2FgD7NFA8cqaKoojm5mZm9ggkScLUqVOZ+8BqtaK1tbVo8ufW1NQAYJu+DTjOMZZ2RVFEU1MTM3t6u7y40NbWxtyu3W7nktu0oaGBW25T1jCZTGhra2POW5PJhI6ODua+tVgszLkgCALlAg8tPg8uEC0+y1SJkiShtbWVuQ9ILmUe+mseeXknA8VfgxImBWPlRnS0O9GyfDYwWowQBXSsXoiKxmqDXR4dSxRFbnaLLe9kMdll3WbEZokL/PLR8vADjzYrNi7wsstT110ssbwYucAz5pY0tyV8bKGqKjKZzIhvuFZHBc791udRfYYTqmxc7tI0DaqsoHH5NKz4x89BMh+fuZVlGdlslvmbOQ+7JJcjDz0VD93iWG12qtnl1WbELksQLW+xcIHYLYY2A8DNt7z6byaTYb7MT+zy4ALr/qtpGhRFYS6tAsCtzYqNC8X0jJgMlAa3JUwIyWQSXV1dI3ZaQRDQeNZ0XPyjW9C2dh5Ec06ioGmAVG7GzGuW4+If3oKq1gYAwPbt23HBBRdg1apVuPHGG3Hs2DFmZX3yySexefPmMfPyAsDTTz+N9evX06D8+uuv46abbir4WU3TsH//ftx5553MygrktHVHjhxhniczlUqhp6eH+cAulUqNyoWJIhAIoL+/n3mg9fl8GBgYYL6BxuVyMdcCqqqKo0ePMudCMplEb28vcy6Ew2H09fUx963b7WaemxgABgYGEAwGmdpUFAU9PT3M9deKoqCrqwvxeJypXV5xIRQKMecCALjdbni9XqY2AWBwcJC5Fp9wgce+DB5cSKfT6O7uZs6FyUBJc1vChFBWVoZp06aNuowjSBLaVy1E3dwOHPu/ffAd6IMgSWg8ezrazlsAa3UFBFHAm2++iZ/85CfYtm0bnE4nnnnmGTz44IN4+umnmZQ1mUzCarWiubl5zOWWZDKJvXv34tVXX8Xll1+OTCaDSCRSuH5/W8J55513mJSTQBRFzJw5k/n53jabDR0dHUxPtCF2x+LCRFBXV8c8ZyoA1NfXQ1VV5il/mpubmftAFEXMmDGjaLjgcDiYa24FQeCijQVyOVNZtxnRzLPWoEuShOnTpzPngtVqxdSpU7lxgXX/JdpY1iD9l7XmlgcXRFHkxoVp06Yx58JkoDS4LWFCEEURVqt1zMAliCIqnTU447MX0qBBvkOWrp5//nlcc801OOeccwAAt9xyC1577TUAuZ2xTz75JDo7OzFnzhzcdNNNqK2txYcffoh//dd/RSAQwCWXXIKrrroKsizj8ccfx9GjR7F8+XIMDAzgH//xHwHkgozZbDb89p/+9Cc8++yz0DQNGzduxPLlywEA11xzDX784x9j/fr1hrr09/fjhz/8ITweDz71qU/hiiuuwIsvvoju7m5s3boVd999N1PfknKyAm+7PDZNsA7egiBQm6wPcbBYLFzOvGd5HCiBngssYTKZmB+WAgBms5mLby0WCwA+XOBll4eembVdXv0M4M8FXnZZc8FqtTL3Aw8uTBZKsoQSJgRFUZjkMMxmszhy5AjmzZsHQRDg9XqRSCRwwQUXQJZlbNmyBYlEArfffjvcbjeeeuopZLNZfPnLX8a5556Lr33ta/jpT3+Kt956C7t27cIf//hH3H777QgGg9i5cyddXsnXAgYCAWzevBlXXXUVNmzYgM2bN2NoaAgAsHDhQtTW1uL//u//UFlZCbPZjHQ6jUcffRRtbW249dZb8eyzz2Lv3r1Yv349Wltb8dWvfvXkHKpDMeWzBHJc4KHf5JHzWH/mPWu76XT6Y53bFMj1Mx6avWLMbcpDZ8mLC6z1m0TbzitnOU8u8MiFXixcILG8lOe2hI8tiE6LRSeQZRkVFRUAgEceeQSrV6/GwoULMTQ0hJ07d+JLX/oSFi5ciGuvvRavvfYa+vv7IYoi1q9fj+XLl+OCCy7Anj17sHv3blxzzTVYuHAhPvOZz6C+vp7+RjAYxODgIA1cXq8X/f39kGUZyWQSgUAAHo8HQG5p5q677sJjjz0GSZJgsVgQCoXw17/+FdXV1RgaGkJVVRXef/99pFIpiKJI00uxgKIoOHr0KPNzw5PJJHp6epgPwFKpFLq7u7lobgcGBrhpblmCaG556Dd5aG7T6TR6e3uZcyEUCuHYsWNcdJY8NLe82qy3t5eLzrK7u5uLzpJHXCD6a9b9l5fm1uVyMc+rrSgK+vr6io4LJc1tCUUDEmA0TYOqqlRnRqQB+rQisiwb0oEoimJIk6IoCqxWK6ZPnw5RFOmgRpIkap8c4UeuyX3yfSC3BCJJEpxOJ44cOYJly5bhu9/9Lm6++WZcccUVAHIDMovFAkVRYDab4fF4kE6nDUsnkiTB5/NBURSYTCaoqjosp21NTQ2mTJlCy6QoCsLhMP7whz9A0zRcfPHFaGhooD6ZN28eamtrsW/fPsMsxJ49e1BZWYlp06Zh4cKFKC8vhyRJUBTFkPqG+EDvM70PiE/0n9c0DZIk0fPI9TotVVWhqipd6suvI7lPvqNvZ1Jnoo0lS8ekXfU+ITwo1I7kvt6+IAgoKyvD9OnTDfXW39f7QH+040g+ImUimtt8H42nzqNxnbQz4br++4X6gt4nsizDZDIZ+gapQ0tLCy2XKIoFfTyevkHSdAG55ccZM2bQpc38z+t9oLdZyEeCINBroq0zmUy0jHofFOJFIV4RH5HrmpoaVFZWDpMe5ccTUodCv0f+0/uksbGR+nS0vjPS9Ug+mjJlCv0N/f38Oo/Ei0L3ST5aolscLcaOJ17o6zxjxgyYzWZDHfU+y2/30eIFuSZcIP4dKR6M5pN8bgPGnMcj8SC/L4wnXhD9NfEJ+UyhvjFSnfN5AYD2XwJSpkJ1Hqld87ksCIJBc6vvKyP5mPT/0eKHJEmYMWMGBEEwlCk/hp5ovMjXXxeKsSPFg9F8NBkozdx+DKAoCh3cyrKM7u5uerKJLMs4fPgw3dmbzWZx9OhRw5um/s1TVVX09fXB7/dTjWFvb6/hjdflciEQCADIkXtoaAj9/f30/uDgIAYHBwHkOt3atWvxzDPPIBQKQZIkeDwe+kba0dGBPXv2oLu7GwcPHsTChQtRWVmJgYEBRKNRmlmgoaEBDocDvb29iMVieOutt+iMjKZp9HQjQRDoSV3Nzc24++67cc8998Dv99MMCbFYDD09PfjKV76Cp556CtFoFD6fD1VVVbjxxhvx4IMPwmw2I5FI0IfH4OAgwuEwfcgMDg4aZoT6+vrg8Xjofb/fD7fbTe97vV46cwzkZpr1M2DRaNSQQSISiRhmNWOxGI4cOUJnXxKJhGE2NZlM4tixY/SBmk6ncejQIVpnWZbR19dn4EVPTw89plZVVXR2dlKeqKqKY8eOIRKJQBRFmM1m9Pf3U55omobu7m7DqXAej8cw4zI0NGTgjdvtNvAkEolQnwG5mVz9qXihUAhHjhyhn4/H4wafxeNxw27teDyOQ4cO0Yd+IpHA0aNHqQ8ymQy6u7vpdTqdRmdnJ501zWQyOHLkiGG2pLu7m86wi6KIvr4+2u5kdkXPg/7+fspFTdPQ398Pl8tluK/nhd/vRzAYpA9Pn8+H3t5eWiePx2OocywWM/AkHA7j6NGjlBeRSARHjx6FqqqwWCxIp9Po6uqiPk2lUjhy5Aht91Qqhc7OTgMvuru76X1ZltHV1TWs3fU8GRgYMFz39fUZZmF7enooDzRteGYEl8sFt9tN+5rL5TJwPxQKGWbig8Egenp6KPeJD/Q8ID40m820zqTdk8kkDh06RH2WyWTQ29tr4Ik+00Q2m8WhQ4coDxRFwdDQEOUNqTPhDdnpro8X+TPIAwMDBp4MDAzA5XLBYrFAFEX4fL4R44emafD5fOjp6aH3o9GoIfMI4QkZmKRSKRw+fJj6LJVKoa+vj9aR9A19PDl8+LCBF729vYZ4oV/ZIzwhm3M1TaPxQ3+dzxN9TCS8MJvNMJlMw3jidrtx7NgxWkf9ah15BujjSyAQQHd3Nx0wZrNZ9Pf30zrG43H09PRQe4lEwtA3stmsIUZmMhn09PQYeHL48GGk02lIkgRZlnHo0CHKC0VRcOzYMQMvenp6DM+to0eP0gws5FlKnq0WiwWDg4M0JpJ4QuR1pI76a6/XS2MieQ7p+38sFjN8PhqNGuJHLBZDZ2cnbddUKmXoC/kxM5VKGb7/UULQWK8ZFBnI25X+34X+NtJ3xmuHpa0T+c7bb7+Nhx56CE8//TRaWlqgabm8e2Rzlf5akiSoqopsNguTyUTf/tLpNEwmk+E++a7ZbEY2m6UDHDK7pZ99kmWZzhaR++S7QK4D3Hnnnejs7ITFYkE8HsfKlStx//3349VXX8UPfvADtLe3Y3BwEJs2bcJ5552H++67DwcOHEB1dTVisRgef/xxpNNpXHvttVi2bBkdJPzyl7/Ec889h5/97GdYsWIFRFFETU0Nrr/+ejz33HM4fPgwBEFAbW0ttm7dimeffRahUAjf+ta3IAgCPvOZz0BVVfziF7/Ayy+/jO3bt2PKlCkYHBzED3/4QyiKghtuuAGLFi3Cd7/7XfoGS3xCHsiZTMawyYJ0djILqPeJpuX0VGQzApkdl2WZ+lBVVTpTTe5ns1k6o038TNqZ5C8k7UTaMb/dzWYznWnJZDK03TUtp0kj9/V1FEWR1keSJHo/k8nQmehCdSblITPJeh+Q+4qiwGazGXxEfkOWZSiKYpjVzPcJmfEn90mdyGxPvs/0PiA+1ftI31fyfUTyZJKHL7lPNsYR+3ofkYcCqUM6nR7Wl7LZLGw2G0RRRDabpQNTUn79tb7O5DqbzdINf/o6kRkWWZYNm17y40EmkxnGK+Lj/HhBtLw2m436qFCdBUGgdRyJJ3ofEL8SP5P7QG6QQHxA7OuvVVWldcz3EfktwqP8vqSvI+GF/nqkGJpKpWCxWGid9Dwh39fXuVC80PcNfczVr04RH5EJDPJ9UsfR4gXxASk/AMoTUsZ8n+nbmfBitHih5zK5T8pPZr/1vCA+IfdJzNTHC/0zLz+eEF7kxwtSJ308yO8r2WyW+ox8Pp83+phK2qkQL8g18YG+jIWetfp4oo8XhfoG8Qkpr/7z+r6T/1wh39fHTPJsJmUmmnkSb/L7gj6ekDbIr7PeJ6QO//Vf/4Wf/exn2L59O+x2O/0u4TRw/MTI8Y55xkJpcPsxGNxu2bIFTz/99LCjYif620BuQOpyudDR0UE75snUg8wEHDt2DHa7HcuXL6dyhMOHDyMQCMDpdNIlnmQyiQMHDiCTyWD69OlobGzE4OAgjhw5ApPJhFgshn/+53/Gjh07EIlE8Oc//xmyLKOhoQE2mw1nnnkmBEHAgQMHIMsy5s6di6qqKpr/tK2tDcDxWet58+ZBlmV0dnYiHA5j+vTpaGhowODgID2Lm2RbONl2JZq95uZmOrCbKBf0SCaTcLvdmDJlCg22LLhOuNDe3j7ibvmJcDoQCCCZTKKlpWUY/8Zjv9B9MluRyWTQ1NRkWE47mX6mabkZR6vVOkx/PV47hf6tqip6e3vR1NSE8vJyZr7Vc0G/fH6yXIhEIohGo2hubjYsTZ6MbwVBgNvthiiKBknJifo2/76m5WZMbTabIeXcWOUdy74syxgcHERdXR3Ky8uZ9TPCBafTiYqKCq5cmKgt/ecikQgikQhaWlqYc0EQBDQ2No7pw/HaB3IrSRaLBXV1dcx8K8syXC4XampqUFFRwYQLwHEtb0NDAyorK5n5Np1Ow+VyoaWlxZA94mT72Y4dO/DCCy98pIPbkua2hAmB5I1llSOyrKwMCxcuxBlnnAFN02jHkiQJc+bMGRaIysrKsHjxYsPf9u7di8cffxyf/exn8e6772Lp0qWoqqpCZWUlGhsbDTNcpLMQGwT6gRQAtLe3U/smkwlz5841dMiGhgY4nU6meQGJfpN1ahqLxYKmpiYuuRH1gxlWqKyspA8ElnA4HBMKlqNBEHIaYdYgXGCdd5IXFyoqKmC1Wpnnjq2pqWFqj6Curo5LbmKn08nct6Ioorm5mUtccDqdzPtvRUWF4eWcFXhxoba2lgsXGhsbuXGBtV2z2cyFu5OB4q9BCZMCURS5BC79ks+J4lOf+hSsViu6urpw+eWXY/Xq1Qa7PAY0PHINCoIAm80GAExtkzbjZfdU4sJIEATBMFPJ0i6vPLekzVhCzwWWIEusrNuNdw5h1lzgZZdHP+PRfwVBoBIE1u1WTPmkeXOBtR94xfLJQGlwW8KEkL/rkqVdABOaRRBFEWvWrAFQeBmHfIZlefOzILCAphl3nJ7qdk9FLowEsrwLgPksDS8u5O8iZ2U3f6c3C/DiAk/fAny4IAgC80FCfuYaFiB+4MEFTdOKqp+xtgvw40J+ViMW4NV/JwOlbAklTAipVApdXV00ILBCIBCAy+Vi/kaav9OeBYhmj+xmZQVVVbnkuSU7W1nvXCXnkbPmQn5uYlbgyQXWOVN5cYFXnttwOMwlNzGvPLf5WU1YgOghWecgVRQF3d3dXHIes85zq2m57AT67AWs4PF4iirncTFxgWR8mIzsBqxRmrktYUIgZ9Pz0NaxDoZ6u6zfRp1OJ5dlQpKDlCVsNhva2tqYz0xYrVa0t7cz50J1dTUcDgdTmwA/jvHiwtSpU7nopHlwwW63c9FJ528kY4WmpiYubdba2spFv9nR0VFUXCCbnViioaGhqPovTy6wbjOLxUI3Bhc7ir8GJUwKRJHPGdS8lkN4nHlP9Js89F/FdOZ9MXGBaAEB9r4t1jPvWYKkduKhv+bhW176a552efQJ1v1XEASawop1u/HQ8erbjJfdYtD4k9RtxS5JAEqyhBImCJLPjnXnInn0WIPkymS9FE1yDbKEpuVyA7Je5udlt5i4QLSmPOyWuHC8zVhzgZdvSW5i1naLqc142CX9jEdcILGcJXhzoVjiAonlrO1OBkqD2xImhFQqZTgFiBWI5pZ15/L7/UWjuVUUBV1dXVw0t319fcwDONHy8uDC4OAgcy74fD7mHNO03OlBPDS3XV1dzLV1hAus24ycFsbatx6Px3CaHSvw1FmS07ZYgZxgxVq/mU6nucQFciJYsWhuyelfLMubfwoZK5DTD3nor3lwYTJQkiWUQHEindpqtWLKlCnMNT8Oh8NwNj0rVFdX013nrCAIAurr65n7gOi0WKdqslgsXHIjWq1WQ6J2VnA4HKiqquLGBZY6OMIFHto6nlxg3WZVVVX0dCNW4JVDGMjpN1n7QJIkLvloRVHElClTmHPBbDZziQuVlZVc0krlH5LCCqT/6vOYnywkSUJTUxMXLrS2tnLJecyDC5OB4q9BCScNTdNw6NAh7N69GzfccAPKy8vH/I4kSVw2jvDQbgKg+WhZD27JqVEsIYqi4dQZViBtxstuMXCBZ97JsrIyLlpAHpty9FxgCYvFwkWzxyOnJ2kzgD0XePQzYpeHtp21XaIJ5aEL5c0F1nZ5coG1H3jF8vFAVVW8884REgWVAAAgAElEQVQ7OHz4MK6//vqTtleSJXzMoaoqDh06hH/4h39AJBIZ94wLyQvIunPp8w2yBMnfx7q8PH1QssueC8QmL44Vm2+LxS7PshYLF4rNLs9YXuJCccWbsaCqKl5//XVs2rSJ2X6I0uD2YwxN07B//37cdtttuOiii/D1r3993Ke0pNNp9Pf3Mw8GoVAIHo+HeecKBoPwer1M7aqqCo/Hg3A4zMwmsdvX14dUKsXUbjqdxsDAAJc8t7y44Ha7mXOBB8eILjQSiTCzCRznAmv9dSaT4cKFSCTCXNsO5DTzrLWxALj0X0VRMDAwwCW36bFjx7jkPGbNBU3TEI1Gue2fCAQCTG0CgNfrRSgUYq65HRwcLBou8IoLo0FVVfz+97/Hli1bcO211+K6665jYrckS/iYQtM0fPDBB9i8eTOWLl2Ku+6664SW2E0mE+rq6pgvX5DzyFmjoqKCi+bWbrcz1+wR/Sbr1DRmsxk1NTXMdaFms7nouMDDrsPhYO5bwgXW2jqTyYSamhrm3C0rK+MiS+ChwwfArf/W1tZy0Vny4kJtbS1z7tpsNi7p/HhygYdmvra2lnksF0URdXV1RcOFkaBpGv7whz/goYcewoYNG7Bx40ZmdSoNbk8RkEHlR6F1ITO2mzdvxsKFC3H33XePS2erh8lkKhqdJXBcp/Vx19zy1PIWAxeKTXOr5wJL6LnAErw0t7z0zCTusc77XNLc8tPc8uKCXnPLyj4vjhEtfjFrbonGdvPmzfjiF7+IjRs30r0xLFAa3E4yNE1DKhHH4JAL6ayKpqZmVNtzb6aKnEUwGISiarmBGQDJbEG1wwGTaWKzDZqmobOzE7fffjtWrFiBTZs2TWhjCdHmsE7YrmkaHYTysAuwe4HgYVNvl3WA4Wm3WLjAS0v2UXChWOzy5sKpbJO3XZ6+ZWmX9IViiY8fRT9jCZ7xhgfH8qGqKvbu3YtbbrkFN998M66//nr2Kx1MrZVwwhg4eghf/eJ1WLZsOT6x4hxcfPlVeOsvB6AB6Nm/D59evQpLlizFsmXLsGTJElx53VfR756Y3kjTNBw+fBhf+cpXsGrVKnz729+e8I5pcjY9az0VyXPLQ7PHI8/t0NAQ8zy3JIchD83tsWPHuOS57evrY86FYDAIl8vF1CaQ4wJrjvHmAg+dJa/cpoODg8z7L688t7xyE/f19XHJbdrb28s8t2kmk+ESFyKRCLc8t7y4wDrPraqq6O/vLxou8HpG6KGqKt566y189atfxde//nXccMMNXE6HK83cTiISkSAe23o/Dviz+Pmru9BUIeHeu+7Atv/3Izz7z9tw7FgPoqoNT/zLE2hwlAHQUFZRDWed44R/i8zYfvnLX8b69etx2223nVTqE7PZDKfTyVybU1VVxWVZxG63c9Hc8tAniaLIJU+m2WzmktfTYrGgsbGRuR8qKytPWC4zHhAusARvLox3o+d4QdqMNRcqKipgtVqZ91+Hw8FlJolXmzmdTi46S6fTyZwLZrOZGxd4SIuqq6uZ2iPgxYWGhgZuXODxjODBBQKSFeG+++6jM7a89L2lwe0kYqCrE2++fxj/uPV7WLlkAVRVw0OPPoYPjg7AImroPdKJho6ZuPCi8yFk07nNGhNMrnzkyBE8+OCDuOSSS3DbbbeddI48SZJQXl5eFDpLYpeH5pZXzkUeOi3SZrzsFgMXiBYQYK+B480FlhBFkYtds9kMk8lUNHluycZCHvprHnZ59DNRFFFWVsY8NppMJphMJubtxlKXSaDnAsBWc8uTCzw0t6y5QCAIAt5880089thj2LhxI77whS9AkiRuUrHS4HYScazrEFSrA3WmLP7f44/CG4hj2XkXYt2a1bCIMg53dSERjeDBb96GDzq7sPgTF+LGL27E7I4pGC/3BEGAy+XCvffei1WrVuHOO+80PCgKaY3yZzjztT3kWn/KE7FRiKj5uqP8z+ivC5Wn0Of1nylUvvy/kdx9+vKS+4XKN54yFPp7/ucL2RyrTnrd04n4sNB9/TVp10LtnO+z0XxSqP75tk/Eh4Xu68ugb7PxlCnffr6P8v82Fm/0PButzHqOFfr8aBwaq93yT04ard1GqnN+mfR8mwgPRuJRfnnH4nr+S2eh3yQz7YVmeUZrk0Jlzo83eoynb+R/byIxtFB/ybef7yPyPR4xV99mI3F9IvEi//5oPsxvAxYxd6Q65/topPKNJ/6MVAZyX99mhMejxYex+kZ++fX62JFsnki7Feq/E3mO5Zfx4MGD2LZtG77whS9g48aNXKQIepQ0t5OIYMCHUMCFBx98AP/7h3dxYP8+fPPWr+Gp5/8TkUgUA7098HlcsNS1YvV5y/Hbnz+Pb95zHwb949P1aZqGQCCAUCiElStX4lvf+hbMZjOGhoZoomSSh8/v92P//v1Ip9NwuVwGLY/H46GaP03T4PV64fF46Nn0Q0NDhlyRfr8f0WiUfp7kmCXw+Xz0bHBN0xCLxeD3++lnjxw5YtBURaNRDA0N0cCQTqcN+U9TqRQ8Hg+9n0qlMDg4SHVDiqKgq6uL5jaVZRkej4fel2UZAwMDSKfTAHIByO1202tFUeDxeKgGVlVVuFwuxGIxqrP0+/1IJBK0M/v9fsPZ8h6Ph+ZQ1LRcDki91i8UClG9pqqq6OrqMtQxkUgYfEiuib1kMomBgYFhPlIUBcBxXV1vby9kWabXeh54PB5kMhl67Xa76X2iHdP7wOv1IplMIpVKobe3F263m/JG03Ia1EgkQusQDAYNPAkGg4a8sPk8IZpb8v1IJIJgMEjrHIvFMDg4SD+fzwPiAz0vBgYG4PP5MDQ0NIwnsixjaGhoGC+IT/J5AgAulwvpdBqqqmJoaAiHDx+m+jrCE73ezuv10mtN0+Dz+WjOTnKt50U0GkVnZyftf5FIxMCLUOj/Z+/Lw6Sorvbf6m32GWZjVoZhVdAEXFhUFNBgUFAialCJa1y+nxoUJSoaPlAQcEkUNwwBFVFRo/IZRMA9qAhGBUEGmH16pvd9unu6u7q76vdHe69VPd2zccvJSL/PMw9U36pTdc9976lb9557jlsWv5nogBz7/X4YjUbKg46ODphMJgQCAbS2tiIYDMp0HA6HYTAYaLuT42S8iEajMnvR3t6Ouro6mb2w2+30mPQtabsTnpDz43nhdDpRW1tL9eJwOGC32+kz+3w+ak/IsTS+qt/vl9VRyguLxQKLxQKTyUTbnfgdEp0lshdSnpCYo1J70draKuNBIvvh9/spl51OJ7WZiXhC6qzX69HR0QGPxyPjCTkm8jweD8xmMy2X2gsACAQClCc8z6OhoUEWq5rneVmdw+GwzAaTeKhSXlitVsoLURSh1+upTMKT+PeI1F7Ev2eIzSQgvLDb7XA4HHC73fB4PDL7Iq2j9L0iiiL8fr/MvsS/V8xms0wHoVBItk+D53kYjUZax0T2wmKxyI5bW1vR0NAAv99PeUF0Rmwo4Q2xmdJ3J3nPkGPCE+Jz29bWRv2Ek9kPaUxgEuObfIgTHUjfMy0tLbSOHR0dMvsRCARkftThcFj2niH2gtSJ6MzhcMDv9+MPf/hD0s1jhBP19fWdyvqC1MxtPyIqCPC77Ji54D4suuVqqBHBMw//L156YT1m/uYcXH/Hn/E/BZWYNP5kiKKIc848HTfcfi8+23sQf5h9TpeyRVHEkSNH8NRTT+HKK6+kURGi0ahs2ZB8nT366KMwmUx45plnoNVqZTMk8aF9NBoNVCoVjWGo0+lkuajjr1epVLKvNK1WK/viU6vV9Pr09HTk5OTIfH7UarXseo7jZMcqlUp2f3I/aR0zMjLokh5ZMpOWS5fAiXxSB3J+vE7I0q5Wq0U4HO6kI2kdyHKt9BmlkC7fcRyHnJwcWR2lOkqkU1KHeJ3E60ClUtF7S30ju9MJ0NlNQMqD3NxccBwnq7NOp5Mdxy9Xq9XqTu0sBYmTKS2P5018nbvjiVarRUZGBgRBoNfHt3tXvIjXAeEBx8WWCaPRaKfzpW0dz6N4nZClXOkzS7kQz4PueKFSqTq1s1arpaHAVCpVpxdNojpL+0Ii3pFynU7XyWdeWmfp/aX364onGo0GOTk5dNlYq9XKfKYT6SRRu0ufmRxnZmZCEARZ/+U4rtu+kYgn0jrG99/4do/nRXxfiLeh5P65ubnUfsb3pXh5Pe0b0v7bVR0TtXuyclEUkZaWJtNjojolsqnS43heqNVqpKend1pxkOpIWuf4vtEVTzIzM+nAk5wv1WGyOnfFE6IDcl68P3r8M3fXN0g7Ey5EIhFZneJ1Gm9T4+uc6Dg7O5teR3RAnpEcS3WfqG9I+8L333+PDRs2YPny5Zg/f37Sga3D4cCSJUuQnZ2Nxx9/vNM5vYZ4nEMQhE7/T/Rbsmt6KifR8Y7N/xBPGvtrcf/hevrbwS93iieffIq486tDYkdHhxgOR+i15uY6cfqEX4mPPv9Kt/c/evSoeM4554jLli0T/X5/0mf2+XziAw88IE6dOlVsbm7ukT76oifWuu3LNd3JYSlLCTnHcm+WsvqzHlL+dSe/J7KO5ZmU4HR/1EPJe/f1mf7b6tHXNhoo/eyXUo9E+KXZi//GZ0pUHolExC+//FI89dRTxZdeekmMRCJJ722z2cTrrrtOvOqqq0S73d4j+d0h5ZbQjxg6agx0KgEH61vob/rmZqjSM8F1mHHDNX/Atn/voWVtzXWw+wUMHTEiqUxRjIX7uvbaazFz5kz8+c9/TrpxpL29HcuXL8fevXuxadMmVFVVsatcCimkkEIKKaRw3EEQBHz++edYtGgRbr/9dlx99dVJIzDY7XbceeedUKvVWLNmDQoKCpg8Q8otoR9RNXosZpw9AX9dvhS8y4IMBLHmyWdx1ozL8asxJyJfK2Dp4sXw3vUn6IQg/vH8cxjyq0mYMn5MQnmiGMs8dvvtt+Oiiy7CggULkg5sPR4PVq5ciUOHDmHt2rUYMmQIlZFCCimkkEIKKaTQWwiCgE8//RQrVqzAH//4xy7DfdntdixcuBCZmZl46KGHUFhYyOw5UoPbfkRmziDccd9fwP3tMTz9+CrwURFTzp+Ne26/CSWlxbh32Qr89fHH8djK5RBEEadMOgeLFt2N0oLcTrJEUcSBAwewePFiTJs2DXfddVfSeIgejwcPP/ww6urq8Pjjj2PkyJFKVzWFFFJIIYUUUvgFgwxsV65cSTePSX2CCcQfN4/9+c9/Rnp6Oh566CGUlJQkjf7RF6TcEvoVHPIGFWDcr8chJysDKq0OFaWlSM/QgeNUKKmswtlTzkJWphZqbQbGnvwrlJcUQeJ/DiBGqIMHD2LJkiWYMGECJUw8xB93R65atQq1tbVYuXIlTjzxxJ+primkkEIKKaSQwi8RxBVh+fLluOqqq/CHP/wh6eYxs9mMJUuWQBRFrFq1ig5sWSI1c9uPiIRDePOFtXhwzQuY9bu5KMvV4OV1T8IbAR5ceAs+efdN3LN0FWZfNg+Fughefu6vCAgCFv/pZqRrY00niiJqampw7733YuLEibj33nuTuiJ0dHTg4Ycfxv79+/HUU09h1KhRP2d1U0ghhRRSSCGFXxgEQcA333yDRYsW4dZbb8X8+fMTxrElM7bLli1De3s7nnnmGWY+tvFIDW77ETZDMza+/jauueNeLL3jj1ABOGlEFd7/tgFmYxs2b9qMmVfciDWrFoMTRZw4ZDAe3/RP/OGySzCqqgyiGEup+6c//QlTp07FPffckzBriSiK6OjowMqVK/HVV19h48aNqK6uTvnXppBCCimkkEIKfYYgCPj6669x66234s4778T8+fMTZqYTf4zTe//99yMYDOKZZ55BYWGhYuOQlFtCP6L56A/wCmm47PypqKs5gD17vsZZF/4ef3/iEWijPtSZbZg54xzaSBPOmgou4EFNWyyIe319Pa655hqcf/75Xc7Yer1ePPTQQ9i9ezc2b96M6urqn62OKaSQQgoppJDCLw+CIGDXrl248847ceedd+Laa69N6GML/BQVQRRFPP3004rN2BKkBrf9CKvJCF4Q8NRjD+GSS3+PP8y/AhfMuRSffL0PPqcDPM8hJ2sQPT8zJw856RzMplgGsHvvvRdz587FHXfckdDHFohlxnrggQdw6NAhbNiwASUlJbDb7Z0yU0mz69hsNppNh3xtSY9dLhfNoiIIAs0+Qso9Ho8sO4/H45FlmpFm4xJ/zBzjdrtpYPaOjg7Z+R0dHXA4HLJsWw6HQ5ZJJv7YZrPRTDGCIMBut9PycDgMp9Mpy74j1QE5X5pJxuFwyHRkt9tl2XXcbjcCgYAsQ5A0yxvJLEPKfT6fLAuT1+uVZaaRZuMCYpmnpJlnAoGALOMZyUwVryPpscvlkmVdis+y5HQ6ZbxwOByy8visbS6XKylPiA5JFiYgFnpOmrUt0bG0zoQH5Njv99OMZ4Q30oxEoVBIdn28DkKhkCzrEs/zMp6Ew2E4HA5ZBiKLxUJ5EA6HYbPZZIHepecTHRLuJ+KJy+Wix4IgyLJxkXIpL3w+H+UN0YGU6yTTnZT7JGMR4YndbpdlKLPZbLK+EN83pJmmyLE0E5XUfgg/Zlki7R5vPwRBgNvtlh07nU5Z1iVpRkNBEDrxQmo/SF/rzl5I60x0EG8vpLyw2+0yXkgz20UikS77RjxPSB2lfUV6TJZmpRkN29vbZZnsiD0h8uJtKOEFkef1emV9w+fzyTJTBYNBWV8i9oTUMZH9iLcXUt6QvhPP/XibKy2Pf6+4XC5ZHePtR3zWNq/Xm9B+kDqRviDtK1Ib2dHR0alcygue5+F0OmW8IBnOSLm0b0QikU79X8qjSCQCu93eKfOl9Hy32y3jifRdSnQotRfSdyvpCyRLGzmOtxfx7xlSR6ITabY/whMpL6Q6is8C2dbWhkceeQS33HIL5s+f38leEJvZ1NSE//f//h8yMzOxatUq5OfnQ2mkBrf9iGAwAHPTYfhUeXjj7Xexbev/YWxxOh555K+wefzgoIIqLuOKGhyifBiZmZlYvXp1t+G+Vq1ahV27dmH58uUYPnw4TbdIyNndMRAjqLQ8HA6D53k6cAmHw7TDkvNJBwdinVxaHolEZOWCIMhSX/p8Pll5NBqVDSjIMemQ0WgUkUiEHguCICsXBAFer1c2+AyHw7LlkHgdJKqzVCc8zyMajaKjowM8zyMSiVCjSOooPY7XUTQaTaoTMjgmhp7UQXq+VGfS8mQ6EMVYil6/3w9BEBKWJ6pzfHl8nYju/X4/1Ul8ubTO8byQ6jSeJ4FAQPZyiy8ndehKB/E6CoVCCIVCCAQCCXUglZdIB/F9gxyTDwySZlNaHq+T+L4lfcZ4nUUiEbjdbtkgI5430meM5xU5luqE3MPn83U6n+hEyoNQKNSJB/E8kw6KpM+bqM7x/T9eR/HlkUgEPp+PDgLiy+N5FV/nePsh7UsdHR0IBoMJeRDfFwgSHZMUzES+x+OR3bMr+0J01FXfIe3s8/koZ7qyqSTFdqI6xx9Ho1F4vV4Eg8FOOojnTVc6ij/2+/2yAXx3dUxmY+PPDwQCCIVCiEajCXUkrWMiG0kg5T4Z6Ek/MOJ10JPjeBtK3mfk92T2I1GdOY5L2jeIfoPBYCf70dV7JtF7R8qTcDgsG9ySviPltrTOBQUFWLFiBa666irqihB/vtFoxF133QWj0YglS5Zg8ODBzDePJYR4nEPJbB3x58Ufv7vxGXHUyFHirm8O0N9273hLPOnXp4mbX39DnHDKOHHnF9/Sa/W1B8UzTxsvvvT+F93e3+PxiPfcc4940kknidOnTxeNRiOTegg/ZrPx+/3ikSNHaNaRvsqKh8ViEVtaWhLesyfPnOzeZrNZ1Ov1YjQaTXhNT+VLz4tGo2JLS4tos9kSXpOsDsnuR/4fDofFw4cPd8os150Ou6qDKIqi3+8X6+rqRJ7nmXLd7/eLR48eFcPhcI+v6cm9rVar2NLSQtuMnJdIrz3RCfmzWCwyLvTmmZLdOxqNinq9vhMXuusb3T17OBwWjxw5Ivp8vi7r39t6SLmQ7N5dyUykA0EQRIfDITY2NoqRSKTHz9RVG5J/29raRLPZ3Ktn6qqc/Ev6b184lexcnufF+vp60ePxMO1nkUhEPHLkiOj1entUt95woba2VsaFZNf1tB6CIIhOp7PXXJD+Fq9b8q/BYBBNJlPSe/fk90R2obW1lXKBlQ3jeV5saGgQ3W53t7zqzW+RSEQ8evSo2N7e3ulZemvDpP8GAgGxrq5ODIVCsnN6KkeKaDQqGo1G8aabbhJHjhwpXnzxxaLH40l4777otjukNpT1I8oqqpCRkYGo5CNGo1bHcpMXFSM3U4dmgxHAqQAAq0GPDlGNkUOKk8oUf/wCXbFiBQ4fPoz77rsPr7/+OnOn7fT0dFRXV9M816zkFxQUQBTFTl92x/qlRxzXk8npi3yVSoWysrIeyeyNjtRqNYYPH57UdykZuqtDWloaqqqqei23O6Snp2Po0KFJM9D0Ffn5+Rg0aFDSAODAT3VOpttEbdAdF3oDIlOlUqG0tDQhb7tq9+7K1Wo1hg0bJmuzvvJKit5woTs9SdsgLy8P2dnZXbZZV9cnw+DBg/v0TN0hWf/tjV7jr1er1aiqqmLeH9RqNaqrqxPuQk/0TD19fiXsAsdxyM3N7TUX4mUAnXlRXJz8/deXexD5JBwVy/eZWq3GkCFDqA5YySZcUP84XmAFnU6HIUOGdLI3vX1mURRhtVqxbNkyBAIBLFq0CNu2bWM+DukKKbeEfsSwMb/C0KJcrP/HRhgtNtgsRrzy6usoqR6FX58wCpPHj8XLL7yI5lYj7BYTNm16BYOrx2BkeWlCeeKPSxUrV67EN998gzVr1lBXBNbLACqVCjqdjrlctVrdI+PdW2g0Gmg0GubPq9Vqmb/EOI6DTqfr80shGZRqs4HEBY7joFarmQ/wgRQXgJ/aTIl+xrrNOI5TVC7rNgMwILnAGgORC6ztAqAsF45FrvijT/kDDzwAv9+PJ554Ajk5OQCOfZKqN0jN3PYjikqHYPH9i3HrnQtxztnvQctFENHl4dm1f0dFRSWu/58F+OqmmzBt6jnI0AIRbS6eeu55DM7PSSjP5/PRcF+vvfYaysrKYLFYFHl24Ud/JtYvMuJfxNrIEAd61l+6kUiEDphYQRRFRCIR5joQf/QJY/3CGUhcEEWR+siyfuEQ3zfWzxuJRKBWq5m+yKQcY91mgiAwl6uUbqPRKDiOYz5ICIfDzG0NkavRaBThAuv+KwgCotEoczumNBdY2wUlucBarvQd0Ve5drsdd999N7RaLdasWaN4VIRkSA1u+xMqNSZN/y22vb8d//lmH3iRw+mTzkBVWQlUHDD8pPHY/M6/8NXePeAjHMafNhHDh5YnFOX1erF8+XIcOnQIL730EsrLyxVdAgiFQmhra8Pw4cOZGgOXy4VQKISKigqmndbpdILn+S7dCHoLUYxlWklPT0dRURETmUDspdDc3IyKigpkZGQwkxsMBmE2mzstO7GQazQaMWzYMKZcIBEnKisrmXMhFAqhvLycKRcsFgvS0tIU40KyjaN9QSgUgslkwpAhQ5h+7LS3t8Pr9TJvM6vVCo1G08k94VhB+i/LnPaRSARtbW0oKipCdnY2M7nRaBR6vR5lZWXIyspiJjcUCsFoNKKqqooZF8QfI0B4PB5UVlYytQt2ux0cx6GkpISZTACK9N9oNAqDwYCCggI6e8lKrl6vR0lJCVOOhUIhGAwGDBkyJGF2sa4g/hj5ZMGCBcjJycHKlSv7bWALpAa3/Q5OpUJ51XDMqRpOfyODUo5Tobi0HHN+d6nMtSB+0Op2u/Hwww+jvr4ea9aswdChQxV/7rS0NAwdOpT5jAcJEcL6K7egoACCIDCXW1qa2EXkWKBSqag/FUukp6czH9gSuVVVVcy5kJeXh7y8PEW4oISrDuuXLaAcF9LS0hThAvG5Za1b1oNagkR+0seKeD9LVlCpVIr4zCvFBeJzy1q/xcXFikzcKJECVqVSobKyUjEusJZLuNCXjxy73Y4FCxYgLy8PDz74IAoLC5n6L/cWqcHtAIfH48HKlSvR0NCAVatWYdSoUT8LmVQqlSK+dUos3xC5ZPMbK3AclzATCwu5xLiwlK2U3IHEBemyI2vdKs2FgSCX9DHmeeIV0i0Z0CnBBSXkKtHPlJBLOKBSqZi3m1qtVpQLSslVggtK2ZvecIGsYD7wwAPIysrCQw89hMGDB/fboJYgtaFsgIJsHlu+fDmOHDmCVatW4cQTT/zZ7h+NRmXxL1khPu4eK5D4fyyfV/wxpp80ziArudK4mawg/BjnlbXcgcQF4l+ohNyBxAWl5MbH3WWF+HjALKB0m0njk7KUOxC4QHxYlbALSnJBGgOWpdyBwoXeviPIwHbp0qXgeR6PPfaYYqssvUVqcDtAwfM8Vq9ejYMHD+KJJ57A6NGjf/b7t7W1Me9cHo8HVquVuUF0u92ybFasYLVaZRlgWID4U0mTOLAA8adibWiV5ILFYhkQXCChb1hzQRCEAcUFr9cLk8nEfKBkt9tlGfpYwWKxwOPxMJUp/Bi4XpqhkJXctrY2mtWLFZTkgtlsZt5/7Xa7LPsaK1itVprtixUEQYDBYBgwXOB5HgaDoccfD263G0uXLkUgEMCaNWt+lsxjPUXKLWGAIhqNory8HBs2bEBlZeXPvgQgjXPLEkr5Q5LYpiyfl+M4lJWVMZNHQOLcstYt8Y1Vwpd3oHCB4zhF5JKYx6yhUqkU4QKJbcqaC3l5ecjNzWXez5SaDWK5qZCAxLll3WbS2KYsQfZPsJTLcRzy8vKQk5PDXA9KcYFsNmYd51ZJLrDmbm+5EA6HMXHiRFxyySVMN2WyQGpwO0CRkZGB//mf/+m3+xPfRSX8v5SID6mE7xegnP+Xkn6hSsgdaFwA2OoAUJ4LrOUq4S1K+t8AACAASURBVGNI+pkSA8aB0s8AKCpXKT90peQez/0MUJYLSumhp1woLi7GH//4x373r02ElFvCAAX5wvw5gyJLEY1GEQwGFfHZS/ncioroVhAEReQOJC6QOI4Dyec2GAwyXzJWigukzVi/7JTyhwyFQorJVcrPUgkuKOV/HQqFmMoEUlwgcpV6R/SGC/09DukKqcFtCn1CKBSCXq9n/hJzuVwwm83MO63T6WTuv0mc6Vn77EWjUTQ3NzP3pwoGg4r41oVCIbS2tjJvM5fLxdx/E4hxgTXHBhoXSJxq1lxob2+HwWBQxOdWCT9LJXxuo9EoWltb4fP5mMttaWlh7r9JfOZZfpiROLdGo5F5/7Xb7XA4HExlAjGfW5fLxfQdQeLcKsEFvV4Pv9/PVC6x5aw/0vsDKbeEFPoEEg+P9bLxoEGDFIlHm5+fz1wu8QVUwp9q6NChvQ6i3R3S09NRXl6uiM8e60DtQIwLubm5A4YLSsTJVIoLaWlpqKioYN5mubm5yMjIYO5zW1RUpFhsUyX6b0VFBfNQayR+blpaGlO5Op0OFRUVzN1UcnJykJmZybxPKMUFpWx5eXk5c90SLrDmGLELSrgs/dwY+DVIoV+gVquRkZGhSA55JZY4dDqdIpuT0tPTFfF7IpnJWMejVULuQOICx3F0oMja7zgtLU1RLrCElAssodFoFPHfJP2XJUibAey5oEQ/I3KVSDSQnp7O3DZqtVpFYrEqzQWAXbuRdwRLmURuRkYGcz0Qu/Df6GbQW6QGtyn0CaIoQhAE5okRRFGkg1DWec5JtASWKVd/yianjA5YQtpmSsn9b+eC0m2mhNyBolug6372xRdfICcnB+PHj4fP58P69etRWlqKK6+8kp6zd+9evPfee7j55psxZMgQmVxArtv3338fn3zyCYDYqsSiRYtw4MAB7NixAwsWLKDZA0VRxNKlSzFmzBjZvRK1WTAYxKZNm3DTTTcBiPnqv//++9izZw9OO+00XHrppQCA559/HjzP45ZbbqGDotraWrz44ouYP38+xo4d22O9hkIhPPvsszAajQCAE044ATfccANCoRC2bNmCH374ATNmzMD06dMhCAJWrFiBESNG4KqrrqI7+/fs2YN33nkHd911V6+idnz22Wd47733ZL/dfPPNGDp0KNasWQOr1QoAOPHEE3HjjTfi2WefhUqlwo033khnDY8cOYIXX3wR119/PU444QSqW+m/PdWFKIp45513cMYZZ6C8vByCIODbb7/FO++8g2HDhmH+/PnIyMhAOBzG1q1bsWfPHvz2t7/FtGnTEIlE8MILL0Cr1eLmm2+mMg8cOIA33ngD1157LX2+RPclz8rSPhJf/LfffhsXXnghBg0aBFEUsXbtWjQ2NgKIZclbtGgR/H4/3nzzTdTV1eHCCy/EWWedBY7jcP/992P8+PG4/PLLaXvv2rULW7duxQMPPMA0/JZS9qY/kPK5TaFPCAaDaGpqYu5P5XA4YDAYmMoEYn5aJpOJuc+twWBgHn8zGo2ioaFBET9LvV7P3J+KcIG1/6ZSXHA4HDAajcy5YDKZmPuFRqNRNDY2MvezDIVCaG5uZs4Fj8fTKeaxKIrYvXs3rrjiCtTU1AAAAoEAXnvtNTz55JOy6zdt2oSNGzfSQRWBxWKB3W6X/fbqq69i9OjRmD17Nn77299Cp9Phu+++w/r167Fr1y56Xl1dHZ599ll8+OGHnZ7XaDTS/uv3+/HII4/gzjvvpOX/+Mc/sHnzZkydOhWbN2/Gxo0bAQDbt2/HunXroNfr6blbtmzBSy+9hKNHj6KlpaXHfpZmsxkffvghpk+fjtmzZ2PChAngOA7/+7//i927d2PKlClYtmwZPv30UzQ1NeHll1/G2rVrZXbnhRdewMsvv9xr/lVXV2PGjBk45ZRTMHr0aHz88cfIzs6GwWDAp59+ivPOOw+zZ8/G6aefDgDYtm0b/v73v9N+KYoi/vnPf2Ljxo1obm6WyfZ4PGhtbe1VP3v11VdxzTXX0Lb++uuvceutt+K8887DoUOHsGTJEpjNZjz00EN46623MHPmTKxevRrbt29HOBzGO++8g7/97W8yX9S33noLr732WqfniwfpvyztQiAQwKpVq7Bw4ULKB6/Xi3fffReTJ0/GrFmzcM455wAA7rrrLtTU1GDy5Mm4//77sXfvXgDAyy+/jOeff57G0I5EIli3bh1eeumlTn3iWBEKhdDS0sJ8Y11/IDVzm0KfQPwslfC5VcKfKj8/XxG3BKX8tKqqqpj7U+l0OpSVlQ0on1slucASHMehuLhYsZiprH3gdDqdIv7XxM9S2if27NmDJ598EhMnTpSdm5WVhYyMDBw4cAC//vWvYTQacfToUVRVVXWSS/LUE/A8D4fDgd/85jcYPny47NxJkybh008/xaWXXgqO4/D222/jlFNOSVjXwYMHU7krVqxAOBxGSUkJLX/77bexatUqTJgwARkZGXj66adx9dVXAwCGDRuG7777DqNGjQIA7Ny5EyeccAL1ue2pbtva2lBcXIwLL7yQPovH48E333yDDRs2YPjw4TCbzdi2bRsefvhhlJWVIS0tDTU1NTj77LPB8zz27duH4uLiHt1PiurqagwZMgROpxN33HEHnnrqKZSVleGzzz5DRUUFZs6c2Snua1VVFfbv34/q6mpEo1F89NFHCbNj9tbn9qWXXsL333+PYcOG0d/eeust3HjjjbSd//SnP8Fut2P//v149NFHcdJJJ8Fut2Pbtm2YNm0acnNzkZaWhs8//xwzZ85Ee3s7Dh482KMYrEr037Vr18Jiscg4qtfrMWjQIMyaNYu6g7hcLhw4cABvvfUWysrK0NjYiB07dmDy5MkoLS2FKIpoaGjAqaeeCq/Xi9raWhQWFjL3xSd24Zfgc5uauU2hT1CpVEhLS1Mkh7xOp1PEf1OJ/OlpaWnMDQGRy3rQTHzrlJA7ULhA4rsqwQWdTqcYF1gPQpXiQqI2+9WvfoX169ejsrKy07kTJkzAtm3bIIoifvjhB1RVVSUM0h+v27a2NpjNZixevBhz587F5s2baVlVVRUsFgvMZjOCwSA+//xzXHTRRZ1kkjYjH5ELFy7EHXfcQd0M/H4/BEGgg8YRI0agrq4OgiDA7/dj8uTJ+PTTTwEABoMB6enpKC0tpXJ72mb19fWoqanBFVdcgauvvhoHDhyA1WpFbm4uBg0aBI7jMGrUKDQ1NUGn0yEQCOD000/HF198AQD49ttvMW7cOGRlZfXofvFQqVTYvn07Kioq6FL40aNHcfDgQcybNw/XXXcdDh06BADw+Xw444wzaL1bW1uRm5vbaWBN4qX2pv9edNFFWL16NR2I8jwPs9lMPx7Kysrg9/thNBrh9/vpR1B1dTXsdjudrZ00aRJ27NgBQRBQU1ODgoICVFdXd3lvKRdY2oXrrrsOf/nLX2Rt09jYiNraWtxwww246qqr8NVXX8FsNqO4uBg5OTmy9gZiPDzttNOwe/duAMA333yDM844A1qtVjFbrkR88Z8bA78GKfQLSO5w1jNggiAMGLmiKCISiSiS610JHZDnVULuQGozIpcllOSCUm2mhNxEbZadnY3c3NxO53Ich5kzZ2LXrl10EHrmmWcmHFxEo1GZbgOBAGbNmoXFixfj7rvvxtq1a3HkyBEAsdnYkpISHDp0CHa7HTzPo7y8vJNMwlsid/DgwbLVEq/XC51ORwe7WVlZMveQk08+GVarFTabDR9//DGmTJlCN5jGP29XSE9PxzXXXIMVK1Zg5syZWLhwIZxOJ7RaLZ2Zy8zMRCAQoLqdPHky9u/fj2AwiO3bt2PmzJl9/rByOBx4++23ceWVV9JBTVZWFq699lqsXLkSU6dOxd13303PHzduHAwGAxwOBz7++GOcc845nWYQ+9LPCgsLZZu6eJ5HMBhETk4O1ZMgCGhvb0dHR0en38m9pkyZgm+//RY8z2P37t2YOHFit7rpbZv1FAUFBZ2SLajValxxxRV48MEHcdlll2HhwoWw2WxIT0+nz5mRkSHj2pQpU/Cf//wHwWAQH330EWbMmME0kxqBUra8P5Aa3KbQJygV29TtdiuSj9zpdMJqtTIfKFmtVuoLxQoknmUwGGQql+SQV8LntrW1lfmAUSkuuFwuRWIe22w25jFTBUFAS0uLIv7XSnChvb29V7GJhwwZAr/fj6amJhw6dAinnXZawvPsdrvMx/SEE07AsmXLMG7cOEyePBmjRo3CgQMHaPnUqVPx8ccf49NPP8XUqVOT3r+rOLfZ2dmyhB9OpxMFBQW0vLS0FKWlpdi9eze2bt2Kiy++GCqVisY27amf9CWXXILbbrsNo0aNwpw5c1BfX083TRHfR5fLhby8PNrPRowYAQD47rvvsGvXLvz2t7/t0b0S4fDhw2hvb8eYMWPob/PmzcMtt9yCkSNH4uKLL8bhw4dpWXl5OQoKCrBnzx7s2LEDs2fPTvhB4vV6jynOrVarRVpamsxXlXx8aDQa+rvH46ErBkAsHF1hYSFqa2vxxRdf4Mwzz+zR/ZSIcysIAkwmk8yH9fzzz8eiRYswevRo/OY3v4FarUYgEEAoFKL90eVyYdCgQfSasWPHwufz4dtvv8V3332Hc845R5EkNyTm8S/B5zY1uE2hT9BqtYrEiMzJyUFRURHzJe68vLxOfnvHCo7jUFhYiOzsbGYygdiXfVlZmSL+VIMHD2a+xK3T6VBSUqKI/6YSXCAvP9ZcKCgoYM4FlUqF8vJyRWKbKsGF7OxsFBcX99gucByH8847D88//zyKiopkERKkyM/Pl83+fvTRR9iwYQOdaQqFQrK6nHbaaaipqcFHH32E888/P+n9u+q/2dnZEASBbjJqaWlBVVUVrZtGo8H06dPx3nvvwWq1YuzYsQBi/Xfw4ME0BFR3eOyxx/Ddd98BiH3YhsNhDB48GB6PB+3t7RBFEU1NTRgyZAhKS0uhVquRlZWF0047DW+//TaKiooSzoz3FLt378b06dNlHFu5ciV++OEH2TMRaDQaTJ06Ff/617/gcrlkg2IpsrKyesWFeKSlpaG4uJguz1utVqSnp+OEE07AoEGDaHQJg8GAwsJCqm+tVouZM2fi+eefh1ar7dYlgaCgoIB5XG2VSoXi4mLZzPG6devohkeS3bGiogJWqxV+v5+2t9T3PCcnB2PHjsU777yDiooK5ObmUvcqliDv9ZTPbQoDBtLQLNJlh0TLEPHLMyS8j/RYGnMxXl6i8+PlJToWRTFhbMTunpncU3p+/DOoVCrq/xVf3hOdxJ9P7kd8bntS5/g6dVUe78Oa6Pz4OnfVDuRfqZ+ldKY1mU56Ip/EuZWG00m0zNcbHgDo5BubSMfd8SBRuUajoTFpu+NuT8oByPwsu+Np/HF37Sr1gYtvl3idddcXyPXSeJbd9a3e2Au1Wi17MXZnD4hrwssvv4xJkybRGKbx5xMuEHlVVVV48cUX8fbbb9Od+meffTa9Jwlw//XXX2P8+PEJdSL1mU/WrhdeeCHWrl2Ljz76CI8++ijmzJkDlUpFz504cSI+/vhjjB8/nl6byOc2kXzyTGVlZVixYgU+/PBDLF++HBdccAEKCwsxZswYrFu3Djt37sQ//vEPzJkzh7aZKIqYNm0aNmzYgGnTpvXI/iTrz/v27cPYsWNleh88eDCWL1+Ojz76CA8//DDmzJkju37y5MnYuXOnbKY9foY2Po5wT2xqPM/mzJmDF198Ebt27cLq1asxZswYjB07FqeffjrWrFmDf//731izZg3mzJkju3727Nl46aWX8Otf/5q6L8TfQ6oT0mbStu2NDZS2q7RcFEUql5SXlZVh5cqV2LlzJ55++mmUlJTg5JNPxogRI7B+/Xq89957ePPNN3HBBRfI7n/eeedhw4YNmDp1qiyEX1c2NNl7I1kdpXrojQ56Wv5zQr1s2bJl/XLn/yJIBxHk/4l+S3ZNT+WwlNXTa9ra2vDpp5/ioosuQm5uLiKRCJqbm5GZmQmNRoNIJIK6ujqkp6cjLS0N4XAYTU1NdEmI4zg0NzfTAYEgCNDr9QiHw9S/rKWlBZFIhDrNm0wm8DyPzMxMiGIsLanb7abLLEajEV6vl842eDweOJ1OaoScTidcLhctJ+lSc3NzoVKp0NHRAYPBQDdbeL1emM1m5OTkQKVSwe/3o6WlBTk5OdBoNLROubm5UKvVNPVoVlYWNBoNeJ5HQ0MDMjIyoNPpIAgCmpubkZ6eDq1Wi0gkgtbWVrrhQBAENDQ00AGzKIo0zBgx5kajEZFIBJmZmQBA3QzILJHdbofX60V2djY4joPVaoXP56M6MJvNcDgctM7t7e2wWCxUh+3t7bDZbHSmwev1oqWlBfn5+VCpVAgEAmhra6PXBwIBGI1GZGZmQq1WIxgMoq6ujs4AhMNh6PV6ZGRk0Drr9XrKk2g0Snmi0+kQjUbR1tZGNyCQlKPkWBRjsw+iKNKA9haLBcFgEFlZWeA4ji7XER1ZLBa6/MpxHBwOB5xOJ62jw+GA2+2mOnS73XTWBohtvDCZTDIexB83NjYiLy+P8kiv1yMnJwdqtRo8z6OlpQXZ2dnQaDQIhUJoaGhAZmYmdDodQqEQGhsb6TEANDU1IS0tDTqdjvYt8uFHUucCoHUkoZGInyBZvs7NzYUoimhtbZX5GTocDng8HsoTm80Gm81GdWS1WmG322k7k75Ayklorry8PKjVang8HhgMBtq3eJ6HXq9Hfn4+OI6jYd2ys7Oh1WoRDAbR0NBAdULqSPpOvL2ItyeCIFCehEIhDB8+HJFIBKFQCBzH4fTTT0c4HEYgEMANN9yArKwsmEwmjBo1isapNZlM8Hg8dLON0WiEVqvFWWedhU8++QROpxO33347xowZA7/fD61Wi0GDBmHIkCGYOHEihg8fjubmZpSXl2PcuHHw+XwwmUxUB1J7QXhWUVGB/Px8jB8/Hk6nEzt37sQll1yCK664AuFwGI2NjTjzzDNRWloKjUaDk08+GcOHD0dHRwdGjhwJnufpUjlxLdHpdLTvNDY2Qq1WIz09nS45f/bZZxg9ejTuv/9+WK1WTJw4EW1tbdi/fz9+97vfYdy4ccjOzobD4cDo0aORlpaGwYMH49JLLwXP87BarTj77LORk5MDu90Oq9VK3Si8Xm8ne2GxWJCbmwuj0Yhf/epX8Pl81H6MGjUKVqsV//nPfzBmzBgsWLAAJpMJkUgEkydPRm5uLnw+Hy677DKUl5fD6XQiLy8PlZWV0Gq1iEajaGpqovaE8ESj0dD3RmtrKwDQY71eD7VaTTdQud1uFBcXY+TIkXjvvfdQVVWF66+/HgUFBTjttNNw5MgR7N69G3/84x9x/vnn075x5plnorKyEi6XCzNnzkRlZSU8Hg/d0JiXlwfgp/TexB6QzWrS90xbWxvtG4QnpC8Qmyl9j8QfNzY2QqvVgud5nHrqqWhpacEpp5yCoqIifPzxx1Cr1Vi2bBny8vJwxhlnYNeuXThy5AgWLlyIiRMnoqGhAR0dHZg+fToKCwshCAIuuOACFBcXw2q1YtiwYRBFEdnZ2RBFEW1tbQgEApTLdrsdHo+Hcp34iBMekLT05F3a3t4ue9e2t7fTTYNqtRperxdNTU105Yu4J2ZnZ9N3K7GZxH40NzdDr9ejpqYGc+fOla0QJBvT9HTM0xU4UfrZcRxCFH8KD0X+n+i3ZNf0VA5LWb25Zs+ePVi+fDnWr19Pg2KHQiE6cBVFEcFgkO7IJuVarZZmGgoEAtBqtXSGIxQKIRwO0xAn4XBYNtALh8N0VzoQe4GSF7ooitRPiAwQyEYcnU4Hm80Gv9+PsrIyuswUDocRiUTosSAICIfDtA6RSASRSIQek2VKMktJXrAcx6GiogIAqA5IOdEB+WKV6kAQBPA8L9udGgwGoVarYbFYkJGRQY0Bma3heR4qlYouGwUCAaojUifgpyxcUp1EIhEcPXoU5eXl1PCSOko3rESjUfpMxP+KhJaJ11E0GoXX64XD4aBLq0QH0nYnM07SOpPjYDAom50Mh8N0UGgwGFBRUSHTYTAYhEajoTyIr3MoFKI6IvIEQaDPbDKZ4Pf7MWLECHAcR8vJ9ZFIBOFwmA6eSZ3JzEM0GgXP81QeqaPX6wXP8ygtLaUfaaQvJOOFVAfkmPQd0gZGoxEcx9FlPXI/6awjz/NQq9UyngCgHwREJ6QvkZfF0KFDkZ2dDZ7nZTrieR7RaJTWgfCE6IDoiNSJHJMPssrKSgiCIOtb8byQ9o1EOpL2FeLbPnLkSFpnogNS5/g6JuIJx3EyXhiNRmRkZGDw4MEJ7QfRgdRexNsHoiOyzK7T6WAwGJCWlobs7GxqLxLZj0R1ltrQQCCA9PR0qNVqhMNhNDQ0oLS0lA6k4u0J0YnURkrtBbEvUh2SwYvUZYnokGwO1Gg0tK9Eo1G6opLIXhAdBYNB6PV6lJWV0UGRVEfxfSmZjuLthcViQSAQwNChQ+mHE4l6Qc6P5wXRCSknOpHaC7vdTt2AyHuGlBOdJLIXRAdS3kh5otfrodFoUFZWRu2F1KbG21jSTol4QY79fj8sFgsGDx6M7OzsTjqQ2lxpXyDtHggEZKsApG+oVCo0NjZSVyjpu1eqA/LuJQNKqb0g8qLRKH1mMoAfOXIkfReROkvfM8lsbry9IDp855138MYbb+CVV16hA23pOAX4afDa0zFPd0gNbo+Dwe2KFSuwfv36Tplr+npvIGYYfD4fHXyxqkdHRwei0SidqUomp7f1CAQCEASBzhom6yy9qQcQC42j0Wg6pTI9Fn0IQmxHMPkaZsFPIGbI/H4/nclkxXWluBAIBBCJRDpxAej8Fd/Teki5II3Heqz9DDh2LiT6vyiKaG9vR1ZWFn3hsdCtlAvkxcmCC6FQCDzPIzs7m5luOY6jYZ7iw131Rrfx5aIo0jaTDli6e97u5AuCAK/XS2ctWfUzAHTlgjUXfD4fnZ07FlnS83ieRygU6lcu9Ea30v7LSreCIMDn89FVQBZcIMcej0e2isRCt8SWS+1Cb+QkKhdFEZs3b8brr7/+sw5uB77XcAr9ArL011vCdQel8loTFwmWsjmOQ05ODu2crKBSqaj7AUvZGo1GEblKcYF1vnsg1mbERYClDn4OLrCElAssQdwRWLdbVlYWc92SNgPYc4HM2LKWq0Q/I1xgbRvT0tLoigRLKM0F1nKlgzmWcpVIcqPRaKhL00BHakPZcYpIJILt27fj7rvvxsMPPwyDwdCrjiKKnZ3pWeDIkSNYvHgx/Tp3uVx44oknkobb4nkeX3zxBbxeb5dyybOS5w2FQvj73/+eNF2lKIr4+uuv8cEHH/RILksopVsl5Up1y1Iu680IRKYSmxwGWpsNJC4oqQOlODZQdDuQ+i8wsLlA9Ew2s0UiEQSDQXR0dHT6CwQC1MUmURsNJI71B1KD2+MUW7duxZNPPomzzz6b7kolPks9AdmUxdoYNDU14cknn8TWrVsBxNwUtm/fnjTma2trK1avXt1tTFi32w273Q5RjPk1PfHEE/jLX/4iy0FOIAgC9u/fj6uvvhrffvttUpmCICgS55Zs2utNe/QExDeWdWxTsqmAdZxbj8fDPB4tEOOCzWZjKlcQBNhsNsW4wDrmsVJcIBvaWNsFh8Mhi3PLCkr1X6PR2OM4t72R29rayjzmcTgcZs4FURQV44LT6Uw6KXEsIHGqWdsFp9NJfV0DgQDsdjtaW1tRW1uLQ4cO4eDBg/jhhx8S/h06dAi1tbVobm6GxWJBR0cH3aNis9kUsQttbW3M7UJ/IOWWcJxi9+7duPzyy/G73/0OF1xwAd2dX1JSgi+//BI1NTWYOHEiDh48iKuvvhr/93//h7PPPhvFxcWora2FXq/HhAkT4HQ6sWPHDgCxsDmFhYUIh8PYsWMHDAYDpk2bhpEjR2L79u1oaGig9583bx4yMzOxbds2dHR0YM6cOSguLqa7oF944QVccsklsmeORCLYu3cvvvnmG5xzzjkYN24cdu3ahaamJmzevBkLFiyg54bDYWzbtg1nnHEGSkpKEAwG8cknn+Dyyy/HmjVrYLPZMHr06IS6OXz4MJYtW4bp06d3qUOO4+jOWZbgOA75+fnM5ZIlJ9axTYlc1jGPiZ8aa2RkZDCPG8txHLKyspjrliw/KsGFeB9LFiAuCayXNTMzMxVZKlWq/+bm5jKPU024wLpPqNVquiGWJZTkghJg3X/JIFmj0cBkMsHtdiMUCtEwdOScrnxZSRxckmiEbMTMzc2ltpylu51Strw/MPBrkEKfMG3aNGzcuBGvvvoqOjo68Le//Q1lZWX48MMP8dBDD0GlUuGvf/0rVq5cCVEU8dxzz6GtrQ0AsH//fmzZsgUZGRm48847YTQaYTAYsGDBAgQCATzzzDPYuXMnOI7Dvffei0OHDiE7OxtFRUVwu93YtGkT2tvbsWTJEhw9ehTBYBA33HAD3G43NBoNTjrpJJx44onYsmWLLDc5mW0uKCjAAw88gF27dqGiogJ5eXmdAomr1Wrs3LmTzgD/+9//xp49e6BSqXDbbbfh3nvvTRpkfdSoUXjttdcwfPjwLnVIBresB0oqlQp5eXnMX7pKvcSUHNxKN5OxAMfFwnSRjYUs5ZId9yxBfG6VGNAo0WYk8gBruVlZWZ026h0rlGyz3Nxc5m2mlFxiF1gO7IjPLYm+wBKZmZmKcYHFng9RjG2sNJlMOHLkCGpra2E2mxEIBOhAtC9/0mglNpsNDQ0NOHLkCPR6Pfx+P5MZciW40F9IDW6PU8yYMQNLly7Fli1bMHfuXLz//vsAYpl/5syZg1tuuQX33Xdf0utFUURtbS3sdjtmzZqFWbNmweFwoK6uDq+88grmz5+P888/H9XV1fjyyy8xbdo0XH755aitrcWiRYsAAPv27cP8+fMxe/Zsl8AxAAAAIABJREFUeL1e1NfXQxRjiRxuvvlmrFu3jkYMAIAtW7Zg5syZOPvsszF9+nRs3boVI0aMQEFBAcaPHw+bzYZ9+/Zh3759MJvNmDVrFj777DNEo1F88MEHuOSSS6DRaLqdrdHpdJ124ibDQPOHHIhyWcsciL6Ax7vcgeRnCSjzvErJHUj9F/jv5UL8oFav18Pr9dKZWhaz2PFyOjo6YDKZcPToUbS1tdEMZ8dSB6W4+3Mj5ZZwnMJkMmHKlCk488wzsXfvXtx1112orKxEKBTC4MGDASBpKkwg5iLQ1NSE+vp6LFmyhIYRIb5Wq1atgk6ng9PpxPjx4yGKIl5//XVkZGRgzpw5aGxshMFgwP333w8g5uvDcbG4fDzPY/To0Rg+fDi+/PJLek+bzYaNGzdi+/bt8Hq9mDRpkuyZPv/8czzzzDMAYm4Ps2bNwrPPPoujR4/i+++/x9KlS5ku4YiiCJvNhvT0dLo7mgVIcP+SkhKmS5s8z8Nut9MUnqxAZhLKy8uZym1vb6d8ZDn743a7EYlEmKbgFUURdrsdOp2OaRQCURRhMBhQXFzMdIZRygWWKwQ+nw9+v595mzmdTqhUKpqUgBVsNhvS0tKY9t9oNAqr1YpBgwYxnWEkvrxFRUVM5SrBBVEUBxwX+tp/RTEWR5gkRCD7OEidlYw8QAa6PM/DZDLB4XCgvLwcBQUFfZrh53keNpuNuV3oDwzsp0+hz7jttttw11134dxzz8XUqVMxefJk7N+/H2q1mm6EsFqt9HyO+ylNJ8lEVVBQgJNOOgkbN26EVqvF559/joqKCmRkZODZZ59FZWUl9u7di0GDBqGpqQlr167FG2+8QbNeVVZWYtOmTcjIyMD777+PqqoqOJ1OcFwsgPuiRYuwePFi6jQ/aNAg3H777bjwwgtRU1PTyZl+7ty5mDt3LoCfvkBHjhyJ5557DqeccgrTwQwByUbDEiSUEOulXbVaTWPcsoRGo1Fk+ZGkRmWN9PR05pvfAFBes4YSy4SEC6zbTKvVMnf5AJT1s1Si/yrhywuAZhRkCdJ/WdsF1j7HBEqGi+ytbskGZYPBAKfTyTzcZE8hjS3c3NwMp9OJIUOG9LovKvWO6A+kBrfHKWbPno0HH3wQer0e7e3t+Oyzz3DfffehsLAQzz//PIqKivDuu+/S80eOHIlXXnkFTU1NePPNN3H66afT1Jkvv/wydDodXn/9dWzduhW/+93v8Nhjj+G8887D008/jcWLF+O5557DhAkTUFdXh/r6elRXV6O6uhpPPfUUhg8fjkcffRTvv/8+NBoNzfR04oknguM46kx/4YUXYt26dUhLS8OqVauwYMECFBcXw+fz4d///jcuvfRSWUdWq9WYPXs2fv/73+ONN97o0n/zo48+Qn19PW655ZYe65C8xJSIbapEnEziG6uU3IES55bMerGOO6k0F1hCygWWUCrOLYlTzRKkzQC2XCC+sUrJZa1b4md5vMe5JVzoKUQxlkhBr9ejo6NDkc1zvQUZ5La3t6Ourg6VlZUoKirq8WCVbDTt73qwgHrZsmXL+vsh+hvShky0lJCoobv7LdmSBCtZPb2mra0Nu3btwsUXXywLUj1+/HiMGDEC3377LVQqFVavXo3q6mqMGjUKhYWF+O6773DBBRfg/fffx2233YZJkyahsbERgUAA1157LcrKynDSSSdhxowZ2L9/P3w+H/7yl7+guLgYZ511FhwOBw4dOoQbb7wRp556KlpbWyEIAhobG9HQ0IBRo0Zh3rx5OHz4MFpbW7F8+XJUVlYiGo0iMzMT48aNAwCMHTsWhYWFmDBhAsaPH4+CggJ88sknuOqqq3DBBRcgPz8fpaWlOHjwIE4//XTZbAHHcXQJ7/e//z1N0wj8NLN76qmnIj09Hc3NzXC73Tj11FPpOeFwGJWVlaiurk7aHsTIsmzXeMPNip+k3ixkJdrhm0xmomt6cm/iH3ssuk1UnkgHPX2mrq5h9bzJ2o6lboHObdaTa/rChd48k9K6lf52LP2sJ+3VU1k9/S2RvVGSC32VJe1n0g1UfZUTf01vudAT+Yl+7+oaQRBgMpnQ3NxM08/3th69fbae1E0qPxqNwu12IxwOd5qN7U63ie53LDaXhDabO3eubAN2d32qN/2s073FX4Ln8DFA2knI/xP9luyansphKas31xxL+l2Xy4VJkyahpqaGLtcQuhDH+aqqqqThSPpSD4fDAZ7nUVpamvC8vurQ4XAgHA6jpKQkaYrY3upWFEWYzWZkZGQgPz+/z3Lif4tEIjTXe2/SgnZ1byCWztZqtaK8vJwO9FnoNhgMwmw2M+eC0+lEMBikud7JeUDiAVVP6pGIC33VbTwXLBYL0tLSOvkC9lROov9Ho1Ho9XqUlpYmzbLXF90SLlRUVMj69rFywePxwOfzoby8nGlqY6vVCrVajaKioj7rNr5cFEWYTCakp6cjPz+/xzrsTn4kEoHRaERBQUHCdN991S2JeTx48GA6e8mCC8FgEBaLBeXl5TI/zWN5D4libPbQ6/WirKysU4rnvnKB4zhYrVZwHIfi4uJuddhT+QBgNpuh0+lo/012TSQSgdlshsFggCAInXje03r05Jre1C2RfLKZrbCwENXV1bSvJ7uGvNcrKiqScqGreycqF8VU+t0U/sug0Wgwbdq0hGUqlUoR3zqdTqeIv09aWhrUajXT5+U4TpFYrES3rP0siVwlfHmV4IISMW6Bn7jAEhwXc3dg7Q+pFBeUbDPWYZoAZVxUgJj/JmuecRyniP81kasEF5SII0y4wFquEm4vQIxj3bUZ+XAxmUx9GnD93CDP53A4AABDhw7tku9Kvdf7A6nB7fEKUQSEKCD+GPqEUwNxg57s7GysW7eOfllJodPpUFxczLwTsI5rSpCTk8PcGHEch4KCgoT6ORaoVCqUlJQAYOuzp9Pp6MwXa7kDhQsc91MOeZY64Dhlcr1LucASWq220ywoC2RlZTEfKHFcbIMla91yHEdXXFjKVqlUivQzlUrFPPIAEJvEKCoqYt5mmZmZivhKK80FIHG7RaNRmM1mmnWNrAD+t0O6YqVSqTBkyJCkm/2IXUgNblMYmBBFwOMCV/MfwKgHIAIFJcC4M4BBhUAPZgbIUizQe1+Y7uSylknkKvW8rAfNShlMJeUOFC4o+TJSmgsDRe7x3s+UlK2kfWQtdyAM/Ai66w+CIMBiscBoNMoyjA0UkOe12Wx0gJtollqp/tsfGPjxHlLoPSwGYMsLwMf/Amr2AzXfA1/sBP75d3Ct9bHBbzcg8fBYB+n2+/1wuVzMDaPX62WeN1wURbjdbkVyyFutVoTDYaZyw+Ew7HY78zYLh8MDjgtut3tAcYHneaZyI5EI7HY785BogUBAkTYjvrys4Xa7aVxSVhAEAXa7HaFQiLlcm83GXC6xCyy5IIoiAoEAHA7HMXGBDLbIH0m0IP2TDsiOBYQL8bKI/7DJZBqQA9t42Gw22O32hDpTyi70B1Izt8cb+CDw2b+AtiaA4wCVpKNaTcBnW4E51wP5hV2K4Tjlwp4MFOOh5MyE1NGeNZSQq0SbHctmgp7IZQmluTBQoJQelLI3Sjxv/EYZlhhoNvdY9CCKIiKRCDo6OmhCl0gkIttspNFoaJpf4ud8LHVJNLANhUJoaWmh9x7I4DiOJgnKyMigm7viz/klIDW4PZ4girFBbVNtbGAbD5UKMLQAzYeB/CldilLKN4fEGmQtl/jcstxMpVKpmGajksqN3wnMAlKfW5ZQigtZWVnMNzdwXO/jWfYEhAtK+NwqwQWlfG4zMzORkZHBfNNiopcwC8RHOWEBtVqNwsKuJwf6AuLLq8TGL9YJbsgGy95uLiQD2vb2drhcLni9XoRCoU4fuPEfECqVCjqdDrm5ucjPz6eJT3paJ+IzT/5P5AqCgLa2NhrH9peCcDiMtrY2jBo1SuZ/q9FoFEl21B9IDW6PN/i9QCQcG8jGv4g5DhAEIBSgP4miiKDLB1eDAVE+gsziPORVl0Kj0yo665GCclByVpglBiIXUs8bgxJtNxD5MJDQn7olLgdutxtmsxk+n09moxKFb5TO5otiLCRhKBSC3W5HTk4OysrKkJOT06PoEonsoSjGQtuRrJm/NHi9XhoOMB6/hPqmBrfHGzTa2CC2q8GNKmYMhEgUhj01+Gr1G7Dua4IYFZCWn4WT5k/H+JsuRCRd1WPj0VP4/X6Ew2FZ3EkW8Hq9iEQiGDRoELNZJWKMdTod09lA4luXn5/PNIVlOByGx+NBfn4+0zYLh8NwuVwoKir6r+eCKIoyLrCSS7ig1WplyVJYyCVckAY/P1aEw2G43W4UFBQwDVnV0dGBQCCAgoICpv3X4/HQqAks4XK5oNPpkJWVxUymIAhwOp3Izs5Geno6M7nRaBR2ux15eXlM5SrBBVEUKRe6szfEP7etrU3mCy8duHYHci75cG9vb4fP50NBQQHKy8t7FJLM5XJBq9VSW87zvGwD2UCYEOgpSH0sFgsKCgroDHskEoHL5WJuF/oDA/vpU+g9yqqAolLAbu5cJorAoAKgfBhEQYThq0P41x8eg7/NDZVKBQ4cQjY/vlr6Bjx6K85+7MaEgZvdbjfsdjt0Oh3Kysp6PUBT4quxvb0dbrebvhxDoRAsFguGDh2a8Hzy1d5dKsL4MrKrtqioqFM8QVEUYbVaqdzS0tKkMlUq1YDyrxtIX/pK+W8qJVMpLiihh4Hmi6/ksyqlWyX1EI1G6SyqdKZUpVL1moc9eV5BENDe3g69Xg+/30/PP5aBJLkf+TAMBoOoqqpCTk5Ot7ZcOqAmG8wGkm3rLchm4CFDhsg+EH4JSEVLOJ7AcbFQX1POBzIyY4NZ8icIsVndidMhlg1BwOXFnkffhL/V/ZNR4xDbgKbiUPPiZ7B8fggc5F/WZrMZ8+bNwx133IErr7wSjz32WKedl/G7W6XH2dnZCf1Yk52fqDzRbx9//DHmzp0Lq9UKAGhsbMSVV17Z5TNdd9118Hq9SeWT2IgkW5AgCPj6669x3XXXwWq1dpK3d+9eXH/99ViyZAmuvfZa1NTUJHxW4mcZnyEmvm5d6SSRjrRaLYqLi2XZgrpCInnxvwE/xbmNj/vYk2fqqjw7O7tT5qhEOiC/90Q+EPO/JnJ7o4OuZKpUKuTn5yM7OzthebI6dief42KZmKQfiL25Plk54QJps+502NM6ZWZmJpy1PRadiKKIvLw8WXziY+EV+Y30XzJT153ekj1zPA9VKhUKCws7za729pnjQbiQlpZ2TG0U/8wajQa5ublob29Hc3MzamtrcfjwYfp39OhR1NfXw2g0wufzIRKJdMs7IJYgQ8qF+HISVaKxsREdHR3MP+LIh6HX60V9fT2cTqcsootUJ1JbznEcHfT9kmZr40F0bbfbEQwGKReKiopks7ZdvQe6sxeJyn8upAa3xwkIwQRBQHD4ycCca4Cq4YA2LfZXUgFcfDWEU6cgFI7A3WyE5dtGqDWJl5OEaBT12/YiwkcQCoVo2Kr169dj8uTJ2LJlC1599VV88MEHOHDggCx8Dc/zstBGkUgEPM/TZyTH0nKyqQCIzS50dxwMBqkhE0UR4XAYwWAQr732GgRBkMkXBAGBQEB2figUwvfff087ZygUooN0UYz5d0UiESojGAzi1VdfxZ/+9Ce4XC7wPC8rD4VCePzxx3Hrrbfi9ddfx7x58/Dcc8/R8nA4THVInleqM6IDgmg0KqtDfJ0FQeikE57nZeXSOpPzkx0DsTBPUh3wPC/7cEmko3A4TJ9BWkcgxoP443geSMsTHQeDQZkOEvGC1CEajcrqnExn8ToidRIEAcFgUFZn6TEpJ+0ezxOis/hjaTtK+5JUZ1IdSnlAjuPrLNWJtI5EZzJ7INEhOU6ms3gdJaqjVCeJ+o60jomuT8QToiOiM2mdk9mLZHXuzl6QdpfqqKu+IYpiJ/sh7RvxOgDQyX7E24t4noRCIVkdE9mL7vpGvM0TBAHhcBgGgwGHDh1CbW0trFYr2tvbEQgEEAwGEQwGaUi+1tZW1NTU4PDhw3A4HDLbkMhexOssvu84HA40NzeD53lFZws5LpZWtrGxURYOMhkviIuRz+f7xcxidgWe52mISMKT+L4hPQ4EftqTE/+eSfZe6Y8BbmpwexwgGo3KXlZtRiMCFSMgXnU7cNNi4Kb7gOvuAsacgrAgwmQ2Icx3HWOVA4coH4EoCjAajXC5XABi2WMOHjwIk8mEoUOH4vnnn0d2djZ++OEHzJw5EzNmzMAll1yC888/H/X19ZgxYwYOHz4Mm82GRx55BCtWrEBdXR2WL1+O6dOnY8aMGXj99dfR2tqKffv2Yc6cOfjNb36DW265BV6vF9dddx3OO+88TJkyBfn5+bBarVi7di1mzJiBCy64AJs2bUIkEoHNZsOVV16JnTt3or6+HiaTidbl+++/x+zZs3Huuedi4cKFsNvtePzxx2Gz2fDwww/D5XLBaDTSgc7s2bPx5ptvwuv14sMPP8SsWbNgtVqRkZGBV199FXl5ebDZbGhvb6f3aGtrQ3NzM8aMGQMAGD16NPbt20fLnU4nTZEoCALq6urQ1tZG262jo0P2zD6fDxaLhRqNjo4OtLS00JdHKBSCwWCQHTc1NcFkMtHBQGNjI30hRiIRGAwGOjCKRqMwGAz0hRiNRtHc3EwNG8nW4/P5wPM8zGYzTCYTjRlKws1IdeBwOChPgNiMgcfjARB7QTscDpjNP7nLWCwWNDU1UR14PB46Iy6KMd9ZvV5Pzw8EAjQWJTkmPnNAbEDR3NwMl8sFh8OBQCAAvV5PdRAOh9Ha2io7bmlpoYMEnudlxwCozkRRhN1ux9GjR2mdo9Eo2tra6LEoilRnREcWiwV2u11WTnhA6nzkyBHaDi6Xi+a0J7wxmUy0nf1+P00NCsR8zVtbW2k5OQ4GgzCbzQiFQmhra6PnkzqS+/E8j+bmZsqLSCSC1tbWTsckvq/X68XBgwdlPLBYLLRcEASYTCY4nU5aR6n9IDyQ8sRms8n0arPZZLNqXq8XFotFprO2tjZaZ5/Ph9bW1k68iEajcDgcsNls0Ov1dDAZCATQ1NREj8kAML6vkPJIJIKmpibKi0gkgtraWspt0pdIeTQaRWtrK900Rbgj7SsWiwVer5eWezweOuAiPrKEN4QHJKasKIqUJwQ+n49m1iJwuVyoqamR9Xsye5po45ZKpYIgCPD7/WhoaEB9fb3MHhiNRpm9qK+vpzaK8ISshBFXBNaxsZOB4zhEo1E0NTXRZ/Z4PLQviWLMZaypqQk8zysSq/m/FRzHwel0IhwOw+v1oq6ujnKb9B1y3NHRgebmZtq3iF8yKSf2Qmoz9Xp9v8TNTfncHgcg/lJALNTHsGHDftpUVSAPB6TValE1pAoe3ghdbgaCtsQBzgUIKBhVAbVGI/Nbveaaa3DgwAHMmzcP8+fPx7x581BUVIQnn3wS1dXVeOSRR/DPf/4T69atAxAzgrm5uSgrK6NG0Gg0Yu/evdiyZQusVituv/12TJs2DStXrsQNN9yA6dOn45577sEHH3yAZ599FqFQCI899hhmzpyJUCiEd999F5s2bUIoFMLdd9+Nc889l/rAnnvuuXjnnXdw2WWX0VBIq1evxr333ovJkydj6dKl2LFjBxYtWoQNGzbgnnvuQX5+Pt2IJooiZs2ahe+////sfXmYHFXV/ltVvU53T/fsa2bPQhAUkAgigbCJLLK4g/gJqAifCiji+lNQVAQRF1ZZRImAiAoiiMCngIARCBBIMOtkMlvP2t0z03tX1f390blFVU33TM/MvdPTSb3PkydTXVWn7j33vadO3XvuuZtwzjnn4Pnnn8cJJ5yA5uZmLFu2DMPDwxAEAQ0NDYY0Qy6XC4FAAGVlZQCAzs5Ow8uptrbWYEx9Pp9hS1ufz2dY9FJeXm6IIfN6vejq6tJCDtxuN9ra2rR2drvdaGlpQSgUAiEETqcTq1at0s7b7Xa0trZq99tsNrS1tWnyJUnCihUrtPOSJKG5uRlA9uUvyzKam5u186Ioor293fCSNG8jW19fb4jzqq+vN+jA4/HAbrdr19CtjunLNhAIGFJEeb1ew9avHo8Hra2tWh09Hg9WrFiByclJyLKMsrIydHZ2amV2OBxob283HC9fvlw7djqd6OzsNEzZ0TpSp6K1tVWL65YkCR0dHdq1giCgubnZEMeoX6lMz+sXPFZUVBhGQqqrqw3poGpra6GqqlZGr9dr2LaYTufT836/H+Xl5Vqb2e12dHR0aNe7XC50dXVpZXC5XIZ2p9fr7UlnZ6ehnZctW6ZN9dM60utFUURLS4uBB3qeCYKAuro6Aw9o3D59QTY0NGjXAkAgEDAsNKuoqEBFRYX2TFpnPQ8oT2RZhsvlMiyGLCsrw8qVK7XrHQ6HoW/Y7XZD37Lb7Vi5cqWB+5WVldoCQEmSDPeLoqjpjHJH3xdUVUVtba32sUZH0vQ8CwQChkVatbW1Bp1UV1ejsrJSO0/thSiKkGUZwWDQ8CFYaCyvvsyhUAjxeBzt7e0oLy9Ha2urwV60tLRoDrzdbkdnZyeA7MdDT08PMpnMoi3Uos+hI7hdXV2orKw0hD1JkoT6+nqk0+n9ZtQWyOommUxiamoK5eXlhr5E3zuU616v12APXC6Xod2dTue0852dnXjllVcWuVaWc7tfQG+4BEGYMeaSfqGXt9ThoP85Ec9/+7634233ghCCylUNOOBjx0C0SQYDFQgEcNNNN+Gll17Cb3/7Wzz99NO4+eab0dPTg/e85z0oLy/HUUcdhT//+c+GlzzNSej1erVRpeuvvx4A0NPTg7GxMfT09ODxxx/Hyy+/jO3bt6OjowMejwcbNmzAm2++id/85jfYvn07hoaGcNttt2mjCXRxm8vlwumnn47LL78cRx99tPby2bJlCx5//HE899xz2LJlC6qqquB0OiEIAux2O5588kn8+te/BgB84AMfwMknn4yLLroIQ0NDeOutt/Ctb33L8KKhOtY7KTR+lr6kZFk2rH7Xx6uKomhwguhv5mN9G+o/YOgzzGVyuVxobGzU5NhsNkPMmT4vJD3Wn6dOnV4+dZSbmpoMLz7z8wkhOcucq04Ufr/fwF1zTG++OpvrpD9vs9kMHx36eMBcOtA7svRYX2b6PEEQtA8UWqZCyqM/T+WZ5Zsd4ly8MJ8361h/npaFcsGsAzMvcrW7Xif6NvD5fAbnWq/TQtvI7PBIkoSamppZeWXWSb7ztMyEEM0ppL/r6zxT3zDzTs8TSZLQ2NhokJvvfvNxKpXCyMgIQqHQtNAHvRNWVlaG2tpaBAIBwwegXoe5+pYsy+jv79dmSObrXFLZqVQKO3fuRGdnp2GthCAI8Pl8Wpw01QHdca8YeWOpTqLRKMbHx9HQ0GDgIuUYHZXfX5xb4O0F1BUVFWhsbDR8jJrfTbPZ3Fz2ohi6tJxbCzlhczlw8IUnI7SzHzv+9B/IkyltR7PKA+pw1FWfhL/NuNo/mUziuuuuw/nnn4+1a9fi8MMPxxe+8AU89thjAIzOSy6Dmk6ntZQttbW1WLt2LQDgXe96F6qrq+FwOHDYYYehra0NhxxyCFatWoWhoSHceuutuOyyy7TE6ZWVlTjqqKNgt9tx5JFHorm5GZs2bYIgCGhtbcV73/terUwUhx9+OGpqanDIIYdgxYoVhnOrV6/GBRdcAABoaWlBR0cHbDYbHn30UdhsNqxatWpWfVZXVyMej2vTtX19fXkzNQB8V4Yv1mjJQlGKLxee7cZDJi8dl2LbFRM0a0B/f79hO2C9Hmm/VRQFU1NTiMVi8Pv9WLZsWUGprugCLrqolkUbCYKghfPY7fYZU6oRQhCLxTA6OlrwSDEvjIyMIBAITCsv1a3+Y2J/AHX6M5mMNrBT6rBibi3khac2gJNu+hJO/OVFOOjzJ+DAC47Bmq+diTPu+waWn3EUJicnp42kjYyM4K677tJiwCKRCGpra9HR0YHXXnsNU1NTeOmllzA6OgpJkuB0OjE4OIjR0VE888wzSKfTqKioACEEhx56KDo7O/H3v/8dTqcTDQ0NCAQCeO9734uNGzciGAzihhtuQHt7O9asWYNoNKqNmBx00EHo6urCE088oYU70HjNM844A0899ZQW47Z69Wr4fD4ceeSReOONN9Df3w8g+zKIx+Nobm7G+9//frz//e/XHNlTTz0Vt912Gw466KAZHcVoNIpQKARRFNHV1YVXX30VkUgETzzxBA477LCc99CvaNZxSrIsc5Nr5gILJJPJacncFwq6gCnXHvILlRuLxQyLuVjJLSUu0Cld1rqlOVNZIxqNGmKoWYDGg+sXeM0EfdYAfTqsfKDnaT7dHTt2zKpzWiZ93lZWEEUR8XjcEIdMF9VRR5HWc3R0tGC98AKdhqeLqCj0i+j2Bedurkin04jH44hGo0WJkWUNy7m1MCMcZU4c+MkTcPItl+KUO76Ctd//NKrf0a69HPUG1eFw4Fvf+hY2bdqEdevW4fTTT8fKlStx0kkn4ZOf/CTeeustnHXWWXj88ce1rVXPOOMMfOYzn8HnPvc5VFRUIJ1Oo7m5GaeddhrOOussfOpTn8K6detQXV2Nyy+/HHfffTc+8IEPoK+vDxUVFXjooYfwzDPP4IMf/CDOOOMMRCIRfPzjH8f555+PCy+8EAcddBCqqqqgqqq24KKjowPHH3+8NkLy7W9/G7feeitOO+009Pf3Y82aNQCAgw8+GF/60pcMC3wojj32WKiqijVr1kxzaPSG8bbbbsO5554LVVVx2WWX4e6778Zpp52GLVu24KKLLsqpc0KyORb1q6dZQJZlw8uGFRRFmcYFFqDOLWskEgnD6BgLEEIQjUaZO2DUuWXNBf0IFUukUinmzi0Abs5tIR8kNM7V/C8f6ChsIU4c7et0IeNcnSrqWO6WLOIPAAAgAElEQVTZs2fGeiiKgpGREW6ZCQRB0Ba96Rcn0gVkQJYbkUhkSTiOgiBoWW0o0uk0EolE0Z3vYoEO5pizWpQqBFIK85McoZ9+0Aftm3/Ld0+hcljKmss9GzZswDXXXIM777xTW4ix0GcDWFCZduzYga985Su45557pu3BXqgcHjpkKYt3u8712ftKPfT8m03+Uq9HrnuKUY/ZyrSQZ8+3TEulHvSFTxchAtkFZ+Xl5Vru4YXUI5lMYtu2bUgkEvOWQ53t2tpatLW1TYthJiSbgaK7uzvnqO1c+tRMuiWEoKysDCtWrDDk+KXyR0dH0d3dXVS7p/+NLnrVL9Ds6+vTskwsVXvBq0xANu7YsOC8wDLNdJ4Qgvvvvx8PPPAA1q9fry0CNj97Pu/rmWDF3FqwYMGChZIHIURLeygIC1/Ikkql0NfXh3A4PC1llcPhQFNT04K2nCYku/3pQkekaR1DoRACgcC0AQOat1VRlAXpoxDQ2RbzBhaKomijurzLUChUVcXU1BSqqqo0Z4p1iEqpIZVKQZZlptu+FwtWWIKFeSGTyeQ0+oWgtbUVt9xyS8594hOJBJf4TRpLxDKvIiFES3jOEjSWjvX0mCzL2kuOJRbChZnAgwuEZOM3WU/JlyIXwuEwcy4kk0lMTk4y5wJdQJUPNGft1q1bsWXLFmzevBm7du2aMbZ6pjajeaD1mxUIwtuxsOl0Gn19fRgdHZ1WV+pM6qe8cyGdThvy/S4EgiBoDqQ5hCWTySzKNrKCIGgOI3UUabhSJpPJOTpdbNBFVACmbe6zP8K8MU8pw3JuLcwLNJn3fBwEp9OJZcuW5RzxSKVSXL6eU6kUl5i9ZDLJ3CASkl2cxNrIKIrCfCEVT7n0hcgapcQFANy4EI/Hi9Jm1NkJhUIYGxtDPB6f1Rk279ClB90ooru7G1NTU0gmk0ilUhgfH8fOnTsNmyOYkavNCMlupkE3YcjlkAlCNkvA4ODgNKebfkDNFCdN+zjrBYi5FrIlEolFddpisZi2Yxrd6W2m9ism9LskZjKZJVnGxYSiKMzj+4sFKyzBwrzgdDqn5WJlgUAgwOXrnmZgYClbEIRpmy+wgCRJWLZsGQAwlU3z0bKW63K5uHDBnFCcBQRB0PLcstQBLy6IoqhxgSX0XGAJc57bXKC7oNENRdxuNzo6Oma8r7q6Oq9uo9GotiEBzcmpj2kdGBiAx+Mx5KIF3m4zwMgFOqqtH6nNBVEUtdFXfdn1eW5n4gP9IDTnb54vBEFAOp1GMpmE2+3Wfqdb/+rjG3kik8lAVVUtz60+XGQpgepjX3HmWGAx+LFYsEZuLcwLdBED687AQ2apyeWlW71sHjItLpSObvWyecicKRRgbGwMoVAIgpDdvMC8TfJcykoI0UIA8jmidDS30LLSdFCFItcIeCG65ZFyKpezttjTzKqqalva7kvOkoXSguXcWpgXaPwma+PFK/1TMplkPg1LSDZ3JI/cpjziIWlMHusRFF6pwGhaKZYghHBNBcYjZ2o4HOaSCowHFwpJBWaeNqdT/LONcuYLdyhkoVQ+2bkc34XymJBs+ralklJqseNc9XHJPNLNWbBQCCzn1sK8IMsyQqEQ85djLBbj8tKNRqPMnXGei4jGxsaYx3+l02kuus1kMoaFN6xA26wU5PLkwvj4OPMPKJ6LAGm4QS4IgqDtpqUfOZ1phy36EZnvQ4dubZ0PdIQ4FyYnJxGPxw2/mbc4ng3maxVFQTgcZt5mpYZ4PD4jFyxY4Akr5tbCvOByuQw5FVmhsrJy1li3+aCqqopLzG1jYyOXmNvOzs68L+T5wuVyoaWlhYtcnlxgXd7q6moAbEe0BEFAQ0MDFy50dHQw14HT6URraytzuX6/H+Xl5TPKraysRDwex9jYGAgh8Hq9hv3szRAEAXV1dTl1S2Oox8bGpk3z0+sDgcC01FQUNDZWD5fLBbfbjWg0WhBHzLHCkiQV1M88Hk/ODWIWAlEUpzn7C02JNp8yiKIIv98Pv9+/5DIkmLHUy2dhfrCcWwvzAos8krkw11GTucjl4dzyWKRBdQuwX/REX7is5ZYKF/QfTqx1wJsLrOWydmyBwvqZ3W7HsmXLUF1dDVVV4Xa7Zx19nWnRldvtRlNTE3p7ew3hDYIgwOPxoKmpKacO83HBZrOhurpaW/A104iy2+1GRUWF4ZpC+1lZWRlTzhBC4HQ64XQ6Db87nU6Iorhosbd2ux2SJBl0YLPZIEnSklq8RQiBJEnaQkNefaKUwGNgqViwnFsL84KiKEilUnC5XEwNQjqd1ow0y06WTqehqipTuTTFjSiKTJNeq6qKZDKpvZRYQVEUZDIZ5rotJS7QNFSEENjt9pLiAksnV1VVLm2WyWQgyzJcLteMupUkCT6fz/DbTE4eneI3O25A1vGtrq6G0+nE0NCQ1g4+nw+1tbV5R231bWZ2rmtqahCLxbQtu3Pd63A40NzcjLKysmnnksmk5uTlgiAIKCsrg8vlYhrK4vP5pvHP7XbD6XROC7/gBa/XC5vNhkwmA0VR4HA44HQ64XA4lpRzC2Q347Db7ZoD7nA4uKQJLBXQjxCaeaSUUdqlt1A0pNNpBINB5iNVU1NTGBsbYyoTyMbW8Yj/Gh8fZ77oSVVVBINB5jF76XQaw8PDzEdwSo0LExMTzKeDgewOUTwWwJUSF2KxmBZuwBLhcHjGfLWCIKC8vBxdXV044IADsGrVKixbtiynM6xHvv5rs9nQ2tqKhoYGOBwOg6MuiiI8Hg/a2tqmjdoC2Y+9kZGRWRcX2u12LURmoaAfa5WVldMcarvdDo/Hw+Q5s5VBkiRte9VYLIbR0VGtbOaPgKUA6ohTzDaDsK/D4XBAUZR9YiMHa+TWwrzgdrvR3t7OJTaWx7QIzZPJI+aWNWw2Gzo7OwGwnTp3u91obW1lPn1O85SyBg8uCIKAmpoaAOzDEhoaGpjJo6Dx16xB46R55KnmEWdZV1dX0HU0lKWQ0JPZ+q/NZsOyZctQW1tr2MmqrKxMy5ubSz51jAt5fk1NDSKRCKampgqqXy7QZ9TW1k4bDafPqaysRCgU4u60eDweeDweCIKAQCCAQCCg2d1AIMDlo3K+oKP7lC+SJBnyA++PcDqdKCsrK/lRW8Bybi0sAPtSfM58sViJ0VmBZ3tZXLC4wAu8dDubEywIAlwu17TRW1a6s9vtaGlpwc6dO5FKpeYllxCCyspK1NXV5b2/vLwc1dXVGB4eXmiR80IURdTX1+cd/fR6vXA6nVx2oJwP3G43vF7vtN9EUVxyG04sFmbKWlJqKH333AJ7qCpIJqP9gywDJuNPt1xlbQTS6bS2ZSNL0G19WacCi8fjzFN2qaqKaDTKJbcpjzaTZZkbF3jkJuax/S7Nn7u/c4H2X9ZyeW1znUgkCgr5oB/yhbz4CclurVtImwmCAK/Xi7a2Nrjd7jnrjRACv9+P1tbWGafUJUlCdXU13G43tw1BqqqqtJFQGtuu7792u13bHXApoKKiQtMZ5YLdbmcaM19KsNlscLlcBW2HXQqwnFsLACEgcgZkdBTktVeh/vEhqD+7EeSGn4L85AaQW26B+ve/gWzbBkxNAmp2YRKP2Dqa55a13Gg0ynyjAZqsnfVCDUIIRkdHmSeBp/loWU9NyrLMlQuswYNjdKcsHlzgkfNYlmUuXEgkEgiHw8y5MDk5yWVzFx5tpqoqQqFQwXHSgiDA7/ejo6NDi+GdSX80N7DNZkNtbS06OztnXcAHQMsckS+cYr4ghMDn82myKcw5j0VRRE1NTdGdR0IIysrKUFlZaZh+pxtv7K+hCQ6HAzabjYtdKAassIT9HERRIASDUJ98AuQfz4P0DYFMJbIjtXtjpQghECQJqCmH0NUG8YR1cB57LJY1NzOPzQkEAgDAXG5FRQXzmFtRFPPm31yoXBobyxJOpxNNTU1ccqY2c+QC6zhpnlxgDVEU0dLSwpwLDoeDCxd8Ph+8Xi+X3MQ8Rhx5tJkkSWhqaprzRhBerxddXV0IhUIIhUKIx+OQZdlQb5qNw+v1orq6etacwnqIoojKykqkUikMDAxAVdUF84oQouXP1i/eEwRB4wJ9Bg3xqKurQ19fH/M+OBfU19dPc2Jra2sBvP2Btr/B6/XC7XZbMbcWSgvUQOoNJUklgeeeg3zXvcDWPYAkgogCBEmXo1EQso6uIADjU1CHX4P6nzch/vMZSBd/Hli+AkSX29L8AtI/N198m/5Yf02h1+c61ue6pP/rc5HqzxdaHv15/WhEruflOp7tmfo6m42++fxMZZ5JR3TBDZ120rdbrvIV0q6iKE7Ly5svfVKu41x1yqWHhejAfJwrrm6mNsrHK32Z9NfMVYf5eJNLBzOVKR+vzOdpTk/9+VxlmmvfyMfbuco362SmPMIz8ShX+cw8mKsOzTIL5W2u+811pKOxVVVVWsiE3sF1Op1wu93a6Ge+/L/5+oogCKivr4fNZkN/f/+8Z4eoPJ/Ph9bWVi0bg7ldc+mrpqYG4XB41m2aWYM+KxAIaOERufpbeXk5HA4H0un0PhN/Ohvo7IEkScxsLD1ezDbWo/TdcwuzQlVV7UWuKAqGhochT04Av70XylXXAzv6AIcNkAqggyRlwxieew3y5V8Hnn0GcdPWmOPj41raHkIIxsfHMTIyop0fGxvTUjwRQrSUT4QQbVtffQqoqakpBINBrQ7JZNJwnEgkMDQ0ZDgeGBjQYt4URUF/fz9SqRQIycaCDQ0NaYZdlmX09fVpCx1oKi46FawoCoaHhw3nBwYGEI1GkU6ntWl5mvSd1lm/AnpkZEQbDSCEaKnJKMLhsDadS0h2Knp4eFirUzweN+hQn2aH1rm/v1+bTkqlUggGg9oxTddF4yEzmQx6e3sNOhoeHjbUORgMaudVVUVfX582hauqKkZGRhCPx6EoCpLJJIaGhgznBwcHDembwuGwIcwgFAphYmJC00koFDLUcWpqCqOjo5oOzOncotEoBgYGtOsTiYRBZ8lk0nCcSCTQ29uLVCqFdDqNZDKJ/v5+rY6ZTAbBYHAaL+j0ciaT0XhEQXlCCNFGxGi7Ux3o+8bIyIh2TAjByMiIxgN6rB81mpiYMNRhYmLCkHYtEolMq+Pw8LB2PhaLYXBwUOMB1Zksy1oc6+DgoHZ9Op02OD2ZTAZ9fX0GXgwODhqOBwYGtHan1+t5MDY2psU4E0IwPDxs4EEwGJzGA/358fFxQ7tQ+6Hngd5eRKNRA/djsZg2Ukl5Qe1FOp1GNBrF4OCgxoNUKoU9e/Zo98uyjOHhYe28LMsYGhoyHFNeUZ0MDw9rdVZVFUNDQ4Zjygva30OhkMFe0PpVVVWhpqYGkiRpq/ntdjsmJiYMPAmHw1rfICQbIjM0NKSdj8fjmr2gI7gdHR0oLy8vKLOE/jwh2ZCIuro6LF++HF6vN/te0dlUaiNpzC3lTTweh8PhQHt7e978wzxAy06z/NhsNsN7hZDs+omhoSE4nU74fL6iOWWLDUKyYRo+nw+xWAwjIyNaX6F9h/aFeDyOvr4+7Tx9l9LztP/TvkDtSzHCHCzndj+BfkTB57BDuvMuyLeuB1JyYU6tGTYJZHQC8jd/CMdzz8LpeHsxA43doXA6nQZDZt5FRx/ET506fVyW3W43rOKUJMkQY0aNvvmYTq0IgqA5xNS4m8+XlZVpo4+CIEw773K5DOfLyspgs9kwMDCAUCgEp9NpqDNNDq6vs75ONGG4/np6TB1L/Q5dtM76+/U6lCRJ2/Eol05oXXp6eiDLsqYD85Shvs7mlbO0zmadJJNJdHd3w+FwTNOhXgd2u91wrK+zIAhasneKeDxucI7NOrPZbIapRfOxJEmGDSAkSdK2PB0YGIAoigadzcYLer0+jyjVGSEEg4OD2qIUvQ70vHC5XNOO9XVyuVwGHdlsNs0poDrU13GufYPmG00mk9i9e7e2QxiFWSdUB2Ze6Kct3W63ppPJyUlMTk4aeKDnRSF11vMCyPadcDisObCz9SW6MGY2+wAAAwMDmJycnHZenxeWcn2mvqLnhaqqCIfD2gdALh6Yj832It/5Xbt2IRaLTVv4RPuOvp3NfUFvP+iGNitXrkR7ezt8Pp9hFDvXPyq3qqoKK1euRFtbm6H/mnVEP3zoSKDehpaVlaG9vX1R428dDgc6Ojq0Z1KeUIyMjCCVSkGSJAQCgX1iar4QEEJQUVGhxWKPj49rHynm/MQ2m81wTNuVwmxDze+ZxYRA9pfPkzzINf2V67d89xQqh6WsudyzYcMGXHPNNbjzzjuzeTgVBer990G+6R4gLWshCHN5NvD29J2gEqCxErbvfAPCmjXzrgf9m37h6R27ac+chw7plyaVm69t5qJbANPk5itTvmnIfLIVRTHk7Mylg1xTqfnqQMuqquq0JO/5eDXTVK25bWRZhs1mm7V8+vvznaeyC+HCbPUwl4X+Rn/X63cmruvvzTfSRbmg128uGbnKNVP9KBf0U9D5yliIvaD1p1zIV5/Z7Fmue2aTWwgvcj1TURRtxDCX/mbTYT7Z5n42W3kLkU9HAnPxK5d8fZnMujTfY+ZCIbwqpD/QnfAmJia0zDI0Jpc6xmVlZdqUvd6J1cvRP1Pfz8zcpecmJia0kf6Z+tl838v0d4/Hg9bWVkM2BzP0uk2n09i1axcmJiZmtSvzeS/PtR4z1W2hZXI6nVi1ahVcLteM/bcQO24uB8X999+PBx54AOvXr9c2+ZjJBhZSj9lgxdzuRyCEANu2QVn/EIS0DCIy+JqSRJDBcSjrfwepqwNC5fx23KHENTuJ5vPzLqYploiFfGr4C+l4+Qxqvmv1L/F89+cyDHORO1uZ8snPVQ7q2Jp/z3Wc6+We6/p8XMh1fb565JI/F4NZaLvquZDr/Gz3z1Rm/QhervOF8sp8v1mu/ly+NppJHiFkmqOYq5yF8koPs25n4k0h5+nv5n42W3kLkU+duZnqtBB7U2hfn413ekiSBK/XC4/Hozk4Zgc9V//J98xcHwvmMomiiEAgALvdjt7eXm2WZqG2noKWPxAIoKWlZdoIotkO6PuDzWZDTU3NjLvilTpoW9TU1Gij/ua2Bmbvr+Z2Xah9YoX9Y9zdAgCAZNJQH3gAZCQCMDIgACAIItSXN4M8/Q+ALCw/nizLzNMeAW/vec+yoxFCkE6nmccTEZKN32Sda1BVVa5yWRsxHlwgJBvXzTrNGuUC63y0pcYF2masuUD7L0vwbrNStAvUMbfZbNo/6lDP1elUFGVWuyAI2ZCOzs5ObQOIhXKHjgo7HA40NDSgvb3dEGqT7550Oq3ZBUHIbudcXl5eNOdsMeByuVBdXa3phpddKAYs53Z/ASEQuruh/nMDIArZf6wgCkAqA+Wp/wPJ8aWbyWRw44034mc/+5nWaZ599lncc889066dmJjAyMhIToOye/duXHDBBdoCnEgkgmuuucawmEQPVVXxr3/9C319fYhEIoYFWCxASDYfLeuve7p4i/VOPqlUiktwvz61EEtMTk4aFjewAi8ujI2NLWgb1VzgxQVeCz2i0ahhgRsLUN3ySM/Eq//SxZus5dK4bpagi01ZcoGQ7EJh/eLGfBAEAU6nEy0tLVi+fDkqKyunjajPJIM6sxQ2mw3V1dVYuXIlmpubC47rHRsbM+RCt9vtWrq8fc3BpbMs9fX1hphZahdYf/AVA5Zzu5+AqCrI66+DTMQh8Oinogjs3AP09087FQqF8NBDD2H9+vXaS7q3txebNm2adm0gEMi7jeTExATuu+8+3HfffQCyTtXzzz+f19hHo1H89Kc/RSgUQmVlJWpqaphNeQHZabXa2lothoil3JaWFuariWk+2lzT0QuVu2zZMuYLMPx+P+rq6rjkPK6trWXOhZqampLigjnpPgv4fD40NDQwbTNBEFBdXY3KykpmMilqa2vh9/uZyhRFEU1NTYaFN6zkNjc3M99kgAcXBEGYMxdEUUR5eTk6OzuxYsUKNDY2wuPxGEKe9LG8eqfWZrNpG0msWrUKHR0d8Hg8c+JhTU2NtokGrYPX69Xy3+5r8Pv9qK42hhE6HA40NzfPuNtdqcCKud1fIGdAtm7L/s1y1FYHEk2BbN4M4cB3GH7ftGkT3vnOdyIWi2Hjxo1Yu3at4fzU1BQeeOABRKNRnH322WhqasKDDz6IAw88EAceeCCee+45pNNp1NTU4Nhjj8W9996LCy64wCBDURT8+9//xtNPP41169bhqKOOwn/+8x9s3boVd911F6655hpD2htWYDGNZoYgCNpoA0vZufLRspJrt9uZ67bQ+MK5gMYtAmx1APDnQinIlSRp1ljp+YCXbvXbr5aKXB59glf/zRWHXsh9Pp8P5eXlaG5uRiKRQDwe11LX6eM4aeYdj8cDp9M5748qfZvpQT9UYrEY81mZYsLtdqO5uXna4mJetrwYsEZu9xMImQzItm4INmn2i+f7DFkB2dVt+E2WZTzyyCM4+eSTccIJJ+BPf/qTYfornU7jkksuwcTEBCoqKnDxxRejv78ffr8fl1xyCYLBIK6++mrU1NQAABobG3HyySfj7rvvht1u14zZk08+iWuvvRaHH344fvGLX+BPf/oTOjs70djYiHXr1sFmszGPuaXl5xFbl06nSyY2luYLZS1XURQuMbeKojCPuQVKiws0fpNHm2Uymf0+5pZXm2UyGS4c49FmLPqvIGTTqFVVVaGxsRHt7e1obm7GsmXL0N7ejsbGRlRVVS043dRMXLDb7WhtbdWyCZQyCMlmHGlubs45s0BzoJd6PQHLud1/QAiQTM4vp+1cYDJmY2Nj6O3txZo1a3DiiSfi9ddf1xK2A9mk8xs2bMCJJ56II444AoQQvPLKKzjmmGOwfPlynHPOOTj77LNx0EEHAch+1V988cW47777oCiKlhf1kUcewfHHH4+uri4cd9xxeOKJJ7TtKdvb2w1JzFmBZ8ytPik8K/CKp0qlUoYNJFhhYmKCeZsB2YT3+eK65wsaF6rnNgvwjrllzYWpqSnDhiqsMD4+btjYgRVGRka49N/BwUHEYjHmcnlxQb/pDQvQmFtWXNCv4qfbE+da2b8QjI6OGmJu9fB4PGhsbNRywZYiaFaI+vp6BAKBnHozb+JSyrDCEvYncApHmAlvvvkmNm/ejMsvvxwAsG3bNmzbtk07TwjB0NAQfvzjH2uB+w0NDXA6nTj77LPx0Y9+FL/85S8N0yd1dXU45phj8NRTT2m/TUxM4OGHH8bGjRuRSCRwwAEHaOcEQUBFRQWTvdTNYB27CbwdZ8k6HtLhcHCJs6SxvOYproXC7/dzCSUJBALzyps4G1jHdANZLixbtox5m9HFMjxibnnsTV9VVcVUHgWPmG5RFDVHiLVcHvGQdrudS3l9Ph88Hg/zPlFVVcXFwaS2PF/qN/rc3t7eouy4tRBQe9fY2Ij6+vq8tpq+I6yYWwulA0EAbHZAJXydXJ2BJITg73//Oy655BKceeaZEAQBd999Nx599FGsWrVqb7EENDQ04I477oDb7cbDDz+MtrY2TE1N4fbbb8d5552H22+/HT/+8Y8BZKcnBUHAxRdfjC996UvaaE5FRQVOOeUUnHfeedi8eTNGR0dNxbIxd2honJYVcysaEruzAq+Y23y5TRcqt5RibvVcYAkr5pZf/6VyeXxAsZZLY9vnE3M7G3iMnuaLudVDFEVUV1dDVVUuM1W8QN97tbW1aGhomLHf87LlxYAVlrCfgNhswPI2kAy/FB9EEoHWFu04HA7jzTffxAknnICuri50dXXhlFNOwaZNm7SpQLfbjaOPPhrXXXcd7rjjDtx6661IpVK4//774ff7cf3112Pnzp149tlnQQhB/95sDC0tLWhsbMTIyAgA4Mwzz8RvfvMb/PGPf8Q3vvENDA8Pa6tsH330UUQiES55bnnFwPGKueURG8srTotH/KY+z63FBT5x0jxi22VZ5hIbyzOGlVfMLS+5rPsDr/hrnlyYTa4kSairq0NLS8usG3UsFdBQhNbW1llH562YWwslB8Fmh9jVARBkR295wOWAsDc2FsgaofPPP98QInDooYfiYx/7GA4++GCceuqpcDgc+PnPf4729nYkEglcddVVSCaT8Pl8uPbaa+H1enHttdcilUqhvr7ekCXhiiuuwJVXXgm/34/jjz8e3//+97Fjxw584QtfwIc+9CGUlZXh+9//PjweD3p6erR9zlmBOts07y4ryLKM7du3Ix6PM5WbSCSwe/du5vFUiUQCO3fuZO4kjI2Noa+vj7mhHRkZQX9/f0lwQVEUbN++nXn8ZjKZRHd3N3MuhMNh9PT0MM9zGwwGp83GsEB/fz/Gx8eZypRlGd3d3cxjeRVFwY4dOxCNRpnKTSQS6O7uZr54MxKJYPfu3cz779DQkDaowRIDAwMYGxubtbw0BWRbW9uSnr4nhECSJDQ1NRWcqjGVSmHXrl1cNlJabAhkX3DRFwD9VDX9O9dv+e4pVA5LWXO5Z8OGDbjmmmtw5x13oG58DMpFXwFSGUDMv1f8bM8GcuxZLisQD+6CdOP1ECqr5l0P+tWoT0fCoj3oaBKVmy9EYS46oeXNNaW1kHalK9np9BALfgJvj4Tq5bLQLS2vy+XKq1uWXACmb9FZaD30XLDZbIbRl4X0M1rehXAh198ANC7QmHQWutVzwayDQsqc79mKokBRFMPUJivdApgWojEX3ZrP09E6GqpSaHlnk09Hvyi/WPUzYPG4MF9Z+usoF/RZbRbKBUEQNMerEC7MRbd6LgCz2xgAiMViM24dvNB3+VzqZu4zZWVlaGlpgd/vN9w7U5nojM5MXJhJTq7zhBDcf//9eOCBB7B+/XotF7i5vHPV02ywYm73FwgC0LUcwpEHg/zzFQAMY2pUAtglCMetBSoWlmhd/5JhCRqzx1K2IGRj4GjnZCmXJu1nKVsURa5yWbcbD42oEAAAACAASURBVC7onU+WOlgMLrCEngssod+ulRV46pZXbCzN4sJDLus+IYoic7nUSeQRH8ubC0Bh7SYI2a2Du7q6tNFkWZa5vL8KBSHZncdo6rS5tisPLhQLVljCfgTB5YJ0zieAgAdQGMZtqSqEg5dDPPGkBXcKVVW57GtN5bI0ioQQLuWlox6sDXipyeWlW94cY4lSbbP9nQul1GY8ucBj0dVS4gJ1ipuamtDV1aWl2CKEMNdnPtBnCYIAj8eDzs5OtLa2ziv3Ly8uFAOWc7sfQRAE4OB3Qvzw6YBDYhN7q6hArR/SuR+HUN+wYHGRSKSg/cjnCl65TYeHh7nE1u3Zs4d5PstUKsU8nyWQjd/kled2aGiICxdYc0xVVS5coDmP820xPV/QfJY88twGg0Hmzsfo6CjzeGYAGB4eZp6bWFEUDAwMcMtzy4MLvPLc8uDC2NgYNy5EIpF52QVJkuD3+9HZ2YnOzk6Ul5cbMtPwcBb10/kejwctLS1YsWIFKisr553Wjb4jrDy3FkoOgt0O6dxPAENDUB5/dmGpwVQCuOyQPvUxCO89ikmKMZ/Px2UkhcplPfVWUVHBJU9mfX098xRQdrsdNTU1zFNAORwO1NTUMNeD1+vNuYvOQlFqXKirq9OmuVnBZrNx4UJZWdm0eD0WCAQCTOVRVFRUMNeBKIqoqalhvtiILmRizQVedoFygfUUt9/vZyqPgnJBHwc6V9jtdlRVVcHv9yMSiWB8fBzRaBSyLC/4vaYvkyBkU615PB5UVlaioqJC0/VCHGnKBdY5j4uB0q+BhbnDH4B48ecBQYD6t2cBZW9nKNg5Jdl7PE5InzkH4plngjByxHjta03jtFg7NDy2ZBRFUXPqWMqWJIlLjldJklBWVsa83XhwgWecJQ8u0Lg+1qBtxhp2u51LrLTT6SyZ2HZByG4Zy0Muj34miuKCt681g8a288hPzJsLLGCz2VBdXY3Kykokk0lMTEwgEokgHo8bUuWZF1PpYa4jdWjdbjfKy8sRCATg8XiYpiSj8veFmFvLud1PITQ0QLryCgidHVDW/wEYmwBUceZ1ZioBCAFEQFjeBOmyL0JYswaQpOzvDECncFiP/Oi/mll2XCqXpUwa/8VaB/rYLNZyaXlZ64E1F/RThKz1wJsLPMorCOy2LwX4lZeXbnn0BwDMZwb0cnlxgVf/LZV+Ru0CS3tDnWa32436+nrIsoxYLIZEIoFkMolEIjEtBEBvn6izSf95PB7to59HPDNPe7PYsJzb/RikzAPhnE/A9p73QP3DH6C+8AoQngTSytvOqiBk/xYEwOOEWF8N4YRjoHzwdIxAQB0AlpNZoVAIqVQKjY2NTDtXKBRCOp1GfX09M7mqqiIYDMLtdqOycmFZIvRQFAU9PT1obGzURoBYIJVKYXh4mPm2q8lkEoODg2hra2M6tRkOh5FIJNDU1MScC6lUCg0NDUy5MDQ0BJfLxZQLqqqip6cHDQ0NTEdak8mkxgWW0+cTExOYnJxEU1MTMy4QQjAyMgJJklBTU8NEJgVts4qKCmYyZVnG4OAgqqqq4PF4mMrds2cP6uvrmcpNJpMYGhpCU1MTs1AoQggmJycxMTHBlAtANv5aELI7brHE0NAQnE4nc1s+MDCAyspKeL1e2O12+P1+LbSCLr7Uj7rqPwj0Tqbe6abrMmpra+H1epmVN5VKIRgMMuVCsWA5t/s5BJsdZMUKiF+9AtKnRqC+9RawYzvInl4QVc0O5DpdEFZ0Qlh1ANDRCVJZAUmUUJFOM/+6Ky8v5xJ87/f7ucRZVldXc5km5GFcHA4H6urquMTcsnQUKcrLy5kabgrKBZYQhOze8zzCKBobG0uGCx6PB263m/msA0uHQ4+qqirmZaW7WLGOuZUkiRsX6uvrmcdZejweLmmlWH6I6MGj/9KYebNuczmvFPlyxprlNjY2Mm8zyoWlvDlFobCcWwvZjuR0AS0tEJYtA044AWI6le1kEEAEAXC5INDE4QDEvdMtpRBnSeXyiLnlEf9FY+AA9vloecjlFadVanlueXOhFOSWWj5pXvloecXy8rC5PPJUl2KeW/1CPVbyeXOBh73hwbFiwEoFth9AP+2hqiqSyaQ2ckWPafwOIQQpWYbidAFlHsDjQVqSoOoC4FOplLYnOz2maWQIIUin04bjTCZj2M4vnU5rx4Rkd4yi+9zTHVL018uyjFQqpdVBURTDsaqqOc/TOhJCtDrqn6HXQSKRMOhgmk5SqWnHsixDURRNHl0oYNYBAO16el6WZUOslX5fc3q/uU5mnVCd0fPJZDKvjugxLQOts1mHep3o7yeETNNROp3WdErlm3Wo36c8k8lMq7P+mLY7vd5cR3q9/nwhdTbriO6clKsvmHmjr7O5rwDQ7qdtmkwmDe1o5pG5b6TT6Wk60B9T7tMymfsC7VvmOs90P9WZXgez2Yd8x7SOtE657AnlCT022wvKE3qs7wu0jno95+OJvs76Mpp5oue2oijTrs/VN/T2gpZ5JvuRy16Y+4beHpjrnIsnVI90BzSzzszHeh5Q+5Grb9DrE4mEVid6vbnOs/FEby9m4kWuOubSWS57obe5Zvsyk/3IdUzLTPuvvq+YbWoh9iKXTqgeqT3RX2/uG7nsh/ldSutM28j8bjXbSLMOqQ70Nsv8npnpvZKvL+VqZ7MNXkxYzu1+AH1yakVR0NfXpxk+RVHQ3d2NeDwO4O24rqmpKQDZDjUwMKDtZ04IweDgIAYHB9HT0wNZljEwMGDIO0jzBdLrR0ZGEAwGtfNDQ0MYHh7WjicmJrS8o6FQCFu3bsXQ0JB2PhKJoK+vT+swiUQC/f39WoeJxWIYGBjQ6hiPx9HT06N1almWsW3bNi1nKs3xSc9nMhns3r1b0wHNJ6nX0cDAgJZfksZBTk5OIhgMarl5qc4AYGRkxJDzdHBwEKOjo9pxOBw2HI+Pj2NsbEx73rZt2zAwMKDVcWpqCgMDA9r1NIck1XE0GsXu3bs1HSWTSYPO6J7h3d3dmoHT7yFO21Ff5/7+fu28oijYvXu3lrtTURQMDg4iGo0ikUigp6cH/f39Bp709fVpPACm56ccGRmZdn5wcNCgk76+Pk0HkUhE21OeEIKJiQn09PRo18fjcQMPEokEBgYGDLzp7u7W+GjmSSaTQV9fn3acTqexe/duLd9wOp1GT0+PIf9wf3+/ZuyDwSC2bNmitTvta/o8qsFgUOMJjdnW1ykYDE7jyebNmzXuhUIhA/fHx8cNdY7FYhgcHDTwZs+ePZoOpqam0Nvbi1gshp6eHsTjcfT29mrXp1Ip9PT0aO2eSqXQ3d2t1ZnWSc+b3t5erd0nJyexZcsWjSe0jvSY2pPx8XGDDsPhsHbezJPh4WFs2bJFu2d4eNiQ/3hyctJgLyYmJgzcpzrQ2wfKi2AwiIGBAezZs0dr90QigV27dmlORSaTmWYv9LlAZVk26EiWZezevdvQzgMDA5p9IYQYtmwFpveFYDBo6EsjIyMYGhrS2iwUCmn2gvJibGxM00k4HEZ/f792Xm8v9DyhTuLWrVvR3d1tsBf6PMjpdBp9fX2GvtXT0zPNRuqPd+7cid7eXqiqqvFE/14ZHByc8T1j5sno6KiWr5xyhPIGmG4/9DnTCSHTdBCJRNDf36/VKRgMoqenRzum+bupTmmd9dzX9wWz/chkMuju7sb27dsRjUa1dy3ty7neK/39/YZ35549ezSeEEK0dyu1x93d3Vq757Mf1L5QnuhzktN3q54nu3bt0uoQjUaxZ88ejQexWAy7du3S7jfnSE6n04a+kE6nDfZnMSGQYrjUSwiEsN/7OZcclrLmcs+GDRtwzTXX4M4770RDQ4PWCfT361dHms/TVZn689RZjsVi8Pv9Wuen+52b76dfrZIkaefpOXqeHtMREH2KE3qeytfXUX+/PiWKuU70i5kuxDCfN2cn0MvPpxNBEBCLxWCz2bTYMnoNPU9lmo/18b/mOqiqisnJSXg8Hm1qnpaR6jBXGXPVQa8TOjrj8/m0Z+bSgbnOueTry6yqKqLRKHw+n+H5tI56XujbXa+TXOcpF2jc7Wxlmq3daJnoaElZWZlBR/m4XoiOgKzhFwRjuiYzd2fqG2ae0OsnJyfh9Xphs9mmcd18v74vzVQHVVURj8fh8/kMOphP39CfpzMOXq9Xq0M+3uRr91znY7GYlr4s12p5fR1y3U/Pm9uNyqW5eefT7mad0f7gdru1/mvmld5mmsuc65jyQm8XzP07V7vMZC/osaIoiEajGsfotYXag3zn6cirx+PR9GLmdq73o1lHZl5QZ5CG1eSzsbnKlK/dAGhc0KcEM/NqNnthfp6iKIjH43C5XLDb7bPyyqyjXH2Hln9yclKTa+5LM/HKbC/0fUNRFExNTcHn82ncWYg9oOcfeOABPPDAA1i/fj3Ky8sN9+nb2fz7TD7PbLBibvcz6B0wShjzohJz3jxz0LsoitqOLHpS55JPr6d/55NPkSt2Uy+z0GNzmakjQ3/Tn9frQN9RC9EJdQ5yXa//Tf+S0Zc5l45EUdSS1uv1qtdTLr3PVAdByMaa6nO86stk1tls8vVlttlsGhf0z58Pr/Qwx37l4kWuOufjIr1eH3c8W5n0dcjFK6oDQRDg9XqncUHfroX2DfP9+g0MzO1qvj+XDnJxXRTFacnw9ToqlFd6HRFC4HQ6DYn79c/PVedCdUL7GT02l3kme5BrwRj9Tf/hlK+/5mt3s870z9e/wOn1M5Vptnal9+v7Wa7752IvqBy9Lddfn4/ruc7nku9yubS4UDOvculwNptLr/F4PAXZ3ELtgb7/UuTj1VxsGJWv58JsNnemvmeWTweWCrEHM53X/2bmQqH2YKbzxYIVlmBhXqBfaPqOwkoua5l6uaVQXl66BcCtzUqRC6UgtxS5UEr9jBcXeLVZqXG31MpaKuUFSqv/FgOWc2thXkilUlrMFktMTk5idHSUeeeiWyGylKuqKkZHRw2xtqzkDgwMGBYKsEA6nUYwGGQe/1RKXCAkG6urj09kAd5c0C8OYgFeXIhGoxgZGWHKBUIIxsfHDTGprDA6OmqIfWUBRVEwNDSkxdiygqqqGBwcNMR8s0A6ncbg4CBTLhCSXQcwPDzM3C6EQiGuXGBpF3hyIRgMMudCJpNBMBg0LG4sVVhhCRbmBUmS4PV6mU87OBwO5rk3geyWjaxTS9GpN9Y5AenUW67p1IVAFEUt/o0leHHB6XRy4YLD4WCeH1IQsluusi4vnS5lLZcXF+x2O5e0cLzSE9G4WJag/ZeXXWBdXp5c4LFdMI/cuQA/LpSVlXHjGC8usH73FAOWc2thXrDb7QgEAsyNDK99rc0xtyxAY+tYjzKLoqglrWcp22azTYvlZQFeXODh0NCXDcBWB4IgGOJCWUEURS5J6/VcYAmXy8Xc+dDHM7MEbTOALRf08cysOcajn1Eu8Pjw55GLlTcXAHbtxpsLrPVgXj9Ryih999xCUcA7RqkUZPKSyzsWkDVKkQulVtZS4gIP8JRbShyjsktFZqmUlcrd3/Wwr8TbApZza2GeSKVShryHrBAOh7XchKzlso4FVFXVkNOXpdze3l7mcZY0Nlaf1JuVXB5ciEQihnymLEAI0bjAOuaWJxdYx9alUilDrlZWoLlEWcfcjo2NGXKespI7PDxsyEPMAjQHNOs4S0VRSoYLhGTzyupzLrPC+Pg4Fy7QXMOsY255caGvr4+5XHMO+FKGFZZgYV7gNX3hdru57GvtcrkMKYpYgGfck9/vZy5XkqRpuWhZgBcXeMQzA1mO6bfaZAGesbG8uFBeXs6cC+Z8z6xAQ0lYg1f/9fl8Wto9lnJLyS6w7mMUPLaNBrJc4NF/fT4fczsmiiLKy8uZy+VlF4oBy7m1MC/wdGhKKeaWR5wljacC2Mfc8oj/KiUu0IVfAPsYOF6xgDxiY/VcYAlznlsW0Oc2ZQleMbe58tyyksujn/Hov4IgwOl0wul0Mm83Xlww57llJZcXF6yY25lR+u65haKAZ27TUooLLbW8saUol7VMXhwrRd2WSp7MUtIBwC/PbSnpwepnWZSSXJ56WGxYzq2FeYHGabE2XhMTE9zy3LLObUoI4ZInU1VV9PX1cctnyTqHIU8usI6NBbLx16w5RvPc7u9cmJycZB4zT/PchsNhZjIpRkdHucTcBoNBLnGWAwMD2vazrMCDCzTmdmhoiEueW15c4BFzy4sL/f39JWMXigErLMHCvCCKIvPpRyAb88Mjt6l+m0WWsNls3HKxso57EgSBS5tRLrCGJElcYm5tNhuXac1S4gLP/ss6JhTIppvjMVVqt9u5lZdX/y0lLvCQy6O9AD5c4NVmvGw5L7nFgOXcWpgXHA4H6urqmHcCn8/HpWPRfLSs48qqqqqYO0qSJKGhoQEA2zgth8OB2tpaLnJLhQs8Y+B4c4El7Ha7xgWW8Hq9zDcE4BVfKAgCl3zSkiRx6WeiKHLpZ5QLPOKkecTH8uYCwDbPbU1NDVOZVG59fT1zPdB3xL7g3FphCRYsWLBgwYIFCxb2GVjOrYV5IZ1OM88bC2T3pg+FQszlTk1NIRKJMM9zGw6HEYvFmMmkcoeHh5FOp5nKzWQyGBkZYbqHPPA2F1jLpVxgHb85NTWFcDjMPOY2HA4jGo0yk0nlDg8PM895nMlkMDo6yrzNYrEYxsfHueQ8npqaYiqT5jxm3WaKomB0dJR5PKSqqhgZGWEuN5PJYGxsjCkXCCGIx+PM1zkA2Vh8XlyYmppibhfGxsa4cYGHXRgbG9snYm4t59bCkkKprdLksTKc5y4xgiCUlI7397Ly3jGolPTLA6VUf1pWHlPGvOyY/n8espe6zFLEvqIHK+bWwrzAKzaHV8wtzUfLUrYoiqisrOQSZ1lfXw+AraGx2+1c4r94ccHr9XKJueWR23QxuMASei6whMfjQVlZGfN2K7WYWx79jMby8oi5rampKZmYW7/fX1Ixt9XV1UxlUrm1tbXM9cCDC8WC5dwWGaqiIJVOQc9RSbLB6XSAEBWpZArq3q9qQRAg7l2BKhWZfPovfZYdgdfoBM/ysnaaeX0585RbKlzgPQrKkwulInd/72e8ZPPuZzzlskQp9TOzbNYyeeiB5wzBYsJybouMt17+F354w88xEc/GVxKi4tD3nYKvXfo5xEb34Kqrv4fekTCo97us65343ne+jvoa9rsWzQXpdBqRSATV1dVM0x9Fo1FkMhlUVlYy7VxTU1NQFIXp7is0TsvhcBh2t1koaM7UiooKpim2MpkMJiYmUFlZybTNMpkMwuFwSXFBlmUEAgGmXIhEIrDZbNrIMAvoucByO1NZlhGJRFBZWck0/VE8HkcikWDeZhMTE9oOXSwRDodht9uZ9l9FURAKheDz+eByuZjJpVwIBAJM5fLgAo25TSQSqKioYGoXeHOBdf8NhULwer3MuTA2Nga/389UbiaT4WIXioHSLn2pg6h47dWNeHVLN8455+Nw2ASoqorOA7pgs0no2bUD//fcBnzknPNQ7nEChKCyoRVOB/vcn3MFj/3jqVwe+1rzLC8PuaIolkx5LR0YZbOWx2ufdx765VFeOjpVKvaGyuShW0mSSqZPUJmlZm94hDywBu/3ZKmP2gKWc1tUyKkEdu3YhoOPPh5fvfKrkAQC294vXFEAeru3o7ptFb7y9W/AZwckmw3iEiGdw+FAdXU1lzhLgL1B4CGX5t9kDX1uRJbQtxnrWF4eXKAxe6zbjOUonV5uKXHBbrejqqqKeZu53W643W7mbUbzVLMGrzarqqriIpfGb7IE5QJLZ0kQBI0LrEHzVLOEfiSYpX0sNS7YbDbmXCgWLOe2iEgk4ujpG0JZXRd+d+et6B2fwNpjT8BRhx8Gh6RgV3cPyso8ePKhe/FWdy/eteYonLD2KPh9npzyaLxMrjicXPt857uO/kb/Nv8GGA3ATM+cTVa+e/TGpdB7FvpslrJ4yFnIs83386gHPebNBWD6R0qptUe+e2aSVYr9jLVu52vDFlqPQttorrLmWybWXAAwo273Bbs3m3z9uaVWj0LqVgr9bDFhObdFRGwqgr49u9Dz5i5EggcgERnFb399L778ne/hk6evQ/eOrdj82nasF9KwyXH87rf34sxPfQ5Xfe0y+D3Tv4hTqRSee+45DA0NaV9eO3fuxMDAAB555JFpsUTzJT79P5PJaFv1serYsiyDEGLYdpWFQVUUBYQQ2Gy2vOWdj04ymQwEQZgWn7QQfRBCIMuyJpOVkVdVFZlMRtvKlNXLarG5oNfJTPJznaeGW1VVjQvz1a35Hpobcr5cyPU3kI2Ds9lsEEWRmW5VVYUsy4ZtbVlwgZduM5kMAEzbjnkhL13az0RRNIQRzFbeQuRnMhlIkmSY6mbhFKbT6UXhwnxl6X9TFIULF/S2fDYdFiofgMaFfFu1z1cfZo4tlAsU6XTasF09C90WwoWZ5OQ7/+KLL2p6XixYzm0R4XS5se7k07H66JNw6rFHQ07GcMP3v4k7b74JR7/7XTj0iKNxyOmfxqc+ejbsJIOHfns7rvrZr3HSSSfjA+87ZJq8VCqFJ598Em+88YZG+EgkgsHBQTz00EPTFifNtwObr2Xp0ORyXli8GChmkjMfnRTibM1VH5lMBq+88gpWr16N8vLyBb0YzL/rweqlq/9tMbhg/i2f/NnKrJez0BcDIQTbt2+H1+tFc3PznHWY7289WOtW32Zz1eFseqXlnWuZePWzfOe3bNkCv9+PpqamgstbKG/1emChW7MeWHEByDq4ei7MVxbvfiYIAnbu3AlRFNHR0TGrDudaTlpW1jYsn+z5cMEsm0c/08udi5x85wcHB9Ha2jpNH1xB9nOoqjrt71y/5bunUDm5jhVFIYoiG35/419/IwesWEX+8vS/iaIoBlmDu7eSow85iFx/2+8Kfv5LL71ETjvtNBIMBpnUQ1XVeemJtW5Z1CMXFrseuX4Lh8NkzZo1ZMOGDcyeXYx68Hp2MTmS755UKkWuuOIK8utf/3rezy5WPXg+e75lWox6KIpCvvjFL5I777xzTs8uZj14PbtU6qGqKrnqqqvIj370o4KePRf5i1mPhTx7KZZppvOqqpIHH3yQnH766SQSieQ8P58yzYbSjxouYex84xVce/2NGBwd134Lh8MQ7C6Q1BR+ct21eGP7bu1cYmoKCYXAX134ApNMJqNNFVooDdBpN9Zbo1rgB9pe+8K2lfsT6NS5hdKBoiiWbSwx0LCiXCPrvGCFJRQRogA8/MBvMDyVwhfP/wRSk2O44cZfoutda7CqswV33PA9vLC5Bz/6zpWwqSncfONPIJQ3YO3h7yj4GYtJJgsWLFgoNVg20oKFxQFZxLAEy7ktItoOOBhXXvq/+NHPb8H/PfJ7qJkUGjoPxA+uuAydXZ34+te/jm9edTU+fNaZEKHAG6jDN79zNTobawt+hiDwy5NpgR945bO0wAfEFL9qoTRgtVnpgVf+awv8QBfqLSYs57aIsDlcOPPcC3DIe4/Fzp274Cwrx6rVq1FbXQFRFHHk8SfjvlUHYut/t0GBDctXrUJLUwNEsfCO3dbWhvPPP5/5bi4W+MHr9eLSSy9FZ2dnsYtioUDY7XaceuqpXHJPWuCHM888E3V1dcUuhoU54KSTTlp0R8nCwvDud78bXq+XS97jfBDIYo4TL0GQea6AnOtKSpayeNwzFznA3Fd9si4TDx0Wox6LpcN9pR56/s0mf6nXI9c9xajHbGVayLPnW6alVo/5tlGp9DOgsD611OuxEJu+lOvBy6YvlX4GzD3rw2yw5qstWLBgwYIFCxYs7DOwnFsLFixYsGDBggUL+wws59aCBQsWLFiwYMHCPgPLubVgwYIFCxYsWLCwz8Bybi1YsGDBggULFizsM7CcWwsWLFiwYMGCBQv7DCzn1oIFCxYsWLBgwcI+A8u53cehqgqSyQQy1p73FiwwhyzLyMiylquRQlEUJBIJyLJSpJJZyAdVVZBOp6Hu1xneSwSEQJHlbF9SpvclVc32M+v9trSgKAqSySTS6UzRymDtULYPY7R/N371q9vw/MuvobaxA+d/5rM49r3vxtxSIVtYNBAVr/7rn7j/kb9B1X4U8d51J+PMU47HHDams7AIIEoGt99wLcpaDsR5Hz0TNkkCIQQD3dvxy5t/gY1vbkPnyoPx2c99FocedIDVfksARFXwzGN/whOv7cL/+/rXUO4UARA89djDePKfz0Pv7572sU9i7eGHQLLarSjIpFPY8M+ncM/vfo/dA4NoXb4a//M/n8b71rwLkihgZKAXt97yS7zw8utoal2BT1/4GbxvzSGQrI5WRBD8d9MruPvu3+KN/26Fr6oOp539EXz8jFPhctjQs+VV/Pr+hxBLprU7OlYdhgvO+zDcLgfTklgjt/soEpMhfPOKy/DIP17C0cccBzExiosv/jw27dwDYo1YLEnImTSefOIx/OGvf0c4HMb4+DjGxscRS6SsNltCIIQgEZvC7399G6760XXoCw5p7RMZ7sflF38OGzb34KSTTsLo7jdw2ZevwLbdA8UttAXImTSef+oxXPmNb+GVN/4LZW+jqakYHn3wd3jyuX9jPBTC2NgYRkfHkcoUb9TJAsGLTz2Kiy79MmKiGx88/VTEhnbh4os/j+de3YKp8Bi+/eUv4bHnNuL4E09CKtSPyy/7Mja+tbPYBd9vQQjB4I4t+PxnL8LLO3px3IknobHSjf/35S/h1398DLKiYsO/nsH9v/8jgsMjGBsbw9jYKGKxOMDh/WaN3O6j2PLKC3jxzd248Y57cOKRhyA0MoiLzvsEfnP/w7juG1+A3Wbtzb3UkErG0b1zGz50wRdw7Zcv1Ka6JUmCaH2GLhmMDw/ixmt/gKf+vRFOj+/tE0TFhueexht9EfzhL/fioK5l6DvjFHz2wgvxyJP/LxJBswAAIABJREFUxKrPf9KaNSkSMqkY7rn557jnwUeQVlUQXUuEIxHs6h/BZy65FJ8/96y9W32KECXRGm0vEpR0Ai9veBGr1hyPW2/6KSq8bpz7kTPx6U9+Ek89+Q+417TjmVe3467fP4T3HbIaY/0fxsUXXYjfP/wYDlt9qTV6WyS8vvFlyO4q3PaLn+PAjhYkYpMoJ2n8/sE/4rwzT8D2Hdtw2LpTcMtPfwS3Q4QgCBAEEZLE3h+xXpn7KN7c9DoCze045IAuiKKIQGUNjjnqCLy04UUkrDjAJYlEdBI7e4fRXOnCE3/9Cx5/4kn0Do4AEDDHbbUtcMT42CjitnLcfPudeNfKDu13OZXA5ldfQePqQ7G8vRmCIKCprR2HHHwANm18GbKiziDVAk9kYlMYGA3jyqt+gHM+eCJU8rZ7Gw2PIjwVA6Diicf+iieeehrDY2GIgmB9jBQJos2Jj134BVx/9TcR8LgAAB6PD15PGUAUbN+yCd6mDhy4cjkEQUB10zKsOewQvPXaRsRS1oh7sXDE8afgVzf/AqtamyAIAhwOJyr85VBVgnQ8il27+1FRUY6XXngWf3n0r9i2qwcQwOX9Zo3c7qMYG+qHv6IBDpsdACBKIlqb6zH+t42YSsooZxzfYmHhGB/oQd9QELff+BPYRYLJyUk0dqzCj6+/AUe/+6BiF8/CXnSuOgg/ue5gCCSN7Hxa1jJnMjIGgiE0NLXDZcuOG0h2JyqqavHm1iBSigq7ZI0nFAMufw2+/f0fQSQZ7PrXn6B3W/t27cKe3j7c9tNrIUFBZGIC7asPw223/BIH7P1IsbC4EEQJy9qyH46EEKiKgif/+jD+2zeK875yJN78632oqqlDmdux93o7KitqEZvchngqg3K39X5bbAiCgMqaOlTW1AHILvbbsfk1PPjok/jQZd9FJh7FnoF+9GzagReeeASJ2CQUmxfX/fyXOPOEo2FjPJtsWdp9FHImDUl0aIZZEAQ4XE6QTAZEtkaQliJkRcS7j3gffnjjL/Ha62/guaceR6WQwI9vvAnhqWSxi2dhL2w2CZIWJ/K240MAyAqBzWZ7+1dBhF2yIaMoWoynhcWHKEmw2bJjOWZXVXS5sPaEk3HT7Xdh46uv4enH/ozMwFv48S9/hXjSGgUsOoiKpx95AF+7+kf40IX/i7WHrkYyI0Oy2aD/VnTaJKiqClW1ZiaLDqJi+6ZXcNmll6HmkGNx0cfPgqCqWP2Og3Dld7+HFzf8B/958XmcdsRqXPXd76JnaJx5EayR230UZeV+JPdEtI6uqgQTkQnYy8pgc1jxtksRq99zNO67fy2A7MdIy4p34PxPnImrbvkDRkbHUOFrLnIJLcwESRTgK7NjKJ6Air0jB6qCWDIOt9MBu2CNJSxFHHncqThi3Sl74/8EdK1+Fz7x0Q/jnqdeQSSZhMcaBSwakvEp3Perm3H1T27CF7/7Q/zvpz4OO2T4yxxIJMKQFcAuAQDBZDIJyW6H3Wa5NcWEImfw7ON/xte++R2sPuZU3PCDq+D3ukE8Xbj5znu1fqa6GnDRJZ/DXz5yIXb39KKruZZpOSxru4+itW05wiP9mNqbckNRZGzdsRvLWtrgd1nO7ZKDquC/m17Bw395DIm9MWOCICCZTMPu9sBmtxe5gBZmg93lRNfKTvTt2oVoItuGyXgUg317UFvfCqfdMrdLES8/+3944h/PI5neO+JHgFQyCZfLDYe1krNoiE+E8YsffA8/vHU9fnjTXfjC/3wCbqcDksOJtpVdCA3uQXgiCgBQ0nEE+3ejum4ZvC5nkUu+/0JVZfxl/V249OtX46RzP48bf3g1qgNeAMDAnp148KE/Ynwy22aCAKSTSQg2G+wc2szqufsoDn73GqiRATz450cxHo7gzZdexKP/eAEfOOVUOKwv26UHQcSebZvxtSu/ikeefgZTU1Fsff1l3Pfnx3DoEUegvraq2CW0kBMENA+YKDnwrsOOQGT3m/jL35/GxMQEnn/67/j35t049ri1kKzYzSUBAmLYdGPrpg342hVfwT/+/RKmpiax+eUX8OAjj2PtccfB53YVsaT7L1RFxuN/XI9b1v8Rl3z5qzh0VSt279qJrVu3YmQ0hNXvPByYDOKhR/6KyMQEXnn+WfzfCxtxzHHr4LJbgzfFACEEb73yAr79g+vwvlPOxkdOPQEjwX5s3boNe/oGMTEcxA++dxXuvPdBjIcnMNzXg9tu+xVaDjgEKzpamJfH8nL2UbSsPBgXnvsR3Pzza/Hw7+7CVCSElgPfg4+fsk4XL2hhyUAQ8N7jP4Cznn0e373iUtzR2IDQ6DCq2w7A/37mAnhd9mm7YFkoPso8HricdNpawIGHH4lPf/Q0XPXVy3BHUz1GR0Zw5Eln4qT3HVHUclp4Gw5XGXxlb687+MCHzsUzL7yKK79wEWprqhEaG0Hj8sNx0ac+BqfDekUWA9GJcTz2+BNIppNY/6tf4L47BM3+fex/PoMvfe5TuPiCc/HTH3wbD91zK8KjI1j9nmNx1snHWZlligVC8OSjD2N8Mo5//f0RvPzM3/b+TLD6Pevw8x99G5/9xNm4/Zaf4K+//y3kZBRJ1Y7rfnYT6vxe5sURyH7+xszmNBQMf+f6Ld89hcphKavQe5KJGF7+z4t47Y0tqGpowwnrjkVddWDBzwYw7zKx0i0PHRajHubfYlMRbHjxRWzeshV1y9rwvqOPRlN9LURhYc9e7Hrw1CGAonHEcF5V8NqrG+GvbkB7SxNEUcxu8BCfwvP/ehZbtu5Ea9dqHPO+I1EVKC+ovMWoB08dzlu3nOpBVAV7urdjPKrg4IMOhH3v9mPhsWG8+Pzz2LG7F02tXTj22LWorihfcBuVSj8DCutTi1WPVDKON15/HZGpmFY2QggIAVraOrBieQfkVBz/fvEFvP7GFjS0dGLt2qNRX10BM4r5TuGhw6VYJkKyM1j/feM1DIyGtGsEQYCqqvBX1+HQd74DajqJ1za+jI2vvgGHx4e1647H8rZsRpL5vK9nguXcLlIHZimr2AYVsJzbUjOO/7+9+w6PolofOP6dbdn0TnolBAgEEEH0IoIKer0qAupFRCmKP4qKAhcrgiB4vXAVsUREEBBBQRQbNhARFWkivUmRkgIppG82uzPn90diJBACohju+n6eJw88U855z5mdmTcnZ2Y9pR2/5UZ8obejrn0aoh1niun31H2uMV1o7TjXY/S/cp7BhZXcnq/rXn3lX8jtOF/X9AvlPAN+c0xnIn+fFkIIIYQQHkOSWyGEEEII4TEkuRVCCCGEEB5DklshhBBCCOExJLkVQgghhBAeQ5JbIYQQQgjhMSS5FUIIIYQQHkOSWyGEEEII4TEkuRVCCCGEEB5DklshhBBCCOExJLkVQgghhBAeQ5JbIYQQQgjhMSS5FUIIIYQQHkOSWyGEEEII4TEsDR2AEEL8GZRSOJ0V5OfnUVhYTEBAEGFhoXjZvdAaOrjTUEqhaRquykqcLjd2uxcWs7nB4tF1NxWOChSApmG322vF46yooLCggILCQqx2b8LDw/H18T5jzJWVlTidTjSt6kj80m6lFAAWqxUvLy8MXcfhcGCzeWG1ns3tS+GsqCA/P5/jhUX4BQQRFhqCt92OyfTrUXe7KnFWuk6p22Q2Y7NasVjO7laplKKiwoHbrQMaVpsVu5fXWe0rhPjjSHIrhPB4lY5yVq9czpx589mwdRvlZQ68fX1pnt6W22+/g7937Yyv94WThJSXlrDm+zUkNm1JcnwUn7+/kOmLPmHs05O5JDWuweLat2UdIx9+jPxiJ/7h0UyZOo3WKbFUlJey5tuvmTtvPj9u2kpxaSlmmxcx8Qnc0ONm7rytN41CAk5b7ofvzGdaxkzchlGTWP7yr2EYdL7xFsaOHsmxfVsYOnwEtw57nAE3XY3ZdPpfS5wV5az5egVz5s5j3eatlJc78PbxpWl6G/r06cs/rrkKv+pjvuaLxTw5JYNypwEaVXUDfv4BtLyoHb1730b71i3qrQ/A6SjlmafG89mKbzCZzdzabxAjh9x1Tn0thDh3ktwKITya01HKvOnTmDT1ZQIaJXBTrz7ERYVxLOcIKz7/jPuH3MNd94/m8RGDsdsujEvid19+xr0jxvLK/IUkx0cRHhXNxW1aEejTsAl4eUkhW37cSMtO19GmVSv8vO1UlJcwN+MFnnr2BUJik7i+x83ERUXgKCtmzeqvmTx+DBs272D6c/8myM+7znKPZmWybccOunS9lqS46FrJrTIUzZKTMJvAUVbM5o0/cPnRvKrR49NwOkp5e2YGT05+Ht+wWG7qdRux0eHkH81kxRdf8MDQ/2Pj0FGMfehefLysFOVmsXXbNlp37EZ6ShxQVXf+sRyWLHidL79axazXX6d9i5R6+8dkNpOS2pTWR4+ydOkn/JyZde6dLYQ4d+ovzjCMU/5f17LT7XO25fyRZZ2PfX5LORdCTH9EO+rS0H17vur+I8tq6M/nb/qMGIZa/sEClRgXqXrceY/a83PmCat0lfnzXjW0/z9VYEi4mvfBcqXrunK73crlciu3263KSktUbm6ucjidp9RtGLpyu1yqsLBA5eXnq4oKp9J1vVYcLpdLuVxu5XCUqbyCAlXpcivDMJTb7VaO8jKVl5er8vLyVcUJ5eu6Wy2Y/YoKCo5Ry77dpNxut9J1t6p0uZT7hPKVMpTb7VLFhYUqNy9PlTscNet/KauqfpfSdbcqKS5SeXl5qsL5a5y/xFJcWKiOHctVpWXlyq3rp+3jTas+UYmRweqtZauUoZTSdV19+f5bKj66kbq+9wC170iW0k/Yt7QoX02d8Ijy8/VXC5aurFl3cvkvT5mkYuIS1NKvvqu1/uTjun391yoyxF9NnP62qnSfJk5dVyuXLlLJ8VHq+j4D1e4DR2p9HrIO7VPDB92u/AJC1Nz3PlduXVcfz/mviouNUjM/+KpW3a5Kp3p3ToaKCA9V9499Vhk1faurCodD5eXmqoLjharS5aq139F9W1TH9FQ1/ImJdbajrr6tb9n5Ps/+Kte9+so/l30a4h54Icb0e/vwXO/X9bkwhimEEOI8cJQWMm/OG1hD4hk35jGaJESfsFYjOqExjzw2ho0bNjLj1Ve5qevlfLl0MTszC7mibTNey5jOvswcmrVux3333kvL1GTM5qpRveKCY8x5bSafrVhJmdNNizbtuPvuu2mb3gyTplFScIyMl14gpnFrdv2wim8376LHbQMYfHt3li39kHfe/4hDR7LQTFZS0lpy/333kd48hQ1ffczcufMoLzvOlEnjODjwHpqGmHlv2bfcPex+WsRHoJSitLiAt+fN5qNPl1NQUk5S4yb07X8XV3e6DItJw1FewqzXZuAVGk+Ut4uZs9+koKScNu0vY8jQIaQ1TqCsuIB3FrzB4vc/pajMQWRsHD1vvY0e/7j2rKZpVJQW8vaC+WgB0YwfP47kmKiaebIAvgEh9Lv7//h+43ZKKyrQDQNTPfNv6xuNPVsVZUUsmDsPwy+S8eOeIDUx5teVmkZkbBIPPzqGdWvXM2PGDG7s2unX+k8KwGK1cdmVXYkNn8q+HZvQAZMy2LphNTNmvs72nXsxeXnTpn0Hhg4ZSuP4qOr5239ES4QQ50reliCE8Fi5WYfYtG0n7S+7gpT4mDq3iYhL5rqrrmD71o3szc5j0/q1ZDw/hYH3DCPHYdAqvTlfLFnAzb37sGHHXgAKc7O4d2Bfxk1+kcBGMbRMa8Z3yz7i1ltuYdX6rQA4S4tY+t5C/jXyAVZv3UeTxBg0s4mZUyfRb/AwsovLuajtxSTFRfLJ4nn06X8XP2fnU15STEFhIYahk5ebQ2FJGT/t3Mq7S5aQlV8MQHnJcUbd058Rj01E2fxpk57G7i1r6d2rJ3OWfIqhFJXOClZ88TljHxnJA49OIDQmkYSoMN6c+RJDHhjNoSPZvPyf8Tz4yAQCGsXSrl1bCrMPMmzQQDLmLzmr/j2aeZBV6zbRsctVtExJqHOb4KhEFi75kEE9r8FaT2KrASiFYejoeu0fdXLWWY/8nCP8sHU7F1/aiaYJsXVuExaTSPduXdix7Ud2H8k5KYjaSvJyKCl34B0Uhgn4afM6+vS9g29/3E2LNm1pHB/FO7MzuK3/II4cO376goQQfxoZuRVCeKzCo5nkFzuISU7C7lX35c5ms9GsRSrHX1tCTuZRzGYzx/OPc8fjE3l8+GDsNo27bruZf94xkNnzF9Fi7EiWvvMmn3y3g9lvv8t1nS/BYjaRfWAPQ+66i0lTnuOS+TNB0zChiG7aildnzSIpOpzy4uOMGv4+A4c/wpiR9xHk54Ohu1m64DX6jZjIrt37+PuNfRhRWMa9IyfyzNRX6HJpOm9On4qmmarmoeo6qz55j7c++ZrxU19hcN+bsdus5Gcf5sEhdzH5qQl0vfxvhNg0TBpg8SFj9nyu7tAGpdz89/ERTF+8jJ0//cSyFd9x7W33MPuFiZhNGoV5Obz8/HP4mHV04EzvZSjMOUSZSxGV1BTbCUMlpUX5HM7MwVDUJKZ2Hz8SE+JO++aE0uIiXn5uCh++HYFxwoNlic1act/guwnw9T27Y56TSX6Rg8uTk087h9pitZKWnkZRxjvkHM7BChi6m5zDB9m1c0dV3IZB3tEjzHhxGgUOg57dr8cE/LB+NQ7lwwsvzaBz26YoQ2ft8o+Z+9FKnM6Ks4pRCHF+SXIrhPBYLqcbXYGX1YpJO/1omslsQek6yjBQyiCqcQv63nITfj42ANp06EjXju3YsHEDWTnHWPXNagLCI3CV5LHsi8+BquQoOiaczzf/SFZeIYGAQpHerh2x0ZFYrSb8g8P478uvYigNw+XkyKE88nJz2b3vZ0yGC93twGy2YDaZ0TQNi8WK1WKpNQ7oclWwZuUKolLS+GfPG/D1tqNpGo1i4rlrYH8+GvAAO3bvomN6CqBo1rIN7Vo2r351loU2bVtjff9LSnUTCTGN+PCjRYwL96ZD+/a0bJHG8EfH4ePtc1Z/1nM5nRhKYTrpVVmbv/mUIaOfpLjcBUrhdrtofklnFs55FeWuxDAUmlY1DSAgILCq/wyd/Lw8zOg1D5QZhk5QVDyG8RuOeaUbQ4GXzcrpXm6gAZrZgtINlKED4Cgt4bknRzPjP/bqxNrA0A3s/oEMHfUIN17dEYCoyGgcxbn856kn2HXjdbRt1YYm7TvzfJfr8Pau+4E5IcSfS5JbIYTHCgwLJdBuISf7KJUuA7v11JTN7XaTffgwvkGBBIYEo5QiKjaakODAmm3MXr5EREdT+NMuSkrLOF5YQM7Bnxg1YvivEzU1DVdlBQRGcry0nEB71eLQAF+8qus1mTSOZR1izpw5rFm3kdy8fJxOJ2VlpbjPcp6mW1ccOJJLcFAEIb72muWayUxMbBwBFp3CktKa0rz8g7BYrTXbWW12NM2E2e7PvSNGc7hgHDNemsoMk5WIyCgu7XwVQ4YMpkPrFmfu3/BIbCaNouxMDAXm6mQyKe1i/vXQI1S6FYbu4o3np3G8sIj929YzdvzTFJVVoGlVbRn79GTQwC8wmIfGTaDb39r9+rYEw8Bitf2mpDEgLBR/bwvZmTlUug3s1lNHinVdJ/vgQbwD/QkMC8FxFGzePvy990A6pqfU9F1IaDjN0tJISkrEx6vqF532na/h/kH9mLPwXR79ejkBAcHEp6TSd8AA+t3aC39fSXCFaGiS3AohPFZYbBJNUxLZ+sMasvMKSIoKO2WbsuICVq5eT2JSMslxEYCisrISXddrtlGGG6fDgd1ux2qxYDJbaNahCy889SgmFFSPChuGgclqIzWmEZX5hwENk2aqecioKDebUfcOYdPBPK68qgvX3pRGapNUKjIPMOyhsb/Wx+kfSTJp4Ottw3Xcgds4YSulKC0txeFW2K3WmtFeTdNq4qtF02jVoRMLFr7D1i2bWfXN12zYsIGl77zJvoOZLH5zDhEh/vX3b3QiaQkRbPpxHVn5RcSFBwEQndyc/snNAXA6ylmzaCFbdPDyC6Blejqljsqa5DYkKIiDmoamadi9vAgICKj1KrATv9jhxP45ndCYRJo3SWb7xrVk5RaQHB1+yjaOkuN8+c33JCQm0yQhmi3bwWrzolO3fzDwhivqrdvuG8jIMU/Rq29/Nqxby7fff8+61d/zyIMPEBgczu3du9XbZ0KI808eKBNCeKyg0Ah6dr+e/ZvXMfutxZRXVFa9O7V6LqjTUcaSt99k5YZtdL+5N+GBPmiamcN797DvUGb1toqi3Bw2b9lO05QkGoUG0zg+nvysQ4THJfO3jh3p2LEjl17SDhsuisvK8Krr27MU7N/+I9+u38Kw0Y8xa/p0HnrwQW68tisVjkIqqJ1EUV139a41LFYrrS9qweGD+9i+91BNjK7KCtatXYPbO5jIiMh6H2nSTBpFuVk8N+Vpvtu0m85XdWPsk5NYtOgd7ut3Kwd2bSc3P//M/Rseyc0392T/5rXMXrAIh9NVE4+qfjistLiA/LIyDEMntnELpjw3jYyMDDIyXmHGq9O5rG06GKpqqkA9U0dO6c4T6jnxJzAknJ433cDhnRt5bd7bpxzzyopyPli4gGVrNtP95tuIDParKdM4iwfXln+4mGdfmE5YVAJ9+9/D9OmzePuNWTSyG+zauQPdkDclCNHQZORWCOG5TGZ69hvE+o0/8PxTj3Fo7x6GDuhHQnwUWYf3s3jBPGbMmU/bLjfw4D13YK4eQcw9sp+x48bx9PixxAX7Mu2Z8WzYk8l/R02iUaMwetx6C7MXLuGBEaOYMOZhYiNC+HrZx4wdN5HEtl24vGOnOsPx9vHDx2pm7eq1bL+yE8F2jeUfvMeTT09Fd7mpdFeNFvuYLViMcvYd2MMlrWt/cYDFaqPr9bcw+cXXeWj0v5gwbgyp8REs/3gJz0ybQZdretG6WWP08sLTdotSYMZgxdIPmbnoU3ymPU/L1AQO7d/Nmo1biEpoTEhI6Fl0r5Ved97Nuo2bmPLEQ+zdtoWBd/QhtUkyFWXFrFu9ijfmzeWrLTu4dfCDdSf952Dfzi0sXxYANaOrCjQzF7XrQERoIDf26c/6jT/w0tNPcGT/Pu67ewAJ8ZFkZ/7Me28tYPqsuaRffh0jB9+J9Sy/WvcX+ZkHeG7ysxwvczJkwO3YbbBi5UoKXSYaN2mK2SRjRkI0NEluhRAezT8onKenZtA49SVenbOA9+a9hoHCpJkIbRRN//tGM2r4MMKD/atHSw1C41IIs7q56Zorcbpc+AeHM2rsRG65tjMmzUTby6/lleef5eEJk+jWpRMKsFhstL/iap6d8gz+3jacGli97Jgt1XM+NY3GrdoxeFB/Xnx9PpcveROTyUxodBx97x7M4gXz2Hc4m0rdIC29OY3jw3lg0B18uvJ+brooCpuXFyaTBmgkp1/MzOkZjHp8DD2u64phgM1up/M13Xl28iR8bGaKy8Fq9cJisdbqD5PZjNViISgijgkTn2LYg6PpdUM3UFXrGqddxNOTxxEV4ndKX9YlMDSSKS++Qnrr15gxey49F71RM3pps9lJbdWaF19/g769uuNts9ZZhtliweZlPfPIrWbC29ub92a/xPtzM05aZ2PWux/Qo0sH/ALDmDD5BZIaZzB99jy6LZhVc8xDwiK5fcgIHh4xvOqYAyaTBZuX11klpt3vHMTmXXuZO/05Zjz/76p22v3od+8oel7T5bQPsQkh/jya+i0vEPRAJ8+rqmuu1ckX3DMtq6ucP7Ks87HPbykHaPCYzkcfNkQ7/qw+9JR2nPj5O1P5J693u10czc5ix44d5BYcJyQ0jKapacTERGKzWmpieurRB5nz+UYWz5uJI/cwh3MLaNn6IpokJdZsB+B2u8g6cpgtWzdTXFZJbFwiLdKaERIUgFb9cNm+vT/hGxRObPSv0wQqykvZunUT+w8cxsc/mLQWLYmJDGPvT3vwCwwlLiYK0Nm/eycbN20jMimV5smx5OQWkJicTIBP1UNkhq6Tk32IrVu2cbzEQXxSCi2bN8Xf3xeUQtfd/HzgAIbZi+SEeCzVT3sVF+bx86Fs4pNTCPC2kXs0m01bNpGfX0xoeBTprdKJCA/GfNIru5RSbPn2M3r8sy//nvcBvbt2qjVy6na5yM/LZfee3WRlH8VitZMQn0RySiJBgQGYqkfF6zpGuUezyczOJSk5mcAAv9N+RirKS9nz096a5Ll2ORpJKakE+fvUxOSqrOTYsRy2b9tObsFxgkPCaJranJiYSOzVD4gBFOblcDDzKDEJyYQG+tX7+VRK4SgvZc/uXezdtx8DKylNmtK8WUpNmbkHttKrx61c3KMf0yY8fsGfZ3B259SF3o7fc02/kNtxvq7pF8p9GfjNMZ2JjNwKIf4SrFYbsfGJxMYnAqdeaGtRCm8/f9q27HrS4l+3M5stxCcmE5eQVOdF2Gqz0ywtvWrZCWXYffxod0lH2neovU/L9FYn7G8ipXk6TdJa1ezXKCKyVv0ms5no2CSiYhJr1w/VI8lWUpqknnJjCAgKIz0wtGZZRHQs10bH1t8fJ/WBo6yUoqJifH19sVrMgIbZYiUiKoZGkdG16jv5JlaX8IgowhpFnvEG5u3rT+s2F51S9snxVdGwWG3ExCYQE5tQ7z6BoRG0Dos8Y9t/4ePrT5u27Wl9UbuT2mpQXlZOUXEZbkOvpwQhxPkkk4OEEKIWDc2kyReo1kEBGIr/jHmE3v0Gse1AdkOHdEFxOsqYMulJ+g4axp4jufI9ZUI0EBm5FUKIE1x6xZWYwxsTGnB2c07/ShrFJjJg8FDKKtzY/UMJOuE9u6JqNL9Js+Z0qlRccWU3Ov3t0oYOSYi/JJlz+yfNK/ojy/qz59HU9efKho7pfPRhQ7Sjoeae/a+24+T5WfWVf6G3o659GqIdZ4rp99R9rjFdaO0412P0v3KOW4GLAAAAjUlEQVSegcy5vZDbcb6u6RfKeQZ//Jzbv3xyK4QQQgghPIfMuRVCCCGEEB5DklshhBBCCOExJLkVQgghhBAeQ5JbIYQQQgjhMSS5FUIIIYQQHkOSWyGEEEII4TEkuRVCCCGEEB5DklshhBBCCOExJLkVQgghhBAeQ5JbIYQQQgjhMSS5FUIIIYQQHuP/AXEd8SKTkfiqAAAAAElFTkSuQmCC)"
      ]
    },
    {
      "cell_type": "markdown",
      "metadata": {
        "id": "CFc0_wRS4oov"
      },
      "source": [
        "## Facial Recognition\n",
        "\n",
        "One application of large CNNs is facial recognition. The problem forumulation in facial recognition is a little different from the image classification we've seen so far. In image recognition we don't want to have a fixed number of individuals that the model can learn. If that were the case then to learn a new person it would be necessary to modify the output portion of the architecture and retrain to account for the new person. \n",
        "\n",
        "Instead, we train a model to learn an embedding where images from the same individual are close to each other embedded space, and images corresponding to different people are far apart. To achieve this, facial recognitions typically use a triplet loss that compares and two images from the same individual (the \"anchor\" and \"positive\" images) and a negative image from a different individual (the \"negative\" image). The loss requires the distance between the anchor and negative points to be greater than a margin $\\alpha$ + the distance between the anchor and positive points.\n",
        "\n",
        "In this section we'll load a pretrained facial recognition model called [FaceNet](https://github.com/timesler/facenet-pytorch), then use it to demonstrate how it differentiates between individuals."
      ]
    },
    {
      "cell_type": "code",
      "metadata": {
        "cellView": "form",
        "id": "Yag0L7hO7GN0"
      },
      "source": [
        "# @title Download Data\n",
        "!git clone --quiet https://github.com/ben-heil/cis_522_data.git\n",
        "!tar -xzf cis_522_data/archive.tar.gz\n",
        "!tar -xzf cis_522_data/faces.tar.gz"
      ],
      "execution_count": null,
      "outputs": []
    },
    {
      "cell_type": "code",
      "metadata": {
        "cellView": "form",
        "id": "Vjxv6xT46aAe"
      },
      "source": [
        "# @title Display Images \n",
        "# @markdown Here are the source images of Bruce Lee, Neil Patrick Harris, and Pam Grier\n",
        "train_transform = transforms.Compose((transforms.Resize((256, 256)),\n",
        "                                     transforms.ToTensor()))    \n",
        "\n",
        "face_dataset = ImageFolder('faces', transform=train_transform)\n",
        "\n",
        "image_count = len(face_dataset) \n",
        "\n",
        "face_loader = torch.utils.data.DataLoader(face_dataset,\n",
        "                                          batch_size=45,\n",
        "                                          shuffle=False)\n",
        "\n",
        "dataiter = iter(face_loader)\n",
        "images, labels = dataiter.next()\n",
        "\n",
        "# show images\n",
        "plt.figure(figsize=(15,15))\n",
        "plt.imshow(make_grid(images, nrow=15).permute(1,2,0))"
      ],
      "execution_count": null,
      "outputs": []
    },
    {
      "cell_type": "code",
      "metadata": {
        "id": "Iqb29ME68Nk6"
      },
      "source": [
        "# Load network\n",
        "resnet = InceptionResnetV1(pretrained='vggface2').eval()"
      ],
      "execution_count": null,
      "outputs": []
    },
    {
      "cell_type": "code",
      "metadata": {
        "cellView": "form",
        "id": "m8DAf9cbKba4"
      },
      "source": [
        "# @title Image Preprocessing Function\n",
        "def process_images(image_dir: str):\n",
        "    \"\"\"\n",
        "    This function returns two tensors for the given image dir: one usable for inputting into the \n",
        "    facenet model, and one that is [0,1] scaled for visualizing\n",
        "\n",
        "    Parameters:\n",
        "        image_dir: The glob corresponding to images in a directory\n",
        "\n",
        "    Returns:\n",
        "        model_tensor: A image_count x channels x height x width tensor scaled to between -1 and 1,\n",
        "                      with the faces detected and cropped to the center using mtcnn\n",
        "        display_tensor: A transformed version of the model tensor scaled to between 0 and 1\n",
        "    \"\"\"\n",
        "    mtcnn = MTCNN(image_size=256, margin=32)\n",
        "    images = []\n",
        "    for img_path in glob.glob(image_dir):\n",
        "        img = Image.open(img_path)\n",
        "        # Normalize and crop image\n",
        "        img_cropped = mtcnn(img)\n",
        "        images.append(img_cropped)\n",
        "\n",
        "    model_tensor = torch.stack(images)\n",
        "    display_tensor = model_tensor / (model_tensor.max() * 2)\n",
        "    display_tensor += .5\n",
        "\n",
        "    return model_tensor, display_tensor"
      ],
      "execution_count": null,
      "outputs": []
    },
    {
      "cell_type": "markdown",
      "metadata": {
        "id": "F4u16dAuniUt"
      },
      "source": [
        "Now that we have our images loaded, we need to preprocess them. To make the images easier for the network to learn, we crop them to include just faces."
      ]
    },
    {
      "cell_type": "code",
      "metadata": {
        "id": "DqQjyTf5IGnW"
      },
      "source": [
        "bruce_tensor, bruce_display = process_images('faces/bruce/*.jpg')\n",
        "neil_tensor, neil_display = process_images('faces/neil/*.jpg')\n",
        "pam_tensor, pam_display = process_images('faces/pam/*.jpg')\n",
        "\n",
        "\n",
        "display_tensor = torch.cat((bruce_display, neil_display, pam_display))\n",
        "\n",
        "plt.figure(figsize=(15,15))\n",
        "plt.imshow(make_grid(display_tensor, nrow=15).permute(1, 2,0,))"
      ],
      "execution_count": null,
      "outputs": []
    },
    {
      "cell_type": "markdown",
      "metadata": {
        "id": "fDkksaMVomiV"
      },
      "source": [
        "## Embedding the Images\n",
        "We can now take the pictures and feed them into FaceNet to see where they are embedded relative to each other."
      ]
    },
    {
      "cell_type": "code",
      "metadata": {
        "id": "VuEb9nbgH85B"
      },
      "source": [
        "# Calculate embedding (unsqueeze to add batch dimension)\n",
        "resnet.classify = False\n",
        "bruce_embeddings = resnet(bruce_tensor)\n",
        "neil_embeddings = resnet(neil_tensor)\n",
        "pam_embeddings = resnet(pam_tensor)"
      ],
      "execution_count": null,
      "outputs": []
    },
    {
      "cell_type": "markdown",
      "metadata": {
        "id": "x16peSq_uBZd"
      },
      "source": [
        "We run PCA on the embedding to reduce the number of dimensions to 2 for easier plotting. Be aware that the true embeddings are more than 2-dimensional."
      ]
    },
    {
      "cell_type": "code",
      "metadata": {
        "id": "4TcSc37PUBhA"
      },
      "source": [
        "embedding_tensor = torch.cat((bruce_embeddings, neil_embeddings, pam_embeddings))\n",
        "pca = sklearn.decomposition.PCA(n_components=2)\n",
        "pca_tensor = pca.fit_transform(embedding_tensor.detach().numpy())\n",
        "\n",
        "labels = ['Bruce Lee'] * 15 + ['Neil Patrick Hariss'] * 15 + ['Pam Grier']* 15\n",
        "colors = ['green'] * 15 + ['orange'] * 15 + ['purple'] * 15"
      ],
      "execution_count": null,
      "outputs": []
    },
    {
      "cell_type": "code",
      "metadata": {
        "id": "sFKhHpZkUeo-"
      },
      "source": [
        "plt.scatter(pca_tensor[:,0], pca_tensor[:,1], c=colors)\n",
        "green_patch = mpatches.Patch(color='green', label='Bruce Lee')\n",
        "orange_patch = mpatches.Patch(color='orange', label='Neil Patrick Harris')\n",
        "purple_patch = mpatches.Patch(color='purple', label='Pam Grier')\n",
        "\n",
        "plt.title('PCA Representation of the Image Embeddings')\n",
        "plt.legend(handles=[green_patch, orange_patch, purple_patch])"
      ],
      "execution_count": null,
      "outputs": []
    },
    {
      "cell_type": "markdown",
      "metadata": {
        "id": "vgraLhUuuQGd"
      },
      "source": [
        "Great! The images corresponding to each individual are separated from each other in the embedding space!"
      ]
    },
    {
      "cell_type": "markdown",
      "metadata": {
        "id": "fd4tfaokudg1"
      },
      "source": [
        "### Exercise 5\n",
        "PCA gives a rough idea the distances between each point, but we can be more precise. In this exercise you'll calculate the pairwise distance between each image's embedding."
      ]
    },
    {
      "cell_type": "code",
      "metadata": {
        "id": "wkXvwITcvrma"
      },
      "source": [
        "def calculate_pairwise_distances(embedding_tensor: torch.tensor):\n",
        "    \"\"\"\n",
        "    This function calculates the pairwise distance between each image embedding in a tensor\n",
        "\n",
        "    Parameters:\n",
        "        embedding_tensor: A num_images x embedding_dimension tensor\n",
        "\n",
        "    Returns:\n",
        "        distances: A num_images x num_images tensor containing the pairwise distances between each \n",
        "                   image embedding\n",
        "\n",
        "    Hint: the function torch.cdist makes this exercise a one-liner, though there are several ways to\n",
        "          calculate pairwise distances\n",
        "    \"\"\"\n",
        "    ####################################################################\n",
        "    # Fill in all missing code below (...),\n",
        "    # then remove or comment the line below to test your function\n",
        "    raise NotImplementedError(\"Implement the pairwise distance function\")\n",
        "    #################################################################### \n",
        "    distances = ...\n",
        "\n",
        "    return distances\n",
        "\n",
        "### Uncomment below to test your function\n",
        "# distances = calculate_pairwise_distances(embedding_tensor)\n",
        "\n",
        "# plt.figure(figsize=(8,8))\n",
        "# plt.imshow(distances.detach().numpy())\n",
        "# plt.annotate('Bruce', (3,-.5), fontsize=24, va='bottom')\n",
        "# plt.annotate('Neil', (20,-.5), fontsize=24, va='bottom')\n",
        "# plt.annotate('Pam', (35,-.5), fontsize=24, va='bottom')\n",
        "# plt.annotate('Bruce', (-.5,10), fontsize=24, rotation=90, ha='right')\n",
        "# plt.annotate('Neil', (-.5,24), fontsize=24, rotation=90, ha='right')\n",
        "# plt.annotate('Pam', (-.5,39), fontsize=24, rotation=90, ha='right')\n",
        "# plt.colorbar()\n",
        "# plt.axis('off')"
      ],
      "execution_count": null,
      "outputs": []
    },
    {
      "cell_type": "markdown",
      "metadata": {
        "id": "mHbxcUJumcMX"
      },
      "source": [
        "[*Click for solution*](https://github.com/CIS-522/course-content/blob/main/tutorials/W7_Vision_TL/solutions/W7_Tutorial_Solution_Ex05.py)\n",
        "\n",
        "*Example output:*  \n",
        "\n",
        "<img alt='Solution hint 5' align='left' width=416 height=416 src=https://raw.githubusercontent.com/CIS-522/course-content/main/tutorials/W7_Vision_TL/static/W7_Tutorial_Solution_Ex05.png />"
      ]
    },
    {
      "cell_type": "markdown",
      "metadata": {
        "id": "h8ZJx8Ig0pJP"
      },
      "source": [
        "As you can see, FaceNet is working! It separates images from different individuals, and keeps images from the same individual together. "
      ]
    },
    {
      "cell_type": "markdown",
      "metadata": {
        "id": "cw_E96U-3bTZ"
      },
      "source": [
        "## Facial Recognition Ethics\n",
        "Popular facial recognition datasets like VGGFace2 and CASIA-WebFace consist primarily of caucasian faces. \n",
        "As a result, even state of the art facial recognition models [substantially underperform](https://openaccess.thecvf.com/content_ICCV_2019/papers/Wang_Racial_Faces_in_the_Wild_Reducing_Racial_Bias_by_Information_ICCV_2019_paper.pdf) when attempting to recognize faces of other races.\n",
        "\n",
        "Given the implications that poor model performance can have in fields like security and criminal justice, it's very important to be aware of these limitations if you're going to be building facial recognition systems."
      ]
    },
    {
      "cell_type": "markdown",
      "metadata": {
        "id": "ROWqHGymvUro"
      },
      "source": [
        "---\n",
        "# Section 6:Transfer Learning and Domain Adaptation\n",
        "*Estimated Time Elapsed: 110 minutes*\n",
        "\n",
        "\n"
      ]
    },
    {
      "cell_type": "code",
      "metadata": {
        "cellView": "form",
        "id": "ScnAYB7fEHCX"
      },
      "source": [
        "#@title Video: Domain Adaptation\n",
        "from IPython.display import YouTubeVideo\n",
        "video = YouTubeVideo(id=\"t4ZK2mhfIn8\", width=854, height=480, fs=1)\n",
        "print(\"Video available at https://youtube.com/watch?v=\" + video.id)\n",
        "\n",
        "video"
      ],
      "execution_count": null,
      "outputs": []
    },
    {
      "cell_type": "markdown",
      "metadata": {
        "id": "Gyu1d2Vu4urq"
      },
      "source": [
        "The most common way large image models are trained in practice is via a type of transfer learning called \"fine-tuning\". Fine-tuning involves a network pretrained on a large dataset like ImageNet, then retraining that network on your task of choice. \n",
        "\n",
        "While training a network twice sounds like a strange thing to do, the model ends up training faster on the target domain. There are also other benefits such as [robustness to noise](https://arxiv.org/pdf/1901.09960.pdf) that are the subject of [active research](https://arxiv.org/abs/2008.11687).\n",
        "\n",
        "In this section we will demonstrate fine-tuning by taking a model trained on imagenet and teaching it to classify Pokemon."
      ]
    },
    {
      "cell_type": "markdown",
      "metadata": {
        "id": "2J0mGTjMMO3E"
      },
      "source": [
        "## Download and prepare the data"
      ]
    },
    {
      "cell_type": "code",
      "metadata": {
        "id": "iAQTBhfpGizm"
      },
      "source": [
        "# This dataset is downloaded in the facial recognition section\n",
        "!ls small_pokemon_dataset/"
      ],
      "execution_count": null,
      "outputs": []
    },
    {
      "cell_type": "code",
      "metadata": {
        "id": "x5mYOJzWH6SL",
        "cellView": "form"
      },
      "source": [
        "# @title Display Example Images \n",
        "train_transform = transforms.Compose((transforms.Resize((256, 256)),\n",
        "                                     transforms.ToTensor()))    \n",
        "\n",
        "pokemon_dataset = ImageFolder('small_pokemon_dataset', transform=train_transform)\n",
        "\n",
        "image_count = len(pokemon_dataset) \n",
        "train_indices = []\n",
        "test_indices = []\n",
        "for i in range(image_count):\n",
        "    # Put ten percent of the images in the test set\n",
        "    if random.random() < .1:\n",
        "        test_indices.append(i)\n",
        "    else:\n",
        "        train_indices.append(i)\n",
        "\n",
        "pokemon_test_set = torch.utils.data.Subset(pokemon_dataset, test_indices)  \n",
        "pokemon_train_set = torch.utils.data.Subset(pokemon_dataset, train_indices)  \n",
        "\n",
        "pokemon_train_loader = torch.utils.data.DataLoader(pokemon_train_set,\n",
        "                                                   batch_size=16,\n",
        "                                                   shuffle=True,)\n",
        "pokemon_test_loader = torch.utils.data.DataLoader(pokemon_test_set,\n",
        "                                                  batch_size=16)\n",
        "\n",
        "dataiter = iter(pokemon_train_loader)\n",
        "images, labels = dataiter.next()\n",
        "\n",
        "# show images\n",
        "plt.imshow(make_grid(images, nrow=4).permute(1,2,0))"
      ],
      "execution_count": null,
      "outputs": []
    },
    {
      "cell_type": "markdown",
      "metadata": {
        "id": "0LyZoi80OL-i"
      },
      "source": [
        "## Pretrained Resnet\n",
        "\n",
        "It is common in computer vision to take a large model trained on a large dataset (often ImageNet) and fine-tune it to perform a different task. In this case we're using a pre-trained ResNet model to classify types of Pokemon."
      ]
    },
    {
      "cell_type": "code",
      "metadata": {
        "id": "A1yYP4_TMogp"
      },
      "source": [
        "resnet = torchvision.models.resnet18(pretrained=True).to(device)\n",
        "optimizer = torch.optim.Adam(resnet.parameters(), lr=1e-4)\n",
        "loss_fn = nn.CrossEntropyLoss()"
      ],
      "execution_count": null,
      "outputs": []
    },
    {
      "cell_type": "code",
      "metadata": {
        "id": "B3_0LkquL2PV"
      },
      "source": [
        "pretrained_accs = []\n",
        "for epoch in range(10):\n",
        "    # Train loop\n",
        "    for batch in pokemon_train_loader:\n",
        "        images, labels = batch\n",
        "        images = images.to(device)\n",
        "        labels = labels.to(device)\n",
        "        \n",
        "        optimizer.zero_grad()\n",
        "        output = resnet(images)\n",
        "        loss = loss_fn(output, labels)\n",
        "        loss.backward()\n",
        "        optimizer.step()\n",
        "\n",
        "    # Eval loop\n",
        "    with torch.no_grad():\n",
        "        loss_sum = 0\n",
        "        total_correct = 0\n",
        "        total = len(pokemon_test_set)\n",
        "        for batch in pokemon_test_loader:\n",
        "            images, labels = batch\n",
        "            images = images.to(device)\n",
        "            labels = labels.to(device)\n",
        "            output = resnet(images)\n",
        "            loss = loss_fn(output, labels)\n",
        "            loss_sum += loss.item()\n",
        "\n",
        "            predictions = torch.argmax(output, dim=1)\n",
        "            \n",
        "            num_correct = torch.sum(predictions == labels)\n",
        "            total_correct += num_correct\n",
        "\n",
        "        # Plot accuracy\n",
        "        pretrained_accs.append(total_correct / total)\n",
        "        plt.plot(pretrained_accs)\n",
        "        plt.xlabel('epoch')\n",
        "        plt.ylabel('accuracy')\n",
        "        plt.title('Pokemon prediction accuracy')\n",
        "        display.clear_output(wait=True)\n",
        "        display.display(plt.gcf())"
      ],
      "execution_count": null,
      "outputs": []
    },
    {
      "cell_type": "markdown",
      "metadata": {
        "id": "uRjh0LVEOPG_"
      },
      "source": [
        "## Randomly initialized ResNet"
      ]
    },
    {
      "cell_type": "code",
      "metadata": {
        "id": "n37ElLOOOJkV"
      },
      "source": [
        "resnet = torchvision.models.resnet18(pretrained=False).to(device)\n",
        "\n",
        "optimizer = torch.optim.Adam(resnet.parameters(), lr=1e-4)\n",
        "\n",
        "loss_fn = nn.CrossEntropyLoss()"
      ],
      "execution_count": null,
      "outputs": []
    },
    {
      "cell_type": "code",
      "metadata": {
        "id": "NESEA-reOJkX"
      },
      "source": [
        "scratch_accs = []\n",
        "for epoch in range(10):\n",
        "    # Train loop\n",
        "    for batch in pokemon_train_loader:\n",
        "        images, labels = batch\n",
        "        images = images.to(device)\n",
        "        labels = labels.to(device)\n",
        "\n",
        "        optimizer.zero_grad()\n",
        "        output = resnet(images)\n",
        "        loss = loss_fn(output, labels)\n",
        "        loss.backward()\n",
        "        optimizer.step()\n",
        "\n",
        "    # Eval loop\n",
        "    with torch.no_grad():\n",
        "        loss_sum = 0\n",
        "        total_correct = 0\n",
        "        total = len(pokemon_test_set)\n",
        "        for batch in pokemon_test_loader:\n",
        "            images, labels = batch\n",
        "            images = images.to(device)\n",
        "            labels = labels.to(device)\n",
        "            output = resnet(images)\n",
        "            loss = loss_fn(output, labels)\n",
        "            loss_sum += loss.item()\n",
        "\n",
        "            predictions = torch.argmax(output, dim=1)\n",
        "            \n",
        "            num_correct = torch.sum(predictions == labels)\n",
        "            total_correct += num_correct\n",
        "\n",
        "        scratch_accs.append(total_correct / total)\n",
        "        plt.plot(scratch_accs)\n",
        "        plt.xlabel('epoch')\n",
        "        plt.ylabel('accuracy')\n",
        "        plt.title('Pokemon prediction accuracy')\n",
        "        \n",
        "        display.clear_output(wait=True)\n",
        "        display.display(plt.gcf())"
      ],
      "execution_count": null,
      "outputs": []
    },
    {
      "cell_type": "markdown",
      "metadata": {
        "id": "77nZqUDvZizN"
      },
      "source": [
        "## Head to Head Comparison\n",
        "Starting from a randomly initialized network works less well, especially in the case of small datsets. Note that the model converges more slowly and less evenly"
      ]
    },
    {
      "cell_type": "code",
      "metadata": {
        "id": "clJzmyy5X1ob"
      },
      "source": [
        "plt.plot(scratch_accs, label='From Scratch')\n",
        "plt.plot(pretrained_accs, label='Pretrained')\n",
        "plt.title('Pokemon prediction accuracy')\n",
        "plt.legend()\n",
        "plt.show()\n"
      ],
      "execution_count": null,
      "outputs": []
    },
    {
      "cell_type": "code",
      "metadata": {
        "id": "FkDvxkGmJuZL",
        "cellView": "form"
      },
      "source": [
        "#@title ## Exercise 6\n",
        "#@markdown Why might pretrained models outperform models trained from scratch? In what cases would you expect them to be worse?\n",
        "\n",
        "when_pretraining_works = '' #@param {type:\"string\"}\n",
        "\n",
        "t5 = time.time()"
      ],
      "execution_count": null,
      "outputs": []
    },
    {
      "cell_type": "markdown",
      "metadata": {
        "id": "qsl1gmu8nClF"
      },
      "source": [
        "[*Click for the answer*](https://github.com/CIS-522/course-content/blob/main/tutorials/W7_Vision_TL/solutions/W7_Tutorial_Solution_Ex06.md)"
      ]
    },
    {
      "cell_type": "markdown",
      "metadata": {
        "id": "GTDXJkly-oDx"
      },
      "source": [
        "### Further Reading\n",
        "Supervised pretraining as you've seen here is useful, but there are several other ways of using outside data to improve your models. The ones that are particularly popular right now are [contrastive learning](https://arxiv.org/pdf/2002.05709.pdf) techniques that learn features from unsupervised image data and all sorts of methods of masking input for training [transformer models](https://arxiv.org/pdf/1810.04805.pdf).\n",
        "\n",
        "There is also a [recent paper](https://arxiv.org/abs/2102.01293) that seeks to quantify the relationship between model size, pretraining dataset size, training dataset size, and performance."
      ]
    },
    {
      "cell_type": "markdown",
      "metadata": {
        "id": "zZ70aYrkvYjS"
      },
      "source": [
        "---\n",
        "# Section 7: Lifelong Learning\n",
        "*Estimated Time Elapsed: 130 minutes*"
      ]
    },
    {
      "cell_type": "code",
      "metadata": {
        "cellView": "form",
        "id": "lYDhFj_5ERAY"
      },
      "source": [
        "#@title Video: Continual Learning\n",
        "from IPython.display import YouTubeVideo\n",
        "video = YouTubeVideo(id=\"50prJUXLOPw\", width=854, height=480, fs=1)\n",
        "print(\"Video available at https://youtube.com/watch?v=\" + video.id)\n",
        "\n",
        "video"
      ],
      "execution_count": null,
      "outputs": []
    },
    {
      "cell_type": "markdown",
      "metadata": {
        "id": "SY8BpZ57PtoS"
      },
      "source": [
        "Pretraining is great, but how does fine-tuning affect the model's ability to do the original task?\n",
        "For humans, learning one thing doesn't cause you to forget another, but what about DL models? \n",
        "Let's try it out."
      ]
    },
    {
      "cell_type": "markdown",
      "metadata": {
        "id": "GL_Zvy3iRP25"
      },
      "source": [
        "## Model setup"
      ]
    },
    {
      "cell_type": "markdown",
      "metadata": {
        "id": "6VfQxy65n5K8"
      },
      "source": [
        "In this section we use different classifier heads (fully connected layers) for the different tasks. One head looks at image features produced by the resnet and tries to determine which ImageNet class they correspond to, while the other looks at the features and determines which Pokemon they correspond to.\n",
        "\n",
        "We can switch these heads out at will based on which task we are attempting. This method is more frequently used in [multi-task learning](https://ruder.io/multi-task/), but is useful here as well."
      ]
    },
    {
      "cell_type": "code",
      "metadata": {
        "id": "X42TGrqcQO92"
      },
      "source": [
        "resnet = torchvision.models.resnet18(pretrained=True).to(device)\n",
        "\n",
        "imagenet_classifier_head = resnet.fc\n",
        "pokemon_classifier_head = nn.Linear(in_features=512, out_features=9).to(device)\n",
        "\n",
        "pokemon_parameters = list(resnet.parameters()) + list(pokemon_classifier_head.parameters())\n",
        "pokemon_optimizer = torch.optim.Adam(pokemon_parameters, lr=1e-4)\n",
        "\n",
        "imagenette_optimizer = torch.optim.Adam(resnet.parameters(), lr=1e-4)\n",
        "\n",
        "loss_fn = nn.CrossEntropyLoss()"
      ],
      "execution_count": null,
      "outputs": []
    },
    {
      "cell_type": "markdown",
      "metadata": {
        "id": "UIubpQBh8uZo"
      },
      "source": [
        "### Training on Imagenette\n",
        "To ensure that our model performs well at predicting our Imagenette classes, we train it on Imagenette."
      ]
    },
    {
      "cell_type": "code",
      "metadata": {
        "id": "gyDO-fUr_AAu"
      },
      "source": [
        "top_1_accs = []\n",
        "top_5_accs = []\n",
        "\n",
        "for epoch in tqdm.notebook.tqdm(range(5)):\n",
        "    # Set model to use the imagenette classifier head\n",
        "    \n",
        "    resnet.train()\n",
        "    # Train on a batch of images\n",
        "    for imagenette_batch in imagenette_train_loader:\n",
        "        images, labels = imagenette_batch\n",
        "\n",
        "        # Convert labels from imagenette indices to imagenet labels\n",
        "        for i, label in enumerate(labels):\n",
        "            labels[i] = dir_index_to_imagenet_label[label.item()]\n",
        "\n",
        "        images = images.to(device)\n",
        "        labels = labels.to(device)\n",
        "        output = resnet(images)\n",
        "        imagenette_optimizer.zero_grad()\n",
        "        loss = loss_fn(output, labels)\n",
        "        loss.backward()\n",
        "        imagenette_optimizer.step()\n",
        "\n",
        "    resnet.eval()\n",
        "    top_1_acc, top_5_acc = eval_imagenette(resnet, imagenette_val_loader, len(imagenette_val))\n",
        "    top_1_accs.append(top_1_acc.item())\n",
        "    top_5_accs.append(top_5_acc.item())\n",
        "\n",
        "    plt.plot(top_1_accs, label='Top-1 Accuracy')\n",
        "    plt.plot(top_5_accs, label='Top-5 Accuracy')\n",
        "    plt.xlabel('epoch')\n",
        "    plt.ylabel('accuracy')\n",
        "    plt.legend()\n",
        "    plt.title('Imagenette Prediction Accuracy')\n",
        "    display.clear_output(wait=True)\n",
        "    display.display(plt.gcf())\n",
        "    plt.clf()"
      ],
      "execution_count": null,
      "outputs": []
    },
    {
      "cell_type": "markdown",
      "metadata": {
        "id": "XW9eeY-S9AhP"
      },
      "source": [
        "## Training on Pokemon images"
      ]
    },
    {
      "cell_type": "code",
      "metadata": {
        "id": "iiEyzdII9gJ8",
        "cellView": "form"
      },
      "source": [
        "#@title ## Exercise 7\n",
        "#@markdown Now we've trained our model and we know it works well on Imagenette. What do you expect to happen as we train the model on a different dataset? \n",
        "model_transfer = '' #@param {type:\"string\"}\n",
        "\n",
        "t6 = time.time()"
      ],
      "execution_count": null,
      "outputs": []
    },
    {
      "cell_type": "markdown",
      "metadata": {
        "id": "7pbDH-b-nJqR"
      },
      "source": [
        "[*Click for the answer*](https://github.com/CIS-522/course-content/blob/main/tutorials/W7_Vision_TL/solutions/W7_Tutorial_Solution_Ex07.md)"
      ]
    },
    {
      "cell_type": "code",
      "metadata": {
        "id": "MB9uZRTHNtdU",
        "cellView": "form"
      },
      "source": [
        "# @title Retraining the Network on Pokemon\n",
        "\n",
        "pokemon_accs = []\n",
        "imagenette_top_1 = []\n",
        "imagenette_top_5 = []\n",
        "\n",
        "for epoch in range(5):\n",
        "    # Train loop\n",
        "    resnet.fc = pokemon_classifier_head\n",
        "    resnet.train()\n",
        "    for batch in pokemon_train_loader:\n",
        "        images, labels = batch\n",
        "        images = images.to(device)\n",
        "        labels = labels.to(device)\n",
        "\n",
        "        output = resnet(images)\n",
        "\n",
        "        pokemon_optimizer.zero_grad()\n",
        "\n",
        "        loss = loss_fn(output, labels)\n",
        "        loss.backward()\n",
        "        pokemon_optimizer.step()\n",
        "\n",
        "    # Eval model on pokemon \n",
        "    resnet.eval()\n",
        "    with torch.no_grad():\n",
        "        loss_sum = 0\n",
        "        total_correct = 0\n",
        "        total = len(pokemon_test_set)\n",
        "        for batch in pokemon_test_loader:\n",
        "            images, labels = batch\n",
        "            images = images.to(device)\n",
        "            labels = labels.to(device)\n",
        "            output = resnet(images)\n",
        "            loss = loss_fn(output, labels)\n",
        "            loss_sum += loss.item()\n",
        "\n",
        "            predictions = torch.argmax(output, dim=1)\n",
        "            \n",
        "            num_correct = torch.sum(predictions == labels)\n",
        "            total_correct += num_correct\n",
        "        pokemon_accs.append(total_correct / total)\n",
        "    \n",
        "    # Eval model on imagenette\n",
        "    resnet.fc = imagenet_classifier_head.to(device)\n",
        "    top_1, top_5 = eval_imagenette(resnet, imagenette_val_loader, len(imagenette_val))\n",
        "    imagenette_top_1.append(top_1.item())\n",
        "    imagenette_top_5.append(top_5.item())\n",
        "\n",
        "    trained_top_1 = [top_1_accs[-1]] * len(imagenette_top_1)\n",
        "    plt.figure(figsize=(6,6))\n",
        "    plt.plot(pokemon_accs, label='Pokemon Prediction Accuracy')\n",
        "    plt.plot(imagenette_top_1, label='Imagenette Top-1 Accuracy')\n",
        "    plt.plot(imagenette_top_5, label='Imagenette Top-5 Accuracy')\n",
        "    plt.plot(trained_top_1, '--', label='Imagenette T-1 Accuracy Before Start')\n",
        "    plt.xlabel('epoch')\n",
        "    plt.ylabel('accuracy')\n",
        "    plt.legend()\n",
        "    plt.title('Forgetting Imagenette by Learning Pokemon')\n",
        "    \n",
        "    display.clear_output(wait=True)\n",
        "    display.display(plt.gcf())\n",
        "    plt.clf()"
      ],
      "execution_count": null,
      "outputs": []
    },
    {
      "cell_type": "markdown",
      "metadata": {
        "id": "ZGIdkNMK9pLk"
      },
      "source": [
        "Our network is now less accurate in predicting imagenette classes! This phenomenon is known as catastrophic forgetting."
      ]
    },
    {
      "cell_type": "markdown",
      "metadata": {
        "id": "tAhlHwbxEk8A"
      },
      "source": [
        "---\n",
        "# Section 7.5: Wrap Up"
      ]
    },
    {
      "cell_type": "code",
      "metadata": {
        "cellView": "form",
        "id": "ywMS2G-pEq4o"
      },
      "source": [
        "#@title Video: Week 7 Wrap Up\n",
        "from IPython.display import YouTubeVideo\n",
        "video = YouTubeVideo(id=\"YJPKCrV7Tkk\", width=854, height=480, fs=1)\n",
        "print(\"Video available at https://youtube.com/watch?v=\" + video.id)\n",
        "\n",
        "video"
      ],
      "execution_count": null,
      "outputs": []
    },
    {
      "cell_type": "markdown",
      "metadata": {
        "id": "EREwBG43va3l"
      },
      "source": [
        "# Section 8 (Time Permitting): Preventing Catastrophic Forgetting\n",
        "*Estimated Time Elapsed: 140 minutes*"
      ]
    },
    {
      "cell_type": "markdown",
      "metadata": {
        "id": "EWFPG5mu-EbA"
      },
      "source": [
        "In this exercise we'll implement a simple but effective method of preventing catastrophic forgetting known as replay. In replay, instead of only training on our task of interest, we also go back and train on previous tasks so they aren't forgotten."
      ]
    },
    {
      "cell_type": "code",
      "metadata": {
        "id": "4alveMzSm1OS"
      },
      "source": [
        "# Prep model\n",
        "resnet = torchvision.models.resnet18(pretrained=True).to(device)\n",
        "\n",
        "imagenette_classifier_head = resnet.fc\n",
        "pokemon_classifier_head = nn.Linear(in_features=512, out_features=9).to(device)\n",
        "\n",
        "pokemon_parameters = list(resnet.parameters()) + list(pokemon_classifier_head.parameters())\n",
        "pokemon_optimizer = torch.optim.Adam(pokemon_parameters, lr=1e-4)\n",
        "\n",
        "imagenette_optimizer = torch.optim.Adam(resnet.parameters(), lr=1e-4)\n",
        "\n",
        "loss_fn = nn.CrossEntropyLoss()"
      ],
      "execution_count": null,
      "outputs": []
    },
    {
      "cell_type": "code",
      "metadata": {
        "id": "PkkpfDTozLh_"
      },
      "source": [
        "def eval_pokemon(model, pokemon_test_loader, total_images):\n",
        "    with torch.no_grad():\n",
        "        total_correct = 0\n",
        "        total = 0\n",
        "        for batch in pokemon_test_loader:\n",
        "            images, labels = batch\n",
        "            images = images.to(device)\n",
        "            labels = labels.to(device)\n",
        "            output = model(images)\n",
        "\n",
        "            predictions = torch.argmax(output, dim=1)\n",
        "            \n",
        "            num_correct = torch.sum(predictions == labels)\n",
        "            total += labels.shape[0]\n",
        "            total_correct += num_correct\n",
        "\n",
        "        print(total, total_images, total_correct)\n",
        "\n",
        "        return total_correct / total_images\n",
        "\n",
        "def train_one_epoch_pokemon(model, loader, optimizer, loss_fn):\n",
        "    for batch in tqdm.notebook.tqdm(pokemon_train_loader):\n",
        "        images, labels = batch\n",
        "        images = images.to(device)\n",
        "        labels = labels.to(device)\n",
        "        output = model(images)\n",
        "        optimizer.zero_grad()\n",
        "        loss = loss_fn(output, labels)\n",
        "        loss.backward()\n",
        "        optimizer.step()\n",
        "\n",
        "def train_one_epoch_imagenette(model, loader, optimizer, loss_fn):\n",
        "    for batch in tqdm.notebook.tqdm(loader):\n",
        "        images, labels = batch\n",
        "\n",
        "        # Convert labels from imagenette indices to imagenet labels\n",
        "        for i, label in enumerate(labels):\n",
        "            # dir_index_to_imagenet_label comes from a few sections ago.\n",
        "            # In good programming practice it would be passed as a parameter, but\n",
        "            # that would be more confusing than helpful. If this line throws an error,\n",
        "            # just use run all above\n",
        "            labels[i] = dir_index_to_imagenet_label[label.item()]\n",
        "\n",
        "        images = images.to(device)\n",
        "        labels = labels.to(device)\n",
        "        output = resnet(images)\n",
        "        imagenette_optimizer.zero_grad()\n",
        "        loss = loss_fn(output, labels)\n",
        "        loss.backward()\n",
        "        imagenette_optimizer.step()"
      ],
      "execution_count": null,
      "outputs": []
    },
    {
      "cell_type": "markdown",
      "metadata": {
        "id": "3HxKJ5NI7nB4"
      },
      "source": [
        "### Exercise 8"
      ]
    },
    {
      "cell_type": "code",
      "metadata": {
        "id": "fU3Gpgd19mWu"
      },
      "source": [
        "def train_one_epoch_with_replay(model: nn.Module,\n",
        "                                pokemon_train_loader: torch.utils.data.DataLoader,\n",
        "                                imagenette_train_loader: torch.utils.data.DataLoader,\n",
        "                                pokemon_classifier_head: nn.Module,\n",
        "                                imagenette_classifier_head: nn.Module,\n",
        "                                pokemon_optimizer: torch.optim.Optimizer,\n",
        "                                imagenette_optimizer: torch.optim.Optimizer\n",
        "                                ):\n",
        "    \"\"\"\n",
        "    Write the code required to train for one epoch on both the pokemon and imagenette datasets.\n",
        "    This is called \"replay\" because you continue training on old data. In practice replay would be\n",
        "    done less often that every epoch, but alternating epochs of pokemon and imagenette training\n",
        "    works for our purposes.\n",
        "\n",
        "    Tips: The `train_one_epoch_pokemon` and `train_one_epoch_imagenette` functions will be useful \n",
        "          here.\n",
        "          Don't forget to use `model.fc = pokemon_classifier_head` or `imagenette_classifier_head`\n",
        "          before training on their respective datasets.\n",
        "\n",
        "    Parameters:\n",
        "        model: The model to train\n",
        "        pokemon_train_loader: The DataLoader with pokemon data to be used in training\n",
        "        imagenette_train_loader: The DataLoader with image data to be used in training\n",
        "        pokemon_classifier_head: The fully connected layer used for predicting which pokemon is \n",
        "                                 present in an image\n",
        "        imagenette_classifier_head: The fully connected layer used to predict which imagenette\n",
        "                                    class is present in an image\n",
        "        pokemon_optimizer: The optimizer used to update the weights of the resnet and pokemon \n",
        "                           classifier head\n",
        "        imagenette_optimizer: The optimizer used to update the weights of the resnet and imagenette\n",
        "                              classifier head\n",
        "    \n",
        "    Returns:\n",
        "        None\n",
        "    \"\"\"\n",
        "\n",
        "    ####################################################################\n",
        "    # Fill in all missing code below (...),\n",
        "    # then remove or comment the line below to test your function\n",
        "    raise NotImplementedError(\"Implement the train_one_epoch_with_replay function\")\n",
        "    #################################################################### \n",
        "\n",
        "    model.fc = ...\n",
        "    model.train()\n",
        "\n",
        "    ...\n",
        "\n",
        "    # Set model to use the imagenette classifier head\n",
        "    model.fc = ...\n",
        "    model.train()\n",
        "\n",
        "    ...\n",
        "\n",
        "\n",
        "### Uncomment below to test your function\n",
        "# top_1_accs = []\n",
        "# top_5_accs = []\n",
        "# pokemon_accs = []\n",
        "\n",
        "# for epoch in range(5):\n",
        "#     # Set model to use the pokemon classification output layer\n",
        "    \n",
        "#     train_one_epoch_with_replay(resnet, pokemon_train_loader, imagenette_train_loader, \n",
        "#                                 pokemon_classifier_head, imagenette_classifier_head, \n",
        "#                                 pokemon_optimizer, imagenette_optimizer)\n",
        "\n",
        "#     resnet.eval()\n",
        "#     top_1, top_5 = eval_imagenette(resnet, imagenette_val_loader, len(imagenette_val))\n",
        "#     top_1_accs.append(top_1.item())\n",
        "#     top_5_accs.append(top_5.item())\n",
        "\n",
        "#     # Evaluate model on pokemon \n",
        "#     resnet.eval()\n",
        "#     resnet.fc = pokemon_classifier_head\n",
        "#     pokemon_acc = eval_pokemon(resnet, pokemon_test_loader, len(pokemon_test_set))\n",
        "#     pokemon_accs.append(pokemon_acc)\n",
        "    \n",
        "#     plt.plot(top_1_accs, label='Top-1 Accuracy')\n",
        "#     plt.plot(top_5_accs, label='Top-5 Accuracy')\n",
        "#     plt.plot(pokemon_accs, label='Pokemon Prediction Accuracy')\n",
        "#     plt.xlabel('epoch')\n",
        "#     plt.ylabel('accuracy')\n",
        "#     plt.legend()\n",
        "#     plt.title('Preventing Catastrophic Forgetting')\n",
        "#     display.clear_output(wait=True)\n",
        "#     display.display(plt.gcf())\n",
        "#     plt.clf()\n",
        "    "
      ],
      "execution_count": null,
      "outputs": []
    },
    {
      "cell_type": "markdown",
      "metadata": {
        "id": "TKn-SqatnjOS"
      },
      "source": [
        "[*Click for solution*](https://github.com/CIS-522/course-content/blob/main/tutorials/W7_Vision_TL/solutions/W7_Tutorial_Solution_Ex08.py)\n",
        "\n",
        "*Example output:*  \n",
        "\n",
        "<img alt='Solution hint 8' align='left' width=416 height=416 src=https://raw.githubusercontent.com/CIS-522/course-content/main/tutorials/W7_Vision_TL/static/W7_Tutorial_Solution_Ex08.png />\n"
      ]
    },
    {
      "cell_type": "markdown",
      "metadata": {
        "id": "ENDv6kJNvfUt"
      },
      "source": [
        "---\n",
        "# Response Form"
      ]
    },
    {
      "cell_type": "code",
      "metadata": {
        "id": "VySnMd0POirw",
        "cellView": "form"
      },
      "source": [
        "import time\n",
        "import numpy as np\n",
        "import urllib.parse\n",
        "from IPython.display import IFrame\n",
        "\n",
        "t7 = time.time()\n",
        "\n",
        "#@markdown #Run Cell to Show Airtable Form\n",
        "#@markdown ##**Confirm your answers and then click \"Submit\"**\n",
        "\n",
        "\n",
        "def prefill_form(src, fields: dict):\n",
        "  '''\n",
        "  src: the original src url to embed the form\n",
        "  fields: a dictionary of field:value pairs,\n",
        "  e.g. {\"pennkey\": my_pennkey, \"location\": my_location}\n",
        "  '''\n",
        "  prefill_fields = {}\n",
        "  for key in fields:\n",
        "      new_key = 'prefill_' + key\n",
        "      prefill_fields[new_key] = fields[key]\n",
        "  prefills = urllib.parse.urlencode(prefill_fields)\n",
        "  src = src + prefills\n",
        "  return src\n",
        "\n",
        "\n",
        "#autofill time if it is not present\n",
        "try: t0;\n",
        "except NameError: t0 = time.time()\n",
        "try: t1;\n",
        "except NameError: t1 = time.time()\n",
        "try: t2;\n",
        "except NameError: t2 = time.time()\n",
        "try: t3;\n",
        "except NameError: t3 = time.time()\n",
        "try: t4;\n",
        "except NameError: t4 = time.time()\n",
        "try: t5;\n",
        "except NameError: t5 = time.time()\n",
        "try: t6;\n",
        "except NameError: t6 = time.time()\n",
        "try: t7;\n",
        "except NameError: t7 = time.time()\n",
        "\n",
        "#autofill fields if they are not present\n",
        "#a missing pennkey and pod will result in an Airtable warning\n",
        "#which is easily fixed user-side.\n",
        "try: my_pennkey;\n",
        "except NameError: my_pennkey = \"\"\n",
        "\n",
        "try: my_pod;\n",
        "except NameError: my_pod = \"Select\"\n",
        "\n",
        "try: parameter_efficiency;\n",
        "except NameError: parameter_efficiency = \"\"\n",
        "\n",
        "try: filter_response;\n",
        "except NameError: filter_response = \"\"\n",
        "\n",
        "try: filter_roles;\n",
        "except NameError: filter_roles = \"\"\n",
        "\n",
        "try: layer_importance;\n",
        "except NameError: layer_importance = \"\"\n",
        "\n",
        "try: when_pretraining_works;\n",
        "except NameError: when_pretraining_works = \"\"\n",
        "\n",
        "try: model_transfer;\n",
        "except NameError: model_transfer = \"\"\n",
        "\n",
        "\n",
        "times = np.array([t1,t2,t3,t4,t5,t6,t7])-t0\n",
        "\n",
        "fields = {\"pennkey\": my_pennkey,\n",
        "          \"pod\": my_pod,\n",
        "          \"parameter_efficiency\":parameter_efficiency,\n",
        "          \"filter_response\": filter_response,\n",
        "          \"filter_roles\":filter_roles,\n",
        "          \"layer_importance\": layer_importance,\n",
        "          \"when_pretraining_works\": when_pretraining_works,\n",
        "          \"model_transfer\": model_transfer,\n",
        "          \"cumulative_times\": times}\n",
        "\n",
        "src = \"https://airtable.com/embed/shrG83qaDeu4ugzUT?\"\n",
        "\n",
        "\n",
        "#now instead of the original source url, we do: src = prefill_form(src, fields)\n",
        "display.display(IFrame(src = prefill_form(src, fields), width = 800, height = 400))"
      ],
      "execution_count": null,
      "outputs": []
    },
    {
      "cell_type": "markdown",
      "metadata": {
        "id": "HKn5d3CCC05w"
      },
      "source": [
        "## Feedback\n",
        "How could this session have been better? How happy are you in your group? How do you feel right now?\n",
        "\n",
        "Feel free to use the embeded form below or use this link:\n",
        "<a target=\"_blank\" rel=\"noopener noreferrer\" href=\"https://airtable.com/shrNSJ5ECXhNhsYss\">https://airtable.com/shrNSJ5ECXhNhsYss</a>"
      ]
    },
    {
      "cell_type": "code",
      "metadata": {
        "id": "HIvhG6VZ8zez"
      },
      "source": [
        "display.display(IFrame(src=\"https://airtable.com/embed/shrNSJ5ECXhNhsYss?backgroundColor=red\", width = 800, height = 400))"
      ],
      "execution_count": null,
      "outputs": []
    }
  ]
}