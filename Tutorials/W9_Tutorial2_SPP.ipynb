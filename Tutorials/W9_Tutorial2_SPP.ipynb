{
  "nbformat": 4,
  "nbformat_minor": 0,
  "metadata": {
    "colab": {
      "name": "W9_Tutorial2_SPP.ipynb",
      "provenance": [],
      "collapsed_sections": [],
      "toc_visible": true,
      "include_colab_link": true
    },
    "kernelspec": {
      "display_name": "Python 3",
      "name": "python3"
    },
    "accelerator": "GPU"
  },
  "cells": [
    {
      "cell_type": "markdown",
      "metadata": {
        "id": "view-in-github",
        "colab_type": "text"
      },
      "source": [
        "<a href=\"https://colab.research.google.com/github/spatank/CIS-522/blob/main/Tutorials/W9_Tutorial2_SPP.ipynb\" target=\"_parent\"><img src=\"https://colab.research.google.com/assets/colab-badge.svg\" alt=\"Open In Colab\"/></a>"
      ]
    },
    {
      "cell_type": "markdown",
      "metadata": {
        "id": "V0jMtXo2lrqU"
      },
      "source": [
        "# CIS-522 Week 9 Part 2\n",
        "# Introduction to Long-Short-Term-Memory Networks (LSTNs) and their applications\n",
        "\n",
        "__Instructor__: Lyle Ungar\n",
        "\n",
        "__Content creators:__ Anushree Hede, Pooja Consul\n",
        "\n",
        "---"
      ]
    },
    {
      "cell_type": "code",
      "metadata": {
        "cellView": "form",
        "id": "a5NQBmTeSs5S"
      },
      "source": [
        "#@markdown What is your Pennkey and pod? (text, not numbers, e.g. bfranklin)\n",
        "my_pennkey = '' #@param {type:\"string\"}\n",
        "my_pod = 'Select' #@param ['Select', 'euclidean-wombat', 'sublime-newt', 'buoyant-unicorn', 'lackadaisical-manatee','indelible-stingray','superfluous-lyrebird','discreet-reindeer','quizzical-goldfish','astute-jellyfish','ubiquitous-cheetah','nonchalant-crocodile','fashionable-lemur','spiffy-eagle','electric-emu','quotidian-lion']\n"
      ],
      "execution_count": null,
      "outputs": []
    },
    {
      "cell_type": "code",
      "metadata": {
        "cellView": "form",
        "id": "8K-Gq7zu1mJw"
      },
      "source": [
        "# @title Week 9 Slides\n",
        "from IPython.display import HTML\n",
        "HTML('<iframe src=\"https://docs.google.com/presentation/d/1TAE6fukLA_Pc6lAZgEOgt-fvg9p2uvEveM-PQVf6D7g/embed?start=false&loop=false&delayms=3000\" frameborder=\"0\" width=\"960\" height=\"569\" allowfullscreen=\"true\" mozallowfullscreen=\"true\" webkitallowfullscreen=\"true\"></iframe>')"
      ],
      "execution_count": null,
      "outputs": []
    },
    {
      "cell_type": "markdown",
      "metadata": {
        "id": "UfitwfVdTERX"
      },
      "source": [
        "---\n",
        "# Setup"
      ]
    },
    {
      "cell_type": "code",
      "metadata": {
        "id": "UR8y41zOT4jz"
      },
      "source": [
        "# imports\n",
        "\n",
        "!pip install --upgrade gensim\n",
        "!pip install torchtext==0.4.0\n",
        "!pip install unidecode\n",
        "!pip install d2l\n",
        "\n",
        "import re\n",
        "import os\n",
        "import sys\n",
        "import math\n",
        "import time\n",
        "import nltk\n",
        "import torch\n",
        "import random\n",
        "import string\n",
        "import unidecode\n",
        "import collections\n",
        "\n",
        "import numpy as np\n",
        "import pandas as pd\n",
        "import torch.nn as nn\n",
        "import matplotlib.cm as cm\n",
        "import matplotlib.pyplot as plt\n",
        "import matplotlib.ticker as ticker\n",
        "\n",
        "\n",
        "from gensim.models import Word2Vec\n",
        "from nltk.corpus import brown\n",
        "from sklearn.manifold import TSNE\n",
        "from torch.autograd import Variable\n",
        "from torchtext import data, datasets\n",
        "from torchtext.vocab import Vectors\n",
        "\n",
        "from IPython.display import Image, YouTubeVideo\n",
        "from torch.nn import functional as F\n",
        "from d2l import torch as d2l\n",
        "\n",
        "nltk.download('punkt')\n",
        "nltk.download('averaged_perceptron_tagger')\n",
        "nltk.download('brown')\n",
        "nltk.download('webtext')\n",
        "\n",
        "device = torch.device('cuda' if torch.cuda.is_available() else 'cpu')"
      ],
      "execution_count": null,
      "outputs": []
    },
    {
      "cell_type": "code",
      "metadata": {
        "id": "3ZEdeLHKe-05",
        "cellView": "form"
      },
      "source": [
        "#@title Seeds\n",
        "seed = 522\n",
        "random.seed(seed)\n",
        "torch.manual_seed(seed)\n",
        "torch.cuda.manual_seed_all(seed)\n",
        "torch.cuda.manual_seed(seed)\n",
        "np.random.seed(seed)\n",
        "torch.backends.cudnn.deterministic = True\n",
        "torch.backends.cudnn.benchmark = False\n",
        "def seed_worker(worker_id):\n",
        "    worker_seed = torch.initial_seed() % 2**32\n",
        "    np.random.seed(worker_seed)\n",
        "    random.seed(worker_seed)"
      ],
      "execution_count": null,
      "outputs": []
    },
    {
      "cell_type": "code",
      "metadata": {
        "id": "2nk8O0txk01r",
        "cellView": "form"
      },
      "source": [
        "# @title Figure Settings\n",
        "import ipywidgets as widgets\n",
        "%matplotlib inline \n",
        "fig_w, fig_h = (8, 6)\n",
        "plt.rcParams.update({'figure.figsize': (fig_w, fig_h)})\n",
        "%config InlineBackend.figure_format = 'retina'\n",
        "SMALL_SIZE = 12\n",
        "\n",
        "\n",
        "plt.style.use(\"https://raw.githubusercontent.com/NeuromatchAcademy/\"\n",
        "              \"course-content/master/nma.mplstyle\")\n",
        "\n",
        "# plt.rcParams.update(plt.rcParamsDefault)\n",
        "# plt.rc('font', size=SMALL_SIZE)          # controls default text sizes\n",
        "# plt.rc('axes', titlesize=SMALL_SIZE)     # fontsize of the axes title\n",
        "# plt.rc('axes', labelsize=SMALL_SIZE)    # fontsize of the x and y labels\n",
        "# plt.rc('xtick', labelsize=SMALL_SIZE)    # fontsize of the tick labels\n",
        "# plt.rc('ytick', labelsize=SMALL_SIZE)    # fontsize of the tick labels\n",
        "# plt.rc('legend', fontsize=SMALL_SIZE)    # legend fontsize\n",
        "# plt.rc('figure', titlesize=SMALL_SIZE)  # fontsize of the figure title"
      ],
      "execution_count": null,
      "outputs": []
    },
    {
      "cell_type": "code",
      "metadata": {
        "id": "MljsVg8gp1qr",
        "cellView": "form"
      },
      "source": [
        "#@title Necessary code from Tutorial 1\n",
        "#@markdown (Running this will take a while)\n",
        "batch_size = 32 \n",
        "\n",
        "def tokenize(x):\n",
        "    x = x.split()\n",
        "    for i in range(len(x)):\n",
        "        x[i] = x[i].lower().replace('\\n', '')\n",
        "        x[i] = re.sub(r'[^a-z0-9]+', ' ', x[i])\n",
        "        x[i] = re.sub(r'https?:/\\/\\S+', ' ', x[i])\n",
        "        x[i] = x[i].strip()\n",
        "    return x\n",
        "\n",
        "def load_dataset(sentence_length = 50):\n",
        "    TEXT = data.Field(sequential=True, tokenize=tokenize, lower=True,\n",
        "                      include_lengths=True, batch_first=True, fix_length=sentence_length)\n",
        "    LABEL = data.LabelField(dtype=torch.float)\n",
        "\n",
        "    train_data, test_data = datasets.IMDB.splits(TEXT, LABEL)\n",
        "\n",
        "    # If no specific vector embeddings are specified,\n",
        "    # Torchtext initializes random vector embeddings\n",
        "    # which would get updated during training through backpropagation.\n",
        "    TEXT.build_vocab(train_data)\n",
        "    LABEL.build_vocab(train_data)\n",
        "\n",
        "    train_data, valid_data = train_data.split(split_ratio=0.7, random_state = random.seed(seed))\n",
        "    train_iter, valid_iter, test_iter = data.BucketIterator.splits((train_data, valid_data, test_data),\n",
        "                                                                   batch_size=batch_size, sort_key=lambda x: len(x.text),\n",
        "                                                                   repeat=False, shuffle=True)\n",
        "    vocab_size = len(TEXT.vocab)\n",
        "\n",
        "    return TEXT, vocab_size, train_iter, valid_iter, test_iter\n",
        "\n",
        "\n",
        "def train(model, device, train_iter, valid_iter, epochs, learning_rate):\n",
        "    criterion = nn.CrossEntropyLoss()\n",
        "    optimizer = torch.optim.Adam(model.parameters(), lr=learning_rate)\n",
        "    \n",
        "    train_loss, validation_loss = [], []\n",
        "    train_acc, validation_acc = [], []\n",
        "\n",
        "    for epoch in range(epochs):\n",
        "      #train\n",
        "      model.train()\n",
        "      running_loss = 0.\n",
        "      correct, total = 0, 0 \n",
        "      steps = 0\n",
        "\n",
        "      for idx, batch in enumerate(train_iter):\n",
        "        text = batch.text[0]\n",
        "        # print(type(text), text.shape)\n",
        "        target = batch.label\n",
        "        target = torch.autograd.Variable(target).long()\n",
        "        text, target = text.to(device), target.to(device)\n",
        "\n",
        "        # add micro for coding training loop\n",
        "        optimizer.zero_grad()\n",
        "        output = model(text)\n",
        " \n",
        "        loss = criterion(output, target)\n",
        "        loss.backward()\n",
        "        optimizer.step()\n",
        "        steps += 1\n",
        "        running_loss += loss.item()\n",
        "\n",
        "        # get accuracy \n",
        "        _, predicted = torch.max(output, 1)\n",
        "        total += target.size(0)\n",
        "        correct += (predicted == target).sum().item()\n",
        "        \n",
        "        # if steps % 100 == 0:\n",
        "        #     print (f'Epoch: {epoch+1}, Idx: {idx+1}, Training Loss: {loss.item():.4f}, Training Accuracy: {100*(predicted == target).sum().item()/len(batch): .2f}%')\n",
        "\n",
        "      train_loss.append(running_loss/len(train_iter))\n",
        "      train_acc.append(correct/total)\n",
        "\n",
        "      print(f'Epoch: {epoch + 1},  Training Loss: {running_loss/len(train_iter):.4f}, Training Accuracy: {100*correct/total: .2f}%')\n",
        "\n",
        "      # evaluate on validation data\n",
        "      model.eval()\n",
        "      running_loss = 0.\n",
        "      correct, total = 0, 0 \n",
        "\n",
        "      with torch.no_grad():\n",
        "        for idx, batch in enumerate(valid_iter):\n",
        "            text = batch.text[0]\n",
        "            target = batch.label\n",
        "            target = torch.autograd.Variable(target).long()\n",
        "            text, target = text.to(device), target.to(device)\n",
        "\n",
        "            optimizer.zero_grad()\n",
        "            output = model(text)\n",
        "    \n",
        "            loss = criterion(output, target)\n",
        "            running_loss += loss.item()\n",
        "\n",
        "            # get accuracy \n",
        "            _, predicted = torch.max(output, 1)\n",
        "            total += target.size(0)\n",
        "            correct += (predicted == target).sum().item()\n",
        "\n",
        "      validation_loss.append(running_loss/len(valid_iter))\n",
        "      validation_acc.append(correct/total)\n",
        "\n",
        "      print (f'Validation Loss: {running_loss/len(valid_iter):.4f}, Validation Accuracy: {100*correct/total: .2f}%')\n",
        "  \n",
        "    return train_loss, train_acc, validation_loss, validation_acc\n",
        "\n",
        "def test(model,  device, test_iter):\n",
        "  model.eval()\n",
        "  correct = 0\n",
        "  total = 0\n",
        "  with torch.no_grad():\n",
        "    for idx, batch in enumerate(test_iter):\n",
        "        text = batch.text[0]\n",
        "        target = batch.label\n",
        "        target = torch.autograd.Variable(target).long()\n",
        "        text, target = text.to(device), target.to(device)\n",
        "\n",
        "        outputs = model(text)\n",
        "        _, predicted = torch.max(outputs, 1)\n",
        "        total += target.size(0)\n",
        "        correct += (predicted == target).sum().item()\n",
        "\n",
        "    acc = 100 * correct / total\n",
        "    return acc\n",
        "\n",
        "def plot_train_val(x, train, val, train_label, val_label, title):\n",
        "  plt.plot(x, train, label=train_label)\n",
        "  plt.plot(x, val, label=val_label)\n",
        "  plt.legend(loc='lower right')\n",
        "  plt.xlabel('epoch')\n",
        "  plt.title(title)\n",
        "  plt.show()\n",
        "\n",
        "def count_parameters(model):\n",
        "    parameters = sum(p.numel() for p in model.parameters() if p.requires_grad)\n",
        "    return parameters\n",
        "\n",
        "def init_weights(m):\n",
        "    if type(m) in (nn.Linear, nn.Conv1d, nn.GRU):\n",
        "        nn.init.xavier_uniform_(m.weight)\n",
        "\n",
        "def grad_clipping(net, theta):  \n",
        "    \"\"\"Clip the gradient.\"\"\"\n",
        "    params = [p for p in net.parameters() if p.requires_grad]\n",
        "\n",
        "    norm = torch.sqrt(sum(torch.sum((p.grad ** 2)) for p in params))\n",
        "    \n",
        "    if norm > theta:\n",
        "        for param in params:\n",
        "            param.grad[:] *= theta / norm\n",
        "\n",
        "TEXT, vocab_size, train_iter, valid_iter, test_iter = load_dataset()\n"
      ],
      "execution_count": null,
      "outputs": []
    },
    {
      "cell_type": "markdown",
      "metadata": {
        "id": "ODNNWNQTF0Xb"
      },
      "source": [
        "---\n",
        "# Section 1: Long-Short-Term-Memory Networks (LSTMs)"
      ]
    },
    {
      "cell_type": "code",
      "metadata": {
        "id": "8OMaVtnw2MA5",
        "cellView": "form"
      },
      "source": [
        "#@title Video: LSTMs\n",
        "import time\n",
        "try: t0;\n",
        "except NameError: t0=time.time()\n",
        "\n",
        "from IPython.display import YouTubeVideo\n",
        "video = YouTubeVideo(id=\"8vUJMpYRdjk\", width=854, height=480, fs=1)\n",
        "print(\"Video available at https://youtube.com/watch?v=\" + video.id)\n",
        "\n",
        "video"
      ],
      "execution_count": null,
      "outputs": []
    },
    {
      "cell_type": "markdown",
      "metadata": {
        "id": "EzQJ4RT999Q_"
      },
      "source": [
        "## Section 1.1: Architecture\n",
        "\n",
        "The core idea behind an LSTM is the cell state $C_t$ that runs along all the LSTM units in a layer, and gets updated along the way. These updates are possible through \"gates\". Gates are made out of a sigmoid neural net layer and a pointwise multiplication operation. \n",
        "\n",
        "Each LSTM unit performs the following distinct steps using the input $x_t$, current cell state $C_t$ and previous hidden state $h_{t-1}$:\n",
        "\n",
        "* Forget Gate: *Should I throw away information from this cell?*\n",
        "$$f_t = \\sigma (W_f . [h_{t-1}, x_t] + b_f)$$ \n",
        "\n",
        "* Input Gate:\n",
        "    * *Should I add new values to this cell?*\n",
        "$$i_t = \\sigma (W_i . [h_{t-1}, x_t] + b_i)$$\n",
        "    * *What new candidate values should I store?*\n",
        "$$\\tilde{C}_t = tanh (W_C . [h_{t-1}, x_t] + b_C)$$ \n",
        "\n",
        "* Update cell state: *Forget things from the past and add new things from the candidates*\n",
        "$$C_t = (f_t * C_{t-1}) + (i_t * \\tilde{C}_t)$$ \n",
        "\n",
        "* Output Gate: \n",
        "    * *What information should I output?*\n",
        "$$o_t = \\sigma (W_o . [h_{t-1}, x_t] + b_o)$$ \n",
        "    * *How much of the cell state should I store in the hidden state?*\n",
        "$$h_t = o_t * tanh(C_t)$$ \n",
        "\n",
        "The architecture can be summarized by the diagram below:\n",
        "![image.png](data:image/png;base64,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)"
      ]
    },
    {
      "cell_type": "markdown",
      "metadata": {
        "id": "2ddQlFPtF89W"
      },
      "source": [
        "Since the candidate memory cell ensures that the value range is between  −1  and  1  by using the  $tanh$  function, why does the hidden state need to use the  $tanh$  function again to ensure that the output value range is between  −1  and  1 ?"
      ]
    },
    {
      "cell_type": "code",
      "metadata": {
        "cellView": "form",
        "id": "M476xI8nevwU"
      },
      "source": [
        "lstm_range = '' #@param {type: \"string\"}"
      ],
      "execution_count": null,
      "outputs": []
    },
    {
      "cell_type": "markdown",
      "metadata": {
        "id": "o5EHHzS7pdRE"
      },
      "source": [
        "### Exercise 1\n",
        "\n",
        "It is now your turn to build an LSTM network in PyTorch. Feel free to refer to the documentation here: https://pytorch.org/docs/stable/generated/torch.nn.LSTM.html#torch.nn.LSTM . \n",
        "\n",
        "* Once again we will use `nn.Embedding`. You are given the `vocab_size` and the `embed_size`.\n",
        "* Add the [`LSTM`](https://pytorch.org/docs/stable/generated/torch.nn.LSTM.html#torch.nn.LSTM) layers. \n",
        "* Define a dropout layer of 0.5. \n",
        "* Determine the size of inputs and outputs to the fully-connected layer.\n",
        "* Pay special attention to the shapes of your inputs and outputs as you write the forward function.\n",
        "\n"
      ]
    },
    {
      "cell_type": "code",
      "metadata": {
        "id": "lkouuOq6XwHx"
      },
      "source": [
        "class LSTM(nn.Module):\n",
        "  def __init__(self, layers, output_size, hidden_size, vocab_size, embed_size):\n",
        "    super(LSTM, self).__init__()\n",
        "\n",
        "    self.output_size = output_size\n",
        "    self.hidden_size = hidden_size\n",
        "    self.vocab_size = vocab_size\n",
        "    self.embed_size = embed_size\n",
        "    self.n_layers = layers\n",
        "\n",
        "    ####################################################################\n",
        "    # Fill in missing code below (...),\n",
        "    # then remove or comment the line below to test your function\n",
        "    raise NotImplementedError(\"LSTM Init\")\n",
        "    ####################################################################\n",
        "    self.word_embeddings = ...\n",
        "    self.dropout = ...\n",
        "    self.lstm = ...\n",
        "    self.fc = ...\n",
        "\n",
        "  def forward(self, input_sentences):\n",
        "    \"\"\"Hint: Make sure the shapes of your tensors match the requirement\"\"\"\n",
        "    \n",
        "    ####################################################################\n",
        "    # Fill in missing code below (...),\n",
        "    # then remove or comment the line below to test your function\n",
        "    raise NotImplementedError(\"LSTM Forward\")\n",
        "    ####################################################################\n",
        "\n",
        "    # Embeddings \n",
        "    # `input` shape: (`num_steps`, `batch_size`, `num_hiddens`)\n",
        "    input = ...\n",
        "    \n",
        "    # Initialize a random hidden state and cell state for this sequence\n",
        "    hidden = (torch.randn(self.n_layers, input.shape[1], self.hidden_size).to(device),\n",
        "            torch.randn(self.n_layers, input.shape[1], self.hidden_size).to(device))\n",
        "    \n",
        "    # Dropout for regularization\n",
        "    input = self.dropout(input)\n",
        "    \n",
        "    # LSTM \n",
        "    output, hidden = ...\n",
        "    \n",
        "    # Pick the hidden state (not cell state) and reshape it for the linear layer\n",
        "    h_n = ...\n",
        "\n",
        "    # Linear \n",
        "    logits = self.fc(h_n)\n",
        "    return logits\n",
        "\n",
        "# # Uncomment to run\n",
        "# sampleLSTM = LSTM(3, 10, 100, 1000, 300)\n",
        "# print(sampleLSTM)"
      ],
      "execution_count": null,
      "outputs": []
    },
    {
      "cell_type": "markdown",
      "metadata": {
        "id": "H2CsZpnXjnbO"
      },
      "source": [
        "Sample Output\n",
        "\n",
        "```\n",
        "LSTM(\n",
        "  (word_embeddings): Embedding(1000, 300)\n",
        "  (dropout): Dropout(p=0.5, inplace=False)\n",
        "  (lstm): LSTM(300, 100, num_layers=3)\n",
        "  (fc): Linear(in_features=300, out_features=10, bias=True)\n",
        ")\n",
        "```\n",
        "\n"
      ]
    },
    {
      "cell_type": "markdown",
      "metadata": {
        "id": "gCxrHyzvhHCv"
      },
      "source": [
        "[*Click for solution*](https://github.com/CIS-522/course-content/blob/main/tutorials/W9_RNN/solutions/W9_Tutorial2_Solution_Ex01.py)"
      ]
    },
    {
      "cell_type": "markdown",
      "metadata": {
        "id": "cxZw94BWfpaA"
      },
      "source": [
        "The cell below will take 1-2 minutes to run. "
      ]
    },
    {
      "cell_type": "code",
      "metadata": {
        "id": "XuO32iAI3-n3"
      },
      "source": [
        "# Hyperparameters\n",
        "learning_rate = 0.0003\n",
        "output_size = 2\n",
        "hidden_size = 16\n",
        "embedding_length = 100\n",
        "epochs = 20\n",
        "layers = 2\n",
        "\n",
        "# Model, training, testing\n",
        "lstm_model = LSTM(layers, output_size, hidden_size, vocab_size, embedding_length)\n",
        "lstm_model.to(device)\n",
        "lstm_train_loss, lstm_train_acc, lstm_validation_loss, lstm_validation_acc = train(lstm_model, device, train_iter, valid_iter, epochs, learning_rate)\n",
        "test_accuracy = test(lstm_model, device, test_iter)\n",
        "print('Test Accuracy: ',  test_accuracy, '%\\n')\n",
        "\n",
        "# Plotting accuracy curve\n",
        "with plt.xkcd():\n",
        "    plot_train_val(np.arange(0,epochs), lstm_train_acc, lstm_validation_acc,\n",
        "                   'training_accuracy', 'validation_accuracy', 'LSTM on IMDB text classification')"
      ],
      "execution_count": null,
      "outputs": []
    },
    {
      "cell_type": "markdown",
      "metadata": {
        "id": "mnE-iVHTiGDR"
      },
      "source": [
        "## Section 1.2: Gated Recurrent Units (GRU)\n"
      ]
    },
    {
      "cell_type": "markdown",
      "metadata": {
        "id": "axsQZRN8-FMm"
      },
      "source": [
        "\n",
        "The GRU architecture looks very similar to the LSTM, and is often used as an alternative to the traditional LSTM. It also contains some variations that reduce it's complexity. For example, it combines the forget and input gates into a single “update gate”; it contains a \"hidden state\" but not a \"cell state\". In the next section we will be using GRUs as the choice of recurrent unit in our models, but you can always swap out the GRU for an LSTM later on (make sure that you take care of input and output dimensions in this case). Here is a description of the parts of the GRU:\n",
        "\n",
        "* Reset Gate: *How much of the previous hidden state should I remember?*\n",
        "$$r_t = \\sigma (W_r . [h_{t-1}, x_t])$$\n",
        "\n",
        "* Update Gate: \n",
        "    * *How much of the new state is just a different from the old state?*\n",
        "$$z_t = \\sigma (W_z . [h_{t-1}, x_t])$$\n",
        "    * *What new candidate values should I store?*\n",
        "$$\\tilde{h}_t = tanh (W . [r_t * h_{t-1}, x_t ])$$\n",
        "\n",
        "* Update hidden state: *Deciding how much of the old hidden state to keep and discard*\n",
        "$$h_t = ((1-z_t)*h_{t-1} ) + (z_t * \\tilde{h}_t) $$\n",
        "\n",
        "\n",
        "Here is what the architecture looks like:\n",
        "\n",
        "![image.png](data:image/png;base64,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)"
      ]
    },
    {
      "cell_type": "markdown",
      "metadata": {
        "id": "An_ticnpZRRP"
      },
      "source": [
        "## Section 1.3: biLSTMs\n"
      ]
    },
    {
      "cell_type": "code",
      "metadata": {
        "id": "gnA9iiU_2_Uw",
        "cellView": "form"
      },
      "source": [
        "#@title Video: biLSTMs\n",
        "try: t1;\n",
        "except NameError: t1=time.time()\n",
        "\n",
        "video = YouTubeVideo(id=\"7oYePBOq4ec\", width=854, height=480, fs=1)\n",
        "print(\"Video available at https://youtube.com/watch?v=\" + video.id)\n",
        "\n",
        "video"
      ],
      "execution_count": null,
      "outputs": []
    },
    {
      "cell_type": "markdown",
      "metadata": {
        "id": "rXVeMe6JKFml"
      },
      "source": [
        "#### Exercise 2\n",
        "\n",
        "Let's apply the knowledge to write a bi-LSTM using PyTorch.\n",
        "\n",
        "* Use an Embedding layer\n",
        "* Dropout of 0.5\n",
        "* Add 2 LSTM layers\n",
        "* Linear layer "
      ]
    },
    {
      "cell_type": "code",
      "metadata": {
        "id": "sfhd1ifldtd_"
      },
      "source": [
        "# Exercise\n",
        "class biLSTM(nn.Module):\n",
        "  def __init__(self, output_size, hidden_size, vocab_size, embed_size):\n",
        "    super(biLSTM, self).__init__()\n",
        "\n",
        "    self.output_size = output_size\n",
        "    self.hidden_size = hidden_size\n",
        "    self.vocab_size = vocab_size\n",
        "    self.embed_size = embed_size\n",
        "\n",
        "    ####################################################################\n",
        "    # Fill in missing code below (...)\n",
        "    raise NotImplementedError(\"biLSTM\")\n",
        "    ####################################################################\n",
        "    self.word_embeddings = ...\n",
        "    self.dropout = ...\n",
        "    self.bilstm = ...\n",
        "    self.fc = ...\n",
        "\n",
        "  def forward(self, input_sentences):\n",
        "    \n",
        "    input = self.word_embeddings(input_sentences).permute(1, 0, 2)\n",
        "    hidden = (torch.randn(4, input.shape[1], self.hidden_size).to(device),\n",
        "            torch.randn(4, input.shape[1], self.hidden_size).to(device))\n",
        "    input = self.dropout(input)\n",
        "    \n",
        "    output, hidden = self.bilstm(input, hidden)\n",
        "\n",
        "    h_n = hidden[0].permute(1, 0, 2)\n",
        "    h_n = h_n.contiguous().view(h_n.shape[0], -1)\n",
        "    logits = self.fc(h_n)\n",
        "    return logits\n",
        "\n",
        "# # Uncomment to run\n",
        "# sampleBiLSTM = biLSTM(10, 100, 1000, 300)\n",
        "# print(sampleBiLSTM)"
      ],
      "execution_count": null,
      "outputs": []
    },
    {
      "cell_type": "markdown",
      "metadata": {
        "id": "q8ZTdKPJASZc"
      },
      "source": [
        "Sample output:\n",
        "\n",
        "```\n",
        "biLSTM(\n",
        "  (word_embeddings): Embedding(1000, 300)\n",
        "  (dropout): Dropout(p=0.5, inplace=False)\n",
        "  (bilstm): LSTM(300, 100, num_layers=2, bidirectional=True)\n",
        "  (fc): Linear(in_features=400, out_features=10, bias=True)\n",
        ")\n",
        "```\n",
        "\n"
      ]
    },
    {
      "cell_type": "markdown",
      "metadata": {
        "id": "Kzk8tf2jhUK-"
      },
      "source": [
        "[*Click for solution*](https://github.com/CIS-522/course-content/blob/main/tutorials/W9_RNN/solutions/W9_Tutorial2_Solution_Ex02.py)"
      ]
    },
    {
      "cell_type": "markdown",
      "metadata": {
        "id": "gpeQoeGhff0F"
      },
      "source": [
        "The cell below will take 1-2 minutes to run. "
      ]
    },
    {
      "cell_type": "code",
      "metadata": {
        "id": "_YId_EgB8RTQ"
      },
      "source": [
        "# Hyperparameters\n",
        "learning_rate = 0.0003\n",
        "batch_size = 32\n",
        "output_size = 2\n",
        "hidden_size = 16\n",
        "embedding_length = 100\n",
        "epochs = 20\n",
        "\n",
        "# Model, training and testing \n",
        "biLSTM_model = biLSTM(output_size, hidden_size, vocab_size, embedding_length)\n",
        "biLSTM_model.to(device)\n",
        "biLSTM_train_loss, biLSTM_train_acc, biLSTM_validation_loss, biLSTM_validation_acc = train(biLSTM_model, device, train_iter, valid_iter, epochs, learning_rate)\n",
        "test_accuracy = test(biLSTM_model, device, test_iter)\n",
        "print('Test Accuracy: ',  test_accuracy, '%\\n')\n",
        "\n",
        "# Plot accuracy curve\n",
        "with plt.xkcd():\n",
        "    plot_train_val(np.arange(0,epochs), biLSTM_train_acc, biLSTM_validation_acc,\n",
        "                   'training_accuracy', 'validation_accuracy', 'biLSTM on IMDB text classification')"
      ],
      "execution_count": null,
      "outputs": []
    },
    {
      "cell_type": "markdown",
      "metadata": {
        "id": "21tBewIICkSF"
      },
      "source": [
        "*Estimated time: 40 minutes since start*"
      ]
    },
    {
      "cell_type": "markdown",
      "metadata": {
        "id": "zn8Zb2vln4-5"
      },
      "source": [
        "---\n",
        "# Section 2: Applications of RNNs in  NLP\n",
        "\n",
        "### **Important!** \n",
        "\n",
        "In this section, you will use your knowledge of recurrent neural networks and build some interesting NLP applications! For the remainder of the tutorial we will be switching from word-level models to character-level models; which means the text will be tokenized at the character level. We do this in the interest of simplifying our task by limiting our vocabulary (which is now a set of characters instead of words).   "
      ]
    },
    {
      "cell_type": "markdown",
      "metadata": {
        "id": "jHPT0KGyadMP"
      },
      "source": [
        "\n",
        "## Section 2.1: Text Generation and Language Modelling\n"
      ]
    },
    {
      "cell_type": "code",
      "metadata": {
        "id": "cYbSwtof2avn",
        "cellView": "form"
      },
      "source": [
        "#@title Video: RNN applications and Language Models\n",
        "try: t2;\n",
        "except NameError: t2=time.time()\n",
        "\n",
        "video = YouTubeVideo(id=\"pVZ65jRalAU\", width=854, height=480, fs=1)\n",
        "print(\"Video available at https://youtube.com/watch?v=\" + video.id)\n",
        "\n",
        "video"
      ],
      "execution_count": null,
      "outputs": []
    },
    {
      "cell_type": "markdown",
      "metadata": {
        "id": "MFN2hbsxV8Uu"
      },
      "source": [
        "\n",
        "\n",
        "Sources: https://pytorch.org/tutorials/intermediate/char_rnn_generation_tutorial.html;  \n",
        "https://d2l.ai/chapter_recurrent-neural-networks/rnn.html#rnn-based-character-level-language-models\n",
        "  \n",
        "The first application we will discuss in this section is that of text generation using neural language models. In linguistic theory, a language model is a probability distribution over sequences of words. The task for the model is posed as follows: given a history or context of words, can you predict the next word in the sequence? \n",
        "\n",
        "Recurrent neural networks are a natural choice for this task, since they have the ability to capture information from past observations through the hidden state. Andrej Karpathy's [blog post](https://karpathy.github.io/2015/05/21/rnn-effectiveness/) is an excellent read for developing intuition for this task. For this exercise, you will train a character-level text generation model, give it an initial \"start\" string, and watch how it generates characters! \n",
        "\n",
        "At any given time step, the model takes one character and a hidden state as input. We convert the output of the model to a probability distribution over the possible characters, and pick a character from this distribution as the next prediction. This \"generated\" character is then passed to the model as the input in the next time step. This process is repeated for a fixed number of time steps.  (In real generation, these is often a special \"stop character\" that determines when to stop generation.   \n",
        "\n",
        "![image.png](data:image/png;base64,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)\n",
        "\n",
        "(Language models are generally evaluated using a metric known as [perplexity](https://https://towardsdatascience.com/perplexity-intuition-and-derivation-105dd481c8f3), which is 2 to the entropy of the probability distribution of the language model, measured in bits.)\n",
        "\n"
      ]
    },
    {
      "cell_type": "code",
      "metadata": {
        "id": "VU_QkjcrUnWi",
        "cellView": "form"
      },
      "source": [
        "#@markdown ### Preparing the input (run me)\n",
        "\n",
        "! wget http://www.gutenberg.org/files/1522/1522-0.txt\n",
        "\n",
        "# Read the input training file - Julius Caesar \n",
        "file = unidecode.unidecode(open('1522-0.txt').read()).lower() \n",
        "file = re.sub(r'[^a-z]+', ' ', file)\n",
        "file_len = len(file)\n",
        "print('file_len =', file_len)\n",
        "\n",
        "# Print a random chunk from the training data \n",
        "def random_chunk(chunk_len):\n",
        "    start_index = random.randint(0, file_len - chunk_len)\n",
        "    end_index = start_index + chunk_len + 1\n",
        "    return file[start_index:end_index]\n",
        "\n",
        "chunk_len = 100\n",
        "print(random_chunk(chunk_len))\n",
        "\n",
        "# Get a random chunk from the traning data, \n",
        "# Convert its first n-1 chars into input char tensor\n",
        "# Convert its last n-1 chars into target char tensor\n",
        "def random_training_set():    \n",
        "    chunk = random_chunk(chunk_len)\n",
        "    inp = char_tensor(chunk[:-1])\n",
        "    target = char_tensor(chunk[1:])\n",
        "    return inp, target\n",
        "\n",
        "# Get all printable characters for generation\n",
        "# all_characters = string.printable\n",
        "all_characters = string.ascii_lowercase\n",
        "all_characters += ' '\n",
        "n_characters = len(all_characters)\n",
        "\n",
        "# Turn string into list of longs\n",
        "def char_tensor(string):\n",
        "    tensor = torch.zeros(len(string)).long()\n",
        "    for c in range(len(string)):\n",
        "        tensor[c] = all_characters.index(string[c])\n",
        "    return tensor"
      ],
      "execution_count": null,
      "outputs": []
    },
    {
      "cell_type": "markdown",
      "metadata": {
        "id": "zSi1yVe9WGkF"
      },
      "source": [
        "### Network"
      ]
    },
    {
      "cell_type": "code",
      "metadata": {
        "id": "RPeZi7cq_tNP"
      },
      "source": [
        "class GenerationRNN(nn.Module):\n",
        "    def __init__(self, input_size, hidden_size, output_size, n_layers=1):\n",
        "        super(GenerationRNN, self).__init__()\n",
        "        self.input_size = input_size\n",
        "        self.hidden_size = hidden_size\n",
        "        self.output_size = output_size\n",
        "        self.n_layers = n_layers\n",
        "        \n",
        "        self.encoder = nn.Embedding(input_size, hidden_size)\n",
        "        self.gru = nn.GRU(hidden_size, hidden_size, n_layers)\n",
        "        self.decoder = nn.Linear(hidden_size, output_size)\n",
        "    \n",
        "    def forward(self, input, hidden):\n",
        "        input = self.encoder(input.view(1, -1))\n",
        "        output, hidden = self.gru(input, hidden)\n",
        "        output = self.decoder(hidden.view(1, -1))\n",
        "        return output, hidden\n",
        "\n",
        "    def init_hidden(self):\n",
        "        return torch.zeros(self.n_layers, 1, self.hidden_size)"
      ],
      "execution_count": null,
      "outputs": []
    },
    {
      "cell_type": "markdown",
      "metadata": {
        "id": "z4H6bluzWPFi"
      },
      "source": [
        "### Generate"
      ]
    },
    {
      "cell_type": "markdown",
      "metadata": {
        "id": "80Vo1whF1116"
      },
      "source": [
        "#### Exercise 3\n",
        "\n",
        "Now that you know what the network looks like, write the function below that:\n",
        "* Takes in a `prime_str` and builds up a hidden state \n",
        "* Uses the built up hidden state to iteratively generate `predict_len` number of characters from the model\n",
        "* To predict the next state, softmax the output from the model and pick the character with the maximum probability "
      ]
    },
    {
      "cell_type": "code",
      "metadata": {
        "id": "-rueqVibACZa"
      },
      "source": [
        "def evaluate(net, prime_str, predict_len):\n",
        "    hidden = net.init_hidden()\n",
        "    predicted = prime_str\n",
        "\n",
        "    # \"Building up\" the hidden state\n",
        "    for p in range(len(prime_str) - 1):\n",
        "        inp = char_tensor(prime_str[p])\n",
        "        _, hidden = net(inp, hidden)\n",
        "    \n",
        "    # Tensorize of the last character\n",
        "    inp = char_tensor(prime_str[-1])\n",
        "    \n",
        "    # For every index to predict\n",
        "    for p in range(predict_len):\n",
        "        ####################################################################\n",
        "        # Fill in missing code below (...),\n",
        "        # then remove or comment the line below to test your function\n",
        "        raise NotImplementedError(\"Generation\")\n",
        "        ####################################################################\n",
        "\n",
        "        # Pass the inputs to the model\n",
        "        output, hidden = ...\n",
        "        \n",
        "        # Pick the character with the highest probability \n",
        "        top_i = ...\n",
        "\n",
        "        # Add predicted character to string and use as next input\n",
        "        predicted_char = all_characters[top_i]\n",
        "        predicted += predicted_char\n",
        "        inp = char_tensor(predicted_char)\n",
        "\n",
        "    return predicted\n",
        "\n",
        "# # Uncomment to run\n",
        "# sampleDecoder = GenerationRNN(27, 100, 27, 1)\n",
        "# text = evaluate(sampleDecoder, 'hi', 10)\n",
        "# if text.startswith('hi') and len(text) == 12:\n",
        "#     print('Success!')\n",
        "# else:\n",
        "#     print('Need to change.')"
      ],
      "execution_count": null,
      "outputs": []
    },
    {
      "cell_type": "markdown",
      "metadata": {
        "id": "Vx7G3MtQhaG_"
      },
      "source": [
        "[*Click for solution*](https://github.com/CIS-522/course-content/blob/main/tutorials/W9_RNN/solutions/W9_Tutorial2_Solution_Ex03.py)"
      ]
    },
    {
      "cell_type": "code",
      "metadata": {
        "id": "4ZKyuqzCAJpC",
        "cellView": "form"
      },
      "source": [
        "#@title Train\n",
        "\n",
        "# Single training step\n",
        "def train(inp, target):\n",
        "    # Initialize hidden state, zero the gradients of decoder \n",
        "    hidden = decoder.init_hidden()\n",
        "    decoder.zero_grad()\n",
        "    loss = 0\n",
        "    # For each character in our chunk (except last), compute the hidden and ouput\n",
        "    # Using each output, compute the loss with the corresponding target \n",
        "    for c in range(chunk_len):\n",
        "        output, hidden = decoder(inp[c], hidden)\n",
        "        loss += criterion(output, target[c].unsqueeze(0))\n",
        "    \n",
        "    # Backpropagate, clip gradient and optimize\n",
        "    loss.backward()\n",
        "    grad_clipping(decoder, 1)\n",
        "    decoder_optimizer.step()\n",
        "\n",
        "    # Return average loss\n",
        "    return loss.data.item() / chunk_len\n",
        "\n",
        "n_epochs = 3000\n",
        "print_every = 500\n",
        "plot_every = 10\n",
        "hidden_size = 100\n",
        "n_layers = 1\n",
        "lr = 0.0005\n",
        "\n",
        "# Create model, optimizer and loss function\n",
        "decoder = GenerationRNN(n_characters, hidden_size, n_characters, n_layers)\n",
        "decoder_optimizer = torch.optim.Adam(decoder.parameters(), lr=lr)\n",
        "criterion = nn.CrossEntropyLoss()\n",
        "\n",
        "all_losses = []\n",
        "loss_avg = 0\n",
        "\n",
        "# For every epoch\n",
        "for epoch in range(1, n_epochs + 1):\n",
        "    # Get a random (input, target) pair from training set and perform one training iteration    \n",
        "    loss = train(*random_training_set())       \n",
        "    loss_avg += loss\n",
        "    \n",
        "    if epoch % print_every == 0:\n",
        "        text = evaluate(decoder, 'th', 50)\n",
        "        print('Epoch '+ str(epoch) + ' --------------------\\n\\t' + text)\n",
        "        \n",
        "    if epoch % plot_every == 0:\n",
        "        all_losses.append(loss_avg / plot_every)\n",
        "        loss_avg = 0\n",
        "\n",
        "print('\\n')\n",
        "with plt.xkcd():\n",
        "    plt.figure()\n",
        "    plt.plot(all_losses)\n",
        "    plt.xlabel('Epochs')\n",
        "    plt.ylabel('Loss')\n",
        "    plt.title('Training loss for text generation')"
      ],
      "execution_count": null,
      "outputs": []
    },
    {
      "cell_type": "markdown",
      "metadata": {
        "id": "-7zaVRIQbcxc"
      },
      "source": [
        "What do you observe about the output of the text generation model? Why do you think this is happening?"
      ]
    },
    {
      "cell_type": "code",
      "metadata": {
        "id": "3JcK_jVgcDC5",
        "cellView": "form"
      },
      "source": [
        "generation_output = '' #@param {type: \"string\"}"
      ],
      "execution_count": null,
      "outputs": []
    },
    {
      "cell_type": "markdown",
      "metadata": {
        "id": "drOj5o3TMbXO"
      },
      "source": [
        "### Improve Generation"
      ]
    },
    {
      "cell_type": "markdown",
      "metadata": {
        "id": "4eIPn3jy3qCt"
      },
      "source": [
        "#### Exercise 4\n",
        "\n",
        "Choosing the character with the highest probability at each time step did not allow us to fully explore the variability in language. For this, we must let the model \"explore\" other character choices as well. One of the ways to do this is to sample from a probability distribution. \n",
        "\n",
        "Implement the function to generate text again, but this time we cast the output to a probability distribution. Your task is to sample a character from this distribution. Use this function: https://pytorch.org/docs/stable/generated/torch.multinomial.html "
      ]
    },
    {
      "cell_type": "code",
      "metadata": {
        "id": "Wsnv8LdebAyS"
      },
      "source": [
        "def evaluateMultinomial(net, prime_str, predict_len, temperature=0.8):\n",
        "    hidden = net.init_hidden()\n",
        "    predicted = prime_str\n",
        "\n",
        "    # \"Building up\" the hidden state\n",
        "    for p in range(len(prime_str) - 1):\n",
        "        inp = char_tensor(prime_str[p])\n",
        "        _, hidden = net(inp, hidden)\n",
        "    \n",
        "    # Tensorize of the last character\n",
        "    inp = char_tensor(prime_str[-1])\n",
        "    \n",
        "    # For every index to predict\n",
        "    for p in range(predict_len):\n",
        "\n",
        "        ####################################################################\n",
        "        # Fill in missing code below (...),\n",
        "        # then remove or comment the line below to test your function\n",
        "        raise NotImplementedError(\"Generation Improve\")\n",
        "        ####################################################################\n",
        "\n",
        "        # Pass the character + previous hidden state to the model\n",
        "        output, hidden = ...\n",
        "        \n",
        "        # Sample from the network as a multinomial distribution\n",
        "        output = output.data.view(-1).div(temperature).exp()\n",
        "        top_i = ...\n",
        "        \n",
        "        # Add predicted character to string and use as next input\n",
        "        predicted_char = all_characters[top_i]\n",
        "        predicted += predicted_char\n",
        "        inp = char_tensor(predicted_char)\n",
        "\n",
        "    return predicted\n",
        "\n",
        "# # Uncomment to run\n",
        "# sampleDecoder = GenerationRNN(27, 100, 27, 1)\n",
        "# text = evaluateMultinomial(sampleDecoder, 'hi', 10)\n",
        "# if text.startswith('hi') and len(text) == 12:\n",
        "#     print('Success!')\n",
        "# else:\n",
        "#     print('Need to change.')"
      ],
      "execution_count": null,
      "outputs": []
    },
    {
      "cell_type": "markdown",
      "metadata": {
        "id": "LTUU-pUwhdiN"
      },
      "source": [
        "[*Click for solution*](https://github.com/CIS-522/course-content/blob/main/tutorials/W9_RNN/solutions/W9_Tutorial2_Solution_Ex04.py)"
      ]
    },
    {
      "cell_type": "code",
      "metadata": {
        "id": "QmBiRdDegaj6",
        "cellView": "form"
      },
      "source": [
        "#@title Re-Train\n",
        "# Single training step\n",
        "def train(inp, target):\n",
        "    # Initialize hidden state, zero the gradients of decoder \n",
        "    hidden = decoder.init_hidden()\n",
        "    decoder.zero_grad()\n",
        "    loss = 0\n",
        "\n",
        "    # For each character in our chunk (except last), compute the hidden and ouput\n",
        "    # Using each output, compute the loss with the corresponding target \n",
        "    for c in range(chunk_len):\n",
        "        output, hidden = decoder(inp[c], hidden)\n",
        "        loss += criterion(output, target[c].unsqueeze(0))\n",
        "    \n",
        "    # Backpropagate, clip gradient and optimize\n",
        "    loss.backward()\n",
        "    grad_clipping(decoder, 1)\n",
        "    decoder_optimizer.step()\n",
        "\n",
        "    # Return average loss\n",
        "    return loss.data.item() / chunk_len\n",
        "\n",
        "n_epochs = 3000\n",
        "print_every = 500\n",
        "plot_every = 10\n",
        "hidden_size = 100\n",
        "n_layers = 1\n",
        "lr = 0.0005\n",
        "\n",
        "# Create model, optimizer and loss function\n",
        "decoder = GenerationRNN(n_characters, hidden_size, n_characters, n_layers)\n",
        "decoder_optimizer = torch.optim.Adam(decoder.parameters(), lr=lr)\n",
        "criterion = nn.CrossEntropyLoss()\n",
        "\n",
        "all_losses = []\n",
        "loss_avg = 0\n",
        "\n",
        "# For every epoch\n",
        "for epoch in range(1, n_epochs + 1):\n",
        "    # Get a random (input, target) pair from training set and perform one training iteration    \n",
        "    loss = train(*random_training_set())       \n",
        "    loss_avg += loss\n",
        "    \n",
        "    if epoch % print_every == 0:\n",
        "        text = evaluateMultinomial(decoder, 'th', 50)\n",
        "        print('Epoch '+ str(epoch) + ' --------------------\\n\\t' + text)\n",
        "\n",
        "        \n",
        "    if epoch % plot_every == 0:\n",
        "        all_losses.append(loss_avg / plot_every)\n",
        "        loss_avg = 0\n",
        "\n",
        "with plt.xkcd():\n",
        "    plt.figure()\n",
        "    plt.plot(all_losses)\n",
        "    plt.xlabel('Epochs')\n",
        "    plt.ylabel('Loss')\n",
        "    plt.title('Training loss for text generation')"
      ],
      "execution_count": null,
      "outputs": []
    },
    {
      "cell_type": "markdown",
      "metadata": {
        "id": "GcnPSVabNC7m"
      },
      "source": [
        "Is there an improvement in the quality of the generated text? Can you infer what the original text used for training could be? Why do you think generation is a difficult task?"
      ]
    },
    {
      "cell_type": "code",
      "metadata": {
        "cellView": "form",
        "id": "CAXA-YLuh8rO"
      },
      "source": [
        "generation_quality = '' #@param {type: \"string\"}"
      ],
      "execution_count": null,
      "outputs": []
    },
    {
      "cell_type": "markdown",
      "metadata": {
        "id": "dcPWI_PADVbJ"
      },
      "source": [
        "*Estimated time: 60 minutes since start*"
      ]
    },
    {
      "cell_type": "markdown",
      "metadata": {
        "id": "wv5KIe5Gag6w"
      },
      "source": [
        "## Section 2.2: Sequence Tagging\n",
        "\n"
      ]
    },
    {
      "cell_type": "code",
      "metadata": {
        "id": "Dzu0yzZL2nZ9",
        "cellView": "form"
      },
      "source": [
        "#@title Video: Tagging\n",
        "try: t3;\n",
        "except NameError: t3=time.time()\n",
        "\n",
        "video = YouTubeVideo(id=\"OYhW9HndZkA\", width=854, height=480, fs=1)\n",
        "print(\"Video available at https://youtube.com/watch?v=\" + video.id)\n",
        "\n",
        "video"
      ],
      "execution_count": null,
      "outputs": []
    },
    {
      "cell_type": "markdown",
      "metadata": {
        "id": "5eA2fYQEZgjr"
      },
      "source": [
        "\n",
        "Sequence tagging is a task in machine learning whose goal is to assign a label (or category) to each unit of a sequence processed in a model. In natural language processing, parts-of-speech tagging and named entity recognition are some popular tagging tasks. \n",
        "\n",
        "Formally, we study tagging as a different task from language modelling or text generation, but there are similarities between them. Instead of choosing the next best  character from the output model, we pass the hidden state of each recurrent unit from the model to a fully connected layer and assign it a label.    "
      ]
    },
    {
      "cell_type": "code",
      "metadata": {
        "id": "sCls1luhZgkh",
        "cellView": "form"
      },
      "source": [
        "#@title Dataloader\n",
        "class TaggingDataset(torch.utils.data.Dataset):\n",
        "    'Characterizes a dataset for PyTorch'\n",
        "\n",
        "    def __init__(self, raw_data):\n",
        "        'Initialization'\n",
        "        self.data = raw_data\n",
        "        self.vowels = ['a', 'e', 'i', 'o', 'u', 'A', 'E', 'I', 'O', 'U']\n",
        "\n",
        "    def __len__(self):\n",
        "        'Denotes the total number of samples'\n",
        "        return len(self.data)\n",
        "\n",
        "    def __getitem__(self, index):\n",
        "        'Generates one sample of data'\n",
        "        # Select sample\n",
        "        inp = char_tensor(self.data[index][:-1])\n",
        "        target = []\n",
        "        for c in self.data[index][1:]:\n",
        "            if c in self.vowels:\n",
        "                target.append(0)\n",
        "            elif c == ' ':\n",
        "                target.append(1)\n",
        "            else:\n",
        "                target.append(2)\n",
        "        target = torch.tensor(target)\n",
        "        # print(self.data[index][:-1], target)\n",
        "        return inp, target\n",
        "\n",
        "# Data loaders\n",
        "raw_data = []\n",
        "for i in range(100):\n",
        "    raw_data.append(random_chunk(chunk_len))\n",
        "dataset = TaggingDataset(raw_data)\n",
        "dataloader = torch.utils.data.DataLoader(dataset, batch_size=1)"
      ],
      "execution_count": null,
      "outputs": []
    },
    {
      "cell_type": "markdown",
      "metadata": {
        "id": "kOz10ITGCUvt"
      },
      "source": [
        "### Network"
      ]
    },
    {
      "cell_type": "markdown",
      "metadata": {
        "id": "t5_a7nZJ6dP3"
      },
      "source": [
        "#### Exercise 5\n",
        "\n",
        "For this exercise, you will train a character-level sequence labelling model on the same dataset as the previous exercise: which takes in a character and a hidden state vector as input, and predicts whether the **next** character in the sequence will be a vowel (V), space (S) or other (O). Much of the code for this task is identical to the code for text generation, so you will be making the most important tweaks in the text generation pipeline that will give you a a tagging pipeline. Note that since we are reducing the prediction space to just three classes, the task becomes much more simple.\n",
        "\n",
        "Structurally, the tagging model looks similar to the text generation one, except the Linear layer must map to the the number of tags or labels defined for your task. Functionally, the hidden state (instead of the output) must be mapped to the Linear layer to perform the classification of the required unit. Use a GRU for the recurrent unit. "
      ]
    },
    {
      "cell_type": "code",
      "metadata": {
        "id": "QAviF-gSZgki",
        "cellView": "code"
      },
      "source": [
        "class TaggingRNN(nn.Module):\n",
        "    def __init__(self, input_size, hidden_size, output_size, n_layers=1):\n",
        "        super(TaggingRNN, self).__init__()\n",
        "        self.input_size = input_size\n",
        "        self.hidden_size = hidden_size\n",
        "        self.output_size = output_size\n",
        "        self.n_layers = n_layers\n",
        "        \n",
        "        ####################################################################\n",
        "        # Fill in missing code below (...),\n",
        "        # then remove or comment the line below to test your function\n",
        "        raise NotImplementedError(\"Tagging Init\")\n",
        "        ####################################################################\n",
        "\n",
        "        self.embedding = ...\n",
        "        self.gru = ...\n",
        "        self.linear = ...\n",
        "    \n",
        "    def forward(self, input, hidden):\n",
        "        \"\"\" Be sure to check the shapes of the input and hidden states \"\"\"\n",
        "        ####################################################################\n",
        "        # Fill in missing code below (...),\n",
        "        # then remove or comment the line below to test your function\n",
        "        raise NotImplementedError(\"Tagging Forward\")\n",
        "        ####################################################################\n",
        "\n",
        "        input = ...\n",
        "        output, hidden = ...\n",
        "        out = ...\n",
        "        return out, hidden\n",
        "\n",
        "    def init_hidden(self):\n",
        "        return torch.zeros(self.n_layers, 1, self.hidden_size)\n",
        "\n",
        "# # Uncomment to run\n",
        "# sampleTagger = TaggingRNN(20, 100, 10, 2)\n",
        "# print(sampleTagger)"
      ],
      "execution_count": null,
      "outputs": []
    },
    {
      "cell_type": "markdown",
      "metadata": {
        "id": "sMO5w5v5jJny"
      },
      "source": [
        "Sample Output:\n",
        "\n",
        "```\n",
        "TaggingRNN(\n",
        "  (embedding): Embedding(20, 100)\n",
        "  (gru): GRU(100, 100, num_layers=2)\n",
        "  (linear): Linear(in_features=100, out_features=3, bias=True)\n",
        ")\n",
        "```\n",
        "\n"
      ]
    },
    {
      "cell_type": "markdown",
      "metadata": {
        "id": "qJsrNUSMhkRg"
      },
      "source": [
        "[*Click for solution*](https://github.com/CIS-522/course-content/blob/main/tutorials/W9_RNN/solutions/W9_Tutorial2_Solution_Ex05.py)"
      ]
    },
    {
      "cell_type": "markdown",
      "metadata": {
        "id": "_J5VUu2vYvzR"
      },
      "source": [
        "### Evaluation\n",
        "\n",
        "Here is a function that performs the Vowel/Space/Other tagging task for each character of the given string. You don't need to code anything, but notice the similarities between it and the evaluation code for the text generation task.  "
      ]
    },
    {
      "cell_type": "code",
      "metadata": {
        "id": "dhp4V-0DZgki",
        "cellView": "code"
      },
      "source": [
        "def evaluate(prime_str, predict_len):\n",
        "    labels = ['Vowel', 'Space', 'Other']\n",
        "\n",
        "    hidden = tagger.init_hidden()\n",
        "    prime_input = char_tensor(prime_str)\n",
        "    build_up = len(prime_str) - predict_len\n",
        "    predicted = prime_str[:build_up]\n",
        "\n",
        "    # Use priming string to \"build up\" hidden state\n",
        "    for p in range(build_up):\n",
        "        _, hidden = tagger(prime_input[p], hidden)\n",
        "\n",
        "    column_width = len('milan_is_a_nice_place')+2\n",
        "    \n",
        "    print('Text'.ljust(column_width) + 'Next_Character\\n-------------------------')\n",
        "    \n",
        "    # For each character remaining to be tagged \n",
        "    for p in range(0, predict_len):\n",
        "\n",
        "        # Get it's input tensor \n",
        "        inp = prime_input[build_up + p]\n",
        "        next_char = prime_str[build_up + p]\n",
        "        predicted += next_char\n",
        "\n",
        "        # Pass the input and the previous hidden state to the model\n",
        "        out, hidden = tagger(inp, hidden)\n",
        "        \n",
        "        # Softmax the output and find the best tag\n",
        "        softmax = torch.softmax(out[0], dim=1, dtype=torch.float)\n",
        "        i = torch.argmax(softmax)\n",
        "        label = labels[i]\n",
        "\n",
        "        text = predicted.replace(' ', '_')\n",
        "        print(text.ljust(column_width) + label)"
      ],
      "execution_count": null,
      "outputs": []
    },
    {
      "cell_type": "markdown",
      "metadata": {
        "id": "cH1XJEh0ZBpk"
      },
      "source": [
        "### Training process"
      ]
    },
    {
      "cell_type": "code",
      "metadata": {
        "id": "UScx0UkyZgkj",
        "cellView": "form"
      },
      "source": [
        "#@title Train\n",
        "# Single training step\n",
        "def train(inp, target):\n",
        "    # Initialize hidden state, zero the gradients of decoder \n",
        "    hidden = tagger.init_hidden()\n",
        "    tagger.zero_grad()\n",
        "    loss = 0\n",
        "\n",
        "    # For each character in our chunk (except last), compute the hidden and ouput\n",
        "    # Using each output, compute the loss with the corresponding target \n",
        "    for c in range(chunk_len):\n",
        "        \n",
        "        out, hidden = tagger(inp[c], hidden)\n",
        "        loss += criterion(out[0], target[c].unsqueeze(0))\n",
        "        \n",
        "    # Backpropagate and optimize\n",
        "    loss.backward()\n",
        "    optimizer.step()\n",
        "\n",
        "    # Return average loss\n",
        "    return loss.data.item() / chunk_len\n",
        "\n",
        "n_epochs = 12\n",
        "print_every = 5\n",
        "plot_every = 1\n",
        "hidden_size = 100\n",
        "n_layers = 1\n",
        "lr = 0.005\n",
        "\n",
        "# Create model, optimizer and loss function\n",
        "tagger = TaggingRNN(n_characters, hidden_size, n_characters, n_layers)\n",
        "optimizer = torch.optim.Adam(tagger.parameters(), lr=lr)\n",
        "criterion = nn.CrossEntropyLoss()\n",
        "\n",
        "all_losses = []\n",
        "loss_avg = 0\n",
        "\n",
        "\n",
        "# For every epoch\n",
        "for epoch in range(1, n_epochs + 1):\n",
        "\n",
        "    for i, (input, target) in enumerate(dataloader):\n",
        "        loss = train(input[0], target[0])\n",
        "        loss_avg += loss\n",
        "\n",
        "    if epoch % print_every == 0:\n",
        "        print('\\n------ Epoch %d' % epoch)\n",
        "        evaluate('milan is a nice place', 15)\n",
        "    \n",
        "    if epoch % plot_every == 0:\n",
        "        all_losses.append(loss_avg / plot_every)\n",
        "        loss_avg = 0\n",
        "\n",
        "with plt.xkcd():\n",
        "    plt.figure()\n",
        "    plt.plot(all_losses)\n",
        "    plt.xlabel('Epochs')\n",
        "    plt.ylabel('Loss')\n",
        "    plt.title('Training loss for sequence labelling')"
      ],
      "execution_count": null,
      "outputs": []
    },
    {
      "cell_type": "markdown",
      "metadata": {
        "id": "KlGWhtHwceJ4"
      },
      "source": [
        "Where is the model making mistakes? Why is there a difference between the true next character and the Next Character tag? \n",
        "\n",
        "*Hint: Observe the input to the network at each time step in the `evaluate` function*"
      ]
    },
    {
      "cell_type": "code",
      "metadata": {
        "id": "p5xfdP60x5zR",
        "cellView": "form"
      },
      "source": [
        "seq_label_mistakes = '' #@param {type: \"string\"}"
      ],
      "execution_count": null,
      "outputs": []
    },
    {
      "cell_type": "markdown",
      "metadata": {
        "id": "-rUtyv25x3Pi"
      },
      "source": [
        "How would one evaluate a sequence labelling model? Can you come up with a simple metric?"
      ]
    },
    {
      "cell_type": "code",
      "metadata": {
        "id": "bvZqYObtc1zF",
        "cellView": "form"
      },
      "source": [
        "seq_label_evaluate = '' #@param {type: \"string\"}"
      ],
      "execution_count": null,
      "outputs": []
    },
    {
      "cell_type": "markdown",
      "metadata": {
        "id": "FaGtNpRUD_IX"
      },
      "source": [
        "*Estimated time: 80 minutes since start*"
      ]
    },
    {
      "cell_type": "markdown",
      "metadata": {
        "id": "Ke6ANal_YUI3"
      },
      "source": [
        "## Section 2.3: Sequence to Sequence \n",
        "\n"
      ]
    },
    {
      "cell_type": "code",
      "metadata": {
        "id": "0FlARbqG2zXo",
        "cellView": "form"
      },
      "source": [
        "#@title Video: Seq2Seq Modelling\n",
        "try: t4;\n",
        "except NameError: t4=time.time()\n",
        "\n",
        "video = YouTubeVideo(id=\"DebMnQ7PYg0\", width=854, height=480, fs=1)\n",
        "print(\"Video available at https://youtube.com/watch?v=\" + video.id)\n",
        "\n",
        "video"
      ],
      "execution_count": null,
      "outputs": []
    },
    {
      "cell_type": "markdown",
      "metadata": {
        "id": "3npf6-Jq4L5g"
      },
      "source": [
        "Sources: [d2l.ai on encoders](https://d2l.ai/chapter_recurrent-modern/encoder-decoder.html) ; [d2l.ai on seq2seq](https://d2l.ai/chapter_recurrent-modern/seq2seq.html) ; [Jalammar's blog](https://jalammar.github.io/visualizing-neural-machine-translation-mechanics-of-seq2seq-models-with-attention/ )\n",
        "\n",
        "Sequence-to-sequence models take in a sequence of items (words, characters, etc) as input and produces another sequence of items as output. The most \n",
        "simple seq2seq models are composed of two parts: the encoder, the context (\"state\" in the figure) and the decoder. The encoder and decoder usually consist of recurrent units that we've seen before (RNNs, GRUs or LSTMs). A high-level schematic of the architecture is as follows:\n",
        "\n",
        "![image.png](data:image/png;base64,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)\n",
        "\n",
        "The encoder's recurrent unit processes the input one item at a time. Once the entire sequence is processed, the final hidden state vector produced is known as a context vector. The size of the context vector is defined while setting up the model, and is equal to the number of hidden states used in the encoder RNN. The encoder then passes the context to the decoder. The decoder's recurrent unit uses the context to produce the items for the output sequence one by one.   \n"
      ]
    },
    {
      "cell_type": "markdown",
      "metadata": {
        "id": "ThYoNqMDXs4t"
      },
      "source": [
        "One of the most popular applications of seq2seq models is \"machine translation\": the task of taking in a sentence in one language (the source) and producing its translation in another language (the target); with words in both lanugages being the sequence units. This is a supervised learning task, and requires the dataset to have \"parallel sentences\"; i.e., each sentence in the source language must be labelled with its translation in the target language. \n",
        "\n",
        "[Here is an intuitive visualization for understanding seq2seq models for machine translation from English to French](https://i.imgur.com/HJ6t8up.mp4)\n",
        "\n",
        "Since the vocabulary of an entire language is very large, training such models to give meaningful performance requires significant time and resources. In this section, we will train a seq2seq model to perform machine translation from English to [Pig-Latin](https://en.wikipedia.org/wiki/Pig_Latin). We will modify the task to perform character-level machine translation, so that vocabulary size does not grow exponentially.   \n"
      ]
    },
    {
      "cell_type": "markdown",
      "metadata": {
        "id": "wjOCGYjDoqaD"
      },
      "source": [
        "### Setup"
      ]
    },
    {
      "cell_type": "code",
      "metadata": {
        "id": "RVN0flAcxvZT",
        "cellView": "form"
      },
      "source": [
        "#@title Preprocessing\n",
        "! wget https://sourceforge.net/projects/wordlist/files/speller/2020.12.07/wordlist-en_US-large-2020.12.07.zip\n",
        "\n",
        "! unzip wordlist-en_US-large-2020.12.07.zip\n",
        "\n",
        "def t(str):\n",
        "    return str[0]+str[1]\n",
        "def pig_latinize(word):\n",
        "    lst = ['sh', 'gl', 'ch', 'ph', 'tr', 'br', 'fr', 'bl', 'gr', 'st', 'sl', 'cl', 'pl', 'fl']\n",
        "    # sentence = input('Type what you would like translated into pig-latin and press ENTER: ')\n",
        "    # sentence = sentence.split()\n",
        "    i = word\n",
        "    if i[0] in ['a', 'e', 'i', 'o', 'u']:\n",
        "        word = i+'ay'\n",
        "    elif t(i) in lst:\n",
        "        word = i[2:]+i[:2]+'ay'\n",
        "    elif i.isalpha() == False:\n",
        "        word = i\n",
        "    else:\n",
        "        word = i[1:]+i[0]+'ay'\n",
        "    return word\n",
        "\n",
        "def read_data():\n",
        "    # data_folder = 'scowl-2020.12.07/final'\n",
        "    word_list = []\n",
        "    # for file_ in os.listdir(data_folder):\n",
        "    #     if 'american-words' in file_:\n",
        "    with open('en_US-large.txt') as f:\n",
        "        word_list.extend(f.readlines())\n",
        "\n",
        "    clean_wordlist = [unidecode.unidecode(w.strip().lower()) for w in word_list if w.strip().isalpha() and len(w.strip())>2 and len(w.strip())<6]\n",
        "\n",
        "    data = []\n",
        "    for word in clean_wordlist:\n",
        "        data.append(word + ' ' + pig_latinize(word))\n",
        "\n",
        "    return data\n",
        "\n",
        "def tokenize_nmt(text, num_examples=None):\n",
        "    \"\"\"Tokenize the English-French dataset.\"\"\"\n",
        "    source, target = [], []\n",
        "    source_char_set = set()\n",
        "    target_char_set = set()\n",
        "    for i, line in enumerate(text):\n",
        "        if num_examples and i > num_examples:\n",
        "            break\n",
        "        parts = line.split(' ')\n",
        "        # parts = line.split('\\t')\n",
        "        if len(parts) == 2:\n",
        "            src_txt, tgt_txt = parts\n",
        "            cur_src, cur_tgt = [], []\n",
        "            for c in src_txt:\n",
        "                cur_src.append(c)\n",
        "                source_char_set.add(c)\n",
        "            for c in tgt_txt:\n",
        "                cur_tgt.append(c)\n",
        "                target_char_set.add(c)\n",
        "            source.append(cur_src)\n",
        "            target.append(cur_tgt)\n",
        "\n",
        "    special_tokens = ['<eos>', '<bos>', '<pad>']\n",
        "    for tok in special_tokens:\n",
        "        source_char_set.add(tok)\n",
        "        target_char_set.add(tok)    \n",
        "    return source, target, sorted(list(source_char_set)), sorted(list(target_char_set)) "
      ],
      "execution_count": null,
      "outputs": []
    },
    {
      "cell_type": "markdown",
      "metadata": {
        "id": "8QJYIXgwBBjB"
      },
      "source": [
        "The following cell retrieves about 29,000 random English words and their Pig Latin translations. We then tokenize each word and its translation; in this case, our tokens are characters. We also create vocabularies for the source and target languages; and a two-way mapping for each (index to token and token to index). Finally, we pick the value for `NUM_STEPS` as the size of the largest sequence in either language. This value would mark the maximum size of the sequence accepted by our models.  "
      ]
    },
    {
      "cell_type": "code",
      "metadata": {
        "id": "lvw_b22Rh1qT"
      },
      "source": [
        "data = read_data()\n",
        "\n",
        "source, target, source_vocab, target_vocab = tokenize_nmt(data)\n",
        "\n",
        "source_idx2token = dict((i, char) for i, char in enumerate(source_vocab))\n",
        "target_idx2token = dict((i, char) for i, char in enumerate(target_vocab))\n",
        "source_vocab = dict((char, i) for i, char in enumerate(source_vocab))\n",
        "target_vocab = dict((char, i) for i, char in enumerate(target_vocab))\n",
        "\n",
        "NUM_STEPS = max(max([len(s) for s in source]), max([len(t) for t in target]))"
      ],
      "execution_count": null,
      "outputs": []
    },
    {
      "cell_type": "markdown",
      "metadata": {
        "origin_pos": 12,
        "id": "ve74aqidfOua"
      },
      "source": [
        "### Padding\n",
        "\n",
        "The input sequences to our model can vary in length, so it is often convenient to have a consistent length among all inputs to the model (This is not required by recurrent models, but makes it easier to control minibatch size). If our defined maximum sequence length is $M$ and a given input sequence is less than that, then we pad it with zeros (our \"special padding symbol:, until its length becomes $M$.      \n",
        "\n"
      ]
    },
    {
      "cell_type": "markdown",
      "metadata": {
        "id": "P6AINYCVDp6l"
      },
      "source": [
        "#### Exercise 6\n",
        "\n",
        "Implement a function below that performs truncation and padding based on a list of tokens (characters) `line` given to it.  "
      ]
    },
    {
      "cell_type": "code",
      "metadata": {
        "origin_pos": 15,
        "tab": [
          "pytorch"
        ],
        "id": "R6x0WGjpfOue"
      },
      "source": [
        "def truncate_pad(line, num_steps, padding_token):\n",
        "    \"\"\"Truncate or pad sequences.\"\"\"\n",
        "    ####################################################################\n",
        "    # Fill in missing code below (...),\n",
        "    # then remove or comment the line below to test your function\n",
        "    raise NotImplementedError(\"Truncate and Pad\")\n",
        "    ####################################################################\n",
        "    \n",
        "    # Truncate\n",
        "    if ...:\n",
        "        return ...  \n",
        "    \n",
        "    # Pad\n",
        "    number_of_pad_tokens = ...\n",
        "    padding_list = ...\n",
        "\n",
        "    return line + padding_list\n",
        "\n",
        "# # Uncomment to run\n",
        "# t1 = ['e', 't', 'u', 'i', 's']\n",
        "# input = [source_vocab[c] for c in t1]\n",
        "# print('Input test: ', t1)\n",
        "# o1 = truncate_pad(input, 10, source_vocab['<pad>'])\n",
        "# x = [source_idx2token[i] for i in o1]\n",
        "# print(x)\n",
        "# o1 = truncate_pad(input, 1, source_vocab['<pad>'])\n",
        "# x = [source_idx2token[i] for i in o1]\n",
        "# print(x)\n",
        "# o1 = truncate_pad(input, 5, source_vocab['<pad>'])\n",
        "# x = [source_idx2token[i] for i in o1]\n",
        "# print(x)"
      ],
      "execution_count": null,
      "outputs": []
    },
    {
      "cell_type": "markdown",
      "metadata": {
        "id": "StczcLzBYN6G"
      },
      "source": [
        "Sample Output:\n",
        "\n",
        "\n",
        "\n",
        "```\n",
        "Input test:  ['e', 't', 'u', 'i', 's']\n",
        "['e', 't', 'u', 'i', 's', '<pad>', '<pad>', '<pad>', '<pad>', '<pad>']\n",
        "['e']\n",
        "['e', 't', 'u', 'i', 's']\n",
        "```\n",
        "\n"
      ]
    },
    {
      "cell_type": "markdown",
      "metadata": {
        "id": "UYVxmFhQh_eB"
      },
      "source": [
        "[*Click for solution*](https://github.com/CIS-522/course-content/blob/main/tutorials/W9_RNN/solutions/W9_Tutorial2_Solution_Ex06.py)"
      ]
    },
    {
      "cell_type": "code",
      "metadata": {
        "origin_pos": 17,
        "tab": [
          "pytorch"
        ],
        "id": "KbgiRfyIfOuj",
        "cellView": "form"
      },
      "source": [
        "#@title Dataloaders\n",
        "\n",
        "def build_array(data, vocab, num_steps):\n",
        "    \"\"\"Transform text sequences of machine translation into minibatches.\"\"\"\n",
        "    complete_data, lengths = [], []\n",
        "    for lines in data:\n",
        "        lines = [vocab[l] for l in lines]\n",
        "        lines.append(vocab['<eos>'])\n",
        "        array = torch.tensor(truncate_pad(lines, num_steps, vocab['<pad>']))\n",
        "        valid_len = (array != vocab['<pad>']).type(torch.int32).sum(0)\n",
        "        complete_data.append(array)\n",
        "        lengths.append(valid_len.item())\n",
        "    return torch.stack(complete_data), torch.tensor(lengths)\n",
        "\n",
        "class MTDataset(torch.utils.data.Dataset):\n",
        "    'Characterizes a dataset for PyTorch'\n",
        "\n",
        "    def __init__(self, source, target):\n",
        "        'Initialization'\n",
        "        source_data, source_lens = build_array(source, source_vocab, NUM_STEPS)        \n",
        "        target_data, target_lens = build_array(target, target_vocab, NUM_STEPS)\n",
        "        self.source = source_data\n",
        "        self.source_len = source_lens\n",
        "        self.target = target_data\n",
        "        self.target_len = target_lens\n",
        "\n",
        "    def __len__(self):\n",
        "        'Denotes the total number of samples'\n",
        "        return len(self.source)\n",
        "\n",
        "    def __getitem__(self, index):\n",
        "        'Generates one sample of data'\n",
        "        # Select sample\n",
        "        return self.source[index], self.source_len[index], self.target[index], self.target_len[index]"
      ],
      "execution_count": null,
      "outputs": []
    },
    {
      "cell_type": "markdown",
      "metadata": {
        "id": "46yWeKnsgVtQ"
      },
      "source": [
        "### Encoder and Decoder Architecture\n"
      ]
    },
    {
      "cell_type": "markdown",
      "metadata": {
        "id": "cARmwF5bFx65"
      },
      "source": [
        "#### Exercise 7\n",
        "\n",
        "Implement the forward functions for the Encoder and Decoder of the seq2seq model as directed. \n",
        "\n",
        "The Encoder model is very similar to what you have seen so far:\n",
        "* Get the embedding of the input `X`\n",
        "* Pass `X` through the recurrent unit. You can define your own initial hidden state, or omit it (in which case a tensor of zeros is used). \n",
        "* There is no linear layer \n",
        "\n",
        "You will notice that the Decoder also contains an embedding layer; something that wasn't mentioned during the initial explanation of the seq2seq model. This is because we want to apply \"teacher forcing\" to this problem. Teacher forcing is a strategy for training RNNs that uses model output from a prior time step as an input. Specifically, \n",
        "* Get the embedding of `X` (which is actually output from the previous time step)\n",
        "* Concatenate it with the previous hidden state\n",
        "* To the recurrent unit of the decoder pass this concatenation as \"input\"; and pass the previous hidden state as \"hidden\"\n",
        "* Pass the output of the recurrent unit through the linear layer     \n",
        "\n",
        "\n"
      ]
    },
    {
      "cell_type": "code",
      "metadata": {
        "id": "kU4cY7gtgZgo"
      },
      "source": [
        "class Encoder(nn.Module):\n",
        "    \"\"\"The RNN encoder for sequence to sequence learning.\"\"\"\n",
        "    def __init__(self, vocab_size, embed_size, num_hiddens, num_layers,\n",
        "                 dropout=0):\n",
        "        super(Encoder, self).__init__()\n",
        "        \n",
        "        self.embedding = nn.Embedding(vocab_size, embed_size)\n",
        "        self.gru = nn.GRU(embed_size, num_hiddens, num_layers,\n",
        "                          dropout=dropout)\n",
        "\n",
        "    def forward(self, X):\n",
        "        \"\"\"Hint: always make sure your sizes are correct\"\"\"\n",
        "        ####################################################################\n",
        "        # Fill in missing code below (...),\n",
        "        # then remove or comment the line below to test your function\n",
        "        raise NotImplementedError(\"Encoder Forward\")\n",
        "        ####################################################################\n",
        "        \n",
        "        # The output `X` shape: (`batch_size`, `num_steps`, `embed_size`)\n",
        "        \n",
        "        # Embedding layer + reshape\n",
        "        X = ...\n",
        "\n",
        "        # Recurrent unit\n",
        "        \n",
        "        # `output` shape: (`num_steps`, `batch_size`, `num_hiddens`)\n",
        "        # `state` shape: (`num_layers`, `batch_size`, `num_hiddens`)\n",
        "        return output, state\n",
        "\n",
        "\n",
        "class Decoder(nn.Module):\n",
        "    \"\"\"The RNN decoder for sequence to sequence learning.\"\"\"\n",
        "    def __init__(self, vocab_size, embed_size, num_hiddens, num_layers,\n",
        "                 dropout=0):\n",
        "        super(Decoder, self).__init__()\n",
        "        self.embedding = nn.Embedding(vocab_size, embed_size)\n",
        "        \n",
        "        self.gru = nn.GRU(embed_size + num_hiddens, num_hiddens, num_layers,\n",
        "                          dropout=dropout)\n",
        "        self.dense = nn.Linear(num_hiddens, vocab_size)\n",
        "        \n",
        "    def init_state(self, enc_outputs):\n",
        "        return enc_outputs[1]\n",
        "\n",
        "    def forward(self, X, state):\n",
        "        \"\"\"Hint: always make sure your sizes are correct\"\"\"\n",
        "        ####################################################################\n",
        "        # Fill in missing code below (...),\n",
        "        # then remove or comment the line below to test your function\n",
        "        raise NotImplementedError(\"Decoder Forward\")\n",
        "        ####################################################################\n",
        "\n",
        "\n",
        "        # The output `X` shape: (`num_steps`, `batch_size`, `embed_size`)\n",
        "        X = ...\n",
        "        # Broadcast `context` so it has the same `num_steps` as `X`\n",
        "        context = ...\n",
        "        \n",
        "        # Concatenate X and context \n",
        "        X_and_context = ...\n",
        "        \n",
        "        # Recurrent unit\n",
        "        output, state = self.rnn(X_and_context, state)\n",
        "        \n",
        "        # Linear layer\n",
        "        output = ...\n",
        "\n",
        "        # `output` shape: (`batch_size`, `num_steps`, `vocab_size`)\n",
        "        # `state` shape: (`num_layers`, `batch_size`, `num_hiddens`)\n",
        "        return output, state\n",
        "\n",
        "# # Uncomment to run\n",
        "# encoder = Encoder(1000, 300, 100, 2, 0.1)\n",
        "# decoder = Decoder(1000, 300, 100, 2, 0.1)\n",
        "# print(encoder)\n",
        "# print(decoder)"
      ],
      "execution_count": null,
      "outputs": []
    },
    {
      "cell_type": "markdown",
      "metadata": {
        "id": "tSGF3zG6at6j"
      },
      "source": [
        "Sample Output:\n",
        "\n",
        "```\n",
        "Encoder(\n",
        "  (embedding): Embedding(1000, 300)\n",
        "  (gru): GRU(300, 100, num_layers=2, dropout=0.1)\n",
        ")\n",
        "Decoder(\n",
        "  (embedding): Embedding(1000, 300)\n",
        "  (gru): GRU(400, 100, num_layers=2, dropout=0.1)\n",
        "  (dense): Linear(in_features=100, out_features=1000, bias=True)\n",
        "  (dropout): Dropout(p=0.25, inplace=False)\n",
        ")\n",
        "```\n",
        "\n"
      ]
    },
    {
      "cell_type": "markdown",
      "metadata": {
        "id": "1gpYYzkWiB6h"
      },
      "source": [
        "[*Click for solution*](https://github.com/CIS-522/course-content/blob/main/tutorials/W9_RNN/solutions/W9_Tutorial2_Solution_Ex07.py)"
      ]
    },
    {
      "cell_type": "code",
      "metadata": {
        "id": "TceYwj1cGUas"
      },
      "source": [
        "class EncoderDecoder(nn.Module):\n",
        "    \"\"\"The base class for the encoder-decoder architecture.\"\"\"\n",
        "    def __init__(self, encoder, decoder):\n",
        "        super(EncoderDecoder, self).__init__()\n",
        "        self.encoder = encoder\n",
        "        self.decoder = decoder\n",
        "\n",
        "    def forward(self, enc_X, dec_X):\n",
        "        enc_outputs = self.encoder(enc_X)\n",
        "        dec_state = self.decoder.init_state(enc_outputs)\n",
        "        return self.decoder(dec_X, dec_state)"
      ],
      "execution_count": null,
      "outputs": []
    },
    {
      "cell_type": "markdown",
      "metadata": {
        "id": "wvGL0TXOlSC_"
      },
      "source": [
        "### Training"
      ]
    },
    {
      "cell_type": "code",
      "metadata": {
        "id": "XIHjicCUgrOT",
        "cellView": "form"
      },
      "source": [
        "#@title Masked Loss Function\n",
        "def sequence_mask(X, valid_len, value=0):\n",
        "    \"\"\"Mask irrelevant entries in sequences.\"\"\"\n",
        "    maxlen = X.size(1)\n",
        "    mask = torch.arange((maxlen), dtype=torch.float32,\n",
        "                        device=X.device)[None, :] < valid_len[:, None]\n",
        "    X[~mask] = value\n",
        "    return X\n",
        "\n",
        "class MaskedSoftmaxCELoss(nn.CrossEntropyLoss):\n",
        "    \"\"\"The softmax cross-entropy loss with masks.\"\"\"\n",
        "    # `pred` shape: (`batch_size`, `num_steps`, `vocab_size`)\n",
        "    # `label` shape: (`batch_size`, `num_steps`)\n",
        "    # `valid_len` shape: (`batch_size`,)\n",
        "    def forward(self, pred, label, valid_len):\n",
        "        weights = torch.ones_like(label)\n",
        "        weights = sequence_mask(weights, valid_len)\n",
        "        self.reduction='none'\n",
        "        unweighted_loss = super(MaskedSoftmaxCELoss, self).forward(\n",
        "            pred.permute(0, 2, 1), label)\n",
        "        weighted_loss = (unweighted_loss * weights).mean(dim=1)\n",
        "        return weighted_loss"
      ],
      "execution_count": null,
      "outputs": []
    },
    {
      "cell_type": "code",
      "metadata": {
        "origin_pos": 32,
        "tab": [
          "pytorch"
        ],
        "id": "XGk5edV6g7E7",
        "cellView": "form"
      },
      "source": [
        "#@title Train\n",
        "def train_seq2seq(net, data_loader, lr, num_epochs, tgt_vocab, device):\n",
        "    \"\"\"Train a model for sequence to sequence.\"\"\"\n",
        "    def xavier_init_weights(m):\n",
        "        if type(m) == nn.Linear:\n",
        "            nn.init.xavier_uniform_(m.weight)\n",
        "        if type(m) == nn.GRU:\n",
        "            for param in m._flat_weights_names:\n",
        "                if \"weight\" in param:\n",
        "                    nn.init.xavier_uniform_(m._parameters[param])\n",
        "    net.apply(xavier_init_weights)\n",
        "    net.to(device)\n",
        "    optimizer = torch.optim.Adam(net.parameters(), lr=lr)\n",
        "    loss = MaskedSoftmaxCELoss()\n",
        "    \n",
        "    dataset = MTDataset(source, target)\n",
        "    dataloader = torch.utils.data.DataLoader(dataset, batch_size=64)\n",
        "\n",
        "    net.train()\n",
        "    animator = d2l.Animator(xlabel='epoch', ylabel='loss',\n",
        "                            xlim=[10, num_epochs])\n",
        "    for epoch in range(num_epochs):\n",
        "        # TODO: without d2l?\n",
        "        timer = d2l.Timer()\n",
        "        metric = d2l.Accumulator(2)  # Sum of training loss, no. of tokens\n",
        "        for batch in dataloader:\n",
        "            X, X_valid_len, Y, Y_valid_len = [x.to(device) for x in batch]\n",
        "            bos = torch.tensor([tgt_vocab['<bos>']] * Y.shape[0],\n",
        "                               device=device).reshape(-1, 1)\n",
        "            \n",
        "            dec_input = torch.cat([bos, Y[:, :-1]], 1)  # Teacher forcing\n",
        "            Y_hat, _ = net(X, dec_input)\n",
        "            l = loss(Y_hat, Y, Y_valid_len)\n",
        "            l.sum().backward()  # Make the loss scalar for `backward`\n",
        "            \n",
        "            # torch.nn.utils.clip_grad_norm_(parameters=net.parameters(), max_norm=1)\n",
        "            grad_clipping(net, 1)\n",
        "            num_tokens = Y_valid_len.sum()\n",
        "            optimizer.step()\n",
        "            with torch.no_grad():\n",
        "                metric.add(l.sum(), num_tokens)\n",
        "\n",
        "        if (epoch + 1) % 10 == 0:\n",
        "            animator.add(epoch + 1, (metric[0] / metric[1],))\n",
        "    print(f'loss {metric[0] / metric[1]:.3f}, {metric[1] / timer.stop():.1f} '\n",
        "          f'tokens/sec on {str(device)}')"
      ],
      "execution_count": null,
      "outputs": []
    },
    {
      "cell_type": "markdown",
      "metadata": {
        "id": "_AFgnQs8B032"
      },
      "source": [
        "This cell below, takes about 10 minutes to run. "
      ]
    },
    {
      "cell_type": "code",
      "metadata": {
        "id": "hEwHHZM69cQO"
      },
      "source": [
        "embed_size, num_hiddens, num_layers, dropout = 32, 32, 2, 0.1\n",
        "\n",
        "lr, num_epochs, device = 0.005, 150, torch.device(\"cuda\" if torch.cuda.is_available() else \"cpu\")\n",
        "\n",
        "dataset = MTDataset(source, target)\n",
        "dataloader = torch.utils.data.DataLoader(dataset, batch_size=64)\n",
        "\n",
        "encoder = Encoder(\n",
        "    len(source_vocab), embed_size, num_hiddens, num_layers, dropout)\n",
        "decoder = Decoder(\n",
        "    len(target_vocab), embed_size, num_hiddens, num_layers, dropout)\n",
        "net = EncoderDecoder(encoder, decoder)\n",
        "train_seq2seq(net, dataloader, lr, num_epochs, target_vocab, device)"
      ],
      "execution_count": null,
      "outputs": []
    },
    {
      "cell_type": "markdown",
      "metadata": {
        "id": "XeqT8Qk6nr_P"
      },
      "source": [
        "### Evaluation\n",
        "\n",
        "How do we know that we have obtained a good translation? BLEU (Bilingual Evaluation Understudy) is a metric that was developed specifically for this purpose. If you're curious, you can check out the details of the metric [here](https://d2l.ai/chapter_recurrent-modern/seq2seq.html?highlight=bleu#evaluation-of-predicted-sequences). For now, all you need to know is that a BLEU score lies between 0 and 1; the closer you are to 1; the better your translation is.   "
      ]
    },
    {
      "cell_type": "code",
      "metadata": {
        "origin_pos": 39,
        "tab": [
          "pytorch"
        ],
        "id": "53e59NY1g7FA",
        "cellView": "form"
      },
      "source": [
        "#@title Compute BLEU\n",
        "def bleu(pred_seq, label_seq, k):  #@save\n",
        "    \"\"\"Compute the BLEU.\"\"\"\n",
        "    pred_tokens, label_tokens = [c for c in pred_seq], [c for c in label_seq]\n",
        "    len_pred, len_label = len(pred_tokens), len(label_tokens)\n",
        "    score = math.exp(min(0, 1 - len_label / len_pred))\n",
        "    for n in range(1, k + 1):\n",
        "        num_matches, label_subs = 0, collections.defaultdict(int)\n",
        "        for i in range(len_label - n + 1):\n",
        "            label_subs[''.join(label_tokens[i: i + n])] += 1\n",
        "        for i in range(len_pred - n + 1):\n",
        "            if label_subs[''.join(pred_tokens[i: i + n])] > 0:\n",
        "                num_matches += 1\n",
        "                label_subs[''.join(pred_tokens[i: i + n])] -= 1\n",
        "        score *= math.pow(num_matches / (len_pred - n + 1), math.pow(0.5, n))\n",
        "    return score"
      ],
      "execution_count": null,
      "outputs": []
    },
    {
      "cell_type": "markdown",
      "metadata": {
        "id": "Hwpllf_QG1QF"
      },
      "source": [
        "#### Exercise 8\n",
        "\n",
        "Implement a function to make a translation of a given word. "
      ]
    },
    {
      "cell_type": "code",
      "metadata": {
        "origin_pos": 37,
        "tab": [
          "pytorch"
        ],
        "id": "YQIrj4vAg7E-"
      },
      "source": [
        "def predict_seq2seq(net, src_sentence, device):\n",
        "    \"\"\"Predict for sequence to sequence.\"\"\"\n",
        "\n",
        "    ####################################################################\n",
        "    # Fill in missing code below (...),\n",
        "    # then remove or comment the line below to test your function\n",
        "    raise NotImplementedError(\"Seq2seq prediction\")\n",
        "    ####################################################################\n",
        "\n",
        "    # Set `net` to eval mode for inference\n",
        "    net.eval()\n",
        "\n",
        "    # Get source language tokens \n",
        "    src_tokens = [source_vocab[c] for c in src_sentence.lower()] + [source_vocab['<eos>']]\n",
        "    # Truncate/pad the tokens\n",
        "    src_tokens = ...\n",
        "    # Create encoder tensor of the right size \n",
        "    enc_X = torch.unsqueeze(torch.tensor(src_tokens, dtype=torch.long, device=device), dim=0)\n",
        "    \n",
        "    # Pass the source sentence tensor to the encoder\n",
        "    enc_outputs = ...\n",
        "\n",
        "    # Get the encoder hidden state to pass to the decoder\n",
        "    dec_state = ...\n",
        "    \n",
        "    # Create an input with the <BOS> tag to be passed to the decoder (part of teacher forcing)\n",
        "    dec_X = torch.unsqueeze(torch.tensor([target_vocab['<bos>']], dtype=torch.long, device=device), dim=0)\n",
        "    output_seq = []\n",
        "    \n",
        "    # Predict characters for a maximum of the max sequence length\n",
        "    for _ in range(NUM_STEPS):\n",
        "\n",
        "        # Pass the decoder input + hidden state to the decoder\n",
        "        Y, dec_state = ...\n",
        "\n",
        "        # We use the token with the highest prediction likelihood as the input\n",
        "        # of the decoder at the next time step\n",
        "        dec_X = ...\n",
        "        pred = dec_X.squeeze(dim=0).type(torch.int32).item()\n",
        "        \n",
        "        # Once the end-of-sequence token is predicted, the generation of the\n",
        "        # output sequence is complete\n",
        "        if pred == target_vocab['<eos>']:\n",
        "            ...\n",
        "        \n",
        "        output_seq.append(pred)\n",
        "    return output_seq"
      ],
      "execution_count": null,
      "outputs": []
    },
    {
      "cell_type": "code",
      "metadata": {
        "id": "w0ekGmulmffM"
      },
      "source": [
        "engs = ['middle', 'funny', 'hour', 'igloo', 'vendor', 'moody']\n",
        "pig_latin = ['iddlemay', 'unnyfay', 'ourhay', 'iglooway', 'endorvay', 'oodymay']\n",
        "\n",
        "column_width = 18\n",
        "    \n",
        "print('English'.ljust(column_width) + 'Pig Latin'.ljust(column_width) + 'Translation'.ljust(column_width) + 'BLEU\\n--------------------------------------------------------------')\n",
        "\n",
        "for eng, pig in zip(engs, pig_latin):\n",
        "    translation = predict_seq2seq(net, eng)\n",
        "    translation = ''.join([target_idx2token[i] for i in translation])\n",
        "    print(eng.ljust(column_width) + pig.ljust(column_width) + translation.ljust(column_width) + '%.3f' % bleu(translation, pig, k=2))"
      ],
      "execution_count": null,
      "outputs": []
    },
    {
      "cell_type": "markdown",
      "metadata": {
        "id": "dsFkuwTiiFQT"
      },
      "source": [
        "[*Click for solution*](https://github.com/CIS-522/course-content/blob/main/tutorials/W9_RNN/solutions/W9_Tutorial2_Solution_Ex08.py)"
      ]
    },
    {
      "cell_type": "markdown",
      "metadata": {
        "id": "7-liy3a_3Nz_"
      },
      "source": [
        "Besides machine translation, can you think of another application where the encoder-decoder architecture can be applied?"
      ]
    },
    {
      "cell_type": "code",
      "metadata": {
        "id": "eBY02PMv43wY",
        "cellView": "form"
      },
      "source": [
        "seq2seq_application = '' #@param {type: \"string\"}"
      ],
      "execution_count": null,
      "outputs": []
    },
    {
      "cell_type": "markdown",
      "metadata": {
        "id": "L5LnHDFOENPX"
      },
      "source": [
        "*Estimated time: 120 minutes since start*"
      ]
    },
    {
      "cell_type": "markdown",
      "metadata": {
        "id": "_hiELIhAoI_m"
      },
      "source": [
        "---\n",
        "# Section 3. Societal Issues: Hate Speech Classification Challenges\n"
      ]
    },
    {
      "cell_type": "code",
      "metadata": {
        "id": "SjpsTqxB2enL",
        "cellView": "form"
      },
      "source": [
        "#@title Video: Hate Speech and Society\n",
        "try: t5;\n",
        "except NameError: t5=time.time()\n",
        "\n",
        "video = YouTubeVideo(id=\"3LmK5jziW64\", width=854, height=480, fs=1)\n",
        "print(\"Video available at https://youtube.com/watch?v=\" + video.id)\n",
        "\n",
        "video"
      ],
      "execution_count": null,
      "outputs": []
    },
    {
      "cell_type": "markdown",
      "metadata": {
        "id": "_T3ASFgnByTb"
      },
      "source": [
        "Social media platforms such as Facebook and Twitter have been considered \"de facto public squares.\"  There has been much public debate among legal scholars, tech executives, and governments on how best to address hate speech on these platforms.  Read the following article as a primer on hate speech and social media.\n",
        "\n",
        "\"Social Media and Online Speech: How Should Countries Regulate Tech Giants?\"  \n",
        "https://www.cfr.org/in-brief/social-media-and-online-speech-how-should-countries-regulate-tech-giants\n",
        "\n",
        "*Council on Foreign Relations, 2021* [4-minute read]\n",
        "\n",
        "Discuss with your pod and summarize the main points of the article in one paragraph (~5 sentences)."
      ]
    },
    {
      "cell_type": "markdown",
      "metadata": {
        "id": "T7NSFhI5Edni"
      },
      "source": [
        "*Estimated time: 135 minutes since start*"
      ]
    },
    {
      "cell_type": "markdown",
      "metadata": {
        "id": "X-hYAtkAoMyo"
      },
      "source": [
        "---\n",
        "# Final Project \n",
        "\n",
        "The final project is a chance for you to use what you learned in this course.\n",
        "\n",
        "*   The key is to find an interesting project for which you can get data; See examples of AI for social good\n",
        "*   You should be getting feedback from your pod TA every week\n",
        "so there are no surprises when the project grade comes\n",
        "* See the [handout](https://colab.research.google.com/drive/1_aRUKYeFDdYluJScutIwwT_W3NmtjvJx?authuser=1#scrollTo=X-hYAtkAoMyo&line=9&uniqifier=1\\) for details\n",
        "\n",
        "Now: meet with your pod to discuss ideas for the final project and divide yourselves into final project groups of 2 or 3 people."
      ]
    },
    {
      "cell_type": "markdown",
      "metadata": {
        "id": "gbgTqgB5rH_W"
      },
      "source": [
        "---\n",
        "# Wrap up\n"
      ]
    },
    {
      "cell_type": "code",
      "metadata": {
        "id": "NJ61Rzja3QFR",
        "cellView": "form"
      },
      "source": [
        "#@title Video: Wrap Up\n",
        "try: t6;\n",
        "except NameError: t6=time.time()\n",
        "\n",
        "video = YouTubeVideo(id=\"bnnxSA_mDNA\", width=854, height=480, fs=1)\n",
        "print(\"Video available at https://youtube.com/watch?v=\" + video.id)\n",
        "\n",
        "video\n"
      ],
      "execution_count": null,
      "outputs": []
    },
    {
      "cell_type": "markdown",
      "metadata": {
        "id": "dIhJv7ycxxsW"
      },
      "source": [
        "On your own (for fun; you don't need to hand in anything): take a look at some of the many fun applications on the web. For each one, guess which architecture it is using.\n",
        "\n",
        "* Speech to text: [alien maths](https://www.alienmaths.com/)\n",
        "\n",
        "* Image captioning:  [google images](https://blog.google/products/search/get-more-useful-information-captions-google-images/)"
      ]
    },
    {
      "cell_type": "code",
      "metadata": {
        "id": "98YXpSntrY6k",
        "cellView": "form"
      },
      "source": [
        "#@markdown #Run Cell to Show Airtable Form\n",
        "#@markdown ##**Confirm your answers and then click \"Submit\"**\n",
        "\n",
        "import time\n",
        "import numpy as np\n",
        "import urllib.parse\n",
        "from IPython.display import IFrame\n",
        "def prefill_form(src, fields: dict):\n",
        "  '''\n",
        "  src: the original src url to embed the form\n",
        "  fields: a dictionary of field:value pairs,\n",
        "  e.g. {\"pennkey\": my_pennkey, \"location\": my_location}\n",
        "  '''\n",
        "  prefill_fields = {}\n",
        "  for key in fields:\n",
        "      new_key = 'prefill_' + key\n",
        "      prefill_fields[new_key] = fields[key]\n",
        "  prefills = urllib.parse.urlencode(prefill_fields)\n",
        "  src = src + prefills\n",
        "  return src\n",
        "\n",
        "\n",
        "#autofill time if it is not present\n",
        "try: t0;\n",
        "except NameError: t0 = time.time()\n",
        "try: t1;\n",
        "except NameError: t1 = time.time()\n",
        "try: t2;\n",
        "except NameError: t2 = time.time()\n",
        "try: t3;\n",
        "except NameError: t3 = time.time()\n",
        "try: t4;\n",
        "except NameError: t4 = time.time()\n",
        "try: t5;\n",
        "except NameError: t5 = time.time()\n",
        "try: t6;\n",
        "except NameError: t6 = time.time()\n",
        "\n",
        "#autofill fields if they are not present\n",
        "#a missing pennkey and pod will result in an Airtable warning\n",
        "#which is easily fixed user-side.\n",
        "try: my_pennkey;\n",
        "except NameError: my_pennkey = \"\"\n",
        "try: my_pod;\n",
        "except NameError: my_pod = \"Select\"\n",
        "try: lstm_range;\n",
        "except NameError: lstm_range = \"\"\n",
        "try: generation_output;\n",
        "except NameError: generation_output = \"\"\n",
        "try: generation_quality;\n",
        "except NameError: generation_quality = \"\"\n",
        "try: seq2seq_application;\n",
        "except NameError: seq2seq_application = \"\"\n",
        "try: seq_label_evaluate;\n",
        "except NameError: seq_label_evaluate = \"\"\n",
        "try: seq_label_mistakes;\n",
        "except NameError: seq_label_mistakes = \"\"\n",
        "\n",
        "times = np.array([t1,t2,t3,t4,t5,t6])-t0\n",
        "\n",
        "fields = {\n",
        "        \"my_pennkey\": my_pennkey,\n",
        "        \"my_pod\": my_pod, \n",
        "        \"lstm_range\": lstm_range,\n",
        "        \"generation_output\": generation_output,\n",
        "        \"generation_quality\": generation_quality,\n",
        "        \"seq2seq_application\": seq2seq_application,\n",
        "        \"seq_label_evaluate\": seq_label_evaluate,\n",
        "        \"seq_label_mistakes\": seq_label_mistakes,\n",
        "        \"cumulative_times\": times\n",
        "}\n",
        "\n",
        "src = \"https://airtable.com/embed/shr76QznLcC66uGol?\"\n",
        "\n",
        "display(IFrame(src = prefill_form(src, fields), width = 800, height = 400))\n"
      ],
      "execution_count": null,
      "outputs": []
    },
    {
      "cell_type": "markdown",
      "metadata": {
        "id": "QE01fxjz53zd"
      },
      "source": [
        "## Feedback\n",
        "How could this session have been better? How happy are you in your group? How do you feel right now?\n",
        "\n",
        "Feel free to use the embeded form below or use this link:\n",
        "<a target=\"_blank\" rel=\"noopener noreferrer\" href=\"https://airtable.com/shrNSJ5ECXhNhsYss\">https://airtable.com/shrNSJ5ECXhNhsYss</a>"
      ]
    },
    {
      "cell_type": "code",
      "metadata": {
        "id": "YJ_IvTLV5H-P"
      },
      "source": [
        "display(IFrame(src=\"https://airtable.com/embed/shrNSJ5ECXhNhsYss?backgroundColor=red\", width = 800, height = 400))"
      ],
      "execution_count": null,
      "outputs": []
    }
  ]
}